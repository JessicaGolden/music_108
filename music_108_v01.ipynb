{
 "cells": [
  {
   "cell_type": "code",
   "execution_count": 70,
   "metadata": {},
   "outputs": [
    {
     "name": "stdout",
     "output_type": "stream",
     "text": [
      "Collecting matplotlib\n",
      "  Downloading matplotlib-3.8.0-cp310-cp310-win_amd64.whl (7.6 MB)\n",
      "     ---------------------------------------- 0.0/7.6 MB ? eta -:--:--\n",
      "     - -------------------------------------- 0.3/7.6 MB 5.2 MB/s eta 0:00:02\n",
      "     ----- ---------------------------------- 1.1/7.6 MB 11.4 MB/s eta 0:00:01\n",
      "     -------- ------------------------------- 1.7/7.6 MB 15.2 MB/s eta 0:00:01\n",
      "     ----------- ---------------------------- 2.1/7.6 MB 11.3 MB/s eta 0:00:01\n",
      "     ----------------- ---------------------- 3.4/7.6 MB 14.4 MB/s eta 0:00:01\n",
      "     ---------------------- ----------------- 4.3/7.6 MB 15.3 MB/s eta 0:00:01\n",
      "     --------------------------- ------------ 5.3/7.6 MB 16.2 MB/s eta 0:00:01\n",
      "     -------------------------------- ------- 6.3/7.6 MB 16.7 MB/s eta 0:00:01\n",
      "     ---------------------------------------  7.5/7.6 MB 17.9 MB/s eta 0:00:01\n",
      "     ---------------------------------------  7.6/7.6 MB 18.1 MB/s eta 0:00:01\n",
      "     ---------------------------------------- 7.6/7.6 MB 15.8 MB/s eta 0:00:00\n",
      "Collecting kiwisolver>=1.0.1\n",
      "  Downloading kiwisolver-1.4.5-cp310-cp310-win_amd64.whl (56 kB)\n",
      "     ---------------------------------------- 0.0/56.1 kB ? eta -:--:--\n",
      "     ---------------------------------------- 56.1/56.1 kB 2.9 MB/s eta 0:00:00\n",
      "Collecting cycler>=0.10\n",
      "  Downloading cycler-0.12.0-py3-none-any.whl (8.2 kB)\n",
      "Collecting fonttools>=4.22.0\n",
      "  Downloading fonttools-4.43.1-cp310-cp310-win_amd64.whl (2.1 MB)\n",
      "     ---------------------------------------- 0.0/2.1 MB ? eta -:--:--\n",
      "     ----------------- ---------------------- 1.0/2.1 MB 20.0 MB/s eta 0:00:01\n",
      "     ---------------------------------------  2.1/2.1 MB 22.7 MB/s eta 0:00:01\n",
      "     ---------------------------------------- 2.1/2.1 MB 19.4 MB/s eta 0:00:00\n",
      "Collecting pillow>=6.2.0\n",
      "  Downloading Pillow-10.0.1-cp310-cp310-win_amd64.whl (2.5 MB)\n",
      "     ---------------------------------------- 0.0/2.5 MB ? eta -:--:--\n",
      "     -------------- ------------------------- 0.9/2.5 MB 19.0 MB/s eta 0:00:01\n",
      "     -------------------------------- ------- 2.0/2.5 MB 25.7 MB/s eta 0:00:01\n",
      "     ---------------------------------- ----- 2.2/2.5 MB 22.9 MB/s eta 0:00:01\n",
      "     ---------------------------------------- 2.5/2.5 MB 16.0 MB/s eta 0:00:00\n",
      "Requirement already satisfied: python-dateutil>=2.7 in c:\\users\\jessi\\appdata\\local\\packages\\pythonsoftwarefoundation.python.3.10_qbz5n2kfra8p0\\localcache\\local-packages\\python310\\site-packages (from matplotlib) (2.8.2)\n",
      "Collecting pyparsing>=2.3.1\n",
      "  Downloading pyparsing-3.1.1-py3-none-any.whl (103 kB)\n",
      "     ---------------------------------------- 0.0/103.1 kB ? eta -:--:--\n",
      "     ---------------------------------------- 103.1/103.1 kB ? eta 0:00:00\n",
      "Collecting contourpy>=1.0.1\n",
      "  Downloading contourpy-1.1.1-cp310-cp310-win_amd64.whl (477 kB)\n",
      "     ---------------------------------------- 0.0/478.0 kB ? eta -:--:--\n",
      "     ------------------------------------- 478.0/478.0 kB 29.2 MB/s eta 0:00:00\n",
      "Requirement already satisfied: numpy<2,>=1.21 in c:\\users\\jessi\\appdata\\local\\packages\\pythonsoftwarefoundation.python.3.10_qbz5n2kfra8p0\\localcache\\local-packages\\python310\\site-packages (from matplotlib) (1.24.2)\n",
      "Requirement already satisfied: packaging>=20.0 in c:\\users\\jessi\\appdata\\local\\packages\\pythonsoftwarefoundation.python.3.10_qbz5n2kfra8p0\\localcache\\local-packages\\python310\\site-packages (from matplotlib) (23.0)\n",
      "Requirement already satisfied: six>=1.5 in c:\\users\\jessi\\appdata\\local\\packages\\pythonsoftwarefoundation.python.3.10_qbz5n2kfra8p0\\localcache\\local-packages\\python310\\site-packages (from python-dateutil>=2.7->matplotlib) (1.16.0)\n",
      "Installing collected packages: pyparsing, pillow, kiwisolver, fonttools, cycler, contourpy, matplotlib\n",
      "Successfully installed contourpy-1.1.1 cycler-0.12.0 fonttools-4.43.1 kiwisolver-1.4.5 matplotlib-3.8.0 pillow-10.0.1 pyparsing-3.1.1\n"
     ]
    },
    {
     "name": "stderr",
     "output_type": "stream",
     "text": [
      "\n",
      "[notice] A new release of pip is available: 23.0.1 -> 23.2.1\n",
      "[notice] To update, run: C:\\Users\\Jessi\\AppData\\Local\\Microsoft\\WindowsApps\\PythonSoftwareFoundation.Python.3.10_qbz5n2kfra8p0\\python.exe -m pip install --upgrade pip\n"
     ]
    }
   ],
   "source": [
    "#!pip install -U python-dotenv\n",
    "#!pip install spotipy\n",
    "#!pip install matplotlib"
   ]
  },
  {
   "cell_type": "code",
   "execution_count": 1,
   "metadata": {},
   "outputs": [],
   "source": [
    "import pandas as pd\n",
    "import os\n",
    "import plotly.express as px\n",
    "import spotipy\n",
    "from spotipy import oauth2\n",
    "from dotenv import load_dotenv\n",
    "import os\n",
    "from spotipy.oauth2 import SpotifyClientCredentials"
   ]
  },
  {
   "cell_type": "code",
   "execution_count": 3,
   "metadata": {},
   "outputs": [],
   "source": [
    "path = os.getcwd()\n",
    "\n",
    "# setting up authentication for spotipy\n",
    "load_dotenv(dotenv_path=path + f\"\\env_vars.env\")\n",
    "os.environ['SPOTIPY_CLIENT_ID'] = os.environ.get('SPOTIPY_CLIENT_ID')\n",
    "os.environ['SPOTIPY_CLIENT_SECRET'] = os.environ.get('SPOTIPY_CLIENT_SECRET')\n",
    "sp = spotipy.Spotify(client_credentials_manager=SpotifyClientCredentials())"
   ]
  },
  {
   "cell_type": "markdown",
   "metadata": {},
   "source": [
    "### Part 1: Loading in the Data\n",
    "#### We will load in my personal data blah blah, you can replace the string with your file path to analyze your music"
   ]
  },
  {
   "cell_type": "code",
   "execution_count": 4,
   "metadata": {},
   "outputs": [
    {
     "name": "stdout",
     "output_type": "stream",
     "text": [
      "(33284, 4)\n"
     ]
    },
    {
     "data": {
      "text/html": [
       "<div>\n",
       "<style scoped>\n",
       "    .dataframe tbody tr th:only-of-type {\n",
       "        vertical-align: middle;\n",
       "    }\n",
       "\n",
       "    .dataframe tbody tr th {\n",
       "        vertical-align: top;\n",
       "    }\n",
       "\n",
       "    .dataframe thead th {\n",
       "        text-align: right;\n",
       "    }\n",
       "</style>\n",
       "<table border=\"1\" class=\"dataframe\">\n",
       "  <thead>\n",
       "    <tr style=\"text-align: right;\">\n",
       "      <th></th>\n",
       "      <th>endTime</th>\n",
       "      <th>artistName</th>\n",
       "      <th>trackName</th>\n",
       "      <th>msPlayed</th>\n",
       "    </tr>\n",
       "  </thead>\n",
       "  <tbody>\n",
       "    <tr>\n",
       "      <th>0</th>\n",
       "      <td>2020-12-26 00:02</td>\n",
       "      <td>Michael Schulte</td>\n",
       "      <td>The Love You Left Behind</td>\n",
       "      <td>194546</td>\n",
       "    </tr>\n",
       "    <tr>\n",
       "      <th>1</th>\n",
       "      <td>2020-12-26 00:05</td>\n",
       "      <td>Lewis Capaldi</td>\n",
       "      <td>Lost On You</td>\n",
       "      <td>197178</td>\n",
       "    </tr>\n",
       "    <tr>\n",
       "      <th>2</th>\n",
       "      <td>2020-12-26 00:08</td>\n",
       "      <td>Arlissa</td>\n",
       "      <td>Praying for Love</td>\n",
       "      <td>182535</td>\n",
       "    </tr>\n",
       "    <tr>\n",
       "      <th>3</th>\n",
       "      <td>2020-12-26 00:12</td>\n",
       "      <td>JP Saxe</td>\n",
       "      <td>A Little Bit Yours</td>\n",
       "      <td>225680</td>\n",
       "    </tr>\n",
       "    <tr>\n",
       "      <th>4</th>\n",
       "      <td>2020-12-26 00:16</td>\n",
       "      <td>My Brothers And I</td>\n",
       "      <td>Just Getting to Know You</td>\n",
       "      <td>252840</td>\n",
       "    </tr>\n",
       "  </tbody>\n",
       "</table>\n",
       "</div>"
      ],
      "text/plain": [
       "            endTime         artistName                 trackName  msPlayed\n",
       "0  2020-12-26 00:02    Michael Schulte  The Love You Left Behind    194546\n",
       "1  2020-12-26 00:05      Lewis Capaldi               Lost On You    197178\n",
       "2  2020-12-26 00:08            Arlissa          Praying for Love    182535\n",
       "3  2020-12-26 00:12            JP Saxe        A Little Bit Yours    225680\n",
       "4  2020-12-26 00:16  My Brothers And I  Just Getting to Know You    252840"
      ]
     },
     "execution_count": 4,
     "metadata": {},
     "output_type": "execute_result"
    }
   ],
   "source": [
    "num_histories = 4\n",
    "listening = pd.DataFrame()\n",
    "for i in range(num_histories):\n",
    "    temp_df = pd.read_json(path + f\"\\MyData\\StreamingHistory{i}.json\")\n",
    "    listening = pd.concat([listening, temp_df])\n",
    "print(listening.shape)\n",
    "listening.head(5)"
   ]
  },
  {
   "cell_type": "code",
   "execution_count": 5,
   "metadata": {},
   "outputs": [
    {
     "data": {
      "text/html": [
       "<div>\n",
       "<style scoped>\n",
       "    .dataframe tbody tr th:only-of-type {\n",
       "        vertical-align: middle;\n",
       "    }\n",
       "\n",
       "    .dataframe tbody tr th {\n",
       "        vertical-align: top;\n",
       "    }\n",
       "\n",
       "    .dataframe thead th {\n",
       "        text-align: right;\n",
       "    }\n",
       "</style>\n",
       "<table border=\"1\" class=\"dataframe\">\n",
       "  <thead>\n",
       "    <tr style=\"text-align: right;\">\n",
       "      <th></th>\n",
       "      <th>playlists</th>\n",
       "    </tr>\n",
       "  </thead>\n",
       "  <tbody>\n",
       "    <tr>\n",
       "      <th>0</th>\n",
       "      <td>{'name': 'My Playlist #23', 'lastModifiedDate'...</td>\n",
       "    </tr>\n",
       "    <tr>\n",
       "      <th>1</th>\n",
       "      <td>{'name': 'My Playlist #22', 'lastModifiedDate'...</td>\n",
       "    </tr>\n",
       "    <tr>\n",
       "      <th>2</th>\n",
       "      <td>{'name': 'Stealing Spotify Daily Mixes', 'last...</td>\n",
       "    </tr>\n",
       "    <tr>\n",
       "      <th>3</th>\n",
       "      <td>{'name': 'Jess Chill Reccomended by Spotify', ...</td>\n",
       "    </tr>\n",
       "    <tr>\n",
       "      <th>4</th>\n",
       "      <td>{'name': 'Jess &lt;3 Vibes?', 'lastModifiedDate':...</td>\n",
       "    </tr>\n",
       "  </tbody>\n",
       "</table>\n",
       "</div>"
      ],
      "text/plain": [
       "                                           playlists\n",
       "0  {'name': 'My Playlist #23', 'lastModifiedDate'...\n",
       "1  {'name': 'My Playlist #22', 'lastModifiedDate'...\n",
       "2  {'name': 'Stealing Spotify Daily Mixes', 'last...\n",
       "3  {'name': 'Jess Chill Reccomended by Spotify', ...\n",
       "4  {'name': 'Jess <3 Vibes?', 'lastModifiedDate':..."
      ]
     },
     "execution_count": 5,
     "metadata": {},
     "output_type": "execute_result"
    }
   ],
   "source": [
    "playlists = pd.read_json(path + f\"\\MyData\\Playlist1.json\")\n",
    "playlists.head(5)"
   ]
  },
  {
   "cell_type": "markdown",
   "metadata": {},
   "source": [
    "### Part 2: EDA"
   ]
  },
  {
   "cell_type": "markdown",
   "metadata": {},
   "source": []
  },
  {
   "cell_type": "code",
   "execution_count": 6,
   "metadata": {},
   "outputs": [
    {
     "data": {
      "text/plain": [
       "{'name': 'Jess Chill Reccomended by Spotify',\n",
       " 'lastModifiedDate': '2021-12-04',\n",
       " 'items': [{'track': {'trackName': 'House',\n",
       "    'artistName': 'Joshua Moss',\n",
       "    'albumName': 'House',\n",
       "    'trackUri': 'spotify:track:3BdtiKSZveePCDhfncBOFd'},\n",
       "   'episode': None,\n",
       "   'localTrack': None},\n",
       "  {'track': {'trackName': 'Apple Pie',\n",
       "    'artistName': 'Lizzy McAlpine',\n",
       "    'albumName': 'Give Me A Minute',\n",
       "    'trackUri': 'spotify:track:5FKNq0lLJnP3iZzBTD0PZj'},\n",
       "   'episode': None,\n",
       "   'localTrack': None},\n",
       "  {'track': {'trackName': 'Free',\n",
       "    'artistName': 'Elina',\n",
       "    'albumName': 'Free',\n",
       "    'trackUri': 'spotify:track:3hOWsTM9OpI6c72iQHP4EB'},\n",
       "   'episode': None,\n",
       "   'localTrack': None},\n",
       "  {'track': {'trackName': 'Pancakes for Dinner',\n",
       "    'artistName': 'Lizzy McAlpine',\n",
       "    'albumName': 'Give Me A Minute',\n",
       "    'trackUri': 'spotify:track:4HffeEF97c6UxNePgbuECW'},\n",
       "   'episode': None,\n",
       "   'localTrack': None}],\n",
       " 'description': None,\n",
       " 'numberOfFollowers': 0}"
      ]
     },
     "execution_count": 6,
     "metadata": {},
     "output_type": "execute_result"
    }
   ],
   "source": [
    "playlists['playlists'][3]"
   ]
  },
  {
   "cell_type": "code",
   "execution_count": 57,
   "metadata": {},
   "outputs": [
    {
     "data": {
      "text/plain": [
       "{'danceability': 0.656,\n",
       " 'energy': 0.291,\n",
       " 'key': 2,\n",
       " 'loudness': -10.572,\n",
       " 'mode': 1,\n",
       " 'speechiness': 0.0293,\n",
       " 'acousticness': 0.872,\n",
       " 'instrumentalness': 0,\n",
       " 'liveness': 0.114,\n",
       " 'valence': 0.298,\n",
       " 'tempo': 103.971,\n",
       " 'type': 'audio_features',\n",
       " 'id': '4RCWB3V8V0dignt99LZ8vH',\n",
       " 'uri': 'spotify:track:4RCWB3V8V0dignt99LZ8vH',\n",
       " 'track_href': 'https://api.spotify.com/v1/tracks/4RCWB3V8V0dignt99LZ8vH',\n",
       " 'analysis_url': 'https://api.spotify.com/v1/audio-analysis/4RCWB3V8V0dignt99LZ8vH',\n",
       " 'duration_ms': 232533,\n",
       " 'time_signature': 4}"
      ]
     },
     "execution_count": 57,
     "metadata": {},
     "output_type": "execute_result"
    }
   ],
   "source": [
    "# information based on a single song\n",
    "track_name, track_artist = 'Hey There Delilah', 'Plain White T\\'s'\n",
    "track_uri = sp.search(q='artist:' + track_artist + ' track:' + track_name, type='track')['tracks']['items'][0]['uri']\n",
    "# track_analysis = sp.audio_analysis(track_uri) # too much info for me rn\n",
    "track_features = sp.audio_features(track_uri)\n",
    "track_features[0]"
   ]
  },
  {
   "cell_type": "code",
   "execution_count": 61,
   "metadata": {},
   "outputs": [
    {
     "data": {
      "text/html": [
       "<div>\n",
       "<style scoped>\n",
       "    .dataframe tbody tr th:only-of-type {\n",
       "        vertical-align: middle;\n",
       "    }\n",
       "\n",
       "    .dataframe tbody tr th {\n",
       "        vertical-align: top;\n",
       "    }\n",
       "\n",
       "    .dataframe thead th {\n",
       "        text-align: right;\n",
       "    }\n",
       "</style>\n",
       "<table border=\"1\" class=\"dataframe\">\n",
       "  <thead>\n",
       "    <tr style=\"text-align: right;\">\n",
       "      <th></th>\n",
       "      <th>trackName</th>\n",
       "      <th>artistName</th>\n",
       "      <th>count</th>\n",
       "    </tr>\n",
       "  </thead>\n",
       "  <tbody>\n",
       "    <tr>\n",
       "      <th>2092</th>\n",
       "      <td>I Wish</td>\n",
       "      <td>Declan J Donovan</td>\n",
       "      <td>12</td>\n",
       "    </tr>\n",
       "    <tr>\n",
       "      <th>5201</th>\n",
       "      <td>friendship?</td>\n",
       "      <td>Jordy Searcy</td>\n",
       "      <td>10</td>\n",
       "    </tr>\n",
       "    <tr>\n",
       "      <th>3966</th>\n",
       "      <td>Sorry That I Do That</td>\n",
       "      <td>Anna Clendening</td>\n",
       "      <td>60</td>\n",
       "    </tr>\n",
       "    <tr>\n",
       "      <th>3232</th>\n",
       "      <td>One Day</td>\n",
       "      <td>Lovejoy</td>\n",
       "      <td>3</td>\n",
       "    </tr>\n",
       "    <tr>\n",
       "      <th>848</th>\n",
       "      <td>Complicated</td>\n",
       "      <td>Olivia O'Brien</td>\n",
       "      <td>6</td>\n",
       "    </tr>\n",
       "  </tbody>\n",
       "</table>\n",
       "</div>"
      ],
      "text/plain": [
       "                 trackName        artistName  count\n",
       "2092                I Wish  Declan J Donovan     12\n",
       "5201           friendship?      Jordy Searcy     10\n",
       "3966  Sorry That I Do That   Anna Clendening     60\n",
       "3232               One Day           Lovejoy      3\n",
       "848            Complicated    Olivia O'Brien      6"
      ]
     },
     "execution_count": 61,
     "metadata": {},
     "output_type": "execute_result"
    }
   ],
   "source": [
    "counts = listening.query('msPlayed >= 3000').groupby(by=['trackName', 'artistName']).size().reset_index()\n",
    "songs_df = counts.rename(columns={0: 'count'}).sample(n=50, weights='count', random_state=42)#.query('count >= 5').sort_values('count', ascending=False) # either listened to >5 times or top x songs or random x songs\n",
    "songs_df.head(5)#.to_csv('csv_exports/grouped.csv')"
   ]
  },
  {
   "cell_type": "code",
   "execution_count": 62,
   "metadata": {},
   "outputs": [
    {
     "data": {
      "text/html": [
       "<div>\n",
       "<style scoped>\n",
       "    .dataframe tbody tr th:only-of-type {\n",
       "        vertical-align: middle;\n",
       "    }\n",
       "\n",
       "    .dataframe tbody tr th {\n",
       "        vertical-align: top;\n",
       "    }\n",
       "\n",
       "    .dataframe thead th {\n",
       "        text-align: right;\n",
       "    }\n",
       "</style>\n",
       "<table border=\"1\" class=\"dataframe\">\n",
       "  <thead>\n",
       "    <tr style=\"text-align: right;\">\n",
       "      <th></th>\n",
       "      <th>trackName</th>\n",
       "      <th>artistName</th>\n",
       "      <th>count</th>\n",
       "      <th>danceability</th>\n",
       "      <th>energy</th>\n",
       "      <th>key</th>\n",
       "      <th>loudness</th>\n",
       "      <th>mode</th>\n",
       "      <th>speechiness</th>\n",
       "      <th>acousticness</th>\n",
       "      <th>instrumentalness</th>\n",
       "      <th>liveness</th>\n",
       "      <th>valence</th>\n",
       "      <th>tempo</th>\n",
       "      <th>id</th>\n",
       "      <th>duration_ms</th>\n",
       "      <th>time_signature</th>\n",
       "    </tr>\n",
       "  </thead>\n",
       "  <tbody>\n",
       "    <tr>\n",
       "      <th>2092</th>\n",
       "      <td>I Wish</td>\n",
       "      <td>Declan J Donovan</td>\n",
       "      <td>12</td>\n",
       "      <td>0.625</td>\n",
       "      <td>0.241</td>\n",
       "      <td>7</td>\n",
       "      <td>-9.312</td>\n",
       "      <td>1</td>\n",
       "      <td>0.0308</td>\n",
       "      <td>0.84500</td>\n",
       "      <td>0.000000</td>\n",
       "      <td>0.1530</td>\n",
       "      <td>0.0960</td>\n",
       "      <td>111.902</td>\n",
       "      <td>7sXnAth7OEXjGhrW7Qsl3Y</td>\n",
       "      <td>198720</td>\n",
       "      <td>4</td>\n",
       "    </tr>\n",
       "    <tr>\n",
       "      <th>5201</th>\n",
       "      <td>friendship?</td>\n",
       "      <td>Jordy Searcy</td>\n",
       "      <td>10</td>\n",
       "      <td>0.571</td>\n",
       "      <td>0.224</td>\n",
       "      <td>4</td>\n",
       "      <td>-11.704</td>\n",
       "      <td>1</td>\n",
       "      <td>0.0646</td>\n",
       "      <td>0.69600</td>\n",
       "      <td>0.000000</td>\n",
       "      <td>0.1030</td>\n",
       "      <td>0.5060</td>\n",
       "      <td>108.526</td>\n",
       "      <td>0Io5aNyPCvK31w1hffcTbC</td>\n",
       "      <td>220133</td>\n",
       "      <td>4</td>\n",
       "    </tr>\n",
       "    <tr>\n",
       "      <th>3966</th>\n",
       "      <td>Sorry That I Do That</td>\n",
       "      <td>Anna Clendening</td>\n",
       "      <td>60</td>\n",
       "      <td>0.714</td>\n",
       "      <td>0.404</td>\n",
       "      <td>9</td>\n",
       "      <td>-8.759</td>\n",
       "      <td>1</td>\n",
       "      <td>0.0439</td>\n",
       "      <td>0.19600</td>\n",
       "      <td>0.000001</td>\n",
       "      <td>0.2830</td>\n",
       "      <td>0.2990</td>\n",
       "      <td>98.016</td>\n",
       "      <td>2WxCovJaXPloCHw0yJ0Z0z</td>\n",
       "      <td>149821</td>\n",
       "      <td>4</td>\n",
       "    </tr>\n",
       "    <tr>\n",
       "      <th>3232</th>\n",
       "      <td>One Day</td>\n",
       "      <td>Lovejoy</td>\n",
       "      <td>3</td>\n",
       "      <td>0.339</td>\n",
       "      <td>0.730</td>\n",
       "      <td>10</td>\n",
       "      <td>-8.568</td>\n",
       "      <td>0</td>\n",
       "      <td>0.0358</td>\n",
       "      <td>0.00737</td>\n",
       "      <td>0.000000</td>\n",
       "      <td>0.0472</td>\n",
       "      <td>0.8370</td>\n",
       "      <td>183.144</td>\n",
       "      <td>58U47mHjyLwUwJZ7voUt15</td>\n",
       "      <td>144375</td>\n",
       "      <td>4</td>\n",
       "    </tr>\n",
       "    <tr>\n",
       "      <th>848</th>\n",
       "      <td>Complicated</td>\n",
       "      <td>Olivia O'Brien</td>\n",
       "      <td>6</td>\n",
       "      <td>0.657</td>\n",
       "      <td>0.355</td>\n",
       "      <td>7</td>\n",
       "      <td>-12.047</td>\n",
       "      <td>1</td>\n",
       "      <td>0.0715</td>\n",
       "      <td>0.69400</td>\n",
       "      <td>0.000425</td>\n",
       "      <td>0.1230</td>\n",
       "      <td>0.0808</td>\n",
       "      <td>74.990</td>\n",
       "      <td>226PUvIuxGdceSijXXZRRz</td>\n",
       "      <td>189000</td>\n",
       "      <td>4</td>\n",
       "    </tr>\n",
       "  </tbody>\n",
       "</table>\n",
       "</div>"
      ],
      "text/plain": [
       "                 trackName        artistName  count  danceability  energy  \\\n",
       "2092                I Wish  Declan J Donovan     12         0.625   0.241   \n",
       "5201           friendship?      Jordy Searcy     10         0.571   0.224   \n",
       "3966  Sorry That I Do That   Anna Clendening     60         0.714   0.404   \n",
       "3232               One Day           Lovejoy      3         0.339   0.730   \n",
       "848            Complicated    Olivia O'Brien      6         0.657   0.355   \n",
       "\n",
       "      key  loudness  mode  speechiness  acousticness  instrumentalness  \\\n",
       "2092    7    -9.312     1       0.0308       0.84500          0.000000   \n",
       "5201    4   -11.704     1       0.0646       0.69600          0.000000   \n",
       "3966    9    -8.759     1       0.0439       0.19600          0.000001   \n",
       "3232   10    -8.568     0       0.0358       0.00737          0.000000   \n",
       "848     7   -12.047     1       0.0715       0.69400          0.000425   \n",
       "\n",
       "      liveness  valence    tempo                      id  duration_ms  \\\n",
       "2092    0.1530   0.0960  111.902  7sXnAth7OEXjGhrW7Qsl3Y       198720   \n",
       "5201    0.1030   0.5060  108.526  0Io5aNyPCvK31w1hffcTbC       220133   \n",
       "3966    0.2830   0.2990   98.016  2WxCovJaXPloCHw0yJ0Z0z       149821   \n",
       "3232    0.0472   0.8370  183.144  58U47mHjyLwUwJZ7voUt15       144375   \n",
       "848     0.1230   0.0808   74.990  226PUvIuxGdceSijXXZRRz       189000   \n",
       "\n",
       "      time_signature  \n",
       "2092               4  \n",
       "5201               4  \n",
       "3966               4  \n",
       "3232               4  \n",
       "848                4  "
      ]
     },
     "execution_count": 62,
     "metadata": {},
     "output_type": "execute_result"
    }
   ],
   "source": [
    "\n",
    "lst_of_cols = list(track_features[0].keys())\n",
    "# lst_of_cols.remove(['type', 'analysis_url'])\n",
    "# lst_of_cols.remove(x for x in ['type', 'analysis_url'])\n",
    "[lst_of_cols.remove(col) for col in ['type', 'uri', 'analysis_url', 'track_href']]\n",
    "def find_info(song):\n",
    "    # print(song)\n",
    "    try:\n",
    "        song_dict = sp.search(q='artist:' + song[1] + ' track:' + song[0], type='track')\n",
    "        song_uri = song_dict['tracks']['items'][0]['uri']\n",
    "        track_features = sp.audio_features(song_uri)[0]\n",
    "        return pd.Series([track_features[i] for i in lst_of_cols])\n",
    "    except:\n",
    "        return pd.Series(['DNE'] * len(lst_of_cols))\n",
    "    \n",
    "    \n",
    "songs_df[lst_of_cols] = songs_df[['trackName', 'artistName']].apply(find_info, axis=1)\n",
    "songs_df.head(5)"
   ]
  },
  {
   "cell_type": "markdown",
   "metadata": {},
   "source": [
    "### PCA attempt/plotting the PCs/scree plot"
   ]
  },
  {
   "cell_type": "code",
   "execution_count": 77,
   "metadata": {},
   "outputs": [],
   "source": [
    "# imports\n",
    "import numpy as np\n",
    "import matplotlib.pyplot as plt\n",
    "import seaborn as sns"
   ]
  },
  {
   "cell_type": "code",
   "execution_count": 72,
   "metadata": {},
   "outputs": [
    {
     "data": {
      "text/html": [
       "<div>\n",
       "<style scoped>\n",
       "    .dataframe tbody tr th:only-of-type {\n",
       "        vertical-align: middle;\n",
       "    }\n",
       "\n",
       "    .dataframe tbody tr th {\n",
       "        vertical-align: top;\n",
       "    }\n",
       "\n",
       "    .dataframe thead th {\n",
       "        text-align: right;\n",
       "    }\n",
       "</style>\n",
       "<table border=\"1\" class=\"dataframe\">\n",
       "  <thead>\n",
       "    <tr style=\"text-align: right;\">\n",
       "      <th></th>\n",
       "      <th>count</th>\n",
       "      <th>danceability</th>\n",
       "      <th>energy</th>\n",
       "      <th>key</th>\n",
       "      <th>loudness</th>\n",
       "      <th>mode</th>\n",
       "      <th>speechiness</th>\n",
       "      <th>acousticness</th>\n",
       "      <th>instrumentalness</th>\n",
       "      <th>liveness</th>\n",
       "      <th>valence</th>\n",
       "      <th>tempo</th>\n",
       "      <th>duration_ms</th>\n",
       "      <th>time_signature</th>\n",
       "    </tr>\n",
       "    <tr>\n",
       "      <th>id</th>\n",
       "      <th></th>\n",
       "      <th></th>\n",
       "      <th></th>\n",
       "      <th></th>\n",
       "      <th></th>\n",
       "      <th></th>\n",
       "      <th></th>\n",
       "      <th></th>\n",
       "      <th></th>\n",
       "      <th></th>\n",
       "      <th></th>\n",
       "      <th></th>\n",
       "      <th></th>\n",
       "      <th></th>\n",
       "    </tr>\n",
       "  </thead>\n",
       "  <tbody>\n",
       "    <tr>\n",
       "      <th>7sXnAth7OEXjGhrW7Qsl3Y</th>\n",
       "      <td>-12.42</td>\n",
       "      <td>0.06744</td>\n",
       "      <td>-0.14404</td>\n",
       "      <td>2.06</td>\n",
       "      <td>1.13256</td>\n",
       "      <td>0.04</td>\n",
       "      <td>-0.032448</td>\n",
       "      <td>0.213021</td>\n",
       "      <td>-0.018778</td>\n",
       "      <td>0.023014</td>\n",
       "      <td>-0.232712</td>\n",
       "      <td>-3.72418</td>\n",
       "      <td>-11430.34</td>\n",
       "      <td>0.24</td>\n",
       "    </tr>\n",
       "    <tr>\n",
       "      <th>0Io5aNyPCvK31w1hffcTbC</th>\n",
       "      <td>-14.42</td>\n",
       "      <td>0.01344</td>\n",
       "      <td>-0.16104</td>\n",
       "      <td>-0.94</td>\n",
       "      <td>-1.25944</td>\n",
       "      <td>0.04</td>\n",
       "      <td>0.001352</td>\n",
       "      <td>0.064021</td>\n",
       "      <td>-0.018778</td>\n",
       "      <td>-0.026986</td>\n",
       "      <td>0.177288</td>\n",
       "      <td>-7.10018</td>\n",
       "      <td>9982.66</td>\n",
       "      <td>0.24</td>\n",
       "    </tr>\n",
       "    <tr>\n",
       "      <th>2WxCovJaXPloCHw0yJ0Z0z</th>\n",
       "      <td>35.58</td>\n",
       "      <td>0.15644</td>\n",
       "      <td>0.01896</td>\n",
       "      <td>4.06</td>\n",
       "      <td>1.68556</td>\n",
       "      <td>0.04</td>\n",
       "      <td>-0.019348</td>\n",
       "      <td>-0.435979</td>\n",
       "      <td>-0.018777</td>\n",
       "      <td>0.153014</td>\n",
       "      <td>-0.029712</td>\n",
       "      <td>-17.61018</td>\n",
       "      <td>-60329.34</td>\n",
       "      <td>0.24</td>\n",
       "    </tr>\n",
       "    <tr>\n",
       "      <th>58U47mHjyLwUwJZ7voUt15</th>\n",
       "      <td>-21.42</td>\n",
       "      <td>-0.21856</td>\n",
       "      <td>0.34496</td>\n",
       "      <td>5.06</td>\n",
       "      <td>1.87656</td>\n",
       "      <td>-0.96</td>\n",
       "      <td>-0.027448</td>\n",
       "      <td>-0.624609</td>\n",
       "      <td>-0.018778</td>\n",
       "      <td>-0.082786</td>\n",
       "      <td>0.508288</td>\n",
       "      <td>67.51782</td>\n",
       "      <td>-65775.34</td>\n",
       "      <td>0.24</td>\n",
       "    </tr>\n",
       "    <tr>\n",
       "      <th>226PUvIuxGdceSijXXZRRz</th>\n",
       "      <td>-18.42</td>\n",
       "      <td>0.09944</td>\n",
       "      <td>-0.03004</td>\n",
       "      <td>2.06</td>\n",
       "      <td>-1.60244</td>\n",
       "      <td>0.04</td>\n",
       "      <td>0.008252</td>\n",
       "      <td>0.062021</td>\n",
       "      <td>-0.018353</td>\n",
       "      <td>-0.006986</td>\n",
       "      <td>-0.247912</td>\n",
       "      <td>-40.63618</td>\n",
       "      <td>-21150.34</td>\n",
       "      <td>0.24</td>\n",
       "    </tr>\n",
       "  </tbody>\n",
       "</table>\n",
       "</div>"
      ],
      "text/plain": [
       "                        count  danceability   energy   key  loudness  mode  \\\n",
       "id                                                                           \n",
       "7sXnAth7OEXjGhrW7Qsl3Y -12.42       0.06744 -0.14404  2.06   1.13256  0.04   \n",
       "0Io5aNyPCvK31w1hffcTbC -14.42       0.01344 -0.16104 -0.94  -1.25944  0.04   \n",
       "2WxCovJaXPloCHw0yJ0Z0z  35.58       0.15644  0.01896  4.06   1.68556  0.04   \n",
       "58U47mHjyLwUwJZ7voUt15 -21.42      -0.21856  0.34496  5.06   1.87656 -0.96   \n",
       "226PUvIuxGdceSijXXZRRz -18.42       0.09944 -0.03004  2.06  -1.60244  0.04   \n",
       "\n",
       "                        speechiness  acousticness  instrumentalness  liveness  \\\n",
       "id                                                                              \n",
       "7sXnAth7OEXjGhrW7Qsl3Y    -0.032448      0.213021         -0.018778  0.023014   \n",
       "0Io5aNyPCvK31w1hffcTbC     0.001352      0.064021         -0.018778 -0.026986   \n",
       "2WxCovJaXPloCHw0yJ0Z0z    -0.019348     -0.435979         -0.018777  0.153014   \n",
       "58U47mHjyLwUwJZ7voUt15    -0.027448     -0.624609         -0.018778 -0.082786   \n",
       "226PUvIuxGdceSijXXZRRz     0.008252      0.062021         -0.018353 -0.006986   \n",
       "\n",
       "                         valence     tempo  duration_ms  time_signature  \n",
       "id                                                                       \n",
       "7sXnAth7OEXjGhrW7Qsl3Y -0.232712  -3.72418    -11430.34            0.24  \n",
       "0Io5aNyPCvK31w1hffcTbC  0.177288  -7.10018      9982.66            0.24  \n",
       "2WxCovJaXPloCHw0yJ0Z0z -0.029712 -17.61018    -60329.34            0.24  \n",
       "58U47mHjyLwUwJZ7voUt15  0.508288  67.51782    -65775.34            0.24  \n",
       "226PUvIuxGdceSijXXZRRz -0.247912 -40.63618    -21150.34            0.24  "
      ]
     },
     "execution_count": 72,
     "metadata": {},
     "output_type": "execute_result"
    }
   ],
   "source": [
    "cleaned_df = songs_df.set_index('id').drop(columns=['trackName', 'artistName'])\n",
    "centered_df = cleaned_df - np.mean(cleaned_df, axis=0)\n",
    "centered_df.head(5)"
   ]
  },
  {
   "cell_type": "code",
   "execution_count": 73,
   "metadata": {},
   "outputs": [
    {
     "data": {
      "text/plain": [
       "((50, 14), (14,), (14, 14))"
      ]
     },
     "execution_count": 73,
     "metadata": {},
     "output_type": "execute_result"
    }
   ],
   "source": [
    "u, s, vt = np.linalg.svd(centered_df, full_matrices = False)\n",
    "u.shape, s.shape, vt.shape"
   ]
  },
  {
   "cell_type": "code",
   "execution_count": 78,
   "metadata": {},
   "outputs": [
    {
     "data": {
      "text/plain": [
       "[<matplotlib.lines.Line2D at 0x1e4440a1ff0>]"
      ]
     },
     "execution_count": 78,
     "metadata": {},
     "output_type": "execute_result"
    },
    {
     "data": {
      "image/png": "[encoded data removed]",
      "text/plain": [
       "<Figure size 640x480 with 1 Axes>"
      ]
     },
     "metadata": {},
     "output_type": "display_data"
    }
   ],
   "source": [
    "# scree plot\n",
    "plt.plot(s**2, marker='.')"
   ]
  },
  {
   "cell_type": "code",
   "execution_count": 79,
   "metadata": {},
   "outputs": [
    {
     "data": {
      "text/plain": [
       "<Axes: >"
      ]
     },
     "execution_count": 79,
     "metadata": {},
     "output_type": "execute_result"
    },
    {
     "data": {
      "image/png": "[encoded data removed]",
      "text/plain": [
       "<Figure size 640x480 with 1 Axes>"
      ]
     },
     "metadata": {},
     "output_type": "display_data"
    }
   ],
   "source": [
    "pcs = u * s\n",
    "sns.scatterplot(x=pcs[:, 0], y=pcs[:, 1])"
   ]
  },
  {
   "cell_type": "markdown",
   "metadata": {},
   "source": [
    "### Part 3: Analyzing the Data\n",
    "#### PCA/plot/etc, figuring out what matters most in a song, what makes a song similar to another?"
   ]
  },
  {
   "cell_type": "code",
   "execution_count": null,
   "metadata": {},
   "outputs": [],
   "source": []
  },
  {
   "cell_type": "markdown",
   "metadata": {},
   "source": [
    "### Part 3: Loading in a playlist and comparing it to other songs in the playlist\n",
    "#### Read in, PCA, plot with colors"
   ]
  },
  {
   "cell_type": "code",
   "execution_count": null,
   "metadata": {},
   "outputs": [],
   "source": []
  },
  {
   "cell_type": "markdown",
   "metadata": {},
   "source": [
    "### Part 4: Selecting additional relevant songs for playlist\n",
    "#### Find most similar ones to playlist songs"
   ]
  },
  {
   "cell_type": "code",
   "execution_count": null,
   "metadata": {},
   "outputs": [],
   "source": []
  }
 ],
 "metadata": {
  "kernelspec": {
   "display_name": "Python 3",
   "language": "python",
   "name": "python3"
  },
  "language_info": {
   "codemirror_mode": {
    "name": "ipython",
    "version": 3
   },
   "file_extension": ".py",
   "mimetype": "text/x-python",
   "name": "python",
   "nbconvert_exporter": "python",
   "pygments_lexer": "ipython3",
   "version": "3.10.11"
  },
  "orig_nbformat": 4
 },
 "nbformat": 4,
 "nbformat_minor": 2
}
