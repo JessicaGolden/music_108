{
 "cells": [
  {
   "cell_type": "code",
   "execution_count": 1,
   "metadata": {},
   "outputs": [],
   "source": [
    "#!pip install -U python-dotenv\n",
    "#!pip install spotipy\n",
    "#!pip install matplotlib"
   ]
  },
  {
   "cell_type": "code",
   "execution_count": 72,
   "metadata": {},
   "outputs": [],
   "source": [
    "import pandas as pd\n",
    "import os\n",
    "import plotly.express as px\n",
    "import spotipy\n",
    "from spotipy import oauth2\n",
    "from dotenv import load_dotenv\n",
    "from spotipy.oauth2 import SpotifyClientCredentials\n",
    "import numpy as np\n",
    "import matplotlib.pyplot as plt\n",
    "import seaborn as sns\n",
    "\n",
    "from sklearn.cluster import MeanShift\n",
    "from sklearn.cluster import KMeans"
   ]
  },
  {
   "cell_type": "code",
   "execution_count": 3,
   "metadata": {},
   "outputs": [],
   "source": [
    "path = os.getcwd()\n",
    "\n",
    "# setting up authentication for spotipy\n",
    "load_dotenv(dotenv_path=path + f\"\\env_vars.env\")\n",
    "os.environ['SPOTIPY_CLIENT_ID'] = os.environ.get('SPOTIPY_CLIENT_ID')\n",
    "os.environ['SPOTIPY_CLIENT_SECRET'] = os.environ.get('SPOTIPY_CLIENT_SECRET')\n",
    "sp = spotipy.Spotify(client_credentials_manager=SpotifyClientCredentials())"
   ]
  },
  {
   "cell_type": "markdown",
   "metadata": {},
   "source": [
    "### Part 1: Loading in the Data\n",
    "#### We will load in my personal data blah blah, you can replace the string with your file path to analyze your music"
   ]
  },
  {
   "cell_type": "code",
   "execution_count": 5,
   "metadata": {},
   "outputs": [
    {
     "name": "stdout",
     "output_type": "stream",
     "text": [
      "(18208, 4)\n"
     ]
    },
    {
     "data": {
      "text/html": [
       "<div>\n",
       "<style scoped>\n",
       "    .dataframe tbody tr th:only-of-type {\n",
       "        vertical-align: middle;\n",
       "    }\n",
       "\n",
       "    .dataframe tbody tr th {\n",
       "        vertical-align: top;\n",
       "    }\n",
       "\n",
       "    .dataframe thead th {\n",
       "        text-align: right;\n",
       "    }\n",
       "</style>\n",
       "<table border=\"1\" class=\"dataframe\">\n",
       "  <thead>\n",
       "    <tr style=\"text-align: right;\">\n",
       "      <th></th>\n",
       "      <th>endTime</th>\n",
       "      <th>artistName</th>\n",
       "      <th>trackName</th>\n",
       "      <th>msPlayed</th>\n",
       "    </tr>\n",
       "  </thead>\n",
       "  <tbody>\n",
       "    <tr>\n",
       "      <th>0</th>\n",
       "      <td>2022-10-03 16:03</td>\n",
       "      <td>Tori Templet</td>\n",
       "      <td>Butterfly Rain</td>\n",
       "      <td>167166</td>\n",
       "    </tr>\n",
       "    <tr>\n",
       "      <th>1</th>\n",
       "      <td>2022-10-04 18:40</td>\n",
       "      <td>Maisie Peters</td>\n",
       "      <td>The List</td>\n",
       "      <td>68976</td>\n",
       "    </tr>\n",
       "    <tr>\n",
       "      <th>2</th>\n",
       "      <td>2022-10-07 18:05</td>\n",
       "      <td>Catie Turner</td>\n",
       "      <td>Nothing</td>\n",
       "      <td>4335</td>\n",
       "    </tr>\n",
       "    <tr>\n",
       "      <th>3</th>\n",
       "      <td>2022-10-07 18:05</td>\n",
       "      <td>Billie Marten</td>\n",
       "      <td>Mice</td>\n",
       "      <td>1650</td>\n",
       "    </tr>\n",
       "    <tr>\n",
       "      <th>4</th>\n",
       "      <td>2022-10-07 18:06</td>\n",
       "      <td>Jacob Collier</td>\n",
       "      <td>In Too Deep (feat. Kiana Ledé)</td>\n",
       "      <td>18280</td>\n",
       "    </tr>\n",
       "  </tbody>\n",
       "</table>\n",
       "</div>"
      ],
      "text/plain": [
       "            endTime     artistName                       trackName  msPlayed\n",
       "0  2022-10-03 16:03   Tori Templet                  Butterfly Rain    167166\n",
       "1  2022-10-04 18:40  Maisie Peters                        The List     68976\n",
       "2  2022-10-07 18:05   Catie Turner                         Nothing      4335\n",
       "3  2022-10-07 18:05  Billie Marten                            Mice      1650\n",
       "4  2022-10-07 18:06  Jacob Collier  In Too Deep (feat. Kiana Ledé)     18280"
      ]
     },
     "execution_count": 5,
     "metadata": {},
     "output_type": "execute_result"
    }
   ],
   "source": [
    "num_histories = 2\n",
    "listening = pd.DataFrame()\n",
    "for i in range(num_histories):\n",
    "    temp_df = pd.read_json(path + f\"\\MyData\\StreamingHistory{i}.json\")\n",
    "    listening = pd.concat([listening, temp_df])\n",
    "print(listening.shape)\n",
    "listening.head(5)"
   ]
  },
  {
   "cell_type": "code",
   "execution_count": 6,
   "metadata": {},
   "outputs": [
    {
     "data": {
      "text/plain": [
       "(4445, 2)"
      ]
     },
     "execution_count": 6,
     "metadata": {},
     "output_type": "execute_result"
    }
   ],
   "source": [
    "listening.groupby(by=['artistName', 'trackName']).count().shape"
   ]
  },
  {
   "cell_type": "code",
   "execution_count": 7,
   "metadata": {},
   "outputs": [
    {
     "data": {
      "text/html": [
       "<div>\n",
       "<style scoped>\n",
       "    .dataframe tbody tr th:only-of-type {\n",
       "        vertical-align: middle;\n",
       "    }\n",
       "\n",
       "    .dataframe tbody tr th {\n",
       "        vertical-align: top;\n",
       "    }\n",
       "\n",
       "    .dataframe thead th {\n",
       "        text-align: right;\n",
       "    }\n",
       "</style>\n",
       "<table border=\"1\" class=\"dataframe\">\n",
       "  <thead>\n",
       "    <tr style=\"text-align: right;\">\n",
       "      <th></th>\n",
       "      <th>playlists</th>\n",
       "    </tr>\n",
       "  </thead>\n",
       "  <tbody>\n",
       "    <tr>\n",
       "      <th>24</th>\n",
       "      <td>{'name': 'Cities', 'lastModifiedDate': '2023-0...</td>\n",
       "    </tr>\n",
       "    <tr>\n",
       "      <th>25</th>\n",
       "      <td>{'name': 'Saved Mix 2', 'lastModifiedDate': '2...</td>\n",
       "    </tr>\n",
       "    <tr>\n",
       "      <th>26</th>\n",
       "      <td>{'name': 'Stuck in Jess' Head', 'lastModifiedD...</td>\n",
       "    </tr>\n",
       "    <tr>\n",
       "      <th>27</th>\n",
       "      <td>{'name': 'Musicccccc', 'lastModifiedDate': '20...</td>\n",
       "    </tr>\n",
       "    <tr>\n",
       "      <th>28</th>\n",
       "      <td>{'name': 'Acoustic music', 'lastModifiedDate':...</td>\n",
       "    </tr>\n",
       "  </tbody>\n",
       "</table>\n",
       "</div>"
      ],
      "text/plain": [
       "                                            playlists\n",
       "24  {'name': 'Cities', 'lastModifiedDate': '2023-0...\n",
       "25  {'name': 'Saved Mix 2', 'lastModifiedDate': '2...\n",
       "26  {'name': 'Stuck in Jess' Head', 'lastModifiedD...\n",
       "27  {'name': 'Musicccccc', 'lastModifiedDate': '20...\n",
       "28  {'name': 'Acoustic music', 'lastModifiedDate':..."
      ]
     },
     "execution_count": 7,
     "metadata": {},
     "output_type": "execute_result"
    }
   ],
   "source": [
    "playlists = pd.read_json(path + f\"\\MyData\\Playlist1.json\")\n",
    "playlists.tail(5)"
   ]
  },
  {
   "cell_type": "markdown",
   "metadata": {},
   "source": [
    "### Part 2: EDA"
   ]
  },
  {
   "cell_type": "code",
   "execution_count": 8,
   "metadata": {},
   "outputs": [
    {
     "data": {
      "text/plain": [
       "{'name': 'Hi',\n",
       " 'lastModifiedDate': '2023-08-05',\n",
       " 'items': [{'track': {'trackName': 'What A Wonderful World',\n",
       "    'artistName': \"Israel Kamakawiwo'ole\",\n",
       "    'albumName': 'Wonderful World',\n",
       "    'trackUri': 'spotify:track:1Fzm9s6Fh1Eumj5tU4q20m'},\n",
       "   'episode': None,\n",
       "   'localTrack': None,\n",
       "   'addedDate': '2023-08-05'},\n",
       "  {'track': {'trackName': 'A Thousand Years',\n",
       "    'artistName': 'The Piano Guys',\n",
       "    'albumName': 'The Piano Guys',\n",
       "    'trackUri': 'spotify:track:4eYaDRhiL5iesFp2EuoODr'},\n",
       "   'episode': None,\n",
       "   'localTrack': None,\n",
       "   'addedDate': '2023-08-05'}],\n",
       " 'description': None,\n",
       " 'numberOfFollowers': 0}"
      ]
     },
     "execution_count": 8,
     "metadata": {},
     "output_type": "execute_result"
    }
   ],
   "source": [
    "playlists['playlists'][3]"
   ]
  },
  {
   "cell_type": "code",
   "execution_count": 9,
   "metadata": {},
   "outputs": [
    {
     "data": {
      "text/plain": [
       "{'danceability': 0.656,\n",
       " 'energy': 0.291,\n",
       " 'key': 2,\n",
       " 'loudness': -10.572,\n",
       " 'mode': 1,\n",
       " 'speechiness': 0.0293,\n",
       " 'acousticness': 0.872,\n",
       " 'instrumentalness': 0,\n",
       " 'liveness': 0.114,\n",
       " 'valence': 0.298,\n",
       " 'tempo': 103.971,\n",
       " 'type': 'audio_features',\n",
       " 'id': '4RCWB3V8V0dignt99LZ8vH',\n",
       " 'uri': 'spotify:track:4RCWB3V8V0dignt99LZ8vH',\n",
       " 'track_href': 'https://api.spotify.com/v1/tracks/4RCWB3V8V0dignt99LZ8vH',\n",
       " 'analysis_url': 'https://api.spotify.com/v1/audio-analysis/4RCWB3V8V0dignt99LZ8vH',\n",
       " 'duration_ms': 232533,\n",
       " 'time_signature': 4}"
      ]
     },
     "execution_count": 9,
     "metadata": {},
     "output_type": "execute_result"
    }
   ],
   "source": [
    "# information based on a single song\n",
    "track_name, track_artist = 'Hey There Delilah', 'Plain White T\\'s'\n",
    "track_uri = sp.search(q='artist:' + track_artist + ' track:' + track_name, type='track')['tracks']['items'][0]['uri']\n",
    "\n",
    "# extended_features = sp.audio_analysis(track_uri) # a LOT of information\n",
    "# extended_features\n",
    "\n",
    "track_features = sp.audio_features(track_uri)\n",
    "track_features[0]"
   ]
  },
  {
   "cell_type": "code",
   "execution_count": 19,
   "metadata": {},
   "outputs": [
    {
     "name": "stdout",
     "output_type": "stream",
     "text": [
      "(937, 3)\n"
     ]
    },
    {
     "data": {
      "text/html": [
       "<div>\n",
       "<style scoped>\n",
       "    .dataframe tbody tr th:only-of-type {\n",
       "        vertical-align: middle;\n",
       "    }\n",
       "\n",
       "    .dataframe tbody tr th {\n",
       "        vertical-align: top;\n",
       "    }\n",
       "\n",
       "    .dataframe thead th {\n",
       "        text-align: right;\n",
       "    }\n",
       "</style>\n",
       "<table border=\"1\" class=\"dataframe\">\n",
       "  <thead>\n",
       "    <tr style=\"text-align: right;\">\n",
       "      <th></th>\n",
       "      <th>trackName</th>\n",
       "      <th>artistName</th>\n",
       "      <th>count</th>\n",
       "    </tr>\n",
       "  </thead>\n",
       "  <tbody>\n",
       "    <tr>\n",
       "      <th>0</th>\n",
       "      <td>Means Something</td>\n",
       "      <td>Lizzy McAlpine</td>\n",
       "      <td>96</td>\n",
       "    </tr>\n",
       "    <tr>\n",
       "      <th>1</th>\n",
       "      <td>How</td>\n",
       "      <td>Elina</td>\n",
       "      <td>78</td>\n",
       "    </tr>\n",
       "    <tr>\n",
       "      <th>2</th>\n",
       "      <td>When You Lose Someone</td>\n",
       "      <td>Nina Nesbitt</td>\n",
       "      <td>74</td>\n",
       "    </tr>\n",
       "    <tr>\n",
       "      <th>3</th>\n",
       "      <td>ceilings</td>\n",
       "      <td>Lizzy McAlpine</td>\n",
       "      <td>73</td>\n",
       "    </tr>\n",
       "    <tr>\n",
       "      <th>4</th>\n",
       "      <td>hate to be lame</td>\n",
       "      <td>Lizzy McAlpine</td>\n",
       "      <td>72</td>\n",
       "    </tr>\n",
       "  </tbody>\n",
       "</table>\n",
       "</div>"
      ],
      "text/plain": [
       "               trackName      artistName  count\n",
       "0        Means Something  Lizzy McAlpine     96\n",
       "1                    How           Elina     78\n",
       "2  When You Lose Someone    Nina Nesbitt     74\n",
       "3               ceilings  Lizzy McAlpine     73\n",
       "4        hate to be lame  Lizzy McAlpine     72"
      ]
     },
     "execution_count": 19,
     "metadata": {},
     "output_type": "execute_result"
    }
   ],
   "source": [
    "counts = listening.groupby(by=['trackName', 'artistName']).size().reset_index()\n",
    "songs_df = counts.rename(columns={0: 'count'}).query('count >= 5').sort_values('count', ascending=False).reset_index(drop=True) #.sample(n=500, weights='count', random_state=42)#.query('count >= 5').sort_values('count', ascending=False) # either listened to >5 times or top x songs or random x songs\n",
    "print(songs_df.shape)\n",
    "songs_df.head(5)#.to_csv('csv_exports/grouped.csv')"
   ]
  },
  {
   "cell_type": "code",
   "execution_count": 21,
   "metadata": {},
   "outputs": [
    {
     "name": "stderr",
     "output_type": "stream",
     "text": [
      "C:\\Users\\Jessi\\AppData\\Local\\Temp\\ipykernel_66888\\3752831314.py:20: SettingWithCopyWarning: \n",
      "A value is trying to be set on a copy of a slice from a DataFrame.\n",
      "Try using .loc[row_indexer,col_indexer] = value instead\n",
      "\n",
      "See the caveats in the documentation: https://pandas.pydata.org/pandas-docs/stable/user_guide/indexing.html#returning-a-view-versus-a-copy\n",
      "  songs_subset[lst_of_cols] = songs_subset[['trackName', 'artistName']].apply(find_info, axis=1)\n",
      "C:\\Users\\Jessi\\AppData\\Local\\Temp\\ipykernel_66888\\3752831314.py:20: SettingWithCopyWarning: \n",
      "A value is trying to be set on a copy of a slice from a DataFrame.\n",
      "Try using .loc[row_indexer,col_indexer] = value instead\n",
      "\n",
      "See the caveats in the documentation: https://pandas.pydata.org/pandas-docs/stable/user_guide/indexing.html#returning-a-view-versus-a-copy\n",
      "  songs_subset[lst_of_cols] = songs_subset[['trackName', 'artistName']].apply(find_info, axis=1)\n",
      "C:\\Users\\Jessi\\AppData\\Local\\Temp\\ipykernel_66888\\3752831314.py:20: SettingWithCopyWarning: \n",
      "A value is trying to be set on a copy of a slice from a DataFrame.\n",
      "Try using .loc[row_indexer,col_indexer] = value instead\n",
      "\n",
      "See the caveats in the documentation: https://pandas.pydata.org/pandas-docs/stable/user_guide/indexing.html#returning-a-view-versus-a-copy\n",
      "  songs_subset[lst_of_cols] = songs_subset[['trackName', 'artistName']].apply(find_info, axis=1)\n",
      "C:\\Users\\Jessi\\AppData\\Local\\Temp\\ipykernel_66888\\3752831314.py:20: SettingWithCopyWarning: \n",
      "A value is trying to be set on a copy of a slice from a DataFrame.\n",
      "Try using .loc[row_indexer,col_indexer] = value instead\n",
      "\n",
      "See the caveats in the documentation: https://pandas.pydata.org/pandas-docs/stable/user_guide/indexing.html#returning-a-view-versus-a-copy\n",
      "  songs_subset[lst_of_cols] = songs_subset[['trackName', 'artistName']].apply(find_info, axis=1)\n",
      "C:\\Users\\Jessi\\AppData\\Local\\Temp\\ipykernel_66888\\3752831314.py:20: SettingWithCopyWarning: \n",
      "A value is trying to be set on a copy of a slice from a DataFrame.\n",
      "Try using .loc[row_indexer,col_indexer] = value instead\n",
      "\n",
      "See the caveats in the documentation: https://pandas.pydata.org/pandas-docs/stable/user_guide/indexing.html#returning-a-view-versus-a-copy\n",
      "  songs_subset[lst_of_cols] = songs_subset[['trackName', 'artistName']].apply(find_info, axis=1)\n",
      "C:\\Users\\Jessi\\AppData\\Local\\Temp\\ipykernel_66888\\3752831314.py:20: SettingWithCopyWarning: \n",
      "A value is trying to be set on a copy of a slice from a DataFrame.\n",
      "Try using .loc[row_indexer,col_indexer] = value instead\n",
      "\n",
      "See the caveats in the documentation: https://pandas.pydata.org/pandas-docs/stable/user_guide/indexing.html#returning-a-view-versus-a-copy\n",
      "  songs_subset[lst_of_cols] = songs_subset[['trackName', 'artistName']].apply(find_info, axis=1)\n",
      "C:\\Users\\Jessi\\AppData\\Local\\Temp\\ipykernel_66888\\3752831314.py:20: SettingWithCopyWarning: \n",
      "A value is trying to be set on a copy of a slice from a DataFrame.\n",
      "Try using .loc[row_indexer,col_indexer] = value instead\n",
      "\n",
      "See the caveats in the documentation: https://pandas.pydata.org/pandas-docs/stable/user_guide/indexing.html#returning-a-view-versus-a-copy\n",
      "  songs_subset[lst_of_cols] = songs_subset[['trackName', 'artistName']].apply(find_info, axis=1)\n",
      "C:\\Users\\Jessi\\AppData\\Local\\Temp\\ipykernel_66888\\3752831314.py:20: SettingWithCopyWarning: \n",
      "A value is trying to be set on a copy of a slice from a DataFrame.\n",
      "Try using .loc[row_indexer,col_indexer] = value instead\n",
      "\n",
      "See the caveats in the documentation: https://pandas.pydata.org/pandas-docs/stable/user_guide/indexing.html#returning-a-view-versus-a-copy\n",
      "  songs_subset[lst_of_cols] = songs_subset[['trackName', 'artistName']].apply(find_info, axis=1)\n",
      "C:\\Users\\Jessi\\AppData\\Local\\Temp\\ipykernel_66888\\3752831314.py:20: SettingWithCopyWarning: \n",
      "A value is trying to be set on a copy of a slice from a DataFrame.\n",
      "Try using .loc[row_indexer,col_indexer] = value instead\n",
      "\n",
      "See the caveats in the documentation: https://pandas.pydata.org/pandas-docs/stable/user_guide/indexing.html#returning-a-view-versus-a-copy\n",
      "  songs_subset[lst_of_cols] = songs_subset[['trackName', 'artistName']].apply(find_info, axis=1)\n",
      "C:\\Users\\Jessi\\AppData\\Local\\Temp\\ipykernel_66888\\3752831314.py:20: SettingWithCopyWarning: \n",
      "A value is trying to be set on a copy of a slice from a DataFrame.\n",
      "Try using .loc[row_indexer,col_indexer] = value instead\n",
      "\n",
      "See the caveats in the documentation: https://pandas.pydata.org/pandas-docs/stable/user_guide/indexing.html#returning-a-view-versus-a-copy\n",
      "  songs_subset[lst_of_cols] = songs_subset[['trackName', 'artistName']].apply(find_info, axis=1)\n",
      "C:\\Users\\Jessi\\AppData\\Local\\Temp\\ipykernel_66888\\3752831314.py:20: SettingWithCopyWarning: \n",
      "A value is trying to be set on a copy of a slice from a DataFrame.\n",
      "Try using .loc[row_indexer,col_indexer] = value instead\n",
      "\n",
      "See the caveats in the documentation: https://pandas.pydata.org/pandas-docs/stable/user_guide/indexing.html#returning-a-view-versus-a-copy\n",
      "  songs_subset[lst_of_cols] = songs_subset[['trackName', 'artistName']].apply(find_info, axis=1)\n",
      "C:\\Users\\Jessi\\AppData\\Local\\Temp\\ipykernel_66888\\3752831314.py:20: SettingWithCopyWarning: \n",
      "A value is trying to be set on a copy of a slice from a DataFrame.\n",
      "Try using .loc[row_indexer,col_indexer] = value instead\n",
      "\n",
      "See the caveats in the documentation: https://pandas.pydata.org/pandas-docs/stable/user_guide/indexing.html#returning-a-view-versus-a-copy\n",
      "  songs_subset[lst_of_cols] = songs_subset[['trackName', 'artistName']].apply(find_info, axis=1)\n",
      "C:\\Users\\Jessi\\AppData\\Local\\Temp\\ipykernel_66888\\3752831314.py:20: SettingWithCopyWarning: \n",
      "A value is trying to be set on a copy of a slice from a DataFrame.\n",
      "Try using .loc[row_indexer,col_indexer] = value instead\n",
      "\n",
      "See the caveats in the documentation: https://pandas.pydata.org/pandas-docs/stable/user_guide/indexing.html#returning-a-view-versus-a-copy\n",
      "  songs_subset[lst_of_cols] = songs_subset[['trackName', 'artistName']].apply(find_info, axis=1)\n",
      "C:\\Users\\Jessi\\AppData\\Local\\Temp\\ipykernel_66888\\3752831314.py:20: SettingWithCopyWarning: \n",
      "A value is trying to be set on a copy of a slice from a DataFrame.\n",
      "Try using .loc[row_indexer,col_indexer] = value instead\n",
      "\n",
      "See the caveats in the documentation: https://pandas.pydata.org/pandas-docs/stable/user_guide/indexing.html#returning-a-view-versus-a-copy\n",
      "  songs_subset[lst_of_cols] = songs_subset[['trackName', 'artistName']].apply(find_info, axis=1)\n",
      "C:\\Users\\Jessi\\AppData\\Local\\Temp\\ipykernel_66888\\3752831314.py:20: SettingWithCopyWarning: \n",
      "A value is trying to be set on a copy of a slice from a DataFrame.\n",
      "Try using .loc[row_indexer,col_indexer] = value instead\n",
      "\n",
      "See the caveats in the documentation: https://pandas.pydata.org/pandas-docs/stable/user_guide/indexing.html#returning-a-view-versus-a-copy\n",
      "  songs_subset[lst_of_cols] = songs_subset[['trackName', 'artistName']].apply(find_info, axis=1)\n",
      "C:\\Users\\Jessi\\AppData\\Local\\Temp\\ipykernel_66888\\3752831314.py:20: SettingWithCopyWarning: \n",
      "A value is trying to be set on a copy of a slice from a DataFrame.\n",
      "Try using .loc[row_indexer,col_indexer] = value instead\n",
      "\n",
      "See the caveats in the documentation: https://pandas.pydata.org/pandas-docs/stable/user_guide/indexing.html#returning-a-view-versus-a-copy\n",
      "  songs_subset[lst_of_cols] = songs_subset[['trackName', 'artistName']].apply(find_info, axis=1)\n",
      "C:\\Users\\Jessi\\AppData\\Local\\Temp\\ipykernel_66888\\3752831314.py:20: SettingWithCopyWarning: \n",
      "A value is trying to be set on a copy of a slice from a DataFrame.\n",
      "Try using .loc[row_indexer,col_indexer] = value instead\n",
      "\n",
      "See the caveats in the documentation: https://pandas.pydata.org/pandas-docs/stable/user_guide/indexing.html#returning-a-view-versus-a-copy\n",
      "  songs_subset[lst_of_cols] = songs_subset[['trackName', 'artistName']].apply(find_info, axis=1)\n",
      "C:\\Users\\Jessi\\AppData\\Local\\Temp\\ipykernel_66888\\3752831314.py:20: SettingWithCopyWarning: \n",
      "A value is trying to be set on a copy of a slice from a DataFrame.\n",
      "Try using .loc[row_indexer,col_indexer] = value instead\n",
      "\n",
      "See the caveats in the documentation: https://pandas.pydata.org/pandas-docs/stable/user_guide/indexing.html#returning-a-view-versus-a-copy\n",
      "  songs_subset[lst_of_cols] = songs_subset[['trackName', 'artistName']].apply(find_info, axis=1)\n",
      "C:\\Users\\Jessi\\AppData\\Local\\Temp\\ipykernel_66888\\3752831314.py:20: SettingWithCopyWarning: \n",
      "A value is trying to be set on a copy of a slice from a DataFrame.\n",
      "Try using .loc[row_indexer,col_indexer] = value instead\n",
      "\n",
      "See the caveats in the documentation: https://pandas.pydata.org/pandas-docs/stable/user_guide/indexing.html#returning-a-view-versus-a-copy\n",
      "  songs_subset[lst_of_cols] = songs_subset[['trackName', 'artistName']].apply(find_info, axis=1)\n",
      "C:\\Users\\Jessi\\AppData\\Local\\Temp\\ipykernel_66888\\3752831314.py:20: SettingWithCopyWarning: \n",
      "A value is trying to be set on a copy of a slice from a DataFrame.\n",
      "Try using .loc[row_indexer,col_indexer] = value instead\n",
      "\n",
      "See the caveats in the documentation: https://pandas.pydata.org/pandas-docs/stable/user_guide/indexing.html#returning-a-view-versus-a-copy\n",
      "  songs_subset[lst_of_cols] = songs_subset[['trackName', 'artistName']].apply(find_info, axis=1)\n",
      "C:\\Users\\Jessi\\AppData\\Local\\Temp\\ipykernel_66888\\3752831314.py:20: SettingWithCopyWarning: \n",
      "A value is trying to be set on a copy of a slice from a DataFrame.\n",
      "Try using .loc[row_indexer,col_indexer] = value instead\n",
      "\n",
      "See the caveats in the documentation: https://pandas.pydata.org/pandas-docs/stable/user_guide/indexing.html#returning-a-view-versus-a-copy\n",
      "  songs_subset[lst_of_cols] = songs_subset[['trackName', 'artistName']].apply(find_info, axis=1)\n",
      "C:\\Users\\Jessi\\AppData\\Local\\Temp\\ipykernel_66888\\3752831314.py:20: SettingWithCopyWarning: \n",
      "A value is trying to be set on a copy of a slice from a DataFrame.\n",
      "Try using .loc[row_indexer,col_indexer] = value instead\n",
      "\n",
      "See the caveats in the documentation: https://pandas.pydata.org/pandas-docs/stable/user_guide/indexing.html#returning-a-view-versus-a-copy\n",
      "  songs_subset[lst_of_cols] = songs_subset[['trackName', 'artistName']].apply(find_info, axis=1)\n",
      "C:\\Users\\Jessi\\AppData\\Local\\Temp\\ipykernel_66888\\3752831314.py:20: SettingWithCopyWarning: \n",
      "A value is trying to be set on a copy of a slice from a DataFrame.\n",
      "Try using .loc[row_indexer,col_indexer] = value instead\n",
      "\n",
      "See the caveats in the documentation: https://pandas.pydata.org/pandas-docs/stable/user_guide/indexing.html#returning-a-view-versus-a-copy\n",
      "  songs_subset[lst_of_cols] = songs_subset[['trackName', 'artistName']].apply(find_info, axis=1)\n",
      "C:\\Users\\Jessi\\AppData\\Local\\Temp\\ipykernel_66888\\3752831314.py:20: SettingWithCopyWarning: \n",
      "A value is trying to be set on a copy of a slice from a DataFrame.\n",
      "Try using .loc[row_indexer,col_indexer] = value instead\n",
      "\n",
      "See the caveats in the documentation: https://pandas.pydata.org/pandas-docs/stable/user_guide/indexing.html#returning-a-view-versus-a-copy\n",
      "  songs_subset[lst_of_cols] = songs_subset[['trackName', 'artistName']].apply(find_info, axis=1)\n",
      "C:\\Users\\Jessi\\AppData\\Local\\Temp\\ipykernel_66888\\3752831314.py:20: SettingWithCopyWarning: \n",
      "A value is trying to be set on a copy of a slice from a DataFrame.\n",
      "Try using .loc[row_indexer,col_indexer] = value instead\n",
      "\n",
      "See the caveats in the documentation: https://pandas.pydata.org/pandas-docs/stable/user_guide/indexing.html#returning-a-view-versus-a-copy\n",
      "  songs_subset[lst_of_cols] = songs_subset[['trackName', 'artistName']].apply(find_info, axis=1)\n",
      "C:\\Users\\Jessi\\AppData\\Local\\Temp\\ipykernel_66888\\3752831314.py:20: SettingWithCopyWarning: \n",
      "A value is trying to be set on a copy of a slice from a DataFrame.\n",
      "Try using .loc[row_indexer,col_indexer] = value instead\n",
      "\n",
      "See the caveats in the documentation: https://pandas.pydata.org/pandas-docs/stable/user_guide/indexing.html#returning-a-view-versus-a-copy\n",
      "  songs_subset[lst_of_cols] = songs_subset[['trackName', 'artistName']].apply(find_info, axis=1)\n",
      "C:\\Users\\Jessi\\AppData\\Local\\Temp\\ipykernel_66888\\3752831314.py:20: SettingWithCopyWarning: \n",
      "A value is trying to be set on a copy of a slice from a DataFrame.\n",
      "Try using .loc[row_indexer,col_indexer] = value instead\n",
      "\n",
      "See the caveats in the documentation: https://pandas.pydata.org/pandas-docs/stable/user_guide/indexing.html#returning-a-view-versus-a-copy\n",
      "  songs_subset[lst_of_cols] = songs_subset[['trackName', 'artistName']].apply(find_info, axis=1)\n",
      "C:\\Users\\Jessi\\AppData\\Local\\Temp\\ipykernel_66888\\3752831314.py:20: SettingWithCopyWarning: \n",
      "A value is trying to be set on a copy of a slice from a DataFrame.\n",
      "Try using .loc[row_indexer,col_indexer] = value instead\n",
      "\n",
      "See the caveats in the documentation: https://pandas.pydata.org/pandas-docs/stable/user_guide/indexing.html#returning-a-view-versus-a-copy\n",
      "  songs_subset[lst_of_cols] = songs_subset[['trackName', 'artistName']].apply(find_info, axis=1)\n",
      "C:\\Users\\Jessi\\AppData\\Local\\Temp\\ipykernel_66888\\3752831314.py:20: SettingWithCopyWarning: \n",
      "A value is trying to be set on a copy of a slice from a DataFrame.\n",
      "Try using .loc[row_indexer,col_indexer] = value instead\n",
      "\n",
      "See the caveats in the documentation: https://pandas.pydata.org/pandas-docs/stable/user_guide/indexing.html#returning-a-view-versus-a-copy\n",
      "  songs_subset[lst_of_cols] = songs_subset[['trackName', 'artistName']].apply(find_info, axis=1)\n",
      "C:\\Users\\Jessi\\AppData\\Local\\Temp\\ipykernel_66888\\3752831314.py:20: SettingWithCopyWarning: \n",
      "A value is trying to be set on a copy of a slice from a DataFrame.\n",
      "Try using .loc[row_indexer,col_indexer] = value instead\n",
      "\n",
      "See the caveats in the documentation: https://pandas.pydata.org/pandas-docs/stable/user_guide/indexing.html#returning-a-view-versus-a-copy\n",
      "  songs_subset[lst_of_cols] = songs_subset[['trackName', 'artistName']].apply(find_info, axis=1)\n",
      "C:\\Users\\Jessi\\AppData\\Local\\Temp\\ipykernel_66888\\3752831314.py:20: SettingWithCopyWarning: \n",
      "A value is trying to be set on a copy of a slice from a DataFrame.\n",
      "Try using .loc[row_indexer,col_indexer] = value instead\n",
      "\n",
      "See the caveats in the documentation: https://pandas.pydata.org/pandas-docs/stable/user_guide/indexing.html#returning-a-view-versus-a-copy\n",
      "  songs_subset[lst_of_cols] = songs_subset[['trackName', 'artistName']].apply(find_info, axis=1)\n",
      "C:\\Users\\Jessi\\AppData\\Local\\Temp\\ipykernel_66888\\3752831314.py:20: SettingWithCopyWarning: \n",
      "A value is trying to be set on a copy of a slice from a DataFrame.\n",
      "Try using .loc[row_indexer,col_indexer] = value instead\n",
      "\n",
      "See the caveats in the documentation: https://pandas.pydata.org/pandas-docs/stable/user_guide/indexing.html#returning-a-view-versus-a-copy\n",
      "  songs_subset[lst_of_cols] = songs_subset[['trackName', 'artistName']].apply(find_info, axis=1)\n",
      "C:\\Users\\Jessi\\AppData\\Local\\Temp\\ipykernel_66888\\3752831314.py:20: SettingWithCopyWarning: \n",
      "A value is trying to be set on a copy of a slice from a DataFrame.\n",
      "Try using .loc[row_indexer,col_indexer] = value instead\n",
      "\n",
      "See the caveats in the documentation: https://pandas.pydata.org/pandas-docs/stable/user_guide/indexing.html#returning-a-view-versus-a-copy\n",
      "  songs_subset[lst_of_cols] = songs_subset[['trackName', 'artistName']].apply(find_info, axis=1)\n",
      "C:\\Users\\Jessi\\AppData\\Local\\Temp\\ipykernel_66888\\3752831314.py:20: SettingWithCopyWarning: \n",
      "A value is trying to be set on a copy of a slice from a DataFrame.\n",
      "Try using .loc[row_indexer,col_indexer] = value instead\n",
      "\n",
      "See the caveats in the documentation: https://pandas.pydata.org/pandas-docs/stable/user_guide/indexing.html#returning-a-view-versus-a-copy\n",
      "  songs_subset[lst_of_cols] = songs_subset[['trackName', 'artistName']].apply(find_info, axis=1)\n",
      "C:\\Users\\Jessi\\AppData\\Local\\Temp\\ipykernel_66888\\3752831314.py:20: SettingWithCopyWarning: \n",
      "A value is trying to be set on a copy of a slice from a DataFrame.\n",
      "Try using .loc[row_indexer,col_indexer] = value instead\n",
      "\n",
      "See the caveats in the documentation: https://pandas.pydata.org/pandas-docs/stable/user_guide/indexing.html#returning-a-view-versus-a-copy\n",
      "  songs_subset[lst_of_cols] = songs_subset[['trackName', 'artistName']].apply(find_info, axis=1)\n",
      "C:\\Users\\Jessi\\AppData\\Local\\Temp\\ipykernel_66888\\3752831314.py:20: SettingWithCopyWarning: \n",
      "A value is trying to be set on a copy of a slice from a DataFrame.\n",
      "Try using .loc[row_indexer,col_indexer] = value instead\n",
      "\n",
      "See the caveats in the documentation: https://pandas.pydata.org/pandas-docs/stable/user_guide/indexing.html#returning-a-view-versus-a-copy\n",
      "  songs_subset[lst_of_cols] = songs_subset[['trackName', 'artistName']].apply(find_info, axis=1)\n",
      "C:\\Users\\Jessi\\AppData\\Local\\Temp\\ipykernel_66888\\3752831314.py:20: SettingWithCopyWarning: \n",
      "A value is trying to be set on a copy of a slice from a DataFrame.\n",
      "Try using .loc[row_indexer,col_indexer] = value instead\n",
      "\n",
      "See the caveats in the documentation: https://pandas.pydata.org/pandas-docs/stable/user_guide/indexing.html#returning-a-view-versus-a-copy\n",
      "  songs_subset[lst_of_cols] = songs_subset[['trackName', 'artistName']].apply(find_info, axis=1)\n",
      "C:\\Users\\Jessi\\AppData\\Local\\Temp\\ipykernel_66888\\3752831314.py:20: SettingWithCopyWarning: \n",
      "A value is trying to be set on a copy of a slice from a DataFrame.\n",
      "Try using .loc[row_indexer,col_indexer] = value instead\n",
      "\n",
      "See the caveats in the documentation: https://pandas.pydata.org/pandas-docs/stable/user_guide/indexing.html#returning-a-view-versus-a-copy\n",
      "  songs_subset[lst_of_cols] = songs_subset[['trackName', 'artistName']].apply(find_info, axis=1)\n",
      "C:\\Users\\Jessi\\AppData\\Local\\Temp\\ipykernel_66888\\3752831314.py:20: SettingWithCopyWarning: \n",
      "A value is trying to be set on a copy of a slice from a DataFrame.\n",
      "Try using .loc[row_indexer,col_indexer] = value instead\n",
      "\n",
      "See the caveats in the documentation: https://pandas.pydata.org/pandas-docs/stable/user_guide/indexing.html#returning-a-view-versus-a-copy\n",
      "  songs_subset[lst_of_cols] = songs_subset[['trackName', 'artistName']].apply(find_info, axis=1)\n",
      "C:\\Users\\Jessi\\AppData\\Local\\Temp\\ipykernel_66888\\3752831314.py:20: SettingWithCopyWarning: \n",
      "A value is trying to be set on a copy of a slice from a DataFrame.\n",
      "Try using .loc[row_indexer,col_indexer] = value instead\n",
      "\n",
      "See the caveats in the documentation: https://pandas.pydata.org/pandas-docs/stable/user_guide/indexing.html#returning-a-view-versus-a-copy\n",
      "  songs_subset[lst_of_cols] = songs_subset[['trackName', 'artistName']].apply(find_info, axis=1)\n",
      "C:\\Users\\Jessi\\AppData\\Local\\Temp\\ipykernel_66888\\3752831314.py:20: SettingWithCopyWarning: \n",
      "A value is trying to be set on a copy of a slice from a DataFrame.\n",
      "Try using .loc[row_indexer,col_indexer] = value instead\n",
      "\n",
      "See the caveats in the documentation: https://pandas.pydata.org/pandas-docs/stable/user_guide/indexing.html#returning-a-view-versus-a-copy\n",
      "  songs_subset[lst_of_cols] = songs_subset[['trackName', 'artistName']].apply(find_info, axis=1)\n",
      "C:\\Users\\Jessi\\AppData\\Local\\Temp\\ipykernel_66888\\3752831314.py:20: SettingWithCopyWarning: \n",
      "A value is trying to be set on a copy of a slice from a DataFrame.\n",
      "Try using .loc[row_indexer,col_indexer] = value instead\n",
      "\n",
      "See the caveats in the documentation: https://pandas.pydata.org/pandas-docs/stable/user_guide/indexing.html#returning-a-view-versus-a-copy\n",
      "  songs_subset[lst_of_cols] = songs_subset[['trackName', 'artistName']].apply(find_info, axis=1)\n",
      "C:\\Users\\Jessi\\AppData\\Local\\Temp\\ipykernel_66888\\3752831314.py:20: SettingWithCopyWarning: \n",
      "A value is trying to be set on a copy of a slice from a DataFrame.\n",
      "Try using .loc[row_indexer,col_indexer] = value instead\n",
      "\n",
      "See the caveats in the documentation: https://pandas.pydata.org/pandas-docs/stable/user_guide/indexing.html#returning-a-view-versus-a-copy\n",
      "  songs_subset[lst_of_cols] = songs_subset[['trackName', 'artistName']].apply(find_info, axis=1)\n",
      "C:\\Users\\Jessi\\AppData\\Local\\Temp\\ipykernel_66888\\3752831314.py:20: SettingWithCopyWarning: \n",
      "A value is trying to be set on a copy of a slice from a DataFrame.\n",
      "Try using .loc[row_indexer,col_indexer] = value instead\n",
      "\n",
      "See the caveats in the documentation: https://pandas.pydata.org/pandas-docs/stable/user_guide/indexing.html#returning-a-view-versus-a-copy\n",
      "  songs_subset[lst_of_cols] = songs_subset[['trackName', 'artistName']].apply(find_info, axis=1)\n",
      "C:\\Users\\Jessi\\AppData\\Local\\Temp\\ipykernel_66888\\3752831314.py:20: SettingWithCopyWarning: \n",
      "A value is trying to be set on a copy of a slice from a DataFrame.\n",
      "Try using .loc[row_indexer,col_indexer] = value instead\n",
      "\n",
      "See the caveats in the documentation: https://pandas.pydata.org/pandas-docs/stable/user_guide/indexing.html#returning-a-view-versus-a-copy\n",
      "  songs_subset[lst_of_cols] = songs_subset[['trackName', 'artistName']].apply(find_info, axis=1)\n",
      "C:\\Users\\Jessi\\AppData\\Local\\Temp\\ipykernel_66888\\3752831314.py:20: SettingWithCopyWarning: \n",
      "A value is trying to be set on a copy of a slice from a DataFrame.\n",
      "Try using .loc[row_indexer,col_indexer] = value instead\n",
      "\n",
      "See the caveats in the documentation: https://pandas.pydata.org/pandas-docs/stable/user_guide/indexing.html#returning-a-view-versus-a-copy\n",
      "  songs_subset[lst_of_cols] = songs_subset[['trackName', 'artistName']].apply(find_info, axis=1)\n",
      "C:\\Users\\Jessi\\AppData\\Local\\Temp\\ipykernel_66888\\3752831314.py:20: SettingWithCopyWarning: \n",
      "A value is trying to be set on a copy of a slice from a DataFrame.\n",
      "Try using .loc[row_indexer,col_indexer] = value instead\n",
      "\n",
      "See the caveats in the documentation: https://pandas.pydata.org/pandas-docs/stable/user_guide/indexing.html#returning-a-view-versus-a-copy\n",
      "  songs_subset[lst_of_cols] = songs_subset[['trackName', 'artistName']].apply(find_info, axis=1)\n",
      "C:\\Users\\Jessi\\AppData\\Local\\Temp\\ipykernel_66888\\3752831314.py:20: SettingWithCopyWarning: \n",
      "A value is trying to be set on a copy of a slice from a DataFrame.\n",
      "Try using .loc[row_indexer,col_indexer] = value instead\n",
      "\n",
      "See the caveats in the documentation: https://pandas.pydata.org/pandas-docs/stable/user_guide/indexing.html#returning-a-view-versus-a-copy\n",
      "  songs_subset[lst_of_cols] = songs_subset[['trackName', 'artistName']].apply(find_info, axis=1)\n",
      "C:\\Users\\Jessi\\AppData\\Local\\Temp\\ipykernel_66888\\3752831314.py:20: SettingWithCopyWarning: \n",
      "A value is trying to be set on a copy of a slice from a DataFrame.\n",
      "Try using .loc[row_indexer,col_indexer] = value instead\n",
      "\n",
      "See the caveats in the documentation: https://pandas.pydata.org/pandas-docs/stable/user_guide/indexing.html#returning-a-view-versus-a-copy\n",
      "  songs_subset[lst_of_cols] = songs_subset[['trackName', 'artistName']].apply(find_info, axis=1)\n",
      "C:\\Users\\Jessi\\AppData\\Local\\Temp\\ipykernel_66888\\3752831314.py:20: SettingWithCopyWarning: \n",
      "A value is trying to be set on a copy of a slice from a DataFrame.\n",
      "Try using .loc[row_indexer,col_indexer] = value instead\n",
      "\n",
      "See the caveats in the documentation: https://pandas.pydata.org/pandas-docs/stable/user_guide/indexing.html#returning-a-view-versus-a-copy\n",
      "  songs_subset[lst_of_cols] = songs_subset[['trackName', 'artistName']].apply(find_info, axis=1)\n",
      "C:\\Users\\Jessi\\AppData\\Local\\Temp\\ipykernel_66888\\3752831314.py:20: SettingWithCopyWarning: \n",
      "A value is trying to be set on a copy of a slice from a DataFrame.\n",
      "Try using .loc[row_indexer,col_indexer] = value instead\n",
      "\n",
      "See the caveats in the documentation: https://pandas.pydata.org/pandas-docs/stable/user_guide/indexing.html#returning-a-view-versus-a-copy\n",
      "  songs_subset[lst_of_cols] = songs_subset[['trackName', 'artistName']].apply(find_info, axis=1)\n",
      "C:\\Users\\Jessi\\AppData\\Local\\Temp\\ipykernel_66888\\3752831314.py:20: SettingWithCopyWarning: \n",
      "A value is trying to be set on a copy of a slice from a DataFrame.\n",
      "Try using .loc[row_indexer,col_indexer] = value instead\n",
      "\n",
      "See the caveats in the documentation: https://pandas.pydata.org/pandas-docs/stable/user_guide/indexing.html#returning-a-view-versus-a-copy\n",
      "  songs_subset[lst_of_cols] = songs_subset[['trackName', 'artistName']].apply(find_info, axis=1)\n",
      "C:\\Users\\Jessi\\AppData\\Local\\Temp\\ipykernel_66888\\3752831314.py:20: SettingWithCopyWarning: \n",
      "A value is trying to be set on a copy of a slice from a DataFrame.\n",
      "Try using .loc[row_indexer,col_indexer] = value instead\n",
      "\n",
      "See the caveats in the documentation: https://pandas.pydata.org/pandas-docs/stable/user_guide/indexing.html#returning-a-view-versus-a-copy\n",
      "  songs_subset[lst_of_cols] = songs_subset[['trackName', 'artistName']].apply(find_info, axis=1)\n",
      "C:\\Users\\Jessi\\AppData\\Local\\Temp\\ipykernel_66888\\3752831314.py:20: SettingWithCopyWarning: \n",
      "A value is trying to be set on a copy of a slice from a DataFrame.\n",
      "Try using .loc[row_indexer,col_indexer] = value instead\n",
      "\n",
      "See the caveats in the documentation: https://pandas.pydata.org/pandas-docs/stable/user_guide/indexing.html#returning-a-view-versus-a-copy\n",
      "  songs_subset[lst_of_cols] = songs_subset[['trackName', 'artistName']].apply(find_info, axis=1)\n",
      "C:\\Users\\Jessi\\AppData\\Local\\Temp\\ipykernel_66888\\3752831314.py:20: SettingWithCopyWarning: \n",
      "A value is trying to be set on a copy of a slice from a DataFrame.\n",
      "Try using .loc[row_indexer,col_indexer] = value instead\n",
      "\n",
      "See the caveats in the documentation: https://pandas.pydata.org/pandas-docs/stable/user_guide/indexing.html#returning-a-view-versus-a-copy\n",
      "  songs_subset[lst_of_cols] = songs_subset[['trackName', 'artistName']].apply(find_info, axis=1)\n",
      "C:\\Users\\Jessi\\AppData\\Local\\Temp\\ipykernel_66888\\3752831314.py:20: SettingWithCopyWarning: \n",
      "A value is trying to be set on a copy of a slice from a DataFrame.\n",
      "Try using .loc[row_indexer,col_indexer] = value instead\n",
      "\n",
      "See the caveats in the documentation: https://pandas.pydata.org/pandas-docs/stable/user_guide/indexing.html#returning-a-view-versus-a-copy\n",
      "  songs_subset[lst_of_cols] = songs_subset[['trackName', 'artistName']].apply(find_info, axis=1)\n",
      "C:\\Users\\Jessi\\AppData\\Local\\Temp\\ipykernel_66888\\3752831314.py:20: SettingWithCopyWarning: \n",
      "A value is trying to be set on a copy of a slice from a DataFrame.\n",
      "Try using .loc[row_indexer,col_indexer] = value instead\n",
      "\n",
      "See the caveats in the documentation: https://pandas.pydata.org/pandas-docs/stable/user_guide/indexing.html#returning-a-view-versus-a-copy\n",
      "  songs_subset[lst_of_cols] = songs_subset[['trackName', 'artistName']].apply(find_info, axis=1)\n",
      "C:\\Users\\Jessi\\AppData\\Local\\Temp\\ipykernel_66888\\3752831314.py:20: SettingWithCopyWarning: \n",
      "A value is trying to be set on a copy of a slice from a DataFrame.\n",
      "Try using .loc[row_indexer,col_indexer] = value instead\n",
      "\n",
      "See the caveats in the documentation: https://pandas.pydata.org/pandas-docs/stable/user_guide/indexing.html#returning-a-view-versus-a-copy\n",
      "  songs_subset[lst_of_cols] = songs_subset[['trackName', 'artistName']].apply(find_info, axis=1)\n",
      "C:\\Users\\Jessi\\AppData\\Local\\Temp\\ipykernel_66888\\3752831314.py:20: SettingWithCopyWarning: \n",
      "A value is trying to be set on a copy of a slice from a DataFrame.\n",
      "Try using .loc[row_indexer,col_indexer] = value instead\n",
      "\n",
      "See the caveats in the documentation: https://pandas.pydata.org/pandas-docs/stable/user_guide/indexing.html#returning-a-view-versus-a-copy\n",
      "  songs_subset[lst_of_cols] = songs_subset[['trackName', 'artistName']].apply(find_info, axis=1)\n",
      "C:\\Users\\Jessi\\AppData\\Local\\Temp\\ipykernel_66888\\3752831314.py:20: SettingWithCopyWarning: \n",
      "A value is trying to be set on a copy of a slice from a DataFrame.\n",
      "Try using .loc[row_indexer,col_indexer] = value instead\n",
      "\n",
      "See the caveats in the documentation: https://pandas.pydata.org/pandas-docs/stable/user_guide/indexing.html#returning-a-view-versus-a-copy\n",
      "  songs_subset[lst_of_cols] = songs_subset[['trackName', 'artistName']].apply(find_info, axis=1)\n",
      "C:\\Users\\Jessi\\AppData\\Local\\Temp\\ipykernel_66888\\3752831314.py:20: SettingWithCopyWarning: \n",
      "A value is trying to be set on a copy of a slice from a DataFrame.\n",
      "Try using .loc[row_indexer,col_indexer] = value instead\n",
      "\n",
      "See the caveats in the documentation: https://pandas.pydata.org/pandas-docs/stable/user_guide/indexing.html#returning-a-view-versus-a-copy\n",
      "  songs_subset[lst_of_cols] = songs_subset[['trackName', 'artistName']].apply(find_info, axis=1)\n",
      "C:\\Users\\Jessi\\AppData\\Local\\Temp\\ipykernel_66888\\3752831314.py:20: SettingWithCopyWarning: \n",
      "A value is trying to be set on a copy of a slice from a DataFrame.\n",
      "Try using .loc[row_indexer,col_indexer] = value instead\n",
      "\n",
      "See the caveats in the documentation: https://pandas.pydata.org/pandas-docs/stable/user_guide/indexing.html#returning-a-view-versus-a-copy\n",
      "  songs_subset[lst_of_cols] = songs_subset[['trackName', 'artistName']].apply(find_info, axis=1)\n",
      "C:\\Users\\Jessi\\AppData\\Local\\Temp\\ipykernel_66888\\3752831314.py:20: SettingWithCopyWarning: \n",
      "A value is trying to be set on a copy of a slice from a DataFrame.\n",
      "Try using .loc[row_indexer,col_indexer] = value instead\n",
      "\n",
      "See the caveats in the documentation: https://pandas.pydata.org/pandas-docs/stable/user_guide/indexing.html#returning-a-view-versus-a-copy\n",
      "  songs_subset[lst_of_cols] = songs_subset[['trackName', 'artistName']].apply(find_info, axis=1)\n",
      "C:\\Users\\Jessi\\AppData\\Local\\Temp\\ipykernel_66888\\3752831314.py:20: SettingWithCopyWarning: \n",
      "A value is trying to be set on a copy of a slice from a DataFrame.\n",
      "Try using .loc[row_indexer,col_indexer] = value instead\n",
      "\n",
      "See the caveats in the documentation: https://pandas.pydata.org/pandas-docs/stable/user_guide/indexing.html#returning-a-view-versus-a-copy\n",
      "  songs_subset[lst_of_cols] = songs_subset[['trackName', 'artistName']].apply(find_info, axis=1)\n",
      "C:\\Users\\Jessi\\AppData\\Local\\Temp\\ipykernel_66888\\3752831314.py:20: SettingWithCopyWarning: \n",
      "A value is trying to be set on a copy of a slice from a DataFrame.\n",
      "Try using .loc[row_indexer,col_indexer] = value instead\n",
      "\n",
      "See the caveats in the documentation: https://pandas.pydata.org/pandas-docs/stable/user_guide/indexing.html#returning-a-view-versus-a-copy\n",
      "  songs_subset[lst_of_cols] = songs_subset[['trackName', 'artistName']].apply(find_info, axis=1)\n",
      "C:\\Users\\Jessi\\AppData\\Local\\Temp\\ipykernel_66888\\3752831314.py:20: SettingWithCopyWarning: \n",
      "A value is trying to be set on a copy of a slice from a DataFrame.\n",
      "Try using .loc[row_indexer,col_indexer] = value instead\n",
      "\n",
      "See the caveats in the documentation: https://pandas.pydata.org/pandas-docs/stable/user_guide/indexing.html#returning-a-view-versus-a-copy\n",
      "  songs_subset[lst_of_cols] = songs_subset[['trackName', 'artistName']].apply(find_info, axis=1)\n",
      "C:\\Users\\Jessi\\AppData\\Local\\Temp\\ipykernel_66888\\3752831314.py:20: SettingWithCopyWarning: \n",
      "A value is trying to be set on a copy of a slice from a DataFrame.\n",
      "Try using .loc[row_indexer,col_indexer] = value instead\n",
      "\n",
      "See the caveats in the documentation: https://pandas.pydata.org/pandas-docs/stable/user_guide/indexing.html#returning-a-view-versus-a-copy\n",
      "  songs_subset[lst_of_cols] = songs_subset[['trackName', 'artistName']].apply(find_info, axis=1)\n",
      "C:\\Users\\Jessi\\AppData\\Local\\Temp\\ipykernel_66888\\3752831314.py:20: SettingWithCopyWarning: \n",
      "A value is trying to be set on a copy of a slice from a DataFrame.\n",
      "Try using .loc[row_indexer,col_indexer] = value instead\n",
      "\n",
      "See the caveats in the documentation: https://pandas.pydata.org/pandas-docs/stable/user_guide/indexing.html#returning-a-view-versus-a-copy\n",
      "  songs_subset[lst_of_cols] = songs_subset[['trackName', 'artistName']].apply(find_info, axis=1)\n",
      "C:\\Users\\Jessi\\AppData\\Local\\Temp\\ipykernel_66888\\3752831314.py:20: SettingWithCopyWarning: \n",
      "A value is trying to be set on a copy of a slice from a DataFrame.\n",
      "Try using .loc[row_indexer,col_indexer] = value instead\n",
      "\n",
      "See the caveats in the documentation: https://pandas.pydata.org/pandas-docs/stable/user_guide/indexing.html#returning-a-view-versus-a-copy\n",
      "  songs_subset[lst_of_cols] = songs_subset[['trackName', 'artistName']].apply(find_info, axis=1)\n",
      "C:\\Users\\Jessi\\AppData\\Local\\Temp\\ipykernel_66888\\3752831314.py:20: SettingWithCopyWarning: \n",
      "A value is trying to be set on a copy of a slice from a DataFrame.\n",
      "Try using .loc[row_indexer,col_indexer] = value instead\n",
      "\n",
      "See the caveats in the documentation: https://pandas.pydata.org/pandas-docs/stable/user_guide/indexing.html#returning-a-view-versus-a-copy\n",
      "  songs_subset[lst_of_cols] = songs_subset[['trackName', 'artistName']].apply(find_info, axis=1)\n",
      "C:\\Users\\Jessi\\AppData\\Local\\Temp\\ipykernel_66888\\3752831314.py:20: SettingWithCopyWarning: \n",
      "A value is trying to be set on a copy of a slice from a DataFrame.\n",
      "Try using .loc[row_indexer,col_indexer] = value instead\n",
      "\n",
      "See the caveats in the documentation: https://pandas.pydata.org/pandas-docs/stable/user_guide/indexing.html#returning-a-view-versus-a-copy\n",
      "  songs_subset[lst_of_cols] = songs_subset[['trackName', 'artistName']].apply(find_info, axis=1)\n",
      "C:\\Users\\Jessi\\AppData\\Local\\Temp\\ipykernel_66888\\3752831314.py:20: SettingWithCopyWarning: \n",
      "A value is trying to be set on a copy of a slice from a DataFrame.\n",
      "Try using .loc[row_indexer,col_indexer] = value instead\n",
      "\n",
      "See the caveats in the documentation: https://pandas.pydata.org/pandas-docs/stable/user_guide/indexing.html#returning-a-view-versus-a-copy\n",
      "  songs_subset[lst_of_cols] = songs_subset[['trackName', 'artistName']].apply(find_info, axis=1)\n",
      "C:\\Users\\Jessi\\AppData\\Local\\Temp\\ipykernel_66888\\3752831314.py:20: SettingWithCopyWarning: \n",
      "A value is trying to be set on a copy of a slice from a DataFrame.\n",
      "Try using .loc[row_indexer,col_indexer] = value instead\n",
      "\n",
      "See the caveats in the documentation: https://pandas.pydata.org/pandas-docs/stable/user_guide/indexing.html#returning-a-view-versus-a-copy\n",
      "  songs_subset[lst_of_cols] = songs_subset[['trackName', 'artistName']].apply(find_info, axis=1)\n",
      "C:\\Users\\Jessi\\AppData\\Local\\Temp\\ipykernel_66888\\3752831314.py:20: SettingWithCopyWarning: \n",
      "A value is trying to be set on a copy of a slice from a DataFrame.\n",
      "Try using .loc[row_indexer,col_indexer] = value instead\n",
      "\n",
      "See the caveats in the documentation: https://pandas.pydata.org/pandas-docs/stable/user_guide/indexing.html#returning-a-view-versus-a-copy\n",
      "  songs_subset[lst_of_cols] = songs_subset[['trackName', 'artistName']].apply(find_info, axis=1)\n",
      "C:\\Users\\Jessi\\AppData\\Local\\Temp\\ipykernel_66888\\3752831314.py:20: SettingWithCopyWarning: \n",
      "A value is trying to be set on a copy of a slice from a DataFrame.\n",
      "Try using .loc[row_indexer,col_indexer] = value instead\n",
      "\n",
      "See the caveats in the documentation: https://pandas.pydata.org/pandas-docs/stable/user_guide/indexing.html#returning-a-view-versus-a-copy\n",
      "  songs_subset[lst_of_cols] = songs_subset[['trackName', 'artistName']].apply(find_info, axis=1)\n",
      "C:\\Users\\Jessi\\AppData\\Local\\Temp\\ipykernel_66888\\3752831314.py:20: SettingWithCopyWarning: \n",
      "A value is trying to be set on a copy of a slice from a DataFrame.\n",
      "Try using .loc[row_indexer,col_indexer] = value instead\n",
      "\n",
      "See the caveats in the documentation: https://pandas.pydata.org/pandas-docs/stable/user_guide/indexing.html#returning-a-view-versus-a-copy\n",
      "  songs_subset[lst_of_cols] = songs_subset[['trackName', 'artistName']].apply(find_info, axis=1)\n",
      "C:\\Users\\Jessi\\AppData\\Local\\Temp\\ipykernel_66888\\3752831314.py:20: SettingWithCopyWarning: \n",
      "A value is trying to be set on a copy of a slice from a DataFrame.\n",
      "Try using .loc[row_indexer,col_indexer] = value instead\n",
      "\n",
      "See the caveats in the documentation: https://pandas.pydata.org/pandas-docs/stable/user_guide/indexing.html#returning-a-view-versus-a-copy\n",
      "  songs_subset[lst_of_cols] = songs_subset[['trackName', 'artistName']].apply(find_info, axis=1)\n",
      "C:\\Users\\Jessi\\AppData\\Local\\Temp\\ipykernel_66888\\3752831314.py:20: SettingWithCopyWarning: \n",
      "A value is trying to be set on a copy of a slice from a DataFrame.\n",
      "Try using .loc[row_indexer,col_indexer] = value instead\n",
      "\n",
      "See the caveats in the documentation: https://pandas.pydata.org/pandas-docs/stable/user_guide/indexing.html#returning-a-view-versus-a-copy\n",
      "  songs_subset[lst_of_cols] = songs_subset[['trackName', 'artistName']].apply(find_info, axis=1)\n",
      "C:\\Users\\Jessi\\AppData\\Local\\Temp\\ipykernel_66888\\3752831314.py:20: SettingWithCopyWarning: \n",
      "A value is trying to be set on a copy of a slice from a DataFrame.\n",
      "Try using .loc[row_indexer,col_indexer] = value instead\n",
      "\n",
      "See the caveats in the documentation: https://pandas.pydata.org/pandas-docs/stable/user_guide/indexing.html#returning-a-view-versus-a-copy\n",
      "  songs_subset[lst_of_cols] = songs_subset[['trackName', 'artistName']].apply(find_info, axis=1)\n",
      "C:\\Users\\Jessi\\AppData\\Local\\Temp\\ipykernel_66888\\3752831314.py:20: SettingWithCopyWarning: \n",
      "A value is trying to be set on a copy of a slice from a DataFrame.\n",
      "Try using .loc[row_indexer,col_indexer] = value instead\n",
      "\n",
      "See the caveats in the documentation: https://pandas.pydata.org/pandas-docs/stable/user_guide/indexing.html#returning-a-view-versus-a-copy\n",
      "  songs_subset[lst_of_cols] = songs_subset[['trackName', 'artistName']].apply(find_info, axis=1)\n",
      "C:\\Users\\Jessi\\AppData\\Local\\Temp\\ipykernel_66888\\3752831314.py:20: SettingWithCopyWarning: \n",
      "A value is trying to be set on a copy of a slice from a DataFrame.\n",
      "Try using .loc[row_indexer,col_indexer] = value instead\n",
      "\n",
      "See the caveats in the documentation: https://pandas.pydata.org/pandas-docs/stable/user_guide/indexing.html#returning-a-view-versus-a-copy\n",
      "  songs_subset[lst_of_cols] = songs_subset[['trackName', 'artistName']].apply(find_info, axis=1)\n",
      "C:\\Users\\Jessi\\AppData\\Local\\Temp\\ipykernel_66888\\3752831314.py:20: SettingWithCopyWarning: \n",
      "A value is trying to be set on a copy of a slice from a DataFrame.\n",
      "Try using .loc[row_indexer,col_indexer] = value instead\n",
      "\n",
      "See the caveats in the documentation: https://pandas.pydata.org/pandas-docs/stable/user_guide/indexing.html#returning-a-view-versus-a-copy\n",
      "  songs_subset[lst_of_cols] = songs_subset[['trackName', 'artistName']].apply(find_info, axis=1)\n",
      "C:\\Users\\Jessi\\AppData\\Local\\Temp\\ipykernel_66888\\3752831314.py:20: SettingWithCopyWarning: \n",
      "A value is trying to be set on a copy of a slice from a DataFrame.\n",
      "Try using .loc[row_indexer,col_indexer] = value instead\n",
      "\n",
      "See the caveats in the documentation: https://pandas.pydata.org/pandas-docs/stable/user_guide/indexing.html#returning-a-view-versus-a-copy\n",
      "  songs_subset[lst_of_cols] = songs_subset[['trackName', 'artistName']].apply(find_info, axis=1)\n",
      "C:\\Users\\Jessi\\AppData\\Local\\Temp\\ipykernel_66888\\3752831314.py:20: SettingWithCopyWarning: \n",
      "A value is trying to be set on a copy of a slice from a DataFrame.\n",
      "Try using .loc[row_indexer,col_indexer] = value instead\n",
      "\n",
      "See the caveats in the documentation: https://pandas.pydata.org/pandas-docs/stable/user_guide/indexing.html#returning-a-view-versus-a-copy\n",
      "  songs_subset[lst_of_cols] = songs_subset[['trackName', 'artistName']].apply(find_info, axis=1)\n",
      "C:\\Users\\Jessi\\AppData\\Local\\Temp\\ipykernel_66888\\3752831314.py:20: SettingWithCopyWarning: \n",
      "A value is trying to be set on a copy of a slice from a DataFrame.\n",
      "Try using .loc[row_indexer,col_indexer] = value instead\n",
      "\n",
      "See the caveats in the documentation: https://pandas.pydata.org/pandas-docs/stable/user_guide/indexing.html#returning-a-view-versus-a-copy\n",
      "  songs_subset[lst_of_cols] = songs_subset[['trackName', 'artistName']].apply(find_info, axis=1)\n",
      "C:\\Users\\Jessi\\AppData\\Local\\Temp\\ipykernel_66888\\3752831314.py:20: SettingWithCopyWarning: \n",
      "A value is trying to be set on a copy of a slice from a DataFrame.\n",
      "Try using .loc[row_indexer,col_indexer] = value instead\n",
      "\n",
      "See the caveats in the documentation: https://pandas.pydata.org/pandas-docs/stable/user_guide/indexing.html#returning-a-view-versus-a-copy\n",
      "  songs_subset[lst_of_cols] = songs_subset[['trackName', 'artistName']].apply(find_info, axis=1)\n",
      "C:\\Users\\Jessi\\AppData\\Local\\Temp\\ipykernel_66888\\3752831314.py:20: SettingWithCopyWarning: \n",
      "A value is trying to be set on a copy of a slice from a DataFrame.\n",
      "Try using .loc[row_indexer,col_indexer] = value instead\n",
      "\n",
      "See the caveats in the documentation: https://pandas.pydata.org/pandas-docs/stable/user_guide/indexing.html#returning-a-view-versus-a-copy\n",
      "  songs_subset[lst_of_cols] = songs_subset[['trackName', 'artistName']].apply(find_info, axis=1)\n",
      "C:\\Users\\Jessi\\AppData\\Local\\Temp\\ipykernel_66888\\3752831314.py:20: SettingWithCopyWarning: \n",
      "A value is trying to be set on a copy of a slice from a DataFrame.\n",
      "Try using .loc[row_indexer,col_indexer] = value instead\n",
      "\n",
      "See the caveats in the documentation: https://pandas.pydata.org/pandas-docs/stable/user_guide/indexing.html#returning-a-view-versus-a-copy\n",
      "  songs_subset[lst_of_cols] = songs_subset[['trackName', 'artistName']].apply(find_info, axis=1)\n",
      "C:\\Users\\Jessi\\AppData\\Local\\Temp\\ipykernel_66888\\3752831314.py:20: SettingWithCopyWarning: \n",
      "A value is trying to be set on a copy of a slice from a DataFrame.\n",
      "Try using .loc[row_indexer,col_indexer] = value instead\n",
      "\n",
      "See the caveats in the documentation: https://pandas.pydata.org/pandas-docs/stable/user_guide/indexing.html#returning-a-view-versus-a-copy\n",
      "  songs_subset[lst_of_cols] = songs_subset[['trackName', 'artistName']].apply(find_info, axis=1)\n",
      "C:\\Users\\Jessi\\AppData\\Local\\Temp\\ipykernel_66888\\3752831314.py:20: SettingWithCopyWarning: \n",
      "A value is trying to be set on a copy of a slice from a DataFrame.\n",
      "Try using .loc[row_indexer,col_indexer] = value instead\n",
      "\n",
      "See the caveats in the documentation: https://pandas.pydata.org/pandas-docs/stable/user_guide/indexing.html#returning-a-view-versus-a-copy\n",
      "  songs_subset[lst_of_cols] = songs_subset[['trackName', 'artistName']].apply(find_info, axis=1)\n",
      "C:\\Users\\Jessi\\AppData\\Local\\Temp\\ipykernel_66888\\3752831314.py:20: SettingWithCopyWarning: \n",
      "A value is trying to be set on a copy of a slice from a DataFrame.\n",
      "Try using .loc[row_indexer,col_indexer] = value instead\n",
      "\n",
      "See the caveats in the documentation: https://pandas.pydata.org/pandas-docs/stable/user_guide/indexing.html#returning-a-view-versus-a-copy\n",
      "  songs_subset[lst_of_cols] = songs_subset[['trackName', 'artistName']].apply(find_info, axis=1)\n",
      "C:\\Users\\Jessi\\AppData\\Local\\Temp\\ipykernel_66888\\3752831314.py:20: SettingWithCopyWarning: \n",
      "A value is trying to be set on a copy of a slice from a DataFrame.\n",
      "Try using .loc[row_indexer,col_indexer] = value instead\n",
      "\n",
      "See the caveats in the documentation: https://pandas.pydata.org/pandas-docs/stable/user_guide/indexing.html#returning-a-view-versus-a-copy\n",
      "  songs_subset[lst_of_cols] = songs_subset[['trackName', 'artistName']].apply(find_info, axis=1)\n",
      "C:\\Users\\Jessi\\AppData\\Local\\Temp\\ipykernel_66888\\3752831314.py:20: SettingWithCopyWarning: \n",
      "A value is trying to be set on a copy of a slice from a DataFrame.\n",
      "Try using .loc[row_indexer,col_indexer] = value instead\n",
      "\n",
      "See the caveats in the documentation: https://pandas.pydata.org/pandas-docs/stable/user_guide/indexing.html#returning-a-view-versus-a-copy\n",
      "  songs_subset[lst_of_cols] = songs_subset[['trackName', 'artistName']].apply(find_info, axis=1)\n",
      "C:\\Users\\Jessi\\AppData\\Local\\Temp\\ipykernel_66888\\3752831314.py:20: SettingWithCopyWarning: \n",
      "A value is trying to be set on a copy of a slice from a DataFrame.\n",
      "Try using .loc[row_indexer,col_indexer] = value instead\n",
      "\n",
      "See the caveats in the documentation: https://pandas.pydata.org/pandas-docs/stable/user_guide/indexing.html#returning-a-view-versus-a-copy\n",
      "  songs_subset[lst_of_cols] = songs_subset[['trackName', 'artistName']].apply(find_info, axis=1)\n",
      "C:\\Users\\Jessi\\AppData\\Local\\Temp\\ipykernel_66888\\3752831314.py:20: SettingWithCopyWarning: \n",
      "A value is trying to be set on a copy of a slice from a DataFrame.\n",
      "Try using .loc[row_indexer,col_indexer] = value instead\n",
      "\n",
      "See the caveats in the documentation: https://pandas.pydata.org/pandas-docs/stable/user_guide/indexing.html#returning-a-view-versus-a-copy\n",
      "  songs_subset[lst_of_cols] = songs_subset[['trackName', 'artistName']].apply(find_info, axis=1)\n",
      "C:\\Users\\Jessi\\AppData\\Local\\Temp\\ipykernel_66888\\3752831314.py:20: SettingWithCopyWarning: \n",
      "A value is trying to be set on a copy of a slice from a DataFrame.\n",
      "Try using .loc[row_indexer,col_indexer] = value instead\n",
      "\n",
      "See the caveats in the documentation: https://pandas.pydata.org/pandas-docs/stable/user_guide/indexing.html#returning-a-view-versus-a-copy\n",
      "  songs_subset[lst_of_cols] = songs_subset[['trackName', 'artistName']].apply(find_info, axis=1)\n",
      "C:\\Users\\Jessi\\AppData\\Local\\Temp\\ipykernel_66888\\3752831314.py:20: SettingWithCopyWarning: \n",
      "A value is trying to be set on a copy of a slice from a DataFrame.\n",
      "Try using .loc[row_indexer,col_indexer] = value instead\n",
      "\n",
      "See the caveats in the documentation: https://pandas.pydata.org/pandas-docs/stable/user_guide/indexing.html#returning-a-view-versus-a-copy\n",
      "  songs_subset[lst_of_cols] = songs_subset[['trackName', 'artistName']].apply(find_info, axis=1)\n",
      "C:\\Users\\Jessi\\AppData\\Local\\Temp\\ipykernel_66888\\3752831314.py:20: SettingWithCopyWarning: \n",
      "A value is trying to be set on a copy of a slice from a DataFrame.\n",
      "Try using .loc[row_indexer,col_indexer] = value instead\n",
      "\n",
      "See the caveats in the documentation: https://pandas.pydata.org/pandas-docs/stable/user_guide/indexing.html#returning-a-view-versus-a-copy\n",
      "  songs_subset[lst_of_cols] = songs_subset[['trackName', 'artistName']].apply(find_info, axis=1)\n",
      "C:\\Users\\Jessi\\AppData\\Local\\Temp\\ipykernel_66888\\3752831314.py:20: SettingWithCopyWarning: \n",
      "A value is trying to be set on a copy of a slice from a DataFrame.\n",
      "Try using .loc[row_indexer,col_indexer] = value instead\n",
      "\n",
      "See the caveats in the documentation: https://pandas.pydata.org/pandas-docs/stable/user_guide/indexing.html#returning-a-view-versus-a-copy\n",
      "  songs_subset[lst_of_cols] = songs_subset[['trackName', 'artistName']].apply(find_info, axis=1)\n",
      "C:\\Users\\Jessi\\AppData\\Local\\Temp\\ipykernel_66888\\3752831314.py:20: SettingWithCopyWarning: \n",
      "A value is trying to be set on a copy of a slice from a DataFrame.\n",
      "Try using .loc[row_indexer,col_indexer] = value instead\n",
      "\n",
      "See the caveats in the documentation: https://pandas.pydata.org/pandas-docs/stable/user_guide/indexing.html#returning-a-view-versus-a-copy\n",
      "  songs_subset[lst_of_cols] = songs_subset[['trackName', 'artistName']].apply(find_info, axis=1)\n",
      "C:\\Users\\Jessi\\AppData\\Local\\Temp\\ipykernel_66888\\3752831314.py:20: SettingWithCopyWarning: \n",
      "A value is trying to be set on a copy of a slice from a DataFrame.\n",
      "Try using .loc[row_indexer,col_indexer] = value instead\n",
      "\n",
      "See the caveats in the documentation: https://pandas.pydata.org/pandas-docs/stable/user_guide/indexing.html#returning-a-view-versus-a-copy\n",
      "  songs_subset[lst_of_cols] = songs_subset[['trackName', 'artistName']].apply(find_info, axis=1)\n",
      "C:\\Users\\Jessi\\AppData\\Local\\Temp\\ipykernel_66888\\3752831314.py:20: SettingWithCopyWarning: \n",
      "A value is trying to be set on a copy of a slice from a DataFrame.\n",
      "Try using .loc[row_indexer,col_indexer] = value instead\n",
      "\n",
      "See the caveats in the documentation: https://pandas.pydata.org/pandas-docs/stable/user_guide/indexing.html#returning-a-view-versus-a-copy\n",
      "  songs_subset[lst_of_cols] = songs_subset[['trackName', 'artistName']].apply(find_info, axis=1)\n",
      "C:\\Users\\Jessi\\AppData\\Local\\Temp\\ipykernel_66888\\3752831314.py:20: SettingWithCopyWarning: \n",
      "A value is trying to be set on a copy of a slice from a DataFrame.\n",
      "Try using .loc[row_indexer,col_indexer] = value instead\n",
      "\n",
      "See the caveats in the documentation: https://pandas.pydata.org/pandas-docs/stable/user_guide/indexing.html#returning-a-view-versus-a-copy\n",
      "  songs_subset[lst_of_cols] = songs_subset[['trackName', 'artistName']].apply(find_info, axis=1)\n",
      "C:\\Users\\Jessi\\AppData\\Local\\Temp\\ipykernel_66888\\3752831314.py:20: SettingWithCopyWarning: \n",
      "A value is trying to be set on a copy of a slice from a DataFrame.\n",
      "Try using .loc[row_indexer,col_indexer] = value instead\n",
      "\n",
      "See the caveats in the documentation: https://pandas.pydata.org/pandas-docs/stable/user_guide/indexing.html#returning-a-view-versus-a-copy\n",
      "  songs_subset[lst_of_cols] = songs_subset[['trackName', 'artistName']].apply(find_info, axis=1)\n",
      "C:\\Users\\Jessi\\AppData\\Local\\Temp\\ipykernel_66888\\3752831314.py:20: SettingWithCopyWarning: \n",
      "A value is trying to be set on a copy of a slice from a DataFrame.\n",
      "Try using .loc[row_indexer,col_indexer] = value instead\n",
      "\n",
      "See the caveats in the documentation: https://pandas.pydata.org/pandas-docs/stable/user_guide/indexing.html#returning-a-view-versus-a-copy\n",
      "  songs_subset[lst_of_cols] = songs_subset[['trackName', 'artistName']].apply(find_info, axis=1)\n",
      "C:\\Users\\Jessi\\AppData\\Local\\Temp\\ipykernel_66888\\3752831314.py:20: SettingWithCopyWarning: \n",
      "A value is trying to be set on a copy of a slice from a DataFrame.\n",
      "Try using .loc[row_indexer,col_indexer] = value instead\n",
      "\n",
      "See the caveats in the documentation: https://pandas.pydata.org/pandas-docs/stable/user_guide/indexing.html#returning-a-view-versus-a-copy\n",
      "  songs_subset[lst_of_cols] = songs_subset[['trackName', 'artistName']].apply(find_info, axis=1)\n",
      "C:\\Users\\Jessi\\AppData\\Local\\Temp\\ipykernel_66888\\3752831314.py:20: SettingWithCopyWarning: \n",
      "A value is trying to be set on a copy of a slice from a DataFrame.\n",
      "Try using .loc[row_indexer,col_indexer] = value instead\n",
      "\n",
      "See the caveats in the documentation: https://pandas.pydata.org/pandas-docs/stable/user_guide/indexing.html#returning-a-view-versus-a-copy\n",
      "  songs_subset[lst_of_cols] = songs_subset[['trackName', 'artistName']].apply(find_info, axis=1)\n",
      "C:\\Users\\Jessi\\AppData\\Local\\Temp\\ipykernel_66888\\3752831314.py:20: SettingWithCopyWarning: \n",
      "A value is trying to be set on a copy of a slice from a DataFrame.\n",
      "Try using .loc[row_indexer,col_indexer] = value instead\n",
      "\n",
      "See the caveats in the documentation: https://pandas.pydata.org/pandas-docs/stable/user_guide/indexing.html#returning-a-view-versus-a-copy\n",
      "  songs_subset[lst_of_cols] = songs_subset[['trackName', 'artistName']].apply(find_info, axis=1)\n",
      "C:\\Users\\Jessi\\AppData\\Local\\Temp\\ipykernel_66888\\3752831314.py:20: SettingWithCopyWarning: \n",
      "A value is trying to be set on a copy of a slice from a DataFrame.\n",
      "Try using .loc[row_indexer,col_indexer] = value instead\n",
      "\n",
      "See the caveats in the documentation: https://pandas.pydata.org/pandas-docs/stable/user_guide/indexing.html#returning-a-view-versus-a-copy\n",
      "  songs_subset[lst_of_cols] = songs_subset[['trackName', 'artistName']].apply(find_info, axis=1)\n",
      "C:\\Users\\Jessi\\AppData\\Local\\Temp\\ipykernel_66888\\3752831314.py:20: SettingWithCopyWarning: \n",
      "A value is trying to be set on a copy of a slice from a DataFrame.\n",
      "Try using .loc[row_indexer,col_indexer] = value instead\n",
      "\n",
      "See the caveats in the documentation: https://pandas.pydata.org/pandas-docs/stable/user_guide/indexing.html#returning-a-view-versus-a-copy\n",
      "  songs_subset[lst_of_cols] = songs_subset[['trackName', 'artistName']].apply(find_info, axis=1)\n",
      "C:\\Users\\Jessi\\AppData\\Local\\Temp\\ipykernel_66888\\3752831314.py:20: SettingWithCopyWarning: \n",
      "A value is trying to be set on a copy of a slice from a DataFrame.\n",
      "Try using .loc[row_indexer,col_indexer] = value instead\n",
      "\n",
      "See the caveats in the documentation: https://pandas.pydata.org/pandas-docs/stable/user_guide/indexing.html#returning-a-view-versus-a-copy\n",
      "  songs_subset[lst_of_cols] = songs_subset[['trackName', 'artistName']].apply(find_info, axis=1)\n",
      "C:\\Users\\Jessi\\AppData\\Local\\Temp\\ipykernel_66888\\3752831314.py:20: SettingWithCopyWarning: \n",
      "A value is trying to be set on a copy of a slice from a DataFrame.\n",
      "Try using .loc[row_indexer,col_indexer] = value instead\n",
      "\n",
      "See the caveats in the documentation: https://pandas.pydata.org/pandas-docs/stable/user_guide/indexing.html#returning-a-view-versus-a-copy\n",
      "  songs_subset[lst_of_cols] = songs_subset[['trackName', 'artistName']].apply(find_info, axis=1)\n",
      "C:\\Users\\Jessi\\AppData\\Local\\Temp\\ipykernel_66888\\3752831314.py:20: SettingWithCopyWarning: \n",
      "A value is trying to be set on a copy of a slice from a DataFrame.\n",
      "Try using .loc[row_indexer,col_indexer] = value instead\n",
      "\n",
      "See the caveats in the documentation: https://pandas.pydata.org/pandas-docs/stable/user_guide/indexing.html#returning-a-view-versus-a-copy\n",
      "  songs_subset[lst_of_cols] = songs_subset[['trackName', 'artistName']].apply(find_info, axis=1)\n",
      "C:\\Users\\Jessi\\AppData\\Local\\Temp\\ipykernel_66888\\3752831314.py:20: SettingWithCopyWarning: \n",
      "A value is trying to be set on a copy of a slice from a DataFrame.\n",
      "Try using .loc[row_indexer,col_indexer] = value instead\n",
      "\n",
      "See the caveats in the documentation: https://pandas.pydata.org/pandas-docs/stable/user_guide/indexing.html#returning-a-view-versus-a-copy\n",
      "  songs_subset[lst_of_cols] = songs_subset[['trackName', 'artistName']].apply(find_info, axis=1)\n",
      "C:\\Users\\Jessi\\AppData\\Local\\Temp\\ipykernel_66888\\3752831314.py:20: SettingWithCopyWarning: \n",
      "A value is trying to be set on a copy of a slice from a DataFrame.\n",
      "Try using .loc[row_indexer,col_indexer] = value instead\n",
      "\n",
      "See the caveats in the documentation: https://pandas.pydata.org/pandas-docs/stable/user_guide/indexing.html#returning-a-view-versus-a-copy\n",
      "  songs_subset[lst_of_cols] = songs_subset[['trackName', 'artistName']].apply(find_info, axis=1)\n",
      "C:\\Users\\Jessi\\AppData\\Local\\Temp\\ipykernel_66888\\3752831314.py:20: SettingWithCopyWarning: \n",
      "A value is trying to be set on a copy of a slice from a DataFrame.\n",
      "Try using .loc[row_indexer,col_indexer] = value instead\n",
      "\n",
      "See the caveats in the documentation: https://pandas.pydata.org/pandas-docs/stable/user_guide/indexing.html#returning-a-view-versus-a-copy\n",
      "  songs_subset[lst_of_cols] = songs_subset[['trackName', 'artistName']].apply(find_info, axis=1)\n",
      "C:\\Users\\Jessi\\AppData\\Local\\Temp\\ipykernel_66888\\3752831314.py:20: SettingWithCopyWarning: \n",
      "A value is trying to be set on a copy of a slice from a DataFrame.\n",
      "Try using .loc[row_indexer,col_indexer] = value instead\n",
      "\n",
      "See the caveats in the documentation: https://pandas.pydata.org/pandas-docs/stable/user_guide/indexing.html#returning-a-view-versus-a-copy\n",
      "  songs_subset[lst_of_cols] = songs_subset[['trackName', 'artistName']].apply(find_info, axis=1)\n",
      "C:\\Users\\Jessi\\AppData\\Local\\Temp\\ipykernel_66888\\3752831314.py:20: SettingWithCopyWarning: \n",
      "A value is trying to be set on a copy of a slice from a DataFrame.\n",
      "Try using .loc[row_indexer,col_indexer] = value instead\n",
      "\n",
      "See the caveats in the documentation: https://pandas.pydata.org/pandas-docs/stable/user_guide/indexing.html#returning-a-view-versus-a-copy\n",
      "  songs_subset[lst_of_cols] = songs_subset[['trackName', 'artistName']].apply(find_info, axis=1)\n",
      "C:\\Users\\Jessi\\AppData\\Local\\Temp\\ipykernel_66888\\3752831314.py:20: SettingWithCopyWarning: \n",
      "A value is trying to be set on a copy of a slice from a DataFrame.\n",
      "Try using .loc[row_indexer,col_indexer] = value instead\n",
      "\n",
      "See the caveats in the documentation: https://pandas.pydata.org/pandas-docs/stable/user_guide/indexing.html#returning-a-view-versus-a-copy\n",
      "  songs_subset[lst_of_cols] = songs_subset[['trackName', 'artistName']].apply(find_info, axis=1)\n",
      "C:\\Users\\Jessi\\AppData\\Local\\Temp\\ipykernel_66888\\3752831314.py:20: SettingWithCopyWarning: \n",
      "A value is trying to be set on a copy of a slice from a DataFrame.\n",
      "Try using .loc[row_indexer,col_indexer] = value instead\n",
      "\n",
      "See the caveats in the documentation: https://pandas.pydata.org/pandas-docs/stable/user_guide/indexing.html#returning-a-view-versus-a-copy\n",
      "  songs_subset[lst_of_cols] = songs_subset[['trackName', 'artistName']].apply(find_info, axis=1)\n",
      "C:\\Users\\Jessi\\AppData\\Local\\Temp\\ipykernel_66888\\3752831314.py:20: SettingWithCopyWarning: \n",
      "A value is trying to be set on a copy of a slice from a DataFrame.\n",
      "Try using .loc[row_indexer,col_indexer] = value instead\n",
      "\n",
      "See the caveats in the documentation: https://pandas.pydata.org/pandas-docs/stable/user_guide/indexing.html#returning-a-view-versus-a-copy\n",
      "  songs_subset[lst_of_cols] = songs_subset[['trackName', 'artistName']].apply(find_info, axis=1)\n",
      "C:\\Users\\Jessi\\AppData\\Local\\Temp\\ipykernel_66888\\3752831314.py:20: SettingWithCopyWarning: \n",
      "A value is trying to be set on a copy of a slice from a DataFrame.\n",
      "Try using .loc[row_indexer,col_indexer] = value instead\n",
      "\n",
      "See the caveats in the documentation: https://pandas.pydata.org/pandas-docs/stable/user_guide/indexing.html#returning-a-view-versus-a-copy\n",
      "  songs_subset[lst_of_cols] = songs_subset[['trackName', 'artistName']].apply(find_info, axis=1)\n",
      "C:\\Users\\Jessi\\AppData\\Local\\Temp\\ipykernel_66888\\3752831314.py:20: SettingWithCopyWarning: \n",
      "A value is trying to be set on a copy of a slice from a DataFrame.\n",
      "Try using .loc[row_indexer,col_indexer] = value instead\n",
      "\n",
      "See the caveats in the documentation: https://pandas.pydata.org/pandas-docs/stable/user_guide/indexing.html#returning-a-view-versus-a-copy\n",
      "  songs_subset[lst_of_cols] = songs_subset[['trackName', 'artistName']].apply(find_info, axis=1)\n",
      "C:\\Users\\Jessi\\AppData\\Local\\Temp\\ipykernel_66888\\3752831314.py:20: SettingWithCopyWarning: \n",
      "A value is trying to be set on a copy of a slice from a DataFrame.\n",
      "Try using .loc[row_indexer,col_indexer] = value instead\n",
      "\n",
      "See the caveats in the documentation: https://pandas.pydata.org/pandas-docs/stable/user_guide/indexing.html#returning-a-view-versus-a-copy\n",
      "  songs_subset[lst_of_cols] = songs_subset[['trackName', 'artistName']].apply(find_info, axis=1)\n",
      "C:\\Users\\Jessi\\AppData\\Local\\Temp\\ipykernel_66888\\3752831314.py:20: SettingWithCopyWarning: \n",
      "A value is trying to be set on a copy of a slice from a DataFrame.\n",
      "Try using .loc[row_indexer,col_indexer] = value instead\n",
      "\n",
      "See the caveats in the documentation: https://pandas.pydata.org/pandas-docs/stable/user_guide/indexing.html#returning-a-view-versus-a-copy\n",
      "  songs_subset[lst_of_cols] = songs_subset[['trackName', 'artistName']].apply(find_info, axis=1)\n",
      "C:\\Users\\Jessi\\AppData\\Local\\Temp\\ipykernel_66888\\3752831314.py:20: SettingWithCopyWarning: \n",
      "A value is trying to be set on a copy of a slice from a DataFrame.\n",
      "Try using .loc[row_indexer,col_indexer] = value instead\n",
      "\n",
      "See the caveats in the documentation: https://pandas.pydata.org/pandas-docs/stable/user_guide/indexing.html#returning-a-view-versus-a-copy\n",
      "  songs_subset[lst_of_cols] = songs_subset[['trackName', 'artistName']].apply(find_info, axis=1)\n",
      "C:\\Users\\Jessi\\AppData\\Local\\Temp\\ipykernel_66888\\3752831314.py:20: SettingWithCopyWarning: \n",
      "A value is trying to be set on a copy of a slice from a DataFrame.\n",
      "Try using .loc[row_indexer,col_indexer] = value instead\n",
      "\n",
      "See the caveats in the documentation: https://pandas.pydata.org/pandas-docs/stable/user_guide/indexing.html#returning-a-view-versus-a-copy\n",
      "  songs_subset[lst_of_cols] = songs_subset[['trackName', 'artistName']].apply(find_info, axis=1)\n",
      "C:\\Users\\Jessi\\AppData\\Local\\Temp\\ipykernel_66888\\3752831314.py:20: SettingWithCopyWarning: \n",
      "A value is trying to be set on a copy of a slice from a DataFrame.\n",
      "Try using .loc[row_indexer,col_indexer] = value instead\n",
      "\n",
      "See the caveats in the documentation: https://pandas.pydata.org/pandas-docs/stable/user_guide/indexing.html#returning-a-view-versus-a-copy\n",
      "  songs_subset[lst_of_cols] = songs_subset[['trackName', 'artistName']].apply(find_info, axis=1)\n",
      "C:\\Users\\Jessi\\AppData\\Local\\Temp\\ipykernel_66888\\3752831314.py:20: SettingWithCopyWarning: \n",
      "A value is trying to be set on a copy of a slice from a DataFrame.\n",
      "Try using .loc[row_indexer,col_indexer] = value instead\n",
      "\n",
      "See the caveats in the documentation: https://pandas.pydata.org/pandas-docs/stable/user_guide/indexing.html#returning-a-view-versus-a-copy\n",
      "  songs_subset[lst_of_cols] = songs_subset[['trackName', 'artistName']].apply(find_info, axis=1)\n",
      "C:\\Users\\Jessi\\AppData\\Local\\Temp\\ipykernel_66888\\3752831314.py:20: SettingWithCopyWarning: \n",
      "A value is trying to be set on a copy of a slice from a DataFrame.\n",
      "Try using .loc[row_indexer,col_indexer] = value instead\n",
      "\n",
      "See the caveats in the documentation: https://pandas.pydata.org/pandas-docs/stable/user_guide/indexing.html#returning-a-view-versus-a-copy\n",
      "  songs_subset[lst_of_cols] = songs_subset[['trackName', 'artistName']].apply(find_info, axis=1)\n",
      "C:\\Users\\Jessi\\AppData\\Local\\Temp\\ipykernel_66888\\3752831314.py:20: SettingWithCopyWarning: \n",
      "A value is trying to be set on a copy of a slice from a DataFrame.\n",
      "Try using .loc[row_indexer,col_indexer] = value instead\n",
      "\n",
      "See the caveats in the documentation: https://pandas.pydata.org/pandas-docs/stable/user_guide/indexing.html#returning-a-view-versus-a-copy\n",
      "  songs_subset[lst_of_cols] = songs_subset[['trackName', 'artistName']].apply(find_info, axis=1)\n",
      "C:\\Users\\Jessi\\AppData\\Local\\Temp\\ipykernel_66888\\3752831314.py:20: SettingWithCopyWarning: \n",
      "A value is trying to be set on a copy of a slice from a DataFrame.\n",
      "Try using .loc[row_indexer,col_indexer] = value instead\n",
      "\n",
      "See the caveats in the documentation: https://pandas.pydata.org/pandas-docs/stable/user_guide/indexing.html#returning-a-view-versus-a-copy\n",
      "  songs_subset[lst_of_cols] = songs_subset[['trackName', 'artistName']].apply(find_info, axis=1)\n",
      "C:\\Users\\Jessi\\AppData\\Local\\Temp\\ipykernel_66888\\3752831314.py:20: SettingWithCopyWarning: \n",
      "A value is trying to be set on a copy of a slice from a DataFrame.\n",
      "Try using .loc[row_indexer,col_indexer] = value instead\n",
      "\n",
      "See the caveats in the documentation: https://pandas.pydata.org/pandas-docs/stable/user_guide/indexing.html#returning-a-view-versus-a-copy\n",
      "  songs_subset[lst_of_cols] = songs_subset[['trackName', 'artistName']].apply(find_info, axis=1)\n",
      "C:\\Users\\Jessi\\AppData\\Local\\Temp\\ipykernel_66888\\3752831314.py:20: SettingWithCopyWarning: \n",
      "A value is trying to be set on a copy of a slice from a DataFrame.\n",
      "Try using .loc[row_indexer,col_indexer] = value instead\n",
      "\n",
      "See the caveats in the documentation: https://pandas.pydata.org/pandas-docs/stable/user_guide/indexing.html#returning-a-view-versus-a-copy\n",
      "  songs_subset[lst_of_cols] = songs_subset[['trackName', 'artistName']].apply(find_info, axis=1)\n",
      "C:\\Users\\Jessi\\AppData\\Local\\Temp\\ipykernel_66888\\3752831314.py:20: SettingWithCopyWarning: \n",
      "A value is trying to be set on a copy of a slice from a DataFrame.\n",
      "Try using .loc[row_indexer,col_indexer] = value instead\n",
      "\n",
      "See the caveats in the documentation: https://pandas.pydata.org/pandas-docs/stable/user_guide/indexing.html#returning-a-view-versus-a-copy\n",
      "  songs_subset[lst_of_cols] = songs_subset[['trackName', 'artistName']].apply(find_info, axis=1)\n",
      "C:\\Users\\Jessi\\AppData\\Local\\Temp\\ipykernel_66888\\3752831314.py:20: SettingWithCopyWarning: \n",
      "A value is trying to be set on a copy of a slice from a DataFrame.\n",
      "Try using .loc[row_indexer,col_indexer] = value instead\n",
      "\n",
      "See the caveats in the documentation: https://pandas.pydata.org/pandas-docs/stable/user_guide/indexing.html#returning-a-view-versus-a-copy\n",
      "  songs_subset[lst_of_cols] = songs_subset[['trackName', 'artistName']].apply(find_info, axis=1)\n",
      "C:\\Users\\Jessi\\AppData\\Local\\Temp\\ipykernel_66888\\3752831314.py:20: SettingWithCopyWarning: \n",
      "A value is trying to be set on a copy of a slice from a DataFrame.\n",
      "Try using .loc[row_indexer,col_indexer] = value instead\n",
      "\n",
      "See the caveats in the documentation: https://pandas.pydata.org/pandas-docs/stable/user_guide/indexing.html#returning-a-view-versus-a-copy\n",
      "  songs_subset[lst_of_cols] = songs_subset[['trackName', 'artistName']].apply(find_info, axis=1)\n",
      "C:\\Users\\Jessi\\AppData\\Local\\Temp\\ipykernel_66888\\3752831314.py:20: SettingWithCopyWarning: \n",
      "A value is trying to be set on a copy of a slice from a DataFrame.\n",
      "Try using .loc[row_indexer,col_indexer] = value instead\n",
      "\n",
      "See the caveats in the documentation: https://pandas.pydata.org/pandas-docs/stable/user_guide/indexing.html#returning-a-view-versus-a-copy\n",
      "  songs_subset[lst_of_cols] = songs_subset[['trackName', 'artistName']].apply(find_info, axis=1)\n",
      "C:\\Users\\Jessi\\AppData\\Local\\Temp\\ipykernel_66888\\3752831314.py:20: SettingWithCopyWarning: \n",
      "A value is trying to be set on a copy of a slice from a DataFrame.\n",
      "Try using .loc[row_indexer,col_indexer] = value instead\n",
      "\n",
      "See the caveats in the documentation: https://pandas.pydata.org/pandas-docs/stable/user_guide/indexing.html#returning-a-view-versus-a-copy\n",
      "  songs_subset[lst_of_cols] = songs_subset[['trackName', 'artistName']].apply(find_info, axis=1)\n",
      "C:\\Users\\Jessi\\AppData\\Local\\Temp\\ipykernel_66888\\3752831314.py:20: SettingWithCopyWarning: \n",
      "A value is trying to be set on a copy of a slice from a DataFrame.\n",
      "Try using .loc[row_indexer,col_indexer] = value instead\n",
      "\n",
      "See the caveats in the documentation: https://pandas.pydata.org/pandas-docs/stable/user_guide/indexing.html#returning-a-view-versus-a-copy\n",
      "  songs_subset[lst_of_cols] = songs_subset[['trackName', 'artistName']].apply(find_info, axis=1)\n",
      "C:\\Users\\Jessi\\AppData\\Local\\Temp\\ipykernel_66888\\3752831314.py:20: SettingWithCopyWarning: \n",
      "A value is trying to be set on a copy of a slice from a DataFrame.\n",
      "Try using .loc[row_indexer,col_indexer] = value instead\n",
      "\n",
      "See the caveats in the documentation: https://pandas.pydata.org/pandas-docs/stable/user_guide/indexing.html#returning-a-view-versus-a-copy\n",
      "  songs_subset[lst_of_cols] = songs_subset[['trackName', 'artistName']].apply(find_info, axis=1)\n",
      "C:\\Users\\Jessi\\AppData\\Local\\Temp\\ipykernel_66888\\3752831314.py:20: SettingWithCopyWarning: \n",
      "A value is trying to be set on a copy of a slice from a DataFrame.\n",
      "Try using .loc[row_indexer,col_indexer] = value instead\n",
      "\n",
      "See the caveats in the documentation: https://pandas.pydata.org/pandas-docs/stable/user_guide/indexing.html#returning-a-view-versus-a-copy\n",
      "  songs_subset[lst_of_cols] = songs_subset[['trackName', 'artistName']].apply(find_info, axis=1)\n",
      "C:\\Users\\Jessi\\AppData\\Local\\Temp\\ipykernel_66888\\3752831314.py:20: SettingWithCopyWarning: \n",
      "A value is trying to be set on a copy of a slice from a DataFrame.\n",
      "Try using .loc[row_indexer,col_indexer] = value instead\n",
      "\n",
      "See the caveats in the documentation: https://pandas.pydata.org/pandas-docs/stable/user_guide/indexing.html#returning-a-view-versus-a-copy\n",
      "  songs_subset[lst_of_cols] = songs_subset[['trackName', 'artistName']].apply(find_info, axis=1)\n",
      "C:\\Users\\Jessi\\AppData\\Local\\Temp\\ipykernel_66888\\3752831314.py:20: SettingWithCopyWarning: \n",
      "A value is trying to be set on a copy of a slice from a DataFrame.\n",
      "Try using .loc[row_indexer,col_indexer] = value instead\n",
      "\n",
      "See the caveats in the documentation: https://pandas.pydata.org/pandas-docs/stable/user_guide/indexing.html#returning-a-view-versus-a-copy\n",
      "  songs_subset[lst_of_cols] = songs_subset[['trackName', 'artistName']].apply(find_info, axis=1)\n",
      "C:\\Users\\Jessi\\AppData\\Local\\Temp\\ipykernel_66888\\3752831314.py:20: SettingWithCopyWarning: \n",
      "A value is trying to be set on a copy of a slice from a DataFrame.\n",
      "Try using .loc[row_indexer,col_indexer] = value instead\n",
      "\n",
      "See the caveats in the documentation: https://pandas.pydata.org/pandas-docs/stable/user_guide/indexing.html#returning-a-view-versus-a-copy\n",
      "  songs_subset[lst_of_cols] = songs_subset[['trackName', 'artistName']].apply(find_info, axis=1)\n",
      "C:\\Users\\Jessi\\AppData\\Local\\Temp\\ipykernel_66888\\3752831314.py:20: SettingWithCopyWarning: \n",
      "A value is trying to be set on a copy of a slice from a DataFrame.\n",
      "Try using .loc[row_indexer,col_indexer] = value instead\n",
      "\n",
      "See the caveats in the documentation: https://pandas.pydata.org/pandas-docs/stable/user_guide/indexing.html#returning-a-view-versus-a-copy\n",
      "  songs_subset[lst_of_cols] = songs_subset[['trackName', 'artistName']].apply(find_info, axis=1)\n",
      "C:\\Users\\Jessi\\AppData\\Local\\Temp\\ipykernel_66888\\3752831314.py:20: SettingWithCopyWarning: \n",
      "A value is trying to be set on a copy of a slice from a DataFrame.\n",
      "Try using .loc[row_indexer,col_indexer] = value instead\n",
      "\n",
      "See the caveats in the documentation: https://pandas.pydata.org/pandas-docs/stable/user_guide/indexing.html#returning-a-view-versus-a-copy\n",
      "  songs_subset[lst_of_cols] = songs_subset[['trackName', 'artistName']].apply(find_info, axis=1)\n",
      "C:\\Users\\Jessi\\AppData\\Local\\Temp\\ipykernel_66888\\3752831314.py:20: SettingWithCopyWarning: \n",
      "A value is trying to be set on a copy of a slice from a DataFrame.\n",
      "Try using .loc[row_indexer,col_indexer] = value instead\n",
      "\n",
      "See the caveats in the documentation: https://pandas.pydata.org/pandas-docs/stable/user_guide/indexing.html#returning-a-view-versus-a-copy\n",
      "  songs_subset[lst_of_cols] = songs_subset[['trackName', 'artistName']].apply(find_info, axis=1)\n",
      "C:\\Users\\Jessi\\AppData\\Local\\Temp\\ipykernel_66888\\3752831314.py:20: SettingWithCopyWarning: \n",
      "A value is trying to be set on a copy of a slice from a DataFrame.\n",
      "Try using .loc[row_indexer,col_indexer] = value instead\n",
      "\n",
      "See the caveats in the documentation: https://pandas.pydata.org/pandas-docs/stable/user_guide/indexing.html#returning-a-view-versus-a-copy\n",
      "  songs_subset[lst_of_cols] = songs_subset[['trackName', 'artistName']].apply(find_info, axis=1)\n",
      "C:\\Users\\Jessi\\AppData\\Local\\Temp\\ipykernel_66888\\3752831314.py:20: SettingWithCopyWarning: \n",
      "A value is trying to be set on a copy of a slice from a DataFrame.\n",
      "Try using .loc[row_indexer,col_indexer] = value instead\n",
      "\n",
      "See the caveats in the documentation: https://pandas.pydata.org/pandas-docs/stable/user_guide/indexing.html#returning-a-view-versus-a-copy\n",
      "  songs_subset[lst_of_cols] = songs_subset[['trackName', 'artistName']].apply(find_info, axis=1)\n",
      "C:\\Users\\Jessi\\AppData\\Local\\Temp\\ipykernel_66888\\3752831314.py:20: SettingWithCopyWarning: \n",
      "A value is trying to be set on a copy of a slice from a DataFrame.\n",
      "Try using .loc[row_indexer,col_indexer] = value instead\n",
      "\n",
      "See the caveats in the documentation: https://pandas.pydata.org/pandas-docs/stable/user_guide/indexing.html#returning-a-view-versus-a-copy\n",
      "  songs_subset[lst_of_cols] = songs_subset[['trackName', 'artistName']].apply(find_info, axis=1)\n",
      "C:\\Users\\Jessi\\AppData\\Local\\Temp\\ipykernel_66888\\3752831314.py:20: SettingWithCopyWarning: \n",
      "A value is trying to be set on a copy of a slice from a DataFrame.\n",
      "Try using .loc[row_indexer,col_indexer] = value instead\n",
      "\n",
      "See the caveats in the documentation: https://pandas.pydata.org/pandas-docs/stable/user_guide/indexing.html#returning-a-view-versus-a-copy\n",
      "  songs_subset[lst_of_cols] = songs_subset[['trackName', 'artistName']].apply(find_info, axis=1)\n",
      "C:\\Users\\Jessi\\AppData\\Local\\Temp\\ipykernel_66888\\3752831314.py:20: SettingWithCopyWarning: \n",
      "A value is trying to be set on a copy of a slice from a DataFrame.\n",
      "Try using .loc[row_indexer,col_indexer] = value instead\n",
      "\n",
      "See the caveats in the documentation: https://pandas.pydata.org/pandas-docs/stable/user_guide/indexing.html#returning-a-view-versus-a-copy\n",
      "  songs_subset[lst_of_cols] = songs_subset[['trackName', 'artistName']].apply(find_info, axis=1)\n",
      "C:\\Users\\Jessi\\AppData\\Local\\Temp\\ipykernel_66888\\3752831314.py:20: SettingWithCopyWarning: \n",
      "A value is trying to be set on a copy of a slice from a DataFrame.\n",
      "Try using .loc[row_indexer,col_indexer] = value instead\n",
      "\n",
      "See the caveats in the documentation: https://pandas.pydata.org/pandas-docs/stable/user_guide/indexing.html#returning-a-view-versus-a-copy\n",
      "  songs_subset[lst_of_cols] = songs_subset[['trackName', 'artistName']].apply(find_info, axis=1)\n",
      "C:\\Users\\Jessi\\AppData\\Local\\Temp\\ipykernel_66888\\3752831314.py:20: SettingWithCopyWarning: \n",
      "A value is trying to be set on a copy of a slice from a DataFrame.\n",
      "Try using .loc[row_indexer,col_indexer] = value instead\n",
      "\n",
      "See the caveats in the documentation: https://pandas.pydata.org/pandas-docs/stable/user_guide/indexing.html#returning-a-view-versus-a-copy\n",
      "  songs_subset[lst_of_cols] = songs_subset[['trackName', 'artistName']].apply(find_info, axis=1)\n",
      "C:\\Users\\Jessi\\AppData\\Local\\Temp\\ipykernel_66888\\3752831314.py:20: SettingWithCopyWarning: \n",
      "A value is trying to be set on a copy of a slice from a DataFrame.\n",
      "Try using .loc[row_indexer,col_indexer] = value instead\n",
      "\n",
      "See the caveats in the documentation: https://pandas.pydata.org/pandas-docs/stable/user_guide/indexing.html#returning-a-view-versus-a-copy\n",
      "  songs_subset[lst_of_cols] = songs_subset[['trackName', 'artistName']].apply(find_info, axis=1)\n",
      "C:\\Users\\Jessi\\AppData\\Local\\Temp\\ipykernel_66888\\3752831314.py:20: SettingWithCopyWarning: \n",
      "A value is trying to be set on a copy of a slice from a DataFrame.\n",
      "Try using .loc[row_indexer,col_indexer] = value instead\n",
      "\n",
      "See the caveats in the documentation: https://pandas.pydata.org/pandas-docs/stable/user_guide/indexing.html#returning-a-view-versus-a-copy\n",
      "  songs_subset[lst_of_cols] = songs_subset[['trackName', 'artistName']].apply(find_info, axis=1)\n",
      "C:\\Users\\Jessi\\AppData\\Local\\Temp\\ipykernel_66888\\3752831314.py:20: SettingWithCopyWarning: \n",
      "A value is trying to be set on a copy of a slice from a DataFrame.\n",
      "Try using .loc[row_indexer,col_indexer] = value instead\n",
      "\n",
      "See the caveats in the documentation: https://pandas.pydata.org/pandas-docs/stable/user_guide/indexing.html#returning-a-view-versus-a-copy\n",
      "  songs_subset[lst_of_cols] = songs_subset[['trackName', 'artistName']].apply(find_info, axis=1)\n",
      "C:\\Users\\Jessi\\AppData\\Local\\Temp\\ipykernel_66888\\3752831314.py:20: SettingWithCopyWarning: \n",
      "A value is trying to be set on a copy of a slice from a DataFrame.\n",
      "Try using .loc[row_indexer,col_indexer] = value instead\n",
      "\n",
      "See the caveats in the documentation: https://pandas.pydata.org/pandas-docs/stable/user_guide/indexing.html#returning-a-view-versus-a-copy\n",
      "  songs_subset[lst_of_cols] = songs_subset[['trackName', 'artistName']].apply(find_info, axis=1)\n",
      "C:\\Users\\Jessi\\AppData\\Local\\Temp\\ipykernel_66888\\3752831314.py:20: SettingWithCopyWarning: \n",
      "A value is trying to be set on a copy of a slice from a DataFrame.\n",
      "Try using .loc[row_indexer,col_indexer] = value instead\n",
      "\n",
      "See the caveats in the documentation: https://pandas.pydata.org/pandas-docs/stable/user_guide/indexing.html#returning-a-view-versus-a-copy\n",
      "  songs_subset[lst_of_cols] = songs_subset[['trackName', 'artistName']].apply(find_info, axis=1)\n",
      "C:\\Users\\Jessi\\AppData\\Local\\Temp\\ipykernel_66888\\3752831314.py:20: SettingWithCopyWarning: \n",
      "A value is trying to be set on a copy of a slice from a DataFrame.\n",
      "Try using .loc[row_indexer,col_indexer] = value instead\n",
      "\n",
      "See the caveats in the documentation: https://pandas.pydata.org/pandas-docs/stable/user_guide/indexing.html#returning-a-view-versus-a-copy\n",
      "  songs_subset[lst_of_cols] = songs_subset[['trackName', 'artistName']].apply(find_info, axis=1)\n",
      "C:\\Users\\Jessi\\AppData\\Local\\Temp\\ipykernel_66888\\3752831314.py:20: SettingWithCopyWarning: \n",
      "A value is trying to be set on a copy of a slice from a DataFrame.\n",
      "Try using .loc[row_indexer,col_indexer] = value instead\n",
      "\n",
      "See the caveats in the documentation: https://pandas.pydata.org/pandas-docs/stable/user_guide/indexing.html#returning-a-view-versus-a-copy\n",
      "  songs_subset[lst_of_cols] = songs_subset[['trackName', 'artistName']].apply(find_info, axis=1)\n"
     ]
    },
    {
     "data": {
      "text/html": [
       "<div>\n",
       "<style scoped>\n",
       "    .dataframe tbody tr th:only-of-type {\n",
       "        vertical-align: middle;\n",
       "    }\n",
       "\n",
       "    .dataframe tbody tr th {\n",
       "        vertical-align: top;\n",
       "    }\n",
       "\n",
       "    .dataframe thead th {\n",
       "        text-align: right;\n",
       "    }\n",
       "</style>\n",
       "<table border=\"1\" class=\"dataframe\">\n",
       "  <thead>\n",
       "    <tr style=\"text-align: right;\">\n",
       "      <th></th>\n",
       "      <th>trackName</th>\n",
       "      <th>artistName</th>\n",
       "      <th>count</th>\n",
       "      <th>danceability</th>\n",
       "      <th>energy</th>\n",
       "      <th>key</th>\n",
       "      <th>loudness</th>\n",
       "      <th>mode</th>\n",
       "      <th>speechiness</th>\n",
       "      <th>acousticness</th>\n",
       "      <th>...</th>\n",
       "      <th>liveness</th>\n",
       "      <th>valence</th>\n",
       "      <th>tempo</th>\n",
       "      <th>type</th>\n",
       "      <th>id</th>\n",
       "      <th>uri</th>\n",
       "      <th>track_href</th>\n",
       "      <th>analysis_url</th>\n",
       "      <th>duration_ms</th>\n",
       "      <th>time_signature</th>\n",
       "    </tr>\n",
       "  </thead>\n",
       "  <tbody>\n",
       "    <tr>\n",
       "      <th>0</th>\n",
       "      <td>Means Something</td>\n",
       "      <td>Lizzy McAlpine</td>\n",
       "      <td>96</td>\n",
       "      <td>0.429</td>\n",
       "      <td>0.200</td>\n",
       "      <td>8.0</td>\n",
       "      <td>-14.629</td>\n",
       "      <td>1.0</td>\n",
       "      <td>0.0512</td>\n",
       "      <td>0.825</td>\n",
       "      <td>...</td>\n",
       "      <td>0.3670</td>\n",
       "      <td>0.357</td>\n",
       "      <td>95.319</td>\n",
       "      <td>audio_features</td>\n",
       "      <td>5L3FlmnCvJY2SN2jzvUwxL</td>\n",
       "      <td>spotify:track:5L3FlmnCvJY2SN2jzvUwxL</td>\n",
       "      <td>https://api.spotify.com/v1/tracks/5L3FlmnCvJY2...</td>\n",
       "      <td>https://api.spotify.com/v1/audio-analysis/5L3F...</td>\n",
       "      <td>144632.0</td>\n",
       "      <td>4.0</td>\n",
       "    </tr>\n",
       "    <tr>\n",
       "      <th>1</th>\n",
       "      <td>How</td>\n",
       "      <td>Elina</td>\n",
       "      <td>78</td>\n",
       "      <td>0.502</td>\n",
       "      <td>0.127</td>\n",
       "      <td>1.0</td>\n",
       "      <td>-13.642</td>\n",
       "      <td>1.0</td>\n",
       "      <td>0.0587</td>\n",
       "      <td>0.931</td>\n",
       "      <td>...</td>\n",
       "      <td>0.1220</td>\n",
       "      <td>0.485</td>\n",
       "      <td>77.198</td>\n",
       "      <td>audio_features</td>\n",
       "      <td>1M2HXn0iXRD7KDJqtdGARb</td>\n",
       "      <td>spotify:track:1M2HXn0iXRD7KDJqtdGARb</td>\n",
       "      <td>https://api.spotify.com/v1/tracks/1M2HXn0iXRD7...</td>\n",
       "      <td>https://api.spotify.com/v1/audio-analysis/1M2H...</td>\n",
       "      <td>143704.0</td>\n",
       "      <td>4.0</td>\n",
       "    </tr>\n",
       "    <tr>\n",
       "      <th>2</th>\n",
       "      <td>When You Lose Someone</td>\n",
       "      <td>Nina Nesbitt</td>\n",
       "      <td>74</td>\n",
       "      <td>0.527</td>\n",
       "      <td>0.415</td>\n",
       "      <td>3.0</td>\n",
       "      <td>-4.743</td>\n",
       "      <td>1.0</td>\n",
       "      <td>0.0303</td>\n",
       "      <td>0.264</td>\n",
       "      <td>...</td>\n",
       "      <td>0.0930</td>\n",
       "      <td>0.341</td>\n",
       "      <td>130.005</td>\n",
       "      <td>audio_features</td>\n",
       "      <td>3ECh9S9MgoL9SrpZFh0Y5Z</td>\n",
       "      <td>spotify:track:3ECh9S9MgoL9SrpZFh0Y5Z</td>\n",
       "      <td>https://api.spotify.com/v1/tracks/3ECh9S9MgoL9...</td>\n",
       "      <td>https://api.spotify.com/v1/audio-analysis/3ECh...</td>\n",
       "      <td>200282.0</td>\n",
       "      <td>4.0</td>\n",
       "    </tr>\n",
       "    <tr>\n",
       "      <th>3</th>\n",
       "      <td>ceilings</td>\n",
       "      <td>Lizzy McAlpine</td>\n",
       "      <td>73</td>\n",
       "      <td>0.516</td>\n",
       "      <td>0.322</td>\n",
       "      <td>9.0</td>\n",
       "      <td>-11.762</td>\n",
       "      <td>1.0</td>\n",
       "      <td>0.0292</td>\n",
       "      <td>0.473</td>\n",
       "      <td>...</td>\n",
       "      <td>0.2150</td>\n",
       "      <td>0.261</td>\n",
       "      <td>148.005</td>\n",
       "      <td>audio_features</td>\n",
       "      <td>2L9N0zZnd37dwF0clgxMGI</td>\n",
       "      <td>spotify:track:2L9N0zZnd37dwF0clgxMGI</td>\n",
       "      <td>https://api.spotify.com/v1/tracks/2L9N0zZnd37d...</td>\n",
       "      <td>https://api.spotify.com/v1/audio-analysis/2L9N...</td>\n",
       "      <td>182888.0</td>\n",
       "      <td>3.0</td>\n",
       "    </tr>\n",
       "    <tr>\n",
       "      <th>4</th>\n",
       "      <td>hate to be lame</td>\n",
       "      <td>Lizzy McAlpine</td>\n",
       "      <td>72</td>\n",
       "      <td>0.522</td>\n",
       "      <td>0.251</td>\n",
       "      <td>10.0</td>\n",
       "      <td>-12.626</td>\n",
       "      <td>0.0</td>\n",
       "      <td>0.0603</td>\n",
       "      <td>0.871</td>\n",
       "      <td>...</td>\n",
       "      <td>0.0769</td>\n",
       "      <td>0.303</td>\n",
       "      <td>137.366</td>\n",
       "      <td>audio_features</td>\n",
       "      <td>26MJjeJ0NSOQDKeZzrEFMl</td>\n",
       "      <td>spotify:track:26MJjeJ0NSOQDKeZzrEFMl</td>\n",
       "      <td>https://api.spotify.com/v1/tracks/26MJjeJ0NSOQ...</td>\n",
       "      <td>https://api.spotify.com/v1/audio-analysis/26MJ...</td>\n",
       "      <td>156798.0</td>\n",
       "      <td>3.0</td>\n",
       "    </tr>\n",
       "  </tbody>\n",
       "</table>\n",
       "<p>5 rows × 21 columns</p>\n",
       "</div>"
      ],
      "text/plain": [
       "               trackName      artistName  count  danceability  energy   key  \\\n",
       "0        Means Something  Lizzy McAlpine     96         0.429   0.200   8.0   \n",
       "1                    How           Elina     78         0.502   0.127   1.0   \n",
       "2  When You Lose Someone    Nina Nesbitt     74         0.527   0.415   3.0   \n",
       "3               ceilings  Lizzy McAlpine     73         0.516   0.322   9.0   \n",
       "4        hate to be lame  Lizzy McAlpine     72         0.522   0.251  10.0   \n",
       "\n",
       "   loudness  mode  speechiness  acousticness  ...  liveness  valence    tempo  \\\n",
       "0   -14.629   1.0       0.0512         0.825  ...    0.3670    0.357   95.319   \n",
       "1   -13.642   1.0       0.0587         0.931  ...    0.1220    0.485   77.198   \n",
       "2    -4.743   1.0       0.0303         0.264  ...    0.0930    0.341  130.005   \n",
       "3   -11.762   1.0       0.0292         0.473  ...    0.2150    0.261  148.005   \n",
       "4   -12.626   0.0       0.0603         0.871  ...    0.0769    0.303  137.366   \n",
       "\n",
       "             type                      id  \\\n",
       "0  audio_features  5L3FlmnCvJY2SN2jzvUwxL   \n",
       "1  audio_features  1M2HXn0iXRD7KDJqtdGARb   \n",
       "2  audio_features  3ECh9S9MgoL9SrpZFh0Y5Z   \n",
       "3  audio_features  2L9N0zZnd37dwF0clgxMGI   \n",
       "4  audio_features  26MJjeJ0NSOQDKeZzrEFMl   \n",
       "\n",
       "                                    uri  \\\n",
       "0  spotify:track:5L3FlmnCvJY2SN2jzvUwxL   \n",
       "1  spotify:track:1M2HXn0iXRD7KDJqtdGARb   \n",
       "2  spotify:track:3ECh9S9MgoL9SrpZFh0Y5Z   \n",
       "3  spotify:track:2L9N0zZnd37dwF0clgxMGI   \n",
       "4  spotify:track:26MJjeJ0NSOQDKeZzrEFMl   \n",
       "\n",
       "                                          track_href  \\\n",
       "0  https://api.spotify.com/v1/tracks/5L3FlmnCvJY2...   \n",
       "1  https://api.spotify.com/v1/tracks/1M2HXn0iXRD7...   \n",
       "2  https://api.spotify.com/v1/tracks/3ECh9S9MgoL9...   \n",
       "3  https://api.spotify.com/v1/tracks/2L9N0zZnd37d...   \n",
       "4  https://api.spotify.com/v1/tracks/26MJjeJ0NSOQ...   \n",
       "\n",
       "                                        analysis_url duration_ms  \\\n",
       "0  https://api.spotify.com/v1/audio-analysis/5L3F...    144632.0   \n",
       "1  https://api.spotify.com/v1/audio-analysis/1M2H...    143704.0   \n",
       "2  https://api.spotify.com/v1/audio-analysis/3ECh...    200282.0   \n",
       "3  https://api.spotify.com/v1/audio-analysis/2L9N...    182888.0   \n",
       "4  https://api.spotify.com/v1/audio-analysis/26MJ...    156798.0   \n",
       "\n",
       "   time_signature  \n",
       "0             4.0  \n",
       "1             4.0  \n",
       "2             4.0  \n",
       "3             3.0  \n",
       "4             3.0  \n",
       "\n",
       "[5 rows x 21 columns]"
      ]
     },
     "execution_count": 21,
     "metadata": {},
     "output_type": "execute_result"
    }
   ],
   "source": [
    "lst_of_cols = list(track_features[0].keys())\n",
    "\n",
    "# [lst_of_cols.remove(col) for col in ['type', 'uri', 'analysis_url', 'track_href']] # remove columns you dont want\n",
    "\n",
    "def find_info(song):\n",
    "    try:\n",
    "        song_dict = sp.search(q='artist:' + song[1] + ' track:' + song[0], type='track')\n",
    "        song_uri = song_dict['tracks']['items'][0]['uri']\n",
    "        track_features = sp.audio_features(song_uri)[0]\n",
    "        return pd.Series([track_features[i] for i in lst_of_cols])\n",
    "    except:\n",
    "        return pd.Series([None] * len(lst_of_cols))\n",
    "    \n",
    "totals = pd.DataFrame()\n",
    "\n",
    "for i in range((songs_df.shape[0] // 100) + 1):\n",
    "    songs_subset = songs_df.iloc[100*i:100*(i + 1),:]\n",
    "    songs_subset[lst_of_cols] = songs_subset[['trackName', 'artistName']].apply(find_info, axis=1)\n",
    "    totals = pd.concat([totals, songs_subset])\n",
    "\n",
    "totals.head(5)"
   ]
  },
  {
   "cell_type": "code",
   "execution_count": 47,
   "metadata": {},
   "outputs": [
    {
     "name": "stdout",
     "output_type": "stream",
     "text": [
      "(937, 18)\n"
     ]
    },
    {
     "data": {
      "text/html": [
       "<div>\n",
       "<style scoped>\n",
       "    .dataframe tbody tr th:only-of-type {\n",
       "        vertical-align: middle;\n",
       "    }\n",
       "\n",
       "    .dataframe tbody tr th {\n",
       "        vertical-align: top;\n",
       "    }\n",
       "\n",
       "    .dataframe thead th {\n",
       "        text-align: right;\n",
       "    }\n",
       "</style>\n",
       "<table border=\"1\" class=\"dataframe\">\n",
       "  <thead>\n",
       "    <tr style=\"text-align: right;\">\n",
       "      <th></th>\n",
       "      <th>song</th>\n",
       "      <th>artist</th>\n",
       "      <th>listens</th>\n",
       "      <th>danceability</th>\n",
       "      <th>energy</th>\n",
       "      <th>key</th>\n",
       "      <th>loudness</th>\n",
       "      <th>mode</th>\n",
       "      <th>speechiness</th>\n",
       "      <th>acousticness</th>\n",
       "      <th>instrumentalness</th>\n",
       "      <th>liveness</th>\n",
       "      <th>valence</th>\n",
       "      <th>tempo</th>\n",
       "      <th>id</th>\n",
       "      <th>duration_ms</th>\n",
       "      <th>time_signature</th>\n",
       "      <th>inv_sq_energy</th>\n",
       "    </tr>\n",
       "  </thead>\n",
       "  <tbody>\n",
       "    <tr>\n",
       "      <th>0</th>\n",
       "      <td>Means Something</td>\n",
       "      <td>Lizzy McAlpine</td>\n",
       "      <td>96</td>\n",
       "      <td>0.429</td>\n",
       "      <td>0.200</td>\n",
       "      <td>8.0</td>\n",
       "      <td>-14.629</td>\n",
       "      <td>1.0</td>\n",
       "      <td>0.0512</td>\n",
       "      <td>0.825</td>\n",
       "      <td>0.000002</td>\n",
       "      <td>0.3670</td>\n",
       "      <td>0.357</td>\n",
       "      <td>95.319</td>\n",
       "      <td>5L3FlmnCvJY2SN2jzvUwxL</td>\n",
       "      <td>144632.0</td>\n",
       "      <td>4.0</td>\n",
       "      <td>-0.040000</td>\n",
       "    </tr>\n",
       "    <tr>\n",
       "      <th>1</th>\n",
       "      <td>How</td>\n",
       "      <td>Elina</td>\n",
       "      <td>78</td>\n",
       "      <td>0.502</td>\n",
       "      <td>0.127</td>\n",
       "      <td>1.0</td>\n",
       "      <td>-13.642</td>\n",
       "      <td>1.0</td>\n",
       "      <td>0.0587</td>\n",
       "      <td>0.931</td>\n",
       "      <td>0.000000</td>\n",
       "      <td>0.1220</td>\n",
       "      <td>0.485</td>\n",
       "      <td>77.198</td>\n",
       "      <td>1M2HXn0iXRD7KDJqtdGARb</td>\n",
       "      <td>143704.0</td>\n",
       "      <td>4.0</td>\n",
       "      <td>-0.016129</td>\n",
       "    </tr>\n",
       "    <tr>\n",
       "      <th>2</th>\n",
       "      <td>When You Lose Someone</td>\n",
       "      <td>Nina Nesbitt</td>\n",
       "      <td>74</td>\n",
       "      <td>0.527</td>\n",
       "      <td>0.415</td>\n",
       "      <td>3.0</td>\n",
       "      <td>-4.743</td>\n",
       "      <td>1.0</td>\n",
       "      <td>0.0303</td>\n",
       "      <td>0.264</td>\n",
       "      <td>0.000000</td>\n",
       "      <td>0.0930</td>\n",
       "      <td>0.341</td>\n",
       "      <td>130.005</td>\n",
       "      <td>3ECh9S9MgoL9SrpZFh0Y5Z</td>\n",
       "      <td>200282.0</td>\n",
       "      <td>4.0</td>\n",
       "      <td>-0.172225</td>\n",
       "    </tr>\n",
       "    <tr>\n",
       "      <th>3</th>\n",
       "      <td>ceilings</td>\n",
       "      <td>Lizzy McAlpine</td>\n",
       "      <td>73</td>\n",
       "      <td>0.516</td>\n",
       "      <td>0.322</td>\n",
       "      <td>9.0</td>\n",
       "      <td>-11.762</td>\n",
       "      <td>1.0</td>\n",
       "      <td>0.0292</td>\n",
       "      <td>0.473</td>\n",
       "      <td>0.001940</td>\n",
       "      <td>0.2150</td>\n",
       "      <td>0.261</td>\n",
       "      <td>148.005</td>\n",
       "      <td>2L9N0zZnd37dwF0clgxMGI</td>\n",
       "      <td>182888.0</td>\n",
       "      <td>3.0</td>\n",
       "      <td>-0.103684</td>\n",
       "    </tr>\n",
       "    <tr>\n",
       "      <th>4</th>\n",
       "      <td>hate to be lame</td>\n",
       "      <td>Lizzy McAlpine</td>\n",
       "      <td>72</td>\n",
       "      <td>0.522</td>\n",
       "      <td>0.251</td>\n",
       "      <td>10.0</td>\n",
       "      <td>-12.626</td>\n",
       "      <td>0.0</td>\n",
       "      <td>0.0603</td>\n",
       "      <td>0.871</td>\n",
       "      <td>0.000258</td>\n",
       "      <td>0.0769</td>\n",
       "      <td>0.303</td>\n",
       "      <td>137.366</td>\n",
       "      <td>26MJjeJ0NSOQDKeZzrEFMl</td>\n",
       "      <td>156798.0</td>\n",
       "      <td>3.0</td>\n",
       "      <td>-0.063001</td>\n",
       "    </tr>\n",
       "  </tbody>\n",
       "</table>\n",
       "</div>"
      ],
      "text/plain": [
       "                    song          artist  listens  danceability  energy   key  \\\n",
       "0        Means Something  Lizzy McAlpine       96         0.429   0.200   8.0   \n",
       "1                    How           Elina       78         0.502   0.127   1.0   \n",
       "2  When You Lose Someone    Nina Nesbitt       74         0.527   0.415   3.0   \n",
       "3               ceilings  Lizzy McAlpine       73         0.516   0.322   9.0   \n",
       "4        hate to be lame  Lizzy McAlpine       72         0.522   0.251  10.0   \n",
       "\n",
       "   loudness  mode  speechiness  acousticness  instrumentalness  liveness  \\\n",
       "0   -14.629   1.0       0.0512         0.825          0.000002    0.3670   \n",
       "1   -13.642   1.0       0.0587         0.931          0.000000    0.1220   \n",
       "2    -4.743   1.0       0.0303         0.264          0.000000    0.0930   \n",
       "3   -11.762   1.0       0.0292         0.473          0.001940    0.2150   \n",
       "4   -12.626   0.0       0.0603         0.871          0.000258    0.0769   \n",
       "\n",
       "   valence    tempo                      id  duration_ms  time_signature  \\\n",
       "0    0.357   95.319  5L3FlmnCvJY2SN2jzvUwxL     144632.0             4.0   \n",
       "1    0.485   77.198  1M2HXn0iXRD7KDJqtdGARb     143704.0             4.0   \n",
       "2    0.341  130.005  3ECh9S9MgoL9SrpZFh0Y5Z     200282.0             4.0   \n",
       "3    0.261  148.005  2L9N0zZnd37dwF0clgxMGI     182888.0             3.0   \n",
       "4    0.303  137.366  26MJjeJ0NSOQDKeZzrEFMl     156798.0             3.0   \n",
       "\n",
       "   inv_sq_energy  \n",
       "0      -0.040000  \n",
       "1      -0.016129  \n",
       "2      -0.172225  \n",
       "3      -0.103684  \n",
       "4      -0.063001  "
      ]
     },
     "execution_count": 47,
     "metadata": {},
     "output_type": "execute_result"
    }
   ],
   "source": [
    "songs = totals.copy()\n",
    "songs.drop(['track_href', 'type', 'uri', 'analysis_url'], axis=1, inplace=True)\n",
    "songs['inv_sq_energy'] = -1 * (songs['energy'] ** 2)\n",
    "songs = songs.rename({'artistName': 'artist', 'trackName': 'song', 'count': 'listens'}, axis=1)\n",
    "\n",
    "print(songs.shape)\n",
    "songs.head(5)"
   ]
  },
  {
   "cell_type": "markdown",
   "metadata": {},
   "source": [
    "### PCA attempt/plotting the PCs/scree plot"
   ]
  },
  {
   "cell_type": "code",
   "execution_count": 48,
   "metadata": {},
   "outputs": [
    {
     "name": "stdout",
     "output_type": "stream",
     "text": [
      "(907, 15)\n"
     ]
    },
    {
     "data": {
      "text/html": [
       "<div>\n",
       "<style scoped>\n",
       "    .dataframe tbody tr th:only-of-type {\n",
       "        vertical-align: middle;\n",
       "    }\n",
       "\n",
       "    .dataframe tbody tr th {\n",
       "        vertical-align: top;\n",
       "    }\n",
       "\n",
       "    .dataframe thead th {\n",
       "        text-align: right;\n",
       "    }\n",
       "</style>\n",
       "<table border=\"1\" class=\"dataframe\">\n",
       "  <thead>\n",
       "    <tr style=\"text-align: right;\">\n",
       "      <th></th>\n",
       "      <th></th>\n",
       "      <th></th>\n",
       "      <th>listens</th>\n",
       "      <th>danceability</th>\n",
       "      <th>energy</th>\n",
       "      <th>key</th>\n",
       "      <th>loudness</th>\n",
       "      <th>mode</th>\n",
       "      <th>speechiness</th>\n",
       "      <th>acousticness</th>\n",
       "      <th>instrumentalness</th>\n",
       "      <th>liveness</th>\n",
       "      <th>valence</th>\n",
       "      <th>tempo</th>\n",
       "      <th>duration_ms</th>\n",
       "      <th>time_signature</th>\n",
       "      <th>inv_sq_energy</th>\n",
       "    </tr>\n",
       "    <tr>\n",
       "      <th>song</th>\n",
       "      <th>artist</th>\n",
       "      <th>id</th>\n",
       "      <th></th>\n",
       "      <th></th>\n",
       "      <th></th>\n",
       "      <th></th>\n",
       "      <th></th>\n",
       "      <th></th>\n",
       "      <th></th>\n",
       "      <th></th>\n",
       "      <th></th>\n",
       "      <th></th>\n",
       "      <th></th>\n",
       "      <th></th>\n",
       "      <th></th>\n",
       "      <th></th>\n",
       "      <th></th>\n",
       "    </tr>\n",
       "  </thead>\n",
       "  <tbody>\n",
       "    <tr>\n",
       "      <th>Means Something</th>\n",
       "      <th>Lizzy McAlpine</th>\n",
       "      <th>5L3FlmnCvJY2SN2jzvUwxL</th>\n",
       "      <td>6.919833</td>\n",
       "      <td>-0.870867</td>\n",
       "      <td>-0.750366</td>\n",
       "      <td>0.843709</td>\n",
       "      <td>-0.944821</td>\n",
       "      <td>0.405356</td>\n",
       "      <td>0.058407</td>\n",
       "      <td>0.475817</td>\n",
       "      <td>-0.223090</td>\n",
       "      <td>2.620118</td>\n",
       "      <td>0.161512</td>\n",
       "      <td>-0.701598</td>\n",
       "      <td>-1.076392</td>\n",
       "      <td>0.300802</td>\n",
       "      <td>0.672243</td>\n",
       "    </tr>\n",
       "    <tr>\n",
       "      <th>How</th>\n",
       "      <th>Elina</th>\n",
       "      <th>1M2HXn0iXRD7KDJqtdGARb</th>\n",
       "      <td>5.414186</td>\n",
       "      <td>-0.289073</td>\n",
       "      <td>-1.172590</td>\n",
       "      <td>-1.074196</td>\n",
       "      <td>-0.688236</td>\n",
       "      <td>0.405356</td>\n",
       "      <td>0.269306</td>\n",
       "      <td>0.880798</td>\n",
       "      <td>-0.223107</td>\n",
       "      <td>-0.256139</td>\n",
       "      <td>0.967138</td>\n",
       "      <td>-1.292388</td>\n",
       "      <td>-1.096565</td>\n",
       "      <td>0.300802</td>\n",
       "      <td>0.834965</td>\n",
       "    </tr>\n",
       "    <tr>\n",
       "      <th>When You Lose Someone</th>\n",
       "      <th>Nina Nesbitt</th>\n",
       "      <th>3ECh9S9MgoL9SrpZFh0Y5Z</th>\n",
       "      <td>5.079598</td>\n",
       "      <td>-0.089829</td>\n",
       "      <td>0.493168</td>\n",
       "      <td>-0.526223</td>\n",
       "      <td>1.625184</td>\n",
       "      <td>0.405356</td>\n",
       "      <td>-0.529298</td>\n",
       "      <td>-1.667528</td>\n",
       "      <td>-0.223107</td>\n",
       "      <td>-0.596594</td>\n",
       "      <td>0.060809</td>\n",
       "      <td>0.429253</td>\n",
       "      <td>0.133344</td>\n",
       "      <td>0.300802</td>\n",
       "      <td>-0.229096</td>\n",
       "    </tr>\n",
       "    <tr>\n",
       "      <th>ceilings</th>\n",
       "      <th>Lizzy McAlpine</th>\n",
       "      <th>2L9N0zZnd37dwF0clgxMGI</th>\n",
       "      <td>4.995951</td>\n",
       "      <td>-0.177497</td>\n",
       "      <td>-0.044733</td>\n",
       "      <td>1.117696</td>\n",
       "      <td>-0.199504</td>\n",
       "      <td>0.405356</td>\n",
       "      <td>-0.560230</td>\n",
       "      <td>-0.869027</td>\n",
       "      <td>-0.204644</td>\n",
       "      <td>0.835665</td>\n",
       "      <td>-0.442707</td>\n",
       "      <td>1.016098</td>\n",
       "      <td>-0.244772</td>\n",
       "      <td>-1.530255</td>\n",
       "      <td>0.238128</td>\n",
       "    </tr>\n",
       "    <tr>\n",
       "      <th>hate to be lame</th>\n",
       "      <th>Lizzy McAlpine</th>\n",
       "      <th>26MJjeJ0NSOQDKeZzrEFMl</th>\n",
       "      <td>4.912304</td>\n",
       "      <td>-0.129678</td>\n",
       "      <td>-0.455389</td>\n",
       "      <td>1.391682</td>\n",
       "      <td>-0.424113</td>\n",
       "      <td>-2.466969</td>\n",
       "      <td>0.314297</td>\n",
       "      <td>0.651564</td>\n",
       "      <td>-0.220651</td>\n",
       "      <td>-0.785605</td>\n",
       "      <td>-0.178361</td>\n",
       "      <td>0.669240</td>\n",
       "      <td>-0.811924</td>\n",
       "      <td>-1.530255</td>\n",
       "      <td>0.515452</td>\n",
       "    </tr>\n",
       "  </tbody>\n",
       "</table>\n",
       "</div>"
      ],
      "text/plain": [
       "                                                              listens  \\\n",
       "song                  artist         id                                 \n",
       "Means Something       Lizzy McAlpine 5L3FlmnCvJY2SN2jzvUwxL  6.919833   \n",
       "How                   Elina          1M2HXn0iXRD7KDJqtdGARb  5.414186   \n",
       "When You Lose Someone Nina Nesbitt   3ECh9S9MgoL9SrpZFh0Y5Z  5.079598   \n",
       "ceilings              Lizzy McAlpine 2L9N0zZnd37dwF0clgxMGI  4.995951   \n",
       "hate to be lame       Lizzy McAlpine 26MJjeJ0NSOQDKeZzrEFMl  4.912304   \n",
       "\n",
       "                                                             danceability  \\\n",
       "song                  artist         id                                     \n",
       "Means Something       Lizzy McAlpine 5L3FlmnCvJY2SN2jzvUwxL     -0.870867   \n",
       "How                   Elina          1M2HXn0iXRD7KDJqtdGARb     -0.289073   \n",
       "When You Lose Someone Nina Nesbitt   3ECh9S9MgoL9SrpZFh0Y5Z     -0.089829   \n",
       "ceilings              Lizzy McAlpine 2L9N0zZnd37dwF0clgxMGI     -0.177497   \n",
       "hate to be lame       Lizzy McAlpine 26MJjeJ0NSOQDKeZzrEFMl     -0.129678   \n",
       "\n",
       "                                                               energy  \\\n",
       "song                  artist         id                                 \n",
       "Means Something       Lizzy McAlpine 5L3FlmnCvJY2SN2jzvUwxL -0.750366   \n",
       "How                   Elina          1M2HXn0iXRD7KDJqtdGARb -1.172590   \n",
       "When You Lose Someone Nina Nesbitt   3ECh9S9MgoL9SrpZFh0Y5Z  0.493168   \n",
       "ceilings              Lizzy McAlpine 2L9N0zZnd37dwF0clgxMGI -0.044733   \n",
       "hate to be lame       Lizzy McAlpine 26MJjeJ0NSOQDKeZzrEFMl -0.455389   \n",
       "\n",
       "                                                                  key  \\\n",
       "song                  artist         id                                 \n",
       "Means Something       Lizzy McAlpine 5L3FlmnCvJY2SN2jzvUwxL  0.843709   \n",
       "How                   Elina          1M2HXn0iXRD7KDJqtdGARb -1.074196   \n",
       "When You Lose Someone Nina Nesbitt   3ECh9S9MgoL9SrpZFh0Y5Z -0.526223   \n",
       "ceilings              Lizzy McAlpine 2L9N0zZnd37dwF0clgxMGI  1.117696   \n",
       "hate to be lame       Lizzy McAlpine 26MJjeJ0NSOQDKeZzrEFMl  1.391682   \n",
       "\n",
       "                                                             loudness  \\\n",
       "song                  artist         id                                 \n",
       "Means Something       Lizzy McAlpine 5L3FlmnCvJY2SN2jzvUwxL -0.944821   \n",
       "How                   Elina          1M2HXn0iXRD7KDJqtdGARb -0.688236   \n",
       "When You Lose Someone Nina Nesbitt   3ECh9S9MgoL9SrpZFh0Y5Z  1.625184   \n",
       "ceilings              Lizzy McAlpine 2L9N0zZnd37dwF0clgxMGI -0.199504   \n",
       "hate to be lame       Lizzy McAlpine 26MJjeJ0NSOQDKeZzrEFMl -0.424113   \n",
       "\n",
       "                                                                 mode  \\\n",
       "song                  artist         id                                 \n",
       "Means Something       Lizzy McAlpine 5L3FlmnCvJY2SN2jzvUwxL  0.405356   \n",
       "How                   Elina          1M2HXn0iXRD7KDJqtdGARb  0.405356   \n",
       "When You Lose Someone Nina Nesbitt   3ECh9S9MgoL9SrpZFh0Y5Z  0.405356   \n",
       "ceilings              Lizzy McAlpine 2L9N0zZnd37dwF0clgxMGI  0.405356   \n",
       "hate to be lame       Lizzy McAlpine 26MJjeJ0NSOQDKeZzrEFMl -2.466969   \n",
       "\n",
       "                                                             speechiness  \\\n",
       "song                  artist         id                                    \n",
       "Means Something       Lizzy McAlpine 5L3FlmnCvJY2SN2jzvUwxL     0.058407   \n",
       "How                   Elina          1M2HXn0iXRD7KDJqtdGARb     0.269306   \n",
       "When You Lose Someone Nina Nesbitt   3ECh9S9MgoL9SrpZFh0Y5Z    -0.529298   \n",
       "ceilings              Lizzy McAlpine 2L9N0zZnd37dwF0clgxMGI    -0.560230   \n",
       "hate to be lame       Lizzy McAlpine 26MJjeJ0NSOQDKeZzrEFMl     0.314297   \n",
       "\n",
       "                                                             acousticness  \\\n",
       "song                  artist         id                                     \n",
       "Means Something       Lizzy McAlpine 5L3FlmnCvJY2SN2jzvUwxL      0.475817   \n",
       "How                   Elina          1M2HXn0iXRD7KDJqtdGARb      0.880798   \n",
       "When You Lose Someone Nina Nesbitt   3ECh9S9MgoL9SrpZFh0Y5Z     -1.667528   \n",
       "ceilings              Lizzy McAlpine 2L9N0zZnd37dwF0clgxMGI     -0.869027   \n",
       "hate to be lame       Lizzy McAlpine 26MJjeJ0NSOQDKeZzrEFMl      0.651564   \n",
       "\n",
       "                                                             instrumentalness  \\\n",
       "song                  artist         id                                         \n",
       "Means Something       Lizzy McAlpine 5L3FlmnCvJY2SN2jzvUwxL         -0.223090   \n",
       "How                   Elina          1M2HXn0iXRD7KDJqtdGARb         -0.223107   \n",
       "When You Lose Someone Nina Nesbitt   3ECh9S9MgoL9SrpZFh0Y5Z         -0.223107   \n",
       "ceilings              Lizzy McAlpine 2L9N0zZnd37dwF0clgxMGI         -0.204644   \n",
       "hate to be lame       Lizzy McAlpine 26MJjeJ0NSOQDKeZzrEFMl         -0.220651   \n",
       "\n",
       "                                                             liveness  \\\n",
       "song                  artist         id                                 \n",
       "Means Something       Lizzy McAlpine 5L3FlmnCvJY2SN2jzvUwxL  2.620118   \n",
       "How                   Elina          1M2HXn0iXRD7KDJqtdGARb -0.256139   \n",
       "When You Lose Someone Nina Nesbitt   3ECh9S9MgoL9SrpZFh0Y5Z -0.596594   \n",
       "ceilings              Lizzy McAlpine 2L9N0zZnd37dwF0clgxMGI  0.835665   \n",
       "hate to be lame       Lizzy McAlpine 26MJjeJ0NSOQDKeZzrEFMl -0.785605   \n",
       "\n",
       "                                                              valence  \\\n",
       "song                  artist         id                                 \n",
       "Means Something       Lizzy McAlpine 5L3FlmnCvJY2SN2jzvUwxL  0.161512   \n",
       "How                   Elina          1M2HXn0iXRD7KDJqtdGARb  0.967138   \n",
       "When You Lose Someone Nina Nesbitt   3ECh9S9MgoL9SrpZFh0Y5Z  0.060809   \n",
       "ceilings              Lizzy McAlpine 2L9N0zZnd37dwF0clgxMGI -0.442707   \n",
       "hate to be lame       Lizzy McAlpine 26MJjeJ0NSOQDKeZzrEFMl -0.178361   \n",
       "\n",
       "                                                                tempo  \\\n",
       "song                  artist         id                                 \n",
       "Means Something       Lizzy McAlpine 5L3FlmnCvJY2SN2jzvUwxL -0.701598   \n",
       "How                   Elina          1M2HXn0iXRD7KDJqtdGARb -1.292388   \n",
       "When You Lose Someone Nina Nesbitt   3ECh9S9MgoL9SrpZFh0Y5Z  0.429253   \n",
       "ceilings              Lizzy McAlpine 2L9N0zZnd37dwF0clgxMGI  1.016098   \n",
       "hate to be lame       Lizzy McAlpine 26MJjeJ0NSOQDKeZzrEFMl  0.669240   \n",
       "\n",
       "                                                             duration_ms  \\\n",
       "song                  artist         id                                    \n",
       "Means Something       Lizzy McAlpine 5L3FlmnCvJY2SN2jzvUwxL    -1.076392   \n",
       "How                   Elina          1M2HXn0iXRD7KDJqtdGARb    -1.096565   \n",
       "When You Lose Someone Nina Nesbitt   3ECh9S9MgoL9SrpZFh0Y5Z     0.133344   \n",
       "ceilings              Lizzy McAlpine 2L9N0zZnd37dwF0clgxMGI    -0.244772   \n",
       "hate to be lame       Lizzy McAlpine 26MJjeJ0NSOQDKeZzrEFMl    -0.811924   \n",
       "\n",
       "                                                             time_signature  \\\n",
       "song                  artist         id                                       \n",
       "Means Something       Lizzy McAlpine 5L3FlmnCvJY2SN2jzvUwxL        0.300802   \n",
       "How                   Elina          1M2HXn0iXRD7KDJqtdGARb        0.300802   \n",
       "When You Lose Someone Nina Nesbitt   3ECh9S9MgoL9SrpZFh0Y5Z        0.300802   \n",
       "ceilings              Lizzy McAlpine 2L9N0zZnd37dwF0clgxMGI       -1.530255   \n",
       "hate to be lame       Lizzy McAlpine 26MJjeJ0NSOQDKeZzrEFMl       -1.530255   \n",
       "\n",
       "                                                             inv_sq_energy  \n",
       "song                  artist         id                                     \n",
       "Means Something       Lizzy McAlpine 5L3FlmnCvJY2SN2jzvUwxL       0.672243  \n",
       "How                   Elina          1M2HXn0iXRD7KDJqtdGARb       0.834965  \n",
       "When You Lose Someone Nina Nesbitt   3ECh9S9MgoL9SrpZFh0Y5Z      -0.229096  \n",
       "ceilings              Lizzy McAlpine 2L9N0zZnd37dwF0clgxMGI       0.238128  \n",
       "hate to be lame       Lizzy McAlpine 26MJjeJ0NSOQDKeZzrEFMl       0.515452  "
      ]
     },
     "execution_count": 48,
     "metadata": {},
     "output_type": "execute_result"
    }
   ],
   "source": [
    "cleaned_df = songs.set_index(['song', 'artist', 'id']).dropna()\n",
    "centered_df = (cleaned_df - np.mean(cleaned_df, axis=0)) / np.std(cleaned_df, axis=0)\n",
    "print(centered_df.shape)\n",
    "centered_df.head(5)"
   ]
  },
  {
   "cell_type": "code",
   "execution_count": 49,
   "metadata": {},
   "outputs": [
    {
     "data": {
      "text/plain": [
       "((907, 15), (15,), (15, 15))"
      ]
     },
     "execution_count": 49,
     "metadata": {},
     "output_type": "execute_result"
    }
   ],
   "source": [
    "u, s, vt = np.linalg.svd(centered_df, full_matrices = False)\n",
    "u.shape, s.shape, vt.shape"
   ]
  },
  {
   "cell_type": "code",
   "execution_count": 50,
   "metadata": {},
   "outputs": [
    {
     "data": {
      "text/plain": [
       "array([0.23, 0.1 , 0.08, 0.08, 0.07, 0.07, 0.06, 0.06, 0.06, 0.05, 0.05,\n",
       "       0.04, 0.03, 0.02, 0.  ])"
      ]
     },
     "execution_count": 50,
     "metadata": {},
     "output_type": "execute_result"
    }
   ],
   "source": [
    "np.round(s**2 / sum(s**2), 2)"
   ]
  },
  {
   "cell_type": "code",
   "execution_count": 51,
   "metadata": {},
   "outputs": [
    {
     "data": {
      "application/vnd.plotly.v1+json": {
       "config": {
        "plotlyServerURL": "https://plot.ly"
       },
       "data": [
        {
         "hovertemplate": "variable=0<br>index=%{x}<br>value=%{y}<extra></extra>",
         "legendgroup": "0",
         "line": {
          "color": "#636efa",
          "dash": "solid"
         },
         "marker": {
          "symbol": "circle"
         },
         "mode": "lines",
         "name": "0",
         "orientation": "v",
         "showlegend": true,
         "type": "scatter",
         "x": [
          0,
          1,
          2,
          3,
          4,
          5,
          6,
          7,
          8,
          9,
          10,
          11,
          12,
          13,
          14
         ],
         "xaxis": "x",
         "y": [
          3186.703586458917,
          1371.5201780664524,
          1059.7503698301623,
          1052.3192808281958,
          969.1577855216811,
          905.2508318471732,
          845.0471230446626,
          839.5877077409717,
          757.6832697615355,
          740.4308315627005,
          674.4982770182243,
          494.4076119917872,
          453.58200025352266,
          225.63835226778076,
          29.42279380622684
         ],
         "yaxis": "y"
        }
       ],
       "layout": {
        "legend": {
         "title": {
          "text": "variable"
         },
         "tracegroupgap": 0
        },
        "margin": {
         "t": 60
        },
        "template": {
         "data": {
          "bar": [
           {
            "error_x": {
             "color": "#2a3f5f"
            },
            "error_y": {
             "color": "#2a3f5f"
            },
            "marker": {
             "line": {
              "color": "#E5ECF6",
              "width": 0.5
             },
             "pattern": {
              "fillmode": "overlay",
              "size": 10,
              "solidity": 0.2
             }
            },
            "type": "bar"
           }
          ],
          "barpolar": [
           {
            "marker": {
             "line": {
              "color": "#E5ECF6",
              "width": 0.5
             },
             "pattern": {
              "fillmode": "overlay",
              "size": 10,
              "solidity": 0.2
             }
            },
            "type": "barpolar"
           }
          ],
          "carpet": [
           {
            "aaxis": {
             "endlinecolor": "#2a3f5f",
             "gridcolor": "white",
             "linecolor": "white",
             "minorgridcolor": "white",
             "startlinecolor": "#2a3f5f"
            },
            "baxis": {
             "endlinecolor": "#2a3f5f",
             "gridcolor": "white",
             "linecolor": "white",
             "minorgridcolor": "white",
             "startlinecolor": "#2a3f5f"
            },
            "type": "carpet"
           }
          ],
          "choropleth": [
           {
            "colorbar": {
             "outlinewidth": 0,
             "ticks": ""
            },
            "type": "choropleth"
           }
          ],
          "contour": [
           {
            "colorbar": {
             "outlinewidth": 0,
             "ticks": ""
            },
            "colorscale": [
             [
              0,
              "#0d0887"
             ],
             [
              0.1111111111111111,
              "#46039f"
             ],
             [
              0.2222222222222222,
              "#7201a8"
             ],
             [
              0.3333333333333333,
              "#9c179e"
             ],
             [
              0.4444444444444444,
              "#bd3786"
             ],
             [
              0.5555555555555556,
              "#d8576b"
             ],
             [
              0.6666666666666666,
              "#ed7953"
             ],
             [
              0.7777777777777778,
              "#fb9f3a"
             ],
             [
              0.8888888888888888,
              "#fdca26"
             ],
             [
              1,
              "#f0f921"
             ]
            ],
            "type": "contour"
           }
          ],
          "contourcarpet": [
           {
            "colorbar": {
             "outlinewidth": 0,
             "ticks": ""
            },
            "type": "contourcarpet"
           }
          ],
          "heatmap": [
           {
            "colorbar": {
             "outlinewidth": 0,
             "ticks": ""
            },
            "colorscale": [
             [
              0,
              "#0d0887"
             ],
             [
              0.1111111111111111,
              "#46039f"
             ],
             [
              0.2222222222222222,
              "#7201a8"
             ],
             [
              0.3333333333333333,
              "#9c179e"
             ],
             [
              0.4444444444444444,
              "#bd3786"
             ],
             [
              0.5555555555555556,
              "#d8576b"
             ],
             [
              0.6666666666666666,
              "#ed7953"
             ],
             [
              0.7777777777777778,
              "#fb9f3a"
             ],
             [
              0.8888888888888888,
              "#fdca26"
             ],
             [
              1,
              "#f0f921"
             ]
            ],
            "type": "heatmap"
           }
          ],
          "heatmapgl": [
           {
            "colorbar": {
             "outlinewidth": 0,
             "ticks": ""
            },
            "colorscale": [
             [
              0,
              "#0d0887"
             ],
             [
              0.1111111111111111,
              "#46039f"
             ],
             [
              0.2222222222222222,
              "#7201a8"
             ],
             [
              0.3333333333333333,
              "#9c179e"
             ],
             [
              0.4444444444444444,
              "#bd3786"
             ],
             [
              0.5555555555555556,
              "#d8576b"
             ],
             [
              0.6666666666666666,
              "#ed7953"
             ],
             [
              0.7777777777777778,
              "#fb9f3a"
             ],
             [
              0.8888888888888888,
              "#fdca26"
             ],
             [
              1,
              "#f0f921"
             ]
            ],
            "type": "heatmapgl"
           }
          ],
          "histogram": [
           {
            "marker": {
             "pattern": {
              "fillmode": "overlay",
              "size": 10,
              "solidity": 0.2
             }
            },
            "type": "histogram"
           }
          ],
          "histogram2d": [
           {
            "colorbar": {
             "outlinewidth": 0,
             "ticks": ""
            },
            "colorscale": [
             [
              0,
              "#0d0887"
             ],
             [
              0.1111111111111111,
              "#46039f"
             ],
             [
              0.2222222222222222,
              "#7201a8"
             ],
             [
              0.3333333333333333,
              "#9c179e"
             ],
             [
              0.4444444444444444,
              "#bd3786"
             ],
             [
              0.5555555555555556,
              "#d8576b"
             ],
             [
              0.6666666666666666,
              "#ed7953"
             ],
             [
              0.7777777777777778,
              "#fb9f3a"
             ],
             [
              0.8888888888888888,
              "#fdca26"
             ],
             [
              1,
              "#f0f921"
             ]
            ],
            "type": "histogram2d"
           }
          ],
          "histogram2dcontour": [
           {
            "colorbar": {
             "outlinewidth": 0,
             "ticks": ""
            },
            "colorscale": [
             [
              0,
              "#0d0887"
             ],
             [
              0.1111111111111111,
              "#46039f"
             ],
             [
              0.2222222222222222,
              "#7201a8"
             ],
             [
              0.3333333333333333,
              "#9c179e"
             ],
             [
              0.4444444444444444,
              "#bd3786"
             ],
             [
              0.5555555555555556,
              "#d8576b"
             ],
             [
              0.6666666666666666,
              "#ed7953"
             ],
             [
              0.7777777777777778,
              "#fb9f3a"
             ],
             [
              0.8888888888888888,
              "#fdca26"
             ],
             [
              1,
              "#f0f921"
             ]
            ],
            "type": "histogram2dcontour"
           }
          ],
          "mesh3d": [
           {
            "colorbar": {
             "outlinewidth": 0,
             "ticks": ""
            },
            "type": "mesh3d"
           }
          ],
          "parcoords": [
           {
            "line": {
             "colorbar": {
              "outlinewidth": 0,
              "ticks": ""
             }
            },
            "type": "parcoords"
           }
          ],
          "pie": [
           {
            "automargin": true,
            "type": "pie"
           }
          ],
          "scatter": [
           {
            "fillpattern": {
             "fillmode": "overlay",
             "size": 10,
             "solidity": 0.2
            },
            "type": "scatter"
           }
          ],
          "scatter3d": [
           {
            "line": {
             "colorbar": {
              "outlinewidth": 0,
              "ticks": ""
             }
            },
            "marker": {
             "colorbar": {
              "outlinewidth": 0,
              "ticks": ""
             }
            },
            "type": "scatter3d"
           }
          ],
          "scattercarpet": [
           {
            "marker": {
             "colorbar": {
              "outlinewidth": 0,
              "ticks": ""
             }
            },
            "type": "scattercarpet"
           }
          ],
          "scattergeo": [
           {
            "marker": {
             "colorbar": {
              "outlinewidth": 0,
              "ticks": ""
             }
            },
            "type": "scattergeo"
           }
          ],
          "scattergl": [
           {
            "marker": {
             "colorbar": {
              "outlinewidth": 0,
              "ticks": ""
             }
            },
            "type": "scattergl"
           }
          ],
          "scattermapbox": [
           {
            "marker": {
             "colorbar": {
              "outlinewidth": 0,
              "ticks": ""
             }
            },
            "type": "scattermapbox"
           }
          ],
          "scatterpolar": [
           {
            "marker": {
             "colorbar": {
              "outlinewidth": 0,
              "ticks": ""
             }
            },
            "type": "scatterpolar"
           }
          ],
          "scatterpolargl": [
           {
            "marker": {
             "colorbar": {
              "outlinewidth": 0,
              "ticks": ""
             }
            },
            "type": "scatterpolargl"
           }
          ],
          "scatterternary": [
           {
            "marker": {
             "colorbar": {
              "outlinewidth": 0,
              "ticks": ""
             }
            },
            "type": "scatterternary"
           }
          ],
          "surface": [
           {
            "colorbar": {
             "outlinewidth": 0,
             "ticks": ""
            },
            "colorscale": [
             [
              0,
              "#0d0887"
             ],
             [
              0.1111111111111111,
              "#46039f"
             ],
             [
              0.2222222222222222,
              "#7201a8"
             ],
             [
              0.3333333333333333,
              "#9c179e"
             ],
             [
              0.4444444444444444,
              "#bd3786"
             ],
             [
              0.5555555555555556,
              "#d8576b"
             ],
             [
              0.6666666666666666,
              "#ed7953"
             ],
             [
              0.7777777777777778,
              "#fb9f3a"
             ],
             [
              0.8888888888888888,
              "#fdca26"
             ],
             [
              1,
              "#f0f921"
             ]
            ],
            "type": "surface"
           }
          ],
          "table": [
           {
            "cells": {
             "fill": {
              "color": "#EBF0F8"
             },
             "line": {
              "color": "white"
             }
            },
            "header": {
             "fill": {
              "color": "#C8D4E3"
             },
             "line": {
              "color": "white"
             }
            },
            "type": "table"
           }
          ]
         },
         "layout": {
          "annotationdefaults": {
           "arrowcolor": "#2a3f5f",
           "arrowhead": 0,
           "arrowwidth": 1
          },
          "autotypenumbers": "strict",
          "coloraxis": {
           "colorbar": {
            "outlinewidth": 0,
            "ticks": ""
           }
          },
          "colorscale": {
           "diverging": [
            [
             0,
             "#8e0152"
            ],
            [
             0.1,
             "#c51b7d"
            ],
            [
             0.2,
             "#de77ae"
            ],
            [
             0.3,
             "#f1b6da"
            ],
            [
             0.4,
             "#fde0ef"
            ],
            [
             0.5,
             "#f7f7f7"
            ],
            [
             0.6,
             "#e6f5d0"
            ],
            [
             0.7,
             "#b8e186"
            ],
            [
             0.8,
             "#7fbc41"
            ],
            [
             0.9,
             "#4d9221"
            ],
            [
             1,
             "#276419"
            ]
           ],
           "sequential": [
            [
             0,
             "#0d0887"
            ],
            [
             0.1111111111111111,
             "#46039f"
            ],
            [
             0.2222222222222222,
             "#7201a8"
            ],
            [
             0.3333333333333333,
             "#9c179e"
            ],
            [
             0.4444444444444444,
             "#bd3786"
            ],
            [
             0.5555555555555556,
             "#d8576b"
            ],
            [
             0.6666666666666666,
             "#ed7953"
            ],
            [
             0.7777777777777778,
             "#fb9f3a"
            ],
            [
             0.8888888888888888,
             "#fdca26"
            ],
            [
             1,
             "#f0f921"
            ]
           ],
           "sequentialminus": [
            [
             0,
             "#0d0887"
            ],
            [
             0.1111111111111111,
             "#46039f"
            ],
            [
             0.2222222222222222,
             "#7201a8"
            ],
            [
             0.3333333333333333,
             "#9c179e"
            ],
            [
             0.4444444444444444,
             "#bd3786"
            ],
            [
             0.5555555555555556,
             "#d8576b"
            ],
            [
             0.6666666666666666,
             "#ed7953"
            ],
            [
             0.7777777777777778,
             "#fb9f3a"
            ],
            [
             0.8888888888888888,
             "#fdca26"
            ],
            [
             1,
             "#f0f921"
            ]
           ]
          },
          "colorway": [
           "#636efa",
           "#EF553B",
           "#00cc96",
           "#ab63fa",
           "#FFA15A",
           "#19d3f3",
           "#FF6692",
           "#B6E880",
           "#FF97FF",
           "#FECB52"
          ],
          "font": {
           "color": "#2a3f5f"
          },
          "geo": {
           "bgcolor": "white",
           "lakecolor": "white",
           "landcolor": "#E5ECF6",
           "showlakes": true,
           "showland": true,
           "subunitcolor": "white"
          },
          "hoverlabel": {
           "align": "left"
          },
          "hovermode": "closest",
          "mapbox": {
           "style": "light"
          },
          "paper_bgcolor": "white",
          "plot_bgcolor": "#E5ECF6",
          "polar": {
           "angularaxis": {
            "gridcolor": "white",
            "linecolor": "white",
            "ticks": ""
           },
           "bgcolor": "#E5ECF6",
           "radialaxis": {
            "gridcolor": "white",
            "linecolor": "white",
            "ticks": ""
           }
          },
          "scene": {
           "xaxis": {
            "backgroundcolor": "#E5ECF6",
            "gridcolor": "white",
            "gridwidth": 2,
            "linecolor": "white",
            "showbackground": true,
            "ticks": "",
            "zerolinecolor": "white"
           },
           "yaxis": {
            "backgroundcolor": "#E5ECF6",
            "gridcolor": "white",
            "gridwidth": 2,
            "linecolor": "white",
            "showbackground": true,
            "ticks": "",
            "zerolinecolor": "white"
           },
           "zaxis": {
            "backgroundcolor": "#E5ECF6",
            "gridcolor": "white",
            "gridwidth": 2,
            "linecolor": "white",
            "showbackground": true,
            "ticks": "",
            "zerolinecolor": "white"
           }
          },
          "shapedefaults": {
           "line": {
            "color": "#2a3f5f"
           }
          },
          "ternary": {
           "aaxis": {
            "gridcolor": "white",
            "linecolor": "white",
            "ticks": ""
           },
           "baxis": {
            "gridcolor": "white",
            "linecolor": "white",
            "ticks": ""
           },
           "bgcolor": "#E5ECF6",
           "caxis": {
            "gridcolor": "white",
            "linecolor": "white",
            "ticks": ""
           }
          },
          "title": {
           "x": 0.05
          },
          "xaxis": {
           "automargin": true,
           "gridcolor": "white",
           "linecolor": "white",
           "ticks": "",
           "title": {
            "standoff": 15
           },
           "zerolinecolor": "white",
           "zerolinewidth": 2
          },
          "yaxis": {
           "automargin": true,
           "gridcolor": "white",
           "linecolor": "white",
           "ticks": "",
           "title": {
            "standoff": 15
           },
           "zerolinecolor": "white",
           "zerolinewidth": 2
          }
         }
        },
        "xaxis": {
         "anchor": "y",
         "domain": [
          0,
          1
         ],
         "title": {
          "text": "index"
         }
        },
        "yaxis": {
         "anchor": "x",
         "domain": [
          0,
          1
         ],
         "title": {
          "text": "value"
         }
        }
       }
      }
     },
     "metadata": {},
     "output_type": "display_data"
    }
   ],
   "source": [
    "# scree plot\n",
    "px.line(s**2)"
   ]
  },
  {
   "cell_type": "code",
   "execution_count": 69,
   "metadata": {},
   "outputs": [
    {
     "data": {
      "application/vnd.plotly.v1+json": {
       "config": {
        "plotlyServerURL": "https://plot.ly"
       },
       "data": [
        {
         "customdata": [
          [
           "Means Something",
           "Lizzy McAlpine"
          ],
          [
           "How",
           "Elina"
          ],
          [
           "When You Lose Someone",
           "Nina Nesbitt"
          ],
          [
           "ceilings",
           "Lizzy McAlpine"
          ],
          [
           "hate to be lame",
           "Lizzy McAlpine"
          ],
          [
           "Stay",
           "Gracie Abrams"
          ],
          [
           "please",
           "Chelsea Cutler"
          ],
          [
           "Unknown Track",
           "Unknown Artist"
          ],
          [
           "False Art",
           "Ben Kessler"
          ],
          [
           "Meant To Be",
           "Ber"
          ],
          [
           "Paper Planes",
           "Elina"
          ],
          [
           "can I call you back?",
           "shy martin"
          ],
          [
           "For All You Give",
           "The Paper Kites"
          ],
          [
           "Slow",
           "shy martin"
          ],
          [
           "I Think I",
           "Ben Kessler"
          ],
          [
           "could you love me while i hate myself",
           "Zeph"
          ],
          [
           "Favourite Ex",
           "Maisie Peters"
          ],
          [
           "Ordinary People",
           "Blake Rose"
          ],
          [
           "this is how you fall in love",
           "Jeremy Zucker"
          ],
          [
           "How Do I Tell You?",
           "Lizzy McAlpine"
          ],
          [
           "Forget I Exist",
           "Sam MacPherson"
          ],
          [
           "Apple Pie",
           "Lizzy McAlpine"
          ],
          [
           "i don't miss u",
           "carobae"
          ],
          [
           "better off",
           "Jeremy Zucker"
          ],
          [
           "Memory Lane",
           "Haley Joelle"
          ],
          [
           "Free",
           "Elina"
          ],
          [
           "Yellow Lights",
           "Harry Hudson"
          ],
          [
           "Give Me A Minute",
           "Lizzy McAlpine"
          ],
          [
           "Older Than I Am",
           "Lennon Stella"
          ],
          [
           "I Don't Need You To Survive",
           "Delaney Bailey"
          ],
          [
           "Finish Line",
           "Delaney Bailey"
          ],
          [
           "Codependent",
           "Sophie Holohan"
          ],
          [
           "the first one",
           "carobae"
          ],
          [
           "Mirage",
           "Elina"
          ],
          [
           "I miss you, I’m sorry",
           "Gracie Abrams"
          ],
          [
           "called you again",
           "Lizzy McAlpine"
          ],
          [
           "It Could Be Worse",
           "Ben Kessler"
          ],
          [
           "The Best You Had",
           "Nina Nesbitt"
          ],
          [
           "you were good to me",
           "Jeremy Zucker"
          ],
          [
           "Same Boat",
           "Lizzy McAlpine"
          ],
          [
           "Flight Risk",
           "Tommy Lefroy"
          ],
          [
           "Gone",
           "Blake Rose"
          ],
          [
           "the author",
           "Luz"
          ],
          [
           "Paint",
           "The Paper Kites"
          ],
          [
           "Men On The Moon",
           "Chelsea Cutler"
          ],
          [
           "Worst of You",
           "Maisie Peters"
          ],
          [
           "idk",
           "Haley Joelle"
          ],
          [
           "Doomsday",
           "Matilda Mann"
          ],
          [
           "All I Want",
           "Kodaline"
          ],
          [
           "Is It Just Me?",
           "Emily Burns"
          ],
          [
           "dance around",
           "carobae"
          ],
          [
           "Mean It",
           "Gracie Abrams"
          ],
          [
           "Decimal",
           "Novo Amor"
          ],
          [
           "This Town",
           "Niall Horan"
          ],
          [
           "I Knew",
           "Lizzy McAlpine"
          ],
          [
           "Jealous of Paris",
           "Haley Joelle"
          ],
          [
           "nobody likes a secret",
           "Lizzy McAlpine"
          ],
          [
           "July (feat. Leon Bridges)",
           "Noah Cyrus"
          ],
          [
           "Crosswords",
           "Olivia Dean"
          ],
          [
           "Are you happy?",
           "shy martin"
          ],
          [
           "Two Punks In Love",
           "bülow"
          ],
          [
           "Sleeping with Roses",
           "Chelsea Cutler"
          ],
          [
           "When The World Stopped Moving",
           "Lizzy McAlpine"
          ],
          [
           "Bloom - Bonus Track",
           "The Paper Kites"
          ],
          [
           "Here With Me",
           "Elina"
          ],
          [
           "Fall For You",
           "Sophie Ann"
          ],
          [
           "Another Round",
           "Elina"
          ],
          [
           "State Lines",
           "Novo Amor"
          ],
          [
           "Even When You're Home",
           "Ben Kessler"
          ],
          [
           "reckless driving",
           "Lizzy McAlpine"
          ],
          [
           "Crazier Things",
           "Chelsea Cutler"
          ],
          [
           "Falling Asleep At The Wheel",
           "Holly Humberstone"
          ],
          [
           "Arms",
           "The Paper Kites"
          ],
          [
           "Last Minute",
           "Sam MacPherson"
          ],
          [
           "Please Notice",
           "Christian Leave"
          ],
          [
           "Blue",
           "Elina"
          ],
          [
           "Alpine Green",
           "Jolé"
          ],
          [
           "Live Cinema",
           "Ellie Williams"
          ],
          [
           "Till Forever Falls Apart",
           "Ashe"
          ],
          [
           "Say Less",
           "Rosie Darling"
          ],
          [
           "Work Off My Hurt",
           "Havelin"
          ],
          [
           "broken",
           "Jonah Kagen"
          ],
          [
           "The Few Things (With Charlotte Lawrence)",
           "JP Saxe"
          ],
          [
           "The Day That I Met You",
           "Matilda Mann"
          ],
          [
           "Coffee Stained Smile",
           "Delaney Bailey"
          ],
          [
           "When All My Friends Move Away",
           "carobae"
          ],
          [
           "blue bird",
           "Zachary Knowles"
          ],
          [
           "always, i'll care",
           "Jeremy Zucker"
          ],
          [
           "Home",
           "Nina Nesbitt"
          ],
          [
           "A Little Bit Yours",
           "JP Saxe"
          ],
          [
           "all my ghosts",
           "Lizzy McAlpine"
          ],
          [
           "Sweet Connection",
           "Jessica Ricca"
          ],
          [
           "The Girl You Call Best Friend",
           "Aria Rayes"
          ],
          [
           "Be",
           "Garrett Kato"
          ],
          [
           "17",
           "Julia Michaels"
          ],
          [
           "Shoot",
           "Tommy Lefroy"
          ],
          [
           "sometimes",
           "Chelsea Cutler"
          ],
          [
           "pass you by",
           "Alaina Castillo"
          ],
          [
           "Too Hot For You To Hold",
           "Rosie Darling"
          ],
          [
           "accidentally told you - demo",
           "Tamzene"
          ],
          [
           "Cut Me Out Your Photos",
           "Tamzene"
          ],
          [
           "Riptide",
           "Vance Joy"
          ],
          [
           "In Agreement",
           "Lizzy McAlpine"
          ],
          [
           "Mother Tongue",
           "Joshua Moss"
          ],
          [
           "Crazier Things (with Noah Kahan)",
           "Chelsea Cutler"
          ],
          [
           "Witness",
           "Rosie Darling"
          ],
          [
           "...What Are We?",
           "Lizzy McAlpine"
          ],
          [
           "Good Stuff",
           "Griff"
          ],
          [
           "To the Mountains",
           "Lizzy McAlpine"
          ],
          [
           "Cruise Control",
           "Ben Kessler"
          ],
          [
           "Let Light Be Light",
           "Lizzy McAlpine"
          ],
          [
           "I Believe In A Thing Called Love",
           "Nina Nesbitt"
          ],
          [
           "What They'll Say About Us",
           "FINNEAS"
          ],
          [
           "Asking the Aspens",
           "Kathleen"
          ],
          [
           "i hope she breaks your heart.",
           "MARG"
          ],
          [
           "fly when i fall",
           "Lewis Watson"
          ],
          [
           "Place We Were Made",
           "Maisie Peters"
          ],
          [
           "I'm with You",
           "Vance Joy"
          ],
          [
           "Haunt You",
           "Haley Joelle"
          ],
          [
           "Still Waiting to Start",
           "Nina Nesbitt"
          ],
          [
           "Hey There Delilah",
           "Plain White T's"
          ],
          [
           "Is She Gonna Be There?",
           "Violet Skies"
          ],
          [
           "Dear August",
           "PJ Harding"
          ],
          [
           "Keep Me",
           "Novo Amor"
          ],
          [
           "Need You Now - Acoustic",
           "Dean Lewis"
          ],
          [
           "Good Mourning",
           "Sophie Holohan"
          ],
          [
           "Tell Me That You Love Me",
           "James Smith"
          ],
          [
           "Butterfly Rain",
           "Tori Templet"
          ],
          [
           "Together Forever",
           "Nina Nesbitt"
          ],
          [
           "Over-the-Ocean Call",
           "Lizzy McAlpine"
          ],
          [
           "Where's My Love - Acoustic",
           "SYML"
          ],
          [
           "Feels Like",
           "Gracie Abrams"
          ],
          [
           "Everywhere",
           "K E M A L"
          ],
          [
           "If the World Was Ending (feat. Julia Michaels)",
           "JP Saxe"
          ],
          [
           "Amelie",
           "Gracie Abrams"
          ],
          [
           "Dinner Table",
           "Nina Nesbitt"
          ],
          [
           "Anchor",
           "Novo Amor"
          ],
          [
           "Break With Me",
           "shy martin"
          ],
          [
           "Botl",
           "Quinn Lewis"
          ],
          [
           "Emergency Contact",
           "Haley Joelle"
          ],
          [
           "Favorite Dream",
           "The Careful Ones"
          ],
          [
           "Somebody Special - Acoustic Version",
           "Nina Nesbitt"
          ],
          [
           "Loving & Losing",
           "Delaney Bailey"
          ],
          [
           "Fire and the Flood",
           "Vance Joy"
          ],
          [
           "Far Away",
           "Peter Fenn"
          ],
          [
           "Portland, Maine",
           "Donovan Woods"
          ],
          [
           "The Sun Will Come Up, The Seasons Will Change",
           "Nina Nesbitt"
          ],
          [
           "Scared to Be Happy",
           "Navvy"
          ],
          [
           "Feels So Easy",
           "Ber"
          ],
          [
           "wish I didn't know you",
           "shy martin"
          ],
          [
           "Just Wanna Be Your Friend",
           "Ben Kessler"
          ],
          [
           "Margaux",
           "Matilda Mann"
          ],
          [
           "Universe",
           "Annika Bennett"
          ],
          [
           "Out Of Love with You",
           "Avery Lynch"
          ],
          [
           "I Should Be a Bird",
           "Nina Nesbitt"
          ],
          [
           "Good as Gold",
           "Greyson Chance"
          ],
          [
           "Coping",
           "Rosie Darling"
          ],
          [
           "Same Effect",
           "Ber"
          ],
          [
           "When It Ends",
           "Avery Lynch"
          ],
          [
           "Brooklyn",
           "Emily James"
          ],
          [
           "Hailey",
           "WRENN"
          ],
          [
           "Your Shirt",
           "Chelsea Cutler"
          ],
          [
           "Lucky",
           "Zeph"
          ],
          [
           "July",
           "Noah Cyrus"
          ],
          [
           "Something You Should Know",
           "The Rubies"
          ],
          [
           "Pancakes for Dinner",
           "Lizzy McAlpine"
          ],
          [
           "Lately I've Been Sad",
           "Lilacs."
          ],
          [
           "Anyway",
           "Noah Kahan"
          ],
          [
           "what if it's not",
           "Jackson Guthy"
          ],
          [
           "Red Eye",
           "Vance Joy"
          ],
          [
           "Always Almost",
           "Rosie Darling"
          ],
          [
           "No Right To Love You - Acoustic",
           "Rhys Lewis"
          ],
          [
           "Lonely City",
           "Mokita"
          ],
          [
           "Lego Bricks",
           "Euan Allison"
          ],
          [
           "Masquerade",
           "Elina"
          ],
          [
           "i don't want to watch the world end with someone else",
           "Clinton Kane"
          ],
          [
           "Called You Out",
           "Tamzene"
          ],
          [
           "tomorrow tonight",
           "Loote"
          ],
          [
           "How Do You Dress for the Rain?",
           "Sam MacPherson"
          ],
          [
           "Side",
           "EXES"
          ],
          [
           "Bad For Me",
           "Ber"
          ],
          [
           "Whole Heart",
           "Jessie Reid"
          ],
          [
           "Colorado - Acoustic",
           "carobae"
          ],
          [
           "Ok Love You Bye",
           "Olivia Dean"
          ],
          [
           "Rockland",
           "Gracie Abrams"
          ],
          [
           "Reruns",
           "Rosie Darling"
          ],
          [
           "They Just Exist",
           "Gatton"
          ],
          [
           "Haunted House",
           "Holly Humberstone"
          ],
          [
           "Seventeen",
           "Julianna Joy"
          ],
          [
           "In What World",
           "Lizzy McAlpine"
          ],
          [
           "IDK You Yet",
           "Alexander 23"
          ],
          [
           "323",
           "Carly Nikbakht"
          ],
          [
           "ilym (feat. ROSIE)",
           "John K"
          ],
          [
           "Wild Enough",
           "Elina"
          ],
          [
           "Brave Face",
           "Haley Joelle"
          ],
          [
           "Concrete",
           "Ben Kessler"
          ],
          [
           "Is It Really Me You're Missing",
           "Nina Nesbitt"
          ],
          [
           "Streetlights on Mars (Stripped)",
           "Jackson Penn"
          ],
          [
           "all i need (the distance song)",
           "Avery Lynch"
          ],
          [
           "first attachment",
           "Anya Gupta"
          ],
          [
           "February",
           "Matilda Mann"
          ],
          [
           "Things You Don't Know",
           "Haley Joelle"
          ],
          [
           "better with you",
           "Virginia To Vegas"
          ],
          [
           "wait it out",
           "shy martin"
          ],
          [
           "In a Stranger's Arms",
           "LÉON"
          ],
          [
           "Deep End",
           "Holly Humberstone"
          ],
          [
           "Call Your Girlfriend",
           "Clara Mae"
          ],
          [
           "For You",
           "Delaney Bailey"
          ],
          [
           "Never Gonna Be Alone (feat. Lizzy McAlpine & John Mayer)",
           "Jacob Collier"
          ],
          [
           "Nothing More Than That",
           "The Paper Kites"
          ],
          [
           "You and I",
           "SYML"
          ],
          [
           "Goodnight",
           "Lennon Stella"
          ],
          [
           "Find My Way",
           "Tamzene"
          ],
          [
           "To Love Someone Else",
           "Avery Lynch"
          ],
          [
           "Lost On You",
           "Rosie Darling"
          ],
          [
           "No Good",
           "Harry Hudson"
          ],
          [
           "Scarlett - Garden Version",
           "Holly Humberstone"
          ],
          [
           "405",
           "Gracie Abrams"
          ],
          [
           "rome - demo",
           "Tamzene"
          ],
          [
           "Heavy",
           "Rosie Darling"
          ],
          [
           "you ruined phoebe bridgers",
           "Anya Gupta"
          ],
          [
           "Still Feel It All",
           "MARO"
          ],
          [
           "Glad It's You",
           "Kate Vogel"
          ],
          [
           "Long Sleeves",
           "Gracie Abrams"
          ],
          [
           "I Was In Heaven",
           "Chelsea Cutler"
          ],
          [
           "Sundress",
           "bülow"
          ],
          [
           "If I Had Stayed",
           "Gatton"
          ],
          [
           "my fault",
           "Zeph"
          ],
          [
           "doomsday",
           "Lizzy McAlpine"
          ],
          [
           "I don't mind if you don't mind (draft)",
           "Elina"
          ],
          [
           "This Could Be",
           "Joel Ansett"
          ],
          [
           "Lose You Too",
           "shy martin"
          ],
          [
           "UFO",
           "Olivia Dean"
          ],
          [
           "glued to the floor",
           "shy martin"
          ],
          [
           "champagne problems",
           "Taylor Swift"
          ],
          [
           "Yours",
           "Evann McIntosh"
          ],
          [
           "for life",
           "Zachary Knowles"
          ],
          [
           "Look Back & Laugh",
           "David Kushner"
          ],
          [
           "Harsh",
           "Eleni Drake"
          ],
          [
           "A Thousand Years",
           "Christina Perri"
          ],
          [
           "I Don't Want to Lose You",
           "Luca Fogale"
          ],
          [
           "Like A Stone",
           "I Am Strikes"
          ],
          [
           "A Thousand Ways (Acoustic)",
           "Phoebe Ryan"
          ],
          [
           "Air So Sweet",
           "dodie"
          ],
          [
           "Hey, Soul Sister",
           "Train"
          ],
          [
           "Know You Better",
           "Emma Oliver"
          ],
          [
           "A Phase",
           "Maz Lovella"
          ],
          [
           "Little Do You Know",
           "Alex & Sierra"
          ],
          [
           "I know it won't work",
           "Gracie Abrams"
          ],
          [
           "Nobody Likes Moving On",
           "shy martin"
          ],
          [
           "Forever",
           "Lewis Capaldi"
          ],
          [
           "Black Converse",
           "LOVA"
          ],
          [
           "When You Love Someone",
           "James TW"
          ],
          [
           "Part of Me",
           "carobae"
          ],
          [
           "Still on Your Mind (Acoustic)",
           "Ethan DeRose"
          ],
          [
           "Never the 1",
           "ROSIE"
          ],
          [
           "Nothing / Sad N Stuff",
           "Lizzy McAlpine"
          ],
          [
           "Story of My Life",
           "One Direction"
          ],
          [
           "rock bottom",
           "carobae"
          ],
          [
           "Breathe Again",
           "Harrison Storm"
          ],
          [
           "sydney",
           "Julian"
          ],
          [
           "Seaside",
           "Zach Oliver"
          ],
          [
           "Rose",
           "Honest Men"
          ],
          [
           "Love Is Letting Go (feat. Diane Keaton)",
           "Ashe"
          ],
          [
           "i luv him.",
           "Catie Turner"
          ],
          [
           "My Point of You",
           "Matilda Mann"
          ],
          [
           "Somewhere Only We Know",
           "Keane"
          ],
          [
           "Spotless Mind",
           "Emily Lind"
          ],
          [
           "Thinking 'Bout Love",
           "Wild Rivers"
          ],
          [
           "Stormy Weather",
           "Ed Whicher"
          ],
          [
           "I Like You",
           "Olive James"
          ],
          [
           "The Night We Met",
           "Lord Huron"
          ],
          [
           "Hollow",
           "MARGO"
          ],
          [
           "Letting Go for a Little While",
           "Ryan McMullan"
          ],
          [
           "(Wish I Didn't Have to) Lie [feat. JORDY]",
           "Catie Turner"
          ],
          [
           "Where Do I Go?",
           "Lizzy McAlpine"
          ],
          [
           "Gravity",
           "Sara Bareilles"
          ],
          [
           "i don't wanna know - acoustic",
           "GOLDHOUSE"
          ],
          [
           "Colder - Acoustic Version",
           "Nina Nesbitt"
          ],
          [
           "Flowers on the Freeway",
           "Cody Lovaas"
          ],
          [
           "Mr. Brightside",
           "The Killers"
          ],
          [
           "Glue Myself Shut",
           "Noah Kahan"
          ],
          [
           "Beloved",
           "Raquel Norland"
          ],
          [
           "You Belong With Me (Taylor’s Version)",
           "Taylor Swift"
          ],
          [
           "With You",
           "Garrett Kato"
          ],
          [
           "Walk Above the City",
           "The Paper Kites"
          ],
          [
           "Angelina",
           "Lizzy McAlpine"
          ],
          [
           "Alright",
           "Gracie Abrams"
          ],
          [
           "Opaline",
           "Novo Amor"
          ],
          [
           "Harry and Sally",
           "Charlie Pittman"
          ],
          [
           "Here for You",
           "Peter Fenn"
          ],
          [
           "Crying Game",
           "Cady Groves"
          ],
          [
           "Crying Over You",
           "The Band CAMINO"
          ],
          [
           "Cold Water Swimming",
           "Quiet Houses"
          ],
          [
           "Remember That Night?",
           "Sara Kays"
          ],
          [
           "Poseidon",
           "Julianna Joy"
          ],
          [
           "Colorado",
           "carobae"
          ],
          [
           "dreambird",
           "Little Green"
          ],
          [
           "i (I'll always be there)",
           "Samuel Marklee"
          ],
          [
           "Hey Girl",
           "Stephen Sanchez"
          ],
          [
           "Need You - feat. Zion Foster",
           "Nina Nesbitt"
          ],
          [
           "If I Could Dance",
           "Quinn Lewis"
          ],
          [
           "Medicine",
           "Havelin"
          ],
          [
           "If That's Alright",
           "Dylan Dunlap"
          ],
          [
           "Storms",
           "Mr. Carter Davis"
          ],
          [
           "Bees",
           "The Ballroom Thieves"
          ],
          [
           "Be Slow - Acoustic",
           "Harrison Storm"
          ],
          [
           "Be Slow",
           "Harrison Storm"
          ],
          [
           "Japan",
           "Matilda Mann"
          ],
          [
           "25 in Barcelona",
           "JP Saxe"
          ],
          [
           "Only Emotion",
           "Annika Bennett"
          ],
          [
           "I Should’ve Danced More",
           "Elina"
          ],
          [
           "Cry with you",
           "Jeremy Zucker"
          ],
          [
           "Maid of Honor",
           "Haley Joelle"
          ],
          [
           "God Must Hate Me",
           "Catie Turner"
          ],
          [
           "Forever Love",
           "Brothers + Company"
          ],
          [
           "Two",
           "Sleeping At Last"
          ],
          [
           "How to Save a Life",
           "The Fray"
          ],
          [
           "Like Like",
           "Victoria IX"
          ],
          [
           "Would You Be So Kind",
           "dodie"
          ],
          [
           "Like Gold",
           "Vance Joy"
          ],
          [
           "Falling",
           "Harry Styles"
          ],
          [
           "Round & Round",
           "Avery Lynch"
          ],
          [
           "Exless",
           "Kate Stephenson"
          ],
          [
           "The Way I Am",
           "Gavin Haley"
          ],
          [
           "Second Place",
           "loyalties"
          ],
          [
           "Home",
           "Catie Turner"
          ],
          [
           "Hold Me",
           "Brennen Henson"
          ],
          [
           "Love Come Around",
           "Elina"
          ],
          [
           "just like you - demo",
           "Annika Rose"
          ],
          [
           "this is what overthinking feels like",
           "Marina Lin"
          ],
          [
           "Champion",
           "Elina"
          ],
          [
           "A Drop in the Ocean",
           "Ron Pope"
          ],
          [
           "Lucky for You",
           "Novo Amor"
          ],
          [
           "In The Kitchen",
           "Reneé Rapp"
          ],
          [
           "Breakeven",
           "The Script"
          ],
          [
           "Ho Hey",
           "The Lumineers"
          ],
          [
           "String of Lights",
           "Lindsey Lomis"
          ],
          [
           "Birdcage",
           "Novo Amor"
          ],
          [
           "Picture Perfect",
           "Jolé"
          ],
          [
           "Some Italian Mountain",
           "Sophie May"
          ],
          [
           "Learning To Live Without You",
           "Hajaj"
          ],
          [
           "The Art Of Letting You Go",
           "Ewan J Phillips"
          ],
          [
           "cherry blossom - demo",
           "Tamzene"
          ],
          [
           "Me And My Broken Heart",
           "Rixton"
          ],
          [
           "T-Shirts - Acoustic",
           "James Smith"
          ],
          [
           "I Loved You Then (And I Love You Still)",
           "Woodlock"
          ],
          [
           "(i would have followed you)",
           "Delaney Bailey"
          ],
          [
           "Remember Why You Fell in Love (Unplugged)",
           "Natalie Madigan"
          ],
          [
           "Haven (from Life Is Strange)",
           "Novo Amor"
          ],
          [
           "1953",
           "The National Parks"
          ],
          [
           "Alive",
           "Tamzene"
          ],
          [
           "this is what a broken heart feels like - stripped",
           "Marina Lin"
          ],
          [
           "Far Side of the World",
           "Holden Miller"
          ],
          [
           "grow old together",
           "shy martin"
          ],
          [
           "Justify",
           "Rosie Darling"
          ],
          [
           "Old Love",
           "Tamzene"
          ],
          [
           "Sacred",
           "Nina Nesbitt"
          ],
          [
           "Oh Love",
           "Delaney Bailey"
          ],
          [
           "Owe You One",
           "Fiona Harte"
          ],
          [
           "Love Story",
           "Taylor Swift"
          ],
          [
           "Lucky",
           "Chelsea Cutler"
          ],
          [
           "Northern Towns",
           "Tommy Lefroy"
          ],
          [
           "Pineapple",
           "The Careful Ones"
          ],
          [
           "Skyscraper",
           "Demi Lovato"
          ],
          [
           "Rich",
           "Lily Williams"
          ],
          [
           "Repeat Until Death",
           "Novo Amor"
          ],
          [
           "Rome",
           "Dermot Kennedy"
          ],
          [
           "Two Places at Once",
           "Haley Joelle"
          ],
          [
           "Flowers",
           "James Spaite"
          ],
          [
           "everything everywhere always",
           "elijah woods"
          ],
          [
           "i should’ve guessed",
           "Taylor Bickett"
          ],
          [
           "The Subway Song",
           "Delacey"
          ],
          [
           "Colder Throats",
           "Laila"
          ],
          [
           "Home",
           "Mathew V"
          ],
          [
           "Thinking 'Bout Love - Acoustic",
           "Wild Rivers"
          ],
          [
           "human",
           "Christina Perri"
          ],
          [
           "Headlights",
           "The National Parks"
          ],
          [
           "Vanilla (Stairwell Version)",
           "Holly Humberstone"
          ],
          [
           "Courtyard Theatre",
           "Tamzene"
          ],
          [
           "Grenade",
           "Bruno Mars"
          ],
          [
           "firearm",
           "Lizzy McAlpine"
          ],
          [
           "Good",
           "Sleeping Lion"
          ],
          [
           "drunk text me",
           "Lexi Jayde"
          ],
          [
           "Dance With You Again",
           "Tamzene"
          ],
          [
           "Do You Turn Red?",
           "Peter Manos"
          ],
          [
           "Drive By",
           "Train"
          ],
          [
           "Give It All",
           "Ed Prosek"
          ],
          [
           "Everything Ends (feat. Lizzy McAlpine and Tiny Habits)",
           "JP Saxe"
          ],
          [
           "Where Are You?",
           "Sara Kays"
          ],
          [
           "Faith You Might",
           "Kevin Garrett"
          ],
          [
           "You & Me",
           "Jill Baylon"
          ],
          [
           "Yellow",
           "Coldplay"
          ],
          [
           "The Hardest Part",
           "Nina Nesbitt"
          ],
          [
           "Joyride",
           "Adam Melchor"
          ],
          [
           "American Teenager",
           "Ethel Cain"
          ],
          [
           "Blvd",
           "Adam Ragsdale"
          ],
          [
           "Stupid",
           "Lizzy McAlpine"
          ],
          [
           "sad song",
           "Annika Bennett"
          ],
          [
           "Still",
           "Jolé"
          ],
          [
           "I Walked These Streets in November",
           "Caroline Manning"
          ],
          [
           "I Knew You Were Trouble.",
           "Taylor Swift"
          ],
          [
           "x",
           "Anya Gupta"
          ],
          [
           "Block me out",
           "Gracie Abrams"
          ],
          [
           "Jar of Hearts",
           "Christina Perri"
          ],
          [
           "nj",
           "Chelsea Cutler"
          ],
          [
           "1000 reasons",
           "Caleb Hearn"
          ],
          [
           "Boy Who Has Everything",
           "Annika Bennett"
          ],
          [
           "Break My Heart Again",
           "FINNEAS"
          ],
          [
           "I Can't Make You Love Me",
           "Colouring"
          ],
          [
           "london",
           "Wrabel"
          ],
          [
           "the stars",
           "Chelsea Cutler"
          ],
          [
           "You Tried",
           "Luca Fogale"
          ],
          [
           "Only An Ocean",
           "Tamzene"
          ],
          [
           "OK",
           "Canyon City"
          ],
          [
           "what a shame",
           "Lizzy McAlpine"
          ],
          [
           "Other's Melodies - Demo",
           "Gatton"
          ],
          [
           "Elliot's Song - From \"Euphoria\" An HBO Original Series",
           "Dominic Fike"
          ],
          [
           "already there",
           "Jasmine Thompson"
          ],
          [
           "an ego thing",
           "Lizzy McAlpine"
          ],
          [
           "this is what falling in love feels like",
           "Marina Lin"
          ],
          [
           "Brush Fire",
           "Gracie Abrams"
          ],
          [
           "DJ Got Us Fallin' In Love (feat. Pitbull)",
           "USHER"
          ],
          [
           "Crying At The Laundrette",
           "Tamzene"
          ],
          [
           "Over the Rainbow",
           "Israel Kamakawiwo'ole"
          ],
          [
           "Mess Is Mine",
           "Vance Joy"
          ],
          [
           "Never Alone",
           "Garrett Kato"
          ],
          [
           "red flags",
           "Anya Gupta"
          ],
          [
           "Reckless Lover - Acoustic",
           "Handsome Ghost"
          ],
          [
           "permanent +1",
           "Luz"
          ],
          [
           "Radioactive",
           "Imagine Dragons"
          ],
          [
           "Coping - Stripped",
           "Rosie Darling"
          ],
          [
           "Bleachers",
           "bluffs."
          ],
          [
           "Portland",
           "Sofia Franco"
          ],
          [
           "Featherstone",
           "The Paper Kites"
          ],
          [
           "i leave early",
           "Maria Kelly"
          ],
          [
           "Clocks",
           "Coldplay"
          ],
          [
           "June",
           "Charlie Burg"
          ],
          [
           "Wolves",
           "Azure Ryder"
          ],
          [
           "Grow as We Go",
           "Ben Platt"
          ],
          [
           "Holes",
           "Passenger"
          ],
          [
           "Hope Is A Heartache",
           "LÉON"
          ],
          [
           "Simple Things (feat. Christina Perri)",
           "Alexander Cardinale"
          ],
          [
           "Sleep On The Floor",
           "The Lumineers"
          ],
          [
           "Hugging You - Acoustic",
           "Tom Rosenthal"
          ],
          [
           "I Can See New Zealand From Here",
           "Cooza"
          ],
          [
           "The Boy From Class",
           "Haley Joelle"
          ],
          [
           "That's Us",
           "Anson Seabra"
          ],
          [
           "Light Year (feat. Lennon Stella)",
           "Adam Melchor"
          ],
          [
           "Letters",
           "LaPeer"
          ],
          [
           "I Like That",
           "Adam Turley"
          ],
          [
           "I Won't Give Up",
           "Jason Mraz"
          ],
          [
           "In Case You Don't Live Forever",
           "Ben Platt"
          ],
          [
           "Spaceship (Bonus Track)",
           "shy martin"
          ],
          [
           "It's Okay If You Don't",
           "Hannah Trager"
          ],
          [
           "Jesus Couldn't Love Me",
           "Chloe Lilac"
          ],
          [
           "Stay",
           "Seph Cove"
          ],
          [
           "Hello",
           "Emily Burns"
          ],
          [
           "Orange Juice",
           "Aimee Vant"
          ],
          [
           "Lovely",
           "Fly By Midnight"
          ],
          [
           "Say Love",
           "James TW"
          ],
          [
           "Wilderness",
           "Jon Bryant"
          ],
          [
           "Forgetting Delaney",
           "Delaney Bailey"
          ],
          [
           "What Would I Do Without You",
           "Drew Holcomb & The Neighbors"
          ],
          [
           "What You've Put Me Through",
           "Hank Compton"
          ],
          [
           "Gin & Tonics",
           "George David"
          ],
          [
           "God Only Knows",
           "Matilda Mann"
          ],
          [
           "When You're Gone",
           "Lex"
          ],
          [
           "Love Seasons",
           "Nina Nesbitt"
          ],
          [
           "Say You Won't Let Go",
           "James Arthur"
          ],
          [
           "now that i know you",
           "Julian"
          ],
          [
           "orange show speedway",
           "Lizzy McAlpine"
          ],
          [
           "Overdose (bedroom session)",
           "Tayler Buono"
          ],
          [
           "Summer in Sweden",
           "Melanie MacLaren"
          ],
          [
           "Seeing Other People",
           "Donovan Woods"
          ],
          [
           "Tenenbaum",
           "The Paper Kites"
          ],
          [
           "Still Into You",
           "Meadowlark"
          ],
          [
           "Soon",
           "Kev Kelly"
          ],
          [
           "this is what a broken heart feels like",
           "Marina Lin"
          ],
          [
           "White Trainers - Demo",
           "Olivia Dean"
          ],
          [
           "weird",
           "Lizzy McAlpine"
          ],
          [
           "Standing in the Rain",
           "The Paper Kites"
          ],
          [
           "Wild Love - Acoustic",
           "James Bay"
          ],
          [
           "Steady Love",
           "Evergreen"
          ],
          [
           "Stupid Deep - Acoustic",
           "Jon Bellion"
          ],
          [
           "Slow Fade",
           "Ruth B."
          ],
          [
           "nobody else",
           "LANY"
          ],
          [
           "Same Room",
           "JP Saxe"
          ],
          [
           "Sell the Furniture",
           "Dan Mills"
          ],
          [
           "Tin Lover",
           "The Paper Kites"
          ],
          [
           "fuck, i luv my friends - stripped",
           "renforshort"
          ],
          [
           "Ways to Go",
           "Zeph"
          ],
          [
           "Portland Nights",
           "Genevieve Stokes"
          ],
          [
           "Red Lights",
           "Haley Joelle"
          ],
          [
           "These Memories",
           "Hollow Coves"
          ],
          [
           "Silver & Gold",
           "WILD"
          ],
          [
           "i know you",
           "Anya Gupta"
          ],
          [
           "What A Convincing Illusion",
           "Rosie Darling"
          ],
          [
           "What A Wonderful World",
           "Louis Armstrong"
          ],
          [
           "Rotten Love Song",
           "Alice Kristiansen"
          ],
          [
           "Picture of You",
           "Sara Kays"
          ],
          [
           "never been in love",
           "Gatlin"
          ],
          [
           "Payphone",
           "Maroon 5"
          ],
          [
           "Pass Me By",
           "Peter Fenn"
          ],
          [
           "Real Estate",
           "Adam Melchor"
          ],
          [
           "The End",
           "Andrew Maxman"
          ],
          [
           "Megan’s Song",
           "Sophie Holohan"
          ],
          [
           "I Hope You Think Of Me",
           "Lily Williams"
          ],
          [
           "Never Fucking Fall in Love Again",
           "X Lovers"
          ],
          [
           "Give Me Love",
           "Jessie Reid"
          ],
          [
           "Cognitive Dissonance",
           "Sophie Holohan"
          ],
          [
           "Moonflowers (Best Friend)",
           "Tommy Ashby"
          ],
          [
           "Closing Time",
           "Havelin"
          ],
          [
           "Across the Sea",
           "The Sweeplings"
          ],
          [
           "Only Know How to Love You - with Annika Bennett",
           "Jordy Searcy"
          ],
          [
           "Half My Life",
           "Violet Skies"
          ],
          [
           "Hard Sometimes",
           "Ruel"
          ],
          [
           "Matter",
           "Family Stereo"
          ],
          [
           "Magical Thinking",
           "Haley Joelle"
          ],
          [
           "All of Me",
           "John Legend"
          ],
          [
           "Honest Mistake",
           "Max Embers"
          ],
          [
           "Bored",
           "Thomas Headon"
          ],
          [
           "House",
           "Joshua Moss"
          ],
          [
           "I Don't Know You At All",
           "Lizzy McAlpine"
          ],
          [
           "Already Gone",
           "Sleeping At Last"
          ],
          [
           "Black & Blue",
           "James TW"
          ],
          [
           "Lost for Words",
           "Plested"
          ],
          [
           "If I Could",
           "Noah Ransom"
          ],
          [
           "Baby Blue",
           "Imani Graham"
          ],
          [
           "Locked out of Heaven",
           "Bruno Mars"
          ],
          [
           "Austin's Song",
           "Frawley"
          ],
          [
           "Joshua Tree",
           "Rozzi"
          ],
          [
           "Like My Father",
           "Jax"
          ],
          [
           "Gaol",
           "Nina Nesbitt"
          ],
          [
           "Flares",
           "The Script"
          ],
          [
           "New Beginning",
           "Tamzene"
          ],
          [
           "Oh, Round Lake",
           "Novo Amor"
          ],
          [
           "Nothing Matters Then We Die",
           "TRØVES"
          ],
          [
           "Ease",
           "Joel Ansett"
          ],
          [
           "Emily",
           "Love You Later"
          ],
          [
           "Not That Far Away",
           "Jordan Moyes"
          ],
          [
           "Crocodiles",
           "Cian Ducrot"
          ],
          [
           "Nirvana",
           "ELLIANA"
          ],
          [
           "A Little Closer",
           "Jessie Reid"
          ],
          [
           "Counting Stars",
           "OneRepublic"
          ],
          [
           "Letter From Last Summer",
           "Charlie Burg"
          ],
          [
           "Go",
           "Vocal Few"
          ],
          [
           "Better Place",
           "Rachel Platten"
          ],
          [
           "I Don't Know Why",
           "Sunflower Thieves"
          ],
          [
           "The A Team",
           "Ed Sheeran"
          ],
          [
           "history",
           "Zeph"
          ],
          [
           "Talking to Myself",
           "carobae"
          ],
          [
           "Colourway",
           "Novo Amor"
          ],
          [
           "happy for you",
           "Jasmine Thompson"
          ],
          [
           "Symphony (feat. Zara Larsson)",
           "Clean Bandit"
          ],
          [
           "I Wouldn't Mind",
           "He Is We"
          ],
          [
           "Disarray",
           "Aria Rayes"
          ],
          [
           "broken",
           "lovelytheband"
          ],
          [
           "pennies (voice memo)",
           "Tiny Habits"
          ],
          [
           "nobody but me - postcards version",
           "Maria Kelly"
          ],
          [
           "Iris",
           "Elina"
          ],
          [
           "Come Home",
           "Marcus Alexander"
          ],
          [
           "It's Just Me",
           "Ariyel"
          ],
          [
           "racing raindrops",
           "Lexie Carroll"
          ],
          [
           "Stbcks",
           "Gatton"
          ],
          [
           "buttercup",
           "Palmer"
          ],
          [
           "Did You Ever?",
           "Áine Deane"
          ],
          [
           "ceilings - Spotify Singles",
           "Lizzy McAlpine"
          ],
          [
           "Default",
           "Ben Kessler"
          ],
          [
           "Just Because",
           "Sadie Jean"
          ],
          [
           "Let You Win",
           "Adam Watts"
          ],
          [
           "As It Is",
           "Matilda Mann"
          ],
          [
           "I Don't Feel Alive",
           "Chelsea Cutler"
          ],
          [
           "How This Feels",
           "Kaypo"
          ],
          [
           "Count on Me",
           "Bruno Mars"
          ],
          [
           "By My Side",
           "The Paper Kites"
          ],
          [
           "Wake Me Up",
           "Avicii"
          ],
          [
           "Violet",
           "Ben Kessler"
          ],
          [
           "You Are The Reason",
           "Calum Scott"
          ],
          [
           "You",
           "A Great Big World"
          ],
          [
           "Snowglobe",
           "Samuel Allen"
          ],
          [
           "Counts",
           "Sam MacPherson"
          ],
          [
           "Under / Over",
           "Gracie Abrams"
          ],
          [
           "Two Weeks",
           "Anke Richards"
          ],
          [
           "j's lullaby (darlin' i'd wait for you)",
           "Delaney Bailey"
          ],
          [
           "Famous",
           "Hailaker"
          ],
          [
           "Tuesdays",
           "Jake Scott"
          ],
          [
           "From Gold",
           "Novo Amor"
          ],
          [
           "Trying My Best",
           "Anson Seabra"
          ],
          [
           "Trashfire",
           "Tommy Lefroy"
          ],
          [
           "First Time",
           "Vance Joy"
          ],
          [
           "Head & Heart",
           "Sarah Close"
          ],
          [
           "Titanium (feat. Sia)",
           "David Guetta"
          ],
          [
           "FU",
           "Greta Isaac"
          ],
          [
           "Heather",
           "Conan Gray"
          ],
          [
           "Come Home",
           "Munn"
          ],
          [
           "a big fuck u",
           "Anya Gupta"
          ],
          [
           "Breathe Again - Acoustic",
           "Harrison Storm"
          ],
          [
           "Get Me",
           "Anna Clendening"
          ],
          [
           "Words Ain't Enough",
           "Tessa Violet"
          ],
          [
           "Everything To Everyone (Intro)",
           "Reneé Rapp"
          ],
          [
           "Until We Drink",
           "Savannah Sgro"
          ],
          [
           "Resin",
           "Dustin Tebbutt"
          ],
          [
           "Love You Less",
           "Kevin Garrett"
          ],
          [
           "Pam and Jim",
           "Charlie Pittman"
          ],
          [
           "Animal",
           "Neon Trees"
          ],
          [
           "Secrets",
           "OneRepublic"
          ],
          [
           "Night Changes",
           "One Direction"
          ],
          [
           "Secret",
           "Rose Betts"
          ],
          [
           "testosterone",
           "Grace Davies"
          ],
          [
           "Love Like That (Words from Her)",
           "Suriel Hess"
          ],
          [
           "Love Me Again",
           "Katelyn Tarver"
          ],
          [
           "New Recording 28 - Lions",
           "Chelsea Cutler"
          ],
          [
           "Maybe It Wasn't Love",
           "Love You Later"
          ],
          [
           "Allergy Season",
           "Rachael Jenkins"
          ],
          [
           "swan song",
           "Victoria Canal"
          ],
          [
           "Santa Cruz",
           "Liang Lawrence"
          ],
          [
           "Photograph",
           "Ed Sheeran"
          ],
          [
           "A Little More",
           "Rosemary Joaquin"
          ],
          [
           "what does he have that i don't?",
           "Zeph"
          ],
          [
           "Love You Now, Love You Later",
           "Ben Kessler"
          ],
          [
           "Mountaineer",
           "Arliston"
          ],
          [
           "Reaching Out",
           "James Walsh"
          ],
          [
           "Missing Piece",
           "Vance Joy"
          ],
          [
           "Routine",
           "Sam MacPherson"
          ],
          [
           "Midnight",
           "Paper Planes"
          ],
          [
           "Not Just Anyone",
           "Tamzene"
          ],
          [
           "Love Me Nicely",
           "Avery Lynch"
          ],
          [
           "Alexandria (Slowed)",
           "myclownshoes"
          ],
          [
           "Lonely",
           "Violet Skies"
          ],
          [
           "3 AM",
           "RELIC"
          ],
          [
           "Outsider",
           "Rachel Grae"
          ],
          [
           "Nothing Ever Changes",
           "Sody"
          ],
          [
           "Like My Father - Acoustic Version",
           "Jax"
          ],
          [
           "Locksmith",
           "Sadie Jean"
          ],
          [
           "Short, Sweet Summer",
           "Jaz Beeson"
          ],
          [
           "Only Girl",
           "Ari Weiss"
          ],
          [
           "She Will Be Loved - Radio Mix",
           "Maroon 5"
          ],
          [
           "world",
           "Zeph"
          ],
          [
           "Cannonball",
           "Emily James"
          ],
          [
           "Good Together (Acoustic)",
           "shy martin"
          ],
          [
           "A Thousand Miles",
           "Vanessa Carlton"
          ],
          [
           "When You Think Of Me",
           "JP Saxe"
          ],
          [
           "More Than Fish",
           "Mason Harms"
          ],
          [
           "i can't breathe",
           "Bea Miller"
          ],
          [
           "Prism of Love",
           "Blakey"
          ],
          [
           "we were girls together",
           "Delaney Bailey"
          ],
          [
           "Dexter Hall.",
           "Zach Adkins"
          ],
          [
           "Maybe That",
           "Louis Knight"
          ],
          [
           "Revolve",
           "Haley Joelle"
          ],
          [
           "Golden Age",
           "Rosie Darling"
          ],
          [
           "What Did I Do?",
           "Hayd"
          ],
          [
           "Goodbye",
           "Mimi Webb"
          ],
          [
           "Maybe a Love Song",
           "Nataly Dawn"
          ],
          [
           "Water Me Down",
           "Rosie Darling"
          ],
          [
           "useless information",
           "Avery Lynch"
          ],
          [
           "Growing Season",
           "Love You Later"
          ],
          [
           "Old Wounds",
           "Jake Scott"
          ],
          [
           "Vampires",
           "Tommy Lefroy"
          ],
          [
           "Used To It",
           "Michal Leah"
          ],
          [
           "chemtrails",
           "Lizzy McAlpine"
          ],
          [
           "Aegean",
           "push baby"
          ],
          [
           "Anyways",
           "Noah Ransom"
          ],
          [
           "Color Me In",
           "Ian Logan"
          ],
          [
           "Every Time You Go Away",
           "Lennon Stella"
          ],
          [
           "A Soulmate Who Wasn’t Meant to Be",
           "Jess Benko"
          ],
          [
           "Nothing New (feat. Phoebe Bridgers) (Taylor’s Version) (From The Vault)",
           "Taylor Swift"
          ],
          [
           "wish you well",
           "Wrabel"
          ],
          [
           "a lovesong - demo",
           "Kimmy Pidazo"
          ],
          [
           "No Cigar",
           "Adam French"
          ],
          [
           "Fall Again",
           "Olivia Dean"
          ],
          [
           "Cross My Mind",
           "Olivia Dean"
          ],
          [
           "Party Tattoos",
           "dodie"
          ],
          [
           "Falling Apart",
           "LÉON"
          ],
          [
           "Eat Your Young",
           "Hozier"
          ],
          [
           "Drive You Home",
           "Jake Whiskin"
          ],
          [
           "Peaches",
           "Eleni Drake"
          ],
          [
           "beautiful things",
           "Joseph Tilley"
          ],
          [
           "Pen",
           "Amber Ais"
          ],
          [
           "Friends",
           "Eva Westphal"
          ],
          [
           "Do You Love Me, I Need to Know",
           "Into The Ivy"
          ],
          [
           "break up with a friend",
           "BLÜ EYES"
          ],
          [
           "breakfast at a funeral - sad version",
           "wens"
          ],
          [
           "Cool Girl",
           "dodie"
          ],
          [
           "white lies",
           "Katie Gregson-MacLeod"
          ],
          [
           "Cry Dancing",
           "NOTD"
          ],
          [
           "A Million Times",
           "Alice Kristiansen"
          ],
          [
           "Wish on an Eyelash",
           "Mallrat"
          ],
          [
           "eight hours",
           "Maria Kelly"
          ],
          [
           "Free",
           "Zion Goins"
          ],
          [
           "My Kind of Man",
           "Vance Joy"
          ],
          [
           "happy birthday babe (voice memo)",
           "Peter McPoland"
          ],
          [
           "Another's Arms",
           "Euan Allison"
          ],
          [
           "The Good Parts",
           "JP Saxe"
          ],
          [
           "The Mess",
           "Tommy Lefroy"
          ],
          [
           "Hold You",
           "Nina Nesbitt"
          ],
          [
           "Like Everybody Else - Acoustic",
           "Lennon Stella"
          ],
          [
           "Home Is You",
           "Isobel Knight"
          ],
          [
           "Safe And Sound",
           "Capital Cities"
          ],
          [
           "The Way Back Home",
           "Aisha Badru"
          ],
          [
           "The Walls Are Way Too Thin - Floorboards Version",
           "Holly Humberstone"
          ],
          [
           "Is She",
           "Tori Templet"
          ],
          [
           "Same (Alternate Version)",
           "Josie Dunne"
          ],
          [
           "Hope You're Well",
           "Haley Joelle"
          ],
          [
           "Macaroni Song",
           "Corey Kilgannon"
          ],
          [
           "The Only Exception",
           "Jacob Whitesides"
          ],
          [
           "Lover Boy",
           "Sophie May"
          ],
          [
           "The Hardest Part",
           "Olivia Dean"
          ],
          [
           "Just Like Me",
           "Ben Kessler"
          ],
          [
           "How Good It Is",
           "Morningsiders"
          ],
          [
           "Rocket",
           "Cody Lovaas"
          ],
          [
           "How Many Nights Do You Dance With Tears in Your Eyes?",
           "Love You Later"
          ],
          [
           "Impatiently Falling",
           "Adam Ragsdale"
          ],
          [
           "The Closest to That",
           "Avery Lynch"
          ],
          [
           "If I Really Love You",
           "Lexi Jayde"
          ],
          [
           "The Chocolate Cake Song",
           "Wes Fowler"
          ],
          [
           "Lost Soul",
           "Cara Rose"
          ],
          [
           "The Art Of Getting By",
           "Laura Zocca"
          ],
          [
           "Cry Me a River - Recorded at Metropolis Studios, London",
           "Nina Nesbitt"
          ],
          [
           "I Like You",
           "Harry Strange"
          ],
          [
           "I Won't",
           "Richard Walters"
          ],
          [
           "Things I Say When You Sleep",
           "Nina Nesbitt"
          ],
          [
           "Line Without a Hook (feat. mxmtoon)",
           "Ricky Montgomery"
          ],
          [
           "Madwoman",
           "Annika Bennett"
          ],
          [
           "Heaven's Not Too Far",
           "We Three"
          ],
          [
           "saw ur mom at the grocery store",
           "Abby Cates"
          ],
          [
           "Lights - Single Version",
           "Ellie Goulding"
          ],
          [
           "Have I Ever Been",
           "Jasmine Jethwa"
          ],
          [
           "landslide",
           "Tiny Habits"
          ],
          [
           "All Talk",
           "Cate"
          ],
          [
           "rest in peace",
           "BLÜ EYES"
          ],
          [
           "August",
           "Kathleen"
          ],
          [
           "To Build A Home",
           "The Cinematic Orchestra"
          ],
          [
           "Make Us Never Happen",
           "shy martin"
          ],
          [
           "Through To You",
           "Glades"
          ],
          [
           "Known Like This",
           "Ben Kessler"
          ],
          [
           "Someone Like You",
           "Adele"
          ],
          [
           "Someone To You",
           "BANNERS"
          ],
          [
           "on my body",
           "Anya Gupta"
          ],
          [
           "Köln",
           "Corey Kilgannon"
          ],
          [
           "Hey It's Delilah",
           "Kallista Rowan"
          ],
          [
           "Let Her Go",
           "Passenger"
          ],
          [
           "Labradors",
           "Hailaker"
          ],
          [
           "reckless driving (feat. Ben Kessler)",
           "Lizzy McAlpine"
          ],
          [
           "Sometimes",
           "Anthony Amorim"
          ],
          [
           "london",
           "Sarah Close"
          ],
          [
           "so much more than me",
           "Annika Bennett"
          ],
          [
           "Crumble",
           "Jeremiah Daly"
          ],
          [
           "one more",
           "Tiny Habits"
          ],
          [
           "4am",
           "Ed Prosek"
          ],
          [
           "open",
           "Ashlynn Malia"
          ],
          [
           "Better Than This",
           "Moira & Claire"
          ],
          [
           "fifteen again - Bedroom Demo",
           "Kayla Grace"
          ],
          [
           "Crashing into You",
           "Vance Joy"
          ],
          [
           "Autumn Love",
           "Tyson Motsenbocker"
          ],
          [
           "26",
           "Carol Ades"
          ],
          [
           "overflow",
           "vivi rincon"
          ],
          [
           "Anna",
           "Mark Diamond"
          ],
          [
           "sustain",
           "Luz"
          ],
          [
           "Airbnb",
           "Aimee Vant"
          ],
          [
           "Blue Eyed Baby",
           "ashton arbab"
          ],
          [
           "Cherry Wine - Live",
           "Hozier"
          ],
          [
           "Alive Again",
           "Marti West"
          ],
          [
           "it was supposed to be us",
           "EXES"
          ],
          [
           "late night thoughts",
           "shy martin"
          ],
          [
           "till you brought me home - demo",
           "Tamzene"
          ],
          [
           "Captions",
           "Julia Wolf"
          ],
          [
           "late nights and lonely",
           "Suriel Hess"
          ],
          [
           "used to you",
           "Grace Davies"
          ],
          [
           "like it never happened - demo",
           "Tamzene"
          ],
          [
           "Central Expressway",
           "badly"
          ],
          [
           "Change",
           "Sjowgren"
          ],
          [
           "Change Your Mind - Stripped",
           "Jack Vallier"
          ],
          [
           "Broken Little Dreamer",
           "the Glass Child"
          ],
          [
           "Chasing Cars",
           "Snow Patrol"
          ],
          [
           "i hope you love somebody - demo",
           "Wrabel"
          ],
          [
           "forget me // so we can meet again",
           "Kieran McKenzie Clark"
          ],
          [
           "Chicago",
           "McKenna Breinholt"
          ],
          [
           "waistband",
           "Emilee Biondi"
          ],
          [
           "Closure",
           "Hayd"
          ],
          [
           "Absence",
           "Jake Whiskin"
          ],
          [
           "Cold in California (OurVinyl Sessions)",
           "Ashe"
          ],
          [
           "Boy of My Dreams",
           "Simone"
          ],
          [
           "hold the line",
           "Gracie Schram"
          ],
          [
           "weird (feat. Laura Elliott)",
           "Lizzy McAlpine"
          ],
          [
           "the sky looked nice today",
           "Lexie Carroll"
          ],
          [
           "Blue Stripes",
           "Jasmine Jethwa"
          ],
          [
           "glisten (interlude)",
           "Jeremy Zucker"
          ],
          [
           "ghosted my therapist",
           "Rachel Bochner"
          ],
          [
           "wildfire",
           "elijah woods"
          ],
          [
           "forget that i’m a woman",
           "Madeleine Mayi"
          ],
          [
           "do you wanna leave this city ?",
           "Lexie Carroll"
          ],
          [
           "Only Time",
           "Aaron Espe"
          ],
          [
           "Dawn to 9pm",
           "Brian Bulger"
          ],
          [
           "Sad Song (feat. Elena Coats)",
           "We The Kings"
          ],
          [
           "Say It Now - Stripped",
           "Nick Wilson"
          ],
          [
           "Love Like This - Acoustic",
           "Kodaline"
          ],
          [
           "Love Letter From The Sea To The Shore",
           "Delaney Bailey"
          ],
          [
           "See You Again (feat. Charlie Puth)",
           "Wiz Khalifa"
          ],
          [
           "Lose a Friend",
           "Annika Bennett"
          ],
          [
           "Set Me Free",
           "Sam Jenkins"
          ],
          [
           "Lose My Mind - Acoustic",
           "Dean Lewis"
          ],
          [
           "Slow",
           "Hello Ocean"
          ],
          [
           "Slow Dancing - Acoustic",
           "Adam French"
          ],
          [
           "Lights",
           "Rosie H Sullivan"
          ],
          [
           "So What",
           "Jillian Rossi"
          ],
          [
           "Somebody",
           "Sigala"
          ],
          [
           "Let's Fall in Love for the Night",
           "FINNEAS"
          ],
          [
           "Somebody That I Used To Know",
           "Gotye"
          ],
          [
           "La Reyna",
           "Penny and Sparrow"
          ],
          [
           "Stay Anything",
           "Chelsea Cutler"
          ],
          [
           "Jealous of Birds",
           "Bre Kennedy"
          ],
          [
           "Still Asleep",
           "Lexie Carroll"
          ],
          [
           "It Won't Be Long",
           "Okay Mann"
          ],
          [
           "In Your Circle",
           "Aaron Percy"
          ],
          [
           "In Love Now",
           "Kallista Rowan"
          ],
          [
           "Immune",
           "Jensen McRae"
          ],
          [
           "Stripes",
           "Alix Page"
          ],
          [
           "Idle Sympathy",
           "Bella Porter"
          ],
          [
           "Summertime Sadness",
           "badly"
          ],
          [
           "Sang About It",
           "Ethan Tasch"
          ],
          [
           "Make You Stay",
           "Hollie Col"
          ],
          [
           "I Lived",
           "OneRepublic"
          ],
          [
           "Maybe",
           "Lily Williams"
          ],
          [
           "One-Way Mirror",
           "Haley Joelle"
          ],
          [
           "Other Hand",
           "Jessie Reid"
          ],
          [
           "Out the Sun",
           "Frida Touray"
          ],
          [
           "Over You",
           "Ber"
          ],
          [
           "Overthinking",
           "Isla"
          ],
          [
           "Painkillers",
           "Gracie Abrams"
          ],
          [
           "Paperback Novels",
           "Tomo"
          ],
          [
           "Never-Ending Summer",
           "Wes Reeve"
          ],
          [
           "Never Stop Loving You",
           "Rictor"
          ],
          [
           "Pieces",
           "Olive James"
          ],
          [
           "Pisco Sours",
           "Arliston"
          ],
          [
           "National Disaster",
           "Hannah Hill"
          ],
          [
           "Play Dumb",
           "Sam MacPherson"
          ],
          [
           "Mouthwash",
           "Love You Later"
          ],
          [
           "More to Give",
           "Isabel Pless"
          ],
          [
           "Promise",
           "Ben Howard"
          ],
          [
           "Question...?",
           "Taylor Swift"
          ],
          [
           "Monsters",
           "Jon Caryl"
          ],
          [
           "Miss Me the Same (with Anson Seabra)",
           "Sara Kays"
          ],
          [
           "Minute Of Your Love",
           "Ed Patrick"
          ],
          [
           "Remember",
           "Elina"
          ],
          [
           "Me & God",
           "Luke Sital-Singh"
          ],
          [
           "Maybe in the Morning",
           "Zach Seabaugh"
          ],
          [
           "Ripcord",
           "Tamzene"
          ],
          [
           "Roadworks",
           "Jas Ratchford"
          ],
          [
           "Surface Tension",
           "Genevieve Stokes"
          ],
          [
           "I Don't Care",
           "Charlotte Sands"
          ],
          [
           "Day Dreaming",
           "Sopha"
          ],
          [
           "What a Life",
           "Rosie H Sullivan"
          ],
          [
           "Georgia",
           "Vance Joy"
          ],
          [
           "Funeral",
           "Phoebe Bridgers"
          ],
          [
           "Frío",
           "Omar Apollo"
          ],
          [
           "Friendship?",
           "Jordy Searcy"
          ],
          [
           "Fresh Roses",
           "Juke Ross"
          ],
          [
           "For an Evening",
           "Emily James"
          ],
          [
           "Wish It Would Rain",
           "Londin Thompson"
          ],
          [
           "For Real This Time",
           "Gracie Abrams"
          ],
          [
           "For Anna",
           "Austin Blue"
          ],
          [
           "Five Foot Three",
           "Flannel Graph"
          ],
          [
           "Worrying - Demo",
           "Ber"
          ],
          [
           "Fears",
           "Simon Alexander"
          ],
          [
           "Favor - Acoustic",
           "Victoria Canal"
          ],
          [
           "False Confidence",
           "Noah Kahan"
          ],
          [
           "You Stay by the Sea",
           "Axel Flóvent"
          ],
          [
           "Fall Theme",
           "The Drinkwater Brothers"
          ],
          [
           "Your Song",
           "Elton John"
          ],
          [
           "Everybody Talks",
           "Neon Trees"
          ],
          [
           "a message to that girl i fell in love with.",
           "bloody white"
          ],
          [
           "after goodbye",
           "Jasmine Thompson"
          ],
          [
           "Elise",
           "The Greeting Committee"
          ],
          [
           "boots",
           "Alice Kristiansen"
          ],
          [
           "broken - live from london, studio two",
           "lovelytheband"
          ],
          [
           "Different Eyes",
           "Marco Tamimi"
          ],
          [
           "Gets Better",
           "Catie Turner"
          ],
          [
           "Glad You Came",
           "The Wanted"
          ],
          [
           "Hurt The Ones We Love The Most",
           "Evan Blum"
          ],
          [
           "What If I Love You",
           "Gatlin"
          ],
          [
           "How to Love You Today",
           "Son of Cloud"
          ],
          [
           "The Sky",
           "Maddy Estelle"
          ],
          [
           "The View Between Villages",
           "Noah Kahan"
          ],
          [
           "Homesick",
           "Joel Ansett"
          ],
          [
           "High School",
           "Alexander 23"
          ],
          [
           "Hey Siri",
           "salem ilese"
          ],
          [
           "Through",
           "Joel Ansett"
          ],
          [
           "Hearts on Fire",
           "Jessie Reid"
          ],
          [
           "Headstones and Land Mines",
           "Lizzy McAlpine"
          ],
          [
           "Hazel Eyes",
           "Farmer's Son"
          ],
          [
           "Hate to be Honest",
           "Anya Gupta"
          ],
          [
           "Halloween",
           "Novo Amor"
          ],
          [
           "Two people",
           "Gracie Abrams"
          ],
          [
           "Hallelujah I Love Her So",
           "Laura Zocca"
          ],
          [
           "Ungrateful",
           "Nina Nesbitt"
          ],
          [
           "Unsteady",
           "Gracie Abrams"
          ],
          [
           "Gracie",
           "Path"
          ],
          [
           "Warm A Cold Heart",
           "Harrison Storm"
          ],
          [
           "Waste My Time",
           "Sara Kays"
          ],
          [
           "Waves",
           "Gatton"
          ],
          [
           "Waves",
           "Victoria Bigelow"
          ],
          [
           "Well",
           "Carmody"
          ],
          [
           "Good Together",
           "shy martin"
          ],
          [
           "What A Time (feat. Niall Horan)",
           "Julia Michaels"
          ],
          [
           "Good Enough",
           "Ben Kessler"
          ],
          [
           "zodiac sign",
           "Taylor Bickett"
          ]
         ],
         "hovertemplate": "pc1=%{x}<br>pc2=%{y}<br>pc3=%{z}<br>song=%{customdata[0]}<br>artist=%{customdata[1]}<extra></extra>",
         "legendgroup": "",
         "marker": {
          "color": "#636efa",
          "symbol": "circle"
         },
         "mode": "markers",
         "name": "",
         "scene": "scene",
         "showlegend": false,
         "type": "scatter3d",
         "x": [
          -1.7519844318911848,
          -1.9060871452580024,
          1.3498896293851188,
          -0.4849212731076599,
          -1.396694499158939,
          -0.1860784379737226,
          -1.6914838857037033,
          -5.373709379160019,
          0.5234051020927951,
          -1.3915368047826595,
          0.1445681805398806,
          -0.5108937064048095,
          -2.143894531495485,
          -0.8097653334096154,
          1.2219800325884136,
          0.24603945057673932,
          -1.5244306987330307,
          -2.181486310676714,
          -1.5245070055261334,
          -1.8745712459131911,
          0.5842932298963915,
          -1.0392701148082082,
          -1.574333313492959,
          0.04762655167767815,
          -1.888455516663371,
          -1.3882758423872847,
          -1.8547775122494048,
          -1.5244619103231505,
          -0.93253881974122,
          -1.9683343710916237,
          -1.4581327392935972,
          -0.9991006547013841,
          0.652617010237219,
          -0.8055946297734619,
          0.620636583187578,
          -0.31406687166369,
          -0.6642108699653891,
          2.827828138580851,
          -2.2368702989110725,
          -1.7669940066689158,
          -1.047666121492113,
          2.3055336231283374,
          -1.3992359545961324,
          -1.1649095581807567,
          2.2260308380309004,
          1.4065606251488914,
          -0.4355945060278927,
          -0.39224595738730145,
          0.29263696717495113,
          0.35124395617750803,
          -0.1429961532999506,
          -1.1763239612127712,
          0.03379112812458675,
          0.40099071569700534,
          -1.5638654245296062,
          -0.4521732512831502,
          -2.2667592377987806,
          -0.522140902233596,
          -0.11044765281636088,
          2.2663820346490864,
          1.2830516732465365,
          -2.7576663899998026,
          -2.7133427048803034,
          0.24103992596600468,
          -0.8034300785168927,
          1.5144912492120548,
          -1.2999725340654447,
          -1.4145404874418839,
          2.051265032941359,
          1.1322924866043906,
          -0.7101126152802426,
          2.77067186194982,
          -2.601379428284352,
          0.7058452710899145,
          -0.8164850127816881,
          -1.8917064888949437,
          -2.232557815230626,
          -0.7359032786357483,
          1.2383180104760247,
          0.2820573218816333,
          2.0801119055081885,
          -0.03542669173151205,
          0.8651939751192806,
          -1.2572927668021132,
          -2.954936499280079,
          -0.6955208204451204,
          -0.31455683466911605,
          -0.4103931980092143,
          -1.9663975474735529,
          -0.21003816675991105,
          0.9374937244488846,
          -2.95012337001033,
          0.5391397371825548,
          0.808820205476695,
          1.8404501734884424,
          -2.5323854481138555,
          -2.0371275774943833,
          0.26338249903426425,
          -0.9500159571891014,
          -1.902924529647788,
          -0.6380464808189299,
          3.5230189329982773,
          -2.0552903811574397,
          -1.5193393414035916,
          -0.6832833457256604,
          -0.8757717012002226,
          -2.0428377952742096,
          0.24689810004125556,
          -2.644142581200316,
          0.8903589705052335,
          -1.169749445887143,
          -1.7521384462182992,
          -0.9393721121899067,
          -0.3787560679408704,
          -1.5748683667389896,
          0.37956040210055797,
          -0.4263912980918325,
          0.055506562154052606,
          1.1345505750482734,
          0.4132408336504889,
          -0.45802063190761294,
          0.29432076877917934,
          0.3583759610526211,
          -2.1126513094135957,
          -0.08182997488851791,
          -1.6677134134731162,
          0.4561773687221099,
          0.5372274716063995,
          -0.7770756661909188,
          0.3192130885934607,
          -1.1881496104731282,
          0.9251070046563411,
          -1.4212766380313373,
          1.0103404279672006,
          -0.9204875422370395,
          1.262459801943349,
          -0.9889849077878002,
          -0.9223734161363979,
          -0.1124890693800175,
          -0.9056715664412386,
          -1.4047540956655964,
          0.006537462442253163,
          -3.312714055829953,
          5.146861396749671,
          1.8125409227785665,
          -0.9290612388580054,
          2.929779362888263,
          1.2280729667756445,
          0.6624913034029603,
          -0.29575943116718373,
          2.323274994246267,
          -0.7993708259899992,
          -0.7955634249040401,
          -1.0708398926396758,
          0.5362899086488812,
          2.241187414734499,
          0.8308155412783129,
          -1.410686023063174,
          -0.6516306613708744,
          0.26117161413379714,
          0.7673664425456066,
          1.988549176167484,
          -0.5207553827737156,
          -0.6140797070400226,
          -1.041875559178911,
          -0.19056969209404753,
          1.1255044879002534,
          -0.7614994834473686,
          0.9186140113283561,
          2.3458113912466336,
          0.11338149180122725,
          -0.33126788705473326,
          0.8804484635351418,
          -0.8105785384460038,
          -1.0355106716875868,
          0.4115894971950608,
          -1.9647641215767315,
          1.551515264630335,
          -0.5571822928435796,
          1.2287748618382393,
          -0.39545544640101843,
          -1.4938913733150632,
          -0.24204791568231315,
          2.33423900399263,
          0.25837028884401575,
          -0.8146410933319921,
          0.1756360363437918,
          -1.0803275524374634,
          0.1148750062217865,
          -3.4354094710937977,
          -1.385411477071341,
          -1.6618044248244475,
          -0.6973753907526984,
          -0.9357933389913765,
          -1.4896533480637082,
          1.5729255612162958,
          0.015014543547256247,
          -0.884585777510152,
          -1.7899728347483674,
          -2.291929186783926,
          -1.7717210802344958,
          -0.8447405984499309,
          2.1859876597762153,
          0.07029587544206717,
          1.1903609786503706,
          -0.4973809261424112,
          -1.9959417639690074,
          -2.2554230005979923,
          0.51940104299748,
          -2.919709122264872,
          -0.3262361568078306,
          -0.5005457148811505,
          -1.089547531155111,
          -0.5945533273619025,
          -0.29574792467374905,
          1.1447680914782166,
          0.28161127116298773,
          -0.4922935199194354,
          -1.3360001185324304,
          1.2746866245309507,
          -0.3970183152243702,
          -2.3358775449080302,
          -1.0649009690388374,
          -1.0262167352581708,
          -0.9349347223667923,
          -1.2870490195056818,
          -1.2632113595218997,
          -0.8138579469217374,
          -0.7432026526544844,
          -1.4635279390328682,
          -0.1147803553149695,
          0.9308808789129452,
          -1.1402625751135542,
          -0.5407580848827085,
          -1.0147044216945822,
          -1.3965986274346747,
          0.13357925463830922,
          -0.11680071967958577,
          0.7387573395533733,
          0.7184187534461511,
          0.004810862742573726,
          -0.5707598821038334,
          1.7620825484317848,
          -2.847330909787172,
          6.422106096792911,
          -0.6872879270321532,
          -2.1782627932230594,
          -0.0463450801341028,
          2.5452033820766484,
          1.4222270282830909,
          0.30579364578529183,
          0.9862310328813729,
          1.9746174047238891,
          2.01380667409209,
          0.16225253294352454,
          -0.3575213816593037,
          -1.6904447152398374,
          3.417152530479709,
          0.4194899238512763,
          1.0189113116101622,
          0.2759874056903394,
          1.314419700277619,
          -0.9967688241296316,
          -0.45101758133566583,
          -0.31790125378360706,
          0.6944734659569571,
          3.579484265113658,
          -1.9122761656495697,
          0.8873835777759109,
          1.9793565408404332,
          0.7061554437826726,
          -0.4692400540045287,
          0.7570407177297991,
          -0.5126272858980923,
          -0.537848933685623,
          -2.6339059974474326,
          -0.9790613071290968,
          0.018979096237269802,
          0.8985197348775525,
          3.0518625342535626,
          5.475946213116288,
          0.7358728556417989,
          -1.894339549939152,
          4.894808439586153,
          -1.1554126367700388,
          -1.6776871374653164,
          -2.4920643075604274,
          -1.1565831998209046,
          -0.7643087713417541,
          -1.7184138408896414,
          0.36629674879127916,
          2.9390577951764167,
          0.1757038555045439,
          -0.898825630331962,
          2.5984183817026554,
          -2.9608586941375026,
          -0.2098527922168146,
          -1.0977785464232885,
          -0.7773040862134796,
          1.3530561989664023,
          3.1434565443891778,
          1.3940587316070676,
          1.7359407389377501,
          1.52772386830231,
          1.5420148654234223,
          -1.4407946189980965,
          -0.18244220753962906,
          0.012565764896868545,
          0.2055300842809962,
          0.06283022196836115,
          0.6864499145302887,
          0.5005327301737129,
          0.4447343031430514,
          -0.16542122287814603,
          -1.170110402463649,
          2.814399632036347,
          0.0185331137633745,
          4.281282471534016,
          1.8818109369429807,
          3.8751430311642476,
          3.6733442849898235,
          -0.5618728861847089,
          -1.2307862011642994,
          -0.747200935099729,
          0.6726757474987036,
          -1.407247591710284,
          -1.4905104691009796,
          2.834555753061213,
          -0.3057413214430963,
          -0.5379406723049004,
          -1.1121978001592285,
          -0.8728521557703223,
          0.46397856788375824,
          -0.490941976460684,
          -0.49453544736485955,
          4.163734472698513,
          0.8392565915900876,
          0.18625419001726495,
          -0.3941601716533974,
          -0.9429397901080652,
          -1.560023742989022,
          -1.2780670853299856,
          -0.9112977457414623,
          -1.9024987493638863,
          5.357226454617581,
          -0.6295250983499663,
          -0.25375514813739614,
          -2.2285937310434116,
          -0.358085395199153,
          -0.9398076470992826,
          -0.5663204880886694,
          -1.350354051199027,
          -0.1804709419247828,
          -1.7737978615900085,
          -0.7674508430626603,
          0.7342901327035677,
          0.13991086380206025,
          0.6581290157948639,
          -0.5633430565083906,
          -1.310829916170061,
          4.8974403214583,
          1.1098308688214304,
          -0.5054866578701481,
          -1.297610665842178,
          2.9071815503807192,
          -1.3925309413380005,
          -2.6731436206830814,
          1.6003828098971797,
          -0.21235999329435,
          1.249145646929575,
          0.0460346779897205,
          0.9943536618474247,
          3.751215949521694,
          -2.736325687396876,
          -1.7070230446516048,
          -0.9355887774903279,
          2.0156853041463254,
          -0.31676817779483074,
          -0.43338231041752817,
          -2.1716702314869045,
          2.9209866443229795,
          0.4562875655047757,
          0.5100837231973283,
          1.7045960251536865,
          -1.1905844123882285,
          -1.9628459542985435,
          6.458397617344788,
          -0.304000928299063,
          -0.8381061380578863,
          -0.985134582234657,
          0.8429682228221099,
          3.636510744867095,
          3.4734109867808276,
          -1.496527816895257,
          2.2605671893556973,
          4.006099044646502,
          -1.1049527753740251,
          -2.223953613814259,
          0.2452709153266898,
          -1.667282412973803,
          0.17984109933909403,
          3.601536959732305,
          -3.5736637707550383,
          1.3684376910092588,
          -0.244247912510092,
          0.8385503271622238,
          0.044359298204557605,
          -1.5089241273907537,
          -1.3078802209862028,
          -2.1626381946085114,
          1.2842017692048326,
          0.23034766134884638,
          -1.6438948252986625,
          -1.3220778000638729,
          -1.397711250216386,
          0.2841599112159202,
          -1.7794914226886906,
          -0.6792019813496483,
          1.2838207222496782,
          2.333603779974501,
          -1.6885334939587004,
          -0.05375883483898002,
          6.562820061863229,
          0.22063854710906655,
          -0.8271238651753531,
          3.1336885004640815,
          -0.9758457030319032,
          3.20076525525481,
          -0.21652413746913793,
          -0.3943576102672768,
          4.95864019145649,
          0.6642823240430306,
          -0.27035726876552674,
          -1.146256345130891,
          0.4932075674251499,
          -0.9980783917068986,
          3.5362181381394495,
          0.1346818396235856,
          -0.6450314072013792,
          -1.5273613835224722,
          1.7267913158115513,
          1.8703717521696723,
          4.491970913939985,
          1.2005681361455969,
          -2.989350262659749,
          -2.467458081929552,
          -1.6478644962730378,
          -1.884349770221549,
          1.4514288664037494,
          -2.22965710543319,
          2.1620427549956367,
          -0.628588828656336,
          0.011708912237461289,
          -0.29621175891676615,
          -0.2606580483585722,
          -0.608692327933386,
          0.6611337418246189,
          3.2235698558061334,
          0.8789625713759336,
          4.022289179110911,
          2.8569513242520808,
          -1.9287269922235213,
          0.12203931101432229,
          -0.3419247426036738,
          -0.4408626232553887,
          -0.617796308579642,
          -2.146597040966853,
          -0.7951279719854052,
          4.840372769097839,
          1.5680347218634187,
          -2.280429025223376,
          1.8630800902599394,
          -0.9601423106068702,
          -1.758869088319143,
          -0.43147795466814903,
          -2.303139194479483,
          -1.341202201427006,
          -1.8021283677889814,
          -0.1643733801920337,
          -0.9499214076237987,
          0.6560845176814608,
          -2.031062839504189,
          0.8482344668502795,
          1.0560982237539218,
          -0.768837684067432,
          0.15688807687395392,
          -0.6056162248621172,
          0.4796155137867146,
          0.033592472461930804,
          -3.9532339407151698,
          0.9505296290564138,
          -0.47543437991779536,
          -2.618851722813846,
          -0.0037883452718504825,
          -1.5647956281171247,
          2.9341028682955628,
          1.295831828078972,
          2.0778161336797094,
          -2.719534692295047,
          -2.983298598175721,
          -0.14031460886177913,
          3.6168758295045396,
          5.38748640195009,
          0.44578230721139006,
          -1.22309393752774,
          1.4664634759824577,
          -0.7798544847304143,
          -0.45982740118872323,
          0.9745093503376099,
          0.5184428832369438,
          3.581302381994757,
          -0.9640317994508104,
          4.579140246534156,
          -0.8915133607311274,
          0.31860268779912815,
          2.656872726256052,
          -0.40696818675463203,
          -1.6041936640813448,
          -1.247373708823413,
          -0.4714103476389949,
          -0.5278261359484504,
          4.252172556444724,
          -0.9238933082996823,
          -1.7560551811662357,
          -0.947329902468007,
          0.9157860732145496,
          -0.8185443961205497,
          2.012051257131833,
          -1.970431800009744,
          5.46734437288592,
          -1.2179764235295645,
          1.6286288295798672,
          -0.5732320683821908,
          -0.5346444103804439,
          0.1155370303996092,
          -0.4725644320485097,
          -1.587075985485463,
          0.43045527481435203,
          -0.3997057493599825,
          -1.8967921705073356,
          -1.5381986008231296,
          0.897726238922566,
          0.780025858022364,
          -1.9356850924970295,
          4.695278636781111,
          -2.690758097561155,
          3.7429050334199587,
          0.21249041355120624,
          -0.6361824290666953,
          0.23364364611479185,
          -0.15849796363151106,
          -1.062703316636242,
          -1.4584206990315025,
          0.01332486579010172,
          3.741198693101866,
          0.0435947824637555,
          -1.9020866069800546,
          4.603227597266902,
          -0.8072635567979124,
          -3.0979651350801265,
          -0.8575060179646149,
          -0.23595599455192018,
          -0.6758290698882317,
          -0.884069338825962,
          -2.907966736683722,
          0.18190617428142725,
          0.13621419010405394,
          -2.368757592341031,
          2.772710186525993,
          2.5263259230694373,
          -2.1520256691936175,
          -0.8288057841539538,
          3.9902060791609437,
          -1.2099174894928444,
          0.7644374570785162,
          -2.717720210081956,
          5.27304091245885,
          -0.5987733864540224,
          -1.2244150431837308,
          -0.5435156413359776,
          0.3863089367415666,
          1.8789549425415906,
          1.7737054663857332,
          -1.3374582428943325,
          -2.207130315399745,
          -1.9532369827098481,
          -0.012637636693212533,
          -1.3006650130589685,
          -2.0543589393045956,
          0.7668843866531785,
          5.598345670937806,
          -1.3438898806959167,
          5.214221688550799,
          -1.0523695149543424,
          0.559320019360257,
          -0.22148209332548924,
          2.412613013044391,
          1.0564722889865767,
          0.994436440872223,
          -0.9867019228419389,
          -0.966586634034103,
          2.1309384511141904,
          -1.0609153988047322,
          0.3554124401600389,
          0.4534300903997847,
          5.9209877174375825,
          4.416827169393504,
          1.3937154609695264,
          -1.8612843765271312,
          -0.005719701518078016,
          -0.1915113349123224,
          -0.5737670623924709,
          -1.6045246480830762,
          -0.8441398073518556,
          -0.8675523449631752,
          -2.8778881224081707,
          -1.246508685935267,
          0.3836366632593687,
          0.7894995321559274,
          -1.8283365436901384,
          2.8607650054907867,
          -1.422734515357405,
          -1.879411696174472,
          6.114477979951415,
          -0.7707940034088346,
          -1.3100535094064163,
          -2.1934833875700277,
          -1.1481581686805922,
          -1.5122781048195575,
          -0.8779435375514075,
          0.7834018413600201,
          -0.37783861940092656,
          1.650257945217281,
          0.14839217918104938,
          0.3283552838086881,
          1.2067332349671849,
          -2.2952582504237755,
          3.9466193513481276,
          1.355212666896577,
          1.9645930933540479,
          0.9195228613391841,
          4.618777231827455,
          -0.26108287045390643,
          3.5915470539585668,
          -1.7839490155398017,
          0.7091063568254755,
          -1.8558339398260622,
          -5.0295382531057315,
          0.6264944471271675,
          -1.071437799487296,
          2.515755255362479,
          -0.6796133117601839,
          0.4752773278800825,
          -1.9284392473266097,
          2.4492876639638648,
          -2.0864496014097047,
          -0.4250035362481302,
          -0.4202989291776893,
          0.26284713550050626,
          -0.9391716801044012,
          -2.474759235754227,
          -1.229639386497717,
          0.03566961495024681,
          0.7033386135984363,
          -2.1896568391145568,
          -2.618509208727287,
          0.518070742490648,
          0.4788143194572472,
          -2.7359184325193833,
          -0.1335518421037109,
          -1.5993600271431623,
          1.7017363192217305,
          -1.2823837033354804,
          -0.8683388546111124,
          2.852273628985258,
          -1.4460901271060138,
          -2.435512283409369,
          -2.2807249067343083,
          -1.1066472886366294,
          1.2918082199386731,
          -1.1800843632383438,
          -0.5102598391866108,
          -1.7978667272550275,
          -1.1654973295195679,
          -0.4945513579802206,
          5.673167533367466,
          0.42975584700286723,
          -1.1967963661384564,
          -0.3056979705088396,
          0.34325717889506996,
          -0.9993917596958012,
          -2.640624905652548,
          0.13971845905097904,
          0.15006495569780418,
          -0.32543676661452847,
          0.45637071696017,
          -1.7703476663668405,
          -2.439026564994732,
          6.071888929999469,
          -1.1665231688515318,
          0.010180959891598732,
          1.4596737961202544,
          2.546011122422864,
          -2.187568088558428,
          -1.260730893387919,
          -1.4060354013820449,
          -1.0261025756687885,
          2.3667219558823875,
          2.223685284150833,
          0.7529860870519939,
          -0.30067154668654417,
          0.37722435419096156,
          -2.547894464785488,
          -1.2999450554330314,
          -1.347894420668322,
          -0.7047376796421067,
          -1.476915986188734,
          -1.1551725513343964,
          0.10117730326092123,
          1.1042960290866721,
          0.4887029263353992,
          -0.2241874158833746,
          3.356409814885817,
          1.016256257421111,
          0.9201102841176647,
          0.8470614292134582,
          5.71393985725114,
          -0.13150635817791906,
          -0.7143709078177335,
          1.5322681641970621,
          1.498562478466159,
          -0.8770340044341977,
          -2.5950991004363275,
          2.2491786851214943,
          -0.3500472895420693,
          1.7401696335633081,
          -0.10825463354385856,
          6.267468319080216,
          -0.6840267747060765,
          -0.4508278847584565,
          -2.0351861831785807,
          1.9457305344589255,
          -2.874195009550691,
          1.2664388343773003,
          -0.4316038066700221,
          -0.3109226416118901,
          -0.4603989874264017,
          -1.5345890717507993,
          -0.4558782338218048,
          0.5427414683725689,
          -1.2301831989607588,
          -0.29785947630426174,
          3.0938270019304617,
          2.814792129887134,
          1.5742094888260032,
          -0.8949626429007314,
          2.1611189131853417,
          -0.4523538708092737,
          1.4529991654673007,
          3.3444381394711575,
          -0.7153729129345924,
          -2.218984708708331,
          -1.5490903035305386,
          -1.311544783158336,
          3.872540784817908,
          -1.8406964437890856,
          1.0785999079600639,
          1.453717094100948,
          1.998009614301199,
          -0.8729308380401227,
          -0.6825321931109343,
          -0.5978953057165548,
          0.5606059477636374,
          -0.8806483607344071,
          2.7945651257972477,
          1.0521395059792527,
          -1.199739819361426,
          0.09371715232314548,
          -1.635281980106708,
          -1.4891601718148173,
          -0.8625468595009717,
          -1.5513246476514133,
          0.9773003890188502,
          -0.23056800842580977,
          0.6721820794142099,
          -1.1777231780114816,
          -0.7107862754891106,
          -1.0993733655649143,
          1.552902122612952,
          -0.2994921770036911,
          -0.5917005813273785,
          1.8563633143550875,
          -0.34861598863450016,
          -1.9277896851840408,
          2.4032066982690186,
          0.8034447901669654,
          -2.3256599782463345,
          -0.9027880368722085,
          1.8990840356422987,
          -0.6146768894118533,
          -0.3265466700216438,
          -1.3193467105025511,
          0.7750676899803853,
          -0.6214351083344415,
          -2.136559101459107,
          0.3414664872111989,
          6.160017363600271,
          1.1526768463116077,
          2.6888940742582914,
          -0.8409023367201796,
          1.8461730380795636,
          -0.8168966440910449,
          -3.173936206544528,
          0.0343358963485086,
          -1.3070174952527773,
          -0.9357930643389603,
          1.2305476616422124,
          0.36958678246517523,
          -3.7530170340570184,
          1.9586522688831138,
          -0.4653092093341803,
          -1.3134505276007786,
          5.435129415053209,
          -1.5672742717973616,
          -1.5563345174491456,
          -1.3229505087439501,
          -1.9862899203265865,
          -1.0876710600156752,
          -1.4136713200892288,
          -1.23574707540871,
          -3.3787113373669158,
          -0.33072938077134273,
          -1.9662974713784984,
          -0.09796025142556171,
          0.9935623844178819,
          0.20433537076298625,
          -0.35965353638203645,
          1.8048702515641795,
          0.3654079468774413,
          -1.7802622352341244,
          2.5150377686926024,
          -0.4022280397380041,
          2.7769088715983172,
          -2.033888014725691,
          -0.31028814403547494,
          -1.7569221068256853,
          -0.016015020464024875,
          -1.3361512831655635,
          -3.13172270785419,
          2.0445677361893777,
          1.8830258899920544,
          -1.2150435023154555,
          -1.5423841444070003,
          2.865669148981885,
          -1.6629566090737005,
          6.559265015382529,
          -0.23784538214586504,
          0.24658936962939748,
          -1.6061356253124632,
          -0.053154991293608074,
          2.3903721153759476,
          -2.8397846254680763,
          -1.3951117335335657,
          4.785144115607799,
          -0.8932478542376437,
          0.0034952378155386223,
          3.0674035466039067,
          -2.7726737390195253,
          -1.8635365898569127,
          -0.30556240640106236,
          6.806000098405878,
          -3.4697131014348903,
          -0.287719834275719,
          -1.703021234076845,
          -3.1899893271819404,
          1.9264816227648596,
          -1.1322002402610032,
          1.0341325851891225,
          6.091697189226728,
          0.2593195576939723,
          3.2823023996853053,
          -1.3213061375344382,
          0.4642124592488011,
          -2.0891565766606757,
          0.14260486835684458,
          -0.3199257448954417,
          0.44716426167463447,
          1.2417771700382823,
          -0.5141673038234337,
          -2.5399956394392307,
          -0.9278754793324887,
          2.2380794095002208,
          0.9761160110046612,
          -1.4966226299072167,
          -2.4367685710770504,
          -0.22051712064511345,
          2.2434027722619114,
          -0.11927581029535683,
          1.4682700575361267,
          -0.38989275302171716,
          1.2268646576397597,
          -2.2046278690075534,
          -1.0174856141904387,
          1.741627243637185,
          1.2544180163369565,
          0.859362343997853,
          0.6820973762276672
         ],
         "y": [
          -1.7150881665839097,
          -2.2132288568932315,
          0.4697278883444188,
          0.5584785879728007,
          -0.8138287570685626,
          -1.167468481228524,
          -1.4384315137354584,
          -0.37341990957806054,
          -2.359673252591565,
          -0.8222644312373738,
          -0.3700854677461079,
          -0.8475613319192221,
          -0.898616909551772,
          -0.7660831051804613,
          0.0011878160773058435,
          -2.584571990506859,
          1.250789896138521,
          0.7227902346144124,
          -0.38629328555273235,
          -0.2650787269108193,
          -0.4813469584805059,
          0.6693380240247309,
          1.0037803788424386,
          -1.6824991640425213,
          -1.0461312816378632,
          -0.4954935309971775,
          1.1185272943756326,
          -1.031620818688619,
          0.43633601059715343,
          -1.5288125914420208,
          -1.1814963856038172,
          1.6671730933593136,
          -1.8842369970782997,
          -1.2481151863455142,
          -0.019354086723183173,
          -0.32003863447009173,
          -2.1456711264037827,
          -0.6875644687763877,
          -0.31407605518560366,
          -0.27716421852879064,
          -0.8582156536880694,
          1.4381359250819234,
          0.309658363327205,
          -0.19256908942714396,
          1.4367596383701926,
          -0.42310018967200386,
          0.2825137179943873,
          0.21618325123977378,
          4.278979297251563,
          -1.2974268237966708,
          -1.195320544845281,
          0.7598353033372803,
          0.06077742594878947,
          0.4968640941224407,
          -0.3711890083673666,
          0.2798334511451992,
          -2.091291461294719,
          -2.1229780564683103,
          -1.3266517109954978,
          -1.5559397896339138,
          -0.6458283575143947,
          -1.2436846596994462,
          0.00719933663315025,
          -0.3205162107531077,
          0.33717592778274136,
          -0.3509816277405642,
          -0.5562730494810076,
          1.6546082729880585,
          -0.30454032447725543,
          -1.928391635963688,
          -0.03930850393566932,
          -2.1076618351669274,
          0.5111904571279037,
          -2.1749774106827875,
          -0.7214856338923595,
          -0.166944766969974,
          -0.8994539520833378,
          -1.7847683503694627,
          1.495481695530408,
          -0.7761934380712717,
          0.9181170406552196,
          -0.14308234739052908,
          -0.4976508448333617,
          0.7489270752663622,
          -0.015884964067345027,
          -1.1023687102708954,
          0.05431306920190828,
          -2.5726200665169197,
          -0.5997026715793843,
          0.04112303539978881,
          -1.0040356224081977,
          0.2953166601519502,
          -4.683490123242039,
          -1.9701726300353772,
          -0.8460042468228594,
          1.410379601880797,
          1.427047965528405,
          0.7929641575514602,
          -1.2992138217806544,
          0.9636495932883208,
          0.0727496510840177,
          0.5622197458421802,
          -0.5686241478043811,
          3.4250220395418287,
          -0.0025545981749413517,
          1.5148870518375717,
          0.2977979279436275,
          -0.5273514165805597,
          1.1247536373247222,
          0.3731777962279993,
          -0.7776992211497247,
          1.1331507684120192,
          -0.031219910115089056,
          -0.22233041198139478,
          -1.5490783949504714,
          1.84197357739426,
          1.1858311169250144,
          0.5903701377230438,
          -0.8478804987974066,
          -0.5961183348727304,
          -0.11328044631859165,
          0.4077432738087989,
          -0.3969225339069289,
          0.044399137493422204,
          -0.2805038124363953,
          0.789877959240554,
          0.5584689814484384,
          -2.034784558797162,
          -1.1545333646345857,
          -1.5597530737957945,
          0.5126814866984218,
          0.2135082689582424,
          -0.3408537805791826,
          -1.3813764817035434,
          0.5881621383391972,
          1.203374664095211,
          3.2729167654690348,
          -0.26350834915342103,
          -0.04203740123989307,
          0.34210058976885493,
          -0.6099957000399368,
          -0.9481391936188922,
          -0.9957314928483719,
          1.9502245712028863,
          -1.3732779694981947,
          0.5608603818385652,
          -0.5478996268856215,
          0.3080746098334224,
          -1.4870024103683634,
          1.3092708786531366,
          -2.339204788571082,
          -0.9074304118280228,
          1.1661083664801701,
          0.5794656106215494,
          0.12477879845345784,
          1.1403249417206485,
          -0.10139577546689033,
          0.07252004852599679,
          0.3311926269109693,
          0.23375576029899345,
          -0.16554265635206197,
          1.519056222427271,
          -1.3713915400077756,
          -1.7968950161109014,
          0.6658634341034264,
          -0.12250281708188662,
          -1.7734396268787538,
          1.1540475545032878,
          -0.0972253916324144,
          2.708363791243202,
          0.9042816981358961,
          0.17422340571524958,
          -1.5859516190697107,
          0.8353228638904225,
          -2.448104786710546,
          -0.4184158733347777,
          0.7497036440340018,
          1.213341907008322,
          -0.36801069396025554,
          -1.0783790775761806,
          -1.9921857977828177,
          0.7168950544666217,
          -2.1320590832038833,
          -0.843872584459607,
          0.09868806350483957,
          -0.0829138814750781,
          -0.18581508579750447,
          0.5830304981693932,
          2.6254328591507528,
          1.021379495882667,
          0.7529779826239924,
          -0.4602163329380373,
          2.6406137363163054,
          -0.007730049262816165,
          0.05260917148035375,
          -1.5288398737440214,
          1.2295461025485679,
          -1.7747406323494115,
          -0.5979117568256948,
          0.8084147715562431,
          0.854857670104139,
          -1.305705763461233,
          -0.7331478881019367,
          1.563091284484111,
          0.8033185329406466,
          0.6358716868440165,
          -0.5095056722557583,
          2.0756159687593647,
          1.5127067287769709,
          -0.06003762600067197,
          -0.9478517383459223,
          0.6847039953941899,
          -1.7035876694185004,
          -0.12197111999193158,
          0.10730285094795312,
          -0.8294328354918932,
          -0.14209648135668035,
          -0.6147712678691875,
          2.375894204936909,
          -0.5315011833843033,
          0.1753287214971844,
          0.14159296048557274,
          0.43716020793287236,
          1.2080625424496254,
          1.6246751547232077,
          -1.017537460778271,
          -1.3386746581480722,
          -1.9519524923473095,
          2.4173383394198824,
          -0.7944900762483025,
          0.8166647238202399,
          0.9486997311191211,
          -1.0416382928035255,
          -1.0088632567287932,
          0.8977510145233614,
          0.8880382289894524,
          -0.5014779828673951,
          -0.48831271681013405,
          -1.5518378573785903,
          3.209931780208602,
          0.56256372362666,
          2.2532602369786163,
          0.13871880684171975,
          -1.20913591013483,
          -0.42996355009026205,
          -0.7835603538954318,
          0.6042036092307753,
          0.026723062195539764,
          -0.10876095234089912,
          -0.40239340928432826,
          -0.3435612227710389,
          -0.6900250676939269,
          0.7179017598143745,
          -1.8555217368108894,
          -0.15136464252328752,
          -2.5118800649604465,
          1.4285015447592762,
          1.3908427659138838,
          -0.6161474640418754,
          0.030882060926272444,
          -0.2434388131955643,
          -2.110650379750057,
          1.1721182798334902,
          -0.9620555065619003,
          -1.0493792201626326,
          -1.8321803618644932,
          2.5218785616045127,
          -0.20113252077612986,
          -0.1373191144424974,
          -2.299691717880617,
          -1.5814412406499865,
          0.40293093352146986,
          0.15971903487112596,
          0.11327005476661593,
          -0.12124143457188645,
          0.5672894490604748,
          1.7577887221859858,
          -0.5346886139478455,
          -1.6505541338836143,
          -3.964353186907459,
          2.6850341512730016,
          -2.0852499384894085,
          0.0534621255086139,
          1.3590396817979984,
          0.47809921079794016,
          0.6301178693549891,
          1.4360866207587624,
          -0.6640889934252747,
          1.3103686314480425,
          -0.14008470889176763,
          -0.9660222602463658,
          -0.09681600643151783,
          1.232115007471758,
          1.3854977200867773,
          -0.4116242854714312,
          0.4820645576763805,
          -2.087954396291011,
          -1.9667828916786785,
          -0.8933390605256056,
          0.6181516103068938,
          -0.6520695718160052,
          0.15613546122468686,
          1.253189588109696,
          1.6129147307697276,
          0.6280551300084293,
          -0.7263668468191868,
          0.27572463807418485,
          0.23967898258783157,
          -3.075630853647011,
          -1.3202855666125555,
          0.7048795666032522,
          0.7894877202607999,
          0.643603900335006,
          -0.5988340489319702,
          -0.5788616420559722,
          2.04700733320618,
          0.44145995783882636,
          1.7707335672417048,
          -0.8236332562550897,
          -1.8129833611091872,
          1.2341202358665797,
          1.1695347724330274,
          -0.4187161388195743,
          0.27356097923098605,
          0.4994964984405248,
          -1.5300087265873819,
          0.2952584131099116,
          1.0977088750137385,
          0.4209537906413378,
          -0.9581380248586362,
          0.643241933425167,
          -0.7892924598200108,
          0.12898414477680795,
          -0.16219752090319892,
          0.7719055244819046,
          1.4641341593810948,
          -0.8734086136252449,
          -0.08595732309017055,
          1.3643919501203414,
          0.3001106572476798,
          -0.5090630807098123,
          -0.49279774661175174,
          0.9658868244765985,
          1.436899495210239,
          0.8845291976461223,
          -0.06212824207504953,
          -0.07611473859871651,
          2.1123698745200934,
          0.8609630200159126,
          0.009305488833839247,
          0.103547336040501,
          -0.4412018056266308,
          -1.8083876721345062,
          0.31510110475758407,
          -0.5086761221770113,
          -1.215386271176649,
          0.0384155767037478,
          -0.44705668798751375,
          -0.5675432003019446,
          0.6174428544080638,
          1.4330453346937142,
          -2.2038337569054174,
          -0.46088709541019707,
          -0.818926364813912,
          1.635874649105355,
          -1.5305385499718058,
          2.935608461518946,
          1.3371842204925066,
          -0.5657456420932447,
          0.3150653163006135,
          -0.09629764293970416,
          1.1444303183722642,
          0.9090602037806345,
          0.374057334687402,
          0.00016080505320718993,
          -1.077523809912155,
          2.282624932910555,
          0.8075766252017766,
          0.09141994500535662,
          0.45632648651224866,
          0.10420953288406333,
          0.995188715089219,
          -0.9534073871889727,
          0.9338492326720326,
          0.7913347158001428,
          -2.3373351684767214,
          -0.4412087602217388,
          0.8236036122796329,
          -0.7644818620372832,
          -1.3260239829695233,
          0.751969081810949,
          1.0270671465715613,
          2.921401421365115,
          0.9391858599175761,
          1.0821285798215081,
          2.916470489754104,
          1.9504586480356527,
          -0.15370106008558046,
          -1.9870485085146665,
          0.6163642947694796,
          -1.6142708732315252,
          0.5549588952666655,
          1.237062766283235,
          1.128859246372868,
          1.8027253400652825,
          -0.15385299659248697,
          -0.9783394741050027,
          0.3071157867265257,
          -0.006685726090867397,
          1.4302788548218948,
          1.3316755890155845,
          0.05566462309860741,
          -1.3095923580908133,
          0.7504275006625551,
          -0.5762136123170293,
          -0.038372184996546,
          -1.8378075240900236,
          -1.223823166147468,
          0.8025753723053594,
          -1.7236403921339032,
          0.4517378192893455,
          0.08063537479557312,
          -0.2853444495210663,
          1.6287940208473062,
          -1.6097108528016486,
          2.93113398205466,
          -1.5295821088447474,
          0.03262172188772608,
          -0.3615372825765786,
          0.28911178005772775,
          0.9424682804722423,
          -1.0827809345892665,
          0.30487195917892584,
          0.2678071761285746,
          -1.041539528185448,
          0.12075798792708248,
          1.910626431925316,
          -1.5675703172414035,
          -0.9935713803323272,
          0.15885361374576223,
          0.7172132269223342,
          0.7872526273450166,
          -0.3126371700640113,
          1.7291654115634474,
          0.07202456148705334,
          -1.053974691108101,
          -1.2990393187160896,
          0.4958758810717107,
          0.9526741314370184,
          2.5175512778273688,
          -0.6987209763407056,
          1.7465427024456575,
          0.5694570883727241,
          -0.4249759602689652,
          -0.004033576419690574,
          0.8792593686910042,
          0.02748824593001431,
          -0.389095335828639,
          1.4801440792680818,
          0.6997627090071434,
          -1.1244874475613322,
          0.9901950034588539,
          -0.38507209265228753,
          -0.5943593616532107,
          3.0061722983309616,
          -0.5276779283574411,
          -0.19050528980937287,
          -0.8707633328500475,
          -0.6063113177345241,
          0.7511704038881637,
          0.7616698049959605,
          0.42490854951399615,
          1.4715763483822772,
          1.0173243817701658,
          1.6036226147749115,
          0.6410943435052878,
          -0.45695982850778144,
          -1.8363197401001101,
          -1.7863353286780688,
          -1.4868498817178415,
          0.6897174171498177,
          0.9557852777579734,
          -0.31872735205738395,
          1.4049546119538052,
          1.2360302504146399,
          -0.8759996304633646,
          -0.058035677838606914,
          0.6713348360669653,
          1.6689715185347793,
          1.1796009254465398,
          -0.8939959215262024,
          -1.2161076671316826,
          -1.3231577688121836,
          0.9116556343545571,
          0.9377548860220708,
          0.8234585109305803,
          1.7153436052576838,
          0.9184658087847914,
          0.043785521691160206,
          -1.9341694366569853,
          0.3920593428899,
          -0.5317977770692468,
          0.1807269750408522,
          -1.5122618133498398,
          0.27073040065214005,
          -0.5954127123834452,
          0.019973652267496304,
          0.07066666383499062,
          -0.8358030822701171,
          -0.30940959249037336,
          -0.3908638001152885,
          -0.5122749286265296,
          1.9126848063844222,
          1.1168700812250982,
          -1.3097695710095423,
          -0.21653604573394789,
          1.481661155276497,
          3.1464394634357036,
          0.06414387095560062,
          1.397714319015684,
          0.9772769251233479,
          -1.4636338531498214,
          1.7549216778853458,
          0.37788763863849856,
          0.9229305722369795,
          -0.8342637669323559,
          2.042190837998044,
          -2.1918123207342823,
          0.5609953664852885,
          -0.34762345030174663,
          -0.8260352380410791,
          -1.7122419870909764,
          -0.538869422664309,
          -2.0722903431436963,
          1.922360610057763,
          -0.7224290209368391,
          -0.29159381971754456,
          -1.2930483503980155,
          1.2301023326710114,
          -0.8920191148862657,
          1.4197438211091038,
          0.4852395821291658,
          2.100642767974451,
          0.7958530866530231,
          0.68692135137897,
          0.07626116174085629,
          -0.4648645797654149,
          -0.24085152545185456,
          -0.684665180373168,
          0.10519162610563591,
          -2.466206825866289,
          0.18323758168598248,
          3.6735837327679732,
          -0.10188834025019493,
          -0.4153233124832415,
          -0.0986943321546244,
          0.8747177270420333,
          0.8152199411704588,
          -0.492093475717806,
          -0.2527638273760879,
          0.7057108966619674,
          -1.6049968388394478,
          -0.2113694180185635,
          -0.2776299905136796,
          0.38312117236843957,
          -0.6977314526761695,
          -0.4508070316496662,
          0.5800688034860284,
          0.19520157950899936,
          -1.9986830360110672,
          0.12245685200161019,
          -0.35071198456594105,
          0.6223637204472893,
          -0.6792275976301791,
          -0.41705871091822544,
          1.35791981715027,
          1.1242820688088022,
          -0.9118554046925544,
          2.057978968620953,
          0.26285633947093723,
          1.5715152909599701,
          0.29975603120417116,
          -2.2231979382405265,
          -0.5885029730333519,
          2.1417729991286754,
          1.7553454331558394,
          0.11175313277251246,
          2.5819142515620332,
          -1.273448964840382,
          -0.9664931936947118,
          0.02012977396192625,
          -0.3965408470012152,
          0.9645563221323062,
          -1.5769733961257362,
          1.2990915691375178,
          -0.7070555175312063,
          -0.33250611310694134,
          0.08233752899129149,
          -0.08021785212338403,
          -1.3534991007753416,
          -2.875223363879018,
          -0.5280664035127567,
          1.0520968881137507,
          0.288160643842142,
          -2.13975995736644,
          0.7487350517620699,
          1.8547367633901857,
          0.3259819064323331,
          -2.22107896476536,
          -0.17233892693211283,
          -0.9070328576905359,
          -0.9706505488729323,
          0.7636031421426942,
          2.212346396996813,
          1.7794007909601068,
          1.1192759629877833,
          -1.9019910618013962,
          0.8829108862397331,
          1.042861519246421,
          -1.0091293298620978,
          -0.3249068180596454,
          1.2012890357772281,
          -0.4793883135739372,
          0.30362239605251445,
          -0.8396396605537462,
          -0.7737230659292348,
          0.5119817838868893,
          0.012684357839157395,
          -2.0409765045712356,
          1.0250763405467136,
          3.0546070426264094,
          0.12047337059498443,
          0.10394350691837632,
          -0.7066426048990375,
          -0.5663296301582179,
          -0.14958964399039246,
          0.26681137048916836,
          0.5681919908995056,
          -4.088230884290434,
          -1.2943497541760443,
          -0.5107248426403699,
          1.9119593330209272,
          -0.25409097182107315,
          -0.49947435296182,
          1.377341940718239,
          -0.056049222841381495,
          -1.0802512505768047,
          0.3624599958275951,
          1.074079978859396,
          -1.333700001506531,
          1.3264898764476782,
          0.6361674934159331,
          0.7298172887535161,
          -1.7961417842453902,
          -1.4107192036660694,
          0.5614861105823528,
          0.3984472831665666,
          1.2205616367811614,
          -0.4741094260105152,
          -0.23012298100914177,
          1.24739289996907,
          1.4498312773667839,
          -1.491594462040725,
          -0.3230284048341417,
          1.9734182524644575,
          0.7042092878635279,
          0.20170881672524055,
          0.2526223650919476,
          0.24733860217675818,
          -0.7989627748025868,
          -0.624862716351343,
          -0.12863043835849625,
          0.19333224822405073,
          0.6044769850726885,
          0.8127277710066035,
          -1.4505696304791003,
          0.7471756097380575,
          -3.2644023107692988,
          -0.42076676046777556,
          0.16470081119349927,
          0.8627858728327011,
          0.18842379590383065,
          -0.36773891071021286,
          -1.0424613686582176,
          0.4103310062173515,
          0.108587297918835,
          -0.11771267016407112,
          -0.8723085500448564,
          -2.2940164069127933,
          -0.02833644333426986,
          1.725393860330254,
          -0.6450654357161112,
          -0.49179456799378685,
          -0.48276937905940137,
          -1.1197957603625366,
          2.4558983418103986,
          -0.4153874540998437,
          0.421866789572119,
          -0.30039954838692584,
          0.8299712559844271,
          0.5897659412873777,
          -2.891835681360426,
          -0.36766796934419055,
          1.624125866147159,
          0.5982478081989293,
          1.2089792897633609,
          -0.8017419961313319,
          -1.0185563471088859,
          -0.35867909509129875,
          0.7134491054701159,
          0.6493515790360247,
          0.5021394382569315,
          2.750923566607833,
          -0.726092127080022,
          0.4871731550574244,
          -1.4703266668252302,
          0.42519503742654224,
          0.12867702557494096,
          0.3276992331940645,
          -1.7776560934967527,
          1.01485420930577,
          -1.7669402095243865,
          1.2376457003210903,
          -0.6066069337892064,
          2.0175510185450447,
          1.723733624634077,
          -0.19163919644252078,
          -0.5681936895570056,
          -0.02965623618660162,
          -1.7883121997794542,
          -0.4590075391526757,
          0.3438474351031539,
          4.200365791330317,
          -1.2316535056583637,
          0.3149208657874005,
          0.0778306008837639,
          1.4783750224870096,
          0.7204643478831301,
          0.18221937986356163,
          1.1036301330314255,
          0.022184153603273898,
          1.3316618721920088,
          1.0916274819393383,
          -1.744622107160049,
          -3.7204770014016653,
          -0.9078768575764549,
          0.25337514305561454,
          0.8513268766294126,
          0.10280026078089072,
          0.08992297500302648,
          0.1556665798936168,
          0.3304859292407656,
          -1.482425621838593,
          0.5532586738906732,
          2.678375366961158,
          0.5900842187845927,
          1.0506209732278178,
          0.010523977560017333,
          0.18004298053579795,
          -0.5553775008272054,
          -0.2649824888003082,
          0.5065678390765335,
          0.478681967436182,
          -0.6068027972803862,
          -0.33122381431115183,
          2.3267458257736955,
          -2.229394151063942,
          -0.7974356724144707,
          1.1048828233257717,
          -0.20129239885377326,
          -0.8268250723531961,
          -0.8528966433429975,
          -1.0407022619631283,
          -2.0685096910996617,
          2.3417528687658478,
          -1.040604537235904,
          -0.03530083195282451,
          1.219732648828908,
          -2.609089945306646,
          -1.4717160405188785,
          -1.5500385196195896,
          1.3005277951397027,
          0.10817553566796732,
          0.12994978449076677,
          0.7117697606062544,
          -0.13747859663138354,
          1.054096136164077,
          -2.451842970880091,
          -1.7745267330561505,
          -3.107845739905791,
          -1.2827792127868969,
          -0.4467478756269638,
          -0.5542113148529086,
          0.7528398324416582,
          1.5508604143594187,
          0.5995155343296822,
          1.3751517080838729,
          0.03725130402696383,
          0.1770825962811967,
          1.150432381373169,
          -0.3689021537574807,
          -0.1854353073021751,
          0.07975596119750329,
          -0.1287487857429694,
          1.151685194201848,
          0.6273669309519897,
          0.288672931001649,
          -1.2698703806380567,
          -0.9252489242507904,
          0.6187418169150287,
          1.553504896870714,
          -1.0090085822135129,
          0.8515914202903085,
          -1.0688120634571703,
          -0.9056986562095204,
          1.267295931591304,
          1.0964918393052785,
          1.041532624085741,
          0.6842293145734573,
          0.3648526220283946,
          -1.052928194159487,
          -0.16943687714043626,
          1.6240397635994424,
          0.5449141159842513,
          0.20092252527090929,
          1.4313046683592014,
          0.12291660963458868,
          -2.0184205309366128,
          1.8296703387385167,
          -1.9824725679863262,
          -1.4277747765208042,
          -0.23984897931733803,
          0.4862844821316,
          0.6001636411179189,
          1.330371942099642,
          -0.23691148709760537,
          -0.008153383222903078,
          1.0304443993976553,
          -0.8470735245572346,
          3.3219130658808744,
          -0.9083805972417663,
          -0.6405781761891051,
          0.11230293345059278,
          -1.3270752903655123,
          -0.5757068737848954,
          -0.9181202274514877,
          -0.6326798439313019,
          0.8882183562190801,
          0.6290444515613454,
          -1.2018515531248526,
          -1.142903727706752,
          0.7058139469673627,
          0.979292405155075,
          2.2368508452796045,
          1.9828614605895076,
          -5.587852277046314,
          -0.555629503102825,
          -1.1228683275553053,
          -0.0727138954441714,
          -0.7162986356780718,
          -0.4726131404275941,
          -0.07633621474789837,
          0.695602495701632,
          -1.2683598011824395,
          -0.9787718547393374,
          0.6180068131489825,
          1.7333093991252682,
          1.5896994730572616,
          -0.6697876596387827,
          0.6745454163046981,
          0.7666264685976917,
          -0.08671909855645733,
          -1.0692918723734826,
          0.2914784932542396,
          -1.2222810455283797,
          -0.16592935919323323,
          0.8647960273569808,
          -0.7042830687532203,
          0.19033598208001506,
          -1.6635051232875913,
          -0.7126833811388072,
          0.9879477520638187,
          -0.6999441416206564,
          1.6388016459795804,
          -0.34556073786042507,
          -0.35386780982140115,
          -0.971963024162148,
          0.64514431183189,
          1.7999896329418072,
          0.4420692893165341,
          -1.6068080825297177,
          2.6641402169765693,
          -0.507128231953713,
          1.7071329135688156,
          0.18587204705850696,
          -1.2919519979835454,
          -0.3573585749530081,
          0.6016663942595397,
          0.5006636569717553,
          0.7362243499964282,
          -5.446436869375131,
          0.11748802484780568,
          -0.9641196649473104,
          0.45669167806333644,
          0.33916364004513105,
          0.25948560960929506,
          -0.4315604635554545
         ],
         "z": [
          3.041440528766241,
          1.6151840896455734,
          1.4658673491136398,
          2.2659834758368067,
          0.9627732170366705,
          0.5090894582699952,
          -0.3198966401899681,
          2.0632146257221526,
          3.597078969829712,
          2.2271458780286815,
          1.3872515981005473,
          0.41354300521677045,
          -0.2536974778976898,
          1.2505102812104039,
          2.4407357463674924,
          0.37017277726690667,
          2.4576247996552887,
          0.49068154215046156,
          0.4678602927149556,
          1.3477604263236593,
          0.1393384542122726,
          0.4398959664942186,
          3.512737434097185,
          -0.9408665665682772,
          1.2491494377176127,
          -0.13719228338649223,
          3.0732070042041677,
          -0.33986343160453436,
          0.2099653121669036,
          2.193134879075543,
          1.475512681990699,
          1.4808596066072268,
          0.6418161061187713,
          0.5299689804836454,
          0.20052160344260772,
          0.4045596259833642,
          2.197395594280398,
          -0.6043746334903033,
          0.2863370183186834,
          0.4742431961342495,
          0.9720253431276588,
          -0.29489008443201975,
          1.0183291442668765,
          0.3845071191823865,
          -0.09392022838219498,
          -0.5414244911474922,
          0.09665630268348961,
          0.256503351075099,
          2.739122228199231,
          -0.6669041832442347,
          0.400618866037715,
          1.3618332422470592,
          -0.7745216923149663,
          -0.7464901385970999,
          0.28241200351462575,
          2.877819140714696,
          0.4803814065923427,
          -1.476069577058556,
          -0.35057272966805636,
          1.694281280576574,
          1.4923153722291744,
          1.0272528247276536,
          1.0723092041605806,
          -0.0053341705220331555,
          -0.10411927549117843,
          1.7013769110713628,
          0.44065349850435986,
          0.25446176777648566,
          -0.11162590544659352,
          3.9303907677062364,
          -0.13793336727999997,
          3.200811545961201,
          0.9097885701191084,
          3.5431641229928084,
          0.5378132621296036,
          0.33107613362002636,
          -0.6104093310275427,
          -0.37596727538577146,
          0.5085013377552542,
          0.36119173490947715,
          -0.2083720622389607,
          0.5229141016205823,
          1.0615109184950469,
          1.41727341929554,
          0.09036800265671542,
          -0.021901232156562433,
          0.1045859924315384,
          -0.5826022750713505,
          1.4325604611879479,
          -0.25662654561903736,
          2.3571560828939724,
          2.0005452734941525,
          4.501526367938076,
          -0.941533150415559,
          -0.5016778838783156,
          1.6058592693125109,
          2.5777200272770133,
          -0.5869589075195796,
          -0.5883629195907149,
          2.0686361175299597,
          0.37309412473744147,
          0.7339035693243056,
          -0.9924502903198743,
          -0.6197122650567829,
          -0.25742640106048,
          1.8311615828670635,
          -0.12312389346696818,
          0.6021185103858977,
          1.408441801568626,
          2.719578071409758,
          -1.1577893431942996,
          1.2613107022344117,
          -0.32914651987044635,
          -0.02585656808884959,
          0.555352411463769,
          -0.12071791304392172,
          2.6084773494149798,
          1.2695606745364394,
          0.3134462620724045,
          -0.2957292221640784,
          -0.4199508250606293,
          0.3052470926184579,
          0.390473038289244,
          0.35043007453409886,
          -0.16067124155848306,
          2.015220080117459,
          0.1423029388428369,
          -0.0901506998590674,
          0.00847689570185126,
          0.3627599656534438,
          -0.37342777300858343,
          -0.22699720458983297,
          0.2356935425510527,
          0.8257747868291443,
          0.007692427608025806,
          -0.14457136332976028,
          -0.9476656915272627,
          0.11793919373180753,
          -0.4686358731359147,
          1.2228557854331723,
          -1.8115364178316955,
          -1.5363094099118195,
          -0.011144555986770534,
          -0.21758271297432003,
          -0.9990160007864999,
          -0.7595970034084977,
          -1.058448161856127,
          0.26955290973896545,
          -0.543344163495819,
          0.7442422163699158,
          1.734606399247778,
          0.7483020624725937,
          0.36521624153372806,
          -0.18771575953069314,
          -0.457307628764746,
          0.134078864922593,
          0.649654660660787,
          0.6181805504318122,
          0.17698560025358545,
          0.11488898441589472,
          0.1351284982679739,
          2.7939132206346278,
          0.1057053529672667,
          -2.136421530298445,
          0.2086036371285604,
          -1.2323506708876173,
          0.8055649276196694,
          -0.9332504821032573,
          0.9763163628495368,
          -0.5270642624820567,
          2.66226842493203,
          0.9510301481390265,
          -0.7711694487937261,
          -0.798469435016611,
          -1.3258189555370792,
          0.7022701667967016,
          1.6040368527536988,
          1.1937373178089747,
          0.04182006639857368,
          -1.0070296853052498,
          0.1505864024980473,
          0.21071114323885937,
          -0.9527387560966882,
          -0.5462787798692871,
          -0.2906475838373194,
          1.188197261690911,
          1.016667035718853,
          1.0716795965760972,
          1.5318752799110387,
          1.8974504519983324,
          1.4331459284001815,
          -0.9779968878724746,
          1.4248835786856624,
          -0.021796249649871355,
          -1.0552317344533146,
          1.8069316609868948,
          0.3340320232800312,
          -1.3071065189429505,
          -1.1039007387160382,
          0.9611673992973182,
          1.3169202957170894,
          -0.2626556931739538,
          0.20002854420923416,
          1.3075578936788472,
          -0.8779549571943195,
          1.4358770022305987,
          -0.9617440924538235,
          -0.24441860676060176,
          0.5006887067050578,
          -2.3024852594272174,
          -1.2328155653879675,
          1.1687978478372951,
          -0.5318631297028672,
          0.4557205155420994,
          0.7369151721809702,
          -0.5998410307931927,
          0.23480745499723787,
          0.9313792107556624,
          1.3593238462977675,
          -1.2481967063541328,
          -0.18418337777654598,
          -0.9549120050961825,
          -1.2018110962628732,
          -0.7033377410252902,
          -0.3743752534665955,
          -0.33517989332660686,
          0.05423556623727769,
          0.1753886150837364,
          1.0489069884786544,
          -0.31430516857689567,
          -1.081919753883359,
          1.731328927805789,
          0.059188193936308836,
          -1.2609017324515068,
          0.7521613571430995,
          -0.5825496266667926,
          -0.7062755766771558,
          0.049535467611390105,
          -0.4150578297514436,
          0.03201420724467431,
          -0.438342254040715,
          -0.8872480201142845,
          -0.215205094013678,
          1.5340173612328034,
          -1.013749925426158,
          0.13091732071459872,
          0.9761012583093226,
          1.0223661102436232,
          -0.986146315351581,
          -0.055199634333836754,
          -0.6643126938991585,
          -0.5068951019701946,
          -1.150831700084503,
          1.2119022795381333,
          0.09356454132366178,
          0.867302896177329,
          -0.3821497110000139,
          0.03330237826491599,
          1.1728000620194776,
          -1.3206208006143787,
          1.9019884335810033,
          -0.5946951255410096,
          -0.9416012015011148,
          -1.1923239709090094,
          0.6513451015994983,
          1.8008881657283942,
          -0.11056325952355227,
          0.5880090143550223,
          -0.854832168127433,
          1.2710002259252189,
          -1.062694196995648,
          3.128563302731885,
          -0.14831111561717053,
          0.19556293019735083,
          -0.2766950499598785,
          0.7132487192926885,
          1.4871284539892915,
          -1.4129576480490158,
          -2.2063223865646577,
          3.0824962898281223,
          1.6013485012555286,
          0.7635855639918412,
          -1.782921219861437,
          -0.5686287613796532,
          1.8049106092737282,
          -0.971588820688646,
          0.4767986758567229,
          1.092128716645136,
          0.9566137646786789,
          -0.1343883329984255,
          -0.8717277567315589,
          0.35134392117498037,
          -0.6313852263064057,
          -0.16629640905470378,
          -1.344469916958366,
          -0.11400170055364564,
          -1.0961303966332647,
          0.2190350194362816,
          -0.5094240972675544,
          0.1905068968059113,
          -1.4750522537200257,
          -0.38167737208826724,
          -0.38122410809022383,
          -0.5893160061152773,
          0.14271950329074004,
          0.09753083850326773,
          -0.7387814717767329,
          -0.4378063404874875,
          0.34369596629620286,
          -0.1737637238855789,
          -1.4323125173358782,
          -0.40158766786007627,
          1.8046369941567253,
          0.5238234435840792,
          1.5203885113457776,
          0.2034439840001338,
          1.5960106186752545,
          -1.1574656116070345,
          -0.5411205054584894,
          1.826358608417647,
          -0.048638036284405224,
          -0.6583157618311151,
          0.6836141197765545,
          -0.8693798272396598,
          -0.4176916616456884,
          -0.9717168648464906,
          -1.4356774854760097,
          1.897443352512723,
          0.5299208689698301,
          -0.30737194482150143,
          -0.7595587548424809,
          -0.5013706101663269,
          0.74278657024049,
          -0.6354431605140614,
          1.2369324359125293,
          -1.7394609809054116,
          -0.6314019524392941,
          0.3524753084920916,
          -0.9409682615728149,
          0.5156835681159301,
          -0.6177306531004194,
          -0.11603612106883572,
          0.011396645995282336,
          1.3182184607500622,
          -0.005528979555559552,
          -0.9945668997437367,
          -0.6679592715181184,
          -0.36391164054108194,
          -1.6081321887291036,
          -0.5003374157915955,
          0.8278313240933368,
          -1.2510100951183176,
          -0.6112089025816583,
          0.568182219473793,
          -0.2968551149489904,
          0.902630523449611,
          -0.696711152892877,
          1.07471464867784,
          -0.576126993516306,
          -0.25167612680756146,
          -0.266342996718896,
          -0.1012545350677161,
          0.17856643169386585,
          1.5494692703977286,
          -0.6329865703104282,
          -0.46359074926924115,
          1.5804169677080722,
          -0.41024024535793285,
          0.4949485432401812,
          0.4011999209660605,
          0.7436025632046238,
          -0.33006034708887627,
          0.3825194042658643,
          1.2180804175795545,
          -1.110501715227244,
          -0.11774495646678132,
          -0.15850655135874234,
          0.39667137981506334,
          0.4848754204039798,
          0.560058011551819,
          -0.7934073195664552,
          0.7666422479305158,
          -0.8789202038972533,
          -0.25300621077837593,
          0.4273815438901779,
          0.21748297143487186,
          -1.0717408155292159,
          -0.04882313121259498,
          0.28300082047416514,
          -0.3789283610668413,
          -0.05345512572507273,
          -1.646919505950514,
          0.44211541184402425,
          0.48713816187194803,
          -0.49642620005291566,
          0.25085400966025967,
          -1.3205377724372425,
          0.5647151645467464,
          -0.671072127444171,
          -0.052810370006201895,
          0.830172743452746,
          -0.6437870087537554,
          -0.6761827054923323,
          -1.0612414299034176,
          -0.1978410349051789,
          -0.30198448514553855,
          -0.19122470828889074,
          0.7634198853774944,
          -0.6349144508736655,
          -0.40170922995072933,
          -1.255679388001009,
          -1.2880819537001582,
          0.1645849330940605,
          -0.5743495783557591,
          -0.4581147281410181,
          -0.8608615407813521,
          1.1328710054750222,
          0.742970205240273,
          0.4688070412875625,
          -0.5576814903369104,
          -0.9174830539772195,
          0.06431895550618603,
          -0.781021570718943,
          0.7715788296813374,
          -1.046613728074422,
          1.0559724871495126,
          -0.8526903765766359,
          -1.9486747104327367,
          -1.7699192173323461,
          -1.1984323206324154,
          3.360930773062336,
          -1.5583300599588101,
          -1.59299595225911,
          -1.3455432904634206,
          -1.7521348488651147,
          -0.9548936385442875,
          -0.8181645958762372,
          -1.4510558140271663,
          -0.42878480594189483,
          -1.1027207984723315,
          0.49713207778635177,
          2.0181918832318346,
          1.9809093645202622,
          0.1852945501136542,
          -1.0719112356960625,
          -0.16305969562429873,
          -0.7049611166517752,
          -1.1641810733054891,
          0.7128018366692563,
          2.6810291259655012,
          -0.7447704897767433,
          0.6002673322023853,
          -0.9135977092625102,
          -0.12798191535195938,
          -1.118086414079843,
          -1.0440616106128218,
          -1.1740037607986926,
          0.3283342049453374,
          1.638857103189812,
          1.6142801133882274,
          0.7376056851071112,
          -0.9449633578793665,
          -1.3551949365252516,
          -0.9841857214671413,
          0.2918945120115743,
          0.2250248130672251,
          -1.2349852722781325,
          -0.7624080848612838,
          -0.26119777616216894,
          -0.8041365832002453,
          2.3145056436385087,
          0.8111931149346472,
          -0.7690683076150023,
          -0.7854859582733005,
          0.8729897870588077,
          -0.8443673271660002,
          -1.488294462124302,
          -0.6462943427667143,
          -0.6829047228499463,
          1.14734045560338,
          0.1020666541525517,
          -0.1525199105305907,
          -1.4968024352290996,
          -1.9955592183390403,
          1.1451381086028072,
          -1.2274704949887203,
          0.546635914635395,
          -0.18442815511378924,
          -0.3002743391747187,
          -0.5575026426109456,
          -0.7883365545918757,
          0.6554515942036426,
          0.5167774189021411,
          0.14586177888959406,
          -1.3326718224782208,
          0.8753148004828328,
          -0.8666760316169175,
          -0.01922699426128717,
          0.025258662771502714,
          -1.0417432391804804,
          -1.4907212678510982,
          -0.8806059980330899,
          0.6531131630468592,
          -0.5953265857307575,
          -0.32754919906097235,
          0.18664997494477933,
          -0.7937531313448437,
          1.7773354962376262,
          -0.4830610615827496,
          -0.6409777650023514,
          -0.3755685753247425,
          -0.7646933707944439,
          -0.6677408945154161,
          0.5897739613425869,
          -0.8417438616547046,
          -0.5198523810822796,
          -1.0727878410961544,
          -1.0573155076133316,
          0.42145669095416505,
          -0.7357866316705949,
          -1.0246692274421911,
          1.9425685593231938,
          -0.36730008021933963,
          -1.9559526899992246,
          0.03560898054939861,
          -1.0719630825593616,
          1.0128081373500424,
          0.7817032206056425,
          -0.6649221302212767,
          0.4020985516175481,
          -0.0157845974362736,
          -2.768610509899343,
          -0.3650355942631629,
          -0.8460197966730171,
          0.2785818048222488,
          -0.6950065023616231,
          -0.22243010973465438,
          -1.1960171364489958,
          -0.3155506861905595,
          -0.45736644349405553,
          -1.2046057092256823,
          -1.1242425336728576,
          -0.10698469816258051,
          -0.4860556163273674,
          -0.7738485959490298,
          1.3418537732232485,
          -0.6530656935997491,
          -0.22864651430915484,
          -1.1002941716387422,
          -1.4226640928114724,
          -0.1503756675320807,
          -0.9105957533035185,
          0.299925598999921,
          0.39915882636862643,
          -0.26898930796420734,
          -0.33556110062456046,
          1.0023053710455891,
          -1.093210773966233,
          -0.800930507739222,
          -0.03814368759295064,
          0.5370491568010147,
          -2.432463016369137,
          0.21939039515702,
          0.17517972504297455,
          -0.8296221297413333,
          -1.5276807728852524,
          0.05610469927625305,
          -0.5720666246252901,
          0.04428167309381774,
          1.28822986712516,
          0.20249344086258755,
          -1.2949849755270872,
          0.6174812221623325,
          -0.57918146389651,
          -0.7263833285299571,
          -1.2790215414190815,
          0.3783971221308243,
          -0.539026192260264,
          0.6943474458108004,
          -1.032030745501075,
          -0.3341809562437079,
          1.960759280529191,
          -0.13001137907691981,
          0.5223297100980953,
          -0.459506067565466,
          1.0806437278548156,
          0.19920497163060538,
          -0.6654354897223221,
          -1.3881262460752073,
          1.7641808012204305,
          1.389810847760846,
          1.0365755286348817,
          0.32334642673189123,
          -1.6214417150471645,
          1.6682830507885489,
          0.28716313851285225,
          -0.7640655399717046,
          -1.4879110479070503,
          -1.177486339832489,
          -0.03106007950855176,
          -0.29598575741244343,
          -0.5225731756342809,
          -0.3686692307561779,
          -0.5952138581404174,
          0.11801027857106139,
          1.5962246342413933,
          0.449243105037392,
          -1.2260778074547782,
          0.21546116472402602,
          -0.7594295354298172,
          0.34256640050300763,
          -0.9414699667676037,
          -0.5624437342621191,
          -0.20637690496367417,
          1.5911574266183504,
          0.28349815669544076,
          -1.8916826549223826,
          -0.755927775171382,
          -0.23636542671605218,
          1.6545091882656366,
          -0.7649457438981662,
          0.3642396193800144,
          0.7418888159303103,
          -0.0320132410856435,
          0.6295960238730275,
          -0.6216382654461337,
          -0.10435328616866314,
          1.7024771562086456,
          -0.6691163835863516,
          0.2981447032474733,
          -0.5494478393122122,
          -0.4163102285893249,
          -0.39068899652299727,
          -0.6269854987571687,
          -0.06318632431336332,
          2.373433880430913,
          -0.5622139549691838,
          -1.129746314560288,
          1.363007109650058,
          0.41264171332618993,
          -0.09902252596247142,
          -0.9802583069555767,
          2.3113363307522854,
          0.33648310425519207,
          -1.0020607973942488,
          0.10263507413313686,
          -1.0294179318920171,
          0.2040577829211085,
          -0.7832077038573895,
          -1.9305394097215762,
          0.15664246488048802,
          -0.5822603795002472,
          0.4631827465120372,
          0.19266651937269938,
          2.847106233587527,
          1.0593911589740959,
          -1.6993749571945964,
          0.8251653867400054,
          -0.22927474694433733,
          0.21262093200156362,
          2.908594083345563,
          -1.1178277088359796,
          0.8152510801802914,
          0.08479366870144503,
          -0.00039092918996306154,
          0.062231151653872004,
          -0.4483027906569651,
          0.4199250441350452,
          -0.2594971259590139,
          -0.2897196756897983,
          -0.6504918449874728,
          0.38792825410698883,
          0.5335755669264265,
          -0.4274853716595601,
          -0.8693892444116794,
          -0.7151619175473916,
          0.028415556052635786,
          -0.8762372762495465,
          0.15231590730171543,
          -0.3838355303811474,
          0.7342080231937328,
          0.7204003337683121,
          -0.7543411773902942,
          -0.15059969165866036,
          -0.3499532462135576,
          0.07140839924719367,
          -0.8029247529567933,
          0.8932677585350429,
          0.1974314561641375,
          -0.11022498999997701,
          -0.4533163238348866,
          -0.16893014307024806,
          -0.5115462931681319,
          -0.42076336293111655,
          0.6774591483297974,
          -0.024553507528852412,
          -1.7848032300444265,
          -0.49730838748192174,
          -0.7742686074040189,
          -1.2976188323741376,
          0.1243202887667569,
          -0.49086249221122324,
          -1.552966892153321,
          0.1740120178826453,
          -1.1788316562016277,
          0.46807131500452165,
          -0.40468143651032207,
          -0.19962493195569442,
          2.3921949264334477,
          0.2663762265789481,
          -0.6231365442345891,
          -0.7404359311597811,
          1.255523632464226,
          -1.2285131284595485,
          0.21622163105018094,
          -1.5004754049978686,
          -0.593227066398156,
          -1.7587303549333124,
          -1.5972275331522496,
          -0.6552353312994755,
          -0.6523385576622421,
          0.18289082574951454,
          0.5073544845945311,
          1.4710155131854075,
          -0.8812560020375703,
          -0.22281836310318667,
          -1.7149470532855335,
          -0.6723610364408791,
          -0.3250452906724739,
          1.281995046912185,
          0.9485968957181791,
          -0.5641086487781594,
          -0.8122702222035104,
          -0.44965921600269937,
          -0.8484507000565479,
          1.0705645014883567,
          -1.3257031237786787,
          0.45393557860359457,
          -0.6013141642772724,
          1.2942833427127076,
          0.3306284351334911,
          -0.7734642618869506,
          -0.42818818360669925,
          3.3329255988038367,
          0.24980066304641166,
          -0.33672060748025856,
          -0.18087910353927963,
          -0.12405135582295317,
          -1.144550476505242,
          0.3449369731511803,
          -0.2026548592343446,
          -0.8229199897333279,
          -0.6470701931937856,
          -1.3275804996309577,
          -1.0628708620935592,
          0.30434748182205895,
          0.21070779236221077,
          -0.4046918996955353,
          -0.005909510482882825,
          0.36148504610539106,
          -0.6444727874286861,
          -0.45263150353886866,
          1.5774875803159918,
          -1.6261332447566708,
          0.06716879556894417,
          -1.394278207792791,
          0.4293362252744828,
          2.179041540846271,
          1.6533592676014748,
          0.4919824524221616,
          -0.413662678416137,
          -1.2366166426441036,
          -0.6967414906158046,
          -0.7747834996676044,
          -1.0836899319035427,
          0.2485827331789551,
          -0.8722002072702779,
          -0.8470469201567766,
          -1.823080144570363,
          0.471014784307187,
          -0.864795126821768,
          -1.0373473297479923,
          -1.914829967891612,
          -0.5465419929471246,
          0.030370833884263444,
          0.03555108779215967,
          0.2147300486385209,
          0.28438681200451676,
          0.1330795190741958,
          -1.4898197376771283,
          -0.6726898775798994,
          -0.10736020800878358,
          -1.1252561211438386,
          -0.5191157226797719,
          -0.5501077755432773,
          -0.5305696689952877,
          -0.48483836814293607,
          2.505956736509643,
          -1.6221293108176025,
          0.21041932574959496,
          -0.9502978688741529,
          -1.2023304093206806,
          1.0464616462056036,
          0.5724863999906117,
          -0.8209678131345106,
          0.3373269055123361,
          -0.1382064271863848,
          0.09610658078500685,
          -1.051705927765072,
          -1.3677374412810637,
          0.6733888496734132,
          -0.2034388092628167,
          -1.3225908575792293,
          -1.6299212309005322,
          0.7519213399315785,
          -0.27373868881784463,
          0.3632905579081811,
          -0.1925452001471877,
          -0.16597769287964378,
          -1.199272871476383,
          -0.671448213004008,
          -0.7948132653351998,
          0.11643772014470706,
          -1.1291149595723025,
          -0.031152787765328437,
          0.020932653345848023,
          2.153475285366522,
          0.7118875337879144,
          -0.38711409031207666,
          -0.1433836165436166,
          0.35503892318265734,
          -1.3393048334142272,
          -0.8431730735654965,
          -0.6864102516014972,
          -0.5195752868663892,
          0.9651064314757839,
          0.023790128971199732,
          -1.3309842887497016,
          -0.8163773523968929,
          1.1248339564246839,
          1.2243924270129478,
          1.4276404220004697,
          3.1686424417098373,
          -0.8063772929845308,
          0.8901784334016745,
          -0.6542560219329764,
          -0.40200616814083495,
          -0.9904965131931414,
          -0.48016551952703806,
          -2.0946014120529406,
          0.007746271122740204,
          2.8368053205056536,
          -0.03205660678515994,
          -0.6346753964349462,
          -0.14004130638132295,
          2.848784459774863,
          -0.574195066627811,
          -1.2093690055583937,
          -0.7307314507422321,
          -0.6439557347402517,
          -1.1600808892350447,
          0.19070120503189716,
          0.25340711733534144,
          -1.250847570045425,
          -1.8980293263266566,
          1.6230456570613194,
          -0.00833805968400423,
          1.1349908039903571,
          -1.2818015102718268,
          -0.5733261143045119,
          1.3570398568060644,
          0.10022385150155519,
          -1.836279127084887,
          0.6828520351099321,
          -0.9372459340226911,
          -1.07865959486633,
          -0.23551792956550802,
          -0.8345926170210249,
          -1.0846088545903843,
          -0.9321072242871692,
          -1.3554401958637023,
          -1.4685058929097152,
          -0.9303252891862783,
          0.7032163375559403,
          -0.9475563631110682,
          -0.6346036135712331,
          -0.2458930951035269,
          -0.3556513038137871,
          0.8101096637794679,
          1.0193772349752546,
          -0.6171801027111266,
          1.0813826265111541,
          -0.8142743098698068,
          0.7144185897126935,
          -0.774581616798323,
          -1.4776898345922764,
          -2.2077868960807594,
          -0.9877446191800858,
          -1.2977291716875934,
          -0.645836369723618,
          5.361283213437572,
          2.57208550558648,
          -1.215138182781576,
          -0.31760726927481053,
          0.1579140658889935,
          0.7920148180376997,
          -0.4660185963529267
         ]
        }
       ],
       "layout": {
        "legend": {
         "tracegroupgap": 0
        },
        "margin": {
         "t": 60
        },
        "scene": {
         "domain": {
          "x": [
           0,
           1
          ],
          "y": [
           0,
           1
          ]
         },
         "xaxis": {
          "title": {
           "text": "pc1"
          }
         },
         "yaxis": {
          "title": {
           "text": "pc2"
          }
         },
         "zaxis": {
          "title": {
           "text": "pc3"
          }
         }
        },
        "template": {
         "data": {
          "bar": [
           {
            "error_x": {
             "color": "#2a3f5f"
            },
            "error_y": {
             "color": "#2a3f5f"
            },
            "marker": {
             "line": {
              "color": "#E5ECF6",
              "width": 0.5
             },
             "pattern": {
              "fillmode": "overlay",
              "size": 10,
              "solidity": 0.2
             }
            },
            "type": "bar"
           }
          ],
          "barpolar": [
           {
            "marker": {
             "line": {
              "color": "#E5ECF6",
              "width": 0.5
             },
             "pattern": {
              "fillmode": "overlay",
              "size": 10,
              "solidity": 0.2
             }
            },
            "type": "barpolar"
           }
          ],
          "carpet": [
           {
            "aaxis": {
             "endlinecolor": "#2a3f5f",
             "gridcolor": "white",
             "linecolor": "white",
             "minorgridcolor": "white",
             "startlinecolor": "#2a3f5f"
            },
            "baxis": {
             "endlinecolor": "#2a3f5f",
             "gridcolor": "white",
             "linecolor": "white",
             "minorgridcolor": "white",
             "startlinecolor": "#2a3f5f"
            },
            "type": "carpet"
           }
          ],
          "choropleth": [
           {
            "colorbar": {
             "outlinewidth": 0,
             "ticks": ""
            },
            "type": "choropleth"
           }
          ],
          "contour": [
           {
            "colorbar": {
             "outlinewidth": 0,
             "ticks": ""
            },
            "colorscale": [
             [
              0,
              "#0d0887"
             ],
             [
              0.1111111111111111,
              "#46039f"
             ],
             [
              0.2222222222222222,
              "#7201a8"
             ],
             [
              0.3333333333333333,
              "#9c179e"
             ],
             [
              0.4444444444444444,
              "#bd3786"
             ],
             [
              0.5555555555555556,
              "#d8576b"
             ],
             [
              0.6666666666666666,
              "#ed7953"
             ],
             [
              0.7777777777777778,
              "#fb9f3a"
             ],
             [
              0.8888888888888888,
              "#fdca26"
             ],
             [
              1,
              "#f0f921"
             ]
            ],
            "type": "contour"
           }
          ],
          "contourcarpet": [
           {
            "colorbar": {
             "outlinewidth": 0,
             "ticks": ""
            },
            "type": "contourcarpet"
           }
          ],
          "heatmap": [
           {
            "colorbar": {
             "outlinewidth": 0,
             "ticks": ""
            },
            "colorscale": [
             [
              0,
              "#0d0887"
             ],
             [
              0.1111111111111111,
              "#46039f"
             ],
             [
              0.2222222222222222,
              "#7201a8"
             ],
             [
              0.3333333333333333,
              "#9c179e"
             ],
             [
              0.4444444444444444,
              "#bd3786"
             ],
             [
              0.5555555555555556,
              "#d8576b"
             ],
             [
              0.6666666666666666,
              "#ed7953"
             ],
             [
              0.7777777777777778,
              "#fb9f3a"
             ],
             [
              0.8888888888888888,
              "#fdca26"
             ],
             [
              1,
              "#f0f921"
             ]
            ],
            "type": "heatmap"
           }
          ],
          "heatmapgl": [
           {
            "colorbar": {
             "outlinewidth": 0,
             "ticks": ""
            },
            "colorscale": [
             [
              0,
              "#0d0887"
             ],
             [
              0.1111111111111111,
              "#46039f"
             ],
             [
              0.2222222222222222,
              "#7201a8"
             ],
             [
              0.3333333333333333,
              "#9c179e"
             ],
             [
              0.4444444444444444,
              "#bd3786"
             ],
             [
              0.5555555555555556,
              "#d8576b"
             ],
             [
              0.6666666666666666,
              "#ed7953"
             ],
             [
              0.7777777777777778,
              "#fb9f3a"
             ],
             [
              0.8888888888888888,
              "#fdca26"
             ],
             [
              1,
              "#f0f921"
             ]
            ],
            "type": "heatmapgl"
           }
          ],
          "histogram": [
           {
            "marker": {
             "pattern": {
              "fillmode": "overlay",
              "size": 10,
              "solidity": 0.2
             }
            },
            "type": "histogram"
           }
          ],
          "histogram2d": [
           {
            "colorbar": {
             "outlinewidth": 0,
             "ticks": ""
            },
            "colorscale": [
             [
              0,
              "#0d0887"
             ],
             [
              0.1111111111111111,
              "#46039f"
             ],
             [
              0.2222222222222222,
              "#7201a8"
             ],
             [
              0.3333333333333333,
              "#9c179e"
             ],
             [
              0.4444444444444444,
              "#bd3786"
             ],
             [
              0.5555555555555556,
              "#d8576b"
             ],
             [
              0.6666666666666666,
              "#ed7953"
             ],
             [
              0.7777777777777778,
              "#fb9f3a"
             ],
             [
              0.8888888888888888,
              "#fdca26"
             ],
             [
              1,
              "#f0f921"
             ]
            ],
            "type": "histogram2d"
           }
          ],
          "histogram2dcontour": [
           {
            "colorbar": {
             "outlinewidth": 0,
             "ticks": ""
            },
            "colorscale": [
             [
              0,
              "#0d0887"
             ],
             [
              0.1111111111111111,
              "#46039f"
             ],
             [
              0.2222222222222222,
              "#7201a8"
             ],
             [
              0.3333333333333333,
              "#9c179e"
             ],
             [
              0.4444444444444444,
              "#bd3786"
             ],
             [
              0.5555555555555556,
              "#d8576b"
             ],
             [
              0.6666666666666666,
              "#ed7953"
             ],
             [
              0.7777777777777778,
              "#fb9f3a"
             ],
             [
              0.8888888888888888,
              "#fdca26"
             ],
             [
              1,
              "#f0f921"
             ]
            ],
            "type": "histogram2dcontour"
           }
          ],
          "mesh3d": [
           {
            "colorbar": {
             "outlinewidth": 0,
             "ticks": ""
            },
            "type": "mesh3d"
           }
          ],
          "parcoords": [
           {
            "line": {
             "colorbar": {
              "outlinewidth": 0,
              "ticks": ""
             }
            },
            "type": "parcoords"
           }
          ],
          "pie": [
           {
            "automargin": true,
            "type": "pie"
           }
          ],
          "scatter": [
           {
            "fillpattern": {
             "fillmode": "overlay",
             "size": 10,
             "solidity": 0.2
            },
            "type": "scatter"
           }
          ],
          "scatter3d": [
           {
            "line": {
             "colorbar": {
              "outlinewidth": 0,
              "ticks": ""
             }
            },
            "marker": {
             "colorbar": {
              "outlinewidth": 0,
              "ticks": ""
             }
            },
            "type": "scatter3d"
           }
          ],
          "scattercarpet": [
           {
            "marker": {
             "colorbar": {
              "outlinewidth": 0,
              "ticks": ""
             }
            },
            "type": "scattercarpet"
           }
          ],
          "scattergeo": [
           {
            "marker": {
             "colorbar": {
              "outlinewidth": 0,
              "ticks": ""
             }
            },
            "type": "scattergeo"
           }
          ],
          "scattergl": [
           {
            "marker": {
             "colorbar": {
              "outlinewidth": 0,
              "ticks": ""
             }
            },
            "type": "scattergl"
           }
          ],
          "scattermapbox": [
           {
            "marker": {
             "colorbar": {
              "outlinewidth": 0,
              "ticks": ""
             }
            },
            "type": "scattermapbox"
           }
          ],
          "scatterpolar": [
           {
            "marker": {
             "colorbar": {
              "outlinewidth": 0,
              "ticks": ""
             }
            },
            "type": "scatterpolar"
           }
          ],
          "scatterpolargl": [
           {
            "marker": {
             "colorbar": {
              "outlinewidth": 0,
              "ticks": ""
             }
            },
            "type": "scatterpolargl"
           }
          ],
          "scatterternary": [
           {
            "marker": {
             "colorbar": {
              "outlinewidth": 0,
              "ticks": ""
             }
            },
            "type": "scatterternary"
           }
          ],
          "surface": [
           {
            "colorbar": {
             "outlinewidth": 0,
             "ticks": ""
            },
            "colorscale": [
             [
              0,
              "#0d0887"
             ],
             [
              0.1111111111111111,
              "#46039f"
             ],
             [
              0.2222222222222222,
              "#7201a8"
             ],
             [
              0.3333333333333333,
              "#9c179e"
             ],
             [
              0.4444444444444444,
              "#bd3786"
             ],
             [
              0.5555555555555556,
              "#d8576b"
             ],
             [
              0.6666666666666666,
              "#ed7953"
             ],
             [
              0.7777777777777778,
              "#fb9f3a"
             ],
             [
              0.8888888888888888,
              "#fdca26"
             ],
             [
              1,
              "#f0f921"
             ]
            ],
            "type": "surface"
           }
          ],
          "table": [
           {
            "cells": {
             "fill": {
              "color": "#EBF0F8"
             },
             "line": {
              "color": "white"
             }
            },
            "header": {
             "fill": {
              "color": "#C8D4E3"
             },
             "line": {
              "color": "white"
             }
            },
            "type": "table"
           }
          ]
         },
         "layout": {
          "annotationdefaults": {
           "arrowcolor": "#2a3f5f",
           "arrowhead": 0,
           "arrowwidth": 1
          },
          "autotypenumbers": "strict",
          "coloraxis": {
           "colorbar": {
            "outlinewidth": 0,
            "ticks": ""
           }
          },
          "colorscale": {
           "diverging": [
            [
             0,
             "#8e0152"
            ],
            [
             0.1,
             "#c51b7d"
            ],
            [
             0.2,
             "#de77ae"
            ],
            [
             0.3,
             "#f1b6da"
            ],
            [
             0.4,
             "#fde0ef"
            ],
            [
             0.5,
             "#f7f7f7"
            ],
            [
             0.6,
             "#e6f5d0"
            ],
            [
             0.7,
             "#b8e186"
            ],
            [
             0.8,
             "#7fbc41"
            ],
            [
             0.9,
             "#4d9221"
            ],
            [
             1,
             "#276419"
            ]
           ],
           "sequential": [
            [
             0,
             "#0d0887"
            ],
            [
             0.1111111111111111,
             "#46039f"
            ],
            [
             0.2222222222222222,
             "#7201a8"
            ],
            [
             0.3333333333333333,
             "#9c179e"
            ],
            [
             0.4444444444444444,
             "#bd3786"
            ],
            [
             0.5555555555555556,
             "#d8576b"
            ],
            [
             0.6666666666666666,
             "#ed7953"
            ],
            [
             0.7777777777777778,
             "#fb9f3a"
            ],
            [
             0.8888888888888888,
             "#fdca26"
            ],
            [
             1,
             "#f0f921"
            ]
           ],
           "sequentialminus": [
            [
             0,
             "#0d0887"
            ],
            [
             0.1111111111111111,
             "#46039f"
            ],
            [
             0.2222222222222222,
             "#7201a8"
            ],
            [
             0.3333333333333333,
             "#9c179e"
            ],
            [
             0.4444444444444444,
             "#bd3786"
            ],
            [
             0.5555555555555556,
             "#d8576b"
            ],
            [
             0.6666666666666666,
             "#ed7953"
            ],
            [
             0.7777777777777778,
             "#fb9f3a"
            ],
            [
             0.8888888888888888,
             "#fdca26"
            ],
            [
             1,
             "#f0f921"
            ]
           ]
          },
          "colorway": [
           "#636efa",
           "#EF553B",
           "#00cc96",
           "#ab63fa",
           "#FFA15A",
           "#19d3f3",
           "#FF6692",
           "#B6E880",
           "#FF97FF",
           "#FECB52"
          ],
          "font": {
           "color": "#2a3f5f"
          },
          "geo": {
           "bgcolor": "white",
           "lakecolor": "white",
           "landcolor": "#E5ECF6",
           "showlakes": true,
           "showland": true,
           "subunitcolor": "white"
          },
          "hoverlabel": {
           "align": "left"
          },
          "hovermode": "closest",
          "mapbox": {
           "style": "light"
          },
          "paper_bgcolor": "white",
          "plot_bgcolor": "#E5ECF6",
          "polar": {
           "angularaxis": {
            "gridcolor": "white",
            "linecolor": "white",
            "ticks": ""
           },
           "bgcolor": "#E5ECF6",
           "radialaxis": {
            "gridcolor": "white",
            "linecolor": "white",
            "ticks": ""
           }
          },
          "scene": {
           "xaxis": {
            "backgroundcolor": "#E5ECF6",
            "gridcolor": "white",
            "gridwidth": 2,
            "linecolor": "white",
            "showbackground": true,
            "ticks": "",
            "zerolinecolor": "white"
           },
           "yaxis": {
            "backgroundcolor": "#E5ECF6",
            "gridcolor": "white",
            "gridwidth": 2,
            "linecolor": "white",
            "showbackground": true,
            "ticks": "",
            "zerolinecolor": "white"
           },
           "zaxis": {
            "backgroundcolor": "#E5ECF6",
            "gridcolor": "white",
            "gridwidth": 2,
            "linecolor": "white",
            "showbackground": true,
            "ticks": "",
            "zerolinecolor": "white"
           }
          },
          "shapedefaults": {
           "line": {
            "color": "#2a3f5f"
           }
          },
          "ternary": {
           "aaxis": {
            "gridcolor": "white",
            "linecolor": "white",
            "ticks": ""
           },
           "baxis": {
            "gridcolor": "white",
            "linecolor": "white",
            "ticks": ""
           },
           "bgcolor": "#E5ECF6",
           "caxis": {
            "gridcolor": "white",
            "linecolor": "white",
            "ticks": ""
           }
          },
          "title": {
           "x": 0.05
          },
          "xaxis": {
           "automargin": true,
           "gridcolor": "white",
           "linecolor": "white",
           "ticks": "",
           "title": {
            "standoff": 15
           },
           "zerolinecolor": "white",
           "zerolinewidth": 2
          },
          "yaxis": {
           "automargin": true,
           "gridcolor": "white",
           "linecolor": "white",
           "ticks": "",
           "title": {
            "standoff": 15
           },
           "zerolinecolor": "white",
           "zerolinewidth": 2
          }
         }
        }
       }
      }
     },
     "metadata": {},
     "output_type": "display_data"
    }
   ],
   "source": [
    "pcs = u * s\n",
    "\n",
    "songs_with_pcs = pd.DataFrame(pcs)\n",
    "songs_with_pcs[['song', 'artist', 'id']] = centered_df.reset_index()[['song', 'artist', 'id']]\n",
    "\n",
    "labels = {}\n",
    "for i in range(15):\n",
    "    labels[i] = f'pc{i+1}'\n",
    "\n",
    "songs_with_pcs = songs_with_pcs.rename(labels, axis=1)\n",
    "\n",
    "px.scatter_3d(data_frame=songs_with_pcs, x='pc1', y='pc2', z='pc3', hover_data=['song', 'artist'])"
   ]
  },
  {
   "cell_type": "markdown",
   "metadata": {},
   "source": [
    "### Part 3: Analyzing/clustering the Data\n",
    "#### PCA/plot/etc, figuring out what matters most in a song, what makes a song similar to another?"
   ]
  },
  {
   "cell_type": "code",
   "execution_count": 73,
   "metadata": {},
   "outputs": [
    {
     "data": {
      "text/html": [
       "<div>\n",
       "<style scoped>\n",
       "    .dataframe tbody tr th:only-of-type {\n",
       "        vertical-align: middle;\n",
       "    }\n",
       "\n",
       "    .dataframe tbody tr th {\n",
       "        vertical-align: top;\n",
       "    }\n",
       "\n",
       "    .dataframe thead th {\n",
       "        text-align: right;\n",
       "    }\n",
       "</style>\n",
       "<table border=\"1\" class=\"dataframe\">\n",
       "  <thead>\n",
       "    <tr style=\"text-align: right;\">\n",
       "      <th></th>\n",
       "      <th></th>\n",
       "      <th></th>\n",
       "      <th>listens</th>\n",
       "      <th>danceability</th>\n",
       "      <th>energy</th>\n",
       "      <th>key</th>\n",
       "      <th>loudness</th>\n",
       "      <th>mode</th>\n",
       "      <th>speechiness</th>\n",
       "      <th>acousticness</th>\n",
       "      <th>instrumentalness</th>\n",
       "      <th>liveness</th>\n",
       "      <th>valence</th>\n",
       "      <th>tempo</th>\n",
       "      <th>duration_ms</th>\n",
       "      <th>time_signature</th>\n",
       "      <th>inv_sq_energy</th>\n",
       "    </tr>\n",
       "    <tr>\n",
       "      <th>song</th>\n",
       "      <th>artist</th>\n",
       "      <th>id</th>\n",
       "      <th></th>\n",
       "      <th></th>\n",
       "      <th></th>\n",
       "      <th></th>\n",
       "      <th></th>\n",
       "      <th></th>\n",
       "      <th></th>\n",
       "      <th></th>\n",
       "      <th></th>\n",
       "      <th></th>\n",
       "      <th></th>\n",
       "      <th></th>\n",
       "      <th></th>\n",
       "      <th></th>\n",
       "      <th></th>\n",
       "    </tr>\n",
       "  </thead>\n",
       "  <tbody>\n",
       "    <tr>\n",
       "      <th>Means Something</th>\n",
       "      <th>Lizzy McAlpine</th>\n",
       "      <th>5L3FlmnCvJY2SN2jzvUwxL</th>\n",
       "      <td>6.919833</td>\n",
       "      <td>-0.870867</td>\n",
       "      <td>-0.750366</td>\n",
       "      <td>0.843709</td>\n",
       "      <td>-0.944821</td>\n",
       "      <td>0.405356</td>\n",
       "      <td>0.058407</td>\n",
       "      <td>0.475817</td>\n",
       "      <td>-0.223090</td>\n",
       "      <td>2.620118</td>\n",
       "      <td>0.161512</td>\n",
       "      <td>-0.701598</td>\n",
       "      <td>-1.076392</td>\n",
       "      <td>0.300802</td>\n",
       "      <td>0.672243</td>\n",
       "    </tr>\n",
       "    <tr>\n",
       "      <th>How</th>\n",
       "      <th>Elina</th>\n",
       "      <th>1M2HXn0iXRD7KDJqtdGARb</th>\n",
       "      <td>5.414186</td>\n",
       "      <td>-0.289073</td>\n",
       "      <td>-1.172590</td>\n",
       "      <td>-1.074196</td>\n",
       "      <td>-0.688236</td>\n",
       "      <td>0.405356</td>\n",
       "      <td>0.269306</td>\n",
       "      <td>0.880798</td>\n",
       "      <td>-0.223107</td>\n",
       "      <td>-0.256139</td>\n",
       "      <td>0.967138</td>\n",
       "      <td>-1.292388</td>\n",
       "      <td>-1.096565</td>\n",
       "      <td>0.300802</td>\n",
       "      <td>0.834965</td>\n",
       "    </tr>\n",
       "    <tr>\n",
       "      <th>When You Lose Someone</th>\n",
       "      <th>Nina Nesbitt</th>\n",
       "      <th>3ECh9S9MgoL9SrpZFh0Y5Z</th>\n",
       "      <td>5.079598</td>\n",
       "      <td>-0.089829</td>\n",
       "      <td>0.493168</td>\n",
       "      <td>-0.526223</td>\n",
       "      <td>1.625184</td>\n",
       "      <td>0.405356</td>\n",
       "      <td>-0.529298</td>\n",
       "      <td>-1.667528</td>\n",
       "      <td>-0.223107</td>\n",
       "      <td>-0.596594</td>\n",
       "      <td>0.060809</td>\n",
       "      <td>0.429253</td>\n",
       "      <td>0.133344</td>\n",
       "      <td>0.300802</td>\n",
       "      <td>-0.229096</td>\n",
       "    </tr>\n",
       "    <tr>\n",
       "      <th>ceilings</th>\n",
       "      <th>Lizzy McAlpine</th>\n",
       "      <th>2L9N0zZnd37dwF0clgxMGI</th>\n",
       "      <td>4.995951</td>\n",
       "      <td>-0.177497</td>\n",
       "      <td>-0.044733</td>\n",
       "      <td>1.117696</td>\n",
       "      <td>-0.199504</td>\n",
       "      <td>0.405356</td>\n",
       "      <td>-0.560230</td>\n",
       "      <td>-0.869027</td>\n",
       "      <td>-0.204644</td>\n",
       "      <td>0.835665</td>\n",
       "      <td>-0.442707</td>\n",
       "      <td>1.016098</td>\n",
       "      <td>-0.244772</td>\n",
       "      <td>-1.530255</td>\n",
       "      <td>0.238128</td>\n",
       "    </tr>\n",
       "    <tr>\n",
       "      <th>hate to be lame</th>\n",
       "      <th>Lizzy McAlpine</th>\n",
       "      <th>26MJjeJ0NSOQDKeZzrEFMl</th>\n",
       "      <td>4.912304</td>\n",
       "      <td>-0.129678</td>\n",
       "      <td>-0.455389</td>\n",
       "      <td>1.391682</td>\n",
       "      <td>-0.424113</td>\n",
       "      <td>-2.466969</td>\n",
       "      <td>0.314297</td>\n",
       "      <td>0.651564</td>\n",
       "      <td>-0.220651</td>\n",
       "      <td>-0.785605</td>\n",
       "      <td>-0.178361</td>\n",
       "      <td>0.669240</td>\n",
       "      <td>-0.811924</td>\n",
       "      <td>-1.530255</td>\n",
       "      <td>0.515452</td>\n",
       "    </tr>\n",
       "  </tbody>\n",
       "</table>\n",
       "</div>"
      ],
      "text/plain": [
       "                                                              listens  \\\n",
       "song                  artist         id                                 \n",
       "Means Something       Lizzy McAlpine 5L3FlmnCvJY2SN2jzvUwxL  6.919833   \n",
       "How                   Elina          1M2HXn0iXRD7KDJqtdGARb  5.414186   \n",
       "When You Lose Someone Nina Nesbitt   3ECh9S9MgoL9SrpZFh0Y5Z  5.079598   \n",
       "ceilings              Lizzy McAlpine 2L9N0zZnd37dwF0clgxMGI  4.995951   \n",
       "hate to be lame       Lizzy McAlpine 26MJjeJ0NSOQDKeZzrEFMl  4.912304   \n",
       "\n",
       "                                                             danceability  \\\n",
       "song                  artist         id                                     \n",
       "Means Something       Lizzy McAlpine 5L3FlmnCvJY2SN2jzvUwxL     -0.870867   \n",
       "How                   Elina          1M2HXn0iXRD7KDJqtdGARb     -0.289073   \n",
       "When You Lose Someone Nina Nesbitt   3ECh9S9MgoL9SrpZFh0Y5Z     -0.089829   \n",
       "ceilings              Lizzy McAlpine 2L9N0zZnd37dwF0clgxMGI     -0.177497   \n",
       "hate to be lame       Lizzy McAlpine 26MJjeJ0NSOQDKeZzrEFMl     -0.129678   \n",
       "\n",
       "                                                               energy  \\\n",
       "song                  artist         id                                 \n",
       "Means Something       Lizzy McAlpine 5L3FlmnCvJY2SN2jzvUwxL -0.750366   \n",
       "How                   Elina          1M2HXn0iXRD7KDJqtdGARb -1.172590   \n",
       "When You Lose Someone Nina Nesbitt   3ECh9S9MgoL9SrpZFh0Y5Z  0.493168   \n",
       "ceilings              Lizzy McAlpine 2L9N0zZnd37dwF0clgxMGI -0.044733   \n",
       "hate to be lame       Lizzy McAlpine 26MJjeJ0NSOQDKeZzrEFMl -0.455389   \n",
       "\n",
       "                                                                  key  \\\n",
       "song                  artist         id                                 \n",
       "Means Something       Lizzy McAlpine 5L3FlmnCvJY2SN2jzvUwxL  0.843709   \n",
       "How                   Elina          1M2HXn0iXRD7KDJqtdGARb -1.074196   \n",
       "When You Lose Someone Nina Nesbitt   3ECh9S9MgoL9SrpZFh0Y5Z -0.526223   \n",
       "ceilings              Lizzy McAlpine 2L9N0zZnd37dwF0clgxMGI  1.117696   \n",
       "hate to be lame       Lizzy McAlpine 26MJjeJ0NSOQDKeZzrEFMl  1.391682   \n",
       "\n",
       "                                                             loudness  \\\n",
       "song                  artist         id                                 \n",
       "Means Something       Lizzy McAlpine 5L3FlmnCvJY2SN2jzvUwxL -0.944821   \n",
       "How                   Elina          1M2HXn0iXRD7KDJqtdGARb -0.688236   \n",
       "When You Lose Someone Nina Nesbitt   3ECh9S9MgoL9SrpZFh0Y5Z  1.625184   \n",
       "ceilings              Lizzy McAlpine 2L9N0zZnd37dwF0clgxMGI -0.199504   \n",
       "hate to be lame       Lizzy McAlpine 26MJjeJ0NSOQDKeZzrEFMl -0.424113   \n",
       "\n",
       "                                                                 mode  \\\n",
       "song                  artist         id                                 \n",
       "Means Something       Lizzy McAlpine 5L3FlmnCvJY2SN2jzvUwxL  0.405356   \n",
       "How                   Elina          1M2HXn0iXRD7KDJqtdGARb  0.405356   \n",
       "When You Lose Someone Nina Nesbitt   3ECh9S9MgoL9SrpZFh0Y5Z  0.405356   \n",
       "ceilings              Lizzy McAlpine 2L9N0zZnd37dwF0clgxMGI  0.405356   \n",
       "hate to be lame       Lizzy McAlpine 26MJjeJ0NSOQDKeZzrEFMl -2.466969   \n",
       "\n",
       "                                                             speechiness  \\\n",
       "song                  artist         id                                    \n",
       "Means Something       Lizzy McAlpine 5L3FlmnCvJY2SN2jzvUwxL     0.058407   \n",
       "How                   Elina          1M2HXn0iXRD7KDJqtdGARb     0.269306   \n",
       "When You Lose Someone Nina Nesbitt   3ECh9S9MgoL9SrpZFh0Y5Z    -0.529298   \n",
       "ceilings              Lizzy McAlpine 2L9N0zZnd37dwF0clgxMGI    -0.560230   \n",
       "hate to be lame       Lizzy McAlpine 26MJjeJ0NSOQDKeZzrEFMl     0.314297   \n",
       "\n",
       "                                                             acousticness  \\\n",
       "song                  artist         id                                     \n",
       "Means Something       Lizzy McAlpine 5L3FlmnCvJY2SN2jzvUwxL      0.475817   \n",
       "How                   Elina          1M2HXn0iXRD7KDJqtdGARb      0.880798   \n",
       "When You Lose Someone Nina Nesbitt   3ECh9S9MgoL9SrpZFh0Y5Z     -1.667528   \n",
       "ceilings              Lizzy McAlpine 2L9N0zZnd37dwF0clgxMGI     -0.869027   \n",
       "hate to be lame       Lizzy McAlpine 26MJjeJ0NSOQDKeZzrEFMl      0.651564   \n",
       "\n",
       "                                                             instrumentalness  \\\n",
       "song                  artist         id                                         \n",
       "Means Something       Lizzy McAlpine 5L3FlmnCvJY2SN2jzvUwxL         -0.223090   \n",
       "How                   Elina          1M2HXn0iXRD7KDJqtdGARb         -0.223107   \n",
       "When You Lose Someone Nina Nesbitt   3ECh9S9MgoL9SrpZFh0Y5Z         -0.223107   \n",
       "ceilings              Lizzy McAlpine 2L9N0zZnd37dwF0clgxMGI         -0.204644   \n",
       "hate to be lame       Lizzy McAlpine 26MJjeJ0NSOQDKeZzrEFMl         -0.220651   \n",
       "\n",
       "                                                             liveness  \\\n",
       "song                  artist         id                                 \n",
       "Means Something       Lizzy McAlpine 5L3FlmnCvJY2SN2jzvUwxL  2.620118   \n",
       "How                   Elina          1M2HXn0iXRD7KDJqtdGARb -0.256139   \n",
       "When You Lose Someone Nina Nesbitt   3ECh9S9MgoL9SrpZFh0Y5Z -0.596594   \n",
       "ceilings              Lizzy McAlpine 2L9N0zZnd37dwF0clgxMGI  0.835665   \n",
       "hate to be lame       Lizzy McAlpine 26MJjeJ0NSOQDKeZzrEFMl -0.785605   \n",
       "\n",
       "                                                              valence  \\\n",
       "song                  artist         id                                 \n",
       "Means Something       Lizzy McAlpine 5L3FlmnCvJY2SN2jzvUwxL  0.161512   \n",
       "How                   Elina          1M2HXn0iXRD7KDJqtdGARb  0.967138   \n",
       "When You Lose Someone Nina Nesbitt   3ECh9S9MgoL9SrpZFh0Y5Z  0.060809   \n",
       "ceilings              Lizzy McAlpine 2L9N0zZnd37dwF0clgxMGI -0.442707   \n",
       "hate to be lame       Lizzy McAlpine 26MJjeJ0NSOQDKeZzrEFMl -0.178361   \n",
       "\n",
       "                                                                tempo  \\\n",
       "song                  artist         id                                 \n",
       "Means Something       Lizzy McAlpine 5L3FlmnCvJY2SN2jzvUwxL -0.701598   \n",
       "How                   Elina          1M2HXn0iXRD7KDJqtdGARb -1.292388   \n",
       "When You Lose Someone Nina Nesbitt   3ECh9S9MgoL9SrpZFh0Y5Z  0.429253   \n",
       "ceilings              Lizzy McAlpine 2L9N0zZnd37dwF0clgxMGI  1.016098   \n",
       "hate to be lame       Lizzy McAlpine 26MJjeJ0NSOQDKeZzrEFMl  0.669240   \n",
       "\n",
       "                                                             duration_ms  \\\n",
       "song                  artist         id                                    \n",
       "Means Something       Lizzy McAlpine 5L3FlmnCvJY2SN2jzvUwxL    -1.076392   \n",
       "How                   Elina          1M2HXn0iXRD7KDJqtdGARb    -1.096565   \n",
       "When You Lose Someone Nina Nesbitt   3ECh9S9MgoL9SrpZFh0Y5Z     0.133344   \n",
       "ceilings              Lizzy McAlpine 2L9N0zZnd37dwF0clgxMGI    -0.244772   \n",
       "hate to be lame       Lizzy McAlpine 26MJjeJ0NSOQDKeZzrEFMl    -0.811924   \n",
       "\n",
       "                                                             time_signature  \\\n",
       "song                  artist         id                                       \n",
       "Means Something       Lizzy McAlpine 5L3FlmnCvJY2SN2jzvUwxL        0.300802   \n",
       "How                   Elina          1M2HXn0iXRD7KDJqtdGARb        0.300802   \n",
       "When You Lose Someone Nina Nesbitt   3ECh9S9MgoL9SrpZFh0Y5Z        0.300802   \n",
       "ceilings              Lizzy McAlpine 2L9N0zZnd37dwF0clgxMGI       -1.530255   \n",
       "hate to be lame       Lizzy McAlpine 26MJjeJ0NSOQDKeZzrEFMl       -1.530255   \n",
       "\n",
       "                                                             inv_sq_energy  \n",
       "song                  artist         id                                     \n",
       "Means Something       Lizzy McAlpine 5L3FlmnCvJY2SN2jzvUwxL       0.672243  \n",
       "How                   Elina          1M2HXn0iXRD7KDJqtdGARb       0.834965  \n",
       "When You Lose Someone Nina Nesbitt   3ECh9S9MgoL9SrpZFh0Y5Z      -0.229096  \n",
       "ceilings              Lizzy McAlpine 2L9N0zZnd37dwF0clgxMGI       0.238128  \n",
       "hate to be lame       Lizzy McAlpine 26MJjeJ0NSOQDKeZzrEFMl       0.515452  "
      ]
     },
     "execution_count": 73,
     "metadata": {},
     "output_type": "execute_result"
    }
   ],
   "source": [
    "cluster_df = songs.set_index(['song', 'artist', 'id']).dropna()\n",
    "cluster_df = (cluster_df - np.mean(cluster_df, axis=0)) / np.std(cluster_df, axis=0)\n",
    "cluster_df.head(5)"
   ]
  },
  {
   "cell_type": "code",
   "execution_count": 74,
   "metadata": {},
   "outputs": [
    {
     "data": {
      "text/plain": [
       "array([0, 0, 0, 0, 0, 0, 0, 3, 0, 0, 0, 0, 0, 0, 0, 0, 0, 0, 0, 0, 0, 0,\n",
       "       0, 0, 0, 0, 0, 0, 0, 0, 0, 0, 0, 0, 0, 0, 0, 0, 0, 0, 0, 0, 0, 0,\n",
       "       0, 0, 0, 0, 0, 0, 0, 0, 0, 0, 0, 0, 0, 0, 0, 0, 0, 0, 0, 0, 0, 0,\n",
       "       0, 0, 0, 2, 0, 2, 0, 0, 0, 0, 0, 0, 0, 0, 0, 0, 0, 0, 0, 0, 0, 0,\n",
       "       0, 0, 0, 0, 2, 0, 0, 0, 0, 0, 0, 1, 0, 0, 0, 1, 0, 0, 0, 0, 0, 0,\n",
       "       0, 0, 0, 0, 0, 0, 0, 0, 0, 0, 0, 0, 0, 0, 0, 0, 0, 0, 0, 0, 0, 0,\n",
       "       0, 0, 0, 0, 1, 0, 0, 0, 0, 0, 0, 0, 0, 1, 0, 0, 0, 0, 0, 0, 0, 0,\n",
       "       0, 0, 0, 0, 0, 0, 0, 0, 0, 0, 0, 0, 0, 0, 0, 0, 0, 0, 0, 0, 0, 0,\n",
       "       0, 0, 0, 0, 0, 0, 0, 0, 0, 0, 0, 0, 0, 0, 0, 0, 0, 0, 0, 0, 0, 0,\n",
       "       0, 0, 0, 0, 0, 0, 0, 0, 0, 0, 1, 1, 0, 0, 0, 0, 0, 0, 0, 0, 0, 0,\n",
       "       0, 0, 0, 0, 0, 0, 0, 0, 0, 0, 0, 0, 0, 0, 0, 0, 0, 0, 0, 0, 0, 0,\n",
       "       0, 0, 0, 0, 0, 0, 0, 0, 0, 0, 0, 0, 0, 0, 0, 0, 0, 0, 0, 0, 0, 0,\n",
       "       0, 0, 0, 0, 0, 0, 0, 0, 0, 0, 0, 0, 0, 0, 0, 2, 0, 0, 0, 0, 0, 1,\n",
       "       0, 0, 0, 0, 0, 0, 0, 0, 0, 0, 0, 0, 0, 0, 0, 0, 0, 0, 0, 0, 0, 0,\n",
       "       0, 0, 0, 0, 0, 0, 0, 0, 0, 0, 0, 0, 0, 0, 0, 0, 0, 0, 0, 0, 0, 0,\n",
       "       0, 0, 0, 1, 0, 0, 0, 0, 1, 0, 0, 0, 0, 0, 0, 0, 0, 0, 0, 0, 0, 0,\n",
       "       0, 0, 0, 0, 0, 0, 0, 0, 0, 0, 0, 0, 0, 0, 1, 0, 0, 0, 0, 0, 0, 0,\n",
       "       0, 0, 0, 0, 0, 0, 0, 0, 0, 0, 0, 0, 0, 0, 0, 0, 0, 0, 0, 0, 0, 0,\n",
       "       0, 0, 0, 0, 0, 0, 4, 0, 0, 0, 0, 0, 0, 0, 0, 0, 0, 0, 0, 0, 0, 0,\n",
       "       0, 0, 0, 0, 0, 0, 0, 0, 0, 0, 0, 0, 0, 0, 0, 0, 0, 0, 0, 0, 0, 0,\n",
       "       0, 0, 0, 0, 0, 0, 0, 0, 0, 0, 0, 0, 0, 0, 0, 0, 0, 0, 0, 0, 0, 0,\n",
       "       0, 0, 0, 0, 0, 0, 0, 0, 0, 0, 0, 0, 0, 1, 0, 0, 0, 0, 0, 0, 0, 0,\n",
       "       0, 0, 0, 0, 0, 1, 0, 0, 0, 0, 0, 0, 0, 0, 0, 0, 0, 0, 0, 0, 0, 0,\n",
       "       0, 0, 0, 0, 0, 0, 0, 0, 0, 0, 0, 0, 0, 0, 0, 0, 0, 0, 0, 0, 0, 0,\n",
       "       0, 0, 0, 0, 0, 0, 0, 0, 0, 0, 1, 0, 0, 0, 0, 0, 0, 0, 0, 0, 0, 0,\n",
       "       0, 0, 1, 0, 0, 0, 0, 0, 0, 0, 0, 0, 0, 0, 0, 0, 0, 0, 0, 0, 0, 0,\n",
       "       0, 0, 0, 0, 0, 0, 0, 0, 0, 0, 0, 0, 0, 0, 0, 1, 0, 0, 0, 0, 0, 0,\n",
       "       0, 0, 0, 0, 0, 0, 0, 0, 0, 0, 0, 0, 0, 0, 0, 0, 0, 0, 0, 0, 0, 0,\n",
       "       0, 0, 0, 0, 0, 0, 0, 0, 0, 0, 0, 0, 0, 0, 0, 0, 0, 0, 0, 0, 0, 0,\n",
       "       0, 0, 0, 0, 0, 0, 0, 0, 0, 0, 0, 0, 0, 0, 0, 0, 2, 0, 0, 0, 0, 0,\n",
       "       0, 0, 0, 0, 0, 0, 0, 0, 0, 0, 0, 0, 0, 0, 0, 0, 0, 0, 0, 0, 0, 0,\n",
       "       0, 0, 0, 0, 0, 0, 0, 0, 0, 0, 0, 0, 0, 0, 0, 0, 0, 0, 0, 0, 0, 0,\n",
       "       0, 0, 0, 0, 0, 0, 0, 0, 0, 0, 0, 0, 0, 0, 0, 0, 0, 0, 0, 0, 0, 0,\n",
       "       0, 0, 0, 0, 0, 0, 1, 0, 0, 0, 0, 0, 0, 0, 0, 0, 1, 2, 0, 0, 0, 0,\n",
       "       0, 0, 0, 0, 0, 0, 1, 0, 0, 0, 0, 0, 0, 0, 0, 0, 0, 1, 0, 0, 0, 0,\n",
       "       0, 1, 0, 0, 0, 0, 0, 0, 0, 0, 0, 0, 0, 0, 0, 0, 0, 0, 0, 0, 0, 0,\n",
       "       0, 0, 0, 0, 0, 0, 0, 0, 0, 0, 0, 0, 0, 0, 0, 0, 0, 0, 0, 0, 0, 0,\n",
       "       0, 0, 0, 0, 0, 0, 0, 0, 0, 0, 0, 0, 0, 0, 1, 0, 1, 0, 0, 0, 1, 0,\n",
       "       0, 0, 0, 1, 0, 0, 0, 0, 0, 0, 0, 0, 0, 0, 0, 0, 0, 0, 0, 5, 0, 0,\n",
       "       0, 0, 0, 0, 0, 0, 0, 0, 0, 0, 0, 0, 0, 0, 0, 0, 0, 0, 0, 0, 0, 0,\n",
       "       0, 0, 0, 0, 0, 0, 0, 0, 0, 0, 0, 0, 0, 0, 0, 0, 0, 0, 1, 0, 2, 0,\n",
       "       0, 0, 0, 0, 0], dtype=int64)"
      ]
     },
     "execution_count": 74,
     "metadata": {},
     "output_type": "execute_result"
    }
   ],
   "source": [
    "cluster = MeanShift().fit(cluster_df)\n",
    "cluster.labels_"
   ]
  },
  {
   "cell_type": "code",
   "execution_count": 23,
   "metadata": {},
   "outputs": [],
   "source": [
    "cluster_w_labels = cluster_df.reset_index()\n",
    "cluster_w_labels['color'] = cluster.labels_\n",
    "# px.scatter(cluster_w_labels, x='count', y='energy', color='color', hover_data='trackName')\n",
    "# cluster_w_labels.sort_values('color', ascending=False)"
   ]
  },
  {
   "cell_type": "code",
   "execution_count": 24,
   "metadata": {},
   "outputs": [
    {
     "name": "stderr",
     "output_type": "stream",
     "text": [
      "C:\\Users\\Jessi\\AppData\\Local\\Packages\\PythonSoftwareFoundation.Python.3.10_qbz5n2kfra8p0\\LocalCache\\local-packages\\Python310\\site-packages\\sklearn\\cluster\\_kmeans.py:1416: FutureWarning:\n",
      "\n",
      "The default value of `n_init` will change from 10 to 'auto' in 1.4. Set the value of `n_init` explicitly to suppress the warning\n",
      "\n",
      "C:\\Users\\Jessi\\AppData\\Local\\Packages\\PythonSoftwareFoundation.Python.3.10_qbz5n2kfra8p0\\LocalCache\\local-packages\\Python310\\site-packages\\joblib\\externals\\loky\\backend\\context.py:136: UserWarning:\n",
      "\n",
      "Could not find the number of physical cores for the following reason:\n",
      "[WinError 2] The system cannot find the file specified\n",
      "Returning the number of logical cores instead. You can silence this warning by setting LOKY_MAX_CPU_COUNT to the number of cores you want to use.\n",
      "\n",
      "  File \"C:\\Users\\Jessi\\AppData\\Local\\Packages\\PythonSoftwareFoundation.Python.3.10_qbz5n2kfra8p0\\LocalCache\\local-packages\\Python310\\site-packages\\joblib\\externals\\loky\\backend\\context.py\", line 257, in _count_physical_cores\n",
      "    cpu_info = subprocess.run(\n",
      "  File \"C:\\Program Files\\WindowsApps\\PythonSoftwareFoundation.Python.3.10_3.10.3056.0_x64__qbz5n2kfra8p0\\lib\\subprocess.py\", line 503, in run\n",
      "    with Popen(*popenargs, **kwargs) as process:\n",
      "  File \"C:\\Program Files\\WindowsApps\\PythonSoftwareFoundation.Python.3.10_3.10.3056.0_x64__qbz5n2kfra8p0\\lib\\subprocess.py\", line 971, in __init__\n",
      "    self._execute_child(args, executable, preexec_fn, close_fds,\n",
      "  File \"C:\\Program Files\\WindowsApps\\PythonSoftwareFoundation.Python.3.10_3.10.3056.0_x64__qbz5n2kfra8p0\\lib\\subprocess.py\", line 1456, in _execute_child\n",
      "    hp, ht, pid, tid = _winapi.CreateProcess(executable, args,\n"
     ]
    },
    {
     "data": {
      "application/vnd.plotly.v1+json": {
       "config": {
        "plotlyServerURL": "https://plot.ly"
       },
       "data": [
        {
         "customdata": [
          [
           "If By Chance"
          ],
          [
           "please"
          ],
          [
           "The Sun Will Come Up, The Seasons Will Change"
          ],
          [
           "Rain"
          ],
          [
           "Dear August"
          ],
          [
           "At My Funeral"
          ],
          [
           "buttercup"
          ],
          [
           "Reasons to Leave"
          ],
          [
           "Tall Paul"
          ],
          [
           "A Thousand Years"
          ],
          [
           "the author"
          ],
          [
           "Yellow Lights"
          ],
          [
           "Favourite Ex"
          ],
          [
           "Emergency Contact"
          ],
          [
           "Empath"
          ],
          [
           "Hold It Together"
          ],
          [
           "New Rules"
          ],
          [
           "Letting Go for a Little While"
          ],
          [
           "Headlights"
          ],
          [
           "Riptide"
          ],
          [
           "Crazier Things (with Noah Kahan)"
          ],
          [
           "Headstones and Land Mines"
          ],
          [
           "Love Is Letting Go (feat. Diane Keaton)"
          ],
          [
           "We Gotta Go"
          ],
          [
           "Falling Apart"
          ],
          [
           "My Life"
          ],
          [
           "Portland, Maine"
          ],
          [
           "Anyway"
          ],
          [
           "Reruns"
          ],
          [
           "Be"
          ],
          [
           "pinball"
          ],
          [
           "stuck in my head"
          ],
          [
           "Where Do I Go?"
          ],
          [
           "Hold Me"
          ],
          [
           "Brooklyn"
          ],
          [
           "Still"
          ],
          [
           "Little Do You Know"
          ],
          [
           "Coffee Stained Smile"
          ],
          [
           "Memory Lane"
          ],
          [
           "Alpine Green"
          ],
          [
           "human"
          ],
          [
           "Glad It's You"
          ],
          [
           "So It Is"
          ],
          [
           "Home for the Summer"
          ],
          [
           "Never Alone"
          ],
          [
           "Older Guys"
          ],
          [
           "Enough to Know You"
          ],
          [
           "Used To"
          ],
          [
           "nobody else"
          ],
          [
           "fly when i fall"
          ],
          [
           "Radioactive"
          ],
          [
           "Botl"
          ],
          [
           "Fall Apart Too"
          ],
          [
           "Another's Arms"
          ],
          [
           "How This Feels"
          ],
          [
           "Inside Out"
          ],
          [
           "Goodbye"
          ],
          [
           "Wrecking Ball"
          ],
          [
           "I Will Follow You into the Dark"
          ],
          [
           "Halloween"
          ],
          [
           "Oh Love"
          ],
          [
           "Crocodiles"
          ],
          [
           "When You Lose Someone"
          ],
          [
           "Better Place"
          ],
          [
           "Unknown Track"
          ],
          [
           "Falling"
          ],
          [
           "17"
          ],
          [
           "Wild Enough"
          ],
          [
           "Talk To Me"
          ],
          [
           "The Night We Met"
          ],
          [
           "Better On Your Own"
          ],
          [
           "I Wouldn't Change a Thing"
          ],
          [
           "Chosen Last"
          ],
          [
           "broken"
          ],
          [
           "Safe Places (Acoustic)"
          ],
          [
           "I Believe In A Thing Called Love"
          ],
          [
           "Balloon Boy"
          ],
          [
           "Home"
          ],
          [
           "The Only Exception"
          ],
          [
           "Secret"
          ],
          [
           "Make Us Never Happen"
          ],
          [
           "Codependent"
          ],
          [
           "The Art Of Getting By"
          ],
          [
           "Tuesdays"
          ],
          [
           "Out Of Love with You"
          ],
          [
           "Medicine"
          ],
          [
           "Never the 1"
          ],
          [
           "Let Her Go"
          ],
          [
           "Alignments"
          ],
          [
           "All of Me"
          ],
          [
           "Second Chances"
          ],
          [
           "Hopelessness Has Done Nothing for Me"
          ],
          [
           "Mother May I"
          ],
          [
           "hideous"
          ],
          [
           "Funeral"
          ],
          [
           "Just Because"
          ],
          [
           "Together Forever"
          ],
          [
           "Flowers"
          ],
          [
           "Bite The Hand"
          ],
          [
           "Hazel Eyes"
          ],
          [
           "Devil Swear I've Seen"
          ],
          [
           "jackie"
          ],
          [
           "Scared to Be Happy"
          ],
          [
           "can I call you back?"
          ],
          [
           "Even When You're Home"
          ],
          [
           "familiar stranger"
          ],
          [
           "Nothing's the Same"
          ],
          [
           "Where Are You?"
          ],
          [
           "for life"
          ],
          [
           "How"
          ],
          [
           "Carolina"
          ],
          [
           "Flight Risk"
          ],
          [
           "Lego Bricks"
          ],
          [
           "Wish It Would Rain"
          ],
          [
           "blue bird"
          ],
          [
           "1953"
          ],
          [
           "Mountaineer"
          ],
          [
           "Knock The Wind"
          ],
          [
           "Finish Line"
          ],
          [
           "I Don't Need You To Survive"
          ],
          [
           "ocean eyes"
          ],
          [
           "How Do I Tell You?"
          ],
          [
           "Need You Now - Acoustic"
          ],
          [
           "Sweet Connection"
          ],
          [
           "the first one"
          ],
          [
           "so much more than me"
          ],
          [
           "Gets Better"
          ],
          [
           "Hey There Delilah"
          ],
          [
           "Harsh"
          ],
          [
           "Always Almost"
          ],
          [
           "Rhythm Inside - Acoustic"
          ],
          [
           "Mirage"
          ],
          [
           "Are You Alright?"
          ],
          [
           "hit the dirt"
          ],
          [
           "Forget I Exist"
          ],
          [
           "Crumble"
          ],
          [
           "Meant To Be"
          ],
          [
           "wait it out"
          ],
          [
           "Forgetting Delaney"
          ],
          [
           "Soul Mate"
          ],
          [
           "Twenty Two"
          ],
          [
           "Forever Love"
          ],
          [
           "The Moon Song"
          ],
          [
           "Say You Won't Let Go"
          ],
          [
           "Nothing / Sad N Stuff"
          ],
          [
           "Boys Like You"
          ],
          [
           "You Are Gold"
          ],
          [
           "Anchor"
          ],
          [
           "Polaroid"
          ],
          [
           "State Lines"
          ],
          [
           "A Little More"
          ],
          [
           "Mr. Brightside"
          ],
          [
           "Shoot"
          ],
          [
           "Doomsday"
          ],
          [
           "Stormy Weather"
          ],
          [
           "In a Stranger's Arms"
          ],
          [
           "my fault"
          ],
          [
           "Crave"
          ],
          [
           "I Knew"
          ],
          [
           "Changing Tides"
          ],
          [
           "idk"
          ],
          [
           "ceilings - Spotify Singles"
          ],
          [
           "Giving Up Ground"
          ],
          [
           "Slow Fade"
          ],
          [
           "Winter Song"
          ],
          [
           "Opaline"
          ],
          [
           "No More Bad Days"
          ],
          [
           "Break With Me"
          ],
          [
           "forget me // so we can meet again"
          ],
          [
           "gold star"
          ],
          [
           "I Don't Want to Lose You"
          ],
          [
           "I Should Be a Bird"
          ],
          [
           "The Human Condition"
          ],
          [
           "denial"
          ],
          [
           "Walk Above the City"
          ],
          [
           "Seventeen"
          ],
          [
           "Blue"
          ],
          [
           "Dial Drunk (with Post Malone)"
          ],
          [
           "getting older"
          ],
          [
           "Renee's Song"
          ],
          [
           "2AM"
          ],
          [
           "By My Side"
          ],
          [
           "Soft Spot"
          ],
          [
           "16"
          ],
          [
           "Desperate"
          ],
          [
           "Older Than I Am"
          ],
          [
           "Story of My Life"
          ],
          [
           "Skyscraper"
          ],
          [
           "Fish"
          ],
          [
           "That's Us"
          ],
          [
           "Forever Ago"
          ],
          [
           "Through to You"
          ],
          [
           "Simple Things (feat. Christina Perri)"
          ],
          [
           "all i need (the distance song)"
          ],
          [
           "Slow"
          ],
          [
           "Paint"
          ],
          [
           "Break up Slow Dance"
          ],
          [
           "Good"
          ],
          [
           "Free"
          ],
          [
           "Is It Really Me You're Missing"
          ],
          [
           "everything everywhere always"
          ],
          [
           "Say Less"
          ],
          [
           "Whatever Makes You Want to Die Less"
          ],
          [
           "Part of Me"
          ],
          [
           "Meant To Be"
          ],
          [
           "Faith You Might"
          ],
          [
           "The Former"
          ],
          [
           "Hallelujah I Love Her So"
          ],
          [
           "Air So Sweet"
          ],
          [
           "Drop Dead"
          ],
          [
           "nobody likes a secret"
          ],
          [
           "putting a spin on sweater weather"
          ],
          [
           "i don't want to watch the world end with someone else"
          ],
          [
           "A Little Bit Yours"
          ],
          [
           "is your bedroom ceiling bored? (feat. Cavetown)"
          ],
          [
           "Let Light Be Light"
          ],
          [
           "swan song"
          ],
          [
           "sometimes"
          ],
          [
           "always, i'll care"
          ],
          [
           "Heavy"
          ],
          [
           "In What World"
          ],
          [
           "all my ghosts"
          ],
          [
           "Ordinary People"
          ],
          [
           "mountain"
          ],
          [
           "Stupid"
          ],
          [
           "Rockland"
          ],
          [
           "what if it's not"
          ],
          [
           "Thinking 'Bout Love"
          ],
          [
           "Stupid Deep - Acoustic"
          ],
          [
           "I don't mind if you don't mind (draft)"
          ],
          [
           "Heather"
          ],
          [
           "Where's My Love - Acoustic"
          ],
          [
           "called you again"
          ],
          [
           "i don't miss u"
          ],
          [
           "Moves"
          ],
          [
           "Minute Of Your Love"
          ],
          [
           "When It Kills Me"
          ],
          [
           "Swan Upon Leda"
          ],
          [
           "When All My Friends Move Away"
          ],
          [
           "drunk text me"
          ],
          [
           "If I Could Dance"
          ],
          [
           "Breakeven"
          ],
          [
           "Pass Me By"
          ],
          [
           "Alright"
          ],
          [
           "Luck"
          ],
          [
           "Haunt You"
          ],
          [
           "Points of View"
          ],
          [
           "All Too Well (Taylor's Version)"
          ],
          [
           "Wonder"
          ],
          [
           "I know it won't work"
          ],
          [
           "Colorado"
          ],
          [
           "Never Stop Loving You"
          ],
          [
           "Universe"
          ],
          [
           "Feels Like"
          ],
          [
           "Safe And Sound"
          ],
          [
           "Blue Spirits"
          ],
          [
           "Are You Listening"
          ],
          [
           "Nobody"
          ],
          [
           "OK"
          ],
          [
           "this is how you fall in love"
          ],
          [
           "Nail In The Coffin"
          ],
          [
           "Good as Gold"
          ],
          [
           "Like You Did Before"
          ],
          [
           "Black Converse"
          ],
          [
           "Align"
          ],
          [
           "somebody loves you"
          ],
          [
           "You Belong With Me (Taylor’s Version)"
          ],
          [
           "July (feat. Leon Bridges)"
          ],
          [
           "Dear Future Me"
          ],
          [
           "Gaol"
          ],
          [
           "Olive Branch"
          ],
          [
           "The Best You Had"
          ],
          [
           "Slow Motion"
          ],
          [
           "Half a Heart"
          ],
          [
           "reckless driving"
          ],
          [
           "They Just Exist"
          ],
          [
           "Only a Matter of Time"
          ],
          [
           "La Reyna"
          ],
          [
           "Frisky"
          ],
          [
           "I Was In Heaven"
          ],
          [
           "Too Much I Miss You"
          ],
          [
           "A Little Bit Longer"
          ],
          [
           "Cinematic"
          ],
          [
           "at least i'm pretty"
          ],
          [
           "Maniac"
          ],
          [
           "Brooklyn - Stripped"
          ],
          [
           "Mama Said"
          ],
          [
           "Lights"
          ],
          [
           "It's Always Been You"
          ],
          [
           "Rome"
          ],
          [
           "Seahorses Of Old Mexico"
          ],
          [
           "If I Can't Have You"
          ],
          [
           "Same Boat"
          ],
          [
           "better off"
          ],
          [
           "Die Young"
          ],
          [
           "Begging for More"
          ],
          [
           "Shameful Company - Live from Athens Georgia"
          ],
          [
           "All Good"
          ],
          [
           "Place We Were Made"
          ],
          [
           "Paper Planes"
          ],
          [
           "Infinitely Falling"
          ],
          [
           "She Will Be Loved - Radio Mix"
          ],
          [
           "Love Me Nicely"
          ],
          [
           "Old Love - Acoustic"
          ],
          [
           "In Your Circle"
          ],
          [
           "self sabotage"
          ],
          [
           "hate to be lame"
          ],
          [
           "Fall Again"
          ],
          [
           "Bees"
          ],
          [
           "Butterfly Rain"
          ],
          [
           "A Quiet Way"
          ],
          [
           "Breathe"
          ],
          [
           "Steady Love"
          ],
          [
           "Being Alone"
          ],
          [
           "Zach's Ballad"
          ],
          [
           "Afterglow"
          ],
          [
           "Wii Date"
          ],
          [
           "Happier"
          ],
          [
           "Close to Her"
          ],
          [
           "Save Us"
          ],
          [
           "champagne problems"
          ],
          [
           "The Way I Love You"
          ],
          [
           "Happily Ever After"
          ],
          [
           "Drove To The Ocean"
          ],
          [
           "Tin Lover"
          ],
          [
           "When You're Gone"
          ],
          [
           "what if we met on the moon?"
          ],
          [
           "Just Wanna Be Your Friend"
          ],
          [
           "I'm with You"
          ],
          [
           "Vanilla (Stairwell Version)"
          ],
          [
           "I Just Really Hope You Exist"
          ],
          [
           "justacow (demo3)"
          ],
          [
           "Tired"
          ],
          [
           "Tobacco In My Sheets"
          ],
          [
           "Call It a Night"
          ],
          [
           "happy for you"
          ],
          [
           "Molly"
          ],
          [
           "Worst of You"
          ],
          [
           "How Can You Not"
          ],
          [
           "Into Yellow - Piano Version"
          ],
          [
           "4 + 20"
          ],
          [
           "Brave Face"
          ],
          [
           "Say Love"
          ],
          [
           "Look Back & Laugh"
          ],
          [
           "Hearts on Fire"
          ],
          [
           "Hurt Again"
          ],
          [
           "Spaceship (Bonus Track)"
          ],
          [
           "To Love Someone Else"
          ],
          [
           "What They'll Say About Us"
          ],
          [
           "What Can I Do"
          ],
          [
           "Megan’s Song"
          ],
          [
           "Asking the Aspens"
          ],
          [
           "Omni"
          ],
          [
           "Live Cinema"
          ],
          [
           "do you wanna leave this city ?"
          ],
          [
           "I Should’ve Danced More"
          ],
          [
           "Clocks"
          ],
          [
           "Crosswords"
          ],
          [
           "Turns Out"
          ],
          [
           "Round & Round"
          ],
          [
           "Superspreader"
          ],
          [
           "Best Part of Me"
          ],
          [
           "Witness - feat. Rajiv Dhall"
          ],
          [
           "Take Me Back"
          ],
          [
           "Bloom - Bonus Track"
          ],
          [
           "Blue Eyed Baby"
          ],
          [
           "we'll be fine"
          ],
          [
           "Idle Sympathy"
          ],
          [
           "Who's She"
          ],
          [
           "pass you by"
          ],
          [
           "warm blood"
          ],
          [
           "To the Mountains"
          ],
          [
           "If I Had Stayed"
          ],
          [
           "Vienna"
          ],
          [
           "Lately I've Been Sad"
          ],
          [
           "Cellophane"
          ],
          [
           "405"
          ],
          [
           "MISC."
          ],
          [
           "As a Child"
          ],
          [
           "Closure"
          ],
          [
           "Clockwork"
          ],
          [
           "Silver & Gold"
          ],
          [
           "Through"
          ],
          [
           "Pictures of You"
          ],
          [
           "snail / alwase"
          ],
          [
           "If I Could"
          ],
          [
           "Fireflies"
          ],
          [
           "Another Round"
          ],
          [
           "erase me"
          ],
          [
           "No Fun"
          ],
          [
           "wish I didn't know you"
          ],
          [
           "Better Now"
          ],
          [
           "Only Know How to Love You - with Annika Bennett"
          ],
          [
           "Say (feat. Jake Meadows) - Acoustic Version"
          ],
          [
           "Stuck With You - Acoustic"
          ],
          [
           "Love Brought Weight"
          ],
          [
           "Same Room"
          ],
          [
           "Pineapple"
          ],
          [
           "got me thinking"
          ],
          [
           "Ant Pile"
          ],
          [
           "Love Is Just a Way to Die"
          ],
          [
           "Run Awhile"
          ],
          [
           "Hailey"
          ],
          [
           "Every Time"
          ],
          [
           "Loving & Losing"
          ],
          [
           "I Think I"
          ],
          [
           "Pieces"
          ],
          [
           "Black Coffee - Unplugged"
          ],
          [
           "the stars"
          ],
          [
           "we fell in love in october"
          ],
          [
           "Still Something"
          ],
          [
           "Nirvana"
          ],
          [
           "Hey, Soul Sister"
          ],
          [
           "What Would I Do Without You"
          ],
          [
           "Standing in the Rain"
          ],
          [
           "Dial Drunk"
          ],
          [
           "glued to the floor"
          ],
          [
           "When You Love Someone"
          ],
          [
           "oh, mexico"
          ],
          [
           "Tell Me That You Love Me"
          ],
          [
           "Red Eye"
          ],
          [
           "Kill Bill"
          ],
          [
           "ilym (feat. ROSIE)"
          ],
          [
           "a message to that girl i fell in love with."
          ],
          [
           "Apart From, a Part Of, You."
          ],
          [
           "Alexandria (Slowed)"
          ],
          [
           "Immune"
          ],
          [
           "What Am I Gonna Do On Sundays?"
          ],
          [
           "what a shame"
          ],
          [
           "DJ Got Us Fallin' In Love (feat. Pitbull)"
          ],
          [
           "Playing God"
          ],
          [
           "In Love Now"
          ],
          [
           "sydney"
          ],
          [
           "Work Off My Hurt"
          ],
          [
           "Witness"
          ],
          [
           "Lovely Days"
          ],
          [
           "Kaleidoscope Tears"
          ],
          [
           "Good Mourning"
          ],
          [
           "Arms"
          ],
          [
           "Älskar"
          ],
          [
           "you were good to me"
          ],
          [
           "Oh Well"
          ],
          [
           "Time After Time - Spotify Singles"
          ],
          [
           "multiverse"
          ],
          [
           "You & I"
          ],
          [
           "Free"
          ],
          [
           "Long Sleeves"
          ],
          [
           "Concrete"
          ],
          [
           "pennies (voice memo)"
          ],
          [
           "Pyjamas (feat. Remi Wolf)"
          ],
          [
           "Fiona"
          ],
          [
           "Somebody Else"
          ],
          [
           "Remember you were the one"
          ],
          [
           "I miss you, I’m sorry"
          ],
          [
           "Chicago"
          ],
          [
           "Somebody"
          ],
          [
           "Mum"
          ],
          [
           "Tonight"
          ],
          [
           "Muffin"
          ],
          [
           "You Can Only Go in Pieces"
          ],
          [
           "November Son"
          ],
          [
           "On God"
          ],
          [
           "break up with a friend"
          ],
          [
           "Jealous of Paris"
          ],
          [
           "Counting Stars"
          ],
          [
           "All I Want"
          ],
          [
           "Things I Say When You Sleep"
          ],
          [
           "Retail Therapy"
          ],
          [
           "Straight into Your Arms - Bonus Track Version"
          ],
          [
           "False Art"
          ],
          [
           "Crashing into You"
          ],
          [
           "A Change Is Gonna Come"
          ],
          [
           "I Melt with You"
          ],
          [
           "Picture Perfect"
          ],
          [
           "Is She Gonna Be There?"
          ],
          [
           "Like A Stone"
          ],
          [
           "fall out of love"
          ],
          [
           "I Like You"
          ],
          [
           "More Like You - Piano Version"
          ],
          [
           "Two Punks In Love"
          ],
          [
           "It Hurts Too Much To Speak"
          ],
          [
           "Rich Boy"
          ],
          [
           "Yours"
          ],
          [
           "ocean"
          ],
          [
           "Crying Over You"
          ]
         ],
         "hovertemplate": "count=%{x}<br>energy=%{y}<br>trackName=%{customdata[0]}<br>color=%{marker.color}<extra></extra>",
         "legendgroup": "",
         "marker": {
          "color": [
           4,
           20,
           31,
           0,
           13,
           21,
           32,
           2,
           45,
           1,
           15,
           18,
           36,
           36,
           0,
           33,
           19,
           15,
           25,
           10,
           15,
           9,
           43,
           4,
           16,
           6,
           17,
           4,
           34,
           16,
           39,
           34,
           27,
           21,
           2,
           25,
           13,
           42,
           30,
           43,
           1,
           16,
           12,
           32,
           24,
           4,
           25,
           11,
           25,
           1,
           40,
           39,
           7,
           39,
           47,
           39,
           46,
           46,
           0,
           32,
           2,
           7,
           30,
           15,
           22,
           4,
           14,
           27,
           27,
           6,
           10,
           2,
           28,
           15,
           15,
           9,
           39,
           34,
           27,
           41,
           16,
           36,
           43,
           38,
           27,
           1,
           37,
           28,
           0,
           4,
           21,
           16,
           0,
           46,
           2,
           37,
           39,
           46,
           28,
           33,
           7,
           37,
           28,
           20,
           31,
           39,
           32,
           0,
           32,
           30,
           8,
           0,
           27,
           39,
           13,
           6,
           12,
           39,
           47,
           42,
           7,
           30,
           2,
           9,
           14,
           0,
           46,
           15,
           24,
           36,
           7,
           42,
           12,
           46,
           20,
           27,
           9,
           2,
           16,
           15,
           4,
           28,
           12,
           28,
           12,
           11,
           12,
           8,
           1,
           27,
           2,
           10,
           9,
           20,
           37,
           28,
           24,
           15,
           15,
           7,
           20,
           12,
           7,
           39,
           12,
           25,
           32,
           25,
           33,
           16,
           2,
           7,
           37,
           17,
           17,
           15,
           25,
           35,
           6,
           43,
           4,
           27,
           33,
           37,
           35,
           20,
           23,
           28,
           29,
           33,
           12,
           39,
           5,
           33,
           30,
           15,
           46,
           43,
           20,
           4,
           47,
           43,
           23,
           7,
           30,
           38,
           18,
           43,
           9,
           46,
           34,
           12,
           13,
           15,
           32,
           43,
           12,
           36,
           24,
           14,
           18,
           6,
           20,
           27,
           12,
           13,
           7,
           14,
           25,
           43,
           21,
           15,
           20,
           18,
           46,
           47,
           16,
           17,
           0,
           46,
           34,
           23,
           24,
           7,
           29,
           15,
           12,
           26,
           4,
           31,
           24,
           29,
           27,
           2,
           35,
           32,
           35,
           16,
           15,
           20,
           46,
           46,
           7,
           39,
           4,
           3,
           23,
           16,
           35,
           47,
           21,
           31,
           31,
           10,
           11,
           2,
           47,
           47,
           3,
           4,
           40,
           32,
           43,
           24,
           31,
           2,
           7,
           42,
           2,
           28,
           38,
           35,
           15,
           20,
           19,
           15,
           40,
           25,
           36,
           30,
           23,
           31,
           27,
           32,
           15,
           46,
           42,
           0,
           15,
           7,
           47,
           47,
           16,
           5,
           27,
           7,
           11,
           46,
           34,
           35,
           25,
           34,
           23,
           46,
           8,
           33,
           16,
           40,
           6,
           15,
           12,
           38,
           41,
           6,
           47,
           25,
           24,
           14,
           23,
           0,
           29,
           43,
           5,
           0,
           21,
           28,
           39,
           15,
           7,
           39,
           0,
           13,
           45,
           24,
           46,
           46,
           31,
           43,
           15,
           25,
           32,
           0,
           47,
           39,
           15,
           43,
           12,
           27,
           16,
           2,
           23,
           18,
           47,
           33,
           6,
           2,
           25,
           34,
           27,
           33,
           34,
           10,
           46,
           15,
           25,
           41,
           10,
           34,
           16,
           17,
           2,
           0,
           7,
           16,
           33,
           17,
           2,
           6,
           4,
           5,
           28,
           32,
           46,
           7,
           29,
           30,
           4,
           33,
           16,
           1,
           32,
           1,
           19,
           43,
           27,
           35,
           43,
           14,
           6,
           2,
           1,
           23,
           36,
           9,
           7,
           7,
           1,
           1,
           32,
           19,
           2,
           4,
           6,
           28,
           36,
           39,
           0,
           36,
           9,
           28,
           20,
           12,
           46,
           46,
           46,
           23,
           2,
           37,
           0,
           3,
           3,
           33,
           31,
           20,
           4,
           35,
           1,
           5,
           39,
           6,
           6,
           18,
           34,
           36,
           31,
           36,
           44,
           0,
           5,
           37,
           23,
           21,
           10,
           2,
           34,
           4,
           7,
           24,
           39,
           13,
           25,
           32,
           15,
           37,
           2
          ],
          "coloraxis": "coloraxis",
          "symbol": "circle"
         },
         "mode": "markers",
         "name": "",
         "orientation": "v",
         "showlegend": false,
         "type": "scatter",
         "x": [
          -0.794260862610532,
          4.2535597379232515,
          0.7125512569517916,
          -0.794260862610532,
          0.7878918629299078,
          -0.794260862610532,
          -0.41755783271995106,
          -0.794260862610532,
          -0.794260862610532,
          0.10982640912686215,
          1.4659573167329532,
          2.2947039824922313,
          2.972769436295277,
          0.5618700449955591,
          -0.794260862610532,
          -0.7189202566324158,
          -0.794260862610532,
          0.10982640912686215,
          -0.19153601478560256,
          0.9385730748861401,
          1.0139136808642562,
          -0.49289843869806726,
          0.18516701510497832,
          -0.794260862610532,
          -0.794260862610532,
          -0.7189202566324158,
          0.5618700449955591,
          0.5618700449955591,
          0.486529439017443,
          1.1645948928204886,
          -0.6435796506542996,
          -0.6435796506542996,
          -0.0408548028293702,
          -0.0408548028293702,
          0.6372106509736754,
          -0.11619540880748638,
          0.10982640912686215,
          1.3152761047767207,
          2.52072580042658,
          1.1645948928204886,
          -0.19153601478560256,
          0.2605076210830945,
          -0.5682390446761835,
          -0.7189202566324158,
          -0.19153601478560256,
          -0.7189202566324158,
          -0.7189202566324158,
          -0.794260862610532,
          -0.2668766207637187,
          1.0139136808642562,
          -0.3422172267418349,
          0.7125512569517916,
          -0.794260862610532,
          -0.41755783271995106,
          -0.3422172267418349,
          -0.6435796506542996,
          -0.41755783271995106,
          -0.794260862610532,
          -0.794260862610532,
          -0.5682390446761835,
          -0.11619540880748638,
          -0.3422172267418349,
          4.554922161835717,
          -0.3422172267418349,
          2.52072580042658,
          0.03448580314874597,
          1.0139136808642562,
          0.18516701510497832,
          -0.794260862610532,
          -0.0408548028293702,
          -0.7189202566324158,
          -0.7189202566324158,
          -0.5682390446761835,
          1.3152761047767207,
          -0.5682390446761835,
          0.8632324689080239,
          -0.7189202566324158,
          1.1645948928204886,
          -0.41755783271995106,
          -0.3422172267418349,
          -0.41755783271995106,
          1.9180009526016502,
          -0.41755783271995106,
          -0.3422172267418349,
          0.486529439017443,
          0.03448580314874597,
          0.10982640912686215,
          -0.49289843869806726,
          -0.794260862610532,
          -0.2668766207637187,
          -0.794260862610532,
          -0.794260862610532,
          -0.794260862610532,
          -0.794260862610532,
          -0.5682390446761835,
          -0.3422172267418349,
          0.8632324689080239,
          -0.11619540880748638,
          -0.794260862610532,
          -0.49289843869806726,
          -0.794260862610532,
          -0.7189202566324158,
          0.7125512569517916,
          3.5001536781420897,
          1.2399354987986047,
          -0.6435796506542996,
          -0.7189202566324158,
          -0.11619540880748638,
          0.10982640912686215,
          4.630262767813832,
          -0.6435796506542996,
          1.9933415585797665,
          0.33584822706121065,
          -0.49289843869806726,
          1.0892542868423725,
          -0.11619540880748638,
          -0.3422172267418349,
          -0.794260862610532,
          1.842660346623534,
          1.842660346623534,
          -0.7189202566324158,
          3.123450648251509,
          0.486529439017443,
          1.0892542868423725,
          2.219363376514115,
          -0.49289843869806726,
          -0.49289843869806726,
          0.7125512569517916,
          0.18516701510497832,
          0.5618700449955591,
          -0.794260862610532,
          1.9933415585797665,
          -0.6435796506542996,
          -0.6435796506542996,
          2.972769436295277,
          -0.49289843869806726,
          -0.6435796506542996,
          0.33584822706121065,
          -0.2668766207637187,
          -0.794260862610532,
          -0.794260862610532,
          -0.11619540880748638,
          -0.5682390446761835,
          -0.2668766207637187,
          0.03448580314874597,
          -0.794260862610532,
          -0.5682390446761835,
          0.6372106509736754,
          -0.794260862610532,
          1.3152761047767207,
          -0.3422172267418349,
          -0.0408548028293702,
          1.1645948928204886,
          1.842660346623534,
          0.03448580314874597,
          0.33584822706121065,
          0.18516701510497832,
          -0.794260862610532,
          1.6919791346673017,
          -0.7189202566324158,
          1.767319740645418,
          -0.5682390446761835,
          -0.794260862610532,
          -0.41755783271995106,
          -0.794260862610532,
          0.10982640912686215,
          -0.7189202566324158,
          0.7125512569517916,
          -0.49289843869806726,
          -0.6435796506542996,
          0.18516701510497832,
          0.6372106509736754,
          -0.5682390446761835,
          -0.794260862610532,
          0.10982640912686215,
          -0.6435796506542996,
          1.2399354987986047,
          -0.794260862610532,
          -0.7189202566324158,
          -0.6435796506542996,
          -0.794260862610532,
          -0.41755783271995106,
          -0.794260862610532,
          -0.794260862610532,
          -0.7189202566324158,
          1.9933415585797665,
          -0.0408548028293702,
          -0.11619540880748638,
          -0.6435796506542996,
          -0.19153601478560256,
          -0.7189202566324158,
          -0.794260862610532,
          -0.2668766207637187,
          0.33584822706121065,
          3.274131860207741,
          1.9180009526016502,
          -0.7189202566324158,
          -0.11619540880748638,
          2.4453851944484635,
          0.2605076210830945,
          -0.19153601478560256,
          1.3152761047767207,
          -0.7189202566324158,
          0.03448580314874597,
          3.7261754960764386,
          -0.11619540880748638,
          -0.794260862610532,
          -0.49289843869806726,
          0.18516701510497832,
          -0.5682390446761835,
          1.5412979227110692,
          -0.7189202566324158,
          0.33584822706121065,
          0.6372106509736754,
          -0.7189202566324158,
          0.8632324689080239,
          -0.3422172267418349,
          1.0139136808642562,
          1.3152761047767207,
          0.2605076210830945,
          0.33584822706121065,
          0.9385730748861401,
          2.972769436295277,
          -0.7189202566324158,
          -0.11619540880748638,
          0.41118883303932685,
          0.486529439017443,
          0.03448580314874597,
          -0.2668766207637187,
          0.10982640912686215,
          -0.41755783271995106,
          0.7878918629299078,
          1.9180009526016502,
          2.5960664064046957,
          -0.794260862610532,
          -0.49289843869806726,
          -0.7189202566324158,
          -0.794260862610532,
          1.1645948928204886,
          -0.19153601478560256,
          -0.0408548028293702,
          -0.0408548028293702,
          -0.2668766207637187,
          -0.0408548028293702,
          -0.6435796506542996,
          0.8632324689080239,
          -0.794260862610532,
          -0.6435796506542996,
          -0.6435796506542996,
          0.03448580314874597,
          -0.11619540880748638,
          -0.49289843869806726,
          0.6372106509736754,
          0.6372106509736754,
          -0.41755783271995106,
          -0.6435796506542996,
          -0.794260862610532,
          -0.6435796506542996,
          -0.2668766207637187,
          2.4453851944484635,
          -0.5682390446761835,
          0.5618700449955591,
          0.18516701510497832,
          0.10982640912686215,
          -0.794260862610532,
          -0.794260862610532,
          -0.0408548028293702,
          1.390616710754837,
          -0.6435796506542996,
          -0.2668766207637187,
          -0.6435796506542996,
          1.9180009526016502,
          -0.7189202566324158,
          -0.7189202566324158,
          0.8632324689080239,
          0.486529439017443,
          -0.794260862610532,
          -0.49289843869806726,
          -0.6435796506542996,
          0.18516701510497832,
          -0.794260862610532,
          -0.7189202566324158,
          -0.6435796506542996,
          -0.6435796506542996,
          -0.6435796506542996,
          -0.5682390446761835,
          -0.794260862610532,
          -0.49289843869806726,
          -0.794260862610532,
          -0.19153601478560256,
          -0.794260862610532,
          -0.794260862610532,
          1.6919791346673017,
          2.5960664064046957,
          -0.7189202566324158,
          -0.6435796506542996,
          -0.794260862610532,
          -0.7189202566324158,
          0.7125512569517916,
          3.274131860207741,
          -0.794260862610532,
          -0.41755783271995106,
          -0.3422172267418349,
          -0.5682390446761835,
          -0.49289843869806726,
          -0.794260862610532,
          4.027537919988903,
          -0.41755783271995106,
          0.03448580314874597,
          0.7878918629299078,
          -0.7189202566324158,
          -0.794260862610532,
          -0.2668766207637187,
          -0.6435796506542996,
          -0.6435796506542996,
          -0.794260862610532,
          -0.7189202566324158,
          -0.794260862610532,
          -0.6435796506542996,
          -0.6435796506542996,
          0.10982640912686215,
          -0.794260862610532,
          -0.794260862610532,
          -0.7189202566324158,
          -0.2668766207637187,
          -0.2668766207637187,
          -0.6435796506542996,
          0.41118883303932685,
          0.7878918629299078,
          -0.19153601478560256,
          -0.794260862610532,
          -0.7189202566324158,
          -0.6435796506542996,
          -0.7189202566324158,
          -0.794260862610532,
          -0.3422172267418349,
          -0.6435796506542996,
          1.767319740645418,
          -0.7189202566324158,
          -0.794260862610532,
          -0.794260862610532,
          0.41118883303932685,
          -0.19153601478560256,
          0.10982640912686215,
          -0.49289843869806726,
          -0.6435796506542996,
          -0.19153601478560256,
          0.2605076210830945,
          0.8632324689080239,
          -0.7189202566324158,
          -0.2668766207637187,
          0.9385730748861401,
          -0.6435796506542996,
          1.390616710754837,
          -0.49289843869806726,
          0.03448580314874597,
          -0.19153601478560256,
          1.5412979227110692,
          -0.6435796506542996,
          0.03448580314874597,
          -0.6435796506542996,
          -0.7189202566324158,
          -0.5682390446761835,
          -0.794260862610532,
          1.390616710754837,
          -0.49289843869806726,
          -0.7189202566324158,
          -0.49289843869806726,
          -0.7189202566324158,
          1.1645948928204886,
          -0.7189202566324158,
          0.9385730748861401,
          0.18516701510497832,
          -0.6435796506542996,
          0.486529439017443,
          -0.5682390446761835,
          0.2605076210830945,
          -0.794260862610532,
          -0.7189202566324158,
          -0.5682390446761835,
          -0.7189202566324158,
          -0.2668766207637187,
          -0.49289843869806726,
          -0.5682390446761835,
          -0.794260862610532,
          -0.2668766207637187,
          -0.6435796506542996,
          1.390616710754837,
          -0.7189202566324158,
          -0.7189202566324158,
          0.41118883303932685,
          -0.6435796506542996,
          -0.3422172267418349,
          -0.6435796506542996,
          -0.7189202566324158,
          -0.6435796506542996,
          -0.3422172267418349,
          -0.11619540880748638,
          -0.7189202566324158,
          -0.794260862610532,
          -0.7189202566324158,
          -0.6435796506542996,
          0.41118883303932685,
          -0.7189202566324158,
          0.7125512569517916,
          3.274131860207741,
          -0.49289843869806726,
          -0.5682390446761835,
          -0.11619540880748638,
          -0.794260862610532,
          -0.6435796506542996,
          -0.41755783271995106,
          0.03448580314874597,
          -0.19153601478560256,
          -0.2668766207637187,
          -0.794260862610532,
          0.18516701510497832,
          0.03448580314874597,
          -0.6435796506542996,
          0.8632324689080239,
          0.5618700449955591,
          -0.5682390446761835,
          0.41118883303932685,
          -0.49289843869806726,
          -0.7189202566324158,
          -0.49289843869806726,
          -0.49289843869806726,
          -0.5682390446761835,
          -0.41755783271995106,
          -0.2668766207637187,
          -0.5682390446761835,
          -0.49289843869806726,
          0.18516701510497832,
          1.0139136808642562,
          1.0139136808642562,
          -0.794260862610532,
          -0.7189202566324158,
          0.5618700449955591,
          1.2399354987986047,
          -0.6435796506542996,
          2.0686821645578823,
          -0.6435796506542996,
          -0.5682390446761835,
          -0.7189202566324158,
          -0.5682390446761835,
          -0.794260862610532,
          0.2605076210830945,
          0.41118883303932685,
          -0.3422172267418349,
          -0.794260862610532,
          -0.794260862610532,
          -0.7189202566324158,
          -0.7189202566324158,
          1.9180009526016502,
          -0.49289843869806726,
          -0.5682390446761835,
          -0.6435796506542996,
          -0.794260862610532,
          -0.794260862610532,
          -0.6435796506542996,
          -0.5682390446761835,
          -0.794260862610532,
          -0.41755783271995106,
          1.4659573167329532,
          -0.2668766207637187,
          1.842660346623534,
          -0.41755783271995106,
          -0.7189202566324158,
          -0.794260862610532,
          3.6508348900983223,
          -0.49289843869806726,
          -0.794260862610532,
          -0.794260862610532,
          -0.0408548028293702,
          0.7878918629299078,
          0.18516701510497832,
          -0.794260862610532,
          0.10982640912686215,
          -0.794260862610532,
          1.5412979227110692,
          -0.7189202566324158,
          -0.7189202566324158,
          0.10982640912686215,
          -0.794260862610532,
          0.10982640912686215
         ],
         "xaxis": "x",
         "y": [
          -0.3610436664050905,
          -1.0125037192386803,
          1.3857916965026762,
          -0.4129298653033411,
          -0.10161267191383809,
          0.26735585358483216,
          -0.11314293833567154,
          0.45760524954508386,
          1.1609515012769243,
          0.3768933845922497,
          -0.44752066456884143,
          -0.7588378579583446,
          -0.9490872539185965,
          -0.8280194564893452,
          -0.8568451225439287,
          -0.6262397941072598,
          2.066077415390849,
          -0.21115020292125591,
          -0.10737780512475481,
          2.244796544929268,
          -0.38986933245967414,
          -1.4391235768465178,
          -0.33798313356142395,
          0.5556125141306683,
          -0.04972647301558754,
          -0.33798313356142395,
          0.04251565835907979,
          -1.0701550513478475,
          -0.3552785331941738,
          0.4691355159669173,
          -0.937556987496763,
          -0.18232453686667227,
          -1.4575720031214514,
          1.8239418205323474,
          0.24429532074116528,
          -0.8683753889657623,
          -0.2860969346631734,
          -1.6316790260911365,
          -1.375707111526434,
          -1.1393366498788484,
          0.849634307887421,
          -0.42446013172517455,
          -1.0240339856605138,
          1.0802396363240903,
          -0.5685884619980928,
          0.22699992110841508,
          -0.01513567375008717,
          -1.0874504509805978,
          -0.29186206787409014,
          -0.009370540539170443,
          2.5503486051078545,
          0.45184011633416715,
          0.24429532074116528,
          0.030985391937246334,
          -0.38410419924875744,
          -0.9779129199731801,
          0.18087885542108126,
          0.4633703827560006,
          -0.7818983908020115,
          0.7228013772472534,
          -0.14773373760117192,
          0.5671427805525017,
          0.4230144502795835,
          0.3365374521158329,
          -1.9331378416899718,
          -0.43022526493609126,
          0.7170362440363366,
          -0.6493003269509268,
          -1.162397182722515,
          0.14052292294466417,
          1.7720556216340968,
          -0.6262397941072598,
          1.1782469009096745,
          0.03675052514816306,
          -0.22268046934308938,
          -0.9779129199731801,
          -0.3206877339286737,
          -1.185457715566182,
          -0.251506135397673,
          -1.454689436515993,
          0.849634307887421,
          -0.5282325295216757,
          -0.8799056553875957,
          -0.7184819254819275,
          -0.706951659060094,
          1.126360702011424,
          -0.4417555313579247,
          1.1724817676987578,
          -0.499406863467092,
          -0.44752066456884143,
          -0.09584753870292136,
          -0.6089443944745099,
          -0.1419686043902552,
          1.0860047695350068,
          -0.4532857977797582,
          1.6567529574157622,
          -0.6031792612635931,
          1.0802396363240903,
          0.9534067056839222,
          -0.9202615878640128,
          0.47490064917783403,
          0.9591718388948389,
          0.7746875761455035,
          -0.13043833796842172,
          0.7228013772472534,
          0.5959684466070854,
          -0.19385480328850574,
          -0.562823328787176,
          -0.2688015350304232,
          -1.2373439144644325,
          -0.9606175203404299,
          -1.018268852449597,
          -0.13043833796842172,
          -0.10161267191383809,
          -0.43599039814700796,
          -0.6031792612635931,
          -0.15349887081208863,
          -0.6608305933727602,
          -0.9606175203404299,
          -1.1739274491443485,
          0.16358345578833108,
          -1.0355642520823471,
          -0.1419686043902552,
          -1.5988177667889112,
          0.3307723189049162,
          -0.17655940365575556,
          0.1693485889992478,
          -0.29186206787409014,
          0.49219604881058426,
          0.17511372221016452,
          0.35959798495949985,
          -0.5224673963107589,
          -1.6259138928802197,
          0.15781832257741435,
          0.3307723189049162,
          -0.9663826535513467,
          -1.4149100173606675,
          0.2097045214756649,
          -0.06702187264833773,
          0.19817425505383143,
          -0.3264528671395905,
          1.7662904884231803,
          -1.1739274491443485,
          1.2416633662297585,
          -1.0586247849260142,
          0.30771178606124927,
          -1.1969879819880154,
          0.3768933845922497,
          1.5068594939319273,
          -0.18232453686667227,
          0.7516270433018367,
          3.282520522894278,
          -0.9779129199731801,
          0.2961815196394158,
          0.5902033133961686,
          0.5267868480760846,
          -0.17655940365575556,
          0.49796118202150097,
          -0.5974141280526764,
          0.2097045214756649,
          -0.4186949985142578,
          -1.0701550513478475,
          -0.6204746608963431,
          -0.1650291372339221,
          -1.1739274491443485,
          -0.026665940171920626,
          -0.11314293833567154,
          -0.7991937904347616,
          -0.5397627959435091,
          -0.6723608597945937,
          -0.13620347117933845,
          -0.10161267191383809,
          1.0283534374258396,
          0.4691355159669173,
          -0.5570581955762592,
          -0.10737780512475481,
          -1.1393366498788484,
          1.5645108260410947,
          0.5671427805525017,
          -0.6493003269509268,
          0.5325519812870013,
          -1.335351179050017,
          -0.9087313214421794,
          2.538818338686021,
          1.9680701508052656,
          -0.20538506971033918,
          1.852767486586931,
          1.3800265632917594,
          -1.8513306014270634,
          -1.3468814454718503,
          -0.8280194564893452,
          -0.5858838616308429,
          2.244796544929268,
          -1.2834649801517664,
          -0.5685884619980928,
          -0.19385480328850574,
          0.4287795834905002,
          0.1059321236791638,
          -0.7415424583255944,
          -0.25727126860858973,
          0.22123478789749834,
          0.2731209867957489,
          1.1840120341205913,
          0.7285665104581701,
          -1.0701550513478475,
          0.6766803115599196,
          -0.8453148561220953,
          -1.396461591085734,
          -1.5717216406976025,
          0.2961815196394158,
          -1.4189456106083094,
          -1.604582899999828,
          0.10016699046824706,
          -0.25727126860858973,
          0.624794112661669,
          -0.7761332575910947,
          -1.3238209126281835,
          -1.2373439144644325,
          -0.6954213926382606,
          0.31924205248308274,
          -1.6714584452464616,
          -0.28033180145225667,
          -1.2776998469408496,
          -1.1508669163006817,
          -1.4189456106083094,
          0.3480677185376664,
          0.5094914484433344,
          -0.10161267191383809,
          -0.4417555313579247,
          -0.8972010550203459,
          0.4806657823887508,
          -0.6723608597945937,
          -0.20538506971033918,
          -0.2860969346631734,
          0.5671427805525017,
          -1.3584117118936838,
          -0.47058119741250837,
          0.39418878422499987,
          -0.36680879961600726,
          0.8726948407310879,
          0.8150435086219207,
          2.0430168825471826,
          -0.10161267191383809,
          -0.8222543232784284,
          -1.2200485148316824,
          0.6593849119271693,
          -1.2949952465735999,
          1.016823171004006,
          -0.730012191903761,
          1.3973219629245095,
          -0.7703681243801781,
          -0.5858838616308429,
          -0.2630364018195065,
          0.8150435086219207,
          2.7521282674899394,
          1.8181766873214307,
          1.1378909684332574,
          -1.3641768451046006,
          -0.914496454653096,
          -0.8049589236456782,
          0.10016699046824706,
          1.4146173625572598,
          -0.6147095276854265,
          0.39418878422499987,
          -0.11890807154658828,
          1.3166100979716753,
          2.4869321397877706,
          -0.7530727247474278,
          1.4376778954009266,
          0.019455125515412876,
          0.45760524954508386,
          1.3857916965026762,
          1.5472154264083444,
          2.1467892803436834,
          0.2788861200066656,
          0.30194665285033256,
          -0.4071647320924244,
          -0.3552785331941738,
          0.8381040414655876,
          -0.19961993649942247,
          0.08287159083549689,
          0.17511372221016452,
          0.7689224429345869,
          0.4633703827560006,
          0.5844381801852518,
          -0.8395497229111786,
          -0.11314293833567154,
          -1.208518248409849,
          -0.29762720108500684,
          1.149421234855091,
          -0.42446013172517455,
          2.775188800333606,
          -1.1162761170351814,
          -0.11314293833567154,
          2.066077415390849,
          -0.01513567375008717,
          1.8066464208995971,
          -1.0528596517150974,
          0.054045924780913246,
          0.054045924780913246,
          2.8847263313410245,
          1.852767486586931,
          -0.4071647320924244,
          -0.5974141280526764,
          -0.7127167922710108,
          0.9476415724730054,
          -0.5224673963107589,
          -0.9548523871295131,
          -1.185457715566182,
          -0.8856707885985124,
          -0.9721477867622633,
          -0.4071647320924244,
          0.6651500451380861,
          1.2935495651280084,
          -0.9894431863950134,
          -0.42446013172517455,
          0.7285665104581701,
          0.250060453952082,
          -0.34374826677234066,
          2.6368256032716055,
          -0.5858838616308429,
          -0.4648160642015916,
          2.10066821465635,
          -0.21115020292125591,
          -1.7827255162171547,
          -0.5974141280526764,
          -1.3295860458391002,
          0.4864309155996675,
          -0.0209008069610039,
          -0.37833906603784073,
          -1.0125037192386803,
          0.7573921765127534,
          -0.0843172722810879,
          -0.7761332575910947,
          0.47490064917783403,
          -0.0209008069610039,
          -0.2457410021867563,
          0.7170362440363366,
          1.6163970249393451,
          -1.2719347137299328,
          -1.6351381060176864,
          -1.185457715566182,
          0.6305592458725857,
          -0.055491606226504266,
          0.04828079156999652,
          1.282019298706175,
          -0.251506135397673,
          -0.3956344656705909,
          -0.13620347117933845,
          -0.7184819254819275,
          -0.43599039814700796,
          -0.25727126860858973,
          0.5383171144979181,
          -0.43022526493609126,
          1.322375231182592,
          0.2961815196394158,
          2.348568942725769,
          -0.499406863467092,
          0.19240912184291473,
          -0.6320049273181766,
          0.15205318936649762,
          -0.6665957265836769,
          -0.49364173025617525,
          -0.38410419924875744,
          0.4287795834905002,
          -0.5051719966780087,
          -1.266169580519016,
          -1.64320929251297,
          -0.6781259930055104,
          0.07710645762458015,
          2.561878871529688,
          -1.1220412502460981,
          -1.0067385860277636,
          -1.4616075963690929,
          0.04828079156999652,
          -0.64353519374001,
          -0.10161267191383809,
          -0.8626102557548455,
          -0.43599039814700796,
          -1.352646578682767,
          0.21546965468658164,
          1.04564883705859,
          0.5959684466070854,
          -0.6262397941072598,
          -0.6320049273181766,
          0.6420895122944191,
          1.8470023533760143,
          -0.9260267210749296,
          0.624794112661669,
          -1.0989807174024313,
          0.05981105799182997,
          -0.7011865258491773,
          -0.17655940365575556,
          -0.874140522176679,
          -0.8049589236456782,
          -0.0843172722810879,
          0.25582558716299875,
          -0.730012191903761,
          -0.2745666682413399,
          2.2563268113511015,
          0.6305592458725857,
          1.5645108260410947,
          0.5440822477088348,
          -0.3552785331941738,
          -1.7095083244385123,
          0.8381040414655876,
          0.07710645762458015,
          -1.801173942492088,
          0.19817425505383143,
          0.14052292294466417,
          0.3480677185376664,
          0.3480677185376664,
          3.1383921926213603,
          -0.03243107338283736,
          -1.0355642520823471,
          1.5645108260410947,
          -0.14773373760117192,
          0.6420895122944191,
          0.04828079156999652,
          -0.13043833796842172,
          1.1551863680660077,
          2.267857077772935,
          -0.37257393282692397,
          -1.8005974291709963,
          -0.2688015350304232,
          -1.1508669163006817,
          0.13475778973374744,
          0.8208086418328374,
          0.49219604881058426,
          2.9942638623484417,
          -0.0209008069610039,
          -0.7242470586928442,
          -0.026665940171920626,
          0.999527771371256,
          -0.21115020292125591,
          0.18087885542108126,
          -1.0125037192386803,
          -0.9721477867622633,
          -1.1566320495115985,
          1.0398837038476731,
          -1.4806325359651182,
          -1.7919497293546214,
          0.3365374521158329,
          -0.29186206787409014,
          -0.07278700585925445,
          2.509992672631437,
          -0.5282325295216757,
          0.6766803115599196,
          -0.7934286572238449,
          0.6939757111926698,
          -0.23997586897583956,
          -0.22268046934308938,
          1.2935495651280084,
          0.6536197787162527,
          0.03675052514816306,
          2.925082263817441,
          0.5556125141306683,
          3.461239652432696,
          -0.3264528671395905,
          0.13475778973374744,
          -0.7588378579583446,
          -1.1047458506133478,
          0.10016699046824706,
          -0.026665940171920626,
          2.094903081445433,
          0.3999539174359166,
          -0.5685884619980928,
          0.20393938826474817,
          1.2416633662297585,
          0.3480677185376664,
          1.7144042895249296,
          0.23853018753024854,
          2.7002420685916895,
          -0.2630364018195065,
          0.186643988631998,
          -0.17079427044483883,
          -0.3091574675068403,
          0.24429532074116528,
          -0.7357773251146776,
          0.4403098499123337,
          0.45760524954508386,
          0.6824454447708362,
          -0.937556987496763,
          0.2788861200066656,
          0.3999539174359166
         ],
         "yaxis": "y"
        }
       ],
       "layout": {
        "coloraxis": {
         "colorbar": {
          "title": {
           "text": "color"
          }
         },
         "colorscale": [
          [
           0,
           "#0d0887"
          ],
          [
           0.1111111111111111,
           "#46039f"
          ],
          [
           0.2222222222222222,
           "#7201a8"
          ],
          [
           0.3333333333333333,
           "#9c179e"
          ],
          [
           0.4444444444444444,
           "#bd3786"
          ],
          [
           0.5555555555555556,
           "#d8576b"
          ],
          [
           0.6666666666666666,
           "#ed7953"
          ],
          [
           0.7777777777777778,
           "#fb9f3a"
          ],
          [
           0.8888888888888888,
           "#fdca26"
          ],
          [
           1,
           "#f0f921"
          ]
         ]
        },
        "legend": {
         "tracegroupgap": 0
        },
        "margin": {
         "t": 60
        },
        "template": {
         "data": {
          "bar": [
           {
            "error_x": {
             "color": "#2a3f5f"
            },
            "error_y": {
             "color": "#2a3f5f"
            },
            "marker": {
             "line": {
              "color": "#E5ECF6",
              "width": 0.5
             },
             "pattern": {
              "fillmode": "overlay",
              "size": 10,
              "solidity": 0.2
             }
            },
            "type": "bar"
           }
          ],
          "barpolar": [
           {
            "marker": {
             "line": {
              "color": "#E5ECF6",
              "width": 0.5
             },
             "pattern": {
              "fillmode": "overlay",
              "size": 10,
              "solidity": 0.2
             }
            },
            "type": "barpolar"
           }
          ],
          "carpet": [
           {
            "aaxis": {
             "endlinecolor": "#2a3f5f",
             "gridcolor": "white",
             "linecolor": "white",
             "minorgridcolor": "white",
             "startlinecolor": "#2a3f5f"
            },
            "baxis": {
             "endlinecolor": "#2a3f5f",
             "gridcolor": "white",
             "linecolor": "white",
             "minorgridcolor": "white",
             "startlinecolor": "#2a3f5f"
            },
            "type": "carpet"
           }
          ],
          "choropleth": [
           {
            "colorbar": {
             "outlinewidth": 0,
             "ticks": ""
            },
            "type": "choropleth"
           }
          ],
          "contour": [
           {
            "colorbar": {
             "outlinewidth": 0,
             "ticks": ""
            },
            "colorscale": [
             [
              0,
              "#0d0887"
             ],
             [
              0.1111111111111111,
              "#46039f"
             ],
             [
              0.2222222222222222,
              "#7201a8"
             ],
             [
              0.3333333333333333,
              "#9c179e"
             ],
             [
              0.4444444444444444,
              "#bd3786"
             ],
             [
              0.5555555555555556,
              "#d8576b"
             ],
             [
              0.6666666666666666,
              "#ed7953"
             ],
             [
              0.7777777777777778,
              "#fb9f3a"
             ],
             [
              0.8888888888888888,
              "#fdca26"
             ],
             [
              1,
              "#f0f921"
             ]
            ],
            "type": "contour"
           }
          ],
          "contourcarpet": [
           {
            "colorbar": {
             "outlinewidth": 0,
             "ticks": ""
            },
            "type": "contourcarpet"
           }
          ],
          "heatmap": [
           {
            "colorbar": {
             "outlinewidth": 0,
             "ticks": ""
            },
            "colorscale": [
             [
              0,
              "#0d0887"
             ],
             [
              0.1111111111111111,
              "#46039f"
             ],
             [
              0.2222222222222222,
              "#7201a8"
             ],
             [
              0.3333333333333333,
              "#9c179e"
             ],
             [
              0.4444444444444444,
              "#bd3786"
             ],
             [
              0.5555555555555556,
              "#d8576b"
             ],
             [
              0.6666666666666666,
              "#ed7953"
             ],
             [
              0.7777777777777778,
              "#fb9f3a"
             ],
             [
              0.8888888888888888,
              "#fdca26"
             ],
             [
              1,
              "#f0f921"
             ]
            ],
            "type": "heatmap"
           }
          ],
          "heatmapgl": [
           {
            "colorbar": {
             "outlinewidth": 0,
             "ticks": ""
            },
            "colorscale": [
             [
              0,
              "#0d0887"
             ],
             [
              0.1111111111111111,
              "#46039f"
             ],
             [
              0.2222222222222222,
              "#7201a8"
             ],
             [
              0.3333333333333333,
              "#9c179e"
             ],
             [
              0.4444444444444444,
              "#bd3786"
             ],
             [
              0.5555555555555556,
              "#d8576b"
             ],
             [
              0.6666666666666666,
              "#ed7953"
             ],
             [
              0.7777777777777778,
              "#fb9f3a"
             ],
             [
              0.8888888888888888,
              "#fdca26"
             ],
             [
              1,
              "#f0f921"
             ]
            ],
            "type": "heatmapgl"
           }
          ],
          "histogram": [
           {
            "marker": {
             "pattern": {
              "fillmode": "overlay",
              "size": 10,
              "solidity": 0.2
             }
            },
            "type": "histogram"
           }
          ],
          "histogram2d": [
           {
            "colorbar": {
             "outlinewidth": 0,
             "ticks": ""
            },
            "colorscale": [
             [
              0,
              "#0d0887"
             ],
             [
              0.1111111111111111,
              "#46039f"
             ],
             [
              0.2222222222222222,
              "#7201a8"
             ],
             [
              0.3333333333333333,
              "#9c179e"
             ],
             [
              0.4444444444444444,
              "#bd3786"
             ],
             [
              0.5555555555555556,
              "#d8576b"
             ],
             [
              0.6666666666666666,
              "#ed7953"
             ],
             [
              0.7777777777777778,
              "#fb9f3a"
             ],
             [
              0.8888888888888888,
              "#fdca26"
             ],
             [
              1,
              "#f0f921"
             ]
            ],
            "type": "histogram2d"
           }
          ],
          "histogram2dcontour": [
           {
            "colorbar": {
             "outlinewidth": 0,
             "ticks": ""
            },
            "colorscale": [
             [
              0,
              "#0d0887"
             ],
             [
              0.1111111111111111,
              "#46039f"
             ],
             [
              0.2222222222222222,
              "#7201a8"
             ],
             [
              0.3333333333333333,
              "#9c179e"
             ],
             [
              0.4444444444444444,
              "#bd3786"
             ],
             [
              0.5555555555555556,
              "#d8576b"
             ],
             [
              0.6666666666666666,
              "#ed7953"
             ],
             [
              0.7777777777777778,
              "#fb9f3a"
             ],
             [
              0.8888888888888888,
              "#fdca26"
             ],
             [
              1,
              "#f0f921"
             ]
            ],
            "type": "histogram2dcontour"
           }
          ],
          "mesh3d": [
           {
            "colorbar": {
             "outlinewidth": 0,
             "ticks": ""
            },
            "type": "mesh3d"
           }
          ],
          "parcoords": [
           {
            "line": {
             "colorbar": {
              "outlinewidth": 0,
              "ticks": ""
             }
            },
            "type": "parcoords"
           }
          ],
          "pie": [
           {
            "automargin": true,
            "type": "pie"
           }
          ],
          "scatter": [
           {
            "fillpattern": {
             "fillmode": "overlay",
             "size": 10,
             "solidity": 0.2
            },
            "type": "scatter"
           }
          ],
          "scatter3d": [
           {
            "line": {
             "colorbar": {
              "outlinewidth": 0,
              "ticks": ""
             }
            },
            "marker": {
             "colorbar": {
              "outlinewidth": 0,
              "ticks": ""
             }
            },
            "type": "scatter3d"
           }
          ],
          "scattercarpet": [
           {
            "marker": {
             "colorbar": {
              "outlinewidth": 0,
              "ticks": ""
             }
            },
            "type": "scattercarpet"
           }
          ],
          "scattergeo": [
           {
            "marker": {
             "colorbar": {
              "outlinewidth": 0,
              "ticks": ""
             }
            },
            "type": "scattergeo"
           }
          ],
          "scattergl": [
           {
            "marker": {
             "colorbar": {
              "outlinewidth": 0,
              "ticks": ""
             }
            },
            "type": "scattergl"
           }
          ],
          "scattermapbox": [
           {
            "marker": {
             "colorbar": {
              "outlinewidth": 0,
              "ticks": ""
             }
            },
            "type": "scattermapbox"
           }
          ],
          "scatterpolar": [
           {
            "marker": {
             "colorbar": {
              "outlinewidth": 0,
              "ticks": ""
             }
            },
            "type": "scatterpolar"
           }
          ],
          "scatterpolargl": [
           {
            "marker": {
             "colorbar": {
              "outlinewidth": 0,
              "ticks": ""
             }
            },
            "type": "scatterpolargl"
           }
          ],
          "scatterternary": [
           {
            "marker": {
             "colorbar": {
              "outlinewidth": 0,
              "ticks": ""
             }
            },
            "type": "scatterternary"
           }
          ],
          "surface": [
           {
            "colorbar": {
             "outlinewidth": 0,
             "ticks": ""
            },
            "colorscale": [
             [
              0,
              "#0d0887"
             ],
             [
              0.1111111111111111,
              "#46039f"
             ],
             [
              0.2222222222222222,
              "#7201a8"
             ],
             [
              0.3333333333333333,
              "#9c179e"
             ],
             [
              0.4444444444444444,
              "#bd3786"
             ],
             [
              0.5555555555555556,
              "#d8576b"
             ],
             [
              0.6666666666666666,
              "#ed7953"
             ],
             [
              0.7777777777777778,
              "#fb9f3a"
             ],
             [
              0.8888888888888888,
              "#fdca26"
             ],
             [
              1,
              "#f0f921"
             ]
            ],
            "type": "surface"
           }
          ],
          "table": [
           {
            "cells": {
             "fill": {
              "color": "#EBF0F8"
             },
             "line": {
              "color": "white"
             }
            },
            "header": {
             "fill": {
              "color": "#C8D4E3"
             },
             "line": {
              "color": "white"
             }
            },
            "type": "table"
           }
          ]
         },
         "layout": {
          "annotationdefaults": {
           "arrowcolor": "#2a3f5f",
           "arrowhead": 0,
           "arrowwidth": 1
          },
          "autotypenumbers": "strict",
          "coloraxis": {
           "colorbar": {
            "outlinewidth": 0,
            "ticks": ""
           }
          },
          "colorscale": {
           "diverging": [
            [
             0,
             "#8e0152"
            ],
            [
             0.1,
             "#c51b7d"
            ],
            [
             0.2,
             "#de77ae"
            ],
            [
             0.3,
             "#f1b6da"
            ],
            [
             0.4,
             "#fde0ef"
            ],
            [
             0.5,
             "#f7f7f7"
            ],
            [
             0.6,
             "#e6f5d0"
            ],
            [
             0.7,
             "#b8e186"
            ],
            [
             0.8,
             "#7fbc41"
            ],
            [
             0.9,
             "#4d9221"
            ],
            [
             1,
             "#276419"
            ]
           ],
           "sequential": [
            [
             0,
             "#0d0887"
            ],
            [
             0.1111111111111111,
             "#46039f"
            ],
            [
             0.2222222222222222,
             "#7201a8"
            ],
            [
             0.3333333333333333,
             "#9c179e"
            ],
            [
             0.4444444444444444,
             "#bd3786"
            ],
            [
             0.5555555555555556,
             "#d8576b"
            ],
            [
             0.6666666666666666,
             "#ed7953"
            ],
            [
             0.7777777777777778,
             "#fb9f3a"
            ],
            [
             0.8888888888888888,
             "#fdca26"
            ],
            [
             1,
             "#f0f921"
            ]
           ],
           "sequentialminus": [
            [
             0,
             "#0d0887"
            ],
            [
             0.1111111111111111,
             "#46039f"
            ],
            [
             0.2222222222222222,
             "#7201a8"
            ],
            [
             0.3333333333333333,
             "#9c179e"
            ],
            [
             0.4444444444444444,
             "#bd3786"
            ],
            [
             0.5555555555555556,
             "#d8576b"
            ],
            [
             0.6666666666666666,
             "#ed7953"
            ],
            [
             0.7777777777777778,
             "#fb9f3a"
            ],
            [
             0.8888888888888888,
             "#fdca26"
            ],
            [
             1,
             "#f0f921"
            ]
           ]
          },
          "colorway": [
           "#636efa",
           "#EF553B",
           "#00cc96",
           "#ab63fa",
           "#FFA15A",
           "#19d3f3",
           "#FF6692",
           "#B6E880",
           "#FF97FF",
           "#FECB52"
          ],
          "font": {
           "color": "#2a3f5f"
          },
          "geo": {
           "bgcolor": "white",
           "lakecolor": "white",
           "landcolor": "#E5ECF6",
           "showlakes": true,
           "showland": true,
           "subunitcolor": "white"
          },
          "hoverlabel": {
           "align": "left"
          },
          "hovermode": "closest",
          "mapbox": {
           "style": "light"
          },
          "paper_bgcolor": "white",
          "plot_bgcolor": "#E5ECF6",
          "polar": {
           "angularaxis": {
            "gridcolor": "white",
            "linecolor": "white",
            "ticks": ""
           },
           "bgcolor": "#E5ECF6",
           "radialaxis": {
            "gridcolor": "white",
            "linecolor": "white",
            "ticks": ""
           }
          },
          "scene": {
           "xaxis": {
            "backgroundcolor": "#E5ECF6",
            "gridcolor": "white",
            "gridwidth": 2,
            "linecolor": "white",
            "showbackground": true,
            "ticks": "",
            "zerolinecolor": "white"
           },
           "yaxis": {
            "backgroundcolor": "#E5ECF6",
            "gridcolor": "white",
            "gridwidth": 2,
            "linecolor": "white",
            "showbackground": true,
            "ticks": "",
            "zerolinecolor": "white"
           },
           "zaxis": {
            "backgroundcolor": "#E5ECF6",
            "gridcolor": "white",
            "gridwidth": 2,
            "linecolor": "white",
            "showbackground": true,
            "ticks": "",
            "zerolinecolor": "white"
           }
          },
          "shapedefaults": {
           "line": {
            "color": "#2a3f5f"
           }
          },
          "ternary": {
           "aaxis": {
            "gridcolor": "white",
            "linecolor": "white",
            "ticks": ""
           },
           "baxis": {
            "gridcolor": "white",
            "linecolor": "white",
            "ticks": ""
           },
           "bgcolor": "#E5ECF6",
           "caxis": {
            "gridcolor": "white",
            "linecolor": "white",
            "ticks": ""
           }
          },
          "title": {
           "x": 0.05
          },
          "xaxis": {
           "automargin": true,
           "gridcolor": "white",
           "linecolor": "white",
           "ticks": "",
           "title": {
            "standoff": 15
           },
           "zerolinecolor": "white",
           "zerolinewidth": 2
          },
          "yaxis": {
           "automargin": true,
           "gridcolor": "white",
           "linecolor": "white",
           "ticks": "",
           "title": {
            "standoff": 15
           },
           "zerolinecolor": "white",
           "zerolinewidth": 2
          }
         }
        },
        "xaxis": {
         "anchor": "y",
         "domain": [
          0,
          1
         ],
         "title": {
          "text": "count"
         }
        },
        "yaxis": {
         "anchor": "x",
         "domain": [
          0,
          1
         ],
         "title": {
          "text": "energy"
         }
        }
       }
      }
     },
     "metadata": {},
     "output_type": "display_data"
    }
   ],
   "source": [
    "cluster = KMeans(n_clusters=cluster_df.shape[0] // 10).fit_predict(cluster_df)\n",
    "cluster_w_labels = cluster_df.reset_index()\n",
    "cluster_w_labels['color'] = cluster\n",
    "px.scatter(cluster_w_labels, x='count', y='energy', color='color', hover_data='trackName')"
   ]
  },
  {
   "cell_type": "code",
   "execution_count": 25,
   "metadata": {},
   "outputs": [
    {
     "data": {
      "application/vnd.plotly.v1+json": {
       "config": {
        "plotlyServerURL": "https://plot.ly"
       },
       "data": [
        {
         "customdata": [
          [
           "If By Chance"
          ],
          [
           "please"
          ],
          [
           "The Sun Will Come Up, The Seasons Will Change"
          ],
          [
           "Rain"
          ],
          [
           "Dear August"
          ],
          [
           "At My Funeral"
          ],
          [
           "buttercup"
          ],
          [
           "Reasons to Leave"
          ],
          [
           "Tall Paul"
          ],
          [
           "A Thousand Years"
          ],
          [
           "the author"
          ],
          [
           "Yellow Lights"
          ],
          [
           "Favourite Ex"
          ],
          [
           "Emergency Contact"
          ],
          [
           "Empath"
          ],
          [
           "Hold It Together"
          ],
          [
           "New Rules"
          ],
          [
           "Letting Go for a Little While"
          ],
          [
           "Headlights"
          ],
          [
           "Riptide"
          ],
          [
           "Crazier Things (with Noah Kahan)"
          ],
          [
           "Headstones and Land Mines"
          ],
          [
           "Love Is Letting Go (feat. Diane Keaton)"
          ],
          [
           "We Gotta Go"
          ],
          [
           "Falling Apart"
          ],
          [
           "My Life"
          ],
          [
           "Portland, Maine"
          ],
          [
           "Anyway"
          ],
          [
           "Reruns"
          ],
          [
           "Be"
          ],
          [
           "pinball"
          ],
          [
           "stuck in my head"
          ],
          [
           "Where Do I Go?"
          ],
          [
           "Hold Me"
          ],
          [
           "Brooklyn"
          ],
          [
           "Still"
          ],
          [
           "Little Do You Know"
          ],
          [
           "Coffee Stained Smile"
          ],
          [
           "Memory Lane"
          ],
          [
           "Alpine Green"
          ],
          [
           "human"
          ],
          [
           "Glad It's You"
          ],
          [
           "So It Is"
          ],
          [
           "Home for the Summer"
          ],
          [
           "Never Alone"
          ],
          [
           "Older Guys"
          ],
          [
           "Enough to Know You"
          ],
          [
           "Used To"
          ],
          [
           "nobody else"
          ],
          [
           "fly when i fall"
          ],
          [
           "Radioactive"
          ],
          [
           "Botl"
          ],
          [
           "Fall Apart Too"
          ],
          [
           "Another's Arms"
          ],
          [
           "How This Feels"
          ],
          [
           "Inside Out"
          ],
          [
           "Goodbye"
          ],
          [
           "Wrecking Ball"
          ],
          [
           "I Will Follow You into the Dark"
          ],
          [
           "Halloween"
          ],
          [
           "Oh Love"
          ],
          [
           "Crocodiles"
          ],
          [
           "When You Lose Someone"
          ],
          [
           "Better Place"
          ],
          [
           "Unknown Track"
          ],
          [
           "Falling"
          ],
          [
           "17"
          ],
          [
           "Wild Enough"
          ],
          [
           "Talk To Me"
          ],
          [
           "The Night We Met"
          ],
          [
           "Better On Your Own"
          ],
          [
           "I Wouldn't Change a Thing"
          ],
          [
           "Chosen Last"
          ],
          [
           "broken"
          ],
          [
           "Safe Places (Acoustic)"
          ],
          [
           "I Believe In A Thing Called Love"
          ],
          [
           "Balloon Boy"
          ],
          [
           "Home"
          ],
          [
           "The Only Exception"
          ],
          [
           "Secret"
          ],
          [
           "Make Us Never Happen"
          ],
          [
           "Codependent"
          ],
          [
           "The Art Of Getting By"
          ],
          [
           "Tuesdays"
          ],
          [
           "Out Of Love with You"
          ],
          [
           "Medicine"
          ],
          [
           "Never the 1"
          ],
          [
           "Let Her Go"
          ],
          [
           "Alignments"
          ],
          [
           "All of Me"
          ],
          [
           "Second Chances"
          ],
          [
           "Hopelessness Has Done Nothing for Me"
          ],
          [
           "Mother May I"
          ],
          [
           "hideous"
          ],
          [
           "Funeral"
          ],
          [
           "Just Because"
          ],
          [
           "Together Forever"
          ],
          [
           "Flowers"
          ],
          [
           "Bite The Hand"
          ],
          [
           "Hazel Eyes"
          ],
          [
           "Devil Swear I've Seen"
          ],
          [
           "jackie"
          ],
          [
           "Scared to Be Happy"
          ],
          [
           "can I call you back?"
          ],
          [
           "Even When You're Home"
          ],
          [
           "familiar stranger"
          ],
          [
           "Nothing's the Same"
          ],
          [
           "Where Are You?"
          ],
          [
           "for life"
          ],
          [
           "How"
          ],
          [
           "Carolina"
          ],
          [
           "Flight Risk"
          ],
          [
           "Lego Bricks"
          ],
          [
           "Wish It Would Rain"
          ],
          [
           "blue bird"
          ],
          [
           "1953"
          ],
          [
           "Mountaineer"
          ],
          [
           "Knock The Wind"
          ],
          [
           "Finish Line"
          ],
          [
           "I Don't Need You To Survive"
          ],
          [
           "ocean eyes"
          ],
          [
           "How Do I Tell You?"
          ],
          [
           "Need You Now - Acoustic"
          ],
          [
           "Sweet Connection"
          ],
          [
           "the first one"
          ],
          [
           "so much more than me"
          ],
          [
           "Gets Better"
          ],
          [
           "Hey There Delilah"
          ],
          [
           "Harsh"
          ],
          [
           "Always Almost"
          ],
          [
           "Rhythm Inside - Acoustic"
          ],
          [
           "Mirage"
          ],
          [
           "Are You Alright?"
          ],
          [
           "hit the dirt"
          ],
          [
           "Forget I Exist"
          ],
          [
           "Crumble"
          ],
          [
           "Meant To Be"
          ],
          [
           "wait it out"
          ],
          [
           "Forgetting Delaney"
          ],
          [
           "Soul Mate"
          ],
          [
           "Twenty Two"
          ],
          [
           "Forever Love"
          ],
          [
           "The Moon Song"
          ],
          [
           "Say You Won't Let Go"
          ],
          [
           "Nothing / Sad N Stuff"
          ],
          [
           "Boys Like You"
          ],
          [
           "You Are Gold"
          ],
          [
           "Anchor"
          ],
          [
           "Polaroid"
          ],
          [
           "State Lines"
          ],
          [
           "A Little More"
          ],
          [
           "Mr. Brightside"
          ],
          [
           "Shoot"
          ],
          [
           "Doomsday"
          ],
          [
           "Stormy Weather"
          ],
          [
           "In a Stranger's Arms"
          ],
          [
           "my fault"
          ],
          [
           "Crave"
          ],
          [
           "I Knew"
          ],
          [
           "Changing Tides"
          ],
          [
           "idk"
          ],
          [
           "ceilings - Spotify Singles"
          ],
          [
           "Giving Up Ground"
          ],
          [
           "Slow Fade"
          ],
          [
           "Winter Song"
          ],
          [
           "Opaline"
          ],
          [
           "No More Bad Days"
          ],
          [
           "Break With Me"
          ],
          [
           "forget me // so we can meet again"
          ],
          [
           "gold star"
          ],
          [
           "I Don't Want to Lose You"
          ],
          [
           "I Should Be a Bird"
          ],
          [
           "The Human Condition"
          ],
          [
           "denial"
          ],
          [
           "Walk Above the City"
          ],
          [
           "Seventeen"
          ],
          [
           "Blue"
          ],
          [
           "Dial Drunk (with Post Malone)"
          ],
          [
           "getting older"
          ],
          [
           "Renee's Song"
          ],
          [
           "2AM"
          ],
          [
           "By My Side"
          ],
          [
           "Soft Spot"
          ],
          [
           "16"
          ],
          [
           "Desperate"
          ],
          [
           "Older Than I Am"
          ],
          [
           "Story of My Life"
          ],
          [
           "Skyscraper"
          ],
          [
           "Fish"
          ],
          [
           "That's Us"
          ],
          [
           "Forever Ago"
          ],
          [
           "Through to You"
          ],
          [
           "Simple Things (feat. Christina Perri)"
          ],
          [
           "all i need (the distance song)"
          ],
          [
           "Slow"
          ],
          [
           "Paint"
          ],
          [
           "Break up Slow Dance"
          ],
          [
           "Good"
          ],
          [
           "Free"
          ],
          [
           "Is It Really Me You're Missing"
          ],
          [
           "everything everywhere always"
          ],
          [
           "Say Less"
          ],
          [
           "Whatever Makes You Want to Die Less"
          ],
          [
           "Part of Me"
          ],
          [
           "Meant To Be"
          ],
          [
           "Faith You Might"
          ],
          [
           "The Former"
          ],
          [
           "Hallelujah I Love Her So"
          ],
          [
           "Air So Sweet"
          ],
          [
           "Drop Dead"
          ],
          [
           "nobody likes a secret"
          ],
          [
           "putting a spin on sweater weather"
          ],
          [
           "i don't want to watch the world end with someone else"
          ],
          [
           "A Little Bit Yours"
          ],
          [
           "is your bedroom ceiling bored? (feat. Cavetown)"
          ],
          [
           "Let Light Be Light"
          ],
          [
           "swan song"
          ],
          [
           "sometimes"
          ],
          [
           "always, i'll care"
          ],
          [
           "Heavy"
          ],
          [
           "In What World"
          ],
          [
           "all my ghosts"
          ],
          [
           "Ordinary People"
          ],
          [
           "mountain"
          ],
          [
           "Stupid"
          ],
          [
           "Rockland"
          ],
          [
           "what if it's not"
          ],
          [
           "Thinking 'Bout Love"
          ],
          [
           "Stupid Deep - Acoustic"
          ],
          [
           "I don't mind if you don't mind (draft)"
          ],
          [
           "Heather"
          ],
          [
           "Where's My Love - Acoustic"
          ],
          [
           "called you again"
          ],
          [
           "i don't miss u"
          ],
          [
           "Moves"
          ],
          [
           "Minute Of Your Love"
          ],
          [
           "When It Kills Me"
          ],
          [
           "Swan Upon Leda"
          ],
          [
           "When All My Friends Move Away"
          ],
          [
           "drunk text me"
          ],
          [
           "If I Could Dance"
          ],
          [
           "Breakeven"
          ],
          [
           "Pass Me By"
          ],
          [
           "Alright"
          ],
          [
           "Luck"
          ],
          [
           "Haunt You"
          ],
          [
           "Points of View"
          ],
          [
           "All Too Well (Taylor's Version)"
          ],
          [
           "Wonder"
          ],
          [
           "I know it won't work"
          ],
          [
           "Colorado"
          ],
          [
           "Never Stop Loving You"
          ],
          [
           "Universe"
          ],
          [
           "Feels Like"
          ],
          [
           "Safe And Sound"
          ],
          [
           "Blue Spirits"
          ],
          [
           "Are You Listening"
          ],
          [
           "Nobody"
          ],
          [
           "OK"
          ],
          [
           "this is how you fall in love"
          ],
          [
           "Nail In The Coffin"
          ],
          [
           "Good as Gold"
          ],
          [
           "Like You Did Before"
          ],
          [
           "Black Converse"
          ],
          [
           "Align"
          ],
          [
           "somebody loves you"
          ],
          [
           "You Belong With Me (Taylor’s Version)"
          ],
          [
           "July (feat. Leon Bridges)"
          ],
          [
           "Dear Future Me"
          ],
          [
           "Gaol"
          ],
          [
           "Olive Branch"
          ],
          [
           "The Best You Had"
          ],
          [
           "Slow Motion"
          ],
          [
           "Half a Heart"
          ],
          [
           "reckless driving"
          ],
          [
           "They Just Exist"
          ],
          [
           "Only a Matter of Time"
          ],
          [
           "La Reyna"
          ],
          [
           "Frisky"
          ],
          [
           "I Was In Heaven"
          ],
          [
           "Too Much I Miss You"
          ],
          [
           "A Little Bit Longer"
          ],
          [
           "Cinematic"
          ],
          [
           "at least i'm pretty"
          ],
          [
           "Maniac"
          ],
          [
           "Brooklyn - Stripped"
          ],
          [
           "Mama Said"
          ],
          [
           "Lights"
          ],
          [
           "It's Always Been You"
          ],
          [
           "Rome"
          ],
          [
           "Seahorses Of Old Mexico"
          ],
          [
           "If I Can't Have You"
          ],
          [
           "Same Boat"
          ],
          [
           "better off"
          ],
          [
           "Die Young"
          ],
          [
           "Begging for More"
          ],
          [
           "Shameful Company - Live from Athens Georgia"
          ],
          [
           "All Good"
          ],
          [
           "Place We Were Made"
          ],
          [
           "Paper Planes"
          ],
          [
           "Infinitely Falling"
          ],
          [
           "She Will Be Loved - Radio Mix"
          ],
          [
           "Love Me Nicely"
          ],
          [
           "Old Love - Acoustic"
          ],
          [
           "In Your Circle"
          ],
          [
           "self sabotage"
          ],
          [
           "hate to be lame"
          ],
          [
           "Fall Again"
          ],
          [
           "Bees"
          ],
          [
           "Butterfly Rain"
          ],
          [
           "A Quiet Way"
          ],
          [
           "Breathe"
          ],
          [
           "Steady Love"
          ],
          [
           "Being Alone"
          ],
          [
           "Zach's Ballad"
          ],
          [
           "Afterglow"
          ],
          [
           "Wii Date"
          ],
          [
           "Happier"
          ],
          [
           "Close to Her"
          ],
          [
           "Save Us"
          ],
          [
           "champagne problems"
          ],
          [
           "The Way I Love You"
          ],
          [
           "Happily Ever After"
          ],
          [
           "Drove To The Ocean"
          ],
          [
           "Tin Lover"
          ],
          [
           "When You're Gone"
          ],
          [
           "what if we met on the moon?"
          ],
          [
           "Just Wanna Be Your Friend"
          ],
          [
           "I'm with You"
          ],
          [
           "Vanilla (Stairwell Version)"
          ],
          [
           "I Just Really Hope You Exist"
          ],
          [
           "justacow (demo3)"
          ],
          [
           "Tired"
          ],
          [
           "Tobacco In My Sheets"
          ],
          [
           "Call It a Night"
          ],
          [
           "happy for you"
          ],
          [
           "Molly"
          ],
          [
           "Worst of You"
          ],
          [
           "How Can You Not"
          ],
          [
           "Into Yellow - Piano Version"
          ],
          [
           "4 + 20"
          ],
          [
           "Brave Face"
          ],
          [
           "Say Love"
          ],
          [
           "Look Back & Laugh"
          ],
          [
           "Hearts on Fire"
          ],
          [
           "Hurt Again"
          ],
          [
           "Spaceship (Bonus Track)"
          ],
          [
           "To Love Someone Else"
          ],
          [
           "What They'll Say About Us"
          ],
          [
           "What Can I Do"
          ],
          [
           "Megan’s Song"
          ],
          [
           "Asking the Aspens"
          ],
          [
           "Omni"
          ],
          [
           "Live Cinema"
          ],
          [
           "do you wanna leave this city ?"
          ],
          [
           "I Should’ve Danced More"
          ],
          [
           "Clocks"
          ],
          [
           "Crosswords"
          ],
          [
           "Turns Out"
          ],
          [
           "Round & Round"
          ],
          [
           "Superspreader"
          ],
          [
           "Best Part of Me"
          ],
          [
           "Witness - feat. Rajiv Dhall"
          ],
          [
           "Take Me Back"
          ],
          [
           "Bloom - Bonus Track"
          ],
          [
           "Blue Eyed Baby"
          ],
          [
           "we'll be fine"
          ],
          [
           "Idle Sympathy"
          ],
          [
           "Who's She"
          ],
          [
           "pass you by"
          ],
          [
           "warm blood"
          ],
          [
           "To the Mountains"
          ],
          [
           "If I Had Stayed"
          ],
          [
           "Vienna"
          ],
          [
           "Lately I've Been Sad"
          ],
          [
           "Cellophane"
          ],
          [
           "405"
          ],
          [
           "MISC."
          ],
          [
           "As a Child"
          ],
          [
           "Closure"
          ],
          [
           "Clockwork"
          ],
          [
           "Silver & Gold"
          ],
          [
           "Through"
          ],
          [
           "Pictures of You"
          ],
          [
           "snail / alwase"
          ],
          [
           "If I Could"
          ],
          [
           "Fireflies"
          ],
          [
           "Another Round"
          ],
          [
           "erase me"
          ],
          [
           "No Fun"
          ],
          [
           "wish I didn't know you"
          ],
          [
           "Better Now"
          ],
          [
           "Only Know How to Love You - with Annika Bennett"
          ],
          [
           "Say (feat. Jake Meadows) - Acoustic Version"
          ],
          [
           "Stuck With You - Acoustic"
          ],
          [
           "Love Brought Weight"
          ],
          [
           "Same Room"
          ],
          [
           "Pineapple"
          ],
          [
           "got me thinking"
          ],
          [
           "Ant Pile"
          ],
          [
           "Love Is Just a Way to Die"
          ],
          [
           "Run Awhile"
          ],
          [
           "Hailey"
          ],
          [
           "Every Time"
          ],
          [
           "Loving & Losing"
          ],
          [
           "I Think I"
          ],
          [
           "Pieces"
          ],
          [
           "Black Coffee - Unplugged"
          ],
          [
           "the stars"
          ],
          [
           "we fell in love in october"
          ],
          [
           "Still Something"
          ],
          [
           "Nirvana"
          ],
          [
           "Hey, Soul Sister"
          ],
          [
           "What Would I Do Without You"
          ],
          [
           "Standing in the Rain"
          ],
          [
           "Dial Drunk"
          ],
          [
           "glued to the floor"
          ],
          [
           "When You Love Someone"
          ],
          [
           "oh, mexico"
          ],
          [
           "Tell Me That You Love Me"
          ],
          [
           "Red Eye"
          ],
          [
           "Kill Bill"
          ],
          [
           "ilym (feat. ROSIE)"
          ],
          [
           "a message to that girl i fell in love with."
          ],
          [
           "Apart From, a Part Of, You."
          ],
          [
           "Alexandria (Slowed)"
          ],
          [
           "Immune"
          ],
          [
           "What Am I Gonna Do On Sundays?"
          ],
          [
           "what a shame"
          ],
          [
           "DJ Got Us Fallin' In Love (feat. Pitbull)"
          ],
          [
           "Playing God"
          ],
          [
           "In Love Now"
          ],
          [
           "sydney"
          ],
          [
           "Work Off My Hurt"
          ],
          [
           "Witness"
          ],
          [
           "Lovely Days"
          ],
          [
           "Kaleidoscope Tears"
          ],
          [
           "Good Mourning"
          ],
          [
           "Arms"
          ],
          [
           "Älskar"
          ],
          [
           "you were good to me"
          ],
          [
           "Oh Well"
          ],
          [
           "Time After Time - Spotify Singles"
          ],
          [
           "multiverse"
          ],
          [
           "You & I"
          ],
          [
           "Free"
          ],
          [
           "Long Sleeves"
          ],
          [
           "Concrete"
          ],
          [
           "pennies (voice memo)"
          ],
          [
           "Pyjamas (feat. Remi Wolf)"
          ],
          [
           "Fiona"
          ],
          [
           "Somebody Else"
          ],
          [
           "Remember you were the one"
          ],
          [
           "I miss you, I’m sorry"
          ],
          [
           "Chicago"
          ],
          [
           "Somebody"
          ],
          [
           "Mum"
          ],
          [
           "Tonight"
          ],
          [
           "Muffin"
          ],
          [
           "You Can Only Go in Pieces"
          ],
          [
           "November Son"
          ],
          [
           "On God"
          ],
          [
           "break up with a friend"
          ],
          [
           "Jealous of Paris"
          ],
          [
           "Counting Stars"
          ],
          [
           "All I Want"
          ],
          [
           "Things I Say When You Sleep"
          ],
          [
           "Retail Therapy"
          ],
          [
           "Straight into Your Arms - Bonus Track Version"
          ],
          [
           "False Art"
          ],
          [
           "Crashing into You"
          ],
          [
           "A Change Is Gonna Come"
          ],
          [
           "I Melt with You"
          ],
          [
           "Picture Perfect"
          ],
          [
           "Is She Gonna Be There?"
          ],
          [
           "Like A Stone"
          ],
          [
           "fall out of love"
          ],
          [
           "I Like You"
          ],
          [
           "More Like You - Piano Version"
          ],
          [
           "Two Punks In Love"
          ],
          [
           "It Hurts Too Much To Speak"
          ],
          [
           "Rich Boy"
          ],
          [
           "Yours"
          ],
          [
           "ocean"
          ],
          [
           "Crying Over You"
          ]
         ],
         "hovertemplate": "pc1=%{x}<br>pc2=%{y}<br>pc3=%{z}<br>trackName=%{customdata[0]}<br>color=%{marker.color}<extra></extra>",
         "legendgroup": "",
         "marker": {
          "color": [
           6,
           9,
           34,
           8,
           16,
           40,
           3,
           12,
           14,
           2,
           1,
           22,
           22,
           40,
           8,
           3,
           4,
           30,
           38,
           13,
           18,
           26,
           3,
           6,
           12,
           12,
           46,
           6,
           40,
           21,
           3,
           30,
           1,
           20,
           40,
           1,
           16,
           26,
           26,
           35,
           11,
           35,
           8,
           23,
           29,
           6,
           6,
           5,
           30,
           2,
           34,
           30,
           0,
           3,
           8,
           12,
           43,
           11,
           3,
           23,
           12,
           16,
           20,
           30,
           44,
           6,
           0,
           35,
           1,
           7,
           17,
           30,
           43,
           30,
           18,
           10,
           31,
           26,
           38,
           9,
           39,
           22,
           8,
           16,
           7,
           11,
           21,
           33,
           3,
           6,
           38,
           41,
           18,
           43,
           38,
           39,
           12,
           16,
           43,
           41,
           30,
           31,
           43,
           40,
           0,
           23,
           31,
           3,
           12,
           9,
           42,
           35,
           7,
           3,
           30,
           30,
           1,
           12,
           35,
           45,
           30,
           26,
           12,
           26,
           31,
           30,
           23,
           18,
           31,
           22,
           23,
           9,
           32,
           0,
           16,
           1,
           10,
           22,
           12,
           6,
           6,
           33,
           46,
           43,
           46,
           25,
           1,
           46,
           11,
           38,
           16,
           13,
           10,
           7,
           39,
           43,
           21,
           18,
           1,
           0,
           30,
           36,
           12,
           3,
           15,
           38,
           0,
           7,
           8,
           41,
           16,
           16,
           17,
           18,
           15,
           18,
           1,
           27,
           14,
           12,
           33,
           36,
           29,
           4,
           4,
           7,
           13,
           13,
           28,
           8,
           46,
           18,
           27,
           8,
           40,
           7,
           43,
           23,
           35,
           30,
           30,
           12,
           13,
           14,
           45,
           43,
           10,
           1,
           26,
           43,
           9,
           32,
           16,
           18,
           23,
           29,
           36,
           10,
           21,
           23,
           10,
           14,
           1,
           1,
           8,
           30,
           20,
           0,
           38,
           35,
           2,
           18,
           40,
           10,
           43,
           29,
           18,
           6,
           12,
           33,
           0,
           27,
           31,
           45,
           8,
           0,
           1,
           19,
           6,
           0,
           31,
           46,
           38,
           16,
           37,
           0,
           17,
           29,
           8,
           35,
           43,
           11,
           35,
           23,
           33,
           24,
           13,
           21,
           27,
           41,
           2,
           34,
           17,
           13,
           14,
           12,
           3,
           18,
           24,
           6,
           12,
           23,
           3,
           31,
           0,
           35,
           39,
           26,
           30,
           11,
           40,
           4,
           1,
           21,
           4,
           18,
           13,
           1,
           22,
           40,
           27,
           27,
           35,
           30,
           35,
           11,
           45,
           8,
           35,
           5,
           1,
           3,
           43,
           34,
           35,
           7,
           25,
           43,
           38,
           27,
           38,
           12,
           13,
           43,
           42,
           12,
           41,
           39,
           16,
           18,
           8,
           12,
           5,
           7,
           23,
           16,
           31,
           0,
           13,
           8,
           32,
           8,
           17,
           3,
           38,
           0,
           3,
           30,
           35,
           3,
           18,
           30,
           34,
           21,
           23,
           43,
           13,
           12,
           3,
           35,
           23,
           30,
           18,
           18,
           30,
           12,
           8,
           28,
           35,
           16,
           13,
           10,
           29,
           8,
           39,
           7,
           12,
           7,
           7,
           29,
           30,
           13,
           43,
           8,
           35,
           39,
           13,
           35,
           0,
           15,
           22,
           3,
           31,
           7,
           41,
           46,
           16,
           35,
           6,
           4,
           33,
           0,
           43,
           12,
           32,
           20,
           18,
           41,
           12,
           43,
           0,
           33,
           37,
           3,
           1,
           27,
           29,
           11,
           41,
           16,
           33,
           27,
           22,
           28,
           12,
           29,
           11,
           11,
           12,
           4,
           30,
           6,
           40,
           11,
           22,
           23,
           8,
           22,
           1,
           11,
           1,
           36,
           43,
           43,
           11,
           27,
           6,
           31,
           3,
           24,
           39,
           31,
           34,
           30,
           6,
           37,
           2,
           37,
           3,
           38,
           3,
           26,
           7,
           22,
           27,
           47,
           41,
           3,
           27,
           21,
           11,
           22,
           13,
           7,
           16,
           6,
           3,
           31,
           3,
           20,
           7,
           23,
           46,
           21,
           30
          ],
          "coloraxis": "coloraxis",
          "symbol": "circle"
         },
         "mode": "markers",
         "name": "",
         "scene": "scene",
         "showlegend": false,
         "type": "scatter3d",
         "x": [
          0.5621056857736153,
          1.716795270488309,
          -2.401405227929669,
          0.9551577664289835,
          -0.5231122813781959,
          -0.12464719616353095,
          -0.3315565656029683,
          -0.01683746499652425,
          -2.112330721734223,
          -0.23413309033137866,
          1.4664150397399391,
          2.1991504777789492,
          1.6916931602636878,
          0.8240729206088724,
          1.463435223275142,
          0.4240090151332057,
          -4.279338801103839,
          0.4825306687924096,
          0.3244447495800975,
          -2.256617161083936,
          0.6350277690312236,
          2.459386902647299,
          0.3314354791090427,
          -0.1457631723161485,
          -0.021154607573923217,
          0.2541561838179208,
          1.3235814001133572,
          0.5778429357915401,
          0.8793629378859691,
          -0.6073974797825213,
          0.8149891511793271,
          0.6490344702612534,
          2.5855519649788423,
          -1.9136009257706128,
          -0.10688546754181677,
          1.5600061709720203,
          -0.09476417075095842,
          3.066846417775955,
          1.7404853023445217,
          2.152649347427228,
          -1.5617766660285273,
          1.1386252232728682,
          1.8490249423074532,
          -1.011559275553396,
          0.7252169682763867,
          -0.22587648714416436,
          0.3251380480528314,
          -0.8439464919716027,
          0.4900148039199098,
          -0.09358508111713174,
          -3.311559173597467,
          0.4135573736435184,
          -1.4273227028062758,
          -0.23375992214068672,
          1.098071618406314,
          0.13996871706262984,
          -0.3780355424999537,
          -1.329843518989591,
          0.683160038893103,
          -0.7655681583543796,
          0.4704974745379695,
          -0.6958804600962144,
          -0.9612125769437838,
          -0.13883370599912662,
          5.838603862365794,
          0.5664828680004413,
          -1.6567852915505619,
          0.9532531402192506,
          2.3404259488926193,
          0.9974296770497152,
          -2.6452696873624477,
          0.15036004441006687,
          -1.1586332859654767,
          0.16539159421393546,
          0.34095146194914594,
          1.7874189437364252,
          -0.20451691963170318,
          1.9048393664663552,
          1.6429904667457662,
          1.6187530768615686,
          -2.0123915345889927,
          1.1572881458006252,
          1.0043962009395317,
          -0.3605755406102917,
          1.04596620222824,
          -1.198371063812401,
          0.05632539621352752,
          -1.3322982100140812,
          0.7104906573523585,
          0.4164226352904796,
          1.3053442810263003,
          0.37638508390073433,
          0.22498511188268747,
          -1.4567266145874485,
          1.7727511159057128,
          -1.8631399368111434,
          0.5805751125733788,
          -0.700999168243721,
          -0.9048048129335722,
          0.4804612659393139,
          0.37079198419611326,
          -1.3476803860033495,
          -0.7264183759021294,
          0.7249341439406239,
          -1.7779217702304375,
          -0.8487782449968396,
          -0.8317768745247495,
          0.7635839314892292,
          -0.32385449665315624,
          1.8174518105668733,
          3.391992404529412,
          1.1014662913530897,
          1.0279815268667145,
          -0.09635792665572956,
          0.19044361539651655,
          0.4652655126843358,
          1.6345063670713453,
          0.22223332380165495,
          1.3347787477590165,
          1.9131520204773615,
          0.06227687422092927,
          1.9344493093280797,
          0.026080291628868237,
          2.9902074300135957,
          -0.5984276642874568,
          0.46596329840662276,
          -1.1025208391909782,
          0.37346523111443886,
          -0.6818723588720277,
          0.10823578693145428,
          -1.091813139370698,
          0.7809177565115063,
          2.938889715702967,
          -0.8990562643742664,
          -0.2745792847572174,
          1.4914276695592388,
          2.7567413525311926,
          0.29489289243174166,
          -0.13331854625193068,
          0.28324083680711415,
          0.8135093981731664,
          -1.7204667905886784,
          1.7214357436272516,
          -0.9389611694550888,
          1.6581627809373773,
          -2.196023651996174,
          1.8929817575433265,
          2.047044136751722,
          -1.5288599706320574,
          1.9079273937591799,
          -0.34739133426081464,
          -3.162351097802547,
          2.8554867984765444,
          0.756742068917576,
          -2.0452602113552776,
          -0.9050750514293839,
          0.7323373906687115,
          -0.04828887067712114,
          1.6124633652174698,
          -1.049873190942784,
          0.4524052230364128,
          2.391698064413268,
          0.14119239187237942,
          -0.384544817560904,
          1.146946735695849,
          0.9330875359314257,
          -0.8280835709505125,
          0.805807333695496,
          1.2104114617494244,
          0.6232751855480003,
          0.06188324351609991,
          -0.6599746463041292,
          -3.104570298083831,
          0.5205680388071962,
          1.9086543606114923,
          0.5265875064101954,
          1.8197427899190073,
          -3.2321171498985852,
          -1.9893603050836397,
          0.08069267498606031,
          -0.5254049751665743,
          2.87669191954877,
          1.2211598495429312,
          -4.311004146648025,
          -4.3853235209796715,
          1.14531973176445,
          -2.466691549078671,
          -2.177018858129721,
          3.353279694113513,
          1.7226077716763242,
          2.445859336879564,
          0.13045891409457525,
          -3.366929986989953,
          1.5586032749396144,
          0.802494084356013,
          1.3375341609557596,
          -0.7775310347587286,
          -0.5000102491523208,
          1.4850349508205607,
          0.028036682604342306,
          0.07221024774283484,
          -0.009354592470471369,
          -2.2937917930728213,
          -1.995285800178919,
          1.2727340867535748,
          -0.5310720351092206,
          2.291510721991679,
          2.3682982698003903,
          2.6152032825086455,
          -0.3819396404467962,
          2.1647526189286985,
          3.5579960866584535,
          -0.497618554680792,
          0.10683374342923148,
          -0.9267506137493675,
          1.0551722871300768,
          2.8836226328485974,
          2.118008836285717,
          0.029513948512577857,
          -1.1958235230214675,
          3.6994868695003866,
          -1.138288038790334,
          2.307245271008754,
          2.702012078481186,
          2.060931147749779,
          -0.11461539830472844,
          -0.8074350236721052,
          -1.0750914294094456,
          0.7436571805479216,
          1.2887427179600264,
          -0.12503342173607856,
          1.1531595633894753,
          0.3199325991716006,
          2.149966251954413,
          -1.1436313525446777,
          1.6756202419317072,
          0.40434875910250817,
          0.5283799111529659,
          0.6306351502224189,
          -1.3194795354960283,
          -0.9396288084820177,
          -3.1065142327484074,
          -0.6740619231434485,
          0.921094332140917,
          2.069798445985245,
          -0.943398639395375,
          2.2538237098256495,
          -1.944579423274104,
          0.4680464611934496,
          -2.0084871242253195,
          -0.2606009765897585,
          2.0666422755242633,
          0.9466536149287913,
          -0.44886655977076967,
          -4.85256714519701,
          -2.174289952838442,
          -3.1876363471706672,
          1.357644604471297,
          1.1039035473867107,
          1.5457801341990653,
          -0.8036873845366567,
          -1.4461298071448,
          1.7130559525503304,
          -0.9533871449224056,
          -0.38321977661742324,
          -3.530556526673665,
          -3.5351494047261305,
          0.2824751205722011,
          -3.111251237548059,
          0.508638298739689,
          0.17782564527991612,
          -2.2374291211478914,
          -2.589397622496496,
          -3.007996720279789,
          -1.2845634114546196,
          0.11629545286421804,
          -0.004862412636775297,
          0.7924199517496531,
          -3.391280956434106,
          1.129275356327819,
          -0.2654938263810513,
          -0.5901221816182229,
          -0.1861045805616767,
          -1.6436928064264942,
          -1.4232906438787118,
          1.1467369892762245,
          -1.847490408179255,
          2.169046550012364,
          0.046559177704271475,
          -0.9180243794178565,
          0.2783396776028965,
          -4.286044919683079,
          1.6518276704775798,
          -0.05485680272139785,
          -4.811406498158263,
          0.18674952328713135,
          -2.409104018720757,
          1.7112128072401633,
          0.64413493918644,
          -0.07095337800372617,
          -3.302367907581849,
          -3.1932063229580767,
          1.282538884636351,
          0.25122169691731017,
          1.1248343671080445,
          -1.142155701974655,
          1.6249222279916795,
          1.42350047544106,
          1.1331889428535442,
          -0.9625504102188701,
          1.5013164023207826,
          0.24874479301558558,
          -0.6741160134091262,
          -2.3739721247787116,
          1.394249120578515,
          0.9927316768334504,
          -3.428773876571634,
          -0.6145776993173426,
          0.5323314688287657,
          -3.9499949983366296,
          0.8743990787570316,
          0.568071599973707,
          -3.090503107857797,
          -0.515645609977132,
          4.47588430001121,
          0.5285521749935702,
          1.5825860382974315,
          -2.2929155001702606,
          0.1062978565291115,
          0.2899522398898201,
          1.598575339587885,
          -0.38412805525195015,
          -0.43259299295057896,
          0.4998965758849979,
          -0.9300119370574264,
          -0.07637742227267424,
          -0.8643887142168172,
          -1.1220966748580434,
          -2.541317649045882,
          1.7796666749917414,
          3.247642042854824,
          1.3702041349672407,
          -2.883290252492258,
          0.14684925025341222,
          0.7194457018061421,
          -1.745298061928359,
          0.21151464125068067,
          0.4907585967412782,
          1.0955790872463447,
          0.47723642241555797,
          0.7501655043333227,
          0.3480425652719368,
          -1.952583065479054,
          0.5739641260885039,
          -1.3551233406682766,
          -0.30994296764161045,
          -2.109869119397016,
          0.006639741449976676,
          0.038874152245030665,
          1.1368963714594331,
          -0.7891825392348519,
          0.7591303819663826,
          0.4823907607202673,
          0.8307928696326341,
          -0.05155751414545646,
          0.6100880643521684,
          1.1189511082244856,
          3.9376138011109147,
          0.7910711971261898,
          -0.1489892228636869,
          -3.6389066032888437,
          2.9422455685942936,
          1.0856730325194306,
          2.015105155815263,
          -1.269213837648946,
          1.0466220679551999,
          0.44896444171128963,
          0.9201640632872802,
          1.120755247547597,
          1.0919369052680843,
          0.416186475989838,
          -2.6827717718022432,
          -1.0395929823847536,
          1.2478723368111309,
          1.2424153256852586,
          -1.92883041018726,
          -3.0414339567705104,
          1.2037584542886655,
          -0.8179265671377732,
          2.333535475888219,
          0.5806179028798049,
          0.49796496151158065,
          -0.5606163365847582,
          1.1997092368439404,
          0.5999581672357324,
          2.120782787844759,
          -0.39439888448337307,
          1.124144132261336,
          0.8711832873253639,
          -5.207032671208035,
          -0.8626825863102888,
          -1.654130072512779,
          -0.4801668480239423,
          0.11815351112237521,
          3.2019897311044145,
          -0.6541691886096731,
          0.18249882913048074,
          1.5431396041697567,
          -0.0009086479744956486,
          -0.44142673233825297,
          -1.031813704100891,
          -0.5401279609989625,
          -4.744115367871043,
          0.3616524547389834,
          2.079387201814501,
          -3.2321171498985852,
          0.586454788651427,
          -1.7996205022613803,
          0.43756961546658535,
          -0.44055456649608565,
          -1.5926973311387327,
          -2.9906427653616388,
          0.9254982239336196,
          3.444863340911068,
          0.3068201832587341,
          1.1998008298634266,
          -1.1703700653510154,
          -1.0194727455879145,
          -0.041181224159531245,
          -4.9817931291247834,
          0.36206727503608893,
          0.8499563422439941,
          -0.18770837526482462,
          -1.584556872335958,
          1.0811576634982822,
          -1.3605359754629431,
          2.0042138802114295,
          1.5924218531609615,
          2.6406268221860434,
          -1.5740460049538647,
          2.1631977032920275,
          2.695883181374438,
          -1.1270553019086114,
          -0.37830720849688076,
          -1.4338164289133124,
          -3.362680180056968,
          1.120505907442945,
          -1.3739886122424438,
          0.5366361928483894,
          -3.050059872478637,
          -1.9296878486022526,
          -0.588631218990138,
          -2.9964918975449826,
          -0.2176324897728653,
          -0.03393873679599533,
          -4.651508661693596,
          -0.8812507269599171,
          -4.627312019240067,
          0.08411656909741541,
          0.8497221265099602,
          0.7117913047738167,
          2.384085318726932,
          0.6771068197382182,
          0.6425416866597825,
          -3.773185837494349,
          0.4258863108071442,
          -0.052741586345998515,
          0.16728439993800925,
          -2.75176328944569,
          -0.26368699728182715,
          -1.977042438889974,
          0.3878786582016772,
          -3.3824532751544667,
          1.0120838575024225,
          -0.028558321464238118,
          0.7170270564613387,
          0.04584280492029185,
          -0.7736489568986251,
          0.2560994643747969,
          -1.3495047567605138,
          0.4838724247034976,
          -0.9961723259371059,
          1.253746625089248,
          -0.2529861896053895,
          0.17317251166960315
         ],
         "y": [
          -1.9565316460318334,
          1.6328787638317297,
          0.6112465490869092,
          -0.04102942060942442,
          -0.09217416334805596,
          0.19614078339575983,
          0.7330792777372424,
          0.33842336215597246,
          1.4603085542639118,
          -2.607828607633689,
          -0.7509980433820426,
          -0.20447956637621223,
          -0.7138065385881387,
          0.18143200736377513,
          -0.539252682893971,
          0.7024925245072842,
          1.0795299575255886,
          -0.672658858524387,
          -0.7264485380282724,
          -1.0000757935049047,
          -0.4428443848809507,
          0.2846738510775946,
          0.7766025641238542,
          -1.4519899030911831,
          0.3363417581309484,
          0.436004495445088,
          -0.7671601332323164,
          -1.1059357270376464,
          0.17018042560606644,
          2.618945164347279,
          0.18069510436039585,
          -0.06396694163730791,
          -0.3542202130434411,
          -0.7063357745597659,
          0.3213491424227741,
          -0.7570538528232812,
          -0.4143892027798927,
          1.0355598201412748,
          0.7907883601787591,
          1.065852947060827,
          -2.089685049152314,
          0.03666531608765564,
          -0.5265363164165076,
          0.5428813106656377,
          1.334732060226352,
          -1.9818204799021066,
          -1.231007580633059,
          5.112088318730164,
          -0.042807790130413734,
          -1.48762154832709,
          -0.6151484862418758,
          -0.01820022569784971,
          0.5541325355831654,
          0.019641849231203972,
          0.09357249465205547,
          0.7212761320121455,
          -1.2268146538967888,
          -1.2368456880808623,
          0.47601073214434997,
          0.14316877844828174,
          0.831814182110298,
          0.028762788018070844,
          -0.9145936158613875,
          -0.4007966397419309,
          1.7022514913809657,
          -1.4750116143701562,
          0.3200403598319612,
          0.43639054694343343,
          -0.05904403178954823,
          -0.5720821756306942,
          0.08413888628265435,
          -0.058690502443958695,
          -0.8808293279114154,
          -0.2639019142415454,
          -0.5810912149060196,
          -0.31741353804968525,
          1.2191108643997384,
          0.3554120915370083,
          -0.8582273568385637,
          2.965000274833807,
          2.0408338458623856,
          -1.0799961186526859,
          -0.070390862693607,
          -0.11998818683694706,
          -0.14783290052816278,
          -1.0211513739448166,
          2.5181758529433798,
          -1.382935322131556,
          0.1420760183475389,
          -1.3911889360584038,
          -1.7280360597655426,
          1.2958708385089743,
          -0.7121284418730038,
          -0.6194037971824314,
          -1.1115344111979746,
          2.2127403251123137,
          0.6403950254029465,
          -0.42700533380189304,
          -1.1310438618108536,
          2.0437853219339863,
          -0.11348915706971609,
          1.5035527388301935,
          -0.34011472146537264,
          0.9205296102136417,
          0.03709572082513288,
          0.5016101257618326,
          1.0037140983965476,
          0.6695940760122033,
          0.3970648707645887,
          1.6783025369554463,
          -2.0971331048080897,
          0.41620598789947344,
          -0.6194330720794085,
          0.642758297990439,
          -0.40537106086218894,
          -0.32069528762782973,
          -1.2448186006715407,
          0.5557398617602869,
          0.6403927697893173,
          1.9868354997813429,
          -0.4533045055233651,
          0.7583646262190789,
          0.4828535181508466,
          0.48949710382160366,
          1.3177257072275945,
          -0.4332597909779513,
          -0.1306585863695354,
          -0.38726357942915735,
          1.2100161967856669,
          -0.5389645616778722,
          0.2251088394345886,
          1.772739426730038,
          -0.1278126290844716,
          0.14293636424534054,
          0.18713251883876436,
          -0.6770480458867258,
          -0.250495557691342,
          -0.8197019739089022,
          0.6024786557892647,
          -1.246595072061914,
          -1.757781652319358,
          -2.2689276884041236,
          -1.2159814793525303,
          -0.6136614537710529,
          -1.6964467846998958,
          6.755420578854968,
          -0.6791233396866666,
          -2.7591250437396444,
          -1.6566788858453376,
          -1.0034884619264477,
          -0.4017851083910287,
          -2.366600058095475,
          -0.4354610469266612,
          -0.20260064835569314,
          1.9115986217498562,
          -0.895706915919024,
          2.1160439168871834,
          -0.9697182080751039,
          -0.07688526341905585,
          -0.08250478687462104,
          -0.6916272614066978,
          -0.3669239814593923,
          1.1138838875514758,
          0.27788429853649765,
          -0.589227273638013,
          -1.2013314112498974,
          -0.1466898877900684,
          0.2306675623522817,
          0.32926485513907416,
          1.1305637458038373,
          -0.16911504514874437,
          0.08909918263443511,
          1.0780191047921786,
          -0.25900119324287624,
          -0.8974457218324734,
          -0.8031035041661748,
          -0.060829076920666775,
          -0.34896097460125464,
          1.560201082224727,
          0.9183516381360538,
          -2.4197259337168533,
          -0.7677966418363475,
          1.484864984102327,
          1.2221267471004662,
          0.5382466715285328,
          -0.31996011810514186,
          -1.6068752334807304,
          -1.867034548356675,
          1.2171307528212765,
          -0.014629914504065056,
          -1.4464609019607302,
          -0.46512088431166765,
          -0.28125617597114205,
          0.6654441393638764,
          0.48082153519800885,
          -0.10233578251847926,
          -0.9931205322812746,
          0.7969972378596838,
          0.5456581256703469,
          -1.047723851008614,
          0.003001429224424837,
          0.963803480485223,
          -1.7552916882116496,
          1.7693799639389065,
          0.7489446613203173,
          -0.6960036852003644,
          -1.044442412980047,
          0.40813788894666997,
          1.4432884236642527,
          -0.9171170720438435,
          1.9918165389623113,
          0.30637443110612655,
          0.3221505935679563,
          -0.7833995985621504,
          0.36266583508290434,
          0.7681591613294156,
          -1.2579358007790842,
          -0.9361663849838981,
          2.3423717946137135,
          0.4432941411629286,
          -0.36530083457185647,
          0.8105973175122007,
          -0.889150573241252,
          -0.4755652633171727,
          -0.13673967377912263,
          -0.13503635774759673,
          0.4063872894921523,
          -0.07545695428982852,
          -1.192548370613366,
          0.8910879193580781,
          -1.2362131695782095,
          -0.8295830959123802,
          0.35125699544117844,
          -0.26405895163812115,
          -0.4757753053148226,
          1.2745926890162895,
          -0.6764697138631172,
          -2.756673368795876,
          0.5644848929252706,
          -1.645786939757546,
          -0.25667731040135555,
          -1.5828355890982366,
          1.188658263299088,
          1.3358956688952768,
          0.7524007327196042,
          0.06513812049644434,
          -0.7074559205491388,
          -5.791480311629898,
          -1.977794317027101,
          0.3510448270264249,
          1.6809889755655132,
          -0.5121505695814513,
          -1.123541638730648,
          0.16833950255867897,
          -0.5755020256761088,
          0.07098826239518585,
          0.49245767862262474,
          1.7274709908254826,
          0.00686128069873061,
          0.17402292683227985,
          -1.177899104822166,
          -1.6342848281331996,
          1.2125603841238035,
          0.2843292493156835,
          -1.5559798276314956,
          2.5823040677444977,
          -1.4095397914978027,
          2.168634502557371,
          -0.637029216814024,
          1.725706236671231,
          -2.0904672274168994,
          0.7159096677841815,
          0.5267090589783496,
          -1.3121953875320214,
          2.7688230286488595,
          0.6299405353139523,
          0.10526295818366196,
          -0.8997329968047324,
          1.8587599100919,
          -1.8350762105987746,
          0.6581350982490685,
          0.4227603390416543,
          0.4525621015770927,
          1.5178884733849418,
          0.13051095433233623,
          0.41789794570123234,
          3.0508113133723804,
          0.07645427788263459,
          -0.3273330880113506,
          -1.2890984102250038,
          1.3058262936310256,
          0.4615218156438226,
          -0.07654387395432695,
          1.8634860158809046,
          0.6466875727904046,
          -0.28058546790590794,
          -0.6373189968101595,
          -0.6910682790279559,
          -0.9417797075317496,
          0.08462332440174623,
          -0.5581386741711489,
          -0.903492920665605,
          0.5782641968600511,
          0.00876427097120548,
          0.5756940386601753,
          -1.0523266619999672,
          1.8647669799005178,
          0.2205485512118841,
          0.3032308190107201,
          3.011197725296642,
          -0.5592521894590201,
          0.39239985574467967,
          -0.5707263550953106,
          -0.0813410862371562,
          0.7330378364643232,
          -0.3936133711657248,
          4.714744018472452,
          -1.3288120701743316,
          -1.2497664649783895,
          -0.4878796960019744,
          -0.9379613597032356,
          0.42268836406638954,
          -2.1061570232182327,
          -0.521940170490914,
          -0.7546677106792578,
          0.9632201501178206,
          2.3539029270730327,
          2.204324064041882,
          -0.378469015340396,
          -0.5668845760756112,
          0.004192309325082195,
          0.46853160680467953,
          3.031773652440304,
          -0.04940392250952473,
          0.28501808532636363,
          -0.026178324726070644,
          2.2086566317516327,
          -0.06594918766275736,
          -1.4147670008663233,
          0.06788031049067866,
          1.4972167346499767,
          0.051882301060807365,
          0.3247744919844505,
          0.04993742106490307,
          -1.2491514523317686,
          -0.5175408722764273,
          0.2144826196534557,
          -0.4007581662141317,
          0.7059889932590426,
          0.519213249961737,
          -0.6179917364631675,
          -0.0009096117487799909,
          0.4022623198786582,
          1.5452825123198437,
          -0.2054863700483399,
          -1.129729049130799,
          -1.5161110442565393,
          1.3835603882333438,
          -0.158115710924606,
          0.2227302707159132,
          0.3570468891755319,
          -0.721967808954209,
          -0.7733615089135594,
          -0.3358248003924872,
          -0.3185677774668906,
          0.2901768696328153,
          -0.5564110077375009,
          -0.058946242399110706,
          0.7189310129075017,
          -0.5892133507770925,
          -2.149282389190839,
          -0.4748209906226966,
          1.2875568186137063,
          0.9760927086212359,
          1.9514114723923215,
          -0.34435675357151363,
          0.6206577615374436,
          0.21839309779226415,
          -0.42244885367945056,
          1.2837144887036742,
          -0.19448952326072358,
          -1.097516558531421,
          -0.958158384104276,
          -0.329554948928112,
          0.6449297079388701,
          2.5059588402942268,
          -1.5593304548910547,
          0.5193838320489923,
          -0.018479980246608407,
          -0.8126929116784196,
          -0.6250385654582761,
          -0.007327644246866202,
          1.583115699110666,
          0.05566421632837417,
          2.0086983690820914,
          -1.5158838752380028,
          -0.3943766955941565,
          0.8002194527625612,
          -1.1612766177705014,
          1.6455538447275866,
          -2.0527127107938132,
          -0.3082044239594083,
          -0.1615950062782423,
          0.9634355847317633,
          0.7973343102782611,
          0.1862761484101069,
          -0.7648875581155026,
          2.0390266026806274,
          0.7450192094384388,
          -0.9130000757227422,
          -0.02605293561446128,
          -2.1508056078341693,
          0.23225320885942605,
          0.49252343437841833,
          -0.655399756149969,
          -0.34896097460125464,
          1.0822736907711181,
          -0.9136261618724749,
          1.084209455474558,
          -0.5449536346140444,
          -2.5991934436708926,
          -0.5205790311207268,
          -1.8832713998515864,
          0.8347161751227412,
          1.0142062449470601,
          2.2888494538826745,
          -1.0027086407587056,
          -1.1645609661478256,
          0.4324558621305683,
          0.8986893555699264,
          -0.03353852893064098,
          -1.6853562864201383,
          0.22047687746676656,
          -1.4331365449468643,
          -1.0096996352742469,
          0.6589634294591116,
          0.1935553084260834,
          -0.5355456590699255,
          -0.2935321357575666,
          -1.1957980771357755,
          0.09794742604266625,
          -0.38849749776356424,
          -0.7239765435744732,
          -0.198810986671344,
          -1.526976151256449,
          -1.2017562444046537,
          -0.9711881011090525,
          1.3208088409591563,
          0.11917328672120617,
          2.0817416084111318,
          2.0053455152884476,
          2.552511984671275,
          0.4192606141545556,
          -0.26257656823149955,
          -1.3917182366141045,
          -0.7950864994955262,
          -2.720283852844793,
          -0.5814927320825838,
          0.24694012022699466,
          -0.6428745557693302,
          0.6135756195155176,
          1.2161591436657953,
          -0.16691830407275451,
          0.16837778703898246,
          -0.7997685081220888,
          -3.698351493489483,
          1.9740839795299767,
          0.017958345442070995,
          -0.43854015760881576,
          2.431116867018804,
          -0.7706538223354834,
          -0.8579304397566309,
          -1.5345155749066133,
          0.011454777977222759,
          -0.23132246099826545,
          -1.890140101723549,
          0.1717563793087336,
          1.4238904166926523,
          0.7441342676220888,
          0.4218482516322259,
          -0.3072008879270871,
          0.5155051321309341,
          -1.5509431893242198,
          2.1720883926220815,
          -0.7253209772559707
         ],
         "z": [
          -0.49925557987968294,
          0.7438709864611196,
          0.5052391163754576,
          -1.3836959448107375,
          0.6886578686410552,
          1.98398434861053,
          -0.9777540154314106,
          0.276818345069741,
          2.4727734225331885,
          1.315747181586929,
          0.0970648971717767,
          4.323969927597382,
          3.45955289998749,
          2.287876189561239,
          -1.1676317682946893,
          -1.323001003279884,
          -0.26585053607115494,
          -0.1520959568325765,
          0.8504946655589998,
          0.5806198121211937,
          -0.6085723765307585,
          1.557335662911041,
          -0.619200957739374,
          -0.6267111089157026,
          -0.30708395692646834,
          0.061867712987815036,
          -1.9695780845502888,
          -0.27905502017450096,
          1.2052105177098462,
          -0.20409716549468448,
          -0.9541512723717318,
          0.11885211490836295,
          0.5472666942757494,
          2.386386170136703,
          1.3869449168352308,
          -0.2522654201151102,
          0.8285011937289117,
          1.2681990272667003,
          1.1282390907518927,
          -0.24171653684752836,
          0.597350082260406,
          -0.2195904389326339,
          -1.190342186051352,
          -0.3816797653423792,
          -0.7385415723731671,
          0.09811633041096193,
          0.29232267918000504,
          0.15703538072446768,
          0.2599829428569577,
          0.9670998650189087,
          1.6525780522533844,
          -0.15988558244562573,
          0.05110674268935091,
          -0.6245160960872148,
          -1.453339029728421,
          -0.46287576065130137,
          0.07425681515065222,
          -0.2441615385715104,
          -1.165528876763525,
          -0.550774449183096,
          0.3393765980325884,
          0.271386795644846,
          2.3881440867895085,
          -0.4573244992432212,
          0.9842760813707521,
          -0.47028343441791426,
          -0.32038710019519007,
          0.2907586811370465,
          0.6548142295610206,
          0.07726673232131713,
          0.31386197513485925,
          -0.41482435898199155,
          -0.9567396168581107,
          -0.0918387057738963,
          -0.8947009654820169,
          2.258578248553356,
          -0.8559785033189129,
          1.3565207511895643,
          0.7774532947336955,
          0.5614174809569101,
          -0.12484282489981911,
          2.583435420798771,
          -1.265782466868169,
          0.8312097268918041,
          0.9435106620663152,
          0.6074682835863062,
          -0.9034143925110286,
          -0.9898093736363609,
          -0.7608111537085717,
          -0.07117313962510909,
          1.0398807703455168,
          -1.2681263748374234,
          -0.7480266100765249,
          -1.0956786042153206,
          0.9585994734178541,
          -0.24056584143508003,
          -0.20559065246918323,
          0.2302190657465893,
          -0.8305861810462919,
          -1.5019738208533129,
          0.1494982022034566,
          -0.925650813022263,
          -0.06554952678446231,
          1.3663052933730133,
          0.0022943553231779238,
          -1.223783828863861,
          -0.49910793127036807,
          -0.8039891845869376,
          -0.25713076445867045,
          1.2592252014750354,
          -4.001857714882365,
          0.3856306622318307,
          -0.09130785979832337,
          -0.9877920262492547,
          0.44037716201012017,
          0.029186699105849527,
          -0.21396722300847804,
          -0.11738995414915689,
          -0.11423903935299017,
          2.3478999023660414,
          0.2862995981361872,
          1.8763583839811326,
          0.390982444693938,
          1.5768522346815617,
          0.4039078217302013,
          -0.31213325432550915,
          -1.541873942050954,
          -0.4731272694981621,
          -0.231454998302711,
          2.5623563552325272,
          -0.4027129520125694,
          1.0637665560512097,
          -1.8866428660186176,
          -0.01631872980078203,
          0.6122681711090946,
          0.11216069629664743,
          1.3563933556474714,
          2.6295537407843415,
          -0.25393250737718526,
          -0.7223835148106149,
          -0.3385235016290716,
          -0.16513847279704597,
          -1.9250891054861354,
          -0.3105972582420941,
          -0.8089322006881963,
          -0.35110798152976924,
          -0.6572477728687723,
          -2.9128814179651172,
          0.9070456677569826,
          0.7944984336556807,
          0.6422594951765561,
          1.3038034279918476,
          2.0583834423903262,
          0.6406197417366165,
          -0.4877656203023627,
          -0.1396443577577333,
          0.5022837862548963,
          -1.0662715177778634,
          -0.30137595047727833,
          0.4384635953373631,
          0.39126217292896553,
          -0.7537984193667976,
          0.24638256976600967,
          -1.5130885986306353,
          -2.535606437265891,
          1.1338862628521584,
          -0.04864736861846159,
          0.4300608860415205,
          -1.1174193128097398,
          -1.3415660121752926,
          0.5309797111990353,
          1.1543424738201122,
          -1.1604930808102012,
          -1.4489990446298358,
          -2.9500791812356897,
          -0.9250394705056866,
          -0.09519526026850693,
          -0.5264298567859618,
          1.373904631638812,
          -0.25823486287501496,
          -1.199609769445268,
          -1.1878001060282222,
          -0.858103398624496,
          -0.5262593184898732,
          -0.258423915554325,
          0.9063994543964261,
          0.020379610844938084,
          -0.2079608824746474,
          -0.12546039064938133,
          -0.7542817509924745,
          -1.8419772232382028,
          -0.6494553032094659,
          0.4602566825241585,
          -1.0445706880669028,
          1.6001208012835815,
          0.2062939993662141,
          -1.0075813020047002,
          -1.0396363217750821,
          0.11545885800606055,
          0.5211196046427913,
          0.059397752075675915,
          0.817837179274064,
          -0.27142760921464687,
          1.0888294363770525,
          2.7039318427371133,
          -0.4440872342980126,
          2.1077282670291537,
          -0.3563686981458014,
          1.4147109004548015,
          -0.8118437378917398,
          0.021687096297892037,
          -1.4293382167593593,
          0.8936241273829593,
          -0.5976580940033728,
          -0.5000402937397261,
          -0.7173593950499716,
          -0.5858907466639235,
          2.1650493575365974,
          -0.1327601318183307,
          -0.6308485313714672,
          1.7287134552972976,
          1.3857966220128812,
          0.38430093441587587,
          0.48673729601766735,
          -0.6856015752184065,
          0.06601904442482448,
          1.96005055246279,
          -0.05722006769457216,
          1.5235706335022468,
          -0.03267442735506501,
          1.2193046815984063,
          -0.4321334023437682,
          1.0783492476122962,
          3.384659473611221,
          -0.5588809358015311,
          -1.2644312557220918,
          -0.9830947098069858,
          -1.280084307440897,
          -0.22692099236653107,
          -0.7092429401457538,
          -0.00896310013621902,
          -0.6162208357192023,
          -0.504292140631166,
          2.4774705746631813,
          -2.0106241674068888,
          0.089336457953772,
          -0.3298411889837541,
          -2.108674495928051,
          -0.39363952553802295,
          0.020916826692220437,
          -0.5343807520219146,
          -1.840893509007891,
          1.0030376677988053,
          0.6550844124588299,
          -0.7914240721633335,
          0.12414062347736736,
          -0.9243730714525482,
          -0.27549040731203517,
          -1.0058970142704644,
          0.3301676306952938,
          -0.8405923736747967,
          -0.08982202724931675,
          0.07416197453294529,
          -0.46313635152815535,
          -0.7852679453684372,
          -0.9773848655918976,
          0.22615062848976328,
          -0.42138610048227015,
          -0.8361732302698783,
          -1.7392134383250286,
          1.8780936066536869,
          1.0239271915533272,
          0.1463103668197226,
          0.9093219795688661,
          2.158138370298137,
          0.7832685211977388,
          -1.914091183305466,
          -1.642655089154445,
          -0.9030960291807243,
          -0.5215811167500386,
          0.29722434202465065,
          -0.9197163913523567,
          -0.973037476525603,
          -1.0060396913672869,
          -0.47870824293537134,
          0.7252646216869016,
          0.27168433500897543,
          1.0281996810631553,
          -0.2157442947940507,
          -0.1972452967262685,
          1.8646177207026289,
          0.015177250658618701,
          0.16476117413390648,
          0.47906440769564884,
          0.4109938855778276,
          -0.9973630299226703,
          0.594955058496768,
          -0.29880459682189325,
          2.912254932484925,
          1.9029010473708616,
          -0.32730932650166356,
          -0.3259944176947155,
          0.23833204779828382,
          -0.31906226800142723,
          -0.3081764118920872,
          -0.04870448048694841,
          3.0469191701169507,
          -1.3152425835273616,
          -0.45730447998892215,
          0.14562729392820295,
          -0.44742037443608684,
          -1.3375578685154337,
          -0.2523377423944441,
          1.3901636188342257,
          -0.13062060560334818,
          0.6334243338769977,
          0.14326694772738324,
          -0.7595403442693529,
          0.5396035659043242,
          -0.7909602441273297,
          0.9147070122661034,
          0.29557314346726005,
          -0.574677180786785,
          -1.2395370754884574,
          -3.3930143858790127,
          -0.42580048491740174,
          -1.3063468627819108,
          -0.04003968714141955,
          1.191711303785811,
          -0.5369079176749793,
          -1.2300731890863827,
          0.1266270945208255,
          -0.17715611517615149,
          0.7062067623793521,
          -1.2521295912658843,
          0.5466250921116268,
          -1.1496618944666819,
          -0.02006545151108456,
          0.5204607474336076,
          -1.4047446667905077,
          -1.0483946291915027,
          -0.4905710206496736,
          -0.6192893834837361,
          -0.7629311385166135,
          1.8729086458795807,
          -0.6832953592908825,
          -0.441120385298376,
          -0.23473673859376118,
          0.8396428725049847,
          -0.9030517258810248,
          -1.316886953597927,
          0.35760836988379263,
          1.8368162162502155,
          -0.02389397010275255,
          -0.8246379379057552,
          -0.18857871694695133,
          0.2182360390733497,
          0.03542394529630295,
          -1.0192201928793825,
          0.017574355874488773,
          -0.427038055520878,
          -0.17411291354055006,
          -1.1912888645344855,
          -1.0860756518747023,
          0.002612765251804298,
          0.0008731119374985894,
          -1.1943354840870006,
          -0.2989250820500347,
          -0.2097261519298829,
          0.8613125862437554,
          0.3078402760975259,
          2.1687017058434717,
          -0.8402370840794756,
          -1.2768263407927944,
          0.47503376704579553,
          0.5090505270243431,
          0.35576755766834595,
          0.6502049147601106,
          0.597545273600708,
          -0.564572632236172,
          0.019819234506474683,
          1.4714359949656133,
          -0.4574680560311414,
          -0.9682020668548427,
          -0.19677208395508633,
          0.6807823133365655,
          1.1878505195488582,
          0.8706050373145182,
          -0.19995399359647922,
          -3.0516582253823827,
          2.007717944268242,
          -0.7729936027116108,
          0.016297405660849938,
          0.4103182897813571,
          -1.191825316987894,
          -1.5565256153023546,
          0.14875606634356167,
          0.6410623606177143,
          -0.7005919901704585,
          0.5330320817487186,
          -1.153481425193555,
          0.03938921985917494,
          -0.46503097974635194,
          0.003091467668207835,
          -1.0670790822077962,
          3.257888857916001,
          -0.6122552570730192,
          -1.8979545105099018,
          -0.19802232976237497,
          -0.835066460379708,
          -0.39400908369612914,
          0.01596528997272666,
          0.05341517257170729,
          -0.8313924429838631,
          -0.11302535612201291,
          -0.5264298567859618,
          -1.028443854278938,
          -0.19637770600601992,
          -1.6607153474111476,
          0.833791753428862,
          0.014424447551470541,
          -1.0257221087974862,
          2.913990621644033,
          0.048375262835270605,
          0.41476035017581536,
          -0.38089863505364163,
          0.4775066260492021,
          0.012346199362513039,
          -0.2830254284035734,
          0.3218570610853351,
          -0.000998932196052262,
          -0.6113559430671932,
          1.2842296025281035,
          -0.03224908772680037,
          2.3935106483985975,
          -1.4895174530151962,
          -1.2196587454415866,
          2.3995148147453067,
          0.61917262535514,
          -0.23926148029295632,
          0.06677753054457344,
          -1.6136456187474388,
          -0.3611824086455317,
          -0.6502017935259738,
          -0.07521125813967547,
          -0.49873839852021645,
          -0.08164404053537103,
          -0.05704688387391325,
          -0.709134269268396,
          -1.590700823851986,
          -0.949033400522944,
          -1.396229972213686,
          0.8974199104900923,
          0.07815823380128739,
          -0.6042885080120143,
          -0.4196650915020108,
          0.7417110681146314,
          1.3970259888836105,
          -0.38737410616539647,
          1.0042343875814774,
          -0.664681027420162,
          1.9380277430047872,
          0.6226731937576284,
          3.454015046591285,
          0.17938674901624815,
          2.9901555965833384,
          -1.4930654854920806,
          -0.8842665706692122,
          -0.3373176314345978,
          1.2939388200331274,
          -0.6436217002590477,
          2.595182735011716,
          0.41097631514933963,
          0.6247885144459713,
          0.8221696316839219,
          0.2153283254224715,
          -0.5889909892389693,
          -0.41385148599784966,
          -1.047544917211365,
          2.394209169433698,
          0.514236810332831,
          -0.3598317823198946,
          -1.1840844383434441,
          0.0734846851653555,
          0.5760222965109263
         ]
        }
       ],
       "layout": {
        "coloraxis": {
         "colorbar": {
          "title": {
           "text": "color"
          }
         },
         "colorscale": [
          [
           0,
           "#0d0887"
          ],
          [
           0.1111111111111111,
           "#46039f"
          ],
          [
           0.2222222222222222,
           "#7201a8"
          ],
          [
           0.3333333333333333,
           "#9c179e"
          ],
          [
           0.4444444444444444,
           "#bd3786"
          ],
          [
           0.5555555555555556,
           "#d8576b"
          ],
          [
           0.6666666666666666,
           "#ed7953"
          ],
          [
           0.7777777777777778,
           "#fb9f3a"
          ],
          [
           0.8888888888888888,
           "#fdca26"
          ],
          [
           1,
           "#f0f921"
          ]
         ]
        },
        "legend": {
         "tracegroupgap": 0
        },
        "margin": {
         "t": 60
        },
        "scene": {
         "domain": {
          "x": [
           0,
           1
          ],
          "y": [
           0,
           1
          ]
         },
         "xaxis": {
          "title": {
           "text": "pc1"
          }
         },
         "yaxis": {
          "title": {
           "text": "pc2"
          }
         },
         "zaxis": {
          "title": {
           "text": "pc3"
          }
         }
        },
        "template": {
         "data": {
          "bar": [
           {
            "error_x": {
             "color": "#2a3f5f"
            },
            "error_y": {
             "color": "#2a3f5f"
            },
            "marker": {
             "line": {
              "color": "#E5ECF6",
              "width": 0.5
             },
             "pattern": {
              "fillmode": "overlay",
              "size": 10,
              "solidity": 0.2
             }
            },
            "type": "bar"
           }
          ],
          "barpolar": [
           {
            "marker": {
             "line": {
              "color": "#E5ECF6",
              "width": 0.5
             },
             "pattern": {
              "fillmode": "overlay",
              "size": 10,
              "solidity": 0.2
             }
            },
            "type": "barpolar"
           }
          ],
          "carpet": [
           {
            "aaxis": {
             "endlinecolor": "#2a3f5f",
             "gridcolor": "white",
             "linecolor": "white",
             "minorgridcolor": "white",
             "startlinecolor": "#2a3f5f"
            },
            "baxis": {
             "endlinecolor": "#2a3f5f",
             "gridcolor": "white",
             "linecolor": "white",
             "minorgridcolor": "white",
             "startlinecolor": "#2a3f5f"
            },
            "type": "carpet"
           }
          ],
          "choropleth": [
           {
            "colorbar": {
             "outlinewidth": 0,
             "ticks": ""
            },
            "type": "choropleth"
           }
          ],
          "contour": [
           {
            "colorbar": {
             "outlinewidth": 0,
             "ticks": ""
            },
            "colorscale": [
             [
              0,
              "#0d0887"
             ],
             [
              0.1111111111111111,
              "#46039f"
             ],
             [
              0.2222222222222222,
              "#7201a8"
             ],
             [
              0.3333333333333333,
              "#9c179e"
             ],
             [
              0.4444444444444444,
              "#bd3786"
             ],
             [
              0.5555555555555556,
              "#d8576b"
             ],
             [
              0.6666666666666666,
              "#ed7953"
             ],
             [
              0.7777777777777778,
              "#fb9f3a"
             ],
             [
              0.8888888888888888,
              "#fdca26"
             ],
             [
              1,
              "#f0f921"
             ]
            ],
            "type": "contour"
           }
          ],
          "contourcarpet": [
           {
            "colorbar": {
             "outlinewidth": 0,
             "ticks": ""
            },
            "type": "contourcarpet"
           }
          ],
          "heatmap": [
           {
            "colorbar": {
             "outlinewidth": 0,
             "ticks": ""
            },
            "colorscale": [
             [
              0,
              "#0d0887"
             ],
             [
              0.1111111111111111,
              "#46039f"
             ],
             [
              0.2222222222222222,
              "#7201a8"
             ],
             [
              0.3333333333333333,
              "#9c179e"
             ],
             [
              0.4444444444444444,
              "#bd3786"
             ],
             [
              0.5555555555555556,
              "#d8576b"
             ],
             [
              0.6666666666666666,
              "#ed7953"
             ],
             [
              0.7777777777777778,
              "#fb9f3a"
             ],
             [
              0.8888888888888888,
              "#fdca26"
             ],
             [
              1,
              "#f0f921"
             ]
            ],
            "type": "heatmap"
           }
          ],
          "heatmapgl": [
           {
            "colorbar": {
             "outlinewidth": 0,
             "ticks": ""
            },
            "colorscale": [
             [
              0,
              "#0d0887"
             ],
             [
              0.1111111111111111,
              "#46039f"
             ],
             [
              0.2222222222222222,
              "#7201a8"
             ],
             [
              0.3333333333333333,
              "#9c179e"
             ],
             [
              0.4444444444444444,
              "#bd3786"
             ],
             [
              0.5555555555555556,
              "#d8576b"
             ],
             [
              0.6666666666666666,
              "#ed7953"
             ],
             [
              0.7777777777777778,
              "#fb9f3a"
             ],
             [
              0.8888888888888888,
              "#fdca26"
             ],
             [
              1,
              "#f0f921"
             ]
            ],
            "type": "heatmapgl"
           }
          ],
          "histogram": [
           {
            "marker": {
             "pattern": {
              "fillmode": "overlay",
              "size": 10,
              "solidity": 0.2
             }
            },
            "type": "histogram"
           }
          ],
          "histogram2d": [
           {
            "colorbar": {
             "outlinewidth": 0,
             "ticks": ""
            },
            "colorscale": [
             [
              0,
              "#0d0887"
             ],
             [
              0.1111111111111111,
              "#46039f"
             ],
             [
              0.2222222222222222,
              "#7201a8"
             ],
             [
              0.3333333333333333,
              "#9c179e"
             ],
             [
              0.4444444444444444,
              "#bd3786"
             ],
             [
              0.5555555555555556,
              "#d8576b"
             ],
             [
              0.6666666666666666,
              "#ed7953"
             ],
             [
              0.7777777777777778,
              "#fb9f3a"
             ],
             [
              0.8888888888888888,
              "#fdca26"
             ],
             [
              1,
              "#f0f921"
             ]
            ],
            "type": "histogram2d"
           }
          ],
          "histogram2dcontour": [
           {
            "colorbar": {
             "outlinewidth": 0,
             "ticks": ""
            },
            "colorscale": [
             [
              0,
              "#0d0887"
             ],
             [
              0.1111111111111111,
              "#46039f"
             ],
             [
              0.2222222222222222,
              "#7201a8"
             ],
             [
              0.3333333333333333,
              "#9c179e"
             ],
             [
              0.4444444444444444,
              "#bd3786"
             ],
             [
              0.5555555555555556,
              "#d8576b"
             ],
             [
              0.6666666666666666,
              "#ed7953"
             ],
             [
              0.7777777777777778,
              "#fb9f3a"
             ],
             [
              0.8888888888888888,
              "#fdca26"
             ],
             [
              1,
              "#f0f921"
             ]
            ],
            "type": "histogram2dcontour"
           }
          ],
          "mesh3d": [
           {
            "colorbar": {
             "outlinewidth": 0,
             "ticks": ""
            },
            "type": "mesh3d"
           }
          ],
          "parcoords": [
           {
            "line": {
             "colorbar": {
              "outlinewidth": 0,
              "ticks": ""
             }
            },
            "type": "parcoords"
           }
          ],
          "pie": [
           {
            "automargin": true,
            "type": "pie"
           }
          ],
          "scatter": [
           {
            "fillpattern": {
             "fillmode": "overlay",
             "size": 10,
             "solidity": 0.2
            },
            "type": "scatter"
           }
          ],
          "scatter3d": [
           {
            "line": {
             "colorbar": {
              "outlinewidth": 0,
              "ticks": ""
             }
            },
            "marker": {
             "colorbar": {
              "outlinewidth": 0,
              "ticks": ""
             }
            },
            "type": "scatter3d"
           }
          ],
          "scattercarpet": [
           {
            "marker": {
             "colorbar": {
              "outlinewidth": 0,
              "ticks": ""
             }
            },
            "type": "scattercarpet"
           }
          ],
          "scattergeo": [
           {
            "marker": {
             "colorbar": {
              "outlinewidth": 0,
              "ticks": ""
             }
            },
            "type": "scattergeo"
           }
          ],
          "scattergl": [
           {
            "marker": {
             "colorbar": {
              "outlinewidth": 0,
              "ticks": ""
             }
            },
            "type": "scattergl"
           }
          ],
          "scattermapbox": [
           {
            "marker": {
             "colorbar": {
              "outlinewidth": 0,
              "ticks": ""
             }
            },
            "type": "scattermapbox"
           }
          ],
          "scatterpolar": [
           {
            "marker": {
             "colorbar": {
              "outlinewidth": 0,
              "ticks": ""
             }
            },
            "type": "scatterpolar"
           }
          ],
          "scatterpolargl": [
           {
            "marker": {
             "colorbar": {
              "outlinewidth": 0,
              "ticks": ""
             }
            },
            "type": "scatterpolargl"
           }
          ],
          "scatterternary": [
           {
            "marker": {
             "colorbar": {
              "outlinewidth": 0,
              "ticks": ""
             }
            },
            "type": "scatterternary"
           }
          ],
          "surface": [
           {
            "colorbar": {
             "outlinewidth": 0,
             "ticks": ""
            },
            "colorscale": [
             [
              0,
              "#0d0887"
             ],
             [
              0.1111111111111111,
              "#46039f"
             ],
             [
              0.2222222222222222,
              "#7201a8"
             ],
             [
              0.3333333333333333,
              "#9c179e"
             ],
             [
              0.4444444444444444,
              "#bd3786"
             ],
             [
              0.5555555555555556,
              "#d8576b"
             ],
             [
              0.6666666666666666,
              "#ed7953"
             ],
             [
              0.7777777777777778,
              "#fb9f3a"
             ],
             [
              0.8888888888888888,
              "#fdca26"
             ],
             [
              1,
              "#f0f921"
             ]
            ],
            "type": "surface"
           }
          ],
          "table": [
           {
            "cells": {
             "fill": {
              "color": "#EBF0F8"
             },
             "line": {
              "color": "white"
             }
            },
            "header": {
             "fill": {
              "color": "#C8D4E3"
             },
             "line": {
              "color": "white"
             }
            },
            "type": "table"
           }
          ]
         },
         "layout": {
          "annotationdefaults": {
           "arrowcolor": "#2a3f5f",
           "arrowhead": 0,
           "arrowwidth": 1
          },
          "autotypenumbers": "strict",
          "coloraxis": {
           "colorbar": {
            "outlinewidth": 0,
            "ticks": ""
           }
          },
          "colorscale": {
           "diverging": [
            [
             0,
             "#8e0152"
            ],
            [
             0.1,
             "#c51b7d"
            ],
            [
             0.2,
             "#de77ae"
            ],
            [
             0.3,
             "#f1b6da"
            ],
            [
             0.4,
             "#fde0ef"
            ],
            [
             0.5,
             "#f7f7f7"
            ],
            [
             0.6,
             "#e6f5d0"
            ],
            [
             0.7,
             "#b8e186"
            ],
            [
             0.8,
             "#7fbc41"
            ],
            [
             0.9,
             "#4d9221"
            ],
            [
             1,
             "#276419"
            ]
           ],
           "sequential": [
            [
             0,
             "#0d0887"
            ],
            [
             0.1111111111111111,
             "#46039f"
            ],
            [
             0.2222222222222222,
             "#7201a8"
            ],
            [
             0.3333333333333333,
             "#9c179e"
            ],
            [
             0.4444444444444444,
             "#bd3786"
            ],
            [
             0.5555555555555556,
             "#d8576b"
            ],
            [
             0.6666666666666666,
             "#ed7953"
            ],
            [
             0.7777777777777778,
             "#fb9f3a"
            ],
            [
             0.8888888888888888,
             "#fdca26"
            ],
            [
             1,
             "#f0f921"
            ]
           ],
           "sequentialminus": [
            [
             0,
             "#0d0887"
            ],
            [
             0.1111111111111111,
             "#46039f"
            ],
            [
             0.2222222222222222,
             "#7201a8"
            ],
            [
             0.3333333333333333,
             "#9c179e"
            ],
            [
             0.4444444444444444,
             "#bd3786"
            ],
            [
             0.5555555555555556,
             "#d8576b"
            ],
            [
             0.6666666666666666,
             "#ed7953"
            ],
            [
             0.7777777777777778,
             "#fb9f3a"
            ],
            [
             0.8888888888888888,
             "#fdca26"
            ],
            [
             1,
             "#f0f921"
            ]
           ]
          },
          "colorway": [
           "#636efa",
           "#EF553B",
           "#00cc96",
           "#ab63fa",
           "#FFA15A",
           "#19d3f3",
           "#FF6692",
           "#B6E880",
           "#FF97FF",
           "#FECB52"
          ],
          "font": {
           "color": "#2a3f5f"
          },
          "geo": {
           "bgcolor": "white",
           "lakecolor": "white",
           "landcolor": "#E5ECF6",
           "showlakes": true,
           "showland": true,
           "subunitcolor": "white"
          },
          "hoverlabel": {
           "align": "left"
          },
          "hovermode": "closest",
          "mapbox": {
           "style": "light"
          },
          "paper_bgcolor": "white",
          "plot_bgcolor": "#E5ECF6",
          "polar": {
           "angularaxis": {
            "gridcolor": "white",
            "linecolor": "white",
            "ticks": ""
           },
           "bgcolor": "#E5ECF6",
           "radialaxis": {
            "gridcolor": "white",
            "linecolor": "white",
            "ticks": ""
           }
          },
          "scene": {
           "xaxis": {
            "backgroundcolor": "#E5ECF6",
            "gridcolor": "white",
            "gridwidth": 2,
            "linecolor": "white",
            "showbackground": true,
            "ticks": "",
            "zerolinecolor": "white"
           },
           "yaxis": {
            "backgroundcolor": "#E5ECF6",
            "gridcolor": "white",
            "gridwidth": 2,
            "linecolor": "white",
            "showbackground": true,
            "ticks": "",
            "zerolinecolor": "white"
           },
           "zaxis": {
            "backgroundcolor": "#E5ECF6",
            "gridcolor": "white",
            "gridwidth": 2,
            "linecolor": "white",
            "showbackground": true,
            "ticks": "",
            "zerolinecolor": "white"
           }
          },
          "shapedefaults": {
           "line": {
            "color": "#2a3f5f"
           }
          },
          "ternary": {
           "aaxis": {
            "gridcolor": "white",
            "linecolor": "white",
            "ticks": ""
           },
           "baxis": {
            "gridcolor": "white",
            "linecolor": "white",
            "ticks": ""
           },
           "bgcolor": "#E5ECF6",
           "caxis": {
            "gridcolor": "white",
            "linecolor": "white",
            "ticks": ""
           }
          },
          "title": {
           "x": 0.05
          },
          "xaxis": {
           "automargin": true,
           "gridcolor": "white",
           "linecolor": "white",
           "ticks": "",
           "title": {
            "standoff": 15
           },
           "zerolinecolor": "white",
           "zerolinewidth": 2
          },
          "yaxis": {
           "automargin": true,
           "gridcolor": "white",
           "linecolor": "white",
           "ticks": "",
           "title": {
            "standoff": 15
           },
           "zerolinecolor": "white",
           "zerolinewidth": 2
          }
         }
        }
       }
      }
     },
     "metadata": {},
     "output_type": "display_data"
    }
   ],
   "source": [
    "cluster = KMeans(n_clusters=tst.shape[0] // 10, n_init='auto').fit_predict(tst.drop(columns=['trackName']))\n",
    "tst_plot = tst.reset_index()\n",
    "tst_plot['color'] = cluster\n",
    "px.scatter_3d(tst_plot, x='pc1', y='pc2', z='pc3', hover_data='trackName', color='color')"
   ]
  },
  {
   "cell_type": "code",
   "execution_count": 26,
   "metadata": {},
   "outputs": [
    {
     "data": {
      "application/vnd.plotly.v1+json": {
       "config": {
        "plotlyServerURL": "https://plot.ly"
       },
       "data": [
        {
         "customdata": [
          [
           "If By Chance"
          ],
          [
           "please"
          ],
          [
           "The Sun Will Come Up, The Seasons Will Change"
          ],
          [
           "Rain"
          ],
          [
           "Dear August"
          ],
          [
           "At My Funeral"
          ],
          [
           "buttercup"
          ],
          [
           "Reasons to Leave"
          ],
          [
           "Tall Paul"
          ],
          [
           "A Thousand Years"
          ],
          [
           "the author"
          ],
          [
           "Yellow Lights"
          ],
          [
           "Favourite Ex"
          ],
          [
           "Emergency Contact"
          ],
          [
           "Empath"
          ],
          [
           "Hold It Together"
          ],
          [
           "New Rules"
          ],
          [
           "Letting Go for a Little While"
          ],
          [
           "Headlights"
          ],
          [
           "Riptide"
          ],
          [
           "Crazier Things (with Noah Kahan)"
          ],
          [
           "Headstones and Land Mines"
          ],
          [
           "Love Is Letting Go (feat. Diane Keaton)"
          ],
          [
           "We Gotta Go"
          ],
          [
           "Falling Apart"
          ],
          [
           "My Life"
          ],
          [
           "Portland, Maine"
          ],
          [
           "Anyway"
          ],
          [
           "Reruns"
          ],
          [
           "Be"
          ],
          [
           "pinball"
          ],
          [
           "stuck in my head"
          ],
          [
           "Where Do I Go?"
          ],
          [
           "Hold Me"
          ],
          [
           "Brooklyn"
          ],
          [
           "Still"
          ],
          [
           "Little Do You Know"
          ],
          [
           "Coffee Stained Smile"
          ],
          [
           "Memory Lane"
          ],
          [
           "Alpine Green"
          ],
          [
           "human"
          ],
          [
           "Glad It's You"
          ],
          [
           "So It Is"
          ],
          [
           "Home for the Summer"
          ],
          [
           "Never Alone"
          ],
          [
           "Older Guys"
          ],
          [
           "Enough to Know You"
          ],
          [
           "Used To"
          ],
          [
           "nobody else"
          ],
          [
           "fly when i fall"
          ],
          [
           "Radioactive"
          ],
          [
           "Botl"
          ],
          [
           "Fall Apart Too"
          ],
          [
           "Another's Arms"
          ],
          [
           "How This Feels"
          ],
          [
           "Inside Out"
          ],
          [
           "Goodbye"
          ],
          [
           "Wrecking Ball"
          ],
          [
           "I Will Follow You into the Dark"
          ],
          [
           "Halloween"
          ],
          [
           "Oh Love"
          ],
          [
           "Crocodiles"
          ],
          [
           "When You Lose Someone"
          ],
          [
           "Better Place"
          ],
          [
           "Unknown Track"
          ],
          [
           "Falling"
          ],
          [
           "17"
          ],
          [
           "Wild Enough"
          ],
          [
           "Talk To Me"
          ],
          [
           "The Night We Met"
          ],
          [
           "Better On Your Own"
          ],
          [
           "I Wouldn't Change a Thing"
          ],
          [
           "Chosen Last"
          ],
          [
           "broken"
          ],
          [
           "Safe Places (Acoustic)"
          ],
          [
           "I Believe In A Thing Called Love"
          ],
          [
           "Balloon Boy"
          ],
          [
           "Home"
          ],
          [
           "The Only Exception"
          ],
          [
           "Secret"
          ],
          [
           "Make Us Never Happen"
          ],
          [
           "Codependent"
          ],
          [
           "The Art Of Getting By"
          ],
          [
           "Tuesdays"
          ],
          [
           "Out Of Love with You"
          ],
          [
           "Medicine"
          ],
          [
           "Never the 1"
          ],
          [
           "Let Her Go"
          ],
          [
           "Alignments"
          ],
          [
           "All of Me"
          ],
          [
           "Second Chances"
          ],
          [
           "Hopelessness Has Done Nothing for Me"
          ],
          [
           "Mother May I"
          ],
          [
           "hideous"
          ],
          [
           "Funeral"
          ],
          [
           "Just Because"
          ],
          [
           "Together Forever"
          ],
          [
           "Flowers"
          ],
          [
           "Bite The Hand"
          ],
          [
           "Hazel Eyes"
          ],
          [
           "Devil Swear I've Seen"
          ],
          [
           "jackie"
          ],
          [
           "Scared to Be Happy"
          ],
          [
           "can I call you back?"
          ],
          [
           "Even When You're Home"
          ],
          [
           "familiar stranger"
          ],
          [
           "Nothing's the Same"
          ],
          [
           "Where Are You?"
          ],
          [
           "for life"
          ],
          [
           "How"
          ],
          [
           "Carolina"
          ],
          [
           "Flight Risk"
          ],
          [
           "Lego Bricks"
          ],
          [
           "Wish It Would Rain"
          ],
          [
           "blue bird"
          ],
          [
           "1953"
          ],
          [
           "Mountaineer"
          ],
          [
           "Knock The Wind"
          ],
          [
           "Finish Line"
          ],
          [
           "I Don't Need You To Survive"
          ],
          [
           "ocean eyes"
          ],
          [
           "How Do I Tell You?"
          ],
          [
           "Need You Now - Acoustic"
          ],
          [
           "Sweet Connection"
          ],
          [
           "the first one"
          ],
          [
           "so much more than me"
          ],
          [
           "Gets Better"
          ],
          [
           "Hey There Delilah"
          ],
          [
           "Harsh"
          ],
          [
           "Always Almost"
          ],
          [
           "Rhythm Inside - Acoustic"
          ],
          [
           "Mirage"
          ],
          [
           "Are You Alright?"
          ],
          [
           "hit the dirt"
          ],
          [
           "Forget I Exist"
          ],
          [
           "Crumble"
          ],
          [
           "Meant To Be"
          ],
          [
           "wait it out"
          ],
          [
           "Forgetting Delaney"
          ],
          [
           "Soul Mate"
          ],
          [
           "Twenty Two"
          ],
          [
           "Forever Love"
          ],
          [
           "The Moon Song"
          ],
          [
           "Say You Won't Let Go"
          ],
          [
           "Nothing / Sad N Stuff"
          ],
          [
           "Boys Like You"
          ],
          [
           "You Are Gold"
          ],
          [
           "Anchor"
          ],
          [
           "Polaroid"
          ],
          [
           "State Lines"
          ],
          [
           "A Little More"
          ],
          [
           "Mr. Brightside"
          ],
          [
           "Shoot"
          ],
          [
           "Doomsday"
          ],
          [
           "Stormy Weather"
          ],
          [
           "In a Stranger's Arms"
          ],
          [
           "my fault"
          ],
          [
           "Crave"
          ],
          [
           "I Knew"
          ],
          [
           "Changing Tides"
          ],
          [
           "idk"
          ],
          [
           "ceilings - Spotify Singles"
          ],
          [
           "Giving Up Ground"
          ],
          [
           "Slow Fade"
          ],
          [
           "Winter Song"
          ],
          [
           "Opaline"
          ],
          [
           "No More Bad Days"
          ],
          [
           "Break With Me"
          ],
          [
           "forget me // so we can meet again"
          ],
          [
           "gold star"
          ],
          [
           "I Don't Want to Lose You"
          ],
          [
           "I Should Be a Bird"
          ],
          [
           "The Human Condition"
          ],
          [
           "denial"
          ],
          [
           "Walk Above the City"
          ],
          [
           "Seventeen"
          ],
          [
           "Blue"
          ],
          [
           "Dial Drunk (with Post Malone)"
          ],
          [
           "getting older"
          ],
          [
           "Renee's Song"
          ],
          [
           "2AM"
          ],
          [
           "By My Side"
          ],
          [
           "Soft Spot"
          ],
          [
           "16"
          ],
          [
           "Desperate"
          ],
          [
           "Older Than I Am"
          ],
          [
           "Story of My Life"
          ],
          [
           "Skyscraper"
          ],
          [
           "Fish"
          ],
          [
           "That's Us"
          ],
          [
           "Forever Ago"
          ],
          [
           "Through to You"
          ],
          [
           "Simple Things (feat. Christina Perri)"
          ],
          [
           "all i need (the distance song)"
          ],
          [
           "Slow"
          ],
          [
           "Paint"
          ],
          [
           "Break up Slow Dance"
          ],
          [
           "Good"
          ],
          [
           "Free"
          ],
          [
           "Is It Really Me You're Missing"
          ],
          [
           "everything everywhere always"
          ],
          [
           "Say Less"
          ],
          [
           "Whatever Makes You Want to Die Less"
          ],
          [
           "Part of Me"
          ],
          [
           "Meant To Be"
          ],
          [
           "Faith You Might"
          ],
          [
           "The Former"
          ],
          [
           "Hallelujah I Love Her So"
          ],
          [
           "Air So Sweet"
          ],
          [
           "Drop Dead"
          ],
          [
           "nobody likes a secret"
          ],
          [
           "putting a spin on sweater weather"
          ],
          [
           "i don't want to watch the world end with someone else"
          ],
          [
           "A Little Bit Yours"
          ],
          [
           "is your bedroom ceiling bored? (feat. Cavetown)"
          ],
          [
           "Let Light Be Light"
          ],
          [
           "swan song"
          ],
          [
           "sometimes"
          ],
          [
           "always, i'll care"
          ],
          [
           "Heavy"
          ],
          [
           "In What World"
          ],
          [
           "all my ghosts"
          ],
          [
           "Ordinary People"
          ],
          [
           "mountain"
          ],
          [
           "Stupid"
          ],
          [
           "Rockland"
          ],
          [
           "what if it's not"
          ],
          [
           "Thinking 'Bout Love"
          ],
          [
           "Stupid Deep - Acoustic"
          ],
          [
           "I don't mind if you don't mind (draft)"
          ],
          [
           "Heather"
          ],
          [
           "Where's My Love - Acoustic"
          ],
          [
           "called you again"
          ],
          [
           "i don't miss u"
          ],
          [
           "Moves"
          ],
          [
           "Minute Of Your Love"
          ],
          [
           "When It Kills Me"
          ],
          [
           "Swan Upon Leda"
          ],
          [
           "When All My Friends Move Away"
          ],
          [
           "drunk text me"
          ],
          [
           "If I Could Dance"
          ],
          [
           "Breakeven"
          ],
          [
           "Pass Me By"
          ],
          [
           "Alright"
          ],
          [
           "Luck"
          ],
          [
           "Haunt You"
          ],
          [
           "Points of View"
          ],
          [
           "All Too Well (Taylor's Version)"
          ],
          [
           "Wonder"
          ],
          [
           "I know it won't work"
          ],
          [
           "Colorado"
          ],
          [
           "Never Stop Loving You"
          ],
          [
           "Universe"
          ],
          [
           "Feels Like"
          ],
          [
           "Safe And Sound"
          ],
          [
           "Blue Spirits"
          ],
          [
           "Are You Listening"
          ],
          [
           "Nobody"
          ],
          [
           "OK"
          ],
          [
           "this is how you fall in love"
          ],
          [
           "Nail In The Coffin"
          ],
          [
           "Good as Gold"
          ],
          [
           "Like You Did Before"
          ],
          [
           "Black Converse"
          ],
          [
           "Align"
          ],
          [
           "somebody loves you"
          ],
          [
           "You Belong With Me (Taylor’s Version)"
          ],
          [
           "July (feat. Leon Bridges)"
          ],
          [
           "Dear Future Me"
          ],
          [
           "Gaol"
          ],
          [
           "Olive Branch"
          ],
          [
           "The Best You Had"
          ],
          [
           "Slow Motion"
          ],
          [
           "Half a Heart"
          ],
          [
           "reckless driving"
          ],
          [
           "They Just Exist"
          ],
          [
           "Only a Matter of Time"
          ],
          [
           "La Reyna"
          ],
          [
           "Frisky"
          ],
          [
           "I Was In Heaven"
          ],
          [
           "Too Much I Miss You"
          ],
          [
           "A Little Bit Longer"
          ],
          [
           "Cinematic"
          ],
          [
           "at least i'm pretty"
          ],
          [
           "Maniac"
          ],
          [
           "Brooklyn - Stripped"
          ],
          [
           "Mama Said"
          ],
          [
           "Lights"
          ],
          [
           "It's Always Been You"
          ],
          [
           "Rome"
          ],
          [
           "Seahorses Of Old Mexico"
          ],
          [
           "If I Can't Have You"
          ],
          [
           "Same Boat"
          ],
          [
           "better off"
          ],
          [
           "Die Young"
          ],
          [
           "Begging for More"
          ],
          [
           "Shameful Company - Live from Athens Georgia"
          ],
          [
           "All Good"
          ],
          [
           "Place We Were Made"
          ],
          [
           "Paper Planes"
          ],
          [
           "Infinitely Falling"
          ],
          [
           "She Will Be Loved - Radio Mix"
          ],
          [
           "Love Me Nicely"
          ],
          [
           "Old Love - Acoustic"
          ],
          [
           "In Your Circle"
          ],
          [
           "self sabotage"
          ],
          [
           "hate to be lame"
          ],
          [
           "Fall Again"
          ],
          [
           "Bees"
          ],
          [
           "Butterfly Rain"
          ],
          [
           "A Quiet Way"
          ],
          [
           "Breathe"
          ],
          [
           "Steady Love"
          ],
          [
           "Being Alone"
          ],
          [
           "Zach's Ballad"
          ],
          [
           "Afterglow"
          ],
          [
           "Wii Date"
          ],
          [
           "Happier"
          ],
          [
           "Close to Her"
          ],
          [
           "Save Us"
          ],
          [
           "champagne problems"
          ],
          [
           "The Way I Love You"
          ],
          [
           "Happily Ever After"
          ],
          [
           "Drove To The Ocean"
          ],
          [
           "Tin Lover"
          ],
          [
           "When You're Gone"
          ],
          [
           "what if we met on the moon?"
          ],
          [
           "Just Wanna Be Your Friend"
          ],
          [
           "I'm with You"
          ],
          [
           "Vanilla (Stairwell Version)"
          ],
          [
           "I Just Really Hope You Exist"
          ],
          [
           "justacow (demo3)"
          ],
          [
           "Tired"
          ],
          [
           "Tobacco In My Sheets"
          ],
          [
           "Call It a Night"
          ],
          [
           "happy for you"
          ],
          [
           "Molly"
          ],
          [
           "Worst of You"
          ],
          [
           "How Can You Not"
          ],
          [
           "Into Yellow - Piano Version"
          ],
          [
           "4 + 20"
          ],
          [
           "Brave Face"
          ],
          [
           "Say Love"
          ],
          [
           "Look Back & Laugh"
          ],
          [
           "Hearts on Fire"
          ],
          [
           "Hurt Again"
          ],
          [
           "Spaceship (Bonus Track)"
          ],
          [
           "To Love Someone Else"
          ],
          [
           "What They'll Say About Us"
          ],
          [
           "What Can I Do"
          ],
          [
           "Megan’s Song"
          ],
          [
           "Asking the Aspens"
          ],
          [
           "Omni"
          ],
          [
           "Live Cinema"
          ],
          [
           "do you wanna leave this city ?"
          ],
          [
           "I Should’ve Danced More"
          ],
          [
           "Clocks"
          ],
          [
           "Crosswords"
          ],
          [
           "Turns Out"
          ],
          [
           "Round & Round"
          ],
          [
           "Superspreader"
          ],
          [
           "Best Part of Me"
          ],
          [
           "Witness - feat. Rajiv Dhall"
          ],
          [
           "Take Me Back"
          ],
          [
           "Bloom - Bonus Track"
          ],
          [
           "Blue Eyed Baby"
          ],
          [
           "we'll be fine"
          ],
          [
           "Idle Sympathy"
          ],
          [
           "Who's She"
          ],
          [
           "pass you by"
          ],
          [
           "warm blood"
          ],
          [
           "To the Mountains"
          ],
          [
           "If I Had Stayed"
          ],
          [
           "Vienna"
          ],
          [
           "Lately I've Been Sad"
          ],
          [
           "Cellophane"
          ],
          [
           "405"
          ],
          [
           "MISC."
          ],
          [
           "As a Child"
          ],
          [
           "Closure"
          ],
          [
           "Clockwork"
          ],
          [
           "Silver & Gold"
          ],
          [
           "Through"
          ],
          [
           "Pictures of You"
          ],
          [
           "snail / alwase"
          ],
          [
           "If I Could"
          ],
          [
           "Fireflies"
          ],
          [
           "Another Round"
          ],
          [
           "erase me"
          ],
          [
           "No Fun"
          ],
          [
           "wish I didn't know you"
          ],
          [
           "Better Now"
          ],
          [
           "Only Know How to Love You - with Annika Bennett"
          ],
          [
           "Say (feat. Jake Meadows) - Acoustic Version"
          ],
          [
           "Stuck With You - Acoustic"
          ],
          [
           "Love Brought Weight"
          ],
          [
           "Same Room"
          ],
          [
           "Pineapple"
          ],
          [
           "got me thinking"
          ],
          [
           "Ant Pile"
          ],
          [
           "Love Is Just a Way to Die"
          ],
          [
           "Run Awhile"
          ],
          [
           "Hailey"
          ],
          [
           "Every Time"
          ],
          [
           "Loving & Losing"
          ],
          [
           "I Think I"
          ],
          [
           "Pieces"
          ],
          [
           "Black Coffee - Unplugged"
          ],
          [
           "the stars"
          ],
          [
           "we fell in love in october"
          ],
          [
           "Still Something"
          ],
          [
           "Nirvana"
          ],
          [
           "Hey, Soul Sister"
          ],
          [
           "What Would I Do Without You"
          ],
          [
           "Standing in the Rain"
          ],
          [
           "Dial Drunk"
          ],
          [
           "glued to the floor"
          ],
          [
           "When You Love Someone"
          ],
          [
           "oh, mexico"
          ],
          [
           "Tell Me That You Love Me"
          ],
          [
           "Red Eye"
          ],
          [
           "Kill Bill"
          ],
          [
           "ilym (feat. ROSIE)"
          ],
          [
           "a message to that girl i fell in love with."
          ],
          [
           "Apart From, a Part Of, You."
          ],
          [
           "Alexandria (Slowed)"
          ],
          [
           "Immune"
          ],
          [
           "What Am I Gonna Do On Sundays?"
          ],
          [
           "what a shame"
          ],
          [
           "DJ Got Us Fallin' In Love (feat. Pitbull)"
          ],
          [
           "Playing God"
          ],
          [
           "In Love Now"
          ],
          [
           "sydney"
          ],
          [
           "Work Off My Hurt"
          ],
          [
           "Witness"
          ],
          [
           "Lovely Days"
          ],
          [
           "Kaleidoscope Tears"
          ],
          [
           "Good Mourning"
          ],
          [
           "Arms"
          ],
          [
           "Älskar"
          ],
          [
           "you were good to me"
          ],
          [
           "Oh Well"
          ],
          [
           "Time After Time - Spotify Singles"
          ],
          [
           "multiverse"
          ],
          [
           "You & I"
          ],
          [
           "Free"
          ],
          [
           "Long Sleeves"
          ],
          [
           "Concrete"
          ],
          [
           "pennies (voice memo)"
          ],
          [
           "Pyjamas (feat. Remi Wolf)"
          ],
          [
           "Fiona"
          ],
          [
           "Somebody Else"
          ],
          [
           "Remember you were the one"
          ],
          [
           "I miss you, I’m sorry"
          ],
          [
           "Chicago"
          ],
          [
           "Somebody"
          ],
          [
           "Mum"
          ],
          [
           "Tonight"
          ],
          [
           "Muffin"
          ],
          [
           "You Can Only Go in Pieces"
          ],
          [
           "November Son"
          ],
          [
           "On God"
          ],
          [
           "break up with a friend"
          ],
          [
           "Jealous of Paris"
          ],
          [
           "Counting Stars"
          ],
          [
           "All I Want"
          ],
          [
           "Things I Say When You Sleep"
          ],
          [
           "Retail Therapy"
          ],
          [
           "Straight into Your Arms - Bonus Track Version"
          ],
          [
           "False Art"
          ],
          [
           "Crashing into You"
          ],
          [
           "A Change Is Gonna Come"
          ],
          [
           "I Melt with You"
          ],
          [
           "Picture Perfect"
          ],
          [
           "Is She Gonna Be There?"
          ],
          [
           "Like A Stone"
          ],
          [
           "fall out of love"
          ],
          [
           "I Like You"
          ],
          [
           "More Like You - Piano Version"
          ],
          [
           "Two Punks In Love"
          ],
          [
           "It Hurts Too Much To Speak"
          ],
          [
           "Rich Boy"
          ],
          [
           "Yours"
          ],
          [
           "ocean"
          ],
          [
           "Crying Over You"
          ]
         ],
         "hovertemplate": "0=%{x}<br>1=%{y}<br>2=%{z}<br>trackName=%{customdata[0]}<br>color=%{marker.color}<extra></extra>",
         "legendgroup": "",
         "marker": {
          "color": [
           13,
           42,
           20,
           19,
           11,
           7,
           25,
           35,
           10,
           24,
           31,
           16,
           18,
           43,
           19,
           1,
           22,
           27,
           11,
           8,
           4,
           34,
           36,
           13,
           28,
           5,
           37,
           13,
           3,
           42,
           4,
           3,
           3,
           2,
           35,
           4,
           11,
           42,
           30,
           36,
           24,
           28,
           6,
           33,
           36,
           13,
           13,
           29,
           38,
           24,
           39,
           4,
           20,
           33,
           19,
           33,
           15,
           24,
           46,
           33,
           11,
           20,
           30,
           27,
           23,
           13,
           33,
           3,
           3,
           32,
           47,
           35,
           24,
           31,
           46,
           34,
           33,
           3,
           3,
           42,
           20,
           18,
           6,
           11,
           3,
           24,
           21,
           24,
           19,
           13,
           43,
           28,
           46,
           15,
           6,
           21,
           4,
           15,
           24,
           1,
           28,
           21,
           15,
           18,
           20,
           33,
           25,
           19,
           33,
           30,
           14,
           31,
           3,
           33,
           4,
           5,
           6,
           38,
           5,
           42,
           28,
           18,
           35,
           34,
           30,
           46,
           15,
           4,
           33,
           43,
           20,
           42,
           0,
           46,
           18,
           3,
           34,
           43,
           28,
           27,
           13,
           24,
           6,
           46,
           6,
           26,
           6,
           14,
           2,
           18,
           35,
           8,
           34,
           18,
           21,
           24,
           36,
           27,
           31,
           20,
           31,
           6,
           9,
           33,
           19,
           43,
           11,
           4,
           4,
           28,
           35,
           20,
           47,
           37,
           14,
           27,
           4,
           47,
           41,
           36,
           13,
           0,
           25,
           21,
           47,
           18,
           8,
           24,
           19,
           6,
           6,
           4,
           12,
           6,
           30,
           31,
           46,
           36,
           18,
           13,
           35,
           18,
           8,
           41,
           30,
           11,
           16,
           6,
           34,
           15,
           3,
           0,
           11,
           27,
           15,
           36,
           0,
           34,
           36,
           25,
           16,
           5,
           31,
           3,
           19,
           11,
           9,
           33,
           43,
           36,
           7,
           4,
           18,
           16,
           27,
           38,
           28,
           37,
           31,
           15,
           15,
           44,
           36,
           9,
           19,
           27,
           6,
           17,
           13,
           20,
           36,
           0,
           3,
           35,
           47,
           12,
           47,
           28,
           19,
           31,
           27,
           15,
           28,
           33,
           13,
           21,
           8,
           42,
           47,
           36,
           43,
           20,
           22,
           8,
           29,
           7,
           46,
           6,
           47,
           46,
           32,
           33,
           25,
           33,
           20,
           35,
           9,
           28,
           35,
           24,
           9,
           47,
           31,
           42,
           22,
           27,
           39,
           38,
           43,
           30,
           44,
           22,
           1,
           11,
           19,
           13,
           42,
           19,
           19,
           29,
           38,
           38,
           20,
           12,
           3,
           28,
           26,
           15,
           15,
           47,
           11,
           3,
           8,
           15,
           14,
           11,
           28,
           40,
           7,
           27,
           6,
           11,
           41,
           7,
           27,
           11,
           33,
           33,
           24,
           19,
           38,
           6,
           12,
           15,
           43,
           44,
           4,
           27,
           28,
           4,
           46,
           4,
           12,
           36,
           27,
           46,
           20,
           36,
           27,
           19,
           11,
           19,
           13,
           4,
           27,
           35,
           6,
           0,
           28,
           35,
           8,
           16,
           5,
           6,
           25,
           35,
           38,
           3,
           3,
           5,
           3,
           8,
           11,
           19,
           5,
           41,
           8,
           3,
           28,
           14,
           43,
           19,
           9,
           28,
           1,
           37,
           11,
           5,
           13,
           12,
           24,
           33,
           15,
           28,
           19,
           10,
           4,
           1,
           28,
           24,
           25,
           13,
           22,
           36,
           0,
           47,
           36,
           24,
           7,
           11,
           24,
           44,
           43,
           34,
           9,
           9,
           24,
           24,
           35,
           22,
           35,
           13,
           7,
           24,
           43,
           33,
           19,
           43,
           34,
           24,
           31,
           19,
           33,
           15,
           13,
           8,
           6,
           21,
           4,
           47,
           25,
           25,
           22,
           18,
           13,
           47,
           24,
           39,
           38,
           7,
           5,
           16,
           3,
           10,
           22,
           45,
           28,
           27,
           12,
           21,
           44,
           43,
           8,
           35,
           46,
           13,
           28,
           36,
           33,
           10,
           38,
           46,
           27,
           38,
           35
          ],
          "coloraxis": "coloraxis",
          "symbol": "circle"
         },
         "mode": "markers",
         "name": "",
         "scene": "scene",
         "showlegend": false,
         "type": "scatter3d",
         "x": [
          0.5621056857736153,
          1.716795270488309,
          -2.401405227929669,
          0.9551577664289835,
          -0.5231122813781959,
          -0.12464719616353095,
          -0.3315565656029683,
          -0.01683746499652425,
          -2.112330721734223,
          -0.23413309033137866,
          1.4664150397399391,
          2.1991504777789492,
          1.6916931602636878,
          0.8240729206088724,
          1.463435223275142,
          0.4240090151332057,
          -4.279338801103839,
          0.4825306687924096,
          0.3244447495800975,
          -2.256617161083936,
          0.6350277690312236,
          2.459386902647299,
          0.3314354791090427,
          -0.1457631723161485,
          -0.021154607573923217,
          0.2541561838179208,
          1.3235814001133572,
          0.5778429357915401,
          0.8793629378859691,
          -0.6073974797825213,
          0.8149891511793271,
          0.6490344702612534,
          2.5855519649788423,
          -1.9136009257706128,
          -0.10688546754181677,
          1.5600061709720203,
          -0.09476417075095842,
          3.066846417775955,
          1.7404853023445217,
          2.152649347427228,
          -1.5617766660285273,
          1.1386252232728682,
          1.8490249423074532,
          -1.011559275553396,
          0.7252169682763867,
          -0.22587648714416436,
          0.3251380480528314,
          -0.8439464919716027,
          0.4900148039199098,
          -0.09358508111713174,
          -3.311559173597467,
          0.4135573736435184,
          -1.4273227028062758,
          -0.23375992214068672,
          1.098071618406314,
          0.13996871706262984,
          -0.3780355424999537,
          -1.329843518989591,
          0.683160038893103,
          -0.7655681583543796,
          0.4704974745379695,
          -0.6958804600962144,
          -0.9612125769437838,
          -0.13883370599912662,
          5.838603862365794,
          0.5664828680004413,
          -1.6567852915505619,
          0.9532531402192506,
          2.3404259488926193,
          0.9974296770497152,
          -2.6452696873624477,
          0.15036004441006687,
          -1.1586332859654767,
          0.16539159421393546,
          0.34095146194914594,
          1.7874189437364252,
          -0.20451691963170318,
          1.9048393664663552,
          1.6429904667457662,
          1.6187530768615686,
          -2.0123915345889927,
          1.1572881458006252,
          1.0043962009395317,
          -0.3605755406102917,
          1.04596620222824,
          -1.198371063812401,
          0.05632539621352752,
          -1.3322982100140812,
          0.7104906573523585,
          0.4164226352904796,
          1.3053442810263003,
          0.37638508390073433,
          0.22498511188268747,
          -1.4567266145874485,
          1.7727511159057128,
          -1.8631399368111434,
          0.5805751125733788,
          -0.700999168243721,
          -0.9048048129335722,
          0.4804612659393139,
          0.37079198419611326,
          -1.3476803860033495,
          -0.7264183759021294,
          0.7249341439406239,
          -1.7779217702304375,
          -0.8487782449968396,
          -0.8317768745247495,
          0.7635839314892292,
          -0.32385449665315624,
          1.8174518105668733,
          3.391992404529412,
          1.1014662913530897,
          1.0279815268667145,
          -0.09635792665572956,
          0.19044361539651655,
          0.4652655126843358,
          1.6345063670713453,
          0.22223332380165495,
          1.3347787477590165,
          1.9131520204773615,
          0.06227687422092927,
          1.9344493093280797,
          0.026080291628868237,
          2.9902074300135957,
          -0.5984276642874568,
          0.46596329840662276,
          -1.1025208391909782,
          0.37346523111443886,
          -0.6818723588720277,
          0.10823578693145428,
          -1.091813139370698,
          0.7809177565115063,
          2.938889715702967,
          -0.8990562643742664,
          -0.2745792847572174,
          1.4914276695592388,
          2.7567413525311926,
          0.29489289243174166,
          -0.13331854625193068,
          0.28324083680711415,
          0.8135093981731664,
          -1.7204667905886784,
          1.7214357436272516,
          -0.9389611694550888,
          1.6581627809373773,
          -2.196023651996174,
          1.8929817575433265,
          2.047044136751722,
          -1.5288599706320574,
          1.9079273937591799,
          -0.34739133426081464,
          -3.162351097802547,
          2.8554867984765444,
          0.756742068917576,
          -2.0452602113552776,
          -0.9050750514293839,
          0.7323373906687115,
          -0.04828887067712114,
          1.6124633652174698,
          -1.049873190942784,
          0.4524052230364128,
          2.391698064413268,
          0.14119239187237942,
          -0.384544817560904,
          1.146946735695849,
          0.9330875359314257,
          -0.8280835709505125,
          0.805807333695496,
          1.2104114617494244,
          0.6232751855480003,
          0.06188324351609991,
          -0.6599746463041292,
          -3.104570298083831,
          0.5205680388071962,
          1.9086543606114923,
          0.5265875064101954,
          1.8197427899190073,
          -3.2321171498985852,
          -1.9893603050836397,
          0.08069267498606031,
          -0.5254049751665743,
          2.87669191954877,
          1.2211598495429312,
          -4.311004146648025,
          -4.3853235209796715,
          1.14531973176445,
          -2.466691549078671,
          -2.177018858129721,
          3.353279694113513,
          1.7226077716763242,
          2.445859336879564,
          0.13045891409457525,
          -3.366929986989953,
          1.5586032749396144,
          0.802494084356013,
          1.3375341609557596,
          -0.7775310347587286,
          -0.5000102491523208,
          1.4850349508205607,
          0.028036682604342306,
          0.07221024774283484,
          -0.009354592470471369,
          -2.2937917930728213,
          -1.995285800178919,
          1.2727340867535748,
          -0.5310720351092206,
          2.291510721991679,
          2.3682982698003903,
          2.6152032825086455,
          -0.3819396404467962,
          2.1647526189286985,
          3.5579960866584535,
          -0.497618554680792,
          0.10683374342923148,
          -0.9267506137493675,
          1.0551722871300768,
          2.8836226328485974,
          2.118008836285717,
          0.029513948512577857,
          -1.1958235230214675,
          3.6994868695003866,
          -1.138288038790334,
          2.307245271008754,
          2.702012078481186,
          2.060931147749779,
          -0.11461539830472844,
          -0.8074350236721052,
          -1.0750914294094456,
          0.7436571805479216,
          1.2887427179600264,
          -0.12503342173607856,
          1.1531595633894753,
          0.3199325991716006,
          2.149966251954413,
          -1.1436313525446777,
          1.6756202419317072,
          0.40434875910250817,
          0.5283799111529659,
          0.6306351502224189,
          -1.3194795354960283,
          -0.9396288084820177,
          -3.1065142327484074,
          -0.6740619231434485,
          0.921094332140917,
          2.069798445985245,
          -0.943398639395375,
          2.2538237098256495,
          -1.944579423274104,
          0.4680464611934496,
          -2.0084871242253195,
          -0.2606009765897585,
          2.0666422755242633,
          0.9466536149287913,
          -0.44886655977076967,
          -4.85256714519701,
          -2.174289952838442,
          -3.1876363471706672,
          1.357644604471297,
          1.1039035473867107,
          1.5457801341990653,
          -0.8036873845366567,
          -1.4461298071448,
          1.7130559525503304,
          -0.9533871449224056,
          -0.38321977661742324,
          -3.530556526673665,
          -3.5351494047261305,
          0.2824751205722011,
          -3.111251237548059,
          0.508638298739689,
          0.17782564527991612,
          -2.2374291211478914,
          -2.589397622496496,
          -3.007996720279789,
          -1.2845634114546196,
          0.11629545286421804,
          -0.004862412636775297,
          0.7924199517496531,
          -3.391280956434106,
          1.129275356327819,
          -0.2654938263810513,
          -0.5901221816182229,
          -0.1861045805616767,
          -1.6436928064264942,
          -1.4232906438787118,
          1.1467369892762245,
          -1.847490408179255,
          2.169046550012364,
          0.046559177704271475,
          -0.9180243794178565,
          0.2783396776028965,
          -4.286044919683079,
          1.6518276704775798,
          -0.05485680272139785,
          -4.811406498158263,
          0.18674952328713135,
          -2.409104018720757,
          1.7112128072401633,
          0.64413493918644,
          -0.07095337800372617,
          -3.302367907581849,
          -3.1932063229580767,
          1.282538884636351,
          0.25122169691731017,
          1.1248343671080445,
          -1.142155701974655,
          1.6249222279916795,
          1.42350047544106,
          1.1331889428535442,
          -0.9625504102188701,
          1.5013164023207826,
          0.24874479301558558,
          -0.6741160134091262,
          -2.3739721247787116,
          1.394249120578515,
          0.9927316768334504,
          -3.428773876571634,
          -0.6145776993173426,
          0.5323314688287657,
          -3.9499949983366296,
          0.8743990787570316,
          0.568071599973707,
          -3.090503107857797,
          -0.515645609977132,
          4.47588430001121,
          0.5285521749935702,
          1.5825860382974315,
          -2.2929155001702606,
          0.1062978565291115,
          0.2899522398898201,
          1.598575339587885,
          -0.38412805525195015,
          -0.43259299295057896,
          0.4998965758849979,
          -0.9300119370574264,
          -0.07637742227267424,
          -0.8643887142168172,
          -1.1220966748580434,
          -2.541317649045882,
          1.7796666749917414,
          3.247642042854824,
          1.3702041349672407,
          -2.883290252492258,
          0.14684925025341222,
          0.7194457018061421,
          -1.745298061928359,
          0.21151464125068067,
          0.4907585967412782,
          1.0955790872463447,
          0.47723642241555797,
          0.7501655043333227,
          0.3480425652719368,
          -1.952583065479054,
          0.5739641260885039,
          -1.3551233406682766,
          -0.30994296764161045,
          -2.109869119397016,
          0.006639741449976676,
          0.038874152245030665,
          1.1368963714594331,
          -0.7891825392348519,
          0.7591303819663826,
          0.4823907607202673,
          0.8307928696326341,
          -0.05155751414545646,
          0.6100880643521684,
          1.1189511082244856,
          3.9376138011109147,
          0.7910711971261898,
          -0.1489892228636869,
          -3.6389066032888437,
          2.9422455685942936,
          1.0856730325194306,
          2.015105155815263,
          -1.269213837648946,
          1.0466220679551999,
          0.44896444171128963,
          0.9201640632872802,
          1.120755247547597,
          1.0919369052680843,
          0.416186475989838,
          -2.6827717718022432,
          -1.0395929823847536,
          1.2478723368111309,
          1.2424153256852586,
          -1.92883041018726,
          -3.0414339567705104,
          1.2037584542886655,
          -0.8179265671377732,
          2.333535475888219,
          0.5806179028798049,
          0.49796496151158065,
          -0.5606163365847582,
          1.1997092368439404,
          0.5999581672357324,
          2.120782787844759,
          -0.39439888448337307,
          1.124144132261336,
          0.8711832873253639,
          -5.207032671208035,
          -0.8626825863102888,
          -1.654130072512779,
          -0.4801668480239423,
          0.11815351112237521,
          3.2019897311044145,
          -0.6541691886096731,
          0.18249882913048074,
          1.5431396041697567,
          -0.0009086479744956486,
          -0.44142673233825297,
          -1.031813704100891,
          -0.5401279609989625,
          -4.744115367871043,
          0.3616524547389834,
          2.079387201814501,
          -3.2321171498985852,
          0.586454788651427,
          -1.7996205022613803,
          0.43756961546658535,
          -0.44055456649608565,
          -1.5926973311387327,
          -2.9906427653616388,
          0.9254982239336196,
          3.444863340911068,
          0.3068201832587341,
          1.1998008298634266,
          -1.1703700653510154,
          -1.0194727455879145,
          -0.041181224159531245,
          -4.9817931291247834,
          0.36206727503608893,
          0.8499563422439941,
          -0.18770837526482462,
          -1.584556872335958,
          1.0811576634982822,
          -1.3605359754629431,
          2.0042138802114295,
          1.5924218531609615,
          2.6406268221860434,
          -1.5740460049538647,
          2.1631977032920275,
          2.695883181374438,
          -1.1270553019086114,
          -0.37830720849688076,
          -1.4338164289133124,
          -3.362680180056968,
          1.120505907442945,
          -1.3739886122424438,
          0.5366361928483894,
          -3.050059872478637,
          -1.9296878486022526,
          -0.588631218990138,
          -2.9964918975449826,
          -0.2176324897728653,
          -0.03393873679599533,
          -4.651508661693596,
          -0.8812507269599171,
          -4.627312019240067,
          0.08411656909741541,
          0.8497221265099602,
          0.7117913047738167,
          2.384085318726932,
          0.6771068197382182,
          0.6425416866597825,
          -3.773185837494349,
          0.4258863108071442,
          -0.052741586345998515,
          0.16728439993800925,
          -2.75176328944569,
          -0.26368699728182715,
          -1.977042438889974,
          0.3878786582016772,
          -3.3824532751544667,
          1.0120838575024225,
          -0.028558321464238118,
          0.7170270564613387,
          0.04584280492029185,
          -0.7736489568986251,
          0.2560994643747969,
          -1.3495047567605138,
          0.4838724247034976,
          -0.9961723259371059,
          1.253746625089248,
          -0.2529861896053895,
          0.17317251166960315
         ],
         "y": [
          -1.9565316460318334,
          1.6328787638317297,
          0.6112465490869092,
          -0.04102942060942442,
          -0.09217416334805596,
          0.19614078339575983,
          0.7330792777372424,
          0.33842336215597246,
          1.4603085542639118,
          -2.607828607633689,
          -0.7509980433820426,
          -0.20447956637621223,
          -0.7138065385881387,
          0.18143200736377513,
          -0.539252682893971,
          0.7024925245072842,
          1.0795299575255886,
          -0.672658858524387,
          -0.7264485380282724,
          -1.0000757935049047,
          -0.4428443848809507,
          0.2846738510775946,
          0.7766025641238542,
          -1.4519899030911831,
          0.3363417581309484,
          0.436004495445088,
          -0.7671601332323164,
          -1.1059357270376464,
          0.17018042560606644,
          2.618945164347279,
          0.18069510436039585,
          -0.06396694163730791,
          -0.3542202130434411,
          -0.7063357745597659,
          0.3213491424227741,
          -0.7570538528232812,
          -0.4143892027798927,
          1.0355598201412748,
          0.7907883601787591,
          1.065852947060827,
          -2.089685049152314,
          0.03666531608765564,
          -0.5265363164165076,
          0.5428813106656377,
          1.334732060226352,
          -1.9818204799021066,
          -1.231007580633059,
          5.112088318730164,
          -0.042807790130413734,
          -1.48762154832709,
          -0.6151484862418758,
          -0.01820022569784971,
          0.5541325355831654,
          0.019641849231203972,
          0.09357249465205547,
          0.7212761320121455,
          -1.2268146538967888,
          -1.2368456880808623,
          0.47601073214434997,
          0.14316877844828174,
          0.831814182110298,
          0.028762788018070844,
          -0.9145936158613875,
          -0.4007966397419309,
          1.7022514913809657,
          -1.4750116143701562,
          0.3200403598319612,
          0.43639054694343343,
          -0.05904403178954823,
          -0.5720821756306942,
          0.08413888628265435,
          -0.058690502443958695,
          -0.8808293279114154,
          -0.2639019142415454,
          -0.5810912149060196,
          -0.31741353804968525,
          1.2191108643997384,
          0.3554120915370083,
          -0.8582273568385637,
          2.965000274833807,
          2.0408338458623856,
          -1.0799961186526859,
          -0.070390862693607,
          -0.11998818683694706,
          -0.14783290052816278,
          -1.0211513739448166,
          2.5181758529433798,
          -1.382935322131556,
          0.1420760183475389,
          -1.3911889360584038,
          -1.7280360597655426,
          1.2958708385089743,
          -0.7121284418730038,
          -0.6194037971824314,
          -1.1115344111979746,
          2.2127403251123137,
          0.6403950254029465,
          -0.42700533380189304,
          -1.1310438618108536,
          2.0437853219339863,
          -0.11348915706971609,
          1.5035527388301935,
          -0.34011472146537264,
          0.9205296102136417,
          0.03709572082513288,
          0.5016101257618326,
          1.0037140983965476,
          0.6695940760122033,
          0.3970648707645887,
          1.6783025369554463,
          -2.0971331048080897,
          0.41620598789947344,
          -0.6194330720794085,
          0.642758297990439,
          -0.40537106086218894,
          -0.32069528762782973,
          -1.2448186006715407,
          0.5557398617602869,
          0.6403927697893173,
          1.9868354997813429,
          -0.4533045055233651,
          0.7583646262190789,
          0.4828535181508466,
          0.48949710382160366,
          1.3177257072275945,
          -0.4332597909779513,
          -0.1306585863695354,
          -0.38726357942915735,
          1.2100161967856669,
          -0.5389645616778722,
          0.2251088394345886,
          1.772739426730038,
          -0.1278126290844716,
          0.14293636424534054,
          0.18713251883876436,
          -0.6770480458867258,
          -0.250495557691342,
          -0.8197019739089022,
          0.6024786557892647,
          -1.246595072061914,
          -1.757781652319358,
          -2.2689276884041236,
          -1.2159814793525303,
          -0.6136614537710529,
          -1.6964467846998958,
          6.755420578854968,
          -0.6791233396866666,
          -2.7591250437396444,
          -1.6566788858453376,
          -1.0034884619264477,
          -0.4017851083910287,
          -2.366600058095475,
          -0.4354610469266612,
          -0.20260064835569314,
          1.9115986217498562,
          -0.895706915919024,
          2.1160439168871834,
          -0.9697182080751039,
          -0.07688526341905585,
          -0.08250478687462104,
          -0.6916272614066978,
          -0.3669239814593923,
          1.1138838875514758,
          0.27788429853649765,
          -0.589227273638013,
          -1.2013314112498974,
          -0.1466898877900684,
          0.2306675623522817,
          0.32926485513907416,
          1.1305637458038373,
          -0.16911504514874437,
          0.08909918263443511,
          1.0780191047921786,
          -0.25900119324287624,
          -0.8974457218324734,
          -0.8031035041661748,
          -0.060829076920666775,
          -0.34896097460125464,
          1.560201082224727,
          0.9183516381360538,
          -2.4197259337168533,
          -0.7677966418363475,
          1.484864984102327,
          1.2221267471004662,
          0.5382466715285328,
          -0.31996011810514186,
          -1.6068752334807304,
          -1.867034548356675,
          1.2171307528212765,
          -0.014629914504065056,
          -1.4464609019607302,
          -0.46512088431166765,
          -0.28125617597114205,
          0.6654441393638764,
          0.48082153519800885,
          -0.10233578251847926,
          -0.9931205322812746,
          0.7969972378596838,
          0.5456581256703469,
          -1.047723851008614,
          0.003001429224424837,
          0.963803480485223,
          -1.7552916882116496,
          1.7693799639389065,
          0.7489446613203173,
          -0.6960036852003644,
          -1.044442412980047,
          0.40813788894666997,
          1.4432884236642527,
          -0.9171170720438435,
          1.9918165389623113,
          0.30637443110612655,
          0.3221505935679563,
          -0.7833995985621504,
          0.36266583508290434,
          0.7681591613294156,
          -1.2579358007790842,
          -0.9361663849838981,
          2.3423717946137135,
          0.4432941411629286,
          -0.36530083457185647,
          0.8105973175122007,
          -0.889150573241252,
          -0.4755652633171727,
          -0.13673967377912263,
          -0.13503635774759673,
          0.4063872894921523,
          -0.07545695428982852,
          -1.192548370613366,
          0.8910879193580781,
          -1.2362131695782095,
          -0.8295830959123802,
          0.35125699544117844,
          -0.26405895163812115,
          -0.4757753053148226,
          1.2745926890162895,
          -0.6764697138631172,
          -2.756673368795876,
          0.5644848929252706,
          -1.645786939757546,
          -0.25667731040135555,
          -1.5828355890982366,
          1.188658263299088,
          1.3358956688952768,
          0.7524007327196042,
          0.06513812049644434,
          -0.7074559205491388,
          -5.791480311629898,
          -1.977794317027101,
          0.3510448270264249,
          1.6809889755655132,
          -0.5121505695814513,
          -1.123541638730648,
          0.16833950255867897,
          -0.5755020256761088,
          0.07098826239518585,
          0.49245767862262474,
          1.7274709908254826,
          0.00686128069873061,
          0.17402292683227985,
          -1.177899104822166,
          -1.6342848281331996,
          1.2125603841238035,
          0.2843292493156835,
          -1.5559798276314956,
          2.5823040677444977,
          -1.4095397914978027,
          2.168634502557371,
          -0.637029216814024,
          1.725706236671231,
          -2.0904672274168994,
          0.7159096677841815,
          0.5267090589783496,
          -1.3121953875320214,
          2.7688230286488595,
          0.6299405353139523,
          0.10526295818366196,
          -0.8997329968047324,
          1.8587599100919,
          -1.8350762105987746,
          0.6581350982490685,
          0.4227603390416543,
          0.4525621015770927,
          1.5178884733849418,
          0.13051095433233623,
          0.41789794570123234,
          3.0508113133723804,
          0.07645427788263459,
          -0.3273330880113506,
          -1.2890984102250038,
          1.3058262936310256,
          0.4615218156438226,
          -0.07654387395432695,
          1.8634860158809046,
          0.6466875727904046,
          -0.28058546790590794,
          -0.6373189968101595,
          -0.6910682790279559,
          -0.9417797075317496,
          0.08462332440174623,
          -0.5581386741711489,
          -0.903492920665605,
          0.5782641968600511,
          0.00876427097120548,
          0.5756940386601753,
          -1.0523266619999672,
          1.8647669799005178,
          0.2205485512118841,
          0.3032308190107201,
          3.011197725296642,
          -0.5592521894590201,
          0.39239985574467967,
          -0.5707263550953106,
          -0.0813410862371562,
          0.7330378364643232,
          -0.3936133711657248,
          4.714744018472452,
          -1.3288120701743316,
          -1.2497664649783895,
          -0.4878796960019744,
          -0.9379613597032356,
          0.42268836406638954,
          -2.1061570232182327,
          -0.521940170490914,
          -0.7546677106792578,
          0.9632201501178206,
          2.3539029270730327,
          2.204324064041882,
          -0.378469015340396,
          -0.5668845760756112,
          0.004192309325082195,
          0.46853160680467953,
          3.031773652440304,
          -0.04940392250952473,
          0.28501808532636363,
          -0.026178324726070644,
          2.2086566317516327,
          -0.06594918766275736,
          -1.4147670008663233,
          0.06788031049067866,
          1.4972167346499767,
          0.051882301060807365,
          0.3247744919844505,
          0.04993742106490307,
          -1.2491514523317686,
          -0.5175408722764273,
          0.2144826196534557,
          -0.4007581662141317,
          0.7059889932590426,
          0.519213249961737,
          -0.6179917364631675,
          -0.0009096117487799909,
          0.4022623198786582,
          1.5452825123198437,
          -0.2054863700483399,
          -1.129729049130799,
          -1.5161110442565393,
          1.3835603882333438,
          -0.158115710924606,
          0.2227302707159132,
          0.3570468891755319,
          -0.721967808954209,
          -0.7733615089135594,
          -0.3358248003924872,
          -0.3185677774668906,
          0.2901768696328153,
          -0.5564110077375009,
          -0.058946242399110706,
          0.7189310129075017,
          -0.5892133507770925,
          -2.149282389190839,
          -0.4748209906226966,
          1.2875568186137063,
          0.9760927086212359,
          1.9514114723923215,
          -0.34435675357151363,
          0.6206577615374436,
          0.21839309779226415,
          -0.42244885367945056,
          1.2837144887036742,
          -0.19448952326072358,
          -1.097516558531421,
          -0.958158384104276,
          -0.329554948928112,
          0.6449297079388701,
          2.5059588402942268,
          -1.5593304548910547,
          0.5193838320489923,
          -0.018479980246608407,
          -0.8126929116784196,
          -0.6250385654582761,
          -0.007327644246866202,
          1.583115699110666,
          0.05566421632837417,
          2.0086983690820914,
          -1.5158838752380028,
          -0.3943766955941565,
          0.8002194527625612,
          -1.1612766177705014,
          1.6455538447275866,
          -2.0527127107938132,
          -0.3082044239594083,
          -0.1615950062782423,
          0.9634355847317633,
          0.7973343102782611,
          0.1862761484101069,
          -0.7648875581155026,
          2.0390266026806274,
          0.7450192094384388,
          -0.9130000757227422,
          -0.02605293561446128,
          -2.1508056078341693,
          0.23225320885942605,
          0.49252343437841833,
          -0.655399756149969,
          -0.34896097460125464,
          1.0822736907711181,
          -0.9136261618724749,
          1.084209455474558,
          -0.5449536346140444,
          -2.5991934436708926,
          -0.5205790311207268,
          -1.8832713998515864,
          0.8347161751227412,
          1.0142062449470601,
          2.2888494538826745,
          -1.0027086407587056,
          -1.1645609661478256,
          0.4324558621305683,
          0.8986893555699264,
          -0.03353852893064098,
          -1.6853562864201383,
          0.22047687746676656,
          -1.4331365449468643,
          -1.0096996352742469,
          0.6589634294591116,
          0.1935553084260834,
          -0.5355456590699255,
          -0.2935321357575666,
          -1.1957980771357755,
          0.09794742604266625,
          -0.38849749776356424,
          -0.7239765435744732,
          -0.198810986671344,
          -1.526976151256449,
          -1.2017562444046537,
          -0.9711881011090525,
          1.3208088409591563,
          0.11917328672120617,
          2.0817416084111318,
          2.0053455152884476,
          2.552511984671275,
          0.4192606141545556,
          -0.26257656823149955,
          -1.3917182366141045,
          -0.7950864994955262,
          -2.720283852844793,
          -0.5814927320825838,
          0.24694012022699466,
          -0.6428745557693302,
          0.6135756195155176,
          1.2161591436657953,
          -0.16691830407275451,
          0.16837778703898246,
          -0.7997685081220888,
          -3.698351493489483,
          1.9740839795299767,
          0.017958345442070995,
          -0.43854015760881576,
          2.431116867018804,
          -0.7706538223354834,
          -0.8579304397566309,
          -1.5345155749066133,
          0.011454777977222759,
          -0.23132246099826545,
          -1.890140101723549,
          0.1717563793087336,
          1.4238904166926523,
          0.7441342676220888,
          0.4218482516322259,
          -0.3072008879270871,
          0.5155051321309341,
          -1.5509431893242198,
          2.1720883926220815,
          -0.7253209772559707
         ],
         "z": [
          -0.49925557987968294,
          0.7438709864611196,
          0.5052391163754576,
          -1.3836959448107375,
          0.6886578686410552,
          1.98398434861053,
          -0.9777540154314106,
          0.276818345069741,
          2.4727734225331885,
          1.315747181586929,
          0.0970648971717767,
          4.323969927597382,
          3.45955289998749,
          2.287876189561239,
          -1.1676317682946893,
          -1.323001003279884,
          -0.26585053607115494,
          -0.1520959568325765,
          0.8504946655589998,
          0.5806198121211937,
          -0.6085723765307585,
          1.557335662911041,
          -0.619200957739374,
          -0.6267111089157026,
          -0.30708395692646834,
          0.061867712987815036,
          -1.9695780845502888,
          -0.27905502017450096,
          1.2052105177098462,
          -0.20409716549468448,
          -0.9541512723717318,
          0.11885211490836295,
          0.5472666942757494,
          2.386386170136703,
          1.3869449168352308,
          -0.2522654201151102,
          0.8285011937289117,
          1.2681990272667003,
          1.1282390907518927,
          -0.24171653684752836,
          0.597350082260406,
          -0.2195904389326339,
          -1.190342186051352,
          -0.3816797653423792,
          -0.7385415723731671,
          0.09811633041096193,
          0.29232267918000504,
          0.15703538072446768,
          0.2599829428569577,
          0.9670998650189087,
          1.6525780522533844,
          -0.15988558244562573,
          0.05110674268935091,
          -0.6245160960872148,
          -1.453339029728421,
          -0.46287576065130137,
          0.07425681515065222,
          -0.2441615385715104,
          -1.165528876763525,
          -0.550774449183096,
          0.3393765980325884,
          0.271386795644846,
          2.3881440867895085,
          -0.4573244992432212,
          0.9842760813707521,
          -0.47028343441791426,
          -0.32038710019519007,
          0.2907586811370465,
          0.6548142295610206,
          0.07726673232131713,
          0.31386197513485925,
          -0.41482435898199155,
          -0.9567396168581107,
          -0.0918387057738963,
          -0.8947009654820169,
          2.258578248553356,
          -0.8559785033189129,
          1.3565207511895643,
          0.7774532947336955,
          0.5614174809569101,
          -0.12484282489981911,
          2.583435420798771,
          -1.265782466868169,
          0.8312097268918041,
          0.9435106620663152,
          0.6074682835863062,
          -0.9034143925110286,
          -0.9898093736363609,
          -0.7608111537085717,
          -0.07117313962510909,
          1.0398807703455168,
          -1.2681263748374234,
          -0.7480266100765249,
          -1.0956786042153206,
          0.9585994734178541,
          -0.24056584143508003,
          -0.20559065246918323,
          0.2302190657465893,
          -0.8305861810462919,
          -1.5019738208533129,
          0.1494982022034566,
          -0.925650813022263,
          -0.06554952678446231,
          1.3663052933730133,
          0.0022943553231779238,
          -1.223783828863861,
          -0.49910793127036807,
          -0.8039891845869376,
          -0.25713076445867045,
          1.2592252014750354,
          -4.001857714882365,
          0.3856306622318307,
          -0.09130785979832337,
          -0.9877920262492547,
          0.44037716201012017,
          0.029186699105849527,
          -0.21396722300847804,
          -0.11738995414915689,
          -0.11423903935299017,
          2.3478999023660414,
          0.2862995981361872,
          1.8763583839811326,
          0.390982444693938,
          1.5768522346815617,
          0.4039078217302013,
          -0.31213325432550915,
          -1.541873942050954,
          -0.4731272694981621,
          -0.231454998302711,
          2.5623563552325272,
          -0.4027129520125694,
          1.0637665560512097,
          -1.8866428660186176,
          -0.01631872980078203,
          0.6122681711090946,
          0.11216069629664743,
          1.3563933556474714,
          2.6295537407843415,
          -0.25393250737718526,
          -0.7223835148106149,
          -0.3385235016290716,
          -0.16513847279704597,
          -1.9250891054861354,
          -0.3105972582420941,
          -0.8089322006881963,
          -0.35110798152976924,
          -0.6572477728687723,
          -2.9128814179651172,
          0.9070456677569826,
          0.7944984336556807,
          0.6422594951765561,
          1.3038034279918476,
          2.0583834423903262,
          0.6406197417366165,
          -0.4877656203023627,
          -0.1396443577577333,
          0.5022837862548963,
          -1.0662715177778634,
          -0.30137595047727833,
          0.4384635953373631,
          0.39126217292896553,
          -0.7537984193667976,
          0.24638256976600967,
          -1.5130885986306353,
          -2.535606437265891,
          1.1338862628521584,
          -0.04864736861846159,
          0.4300608860415205,
          -1.1174193128097398,
          -1.3415660121752926,
          0.5309797111990353,
          1.1543424738201122,
          -1.1604930808102012,
          -1.4489990446298358,
          -2.9500791812356897,
          -0.9250394705056866,
          -0.09519526026850693,
          -0.5264298567859618,
          1.373904631638812,
          -0.25823486287501496,
          -1.199609769445268,
          -1.1878001060282222,
          -0.858103398624496,
          -0.5262593184898732,
          -0.258423915554325,
          0.9063994543964261,
          0.020379610844938084,
          -0.2079608824746474,
          -0.12546039064938133,
          -0.7542817509924745,
          -1.8419772232382028,
          -0.6494553032094659,
          0.4602566825241585,
          -1.0445706880669028,
          1.6001208012835815,
          0.2062939993662141,
          -1.0075813020047002,
          -1.0396363217750821,
          0.11545885800606055,
          0.5211196046427913,
          0.059397752075675915,
          0.817837179274064,
          -0.27142760921464687,
          1.0888294363770525,
          2.7039318427371133,
          -0.4440872342980126,
          2.1077282670291537,
          -0.3563686981458014,
          1.4147109004548015,
          -0.8118437378917398,
          0.021687096297892037,
          -1.4293382167593593,
          0.8936241273829593,
          -0.5976580940033728,
          -0.5000402937397261,
          -0.7173593950499716,
          -0.5858907466639235,
          2.1650493575365974,
          -0.1327601318183307,
          -0.6308485313714672,
          1.7287134552972976,
          1.3857966220128812,
          0.38430093441587587,
          0.48673729601766735,
          -0.6856015752184065,
          0.06601904442482448,
          1.96005055246279,
          -0.05722006769457216,
          1.5235706335022468,
          -0.03267442735506501,
          1.2193046815984063,
          -0.4321334023437682,
          1.0783492476122962,
          3.384659473611221,
          -0.5588809358015311,
          -1.2644312557220918,
          -0.9830947098069858,
          -1.280084307440897,
          -0.22692099236653107,
          -0.7092429401457538,
          -0.00896310013621902,
          -0.6162208357192023,
          -0.504292140631166,
          2.4774705746631813,
          -2.0106241674068888,
          0.089336457953772,
          -0.3298411889837541,
          -2.108674495928051,
          -0.39363952553802295,
          0.020916826692220437,
          -0.5343807520219146,
          -1.840893509007891,
          1.0030376677988053,
          0.6550844124588299,
          -0.7914240721633335,
          0.12414062347736736,
          -0.9243730714525482,
          -0.27549040731203517,
          -1.0058970142704644,
          0.3301676306952938,
          -0.8405923736747967,
          -0.08982202724931675,
          0.07416197453294529,
          -0.46313635152815535,
          -0.7852679453684372,
          -0.9773848655918976,
          0.22615062848976328,
          -0.42138610048227015,
          -0.8361732302698783,
          -1.7392134383250286,
          1.8780936066536869,
          1.0239271915533272,
          0.1463103668197226,
          0.9093219795688661,
          2.158138370298137,
          0.7832685211977388,
          -1.914091183305466,
          -1.642655089154445,
          -0.9030960291807243,
          -0.5215811167500386,
          0.29722434202465065,
          -0.9197163913523567,
          -0.973037476525603,
          -1.0060396913672869,
          -0.47870824293537134,
          0.7252646216869016,
          0.27168433500897543,
          1.0281996810631553,
          -0.2157442947940507,
          -0.1972452967262685,
          1.8646177207026289,
          0.015177250658618701,
          0.16476117413390648,
          0.47906440769564884,
          0.4109938855778276,
          -0.9973630299226703,
          0.594955058496768,
          -0.29880459682189325,
          2.912254932484925,
          1.9029010473708616,
          -0.32730932650166356,
          -0.3259944176947155,
          0.23833204779828382,
          -0.31906226800142723,
          -0.3081764118920872,
          -0.04870448048694841,
          3.0469191701169507,
          -1.3152425835273616,
          -0.45730447998892215,
          0.14562729392820295,
          -0.44742037443608684,
          -1.3375578685154337,
          -0.2523377423944441,
          1.3901636188342257,
          -0.13062060560334818,
          0.6334243338769977,
          0.14326694772738324,
          -0.7595403442693529,
          0.5396035659043242,
          -0.7909602441273297,
          0.9147070122661034,
          0.29557314346726005,
          -0.574677180786785,
          -1.2395370754884574,
          -3.3930143858790127,
          -0.42580048491740174,
          -1.3063468627819108,
          -0.04003968714141955,
          1.191711303785811,
          -0.5369079176749793,
          -1.2300731890863827,
          0.1266270945208255,
          -0.17715611517615149,
          0.7062067623793521,
          -1.2521295912658843,
          0.5466250921116268,
          -1.1496618944666819,
          -0.02006545151108456,
          0.5204607474336076,
          -1.4047446667905077,
          -1.0483946291915027,
          -0.4905710206496736,
          -0.6192893834837361,
          -0.7629311385166135,
          1.8729086458795807,
          -0.6832953592908825,
          -0.441120385298376,
          -0.23473673859376118,
          0.8396428725049847,
          -0.9030517258810248,
          -1.316886953597927,
          0.35760836988379263,
          1.8368162162502155,
          -0.02389397010275255,
          -0.8246379379057552,
          -0.18857871694695133,
          0.2182360390733497,
          0.03542394529630295,
          -1.0192201928793825,
          0.017574355874488773,
          -0.427038055520878,
          -0.17411291354055006,
          -1.1912888645344855,
          -1.0860756518747023,
          0.002612765251804298,
          0.0008731119374985894,
          -1.1943354840870006,
          -0.2989250820500347,
          -0.2097261519298829,
          0.8613125862437554,
          0.3078402760975259,
          2.1687017058434717,
          -0.8402370840794756,
          -1.2768263407927944,
          0.47503376704579553,
          0.5090505270243431,
          0.35576755766834595,
          0.6502049147601106,
          0.597545273600708,
          -0.564572632236172,
          0.019819234506474683,
          1.4714359949656133,
          -0.4574680560311414,
          -0.9682020668548427,
          -0.19677208395508633,
          0.6807823133365655,
          1.1878505195488582,
          0.8706050373145182,
          -0.19995399359647922,
          -3.0516582253823827,
          2.007717944268242,
          -0.7729936027116108,
          0.016297405660849938,
          0.4103182897813571,
          -1.191825316987894,
          -1.5565256153023546,
          0.14875606634356167,
          0.6410623606177143,
          -0.7005919901704585,
          0.5330320817487186,
          -1.153481425193555,
          0.03938921985917494,
          -0.46503097974635194,
          0.003091467668207835,
          -1.0670790822077962,
          3.257888857916001,
          -0.6122552570730192,
          -1.8979545105099018,
          -0.19802232976237497,
          -0.835066460379708,
          -0.39400908369612914,
          0.01596528997272666,
          0.05341517257170729,
          -0.8313924429838631,
          -0.11302535612201291,
          -0.5264298567859618,
          -1.028443854278938,
          -0.19637770600601992,
          -1.6607153474111476,
          0.833791753428862,
          0.014424447551470541,
          -1.0257221087974862,
          2.913990621644033,
          0.048375262835270605,
          0.41476035017581536,
          -0.38089863505364163,
          0.4775066260492021,
          0.012346199362513039,
          -0.2830254284035734,
          0.3218570610853351,
          -0.000998932196052262,
          -0.6113559430671932,
          1.2842296025281035,
          -0.03224908772680037,
          2.3935106483985975,
          -1.4895174530151962,
          -1.2196587454415866,
          2.3995148147453067,
          0.61917262535514,
          -0.23926148029295632,
          0.06677753054457344,
          -1.6136456187474388,
          -0.3611824086455317,
          -0.6502017935259738,
          -0.07521125813967547,
          -0.49873839852021645,
          -0.08164404053537103,
          -0.05704688387391325,
          -0.709134269268396,
          -1.590700823851986,
          -0.949033400522944,
          -1.396229972213686,
          0.8974199104900923,
          0.07815823380128739,
          -0.6042885080120143,
          -0.4196650915020108,
          0.7417110681146314,
          1.3970259888836105,
          -0.38737410616539647,
          1.0042343875814774,
          -0.664681027420162,
          1.9380277430047872,
          0.6226731937576284,
          3.454015046591285,
          0.17938674901624815,
          2.9901555965833384,
          -1.4930654854920806,
          -0.8842665706692122,
          -0.3373176314345978,
          1.2939388200331274,
          -0.6436217002590477,
          2.595182735011716,
          0.41097631514933963,
          0.6247885144459713,
          0.8221696316839219,
          0.2153283254224715,
          -0.5889909892389693,
          -0.41385148599784966,
          -1.047544917211365,
          2.394209169433698,
          0.514236810332831,
          -0.3598317823198946,
          -1.1840844383434441,
          0.0734846851653555,
          0.5760222965109263
         ]
        }
       ],
       "layout": {
        "coloraxis": {
         "colorbar": {
          "title": {
           "text": "color"
          }
         },
         "colorscale": [
          [
           0,
           "#0d0887"
          ],
          [
           0.1111111111111111,
           "#46039f"
          ],
          [
           0.2222222222222222,
           "#7201a8"
          ],
          [
           0.3333333333333333,
           "#9c179e"
          ],
          [
           0.4444444444444444,
           "#bd3786"
          ],
          [
           0.5555555555555556,
           "#d8576b"
          ],
          [
           0.6666666666666666,
           "#ed7953"
          ],
          [
           0.7777777777777778,
           "#fb9f3a"
          ],
          [
           0.8888888888888888,
           "#fdca26"
          ],
          [
           1,
           "#f0f921"
          ]
         ]
        },
        "legend": {
         "tracegroupgap": 0
        },
        "margin": {
         "t": 60
        },
        "scene": {
         "domain": {
          "x": [
           0,
           1
          ],
          "y": [
           0,
           1
          ]
         },
         "xaxis": {
          "title": {
           "text": "0"
          }
         },
         "yaxis": {
          "title": {
           "text": "1"
          }
         },
         "zaxis": {
          "title": {
           "text": "2"
          }
         }
        },
        "template": {
         "data": {
          "bar": [
           {
            "error_x": {
             "color": "#2a3f5f"
            },
            "error_y": {
             "color": "#2a3f5f"
            },
            "marker": {
             "line": {
              "color": "#E5ECF6",
              "width": 0.5
             },
             "pattern": {
              "fillmode": "overlay",
              "size": 10,
              "solidity": 0.2
             }
            },
            "type": "bar"
           }
          ],
          "barpolar": [
           {
            "marker": {
             "line": {
              "color": "#E5ECF6",
              "width": 0.5
             },
             "pattern": {
              "fillmode": "overlay",
              "size": 10,
              "solidity": 0.2
             }
            },
            "type": "barpolar"
           }
          ],
          "carpet": [
           {
            "aaxis": {
             "endlinecolor": "#2a3f5f",
             "gridcolor": "white",
             "linecolor": "white",
             "minorgridcolor": "white",
             "startlinecolor": "#2a3f5f"
            },
            "baxis": {
             "endlinecolor": "#2a3f5f",
             "gridcolor": "white",
             "linecolor": "white",
             "minorgridcolor": "white",
             "startlinecolor": "#2a3f5f"
            },
            "type": "carpet"
           }
          ],
          "choropleth": [
           {
            "colorbar": {
             "outlinewidth": 0,
             "ticks": ""
            },
            "type": "choropleth"
           }
          ],
          "contour": [
           {
            "colorbar": {
             "outlinewidth": 0,
             "ticks": ""
            },
            "colorscale": [
             [
              0,
              "#0d0887"
             ],
             [
              0.1111111111111111,
              "#46039f"
             ],
             [
              0.2222222222222222,
              "#7201a8"
             ],
             [
              0.3333333333333333,
              "#9c179e"
             ],
             [
              0.4444444444444444,
              "#bd3786"
             ],
             [
              0.5555555555555556,
              "#d8576b"
             ],
             [
              0.6666666666666666,
              "#ed7953"
             ],
             [
              0.7777777777777778,
              "#fb9f3a"
             ],
             [
              0.8888888888888888,
              "#fdca26"
             ],
             [
              1,
              "#f0f921"
             ]
            ],
            "type": "contour"
           }
          ],
          "contourcarpet": [
           {
            "colorbar": {
             "outlinewidth": 0,
             "ticks": ""
            },
            "type": "contourcarpet"
           }
          ],
          "heatmap": [
           {
            "colorbar": {
             "outlinewidth": 0,
             "ticks": ""
            },
            "colorscale": [
             [
              0,
              "#0d0887"
             ],
             [
              0.1111111111111111,
              "#46039f"
             ],
             [
              0.2222222222222222,
              "#7201a8"
             ],
             [
              0.3333333333333333,
              "#9c179e"
             ],
             [
              0.4444444444444444,
              "#bd3786"
             ],
             [
              0.5555555555555556,
              "#d8576b"
             ],
             [
              0.6666666666666666,
              "#ed7953"
             ],
             [
              0.7777777777777778,
              "#fb9f3a"
             ],
             [
              0.8888888888888888,
              "#fdca26"
             ],
             [
              1,
              "#f0f921"
             ]
            ],
            "type": "heatmap"
           }
          ],
          "heatmapgl": [
           {
            "colorbar": {
             "outlinewidth": 0,
             "ticks": ""
            },
            "colorscale": [
             [
              0,
              "#0d0887"
             ],
             [
              0.1111111111111111,
              "#46039f"
             ],
             [
              0.2222222222222222,
              "#7201a8"
             ],
             [
              0.3333333333333333,
              "#9c179e"
             ],
             [
              0.4444444444444444,
              "#bd3786"
             ],
             [
              0.5555555555555556,
              "#d8576b"
             ],
             [
              0.6666666666666666,
              "#ed7953"
             ],
             [
              0.7777777777777778,
              "#fb9f3a"
             ],
             [
              0.8888888888888888,
              "#fdca26"
             ],
             [
              1,
              "#f0f921"
             ]
            ],
            "type": "heatmapgl"
           }
          ],
          "histogram": [
           {
            "marker": {
             "pattern": {
              "fillmode": "overlay",
              "size": 10,
              "solidity": 0.2
             }
            },
            "type": "histogram"
           }
          ],
          "histogram2d": [
           {
            "colorbar": {
             "outlinewidth": 0,
             "ticks": ""
            },
            "colorscale": [
             [
              0,
              "#0d0887"
             ],
             [
              0.1111111111111111,
              "#46039f"
             ],
             [
              0.2222222222222222,
              "#7201a8"
             ],
             [
              0.3333333333333333,
              "#9c179e"
             ],
             [
              0.4444444444444444,
              "#bd3786"
             ],
             [
              0.5555555555555556,
              "#d8576b"
             ],
             [
              0.6666666666666666,
              "#ed7953"
             ],
             [
              0.7777777777777778,
              "#fb9f3a"
             ],
             [
              0.8888888888888888,
              "#fdca26"
             ],
             [
              1,
              "#f0f921"
             ]
            ],
            "type": "histogram2d"
           }
          ],
          "histogram2dcontour": [
           {
            "colorbar": {
             "outlinewidth": 0,
             "ticks": ""
            },
            "colorscale": [
             [
              0,
              "#0d0887"
             ],
             [
              0.1111111111111111,
              "#46039f"
             ],
             [
              0.2222222222222222,
              "#7201a8"
             ],
             [
              0.3333333333333333,
              "#9c179e"
             ],
             [
              0.4444444444444444,
              "#bd3786"
             ],
             [
              0.5555555555555556,
              "#d8576b"
             ],
             [
              0.6666666666666666,
              "#ed7953"
             ],
             [
              0.7777777777777778,
              "#fb9f3a"
             ],
             [
              0.8888888888888888,
              "#fdca26"
             ],
             [
              1,
              "#f0f921"
             ]
            ],
            "type": "histogram2dcontour"
           }
          ],
          "mesh3d": [
           {
            "colorbar": {
             "outlinewidth": 0,
             "ticks": ""
            },
            "type": "mesh3d"
           }
          ],
          "parcoords": [
           {
            "line": {
             "colorbar": {
              "outlinewidth": 0,
              "ticks": ""
             }
            },
            "type": "parcoords"
           }
          ],
          "pie": [
           {
            "automargin": true,
            "type": "pie"
           }
          ],
          "scatter": [
           {
            "fillpattern": {
             "fillmode": "overlay",
             "size": 10,
             "solidity": 0.2
            },
            "type": "scatter"
           }
          ],
          "scatter3d": [
           {
            "line": {
             "colorbar": {
              "outlinewidth": 0,
              "ticks": ""
             }
            },
            "marker": {
             "colorbar": {
              "outlinewidth": 0,
              "ticks": ""
             }
            },
            "type": "scatter3d"
           }
          ],
          "scattercarpet": [
           {
            "marker": {
             "colorbar": {
              "outlinewidth": 0,
              "ticks": ""
             }
            },
            "type": "scattercarpet"
           }
          ],
          "scattergeo": [
           {
            "marker": {
             "colorbar": {
              "outlinewidth": 0,
              "ticks": ""
             }
            },
            "type": "scattergeo"
           }
          ],
          "scattergl": [
           {
            "marker": {
             "colorbar": {
              "outlinewidth": 0,
              "ticks": ""
             }
            },
            "type": "scattergl"
           }
          ],
          "scattermapbox": [
           {
            "marker": {
             "colorbar": {
              "outlinewidth": 0,
              "ticks": ""
             }
            },
            "type": "scattermapbox"
           }
          ],
          "scatterpolar": [
           {
            "marker": {
             "colorbar": {
              "outlinewidth": 0,
              "ticks": ""
             }
            },
            "type": "scatterpolar"
           }
          ],
          "scatterpolargl": [
           {
            "marker": {
             "colorbar": {
              "outlinewidth": 0,
              "ticks": ""
             }
            },
            "type": "scatterpolargl"
           }
          ],
          "scatterternary": [
           {
            "marker": {
             "colorbar": {
              "outlinewidth": 0,
              "ticks": ""
             }
            },
            "type": "scatterternary"
           }
          ],
          "surface": [
           {
            "colorbar": {
             "outlinewidth": 0,
             "ticks": ""
            },
            "colorscale": [
             [
              0,
              "#0d0887"
             ],
             [
              0.1111111111111111,
              "#46039f"
             ],
             [
              0.2222222222222222,
              "#7201a8"
             ],
             [
              0.3333333333333333,
              "#9c179e"
             ],
             [
              0.4444444444444444,
              "#bd3786"
             ],
             [
              0.5555555555555556,
              "#d8576b"
             ],
             [
              0.6666666666666666,
              "#ed7953"
             ],
             [
              0.7777777777777778,
              "#fb9f3a"
             ],
             [
              0.8888888888888888,
              "#fdca26"
             ],
             [
              1,
              "#f0f921"
             ]
            ],
            "type": "surface"
           }
          ],
          "table": [
           {
            "cells": {
             "fill": {
              "color": "#EBF0F8"
             },
             "line": {
              "color": "white"
             }
            },
            "header": {
             "fill": {
              "color": "#C8D4E3"
             },
             "line": {
              "color": "white"
             }
            },
            "type": "table"
           }
          ]
         },
         "layout": {
          "annotationdefaults": {
           "arrowcolor": "#2a3f5f",
           "arrowhead": 0,
           "arrowwidth": 1
          },
          "autotypenumbers": "strict",
          "coloraxis": {
           "colorbar": {
            "outlinewidth": 0,
            "ticks": ""
           }
          },
          "colorscale": {
           "diverging": [
            [
             0,
             "#8e0152"
            ],
            [
             0.1,
             "#c51b7d"
            ],
            [
             0.2,
             "#de77ae"
            ],
            [
             0.3,
             "#f1b6da"
            ],
            [
             0.4,
             "#fde0ef"
            ],
            [
             0.5,
             "#f7f7f7"
            ],
            [
             0.6,
             "#e6f5d0"
            ],
            [
             0.7,
             "#b8e186"
            ],
            [
             0.8,
             "#7fbc41"
            ],
            [
             0.9,
             "#4d9221"
            ],
            [
             1,
             "#276419"
            ]
           ],
           "sequential": [
            [
             0,
             "#0d0887"
            ],
            [
             0.1111111111111111,
             "#46039f"
            ],
            [
             0.2222222222222222,
             "#7201a8"
            ],
            [
             0.3333333333333333,
             "#9c179e"
            ],
            [
             0.4444444444444444,
             "#bd3786"
            ],
            [
             0.5555555555555556,
             "#d8576b"
            ],
            [
             0.6666666666666666,
             "#ed7953"
            ],
            [
             0.7777777777777778,
             "#fb9f3a"
            ],
            [
             0.8888888888888888,
             "#fdca26"
            ],
            [
             1,
             "#f0f921"
            ]
           ],
           "sequentialminus": [
            [
             0,
             "#0d0887"
            ],
            [
             0.1111111111111111,
             "#46039f"
            ],
            [
             0.2222222222222222,
             "#7201a8"
            ],
            [
             0.3333333333333333,
             "#9c179e"
            ],
            [
             0.4444444444444444,
             "#bd3786"
            ],
            [
             0.5555555555555556,
             "#d8576b"
            ],
            [
             0.6666666666666666,
             "#ed7953"
            ],
            [
             0.7777777777777778,
             "#fb9f3a"
            ],
            [
             0.8888888888888888,
             "#fdca26"
            ],
            [
             1,
             "#f0f921"
            ]
           ]
          },
          "colorway": [
           "#636efa",
           "#EF553B",
           "#00cc96",
           "#ab63fa",
           "#FFA15A",
           "#19d3f3",
           "#FF6692",
           "#B6E880",
           "#FF97FF",
           "#FECB52"
          ],
          "font": {
           "color": "#2a3f5f"
          },
          "geo": {
           "bgcolor": "white",
           "lakecolor": "white",
           "landcolor": "#E5ECF6",
           "showlakes": true,
           "showland": true,
           "subunitcolor": "white"
          },
          "hoverlabel": {
           "align": "left"
          },
          "hovermode": "closest",
          "mapbox": {
           "style": "light"
          },
          "paper_bgcolor": "white",
          "plot_bgcolor": "#E5ECF6",
          "polar": {
           "angularaxis": {
            "gridcolor": "white",
            "linecolor": "white",
            "ticks": ""
           },
           "bgcolor": "#E5ECF6",
           "radialaxis": {
            "gridcolor": "white",
            "linecolor": "white",
            "ticks": ""
           }
          },
          "scene": {
           "xaxis": {
            "backgroundcolor": "#E5ECF6",
            "gridcolor": "white",
            "gridwidth": 2,
            "linecolor": "white",
            "showbackground": true,
            "ticks": "",
            "zerolinecolor": "white"
           },
           "yaxis": {
            "backgroundcolor": "#E5ECF6",
            "gridcolor": "white",
            "gridwidth": 2,
            "linecolor": "white",
            "showbackground": true,
            "ticks": "",
            "zerolinecolor": "white"
           },
           "zaxis": {
            "backgroundcolor": "#E5ECF6",
            "gridcolor": "white",
            "gridwidth": 2,
            "linecolor": "white",
            "showbackground": true,
            "ticks": "",
            "zerolinecolor": "white"
           }
          },
          "shapedefaults": {
           "line": {
            "color": "#2a3f5f"
           }
          },
          "ternary": {
           "aaxis": {
            "gridcolor": "white",
            "linecolor": "white",
            "ticks": ""
           },
           "baxis": {
            "gridcolor": "white",
            "linecolor": "white",
            "ticks": ""
           },
           "bgcolor": "#E5ECF6",
           "caxis": {
            "gridcolor": "white",
            "linecolor": "white",
            "ticks": ""
           }
          },
          "title": {
           "x": 0.05
          },
          "xaxis": {
           "automargin": true,
           "gridcolor": "white",
           "linecolor": "white",
           "ticks": "",
           "title": {
            "standoff": 15
           },
           "zerolinecolor": "white",
           "zerolinewidth": 2
          },
          "yaxis": {
           "automargin": true,
           "gridcolor": "white",
           "linecolor": "white",
           "ticks": "",
           "title": {
            "standoff": 15
           },
           "zerolinecolor": "white",
           "zerolinewidth": 2
          }
         }
        }
       }
      }
     },
     "metadata": {},
     "output_type": "display_data"
    }
   ],
   "source": [
    "all_pc_cluster = KMeans(n_clusters=all_pcs.shape[0] // 10, n_init='auto').fit_predict(all_pcs.drop(columns=['trackName'])) #all_pcs\n",
    "all_pc_plot = all_pcs\n",
    "all_pc_plot['color'] = all_pc_cluster\n",
    "px.scatter_3d(all_pc_plot, x=0, y=1, z=2, hover_data='trackName', color='color')"
   ]
  },
  {
   "cell_type": "code",
   "execution_count": 39,
   "metadata": {},
   "outputs": [],
   "source": [
    "def get_playlist(song):\n",
    "    label = cluster_w_labels[cluster_w_labels['trackName'] == song].color.iloc[0] #.loc[0, 'color']\n",
    "    playlist = cluster_w_labels[cluster_w_labels['color'] == label]\n",
    "    return playlist['trackName']\n",
    "\n",
    "    # # this is using the 3 PCs instead of raw elements, current least favorite bc it's less relevant\n",
    "    # label = tst_plot[tst_plot['trackName'] == song].iloc[0, -1]#.loc['color', 0]\n",
    "    # playlist = tst_plot[tst_plot['color'] == label]\n",
    "    # return playlist['trackName']\n",
    "\n",
    "    # this uses all the PCs instead of raw or 3 PCs\n",
    "    # label = all_pc_plot[all_pc_plot['trackName'] == song].iloc[0, -1]#.loc['color', 0]\n",
    "    # playlist = all_pc_plot[all_pc_plot['color'] == label]\n",
    "    # return playlist['trackName']\n",
    "    "
   ]
  },
  {
   "cell_type": "code",
   "execution_count": 42,
   "metadata": {},
   "outputs": [
    {
     "data": {
      "text/plain": [
       "10                           the author\n",
       "17        Letting Go for a Little While\n",
       "20     Crazier Things (with Noah Kahan)\n",
       "63                         Better Place\n",
       "73                               broken\n",
       "74               Safe Places (Acoustic)\n",
       "127                   Hey There Delilah\n",
       "139                           Soul Mate\n",
       "157                               Crave\n",
       "158                              I Knew\n",
       "175                           Seventeen\n",
       "195                               Paint\n",
       "213                  A Little Bit Yours\n",
       "231          Where's My Love - Acoustic\n",
       "245                           Haunt You\n",
       "258                                  OK\n",
       "292                           Same Boat\n",
       "295                    Begging for More\n",
       "304                      In Your Circle\n",
       "308                                Bees\n",
       "329         Vanilla (Stairwell Version)\n",
       "347                To Love Someone Else\n",
       "358                           Turns Out\n",
       "364                 Bloom - Bonus Track\n",
       "383                     Pictures of You\n",
       "482                               Yours\n",
       "Name: trackName, dtype: object"
      ]
     },
     "execution_count": 42,
     "metadata": {},
     "output_type": "execute_result"
    }
   ],
   "source": [
    "# get_playlist('By Your Side')\n",
    "# get_playlist('I Lived')\n",
    "# get_playlist('Hey It\\'s Delilah')\n",
    "get_playlist('Hey There Delilah')"
   ]
  },
  {
   "cell_type": "code",
   "execution_count": null,
   "metadata": {},
   "outputs": [],
   "source": []
  },
  {
   "cell_type": "markdown",
   "metadata": {},
   "source": [
    "### Part 3: Loading in a playlist and comparing it to other songs in the playlist\n",
    "#### Read in, PCA, plot with colors"
   ]
  },
  {
   "cell_type": "code",
   "execution_count": null,
   "metadata": {},
   "outputs": [],
   "source": []
  },
  {
   "cell_type": "markdown",
   "metadata": {},
   "source": [
    "### Part 4: Selecting additional relevant songs for playlist\n",
    "#### Find most similar ones to playlist songs"
   ]
  },
  {
   "cell_type": "code",
   "execution_count": null,
   "metadata": {},
   "outputs": [],
   "source": []
  }
 ],
 "metadata": {
  "kernelspec": {
   "display_name": "Python 3",
   "language": "python",
   "name": "python3"
  },
  "language_info": {
   "codemirror_mode": {
    "name": "ipython",
    "version": 3
   },
   "file_extension": ".py",
   "mimetype": "text/x-python",
   "name": "python",
   "nbconvert_exporter": "python",
   "pygments_lexer": "ipython3",
   "version": "3.10.11"
  },
  "orig_nbformat": 4
 },
 "nbformat": 4,
 "nbformat_minor": 2
}
