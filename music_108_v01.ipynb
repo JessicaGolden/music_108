{
 "cells": [
  {
   "cell_type": "code",
   "execution_count": 70,
   "metadata": {},
   "outputs": [
    {
     "name": "stdout",
     "output_type": "stream",
     "text": [
      "Collecting matplotlib\n",
      "  Downloading matplotlib-3.8.0-cp310-cp310-win_amd64.whl (7.6 MB)\n",
      "     ---------------------------------------- 0.0/7.6 MB ? eta -:--:--\n",
      "     - -------------------------------------- 0.3/7.6 MB 5.2 MB/s eta 0:00:02\n",
      "     ----- ---------------------------------- 1.1/7.6 MB 11.4 MB/s eta 0:00:01\n",
      "     -------- ------------------------------- 1.7/7.6 MB 15.2 MB/s eta 0:00:01\n",
      "     ----------- ---------------------------- 2.1/7.6 MB 11.3 MB/s eta 0:00:01\n",
      "     ----------------- ---------------------- 3.4/7.6 MB 14.4 MB/s eta 0:00:01\n",
      "     ---------------------- ----------------- 4.3/7.6 MB 15.3 MB/s eta 0:00:01\n",
      "     --------------------------- ------------ 5.3/7.6 MB 16.2 MB/s eta 0:00:01\n",
      "     -------------------------------- ------- 6.3/7.6 MB 16.7 MB/s eta 0:00:01\n",
      "     ---------------------------------------  7.5/7.6 MB 17.9 MB/s eta 0:00:01\n",
      "     ---------------------------------------  7.6/7.6 MB 18.1 MB/s eta 0:00:01\n",
      "     ---------------------------------------- 7.6/7.6 MB 15.8 MB/s eta 0:00:00\n",
      "Collecting kiwisolver>=1.0.1\n",
      "  Downloading kiwisolver-1.4.5-cp310-cp310-win_amd64.whl (56 kB)\n",
      "     ---------------------------------------- 0.0/56.1 kB ? eta -:--:--\n",
      "     ---------------------------------------- 56.1/56.1 kB 2.9 MB/s eta 0:00:00\n",
      "Collecting cycler>=0.10\n",
      "  Downloading cycler-0.12.0-py3-none-any.whl (8.2 kB)\n",
      "Collecting fonttools>=4.22.0\n",
      "  Downloading fonttools-4.43.1-cp310-cp310-win_amd64.whl (2.1 MB)\n",
      "     ---------------------------------------- 0.0/2.1 MB ? eta -:--:--\n",
      "     ----------------- ---------------------- 1.0/2.1 MB 20.0 MB/s eta 0:00:01\n",
      "     ---------------------------------------  2.1/2.1 MB 22.7 MB/s eta 0:00:01\n",
      "     ---------------------------------------- 2.1/2.1 MB 19.4 MB/s eta 0:00:00\n",
      "Collecting pillow>=6.2.0\n",
      "  Downloading Pillow-10.0.1-cp310-cp310-win_amd64.whl (2.5 MB)\n",
      "     ---------------------------------------- 0.0/2.5 MB ? eta -:--:--\n",
      "     -------------- ------------------------- 0.9/2.5 MB 19.0 MB/s eta 0:00:01\n",
      "     -------------------------------- ------- 2.0/2.5 MB 25.7 MB/s eta 0:00:01\n",
      "     ---------------------------------- ----- 2.2/2.5 MB 22.9 MB/s eta 0:00:01\n",
      "     ---------------------------------------- 2.5/2.5 MB 16.0 MB/s eta 0:00:00\n",
      "Requirement already satisfied: python-dateutil>=2.7 in c:\\users\\jessi\\appdata\\local\\packages\\pythonsoftwarefoundation.python.3.10_qbz5n2kfra8p0\\localcache\\local-packages\\python310\\site-packages (from matplotlib) (2.8.2)\n",
      "Collecting pyparsing>=2.3.1\n",
      "  Downloading pyparsing-3.1.1-py3-none-any.whl (103 kB)\n",
      "     ---------------------------------------- 0.0/103.1 kB ? eta -:--:--\n",
      "     ---------------------------------------- 103.1/103.1 kB ? eta 0:00:00\n",
      "Collecting contourpy>=1.0.1\n",
      "  Downloading contourpy-1.1.1-cp310-cp310-win_amd64.whl (477 kB)\n",
      "     ---------------------------------------- 0.0/478.0 kB ? eta -:--:--\n",
      "     ------------------------------------- 478.0/478.0 kB 29.2 MB/s eta 0:00:00\n",
      "Requirement already satisfied: numpy<2,>=1.21 in c:\\users\\jessi\\appdata\\local\\packages\\pythonsoftwarefoundation.python.3.10_qbz5n2kfra8p0\\localcache\\local-packages\\python310\\site-packages (from matplotlib) (1.24.2)\n",
      "Requirement already satisfied: packaging>=20.0 in c:\\users\\jessi\\appdata\\local\\packages\\pythonsoftwarefoundation.python.3.10_qbz5n2kfra8p0\\localcache\\local-packages\\python310\\site-packages (from matplotlib) (23.0)\n",
      "Requirement already satisfied: six>=1.5 in c:\\users\\jessi\\appdata\\local\\packages\\pythonsoftwarefoundation.python.3.10_qbz5n2kfra8p0\\localcache\\local-packages\\python310\\site-packages (from python-dateutil>=2.7->matplotlib) (1.16.0)\n",
      "Installing collected packages: pyparsing, pillow, kiwisolver, fonttools, cycler, contourpy, matplotlib\n",
      "Successfully installed contourpy-1.1.1 cycler-0.12.0 fonttools-4.43.1 kiwisolver-1.4.5 matplotlib-3.8.0 pillow-10.0.1 pyparsing-3.1.1\n"
     ]
    },
    {
     "name": "stderr",
     "output_type": "stream",
     "text": [
      "\n",
      "[notice] A new release of pip is available: 23.0.1 -> 23.2.1\n",
      "[notice] To update, run: C:\\Users\\Jessi\\AppData\\Local\\Microsoft\\WindowsApps\\PythonSoftwareFoundation.Python.3.10_qbz5n2kfra8p0\\python.exe -m pip install --upgrade pip\n"
     ]
    }
   ],
   "source": [
    "#!pip install -U python-dotenv\n",
    "#!pip install spotipy\n",
    "#!pip install matplotlib"
   ]
  },
  {
   "cell_type": "code",
   "execution_count": 1,
   "metadata": {},
   "outputs": [],
   "source": [
    "import pandas as pd\n",
    "import os\n",
    "import plotly.express as px\n",
    "import spotipy\n",
    "from spotipy import oauth2\n",
    "from dotenv import load_dotenv\n",
    "import os\n",
    "from spotipy.oauth2 import SpotifyClientCredentials"
   ]
  },
  {
   "cell_type": "code",
   "execution_count": 3,
   "metadata": {},
   "outputs": [],
   "source": [
    "path = os.getcwd()\n",
    "\n",
    "# setting up authentication for spotipy\n",
    "load_dotenv(dotenv_path=path + f\"\\env_vars.env\")\n",
    "os.environ['SPOTIPY_CLIENT_ID'] = os.environ.get('SPOTIPY_CLIENT_ID')\n",
    "os.environ['SPOTIPY_CLIENT_SECRET'] = os.environ.get('SPOTIPY_CLIENT_SECRET')\n",
    "sp = spotipy.Spotify(client_credentials_manager=SpotifyClientCredentials())"
   ]
  },
  {
   "cell_type": "markdown",
   "metadata": {},
   "source": [
    "### Part 1: Loading in the Data\n",
    "#### We will load in my personal data blah blah, you can replace the string with your file path to analyze your music"
   ]
  },
  {
   "cell_type": "code",
   "execution_count": 4,
   "metadata": {},
   "outputs": [
    {
     "name": "stdout",
     "output_type": "stream",
     "text": [
      "(33284, 4)\n"
     ]
    },
    {
     "data": {
      "text/html": [
       "<div>\n",
       "<style scoped>\n",
       "    .dataframe tbody tr th:only-of-type {\n",
       "        vertical-align: middle;\n",
       "    }\n",
       "\n",
       "    .dataframe tbody tr th {\n",
       "        vertical-align: top;\n",
       "    }\n",
       "\n",
       "    .dataframe thead th {\n",
       "        text-align: right;\n",
       "    }\n",
       "</style>\n",
       "<table border=\"1\" class=\"dataframe\">\n",
       "  <thead>\n",
       "    <tr style=\"text-align: right;\">\n",
       "      <th></th>\n",
       "      <th>endTime</th>\n",
       "      <th>artistName</th>\n",
       "      <th>trackName</th>\n",
       "      <th>msPlayed</th>\n",
       "    </tr>\n",
       "  </thead>\n",
       "  <tbody>\n",
       "    <tr>\n",
       "      <th>0</th>\n",
       "      <td>2020-12-26 00:02</td>\n",
       "      <td>Michael Schulte</td>\n",
       "      <td>The Love You Left Behind</td>\n",
       "      <td>194546</td>\n",
       "    </tr>\n",
       "    <tr>\n",
       "      <th>1</th>\n",
       "      <td>2020-12-26 00:05</td>\n",
       "      <td>Lewis Capaldi</td>\n",
       "      <td>Lost On You</td>\n",
       "      <td>197178</td>\n",
       "    </tr>\n",
       "    <tr>\n",
       "      <th>2</th>\n",
       "      <td>2020-12-26 00:08</td>\n",
       "      <td>Arlissa</td>\n",
       "      <td>Praying for Love</td>\n",
       "      <td>182535</td>\n",
       "    </tr>\n",
       "    <tr>\n",
       "      <th>3</th>\n",
       "      <td>2020-12-26 00:12</td>\n",
       "      <td>JP Saxe</td>\n",
       "      <td>A Little Bit Yours</td>\n",
       "      <td>225680</td>\n",
       "    </tr>\n",
       "    <tr>\n",
       "      <th>4</th>\n",
       "      <td>2020-12-26 00:16</td>\n",
       "      <td>My Brothers And I</td>\n",
       "      <td>Just Getting to Know You</td>\n",
       "      <td>252840</td>\n",
       "    </tr>\n",
       "  </tbody>\n",
       "</table>\n",
       "</div>"
      ],
      "text/plain": [
       "            endTime         artistName                 trackName  msPlayed\n",
       "0  2020-12-26 00:02    Michael Schulte  The Love You Left Behind    194546\n",
       "1  2020-12-26 00:05      Lewis Capaldi               Lost On You    197178\n",
       "2  2020-12-26 00:08            Arlissa          Praying for Love    182535\n",
       "3  2020-12-26 00:12            JP Saxe        A Little Bit Yours    225680\n",
       "4  2020-12-26 00:16  My Brothers And I  Just Getting to Know You    252840"
      ]
     },
     "execution_count": 4,
     "metadata": {},
     "output_type": "execute_result"
    }
   ],
   "source": [
    "num_histories = 4\n",
    "listening = pd.DataFrame()\n",
    "for i in range(num_histories):\n",
    "    temp_df = pd.read_json(path + f\"\\MyData\\StreamingHistory{i}.json\")\n",
    "    listening = pd.concat([listening, temp_df])\n",
    "print(listening.shape)\n",
    "listening.head(5)"
   ]
  },
  {
   "cell_type": "code",
   "execution_count": 5,
   "metadata": {},
   "outputs": [
    {
     "data": {
      "text/html": [
       "<div>\n",
       "<style scoped>\n",
       "    .dataframe tbody tr th:only-of-type {\n",
       "        vertical-align: middle;\n",
       "    }\n",
       "\n",
       "    .dataframe tbody tr th {\n",
       "        vertical-align: top;\n",
       "    }\n",
       "\n",
       "    .dataframe thead th {\n",
       "        text-align: right;\n",
       "    }\n",
       "</style>\n",
       "<table border=\"1\" class=\"dataframe\">\n",
       "  <thead>\n",
       "    <tr style=\"text-align: right;\">\n",
       "      <th></th>\n",
       "      <th>playlists</th>\n",
       "    </tr>\n",
       "  </thead>\n",
       "  <tbody>\n",
       "    <tr>\n",
       "      <th>0</th>\n",
       "      <td>{'name': 'My Playlist #23', 'lastModifiedDate'...</td>\n",
       "    </tr>\n",
       "    <tr>\n",
       "      <th>1</th>\n",
       "      <td>{'name': 'My Playlist #22', 'lastModifiedDate'...</td>\n",
       "    </tr>\n",
       "    <tr>\n",
       "      <th>2</th>\n",
       "      <td>{'name': 'Stealing Spotify Daily Mixes', 'last...</td>\n",
       "    </tr>\n",
       "    <tr>\n",
       "      <th>3</th>\n",
       "      <td>{'name': 'Jess Chill Reccomended by Spotify', ...</td>\n",
       "    </tr>\n",
       "    <tr>\n",
       "      <th>4</th>\n",
       "      <td>{'name': 'Jess &lt;3 Vibes?', 'lastModifiedDate':...</td>\n",
       "    </tr>\n",
       "  </tbody>\n",
       "</table>\n",
       "</div>"
      ],
      "text/plain": [
       "                                           playlists\n",
       "0  {'name': 'My Playlist #23', 'lastModifiedDate'...\n",
       "1  {'name': 'My Playlist #22', 'lastModifiedDate'...\n",
       "2  {'name': 'Stealing Spotify Daily Mixes', 'last...\n",
       "3  {'name': 'Jess Chill Reccomended by Spotify', ...\n",
       "4  {'name': 'Jess <3 Vibes?', 'lastModifiedDate':..."
      ]
     },
     "execution_count": 5,
     "metadata": {},
     "output_type": "execute_result"
    }
   ],
   "source": [
    "playlists = pd.read_json(path + f\"\\MyData\\Playlist1.json\")\n",
    "playlists.head(5)"
   ]
  },
  {
   "cell_type": "markdown",
   "metadata": {},
   "source": [
    "### Part 2: EDA"
   ]
  },
  {
   "cell_type": "markdown",
   "metadata": {},
   "source": []
  },
  {
   "cell_type": "code",
   "execution_count": 6,
   "metadata": {},
   "outputs": [
    {
     "data": {
      "text/plain": [
       "{'name': 'Jess Chill Reccomended by Spotify',\n",
       " 'lastModifiedDate': '2021-12-04',\n",
       " 'items': [{'track': {'trackName': 'House',\n",
       "    'artistName': 'Joshua Moss',\n",
       "    'albumName': 'House',\n",
       "    'trackUri': 'spotify:track:3BdtiKSZveePCDhfncBOFd'},\n",
       "   'episode': None,\n",
       "   'localTrack': None},\n",
       "  {'track': {'trackName': 'Apple Pie',\n",
       "    'artistName': 'Lizzy McAlpine',\n",
       "    'albumName': 'Give Me A Minute',\n",
       "    'trackUri': 'spotify:track:5FKNq0lLJnP3iZzBTD0PZj'},\n",
       "   'episode': None,\n",
       "   'localTrack': None},\n",
       "  {'track': {'trackName': 'Free',\n",
       "    'artistName': 'Elina',\n",
       "    'albumName': 'Free',\n",
       "    'trackUri': 'spotify:track:3hOWsTM9OpI6c72iQHP4EB'},\n",
       "   'episode': None,\n",
       "   'localTrack': None},\n",
       "  {'track': {'trackName': 'Pancakes for Dinner',\n",
       "    'artistName': 'Lizzy McAlpine',\n",
       "    'albumName': 'Give Me A Minute',\n",
       "    'trackUri': 'spotify:track:4HffeEF97c6UxNePgbuECW'},\n",
       "   'episode': None,\n",
       "   'localTrack': None}],\n",
       " 'description': None,\n",
       " 'numberOfFollowers': 0}"
      ]
     },
     "execution_count": 6,
     "metadata": {},
     "output_type": "execute_result"
    }
   ],
   "source": [
    "playlists['playlists'][3]"
   ]
  },
  {
   "cell_type": "code",
   "execution_count": 57,
   "metadata": {},
   "outputs": [
    {
     "data": {
      "text/plain": [
       "{'danceability': 0.656,\n",
       " 'energy': 0.291,\n",
       " 'key': 2,\n",
       " 'loudness': -10.572,\n",
       " 'mode': 1,\n",
       " 'speechiness': 0.0293,\n",
       " 'acousticness': 0.872,\n",
       " 'instrumentalness': 0,\n",
       " 'liveness': 0.114,\n",
       " 'valence': 0.298,\n",
       " 'tempo': 103.971,\n",
       " 'type': 'audio_features',\n",
       " 'id': '4RCWB3V8V0dignt99LZ8vH',\n",
       " 'uri': 'spotify:track:4RCWB3V8V0dignt99LZ8vH',\n",
       " 'track_href': 'https://api.spotify.com/v1/tracks/4RCWB3V8V0dignt99LZ8vH',\n",
       " 'analysis_url': 'https://api.spotify.com/v1/audio-analysis/4RCWB3V8V0dignt99LZ8vH',\n",
       " 'duration_ms': 232533,\n",
       " 'time_signature': 4}"
      ]
     },
     "execution_count": 57,
     "metadata": {},
     "output_type": "execute_result"
    }
   ],
   "source": [
    "# information based on a single song\n",
    "track_name, track_artist = 'Hey There Delilah', 'Plain White T\\'s'\n",
    "track_uri = sp.search(q='artist:' + track_artist + ' track:' + track_name, type='track')['tracks']['items'][0]['uri']\n",
    "# track_analysis = sp.audio_analysis(track_uri) # too much info for me rn\n",
    "track_features = sp.audio_features(track_uri)\n",
    "track_features[0]"
   ]
  },
  {
   "cell_type": "code",
   "execution_count": 82,
   "metadata": {},
   "outputs": [
    {
     "data": {
      "text/html": [
       "<div>\n",
       "<style scoped>\n",
       "    .dataframe tbody tr th:only-of-type {\n",
       "        vertical-align: middle;\n",
       "    }\n",
       "\n",
       "    .dataframe tbody tr th {\n",
       "        vertical-align: top;\n",
       "    }\n",
       "\n",
       "    .dataframe thead th {\n",
       "        text-align: right;\n",
       "    }\n",
       "</style>\n",
       "<table border=\"1\" class=\"dataframe\">\n",
       "  <thead>\n",
       "    <tr style=\"text-align: right;\">\n",
       "      <th></th>\n",
       "      <th>trackName</th>\n",
       "      <th>artistName</th>\n",
       "      <th>count</th>\n",
       "    </tr>\n",
       "  </thead>\n",
       "  <tbody>\n",
       "    <tr>\n",
       "      <th>2092</th>\n",
       "      <td>I Wish</td>\n",
       "      <td>Declan J Donovan</td>\n",
       "      <td>12</td>\n",
       "    </tr>\n",
       "    <tr>\n",
       "      <th>5201</th>\n",
       "      <td>friendship?</td>\n",
       "      <td>Jordy Searcy</td>\n",
       "      <td>10</td>\n",
       "    </tr>\n",
       "    <tr>\n",
       "      <th>3966</th>\n",
       "      <td>Sorry That I Do That</td>\n",
       "      <td>Anna Clendening</td>\n",
       "      <td>60</td>\n",
       "    </tr>\n",
       "    <tr>\n",
       "      <th>3232</th>\n",
       "      <td>One Day</td>\n",
       "      <td>Lovejoy</td>\n",
       "      <td>3</td>\n",
       "    </tr>\n",
       "    <tr>\n",
       "      <th>848</th>\n",
       "      <td>Complicated</td>\n",
       "      <td>Olivia O'Brien</td>\n",
       "      <td>6</td>\n",
       "    </tr>\n",
       "  </tbody>\n",
       "</table>\n",
       "</div>"
      ],
      "text/plain": [
       "                 trackName        artistName  count\n",
       "2092                I Wish  Declan J Donovan     12\n",
       "5201           friendship?      Jordy Searcy     10\n",
       "3966  Sorry That I Do That   Anna Clendening     60\n",
       "3232               One Day           Lovejoy      3\n",
       "848            Complicated    Olivia O'Brien      6"
      ]
     },
     "execution_count": 82,
     "metadata": {},
     "output_type": "execute_result"
    }
   ],
   "source": [
    "counts = listening.query('msPlayed >= 3000').groupby(by=['trackName', 'artistName']).size().reset_index()\n",
    "songs_df = counts.rename(columns={0: 'count'}).sample(n=100, weights='count', random_state=42)#.query('count >= 5').sort_values('count', ascending=False) # either listened to >5 times or top x songs or random x songs\n",
    "songs_df.head(5)#.to_csv('csv_exports/grouped.csv')"
   ]
  },
  {
   "cell_type": "code",
   "execution_count": 88,
   "metadata": {},
   "outputs": [
    {
     "data": {
      "text/html": [
       "<div>\n",
       "<style scoped>\n",
       "    .dataframe tbody tr th:only-of-type {\n",
       "        vertical-align: middle;\n",
       "    }\n",
       "\n",
       "    .dataframe tbody tr th {\n",
       "        vertical-align: top;\n",
       "    }\n",
       "\n",
       "    .dataframe thead th {\n",
       "        text-align: right;\n",
       "    }\n",
       "</style>\n",
       "<table border=\"1\" class=\"dataframe\">\n",
       "  <thead>\n",
       "    <tr style=\"text-align: right;\">\n",
       "      <th></th>\n",
       "      <th>trackName</th>\n",
       "      <th>artistName</th>\n",
       "      <th>count</th>\n",
       "      <th>danceability</th>\n",
       "      <th>energy</th>\n",
       "      <th>key</th>\n",
       "      <th>loudness</th>\n",
       "      <th>mode</th>\n",
       "      <th>speechiness</th>\n",
       "      <th>acousticness</th>\n",
       "      <th>instrumentalness</th>\n",
       "      <th>liveness</th>\n",
       "      <th>valence</th>\n",
       "      <th>tempo</th>\n",
       "      <th>id</th>\n",
       "      <th>duration_ms</th>\n",
       "      <th>time_signature</th>\n",
       "    </tr>\n",
       "  </thead>\n",
       "  <tbody>\n",
       "    <tr>\n",
       "      <th>2092</th>\n",
       "      <td>I Wish</td>\n",
       "      <td>Declan J Donovan</td>\n",
       "      <td>12</td>\n",
       "      <td>0.625</td>\n",
       "      <td>0.241</td>\n",
       "      <td>7.0</td>\n",
       "      <td>-9.312</td>\n",
       "      <td>1.0</td>\n",
       "      <td>0.0308</td>\n",
       "      <td>0.84500</td>\n",
       "      <td>0.000000</td>\n",
       "      <td>0.1530</td>\n",
       "      <td>0.0960</td>\n",
       "      <td>111.902</td>\n",
       "      <td>7sXnAth7OEXjGhrW7Qsl3Y</td>\n",
       "      <td>198720.0</td>\n",
       "      <td>4.0</td>\n",
       "    </tr>\n",
       "    <tr>\n",
       "      <th>5201</th>\n",
       "      <td>friendship?</td>\n",
       "      <td>Jordy Searcy</td>\n",
       "      <td>10</td>\n",
       "      <td>0.571</td>\n",
       "      <td>0.224</td>\n",
       "      <td>4.0</td>\n",
       "      <td>-11.704</td>\n",
       "      <td>1.0</td>\n",
       "      <td>0.0646</td>\n",
       "      <td>0.69600</td>\n",
       "      <td>0.000000</td>\n",
       "      <td>0.1030</td>\n",
       "      <td>0.5060</td>\n",
       "      <td>108.526</td>\n",
       "      <td>0Io5aNyPCvK31w1hffcTbC</td>\n",
       "      <td>220133.0</td>\n",
       "      <td>4.0</td>\n",
       "    </tr>\n",
       "    <tr>\n",
       "      <th>3966</th>\n",
       "      <td>Sorry That I Do That</td>\n",
       "      <td>Anna Clendening</td>\n",
       "      <td>60</td>\n",
       "      <td>0.714</td>\n",
       "      <td>0.404</td>\n",
       "      <td>9.0</td>\n",
       "      <td>-8.759</td>\n",
       "      <td>1.0</td>\n",
       "      <td>0.0439</td>\n",
       "      <td>0.19600</td>\n",
       "      <td>0.000001</td>\n",
       "      <td>0.2830</td>\n",
       "      <td>0.2990</td>\n",
       "      <td>98.016</td>\n",
       "      <td>2WxCovJaXPloCHw0yJ0Z0z</td>\n",
       "      <td>149821.0</td>\n",
       "      <td>4.0</td>\n",
       "    </tr>\n",
       "    <tr>\n",
       "      <th>3232</th>\n",
       "      <td>One Day</td>\n",
       "      <td>Lovejoy</td>\n",
       "      <td>3</td>\n",
       "      <td>0.339</td>\n",
       "      <td>0.730</td>\n",
       "      <td>10.0</td>\n",
       "      <td>-8.568</td>\n",
       "      <td>0.0</td>\n",
       "      <td>0.0358</td>\n",
       "      <td>0.00737</td>\n",
       "      <td>0.000000</td>\n",
       "      <td>0.0472</td>\n",
       "      <td>0.8370</td>\n",
       "      <td>183.144</td>\n",
       "      <td>58U47mHjyLwUwJZ7voUt15</td>\n",
       "      <td>144375.0</td>\n",
       "      <td>4.0</td>\n",
       "    </tr>\n",
       "    <tr>\n",
       "      <th>848</th>\n",
       "      <td>Complicated</td>\n",
       "      <td>Olivia O'Brien</td>\n",
       "      <td>6</td>\n",
       "      <td>0.657</td>\n",
       "      <td>0.355</td>\n",
       "      <td>7.0</td>\n",
       "      <td>-12.047</td>\n",
       "      <td>1.0</td>\n",
       "      <td>0.0715</td>\n",
       "      <td>0.69400</td>\n",
       "      <td>0.000425</td>\n",
       "      <td>0.1230</td>\n",
       "      <td>0.0808</td>\n",
       "      <td>74.990</td>\n",
       "      <td>226PUvIuxGdceSijXXZRRz</td>\n",
       "      <td>189000.0</td>\n",
       "      <td>4.0</td>\n",
       "    </tr>\n",
       "  </tbody>\n",
       "</table>\n",
       "</div>"
      ],
      "text/plain": [
       "                 trackName        artistName  count  danceability  energy  \\\n",
       "2092                I Wish  Declan J Donovan     12         0.625   0.241   \n",
       "5201           friendship?      Jordy Searcy     10         0.571   0.224   \n",
       "3966  Sorry That I Do That   Anna Clendening     60         0.714   0.404   \n",
       "3232               One Day           Lovejoy      3         0.339   0.730   \n",
       "848            Complicated    Olivia O'Brien      6         0.657   0.355   \n",
       "\n",
       "       key  loudness  mode  speechiness  acousticness  instrumentalness  \\\n",
       "2092   7.0    -9.312   1.0       0.0308       0.84500          0.000000   \n",
       "5201   4.0   -11.704   1.0       0.0646       0.69600          0.000000   \n",
       "3966   9.0    -8.759   1.0       0.0439       0.19600          0.000001   \n",
       "3232  10.0    -8.568   0.0       0.0358       0.00737          0.000000   \n",
       "848    7.0   -12.047   1.0       0.0715       0.69400          0.000425   \n",
       "\n",
       "      liveness  valence    tempo                      id  duration_ms  \\\n",
       "2092    0.1530   0.0960  111.902  7sXnAth7OEXjGhrW7Qsl3Y     198720.0   \n",
       "5201    0.1030   0.5060  108.526  0Io5aNyPCvK31w1hffcTbC     220133.0   \n",
       "3966    0.2830   0.2990   98.016  2WxCovJaXPloCHw0yJ0Z0z     149821.0   \n",
       "3232    0.0472   0.8370  183.144  58U47mHjyLwUwJZ7voUt15     144375.0   \n",
       "848     0.1230   0.0808   74.990  226PUvIuxGdceSijXXZRRz     189000.0   \n",
       "\n",
       "      time_signature  \n",
       "2092             4.0  \n",
       "5201             4.0  \n",
       "3966             4.0  \n",
       "3232             4.0  \n",
       "848              4.0  "
      ]
     },
     "execution_count": 88,
     "metadata": {},
     "output_type": "execute_result"
    }
   ],
   "source": [
    "\n",
    "lst_of_cols = list(track_features[0].keys())\n",
    "# lst_of_cols.remove(['type', 'analysis_url'])\n",
    "# lst_of_cols.remove(x for x in ['type', 'analysis_url'])\n",
    "[lst_of_cols.remove(col) for col in ['type', 'uri', 'analysis_url', 'track_href']]\n",
    "def find_info(song):\n",
    "    # print(song)\n",
    "    try:\n",
    "        song_dict = sp.search(q='artist:' + song[1] + ' track:' + song[0], type='track')\n",
    "        song_uri = song_dict['tracks']['items'][0]['uri']\n",
    "        track_features = sp.audio_features(song_uri)[0]\n",
    "        return pd.Series([track_features[i] for i in lst_of_cols])\n",
    "    except:\n",
    "        return pd.Series([None] * len(lst_of_cols))\n",
    "    \n",
    "    \n",
    "songs_df[lst_of_cols] = songs_df[['trackName', 'artistName']].apply(find_info, axis=1)\n",
    "songs_df.head(5)"
   ]
  },
  {
   "cell_type": "markdown",
   "metadata": {},
   "source": [
    "### PCA attempt/plotting the PCs/scree plot"
   ]
  },
  {
   "cell_type": "code",
   "execution_count": 97,
   "metadata": {},
   "outputs": [],
   "source": [
    "# imports\n",
    "import numpy as np\n",
    "import matplotlib.pyplot as plt\n",
    "import seaborn as sns\n",
    "import plotly.express as px"
   ]
  },
  {
   "cell_type": "code",
   "execution_count": 125,
   "metadata": {},
   "outputs": [
    {
     "data": {
      "text/html": [
       "<div>\n",
       "<style scoped>\n",
       "    .dataframe tbody tr th:only-of-type {\n",
       "        vertical-align: middle;\n",
       "    }\n",
       "\n",
       "    .dataframe tbody tr th {\n",
       "        vertical-align: top;\n",
       "    }\n",
       "\n",
       "    .dataframe thead th {\n",
       "        text-align: right;\n",
       "    }\n",
       "</style>\n",
       "<table border=\"1\" class=\"dataframe\">\n",
       "  <thead>\n",
       "    <tr style=\"text-align: right;\">\n",
       "      <th></th>\n",
       "      <th>count</th>\n",
       "      <th>danceability</th>\n",
       "      <th>energy</th>\n",
       "      <th>key</th>\n",
       "      <th>loudness</th>\n",
       "      <th>mode</th>\n",
       "      <th>speechiness</th>\n",
       "      <th>acousticness</th>\n",
       "      <th>instrumentalness</th>\n",
       "      <th>liveness</th>\n",
       "      <th>valence</th>\n",
       "      <th>tempo</th>\n",
       "      <th>duration_ms</th>\n",
       "      <th>time_signature</th>\n",
       "    </tr>\n",
       "    <tr>\n",
       "      <th>trackName</th>\n",
       "      <th></th>\n",
       "      <th></th>\n",
       "      <th></th>\n",
       "      <th></th>\n",
       "      <th></th>\n",
       "      <th></th>\n",
       "      <th></th>\n",
       "      <th></th>\n",
       "      <th></th>\n",
       "      <th></th>\n",
       "      <th></th>\n",
       "      <th></th>\n",
       "      <th></th>\n",
       "      <th></th>\n",
       "    </tr>\n",
       "  </thead>\n",
       "  <tbody>\n",
       "    <tr>\n",
       "      <th>I Wish</th>\n",
       "      <td>-8.428571</td>\n",
       "      <td>0.070969</td>\n",
       "      <td>-0.178482</td>\n",
       "      <td>2.214286</td>\n",
       "      <td>0.465071</td>\n",
       "      <td>0.081633</td>\n",
       "      <td>-0.02096</td>\n",
       "      <td>0.282075</td>\n",
       "      <td>-0.016626</td>\n",
       "      <td>0.005392</td>\n",
       "      <td>-0.234992</td>\n",
       "      <td>-3.532092</td>\n",
       "      <td>-20736.795918</td>\n",
       "      <td>0.244898</td>\n",
       "    </tr>\n",
       "    <tr>\n",
       "      <th>friendship?</th>\n",
       "      <td>-10.428571</td>\n",
       "      <td>0.016969</td>\n",
       "      <td>-0.195482</td>\n",
       "      <td>-0.785714</td>\n",
       "      <td>-1.926929</td>\n",
       "      <td>0.081633</td>\n",
       "      <td>0.01284</td>\n",
       "      <td>0.133075</td>\n",
       "      <td>-0.016626</td>\n",
       "      <td>-0.044608</td>\n",
       "      <td>0.175008</td>\n",
       "      <td>-6.908092</td>\n",
       "      <td>676.204082</td>\n",
       "      <td>0.244898</td>\n",
       "    </tr>\n",
       "    <tr>\n",
       "      <th>Sorry That I Do That</th>\n",
       "      <td>39.571429</td>\n",
       "      <td>0.159969</td>\n",
       "      <td>-0.015482</td>\n",
       "      <td>4.214286</td>\n",
       "      <td>1.018071</td>\n",
       "      <td>0.081633</td>\n",
       "      <td>-0.00786</td>\n",
       "      <td>-0.366925</td>\n",
       "      <td>-0.016625</td>\n",
       "      <td>0.135392</td>\n",
       "      <td>-0.031992</td>\n",
       "      <td>-17.418092</td>\n",
       "      <td>-69635.795918</td>\n",
       "      <td>0.244898</td>\n",
       "    </tr>\n",
       "    <tr>\n",
       "      <th>One Day</th>\n",
       "      <td>-17.428571</td>\n",
       "      <td>-0.215031</td>\n",
       "      <td>0.310518</td>\n",
       "      <td>5.214286</td>\n",
       "      <td>1.209071</td>\n",
       "      <td>-0.918367</td>\n",
       "      <td>-0.01596</td>\n",
       "      <td>-0.555555</td>\n",
       "      <td>-0.016626</td>\n",
       "      <td>-0.100408</td>\n",
       "      <td>0.506008</td>\n",
       "      <td>67.709908</td>\n",
       "      <td>-75081.795918</td>\n",
       "      <td>0.244898</td>\n",
       "    </tr>\n",
       "    <tr>\n",
       "      <th>Complicated</th>\n",
       "      <td>-14.428571</td>\n",
       "      <td>0.102969</td>\n",
       "      <td>-0.064482</td>\n",
       "      <td>2.214286</td>\n",
       "      <td>-2.269929</td>\n",
       "      <td>0.081633</td>\n",
       "      <td>0.01974</td>\n",
       "      <td>0.131075</td>\n",
       "      <td>-0.016201</td>\n",
       "      <td>-0.024608</td>\n",
       "      <td>-0.250192</td>\n",
       "      <td>-40.444092</td>\n",
       "      <td>-30456.795918</td>\n",
       "      <td>0.244898</td>\n",
       "    </tr>\n",
       "  </tbody>\n",
       "</table>\n",
       "</div>"
      ],
      "text/plain": [
       "                          count  danceability    energy       key  loudness  \\\n",
       "trackName                                                                     \n",
       "I Wish                -8.428571      0.070969 -0.178482  2.214286  0.465071   \n",
       "friendship?          -10.428571      0.016969 -0.195482 -0.785714 -1.926929   \n",
       "Sorry That I Do That  39.571429      0.159969 -0.015482  4.214286  1.018071   \n",
       "One Day              -17.428571     -0.215031  0.310518  5.214286  1.209071   \n",
       "Complicated          -14.428571      0.102969 -0.064482  2.214286 -2.269929   \n",
       "\n",
       "                          mode  speechiness  acousticness  instrumentalness  \\\n",
       "trackName                                                                     \n",
       "I Wish                0.081633     -0.02096      0.282075         -0.016626   \n",
       "friendship?           0.081633      0.01284      0.133075         -0.016626   \n",
       "Sorry That I Do That  0.081633     -0.00786     -0.366925         -0.016625   \n",
       "One Day              -0.918367     -0.01596     -0.555555         -0.016626   \n",
       "Complicated           0.081633      0.01974      0.131075         -0.016201   \n",
       "\n",
       "                      liveness   valence      tempo   duration_ms  \\\n",
       "trackName                                                           \n",
       "I Wish                0.005392 -0.234992  -3.532092 -20736.795918   \n",
       "friendship?          -0.044608  0.175008  -6.908092    676.204082   \n",
       "Sorry That I Do That  0.135392 -0.031992 -17.418092 -69635.795918   \n",
       "One Day              -0.100408  0.506008  67.709908 -75081.795918   \n",
       "Complicated          -0.024608 -0.250192 -40.444092 -30456.795918   \n",
       "\n",
       "                      time_signature  \n",
       "trackName                             \n",
       "I Wish                      0.244898  \n",
       "friendship?                 0.244898  \n",
       "Sorry That I Do That        0.244898  \n",
       "One Day                     0.244898  \n",
       "Complicated                 0.244898  "
      ]
     },
     "execution_count": 125,
     "metadata": {},
     "output_type": "execute_result"
    }
   ],
   "source": [
    "cleaned_df = songs_df.set_index('trackName').drop(columns=['id', 'artistName']).dropna()\n",
    "centered_df = cleaned_df - np.mean(cleaned_df, axis=0)\n",
    "centered_df.head(5)"
   ]
  },
  {
   "cell_type": "code",
   "execution_count": 126,
   "metadata": {},
   "outputs": [
    {
     "data": {
      "text/plain": [
       "((98, 14), (14,), (14, 14))"
      ]
     },
     "execution_count": 126,
     "metadata": {},
     "output_type": "execute_result"
    }
   ],
   "source": [
    "u, s, vt = np.linalg.svd(centered_df, full_matrices = False)\n",
    "u.shape, s.shape, vt.shape"
   ]
  },
  {
   "cell_type": "code",
   "execution_count": 127,
   "metadata": {},
   "outputs": [
    {
     "data": {
      "text/plain": [
       "[<matplotlib.lines.Line2D at 0x1e4478b2ce0>]"
      ]
     },
     "execution_count": 127,
     "metadata": {},
     "output_type": "execute_result"
    },
    {
     "data": {
      "image/png": "[encoded data removed]",
      "text/plain": [
       "<Figure size 640x480 with 1 Axes>"
      ]
     },
     "metadata": {},
     "output_type": "display_data"
    }
   ],
   "source": [
    "# scree plot\n",
    "plt.plot(s**2, marker='.')"
   ]
  },
  {
   "cell_type": "code",
   "execution_count": null,
   "metadata": {},
   "outputs": [],
   "source": []
  },
  {
   "cell_type": "code",
   "execution_count": 128,
   "metadata": {},
   "outputs": [
    {
     "data": {
      "application/vnd.plotly.v1+json": {
       "config": {
        "plotlyServerURL": "https://plot.ly"
       },
       "data": [
        {
         "customdata": [
          [
           "I Wish"
          ],
          [
           "friendship?"
          ],
          [
           "Sorry That I Do That"
          ],
          [
           "One Day"
          ],
          [
           "Complicated"
          ],
          [
           "Astronaut Kids"
          ],
          [
           "We Could Be Anything (Black & White)"
          ],
          [
           "Only Everything - Acoustic"
          ],
          [
           "Singing in the Rain"
          ],
          [
           "About the Rain"
          ],
          [
           "if i were a friend"
          ],
          [
           "Tsunami"
          ],
          [
           "Everyone’s Got Something"
          ],
          [
           "Different Eyes"
          ],
          [
           "Dirt"
          ],
          [
           "Have We Met Before (with Eric Nam)"
          ],
          [
           "Miles Apart"
          ],
          [
           "Jericho"
          ],
          [
           "Hailey"
          ],
          [
           "Pancakes for Dinner"
          ],
          [
           "Chosen Last"
          ],
          [
           "Half Gone"
          ],
          [
           "I Met Sarah in the Bathroom"
          ],
          [
           "Last Time"
          ],
          [
           "The Corner Dwellers"
          ],
          [
           "Either You Love Me Or You Don't - Live Acoustic"
          ],
          [
           "Marigold"
          ],
          [
           "Older"
          ],
          [
           "America"
          ],
          [
           "Out of Love"
          ],
          [
           "Dancing With Your Ghost"
          ],
          [
           "Back to Friends"
          ],
          [
           "fools (can't help falling in love)"
          ],
          [
           "i luv him."
          ],
          [
           "Things You Can't Change"
          ],
          [
           "Blue"
          ],
          [
           "Seasons Change"
          ],
          [
           "Keep Me Up"
          ],
          [
           "CLEAR"
          ],
          [
           "Love Like This - Acoustic"
          ],
          [
           "All This Love"
          ],
          [
           "Yellow Lights"
          ],
          [
           "From Afar"
          ],
          [
           "River of Grace"
          ],
          [
           "Helium"
          ],
          [
           "Medicine"
          ],
          [
           "My Person"
          ],
          [
           "Disarray"
          ],
          [
           "Terrible Things - EP Version"
          ],
          [
           "blind"
          ],
          [
           "Wilderness"
          ],
          [
           "One Day"
          ],
          [
           "You Said You'd Grow Old With Me"
          ],
          [
           "Better Together"
          ],
          [
           "Dwelling Place"
          ],
          [
           "Always Be Loving You"
          ],
          [
           "Hold On"
          ],
          [
           "Give It All"
          ],
          [
           "Tragedy Is Not the End"
          ],
          [
           "I Don't Mind"
          ],
          [
           "Good Without"
          ],
          [
           "Murakami"
          ],
          [
           "The Village"
          ],
          [
           "Beautiful Disaster"
          ],
          [
           "stuck in my head"
          ],
          [
           "Tears Come From The Heart"
          ],
          [
           "Echo (with KSHMR)"
          ],
          [
           "2 Am"
          ],
          [
           "This is Love - Interlude"
          ],
          [
           "Sing of the Moon"
          ],
          [
           "Somewhere in Ann Arbor"
          ],
          [
           "Tears"
          ],
          [
           "Beautiful"
          ],
          [
           "I Feel Good About This"
          ],
          [
           "Bulletproof Weeks"
          ],
          [
           "Wasted Time"
          ],
          [
           "Photographs & Memories."
          ],
          [
           "Home"
          ],
          [
           "Heaven's Not Too Far"
          ],
          [
           "Song for a Girl"
          ],
          [
           "Pollen And Salt"
          ],
          [
           "Wherever We Are"
          ],
          [
           "Lie About You"
          ],
          [
           "By Your Side"
          ],
          [
           "Slow Dance (feat. Ava Max) - Sam Feldt Remix"
          ],
          [
           "Sweet Love"
          ],
          [
           "Nineteen"
          ],
          [
           "Love Like That"
          ],
          [
           "Mess Is Mine"
          ],
          [
           "Ivory Fields"
          ],
          [
           "Afterglow"
          ],
          [
           "Brand New"
          ],
          [
           "All I Want"
          ],
          [
           "Pocket Full Of Gold"
          ],
          [
           "Hey Love"
          ],
          [
           "Lying to Myself"
          ],
          [
           "Worthy Of You"
          ],
          [
           "Foul Mouth"
          ]
         ],
         "hovertemplate": "pc1=%{x}<br>pc2=%{y}<br>trackName=%{customdata[0]}<extra></extra>",
         "legendgroup": "",
         "marker": {
          "color": "#636efa",
          "symbol": "circle"
         },
         "mode": "markers",
         "name": "",
         "orientation": "v",
         "showlegend": false,
         "type": "scatter",
         "x": [
          -20736.796886388205,
          676.2025849702068,
          -69635.79234069481,
          -75081.79293308391,
          -30456.799718699705,
          60865.19940144118,
          2156.2012667822787,
          -44911.79595550239,
          26783.205947020746,
          -26923.79691640628,
          -66471.79832367916,
          39775.20325498392,
          3075.2033266986546,
          14665.205737028999,
          105721.20548874166,
          -61281.79177041394,
          5264.206889436859,
          -16386.799205491763,
          -51993.79558918525,
          15578.212044805434,
          7390.2078030902085,
          -26885.798869715294,
          -98081.79812838767,
          6866.209406288545,
          23750.201731696834,
          -5456.796665065024,
          -46748.79328825185,
          -43256.79447323125,
          32276.204164843017,
          -54509.796874702195,
          -21724.795879109002,
          -3475.7909821471094,
          -54427.79970788972,
          6367.207839526232,
          -20149.79935001284,
          -27503.796334438528,
          38380.20947219718,
          -46709.79866063398,
          191623.20644912965,
          22183.20164649641,
          -25858.798437684753,
          -48074.787197308695,
          42743.20343940645,
          13196.199919261642,
          -44123.79628678759,
          4980.208419306675,
          -32577.79549327074,
          -41813.794848253994,
          18619.206553332697,
          -66163.79512989114,
          50530.205854924316,
          -56395.795285859436,
          5286.202625051326,
          -18749.79731070862,
          48783.202126283715,
          -10869.796024144187,
          -20603.796141182032,
          16543.20919756157,
          77543.20530541934,
          -5221.794452914201,
          -37335.79919404648,
          46043.20918372628,
          10836.20283258631,
          32183.204873552397,
          -67060.79677576803,
          -9772.794622499674,
          -27103.79446070516,
          72674.20057559777,
          42185.20318709976,
          26910.200431023448,
          -6789.799065619755,
          -6896.795223757688,
          -18229.795044001912,
          -17928.797216312152,
          21850.204431391612,
          31770.202329718803,
          107876.20261769695,
          -17016.79875093412,
          23290.20427268565,
          27101.200179703792,
          49063.20040756231,
          420.2003639905384,
          -22806.79933305174,
          35890.21143813761,
          -25908.797290997034,
          48405.20396208426,
          -571.7983760439912,
          -7722.7989341337125,
          4183.205073042635,
          80060.2045498725,
          -33969.79550630976,
          24476.205693036354,
          86290.21257073783,
          -39243.79746672323,
          18543.203493876965,
          -6610.799730574122,
          -28837.799291956228,
          -14599.79861827844
         ],
         "xaxis": "x",
         "y": [
          -2.997249019766021,
          -8.225639713341607,
          -6.8870975159538235,
          70.6565343437749,
          -39.60967495380372,
          -40.050118404357185,
          -39.626187752357694,
          18.105078000089726,
          9.193453908739244,
          -7.96851036012517,
          -19.943727553387422,
          -3.081503997762598,
          -34.462239332012395,
          -1.033846993876389,
          0.531050244454895,
          56.69545634416809,
          5.660813680013347,
          -43.48851681230699,
          -12.212808207140922,
          32.961430402770226,
          -10.882237628538135,
          -24.138756296753822,
          -19.343184493732522,
          24.783670779085494,
          -36.811434511180884,
          12.859142764755584,
          52.57036303211182,
          45.3915567191557,
          31.34054060985753,
          6.568942462442944,
          -35.46728238761945,
          7.476350957720252,
          -31.484561121675394,
          10.842425017921478,
          -30.667989342483423,
          1.584855457770832,
          -5.282645643223879,
          -22.465980915158735,
          27.18813533946991,
          -12.191517788889985,
          -17.72428090472447,
          41.69513266330724,
          -30.195452930618668,
          -41.03478978893702,
          18.948671360120937,
          36.52806356920539,
          29.206676070384525,
          32.32384141868307,
          37.97914957479211,
          37.15036881191486,
          -31.14977201652606,
          24.47287309528057,
          -3.010854310589277,
          -5.521907718834499,
          -2.4185558765688757,
          2.093641478103206,
          5.221387435690433,
          32.312703202084386,
          -11.62287778858383,
          52.02366782442272,
          -24.66051498127404,
          43.85890294351171,
          3.7592387950511674,
          36.23429764336807,
          -25.335505450299774,
          -16.60537912134688,
          53.70356656843513,
          -36.912355828464555,
          9.290915260761093,
          -36.558832048299195,
          -26.29634927096972,
          -5.491248688672707,
          19.096648739989842,
          3.7575027969696464,
          11.09144751894616,
          -0.11641926258791252,
          4.261972107457702,
          -30.218230376632846,
          -0.05748538679671855,
          -32.46096831542264,
          -56.732881743606704,
          -35.99100928212534,
          -35.20774802508883,
          54.80750686606178,
          7.974996515269113,
          19.04970443434084,
          -21.592690816205966,
          -21.684894587082322,
          -5.783575213585883,
          7.464335908574297,
          -1.9143686950772034,
          27.374381327915916,
          70.32486313659075,
          1.3600917423416807,
          14.888243256413404,
          -41.11509414891725,
          -55.16973927992251,
          -11.758099527078683
         ],
         "yaxis": "y"
        }
       ],
       "layout": {
        "legend": {
         "tracegroupgap": 0
        },
        "margin": {
         "t": 60
        },
        "template": {
         "data": {
          "bar": [
           {
            "error_x": {
             "color": "#2a3f5f"
            },
            "error_y": {
             "color": "#2a3f5f"
            },
            "marker": {
             "line": {
              "color": "#E5ECF6",
              "width": 0.5
             },
             "pattern": {
              "fillmode": "overlay",
              "size": 10,
              "solidity": 0.2
             }
            },
            "type": "bar"
           }
          ],
          "barpolar": [
           {
            "marker": {
             "line": {
              "color": "#E5ECF6",
              "width": 0.5
             },
             "pattern": {
              "fillmode": "overlay",
              "size": 10,
              "solidity": 0.2
             }
            },
            "type": "barpolar"
           }
          ],
          "carpet": [
           {
            "aaxis": {
             "endlinecolor": "#2a3f5f",
             "gridcolor": "white",
             "linecolor": "white",
             "minorgridcolor": "white",
             "startlinecolor": "#2a3f5f"
            },
            "baxis": {
             "endlinecolor": "#2a3f5f",
             "gridcolor": "white",
             "linecolor": "white",
             "minorgridcolor": "white",
             "startlinecolor": "#2a3f5f"
            },
            "type": "carpet"
           }
          ],
          "choropleth": [
           {
            "colorbar": {
             "outlinewidth": 0,
             "ticks": ""
            },
            "type": "choropleth"
           }
          ],
          "contour": [
           {
            "colorbar": {
             "outlinewidth": 0,
             "ticks": ""
            },
            "colorscale": [
             [
              0,
              "#0d0887"
             ],
             [
              0.1111111111111111,
              "#46039f"
             ],
             [
              0.2222222222222222,
              "#7201a8"
             ],
             [
              0.3333333333333333,
              "#9c179e"
             ],
             [
              0.4444444444444444,
              "#bd3786"
             ],
             [
              0.5555555555555556,
              "#d8576b"
             ],
             [
              0.6666666666666666,
              "#ed7953"
             ],
             [
              0.7777777777777778,
              "#fb9f3a"
             ],
             [
              0.8888888888888888,
              "#fdca26"
             ],
             [
              1,
              "#f0f921"
             ]
            ],
            "type": "contour"
           }
          ],
          "contourcarpet": [
           {
            "colorbar": {
             "outlinewidth": 0,
             "ticks": ""
            },
            "type": "contourcarpet"
           }
          ],
          "heatmap": [
           {
            "colorbar": {
             "outlinewidth": 0,
             "ticks": ""
            },
            "colorscale": [
             [
              0,
              "#0d0887"
             ],
             [
              0.1111111111111111,
              "#46039f"
             ],
             [
              0.2222222222222222,
              "#7201a8"
             ],
             [
              0.3333333333333333,
              "#9c179e"
             ],
             [
              0.4444444444444444,
              "#bd3786"
             ],
             [
              0.5555555555555556,
              "#d8576b"
             ],
             [
              0.6666666666666666,
              "#ed7953"
             ],
             [
              0.7777777777777778,
              "#fb9f3a"
             ],
             [
              0.8888888888888888,
              "#fdca26"
             ],
             [
              1,
              "#f0f921"
             ]
            ],
            "type": "heatmap"
           }
          ],
          "heatmapgl": [
           {
            "colorbar": {
             "outlinewidth": 0,
             "ticks": ""
            },
            "colorscale": [
             [
              0,
              "#0d0887"
             ],
             [
              0.1111111111111111,
              "#46039f"
             ],
             [
              0.2222222222222222,
              "#7201a8"
             ],
             [
              0.3333333333333333,
              "#9c179e"
             ],
             [
              0.4444444444444444,
              "#bd3786"
             ],
             [
              0.5555555555555556,
              "#d8576b"
             ],
             [
              0.6666666666666666,
              "#ed7953"
             ],
             [
              0.7777777777777778,
              "#fb9f3a"
             ],
             [
              0.8888888888888888,
              "#fdca26"
             ],
             [
              1,
              "#f0f921"
             ]
            ],
            "type": "heatmapgl"
           }
          ],
          "histogram": [
           {
            "marker": {
             "pattern": {
              "fillmode": "overlay",
              "size": 10,
              "solidity": 0.2
             }
            },
            "type": "histogram"
           }
          ],
          "histogram2d": [
           {
            "colorbar": {
             "outlinewidth": 0,
             "ticks": ""
            },
            "colorscale": [
             [
              0,
              "#0d0887"
             ],
             [
              0.1111111111111111,
              "#46039f"
             ],
             [
              0.2222222222222222,
              "#7201a8"
             ],
             [
              0.3333333333333333,
              "#9c179e"
             ],
             [
              0.4444444444444444,
              "#bd3786"
             ],
             [
              0.5555555555555556,
              "#d8576b"
             ],
             [
              0.6666666666666666,
              "#ed7953"
             ],
             [
              0.7777777777777778,
              "#fb9f3a"
             ],
             [
              0.8888888888888888,
              "#fdca26"
             ],
             [
              1,
              "#f0f921"
             ]
            ],
            "type": "histogram2d"
           }
          ],
          "histogram2dcontour": [
           {
            "colorbar": {
             "outlinewidth": 0,
             "ticks": ""
            },
            "colorscale": [
             [
              0,
              "#0d0887"
             ],
             [
              0.1111111111111111,
              "#46039f"
             ],
             [
              0.2222222222222222,
              "#7201a8"
             ],
             [
              0.3333333333333333,
              "#9c179e"
             ],
             [
              0.4444444444444444,
              "#bd3786"
             ],
             [
              0.5555555555555556,
              "#d8576b"
             ],
             [
              0.6666666666666666,
              "#ed7953"
             ],
             [
              0.7777777777777778,
              "#fb9f3a"
             ],
             [
              0.8888888888888888,
              "#fdca26"
             ],
             [
              1,
              "#f0f921"
             ]
            ],
            "type": "histogram2dcontour"
           }
          ],
          "mesh3d": [
           {
            "colorbar": {
             "outlinewidth": 0,
             "ticks": ""
            },
            "type": "mesh3d"
           }
          ],
          "parcoords": [
           {
            "line": {
             "colorbar": {
              "outlinewidth": 0,
              "ticks": ""
             }
            },
            "type": "parcoords"
           }
          ],
          "pie": [
           {
            "automargin": true,
            "type": "pie"
           }
          ],
          "scatter": [
           {
            "fillpattern": {
             "fillmode": "overlay",
             "size": 10,
             "solidity": 0.2
            },
            "type": "scatter"
           }
          ],
          "scatter3d": [
           {
            "line": {
             "colorbar": {
              "outlinewidth": 0,
              "ticks": ""
             }
            },
            "marker": {
             "colorbar": {
              "outlinewidth": 0,
              "ticks": ""
             }
            },
            "type": "scatter3d"
           }
          ],
          "scattercarpet": [
           {
            "marker": {
             "colorbar": {
              "outlinewidth": 0,
              "ticks": ""
             }
            },
            "type": "scattercarpet"
           }
          ],
          "scattergeo": [
           {
            "marker": {
             "colorbar": {
              "outlinewidth": 0,
              "ticks": ""
             }
            },
            "type": "scattergeo"
           }
          ],
          "scattergl": [
           {
            "marker": {
             "colorbar": {
              "outlinewidth": 0,
              "ticks": ""
             }
            },
            "type": "scattergl"
           }
          ],
          "scattermapbox": [
           {
            "marker": {
             "colorbar": {
              "outlinewidth": 0,
              "ticks": ""
             }
            },
            "type": "scattermapbox"
           }
          ],
          "scatterpolar": [
           {
            "marker": {
             "colorbar": {
              "outlinewidth": 0,
              "ticks": ""
             }
            },
            "type": "scatterpolar"
           }
          ],
          "scatterpolargl": [
           {
            "marker": {
             "colorbar": {
              "outlinewidth": 0,
              "ticks": ""
             }
            },
            "type": "scatterpolargl"
           }
          ],
          "scatterternary": [
           {
            "marker": {
             "colorbar": {
              "outlinewidth": 0,
              "ticks": ""
             }
            },
            "type": "scatterternary"
           }
          ],
          "surface": [
           {
            "colorbar": {
             "outlinewidth": 0,
             "ticks": ""
            },
            "colorscale": [
             [
              0,
              "#0d0887"
             ],
             [
              0.1111111111111111,
              "#46039f"
             ],
             [
              0.2222222222222222,
              "#7201a8"
             ],
             [
              0.3333333333333333,
              "#9c179e"
             ],
             [
              0.4444444444444444,
              "#bd3786"
             ],
             [
              0.5555555555555556,
              "#d8576b"
             ],
             [
              0.6666666666666666,
              "#ed7953"
             ],
             [
              0.7777777777777778,
              "#fb9f3a"
             ],
             [
              0.8888888888888888,
              "#fdca26"
             ],
             [
              1,
              "#f0f921"
             ]
            ],
            "type": "surface"
           }
          ],
          "table": [
           {
            "cells": {
             "fill": {
              "color": "#EBF0F8"
             },
             "line": {
              "color": "white"
             }
            },
            "header": {
             "fill": {
              "color": "#C8D4E3"
             },
             "line": {
              "color": "white"
             }
            },
            "type": "table"
           }
          ]
         },
         "layout": {
          "annotationdefaults": {
           "arrowcolor": "#2a3f5f",
           "arrowhead": 0,
           "arrowwidth": 1
          },
          "autotypenumbers": "strict",
          "coloraxis": {
           "colorbar": {
            "outlinewidth": 0,
            "ticks": ""
           }
          },
          "colorscale": {
           "diverging": [
            [
             0,
             "#8e0152"
            ],
            [
             0.1,
             "#c51b7d"
            ],
            [
             0.2,
             "#de77ae"
            ],
            [
             0.3,
             "#f1b6da"
            ],
            [
             0.4,
             "#fde0ef"
            ],
            [
             0.5,
             "#f7f7f7"
            ],
            [
             0.6,
             "#e6f5d0"
            ],
            [
             0.7,
             "#b8e186"
            ],
            [
             0.8,
             "#7fbc41"
            ],
            [
             0.9,
             "#4d9221"
            ],
            [
             1,
             "#276419"
            ]
           ],
           "sequential": [
            [
             0,
             "#0d0887"
            ],
            [
             0.1111111111111111,
             "#46039f"
            ],
            [
             0.2222222222222222,
             "#7201a8"
            ],
            [
             0.3333333333333333,
             "#9c179e"
            ],
            [
             0.4444444444444444,
             "#bd3786"
            ],
            [
             0.5555555555555556,
             "#d8576b"
            ],
            [
             0.6666666666666666,
             "#ed7953"
            ],
            [
             0.7777777777777778,
             "#fb9f3a"
            ],
            [
             0.8888888888888888,
             "#fdca26"
            ],
            [
             1,
             "#f0f921"
            ]
           ],
           "sequentialminus": [
            [
             0,
             "#0d0887"
            ],
            [
             0.1111111111111111,
             "#46039f"
            ],
            [
             0.2222222222222222,
             "#7201a8"
            ],
            [
             0.3333333333333333,
             "#9c179e"
            ],
            [
             0.4444444444444444,
             "#bd3786"
            ],
            [
             0.5555555555555556,
             "#d8576b"
            ],
            [
             0.6666666666666666,
             "#ed7953"
            ],
            [
             0.7777777777777778,
             "#fb9f3a"
            ],
            [
             0.8888888888888888,
             "#fdca26"
            ],
            [
             1,
             "#f0f921"
            ]
           ]
          },
          "colorway": [
           "#636efa",
           "#EF553B",
           "#00cc96",
           "#ab63fa",
           "#FFA15A",
           "#19d3f3",
           "#FF6692",
           "#B6E880",
           "#FF97FF",
           "#FECB52"
          ],
          "font": {
           "color": "#2a3f5f"
          },
          "geo": {
           "bgcolor": "white",
           "lakecolor": "white",
           "landcolor": "#E5ECF6",
           "showlakes": true,
           "showland": true,
           "subunitcolor": "white"
          },
          "hoverlabel": {
           "align": "left"
          },
          "hovermode": "closest",
          "mapbox": {
           "style": "light"
          },
          "paper_bgcolor": "white",
          "plot_bgcolor": "#E5ECF6",
          "polar": {
           "angularaxis": {
            "gridcolor": "white",
            "linecolor": "white",
            "ticks": ""
           },
           "bgcolor": "#E5ECF6",
           "radialaxis": {
            "gridcolor": "white",
            "linecolor": "white",
            "ticks": ""
           }
          },
          "scene": {
           "xaxis": {
            "backgroundcolor": "#E5ECF6",
            "gridcolor": "white",
            "gridwidth": 2,
            "linecolor": "white",
            "showbackground": true,
            "ticks": "",
            "zerolinecolor": "white"
           },
           "yaxis": {
            "backgroundcolor": "#E5ECF6",
            "gridcolor": "white",
            "gridwidth": 2,
            "linecolor": "white",
            "showbackground": true,
            "ticks": "",
            "zerolinecolor": "white"
           },
           "zaxis": {
            "backgroundcolor": "#E5ECF6",
            "gridcolor": "white",
            "gridwidth": 2,
            "linecolor": "white",
            "showbackground": true,
            "ticks": "",
            "zerolinecolor": "white"
           }
          },
          "shapedefaults": {
           "line": {
            "color": "#2a3f5f"
           }
          },
          "ternary": {
           "aaxis": {
            "gridcolor": "white",
            "linecolor": "white",
            "ticks": ""
           },
           "baxis": {
            "gridcolor": "white",
            "linecolor": "white",
            "ticks": ""
           },
           "bgcolor": "#E5ECF6",
           "caxis": {
            "gridcolor": "white",
            "linecolor": "white",
            "ticks": ""
           }
          },
          "title": {
           "x": 0.05
          },
          "xaxis": {
           "automargin": true,
           "gridcolor": "white",
           "linecolor": "white",
           "ticks": "",
           "title": {
            "standoff": 15
           },
           "zerolinecolor": "white",
           "zerolinewidth": 2
          },
          "yaxis": {
           "automargin": true,
           "gridcolor": "white",
           "linecolor": "white",
           "ticks": "",
           "title": {
            "standoff": 15
           },
           "zerolinecolor": "white",
           "zerolinewidth": 2
          }
         }
        },
        "xaxis": {
         "anchor": "y",
         "domain": [
          0,
          1
         ],
         "title": {
          "text": "pc1"
         }
        },
        "yaxis": {
         "anchor": "x",
         "domain": [
          0,
          1
         ],
         "title": {
          "text": "pc2"
         }
        }
       }
      }
     },
     "metadata": {},
     "output_type": "display_data"
    }
   ],
   "source": [
    "pcs = u * s\n",
    "tst = centered_df.reset_index()[['trackName']]\n",
    "tst['pc1'] = pcs[:,0]\n",
    "tst['pc2'] = pcs[:,1]\n",
    "# sns.scatterplot(x=pcs[:, 0], y=pcs[:, 1]);\n",
    "# plt.xlabel(\"PC1\");\n",
    "# plt.ylabel(\"PC2\");\n",
    "# px.scatter(x=pcs[:,0], y=pcs[:,1], hover_data=centered_df.reset_index()['id'])\n",
    "px.scatter(data_frame=tst, x='pc1', y='pc2', hover_data='trackName')\n",
    "# pd.Index(cleaned_df).to_list()\n",
    "# type(centered_df.reset_index()['id'])"
   ]
  },
  {
   "cell_type": "markdown",
   "metadata": {},
   "source": [
    "### Part 3: Analyzing the Data\n",
    "#### PCA/plot/etc, figuring out what matters most in a song, what makes a song similar to another?"
   ]
  },
  {
   "cell_type": "code",
   "execution_count": null,
   "metadata": {},
   "outputs": [],
   "source": []
  },
  {
   "cell_type": "markdown",
   "metadata": {},
   "source": [
    "### Part 3: Loading in a playlist and comparing it to other songs in the playlist\n",
    "#### Read in, PCA, plot with colors"
   ]
  },
  {
   "cell_type": "code",
   "execution_count": null,
   "metadata": {},
   "outputs": [],
   "source": []
  },
  {
   "cell_type": "markdown",
   "metadata": {},
   "source": [
    "### Part 4: Selecting additional relevant songs for playlist\n",
    "#### Find most similar ones to playlist songs"
   ]
  },
  {
   "cell_type": "code",
   "execution_count": null,
   "metadata": {},
   "outputs": [],
   "source": []
  }
 ],
 "metadata": {
  "kernelspec": {
   "display_name": "Python 3",
   "language": "python",
   "name": "python3"
  },
  "language_info": {
   "codemirror_mode": {
    "name": "ipython",
    "version": 3
   },
   "file_extension": ".py",
   "mimetype": "text/x-python",
   "name": "python",
   "nbconvert_exporter": "python",
   "pygments_lexer": "ipython3",
   "version": "3.10.11"
  },
  "orig_nbformat": 4
 },
 "nbformat": 4,
 "nbformat_minor": 2
}
