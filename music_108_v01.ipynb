{
 "cells": [
  {
   "cell_type": "code",
   "execution_count": 70,
   "metadata": {},
   "outputs": [
    {
     "name": "stdout",
     "output_type": "stream",
     "text": [
      "Collecting matplotlib\n",
      "  Downloading matplotlib-3.8.0-cp310-cp310-win_amd64.whl (7.6 MB)\n",
      "     ---------------------------------------- 0.0/7.6 MB ? eta -:--:--\n",
      "     - -------------------------------------- 0.3/7.6 MB 5.2 MB/s eta 0:00:02\n",
      "     ----- ---------------------------------- 1.1/7.6 MB 11.4 MB/s eta 0:00:01\n",
      "     -------- ------------------------------- 1.7/7.6 MB 15.2 MB/s eta 0:00:01\n",
      "     ----------- ---------------------------- 2.1/7.6 MB 11.3 MB/s eta 0:00:01\n",
      "     ----------------- ---------------------- 3.4/7.6 MB 14.4 MB/s eta 0:00:01\n",
      "     ---------------------- ----------------- 4.3/7.6 MB 15.3 MB/s eta 0:00:01\n",
      "     --------------------------- ------------ 5.3/7.6 MB 16.2 MB/s eta 0:00:01\n",
      "     -------------------------------- ------- 6.3/7.6 MB 16.7 MB/s eta 0:00:01\n",
      "     ---------------------------------------  7.5/7.6 MB 17.9 MB/s eta 0:00:01\n",
      "     ---------------------------------------  7.6/7.6 MB 18.1 MB/s eta 0:00:01\n",
      "     ---------------------------------------- 7.6/7.6 MB 15.8 MB/s eta 0:00:00\n",
      "Collecting kiwisolver>=1.0.1\n",
      "  Downloading kiwisolver-1.4.5-cp310-cp310-win_amd64.whl (56 kB)\n",
      "     ---------------------------------------- 0.0/56.1 kB ? eta -:--:--\n",
      "     ---------------------------------------- 56.1/56.1 kB 2.9 MB/s eta 0:00:00\n",
      "Collecting cycler>=0.10\n",
      "  Downloading cycler-0.12.0-py3-none-any.whl (8.2 kB)\n",
      "Collecting fonttools>=4.22.0\n",
      "  Downloading fonttools-4.43.1-cp310-cp310-win_amd64.whl (2.1 MB)\n",
      "     ---------------------------------------- 0.0/2.1 MB ? eta -:--:--\n",
      "     ----------------- ---------------------- 1.0/2.1 MB 20.0 MB/s eta 0:00:01\n",
      "     ---------------------------------------  2.1/2.1 MB 22.7 MB/s eta 0:00:01\n",
      "     ---------------------------------------- 2.1/2.1 MB 19.4 MB/s eta 0:00:00\n",
      "Collecting pillow>=6.2.0\n",
      "  Downloading Pillow-10.0.1-cp310-cp310-win_amd64.whl (2.5 MB)\n",
      "     ---------------------------------------- 0.0/2.5 MB ? eta -:--:--\n",
      "     -------------- ------------------------- 0.9/2.5 MB 19.0 MB/s eta 0:00:01\n",
      "     -------------------------------- ------- 2.0/2.5 MB 25.7 MB/s eta 0:00:01\n",
      "     ---------------------------------- ----- 2.2/2.5 MB 22.9 MB/s eta 0:00:01\n",
      "     ---------------------------------------- 2.5/2.5 MB 16.0 MB/s eta 0:00:00\n",
      "Requirement already satisfied: python-dateutil>=2.7 in c:\\users\\jessi\\appdata\\local\\packages\\pythonsoftwarefoundation.python.3.10_qbz5n2kfra8p0\\localcache\\local-packages\\python310\\site-packages (from matplotlib) (2.8.2)\n",
      "Collecting pyparsing>=2.3.1\n",
      "  Downloading pyparsing-3.1.1-py3-none-any.whl (103 kB)\n",
      "     ---------------------------------------- 0.0/103.1 kB ? eta -:--:--\n",
      "     ---------------------------------------- 103.1/103.1 kB ? eta 0:00:00\n",
      "Collecting contourpy>=1.0.1\n",
      "  Downloading contourpy-1.1.1-cp310-cp310-win_amd64.whl (477 kB)\n",
      "     ---------------------------------------- 0.0/478.0 kB ? eta -:--:--\n",
      "     ------------------------------------- 478.0/478.0 kB 29.2 MB/s eta 0:00:00\n",
      "Requirement already satisfied: numpy<2,>=1.21 in c:\\users\\jessi\\appdata\\local\\packages\\pythonsoftwarefoundation.python.3.10_qbz5n2kfra8p0\\localcache\\local-packages\\python310\\site-packages (from matplotlib) (1.24.2)\n",
      "Requirement already satisfied: packaging>=20.0 in c:\\users\\jessi\\appdata\\local\\packages\\pythonsoftwarefoundation.python.3.10_qbz5n2kfra8p0\\localcache\\local-packages\\python310\\site-packages (from matplotlib) (23.0)\n",
      "Requirement already satisfied: six>=1.5 in c:\\users\\jessi\\appdata\\local\\packages\\pythonsoftwarefoundation.python.3.10_qbz5n2kfra8p0\\localcache\\local-packages\\python310\\site-packages (from python-dateutil>=2.7->matplotlib) (1.16.0)\n",
      "Installing collected packages: pyparsing, pillow, kiwisolver, fonttools, cycler, contourpy, matplotlib\n",
      "Successfully installed contourpy-1.1.1 cycler-0.12.0 fonttools-4.43.1 kiwisolver-1.4.5 matplotlib-3.8.0 pillow-10.0.1 pyparsing-3.1.1\n"
     ]
    },
    {
     "name": "stderr",
     "output_type": "stream",
     "text": [
      "\n",
      "[notice] A new release of pip is available: 23.0.1 -> 23.2.1\n",
      "[notice] To update, run: C:\\Users\\Jessi\\AppData\\Local\\Microsoft\\WindowsApps\\PythonSoftwareFoundation.Python.3.10_qbz5n2kfra8p0\\python.exe -m pip install --upgrade pip\n"
     ]
    }
   ],
   "source": [
    "#!pip install -U python-dotenv\n",
    "#!pip install spotipy\n",
    "#!pip install matplotlib"
   ]
  },
  {
   "cell_type": "code",
   "execution_count": 1,
   "metadata": {},
   "outputs": [],
   "source": [
    "import pandas as pd\n",
    "import os\n",
    "import plotly.express as px\n",
    "import spotipy\n",
    "from spotipy import oauth2\n",
    "from dotenv import load_dotenv\n",
    "import os\n",
    "from spotipy.oauth2 import SpotifyClientCredentials"
   ]
  },
  {
   "cell_type": "code",
   "execution_count": 3,
   "metadata": {},
   "outputs": [],
   "source": [
    "path = os.getcwd()\n",
    "\n",
    "# setting up authentication for spotipy\n",
    "load_dotenv(dotenv_path=path + f\"\\env_vars.env\")\n",
    "os.environ['SPOTIPY_CLIENT_ID'] = os.environ.get('SPOTIPY_CLIENT_ID')\n",
    "os.environ['SPOTIPY_CLIENT_SECRET'] = os.environ.get('SPOTIPY_CLIENT_SECRET')\n",
    "sp = spotipy.Spotify(client_credentials_manager=SpotifyClientCredentials())"
   ]
  },
  {
   "cell_type": "markdown",
   "metadata": {},
   "source": [
    "### Part 1: Loading in the Data\n",
    "#### We will load in my personal data blah blah, you can replace the string with your file path to analyze your music"
   ]
  },
  {
   "cell_type": "code",
   "execution_count": 4,
   "metadata": {},
   "outputs": [
    {
     "name": "stdout",
     "output_type": "stream",
     "text": [
      "(33284, 4)\n"
     ]
    },
    {
     "data": {
      "text/html": [
       "<div>\n",
       "<style scoped>\n",
       "    .dataframe tbody tr th:only-of-type {\n",
       "        vertical-align: middle;\n",
       "    }\n",
       "\n",
       "    .dataframe tbody tr th {\n",
       "        vertical-align: top;\n",
       "    }\n",
       "\n",
       "    .dataframe thead th {\n",
       "        text-align: right;\n",
       "    }\n",
       "</style>\n",
       "<table border=\"1\" class=\"dataframe\">\n",
       "  <thead>\n",
       "    <tr style=\"text-align: right;\">\n",
       "      <th></th>\n",
       "      <th>endTime</th>\n",
       "      <th>artistName</th>\n",
       "      <th>trackName</th>\n",
       "      <th>msPlayed</th>\n",
       "    </tr>\n",
       "  </thead>\n",
       "  <tbody>\n",
       "    <tr>\n",
       "      <th>0</th>\n",
       "      <td>2020-12-26 00:02</td>\n",
       "      <td>Michael Schulte</td>\n",
       "      <td>The Love You Left Behind</td>\n",
       "      <td>194546</td>\n",
       "    </tr>\n",
       "    <tr>\n",
       "      <th>1</th>\n",
       "      <td>2020-12-26 00:05</td>\n",
       "      <td>Lewis Capaldi</td>\n",
       "      <td>Lost On You</td>\n",
       "      <td>197178</td>\n",
       "    </tr>\n",
       "    <tr>\n",
       "      <th>2</th>\n",
       "      <td>2020-12-26 00:08</td>\n",
       "      <td>Arlissa</td>\n",
       "      <td>Praying for Love</td>\n",
       "      <td>182535</td>\n",
       "    </tr>\n",
       "    <tr>\n",
       "      <th>3</th>\n",
       "      <td>2020-12-26 00:12</td>\n",
       "      <td>JP Saxe</td>\n",
       "      <td>A Little Bit Yours</td>\n",
       "      <td>225680</td>\n",
       "    </tr>\n",
       "    <tr>\n",
       "      <th>4</th>\n",
       "      <td>2020-12-26 00:16</td>\n",
       "      <td>My Brothers And I</td>\n",
       "      <td>Just Getting to Know You</td>\n",
       "      <td>252840</td>\n",
       "    </tr>\n",
       "  </tbody>\n",
       "</table>\n",
       "</div>"
      ],
      "text/plain": [
       "            endTime         artistName                 trackName  msPlayed\n",
       "0  2020-12-26 00:02    Michael Schulte  The Love You Left Behind    194546\n",
       "1  2020-12-26 00:05      Lewis Capaldi               Lost On You    197178\n",
       "2  2020-12-26 00:08            Arlissa          Praying for Love    182535\n",
       "3  2020-12-26 00:12            JP Saxe        A Little Bit Yours    225680\n",
       "4  2020-12-26 00:16  My Brothers And I  Just Getting to Know You    252840"
      ]
     },
     "execution_count": 4,
     "metadata": {},
     "output_type": "execute_result"
    }
   ],
   "source": [
    "num_histories = 4\n",
    "listening = pd.DataFrame()\n",
    "for i in range(num_histories):\n",
    "    temp_df = pd.read_json(path + f\"\\MyData\\StreamingHistory{i}.json\")\n",
    "    listening = pd.concat([listening, temp_df])\n",
    "print(listening.shape)\n",
    "listening.head(5)"
   ]
  },
  {
   "cell_type": "code",
   "execution_count": 5,
   "metadata": {},
   "outputs": [
    {
     "data": {
      "text/html": [
       "<div>\n",
       "<style scoped>\n",
       "    .dataframe tbody tr th:only-of-type {\n",
       "        vertical-align: middle;\n",
       "    }\n",
       "\n",
       "    .dataframe tbody tr th {\n",
       "        vertical-align: top;\n",
       "    }\n",
       "\n",
       "    .dataframe thead th {\n",
       "        text-align: right;\n",
       "    }\n",
       "</style>\n",
       "<table border=\"1\" class=\"dataframe\">\n",
       "  <thead>\n",
       "    <tr style=\"text-align: right;\">\n",
       "      <th></th>\n",
       "      <th>playlists</th>\n",
       "    </tr>\n",
       "  </thead>\n",
       "  <tbody>\n",
       "    <tr>\n",
       "      <th>0</th>\n",
       "      <td>{'name': 'My Playlist #23', 'lastModifiedDate'...</td>\n",
       "    </tr>\n",
       "    <tr>\n",
       "      <th>1</th>\n",
       "      <td>{'name': 'My Playlist #22', 'lastModifiedDate'...</td>\n",
       "    </tr>\n",
       "    <tr>\n",
       "      <th>2</th>\n",
       "      <td>{'name': 'Stealing Spotify Daily Mixes', 'last...</td>\n",
       "    </tr>\n",
       "    <tr>\n",
       "      <th>3</th>\n",
       "      <td>{'name': 'Jess Chill Reccomended by Spotify', ...</td>\n",
       "    </tr>\n",
       "    <tr>\n",
       "      <th>4</th>\n",
       "      <td>{'name': 'Jess &lt;3 Vibes?', 'lastModifiedDate':...</td>\n",
       "    </tr>\n",
       "  </tbody>\n",
       "</table>\n",
       "</div>"
      ],
      "text/plain": [
       "                                           playlists\n",
       "0  {'name': 'My Playlist #23', 'lastModifiedDate'...\n",
       "1  {'name': 'My Playlist #22', 'lastModifiedDate'...\n",
       "2  {'name': 'Stealing Spotify Daily Mixes', 'last...\n",
       "3  {'name': 'Jess Chill Reccomended by Spotify', ...\n",
       "4  {'name': 'Jess <3 Vibes?', 'lastModifiedDate':..."
      ]
     },
     "execution_count": 5,
     "metadata": {},
     "output_type": "execute_result"
    }
   ],
   "source": [
    "playlists = pd.read_json(path + f\"\\MyData\\Playlist1.json\")\n",
    "playlists.head(5)"
   ]
  },
  {
   "cell_type": "markdown",
   "metadata": {},
   "source": [
    "### Part 2: EDA"
   ]
  },
  {
   "cell_type": "markdown",
   "metadata": {},
   "source": []
  },
  {
   "cell_type": "code",
   "execution_count": 6,
   "metadata": {},
   "outputs": [
    {
     "data": {
      "text/plain": [
       "{'name': 'Jess Chill Reccomended by Spotify',\n",
       " 'lastModifiedDate': '2021-12-04',\n",
       " 'items': [{'track': {'trackName': 'House',\n",
       "    'artistName': 'Joshua Moss',\n",
       "    'albumName': 'House',\n",
       "    'trackUri': 'spotify:track:3BdtiKSZveePCDhfncBOFd'},\n",
       "   'episode': None,\n",
       "   'localTrack': None},\n",
       "  {'track': {'trackName': 'Apple Pie',\n",
       "    'artistName': 'Lizzy McAlpine',\n",
       "    'albumName': 'Give Me A Minute',\n",
       "    'trackUri': 'spotify:track:5FKNq0lLJnP3iZzBTD0PZj'},\n",
       "   'episode': None,\n",
       "   'localTrack': None},\n",
       "  {'track': {'trackName': 'Free',\n",
       "    'artistName': 'Elina',\n",
       "    'albumName': 'Free',\n",
       "    'trackUri': 'spotify:track:3hOWsTM9OpI6c72iQHP4EB'},\n",
       "   'episode': None,\n",
       "   'localTrack': None},\n",
       "  {'track': {'trackName': 'Pancakes for Dinner',\n",
       "    'artistName': 'Lizzy McAlpine',\n",
       "    'albumName': 'Give Me A Minute',\n",
       "    'trackUri': 'spotify:track:4HffeEF97c6UxNePgbuECW'},\n",
       "   'episode': None,\n",
       "   'localTrack': None}],\n",
       " 'description': None,\n",
       " 'numberOfFollowers': 0}"
      ]
     },
     "execution_count": 6,
     "metadata": {},
     "output_type": "execute_result"
    }
   ],
   "source": [
    "playlists['playlists'][3]"
   ]
  },
  {
   "cell_type": "code",
   "execution_count": 57,
   "metadata": {},
   "outputs": [
    {
     "data": {
      "text/plain": [
       "{'danceability': 0.656,\n",
       " 'energy': 0.291,\n",
       " 'key': 2,\n",
       " 'loudness': -10.572,\n",
       " 'mode': 1,\n",
       " 'speechiness': 0.0293,\n",
       " 'acousticness': 0.872,\n",
       " 'instrumentalness': 0,\n",
       " 'liveness': 0.114,\n",
       " 'valence': 0.298,\n",
       " 'tempo': 103.971,\n",
       " 'type': 'audio_features',\n",
       " 'id': '4RCWB3V8V0dignt99LZ8vH',\n",
       " 'uri': 'spotify:track:4RCWB3V8V0dignt99LZ8vH',\n",
       " 'track_href': 'https://api.spotify.com/v1/tracks/4RCWB3V8V0dignt99LZ8vH',\n",
       " 'analysis_url': 'https://api.spotify.com/v1/audio-analysis/4RCWB3V8V0dignt99LZ8vH',\n",
       " 'duration_ms': 232533,\n",
       " 'time_signature': 4}"
      ]
     },
     "execution_count": 57,
     "metadata": {},
     "output_type": "execute_result"
    }
   ],
   "source": [
    "# information based on a single song\n",
    "track_name, track_artist = 'Hey There Delilah', 'Plain White T\\'s'\n",
    "track_uri = sp.search(q='artist:' + track_artist + ' track:' + track_name, type='track')['tracks']['items'][0]['uri']\n",
    "# track_analysis = sp.audio_analysis(track_uri) # too much info for me rn\n",
    "track_features = sp.audio_features(track_uri)\n",
    "track_features[0]"
   ]
  },
  {
   "cell_type": "code",
   "execution_count": 144,
   "metadata": {},
   "outputs": [
    {
     "data": {
      "text/html": [
       "<div>\n",
       "<style scoped>\n",
       "    .dataframe tbody tr th:only-of-type {\n",
       "        vertical-align: middle;\n",
       "    }\n",
       "\n",
       "    .dataframe tbody tr th {\n",
       "        vertical-align: top;\n",
       "    }\n",
       "\n",
       "    .dataframe thead th {\n",
       "        text-align: right;\n",
       "    }\n",
       "</style>\n",
       "<table border=\"1\" class=\"dataframe\">\n",
       "  <thead>\n",
       "    <tr style=\"text-align: right;\">\n",
       "      <th></th>\n",
       "      <th>trackName</th>\n",
       "      <th>artistName</th>\n",
       "      <th>count</th>\n",
       "    </tr>\n",
       "  </thead>\n",
       "  <tbody>\n",
       "    <tr>\n",
       "      <th>2092</th>\n",
       "      <td>I Wish</td>\n",
       "      <td>Declan J Donovan</td>\n",
       "      <td>12</td>\n",
       "    </tr>\n",
       "    <tr>\n",
       "      <th>5201</th>\n",
       "      <td>friendship?</td>\n",
       "      <td>Jordy Searcy</td>\n",
       "      <td>10</td>\n",
       "    </tr>\n",
       "    <tr>\n",
       "      <th>3966</th>\n",
       "      <td>Sorry That I Do That</td>\n",
       "      <td>Anna Clendening</td>\n",
       "      <td>60</td>\n",
       "    </tr>\n",
       "    <tr>\n",
       "      <th>3232</th>\n",
       "      <td>One Day</td>\n",
       "      <td>Lovejoy</td>\n",
       "      <td>3</td>\n",
       "    </tr>\n",
       "    <tr>\n",
       "      <th>848</th>\n",
       "      <td>Complicated</td>\n",
       "      <td>Olivia O'Brien</td>\n",
       "      <td>6</td>\n",
       "    </tr>\n",
       "  </tbody>\n",
       "</table>\n",
       "</div>"
      ],
      "text/plain": [
       "                 trackName        artistName  count\n",
       "2092                I Wish  Declan J Donovan     12\n",
       "5201           friendship?      Jordy Searcy     10\n",
       "3966  Sorry That I Do That   Anna Clendening     60\n",
       "3232               One Day           Lovejoy      3\n",
       "848            Complicated    Olivia O'Brien      6"
      ]
     },
     "execution_count": 144,
     "metadata": {},
     "output_type": "execute_result"
    }
   ],
   "source": [
    "counts = listening.query('msPlayed >= 3000').groupby(by=['trackName', 'artistName']).size().reset_index()\n",
    "songs_df = counts.rename(columns={0: 'count'}).sample(n=500, weights='count', random_state=42)#.query('count >= 5').sort_values('count', ascending=False) # either listened to >5 times or top x songs or random x songs\n",
    "songs_df.head(5)#.to_csv('csv_exports/grouped.csv')"
   ]
  },
  {
   "cell_type": "code",
   "execution_count": 145,
   "metadata": {},
   "outputs": [
    {
     "name": "stdout",
     "output_type": "stream",
     "text": [
      "(500, 17)\n"
     ]
    },
    {
     "data": {
      "text/html": [
       "<div>\n",
       "<style scoped>\n",
       "    .dataframe tbody tr th:only-of-type {\n",
       "        vertical-align: middle;\n",
       "    }\n",
       "\n",
       "    .dataframe tbody tr th {\n",
       "        vertical-align: top;\n",
       "    }\n",
       "\n",
       "    .dataframe thead th {\n",
       "        text-align: right;\n",
       "    }\n",
       "</style>\n",
       "<table border=\"1\" class=\"dataframe\">\n",
       "  <thead>\n",
       "    <tr style=\"text-align: right;\">\n",
       "      <th></th>\n",
       "      <th>trackName</th>\n",
       "      <th>artistName</th>\n",
       "      <th>count</th>\n",
       "      <th>danceability</th>\n",
       "      <th>energy</th>\n",
       "      <th>key</th>\n",
       "      <th>loudness</th>\n",
       "      <th>mode</th>\n",
       "      <th>speechiness</th>\n",
       "      <th>acousticness</th>\n",
       "      <th>instrumentalness</th>\n",
       "      <th>liveness</th>\n",
       "      <th>valence</th>\n",
       "      <th>tempo</th>\n",
       "      <th>id</th>\n",
       "      <th>duration_ms</th>\n",
       "      <th>time_signature</th>\n",
       "    </tr>\n",
       "  </thead>\n",
       "  <tbody>\n",
       "    <tr>\n",
       "      <th>2092</th>\n",
       "      <td>I Wish</td>\n",
       "      <td>Declan J Donovan</td>\n",
       "      <td>12</td>\n",
       "      <td>0.625</td>\n",
       "      <td>0.241</td>\n",
       "      <td>7.0</td>\n",
       "      <td>-9.312</td>\n",
       "      <td>1.0</td>\n",
       "      <td>0.0308</td>\n",
       "      <td>0.84500</td>\n",
       "      <td>0.000000</td>\n",
       "      <td>0.1530</td>\n",
       "      <td>0.0960</td>\n",
       "      <td>111.902</td>\n",
       "      <td>7sXnAth7OEXjGhrW7Qsl3Y</td>\n",
       "      <td>198720.0</td>\n",
       "      <td>4.0</td>\n",
       "    </tr>\n",
       "    <tr>\n",
       "      <th>5201</th>\n",
       "      <td>friendship?</td>\n",
       "      <td>Jordy Searcy</td>\n",
       "      <td>10</td>\n",
       "      <td>0.571</td>\n",
       "      <td>0.224</td>\n",
       "      <td>4.0</td>\n",
       "      <td>-11.704</td>\n",
       "      <td>1.0</td>\n",
       "      <td>0.0646</td>\n",
       "      <td>0.69600</td>\n",
       "      <td>0.000000</td>\n",
       "      <td>0.1030</td>\n",
       "      <td>0.5060</td>\n",
       "      <td>108.526</td>\n",
       "      <td>0Io5aNyPCvK31w1hffcTbC</td>\n",
       "      <td>220133.0</td>\n",
       "      <td>4.0</td>\n",
       "    </tr>\n",
       "    <tr>\n",
       "      <th>3966</th>\n",
       "      <td>Sorry That I Do That</td>\n",
       "      <td>Anna Clendening</td>\n",
       "      <td>60</td>\n",
       "      <td>0.714</td>\n",
       "      <td>0.404</td>\n",
       "      <td>9.0</td>\n",
       "      <td>-8.759</td>\n",
       "      <td>1.0</td>\n",
       "      <td>0.0439</td>\n",
       "      <td>0.19600</td>\n",
       "      <td>0.000001</td>\n",
       "      <td>0.2830</td>\n",
       "      <td>0.2990</td>\n",
       "      <td>98.016</td>\n",
       "      <td>2WxCovJaXPloCHw0yJ0Z0z</td>\n",
       "      <td>149821.0</td>\n",
       "      <td>4.0</td>\n",
       "    </tr>\n",
       "    <tr>\n",
       "      <th>3232</th>\n",
       "      <td>One Day</td>\n",
       "      <td>Lovejoy</td>\n",
       "      <td>3</td>\n",
       "      <td>0.339</td>\n",
       "      <td>0.730</td>\n",
       "      <td>10.0</td>\n",
       "      <td>-8.568</td>\n",
       "      <td>0.0</td>\n",
       "      <td>0.0358</td>\n",
       "      <td>0.00737</td>\n",
       "      <td>0.000000</td>\n",
       "      <td>0.0472</td>\n",
       "      <td>0.8370</td>\n",
       "      <td>183.144</td>\n",
       "      <td>58U47mHjyLwUwJZ7voUt15</td>\n",
       "      <td>144375.0</td>\n",
       "      <td>4.0</td>\n",
       "    </tr>\n",
       "    <tr>\n",
       "      <th>848</th>\n",
       "      <td>Complicated</td>\n",
       "      <td>Olivia O'Brien</td>\n",
       "      <td>6</td>\n",
       "      <td>0.657</td>\n",
       "      <td>0.355</td>\n",
       "      <td>7.0</td>\n",
       "      <td>-12.047</td>\n",
       "      <td>1.0</td>\n",
       "      <td>0.0715</td>\n",
       "      <td>0.69400</td>\n",
       "      <td>0.000425</td>\n",
       "      <td>0.1230</td>\n",
       "      <td>0.0808</td>\n",
       "      <td>74.990</td>\n",
       "      <td>226PUvIuxGdceSijXXZRRz</td>\n",
       "      <td>189000.0</td>\n",
       "      <td>4.0</td>\n",
       "    </tr>\n",
       "  </tbody>\n",
       "</table>\n",
       "</div>"
      ],
      "text/plain": [
       "                 trackName        artistName  count  danceability  energy  \\\n",
       "2092                I Wish  Declan J Donovan     12         0.625   0.241   \n",
       "5201           friendship?      Jordy Searcy     10         0.571   0.224   \n",
       "3966  Sorry That I Do That   Anna Clendening     60         0.714   0.404   \n",
       "3232               One Day           Lovejoy      3         0.339   0.730   \n",
       "848            Complicated    Olivia O'Brien      6         0.657   0.355   \n",
       "\n",
       "       key  loudness  mode  speechiness  acousticness  instrumentalness  \\\n",
       "2092   7.0    -9.312   1.0       0.0308       0.84500          0.000000   \n",
       "5201   4.0   -11.704   1.0       0.0646       0.69600          0.000000   \n",
       "3966   9.0    -8.759   1.0       0.0439       0.19600          0.000001   \n",
       "3232  10.0    -8.568   0.0       0.0358       0.00737          0.000000   \n",
       "848    7.0   -12.047   1.0       0.0715       0.69400          0.000425   \n",
       "\n",
       "      liveness  valence    tempo                      id  duration_ms  \\\n",
       "2092    0.1530   0.0960  111.902  7sXnAth7OEXjGhrW7Qsl3Y     198720.0   \n",
       "5201    0.1030   0.5060  108.526  0Io5aNyPCvK31w1hffcTbC     220133.0   \n",
       "3966    0.2830   0.2990   98.016  2WxCovJaXPloCHw0yJ0Z0z     149821.0   \n",
       "3232    0.0472   0.8370  183.144  58U47mHjyLwUwJZ7voUt15     144375.0   \n",
       "848     0.1230   0.0808   74.990  226PUvIuxGdceSijXXZRRz     189000.0   \n",
       "\n",
       "      time_signature  \n",
       "2092             4.0  \n",
       "5201             4.0  \n",
       "3966             4.0  \n",
       "3232             4.0  \n",
       "848              4.0  "
      ]
     },
     "execution_count": 145,
     "metadata": {},
     "output_type": "execute_result"
    }
   ],
   "source": [
    "\n",
    "lst_of_cols = list(track_features[0].keys())\n",
    "# lst_of_cols.remove(['type', 'analysis_url'])\n",
    "# lst_of_cols.remove(x for x in ['type', 'analysis_url'])\n",
    "[lst_of_cols.remove(col) for col in ['type', 'uri', 'analysis_url', 'track_href']]\n",
    "def find_info(song):\n",
    "    # print(song)\n",
    "    try:\n",
    "        song_dict = sp.search(q='artist:' + song[1] + ' track:' + song[0], type='track')\n",
    "        song_uri = song_dict['tracks']['items'][0]['uri']\n",
    "        track_features = sp.audio_features(song_uri)[0]\n",
    "        return pd.Series([track_features[i] for i in lst_of_cols])\n",
    "    except:\n",
    "        return pd.Series([None] * len(lst_of_cols))\n",
    "    \n",
    "    \n",
    "songs_df[lst_of_cols] = songs_df[['trackName', 'artistName']].apply(find_info, axis=1)\n",
    "print(songs_df.shape)\n",
    "songs_df.head(5)"
   ]
  },
  {
   "cell_type": "markdown",
   "metadata": {},
   "source": [
    "### PCA attempt/plotting the PCs/scree plot"
   ]
  },
  {
   "cell_type": "code",
   "execution_count": 97,
   "metadata": {},
   "outputs": [],
   "source": [
    "# imports\n",
    "import numpy as np\n",
    "import matplotlib.pyplot as plt\n",
    "import seaborn as sns\n",
    "import plotly.express as px"
   ]
  },
  {
   "cell_type": "code",
   "execution_count": 146,
   "metadata": {},
   "outputs": [
    {
     "name": "stdout",
     "output_type": "stream",
     "text": [
      "(476, 14)\n"
     ]
    },
    {
     "data": {
      "text/html": [
       "<div>\n",
       "<style scoped>\n",
       "    .dataframe tbody tr th:only-of-type {\n",
       "        vertical-align: middle;\n",
       "    }\n",
       "\n",
       "    .dataframe tbody tr th {\n",
       "        vertical-align: top;\n",
       "    }\n",
       "\n",
       "    .dataframe thead th {\n",
       "        text-align: right;\n",
       "    }\n",
       "</style>\n",
       "<table border=\"1\" class=\"dataframe\">\n",
       "  <thead>\n",
       "    <tr style=\"text-align: right;\">\n",
       "      <th></th>\n",
       "      <th>count</th>\n",
       "      <th>danceability</th>\n",
       "      <th>energy</th>\n",
       "      <th>key</th>\n",
       "      <th>loudness</th>\n",
       "      <th>mode</th>\n",
       "      <th>speechiness</th>\n",
       "      <th>acousticness</th>\n",
       "      <th>instrumentalness</th>\n",
       "      <th>liveness</th>\n",
       "      <th>valence</th>\n",
       "      <th>tempo</th>\n",
       "      <th>duration_ms</th>\n",
       "      <th>time_signature</th>\n",
       "    </tr>\n",
       "    <tr>\n",
       "      <th>trackName</th>\n",
       "      <th></th>\n",
       "      <th></th>\n",
       "      <th></th>\n",
       "      <th></th>\n",
       "      <th></th>\n",
       "      <th></th>\n",
       "      <th></th>\n",
       "      <th></th>\n",
       "      <th></th>\n",
       "      <th></th>\n",
       "      <th></th>\n",
       "      <th></th>\n",
       "      <th></th>\n",
       "      <th></th>\n",
       "    </tr>\n",
       "  </thead>\n",
       "  <tbody>\n",
       "    <tr>\n",
       "      <th>I Wish</th>\n",
       "      <td>-0.336546</td>\n",
       "      <td>0.561070</td>\n",
       "      <td>-0.801780</td>\n",
       "      <td>0.569724</td>\n",
       "      <td>0.142126</td>\n",
       "      <td>0.357718</td>\n",
       "      <td>-0.408420</td>\n",
       "      <td>0.857754</td>\n",
       "      <td>-0.206128</td>\n",
       "      <td>0.081054</td>\n",
       "      <td>-1.451574</td>\n",
       "      <td>-0.213323</td>\n",
       "      <td>-0.435917</td>\n",
       "      <td>0.338529</td>\n",
       "    </tr>\n",
       "    <tr>\n",
       "      <th>friendship?</th>\n",
       "      <td>-0.444422</td>\n",
       "      <td>0.143097</td>\n",
       "      <td>-0.884559</td>\n",
       "      <td>-0.282177</td>\n",
       "      <td>-0.478695</td>\n",
       "      <td>0.357718</td>\n",
       "      <td>0.236858</td>\n",
       "      <td>0.374627</td>\n",
       "      <td>-0.206128</td>\n",
       "      <td>-0.459821</td>\n",
       "      <td>0.905533</td>\n",
       "      <td>-0.329165</td>\n",
       "      <td>0.050218</td>\n",
       "      <td>0.338529</td>\n",
       "    </tr>\n",
       "    <tr>\n",
       "      <th>Sorry That I Do That</th>\n",
       "      <td>2.252479</td>\n",
       "      <td>1.249952</td>\n",
       "      <td>-0.008082</td>\n",
       "      <td>1.137657</td>\n",
       "      <td>0.285652</td>\n",
       "      <td>0.357718</td>\n",
       "      <td>-0.158327</td>\n",
       "      <td>-1.246604</td>\n",
       "      <td>-0.206119</td>\n",
       "      <td>1.487328</td>\n",
       "      <td>-0.284518</td>\n",
       "      <td>-0.689797</td>\n",
       "      <td>-1.546062</td>\n",
       "      <td>0.338529</td>\n",
       "    </tr>\n",
       "    <tr>\n",
       "      <th>One Day</th>\n",
       "      <td>-0.821988</td>\n",
       "      <td>-1.652640</td>\n",
       "      <td>1.579315</td>\n",
       "      <td>1.421624</td>\n",
       "      <td>0.335224</td>\n",
       "      <td>-2.795499</td>\n",
       "      <td>-0.312965</td>\n",
       "      <td>-1.858229</td>\n",
       "      <td>-0.206128</td>\n",
       "      <td>-1.063437</td>\n",
       "      <td>2.808466</td>\n",
       "      <td>2.231218</td>\n",
       "      <td>-1.669702</td>\n",
       "      <td>0.338529</td>\n",
       "    </tr>\n",
       "    <tr>\n",
       "      <th>Complicated</th>\n",
       "      <td>-0.660174</td>\n",
       "      <td>0.808758</td>\n",
       "      <td>-0.246678</td>\n",
       "      <td>0.569724</td>\n",
       "      <td>-0.567717</td>\n",
       "      <td>0.357718</td>\n",
       "      <td>0.368586</td>\n",
       "      <td>0.368142</td>\n",
       "      <td>-0.202324</td>\n",
       "      <td>-0.243471</td>\n",
       "      <td>-1.538959</td>\n",
       "      <td>-1.479893</td>\n",
       "      <td>-0.656589</td>\n",
       "      <td>0.338529</td>\n",
       "    </tr>\n",
       "  </tbody>\n",
       "</table>\n",
       "</div>"
      ],
      "text/plain": [
       "                         count  danceability    energy       key  loudness  \\\n",
       "trackName                                                                    \n",
       "I Wish               -0.336546      0.561070 -0.801780  0.569724  0.142126   \n",
       "friendship?          -0.444422      0.143097 -0.884559 -0.282177 -0.478695   \n",
       "Sorry That I Do That  2.252479      1.249952 -0.008082  1.137657  0.285652   \n",
       "One Day              -0.821988     -1.652640  1.579315  1.421624  0.335224   \n",
       "Complicated          -0.660174      0.808758 -0.246678  0.569724 -0.567717   \n",
       "\n",
       "                          mode  speechiness  acousticness  instrumentalness  \\\n",
       "trackName                                                                     \n",
       "I Wish                0.357718    -0.408420      0.857754         -0.206128   \n",
       "friendship?           0.357718     0.236858      0.374627         -0.206128   \n",
       "Sorry That I Do That  0.357718    -0.158327     -1.246604         -0.206119   \n",
       "One Day              -2.795499    -0.312965     -1.858229         -0.206128   \n",
       "Complicated           0.357718     0.368586      0.368142         -0.202324   \n",
       "\n",
       "                      liveness   valence     tempo  duration_ms  \\\n",
       "trackName                                                         \n",
       "I Wish                0.081054 -1.451574 -0.213323    -0.435917   \n",
       "friendship?          -0.459821  0.905533 -0.329165     0.050218   \n",
       "Sorry That I Do That  1.487328 -0.284518 -0.689797    -1.546062   \n",
       "One Day              -1.063437  2.808466  2.231218    -1.669702   \n",
       "Complicated          -0.243471 -1.538959 -1.479893    -0.656589   \n",
       "\n",
       "                      time_signature  \n",
       "trackName                             \n",
       "I Wish                      0.338529  \n",
       "friendship?                 0.338529  \n",
       "Sorry That I Do That        0.338529  \n",
       "One Day                     0.338529  \n",
       "Complicated                 0.338529  "
      ]
     },
     "execution_count": 146,
     "metadata": {},
     "output_type": "execute_result"
    }
   ],
   "source": [
    "cleaned_df = songs_df.set_index('trackName').drop(columns=['id', 'artistName']).dropna()\n",
    "centered_df = (cleaned_df - np.mean(cleaned_df, axis=0)) / np.std(cleaned_df, axis=0)\n",
    "print(centered_df.shape)\n",
    "centered_df.head(5)"
   ]
  },
  {
   "cell_type": "code",
   "execution_count": 147,
   "metadata": {},
   "outputs": [
    {
     "data": {
      "text/plain": [
       "((476, 14), (14,), (14, 14))"
      ]
     },
     "execution_count": 147,
     "metadata": {},
     "output_type": "execute_result"
    }
   ],
   "source": [
    "u, s, vt = np.linalg.svd(centered_df, full_matrices = False)\n",
    "u.shape, s.shape, vt.shape"
   ]
  },
  {
   "cell_type": "code",
   "execution_count": 148,
   "metadata": {},
   "outputs": [
    {
     "data": {
      "text/plain": [
       "array([0.2 , 0.12, 0.09, 0.08, 0.08, 0.07, 0.07, 0.06, 0.06, 0.05, 0.05,\n",
       "       0.04, 0.03, 0.01])"
      ]
     },
     "execution_count": 148,
     "metadata": {},
     "output_type": "execute_result"
    }
   ],
   "source": [
    "np.round(s**2 / sum(s**2), 2)"
   ]
  },
  {
   "cell_type": "code",
   "execution_count": 149,
   "metadata": {},
   "outputs": [
    {
     "data": {
      "application/vnd.plotly.v1+json": {
       "config": {
        "plotlyServerURL": "https://plot.ly"
       },
       "data": [
        {
         "hovertemplate": "variable=0<br>index=%{x}<br>value=%{y}<extra></extra>",
         "legendgroup": "0",
         "line": {
          "color": "#636efa",
          "dash": "solid"
         },
         "marker": {
          "symbol": "circle"
         },
         "mode": "lines",
         "name": "0",
         "orientation": "v",
         "showlegend": true,
         "type": "scatter",
         "x": [
          0,
          1,
          2,
          3,
          4,
          5,
          6,
          7,
          8,
          9,
          10,
          11,
          12,
          13
         ],
         "xaxis": "x",
         "y": [
          1354.167217651255,
          791.4769448382732,
          613.2755809018066,
          532.3026823318085,
          500.3777116432131,
          475.6110396084856,
          464.25703472717936,
          418.932326901823,
          379.4679540477918,
          348.9357545200248,
          302.97612859230225,
          243.95990665214006,
          169.80271479497247,
          68.45700278892392
         ],
         "yaxis": "y"
        }
       ],
       "layout": {
        "legend": {
         "title": {
          "text": "variable"
         },
         "tracegroupgap": 0
        },
        "margin": {
         "t": 60
        },
        "template": {
         "data": {
          "bar": [
           {
            "error_x": {
             "color": "#2a3f5f"
            },
            "error_y": {
             "color": "#2a3f5f"
            },
            "marker": {
             "line": {
              "color": "#E5ECF6",
              "width": 0.5
             },
             "pattern": {
              "fillmode": "overlay",
              "size": 10,
              "solidity": 0.2
             }
            },
            "type": "bar"
           }
          ],
          "barpolar": [
           {
            "marker": {
             "line": {
              "color": "#E5ECF6",
              "width": 0.5
             },
             "pattern": {
              "fillmode": "overlay",
              "size": 10,
              "solidity": 0.2
             }
            },
            "type": "barpolar"
           }
          ],
          "carpet": [
           {
            "aaxis": {
             "endlinecolor": "#2a3f5f",
             "gridcolor": "white",
             "linecolor": "white",
             "minorgridcolor": "white",
             "startlinecolor": "#2a3f5f"
            },
            "baxis": {
             "endlinecolor": "#2a3f5f",
             "gridcolor": "white",
             "linecolor": "white",
             "minorgridcolor": "white",
             "startlinecolor": "#2a3f5f"
            },
            "type": "carpet"
           }
          ],
          "choropleth": [
           {
            "colorbar": {
             "outlinewidth": 0,
             "ticks": ""
            },
            "type": "choropleth"
           }
          ],
          "contour": [
           {
            "colorbar": {
             "outlinewidth": 0,
             "ticks": ""
            },
            "colorscale": [
             [
              0,
              "#0d0887"
             ],
             [
              0.1111111111111111,
              "#46039f"
             ],
             [
              0.2222222222222222,
              "#7201a8"
             ],
             [
              0.3333333333333333,
              "#9c179e"
             ],
             [
              0.4444444444444444,
              "#bd3786"
             ],
             [
              0.5555555555555556,
              "#d8576b"
             ],
             [
              0.6666666666666666,
              "#ed7953"
             ],
             [
              0.7777777777777778,
              "#fb9f3a"
             ],
             [
              0.8888888888888888,
              "#fdca26"
             ],
             [
              1,
              "#f0f921"
             ]
            ],
            "type": "contour"
           }
          ],
          "contourcarpet": [
           {
            "colorbar": {
             "outlinewidth": 0,
             "ticks": ""
            },
            "type": "contourcarpet"
           }
          ],
          "heatmap": [
           {
            "colorbar": {
             "outlinewidth": 0,
             "ticks": ""
            },
            "colorscale": [
             [
              0,
              "#0d0887"
             ],
             [
              0.1111111111111111,
              "#46039f"
             ],
             [
              0.2222222222222222,
              "#7201a8"
             ],
             [
              0.3333333333333333,
              "#9c179e"
             ],
             [
              0.4444444444444444,
              "#bd3786"
             ],
             [
              0.5555555555555556,
              "#d8576b"
             ],
             [
              0.6666666666666666,
              "#ed7953"
             ],
             [
              0.7777777777777778,
              "#fb9f3a"
             ],
             [
              0.8888888888888888,
              "#fdca26"
             ],
             [
              1,
              "#f0f921"
             ]
            ],
            "type": "heatmap"
           }
          ],
          "heatmapgl": [
           {
            "colorbar": {
             "outlinewidth": 0,
             "ticks": ""
            },
            "colorscale": [
             [
              0,
              "#0d0887"
             ],
             [
              0.1111111111111111,
              "#46039f"
             ],
             [
              0.2222222222222222,
              "#7201a8"
             ],
             [
              0.3333333333333333,
              "#9c179e"
             ],
             [
              0.4444444444444444,
              "#bd3786"
             ],
             [
              0.5555555555555556,
              "#d8576b"
             ],
             [
              0.6666666666666666,
              "#ed7953"
             ],
             [
              0.7777777777777778,
              "#fb9f3a"
             ],
             [
              0.8888888888888888,
              "#fdca26"
             ],
             [
              1,
              "#f0f921"
             ]
            ],
            "type": "heatmapgl"
           }
          ],
          "histogram": [
           {
            "marker": {
             "pattern": {
              "fillmode": "overlay",
              "size": 10,
              "solidity": 0.2
             }
            },
            "type": "histogram"
           }
          ],
          "histogram2d": [
           {
            "colorbar": {
             "outlinewidth": 0,
             "ticks": ""
            },
            "colorscale": [
             [
              0,
              "#0d0887"
             ],
             [
              0.1111111111111111,
              "#46039f"
             ],
             [
              0.2222222222222222,
              "#7201a8"
             ],
             [
              0.3333333333333333,
              "#9c179e"
             ],
             [
              0.4444444444444444,
              "#bd3786"
             ],
             [
              0.5555555555555556,
              "#d8576b"
             ],
             [
              0.6666666666666666,
              "#ed7953"
             ],
             [
              0.7777777777777778,
              "#fb9f3a"
             ],
             [
              0.8888888888888888,
              "#fdca26"
             ],
             [
              1,
              "#f0f921"
             ]
            ],
            "type": "histogram2d"
           }
          ],
          "histogram2dcontour": [
           {
            "colorbar": {
             "outlinewidth": 0,
             "ticks": ""
            },
            "colorscale": [
             [
              0,
              "#0d0887"
             ],
             [
              0.1111111111111111,
              "#46039f"
             ],
             [
              0.2222222222222222,
              "#7201a8"
             ],
             [
              0.3333333333333333,
              "#9c179e"
             ],
             [
              0.4444444444444444,
              "#bd3786"
             ],
             [
              0.5555555555555556,
              "#d8576b"
             ],
             [
              0.6666666666666666,
              "#ed7953"
             ],
             [
              0.7777777777777778,
              "#fb9f3a"
             ],
             [
              0.8888888888888888,
              "#fdca26"
             ],
             [
              1,
              "#f0f921"
             ]
            ],
            "type": "histogram2dcontour"
           }
          ],
          "mesh3d": [
           {
            "colorbar": {
             "outlinewidth": 0,
             "ticks": ""
            },
            "type": "mesh3d"
           }
          ],
          "parcoords": [
           {
            "line": {
             "colorbar": {
              "outlinewidth": 0,
              "ticks": ""
             }
            },
            "type": "parcoords"
           }
          ],
          "pie": [
           {
            "automargin": true,
            "type": "pie"
           }
          ],
          "scatter": [
           {
            "fillpattern": {
             "fillmode": "overlay",
             "size": 10,
             "solidity": 0.2
            },
            "type": "scatter"
           }
          ],
          "scatter3d": [
           {
            "line": {
             "colorbar": {
              "outlinewidth": 0,
              "ticks": ""
             }
            },
            "marker": {
             "colorbar": {
              "outlinewidth": 0,
              "ticks": ""
             }
            },
            "type": "scatter3d"
           }
          ],
          "scattercarpet": [
           {
            "marker": {
             "colorbar": {
              "outlinewidth": 0,
              "ticks": ""
             }
            },
            "type": "scattercarpet"
           }
          ],
          "scattergeo": [
           {
            "marker": {
             "colorbar": {
              "outlinewidth": 0,
              "ticks": ""
             }
            },
            "type": "scattergeo"
           }
          ],
          "scattergl": [
           {
            "marker": {
             "colorbar": {
              "outlinewidth": 0,
              "ticks": ""
             }
            },
            "type": "scattergl"
           }
          ],
          "scattermapbox": [
           {
            "marker": {
             "colorbar": {
              "outlinewidth": 0,
              "ticks": ""
             }
            },
            "type": "scattermapbox"
           }
          ],
          "scatterpolar": [
           {
            "marker": {
             "colorbar": {
              "outlinewidth": 0,
              "ticks": ""
             }
            },
            "type": "scatterpolar"
           }
          ],
          "scatterpolargl": [
           {
            "marker": {
             "colorbar": {
              "outlinewidth": 0,
              "ticks": ""
             }
            },
            "type": "scatterpolargl"
           }
          ],
          "scatterternary": [
           {
            "marker": {
             "colorbar": {
              "outlinewidth": 0,
              "ticks": ""
             }
            },
            "type": "scatterternary"
           }
          ],
          "surface": [
           {
            "colorbar": {
             "outlinewidth": 0,
             "ticks": ""
            },
            "colorscale": [
             [
              0,
              "#0d0887"
             ],
             [
              0.1111111111111111,
              "#46039f"
             ],
             [
              0.2222222222222222,
              "#7201a8"
             ],
             [
              0.3333333333333333,
              "#9c179e"
             ],
             [
              0.4444444444444444,
              "#bd3786"
             ],
             [
              0.5555555555555556,
              "#d8576b"
             ],
             [
              0.6666666666666666,
              "#ed7953"
             ],
             [
              0.7777777777777778,
              "#fb9f3a"
             ],
             [
              0.8888888888888888,
              "#fdca26"
             ],
             [
              1,
              "#f0f921"
             ]
            ],
            "type": "surface"
           }
          ],
          "table": [
           {
            "cells": {
             "fill": {
              "color": "#EBF0F8"
             },
             "line": {
              "color": "white"
             }
            },
            "header": {
             "fill": {
              "color": "#C8D4E3"
             },
             "line": {
              "color": "white"
             }
            },
            "type": "table"
           }
          ]
         },
         "layout": {
          "annotationdefaults": {
           "arrowcolor": "#2a3f5f",
           "arrowhead": 0,
           "arrowwidth": 1
          },
          "autotypenumbers": "strict",
          "coloraxis": {
           "colorbar": {
            "outlinewidth": 0,
            "ticks": ""
           }
          },
          "colorscale": {
           "diverging": [
            [
             0,
             "#8e0152"
            ],
            [
             0.1,
             "#c51b7d"
            ],
            [
             0.2,
             "#de77ae"
            ],
            [
             0.3,
             "#f1b6da"
            ],
            [
             0.4,
             "#fde0ef"
            ],
            [
             0.5,
             "#f7f7f7"
            ],
            [
             0.6,
             "#e6f5d0"
            ],
            [
             0.7,
             "#b8e186"
            ],
            [
             0.8,
             "#7fbc41"
            ],
            [
             0.9,
             "#4d9221"
            ],
            [
             1,
             "#276419"
            ]
           ],
           "sequential": [
            [
             0,
             "#0d0887"
            ],
            [
             0.1111111111111111,
             "#46039f"
            ],
            [
             0.2222222222222222,
             "#7201a8"
            ],
            [
             0.3333333333333333,
             "#9c179e"
            ],
            [
             0.4444444444444444,
             "#bd3786"
            ],
            [
             0.5555555555555556,
             "#d8576b"
            ],
            [
             0.6666666666666666,
             "#ed7953"
            ],
            [
             0.7777777777777778,
             "#fb9f3a"
            ],
            [
             0.8888888888888888,
             "#fdca26"
            ],
            [
             1,
             "#f0f921"
            ]
           ],
           "sequentialminus": [
            [
             0,
             "#0d0887"
            ],
            [
             0.1111111111111111,
             "#46039f"
            ],
            [
             0.2222222222222222,
             "#7201a8"
            ],
            [
             0.3333333333333333,
             "#9c179e"
            ],
            [
             0.4444444444444444,
             "#bd3786"
            ],
            [
             0.5555555555555556,
             "#d8576b"
            ],
            [
             0.6666666666666666,
             "#ed7953"
            ],
            [
             0.7777777777777778,
             "#fb9f3a"
            ],
            [
             0.8888888888888888,
             "#fdca26"
            ],
            [
             1,
             "#f0f921"
            ]
           ]
          },
          "colorway": [
           "#636efa",
           "#EF553B",
           "#00cc96",
           "#ab63fa",
           "#FFA15A",
           "#19d3f3",
           "#FF6692",
           "#B6E880",
           "#FF97FF",
           "#FECB52"
          ],
          "font": {
           "color": "#2a3f5f"
          },
          "geo": {
           "bgcolor": "white",
           "lakecolor": "white",
           "landcolor": "#E5ECF6",
           "showlakes": true,
           "showland": true,
           "subunitcolor": "white"
          },
          "hoverlabel": {
           "align": "left"
          },
          "hovermode": "closest",
          "mapbox": {
           "style": "light"
          },
          "paper_bgcolor": "white",
          "plot_bgcolor": "#E5ECF6",
          "polar": {
           "angularaxis": {
            "gridcolor": "white",
            "linecolor": "white",
            "ticks": ""
           },
           "bgcolor": "#E5ECF6",
           "radialaxis": {
            "gridcolor": "white",
            "linecolor": "white",
            "ticks": ""
           }
          },
          "scene": {
           "xaxis": {
            "backgroundcolor": "#E5ECF6",
            "gridcolor": "white",
            "gridwidth": 2,
            "linecolor": "white",
            "showbackground": true,
            "ticks": "",
            "zerolinecolor": "white"
           },
           "yaxis": {
            "backgroundcolor": "#E5ECF6",
            "gridcolor": "white",
            "gridwidth": 2,
            "linecolor": "white",
            "showbackground": true,
            "ticks": "",
            "zerolinecolor": "white"
           },
           "zaxis": {
            "backgroundcolor": "#E5ECF6",
            "gridcolor": "white",
            "gridwidth": 2,
            "linecolor": "white",
            "showbackground": true,
            "ticks": "",
            "zerolinecolor": "white"
           }
          },
          "shapedefaults": {
           "line": {
            "color": "#2a3f5f"
           }
          },
          "ternary": {
           "aaxis": {
            "gridcolor": "white",
            "linecolor": "white",
            "ticks": ""
           },
           "baxis": {
            "gridcolor": "white",
            "linecolor": "white",
            "ticks": ""
           },
           "bgcolor": "#E5ECF6",
           "caxis": {
            "gridcolor": "white",
            "linecolor": "white",
            "ticks": ""
           }
          },
          "title": {
           "x": 0.05
          },
          "xaxis": {
           "automargin": true,
           "gridcolor": "white",
           "linecolor": "white",
           "ticks": "",
           "title": {
            "standoff": 15
           },
           "zerolinecolor": "white",
           "zerolinewidth": 2
          },
          "yaxis": {
           "automargin": true,
           "gridcolor": "white",
           "linecolor": "white",
           "ticks": "",
           "title": {
            "standoff": 15
           },
           "zerolinecolor": "white",
           "zerolinewidth": 2
          }
         }
        },
        "xaxis": {
         "anchor": "y",
         "domain": [
          0,
          1
         ],
         "title": {
          "text": "index"
         }
        },
        "yaxis": {
         "anchor": "x",
         "domain": [
          0,
          1
         ],
         "title": {
          "text": "value"
         }
        }
       }
      }
     },
     "metadata": {},
     "output_type": "display_data"
    }
   ],
   "source": [
    "# scree plot\n",
    "px.line(s**2)"
   ]
  },
  {
   "cell_type": "code",
   "execution_count": null,
   "metadata": {},
   "outputs": [],
   "source": []
  },
  {
   "cell_type": "code",
   "execution_count": 153,
   "metadata": {},
   "outputs": [
    {
     "data": {
      "application/vnd.plotly.v1+json": {
       "config": {
        "plotlyServerURL": "https://plot.ly"
       },
       "data": [
        {
         "customdata": [
          [
           "I Wish"
          ],
          [
           "friendship?"
          ],
          [
           "Sorry That I Do That"
          ],
          [
           "One Day"
          ],
          [
           "Complicated"
          ],
          [
           "Astronaut Kids"
          ],
          [
           "We Could Be Anything (Black & White)"
          ],
          [
           "Only Everything - Acoustic"
          ],
          [
           "Singing in the Rain"
          ],
          [
           "About the Rain"
          ],
          [
           "if i were a friend"
          ],
          [
           "Tsunami"
          ],
          [
           "Everyone’s Got Something"
          ],
          [
           "Different Eyes"
          ],
          [
           "Dirt"
          ],
          [
           "Have We Met Before (with Eric Nam)"
          ],
          [
           "Miles Apart"
          ],
          [
           "Jericho"
          ],
          [
           "Hailey"
          ],
          [
           "Pancakes for Dinner"
          ],
          [
           "Chosen Last"
          ],
          [
           "Half Gone"
          ],
          [
           "I Met Sarah in the Bathroom"
          ],
          [
           "Last Time"
          ],
          [
           "The Corner Dwellers"
          ],
          [
           "Either You Love Me Or You Don't - Live Acoustic"
          ],
          [
           "Marigold"
          ],
          [
           "Older"
          ],
          [
           "America"
          ],
          [
           "Out of Love"
          ],
          [
           "Dancing With Your Ghost"
          ],
          [
           "Back to Friends"
          ],
          [
           "fools (can't help falling in love)"
          ],
          [
           "i luv him."
          ],
          [
           "Things You Can't Change"
          ],
          [
           "Blue"
          ],
          [
           "Seasons Change"
          ],
          [
           "Keep Me Up"
          ],
          [
           "CLEAR"
          ],
          [
           "Love Like This - Acoustic"
          ],
          [
           "All This Love"
          ],
          [
           "Yellow Lights"
          ],
          [
           "From Afar"
          ],
          [
           "River of Grace"
          ],
          [
           "Helium"
          ],
          [
           "Medicine"
          ],
          [
           "My Person"
          ],
          [
           "Disarray"
          ],
          [
           "Terrible Things - EP Version"
          ],
          [
           "blind"
          ],
          [
           "Wilderness"
          ],
          [
           "One Day"
          ],
          [
           "You Said You'd Grow Old With Me"
          ],
          [
           "Better Together"
          ],
          [
           "Dwelling Place"
          ],
          [
           "Always Be Loving You"
          ],
          [
           "Hold On"
          ],
          [
           "Give It All"
          ],
          [
           "Tragedy Is Not the End"
          ],
          [
           "I Don't Mind"
          ],
          [
           "Good Without"
          ],
          [
           "Murakami"
          ],
          [
           "The Village"
          ],
          [
           "Beautiful Disaster"
          ],
          [
           "stuck in my head"
          ],
          [
           "Tears Come From The Heart"
          ],
          [
           "Echo (with KSHMR)"
          ],
          [
           "2 Am"
          ],
          [
           "This is Love - Interlude"
          ],
          [
           "Sing of the Moon"
          ],
          [
           "Somewhere in Ann Arbor"
          ],
          [
           "Tears"
          ],
          [
           "Beautiful"
          ],
          [
           "I Feel Good About This"
          ],
          [
           "Bulletproof Weeks"
          ],
          [
           "Wasted Time"
          ],
          [
           "Photographs & Memories."
          ],
          [
           "Home"
          ],
          [
           "Heaven's Not Too Far"
          ],
          [
           "Song for a Girl"
          ],
          [
           "Pollen And Salt"
          ],
          [
           "Wherever We Are"
          ],
          [
           "Lie About You"
          ],
          [
           "By Your Side"
          ],
          [
           "Slow Dance (feat. Ava Max) - Sam Feldt Remix"
          ],
          [
           "Sweet Love"
          ],
          [
           "Nineteen"
          ],
          [
           "Love Like That"
          ],
          [
           "Mess Is Mine"
          ],
          [
           "Ivory Fields"
          ],
          [
           "Afterglow"
          ],
          [
           "Brand New"
          ],
          [
           "All I Want"
          ],
          [
           "Poetry"
          ],
          [
           "Here for the First Time"
          ],
          [
           "Machine"
          ],
          [
           "Forever And Always"
          ],
          [
           "In the Eye"
          ],
          [
           "Summer's Gone"
          ],
          [
           "Fear of Fear"
          ],
          [
           "Beautiful World"
          ],
          [
           "Gunslinger"
          ],
          [
           "Countdowns"
          ],
          [
           "Things That I Miss"
          ],
          [
           "Please Never Fall in Love Again"
          ],
          [
           "What If I Love You"
          ],
          [
           "The Way That I Love You (Single Version)"
          ],
          [
           "Wild Child"
          ],
          [
           "Mr Loverman (feat. chloe moriondo)"
          ],
          [
           "Wildflower"
          ],
          [
           "Hey Lady"
          ],
          [
           "Breakups"
          ],
          [
           "Till I Found You"
          ],
          [
           "23"
          ],
          [
           "Iris"
          ],
          [
           "Falling to Pieces"
          ],
          [
           "Hotel Ceiling"
          ],
          [
           "channel 67"
          ],
          [
           "Ho Hey"
          ],
          [
           "Means To A Mend"
          ],
          [
           "Silhouettes & Sand"
          ],
          [
           "I Lived"
          ],
          [
           "just like you - demo"
          ],
          [
           "i don't want to watch the world end with someone else"
          ],
          [
           "Four Tequilas Down"
          ],
          [
           "Love Worth Saving"
          ],
          [
           "Hard To Say Goodbye (feat. Chloe Angelides)"
          ],
          [
           "Gravity"
          ],
          [
           "All of Your Colours"
          ],
          [
           "Palo Alto"
          ],
          [
           "Lovely"
          ],
          [
           "Anything to Make You Stay - Acoustic"
          ],
          [
           "Gone"
          ],
          [
           "YOU"
          ],
          [
           "Fix You"
          ],
          [
           "Close To You"
          ],
          [
           "Lost My Mind (Acoustic)"
          ],
          [
           "stay"
          ],
          [
           "Flicker"
          ],
          [
           "Sad Forever"
          ],
          [
           "Swim"
          ],
          [
           "Five Foot Three"
          ],
          [
           "Sometimes"
          ],
          [
           "I Really Love Ya"
          ],
          [
           "Please Keep Loving Me - Acoustic"
          ],
          [
           "Mother Tongue"
          ],
          [
           "Bitch"
          ],
          [
           "Tuesdays"
          ],
          [
           "Hibiscus"
          ],
          [
           "Alone With My Thoughts"
          ],
          [
           "Old Eden"
          ],
          [
           "Saturday Sun"
          ],
          [
           "A Final Word"
          ],
          [
           "Malibu Nights"
          ],
          [
           "Favourite Ex"
          ],
          [
           "Quiet"
          ],
          [
           "Shaky Hands - Piano Version"
          ],
          [
           "already there"
          ],
          [
           "Cheating on U"
          ],
          [
           "House of Cards"
          ],
          [
           "Broken"
          ],
          [
           "You and I"
          ],
          [
           "When Someone Loves You"
          ],
          [
           "Rich Boy"
          ],
          [
           "Tiger Striped Sky"
          ],
          [
           "Never the 1"
          ],
          [
           "Moments in the Mountains"
          ],
          [
           "Fletcher Bay"
          ],
          [
           "Black & Blue"
          ],
          [
           "Winona Ryder"
          ],
          [
           "Without a Thought for My Heart"
          ],
          [
           "House"
          ],
          [
           "Something Beautiful"
          ],
          [
           "Wherever I May Go"
          ],
          [
           "The Best - Acoustic"
          ],
          [
           "Prom Queen"
          ],
          [
           "Best of Me (Acoustic)"
          ],
          [
           "Covered Up"
          ],
          [
           "With Love and Compassion"
          ],
          [
           "Out Of Love"
          ],
          [
           "30,000 Feet"
          ],
          [
           "Boats & Birds"
          ],
          [
           "Rock And Roll"
          ],
          [
           "1999"
          ],
          [
           "Corners"
          ],
          [
           "Naïve"
          ],
          [
           "She"
          ],
          [
           "Red Delicious"
          ],
          [
           "Fast Car"
          ],
          [
           "Slip"
          ],
          [
           "Strawberries"
          ],
          [
           "Reason To Stay"
          ],
          [
           "Use Somebody (Bonus Track)"
          ],
          [
           "Restless"
          ],
          [
           "No Right To Love You - Acoustic"
          ],
          [
           "I Put You First (& You Did Too)"
          ],
          [
           "Getting over You"
          ],
          [
           "Fly Away With Me"
          ],
          [
           "justacow (demo3)"
          ],
          [
           "IDK You Yet"
          ],
          [
           "Why We Try (feat. Chelsea Lankes)"
          ],
          [
           "Please Go Slowly"
          ],
          [
           "The Moon Song"
          ],
          [
           "Nothing Ever Changes"
          ],
          [
           "Love Drunk"
          ],
          [
           "Drown"
          ],
          [
           "Someday Soon - Single Version"
          ],
          [
           "Good Times"
          ],
          [
           "After Many Miles"
          ],
          [
           "RN"
          ],
          [
           "Dear No One (feat. Spencer Kane & Brooke)"
          ],
          [
           "broken - live from london, studio two"
          ],
          [
           "hopeless"
          ],
          [
           "You & Me"
          ],
          [
           "I Was Wrong"
          ],
          [
           "A Day Will Come"
          ],
          [
           "I’m So Happy"
          ],
          [
           "i wanna love somebody"
          ],
          [
           "i hope you love somebody - demo"
          ],
          [
           "Wait"
          ],
          [
           "Hand to Hold"
          ],
          [
           "Venice (Acoustic)"
          ],
          [
           "Hey It's Delilah"
          ],
          [
           "Dancing Shoes"
          ],
          [
           "New Start"
          ],
          [
           "all i need (the distance song)"
          ],
          [
           "Shelter"
          ],
          [
           "Nobody Opened The Door"
          ],
          [
           "Bloom - Bonus Track"
          ],
          [
           "Paper Planes"
          ],
          [
           "the author"
          ],
          [
           "Me Without You"
          ],
          [
           "Sticks & Stones"
          ],
          [
           "Ship in a Bottle"
          ],
          [
           "Silhouettes"
          ],
          [
           "I Give You The Best"
          ],
          [
           "Half Light"
          ],
          [
           "This Beautiful Life"
          ],
          [
           "This City Remix (feat. Anne-Marie)"
          ],
          [
           "We Will Dance"
          ],
          [
           "You"
          ],
          [
           "Make You Mine"
          ],
          [
           "Loved At All"
          ],
          [
           "The Rhine"
          ],
          [
           "Silhouette"
          ],
          [
           "The One"
          ],
          [
           "Who Cares (feat. Ben Bannister)"
          ],
          [
           "I Wish It Was Me"
          ],
          [
           "All of Me"
          ],
          [
           "Let You Break My Heart Again"
          ],
          [
           "Grow As We Go"
          ],
          [
           "To Have You Around"
          ],
          [
           "I Have A Hole In My Tooth (And My Dentist is Shut)"
          ],
          [
           "Teach Me to Dance"
          ],
          [
           "Expectations"
          ],
          [
           "Photograph"
          ],
          [
           "Better"
          ],
          [
           "Moon"
          ],
          [
           "Mr. Brightside"
          ],
          [
           "Something Just Like This"
          ],
          [
           "love addiction"
          ],
          [
           "Maybe I Do"
          ],
          [
           "The Mountain"
          ],
          [
           "Just You and I"
          ],
          [
           "Bedroom Ceiling"
          ],
          [
           "Twenty Two"
          ],
          [
           "In The Silence - Demo"
          ],
          [
           "Darkest Hour"
          ],
          [
           "Confidant"
          ],
          [
           "Forever Love"
          ],
          [
           "Need You Now - Acoustic"
          ],
          [
           "Slow Motion"
          ],
          [
           "Right Here (Acoustic)"
          ],
          [
           "Good Good Day"
          ],
          [
           "i (I'll always be there)"
          ],
          [
           "Stay"
          ],
          [
           "Never Stop (Wedding Version)"
          ],
          [
           "Is It Just Me?"
          ],
          [
           "Forever & Always"
          ],
          [
           "I Don't Even Care (Pick Me Up)"
          ],
          [
           "Superhero"
          ],
          [
           "7UP"
          ],
          [
           "Always Remember Me (feat. Sara Bareilles)"
          ],
          [
           "Waking Up"
          ],
          [
           "Light Year (feat. Lennon Stella)"
          ],
          [
           "Blue"
          ],
          [
           "Love & War in Your Twenties"
          ],
          [
           "Lift"
          ],
          [
           "Joshua Tree"
          ],
          [
           "If You're the Coffee"
          ],
          [
           "Paris, or Wherever We Are"
          ],
          [
           "Please Notice"
          ],
          [
           "Pierre"
          ],
          [
           "Lover"
          ],
          [
           "Walk Outside"
          ],
          [
           "Rhythm Of Love"
          ],
          [
           "Cringe - Stripped"
          ],
          [
           "Be Happy"
          ],
          [
           "Airplane"
          ],
          [
           "October"
          ],
          [
           "Not Yet"
          ],
          [
           "Pull the Cord"
          ],
          [
           "Last Time"
          ],
          [
           "My Love"
          ],
          [
           "can I call you back?"
          ],
          [
           "i don't wanna know - acoustic"
          ],
          [
           "Worth My While"
          ],
          [
           "Dust"
          ],
          [
           "Be Alright"
          ],
          [
           "Blvd"
          ],
          [
           "A Song for the Drunk and Broken Hearted"
          ],
          [
           "Black Coffee - Unplugged"
          ],
          [
           "Seasons (feat. Madilyn Paige)"
          ],
          [
           "Be Okay"
          ],
          [
           "Hey Siri"
          ],
          [
           "Undrunk"
          ],
          [
           "Adhd"
          ],
          [
           "This Town"
          ],
          [
           "Goodnight Baby"
          ],
          [
           "Burden"
          ],
          [
           "Shine (feat. Stoneman Douglas Drama) - Town Hall Version"
          ],
          [
           "Play Pretend"
          ],
          [
           "When The Darkness Comes"
          ],
          [
           "Spotless Mind"
          ],
          [
           "Subway Song"
          ],
          [
           "There's Something In The Water"
          ],
          [
           "Insanity"
          ],
          [
           "I Will Sing"
          ],
          [
           "That's Us"
          ],
          [
           "House With No Mirrors"
          ],
          [
           "Young Blood - Acoustic"
          ],
          [
           "Wanted Man"
          ],
          [
           "Jaiden"
          ],
          [
           "Suffocate"
          ],
          [
           "Summer Feelings (feat. Charlie Puth) - From 'SCOOB!' The Album"
          ],
          [
           "Boomerang"
          ],
          [
           "Work Off My Hurt"
          ],
          [
           "Lucky People"
          ],
          [
           "Tonight Belongs to You"
          ],
          [
           "Hey Ya!"
          ],
          [
           "323"
          ],
          [
           "Bittersweet Endings"
          ],
          [
           "Hey There Delilah"
          ],
          [
           "forget about us"
          ],
          [
           "freshman year"
          ],
          [
           "Not Today"
          ],
          [
           "Köln"
          ],
          [
           "Hold on to You (Acoustic)"
          ],
          [
           "Sad Song (feat. Elena Coats)"
          ],
          [
           "Sugar Coat"
          ],
          [
           "The Last Song On Earth"
          ],
          [
           "The Girl You Call Best Friend"
          ],
          [
           "Love Like This"
          ],
          [
           "As We Ran"
          ],
          [
           "Kids Again"
          ],
          [
           "Wherever You Go"
          ],
          [
           "Hypoxia"
          ],
          [
           "City of Angels"
          ],
          [
           "Sweetest Thing"
          ],
          [
           "Silence - Acoustic"
          ],
          [
           "Be Still"
          ],
          [
           "To Be Alone With You"
          ],
          [
           "Since Saturday"
          ],
          [
           "Behind the Light"
          ],
          [
           "Better"
          ],
          [
           "stones around the sun"
          ],
          [
           "I Will Wait - Candlelight Version"
          ],
          [
           "I Will Always Be Yours"
          ],
          [
           "This Is On You - Acoustic"
          ],
          [
           "drift/(:("
          ],
          [
           "Summer"
          ],
          [
           "I Won't Give Up"
          ],
          [
           "Best Part of Me"
          ],
          [
           "Next to You"
          ],
          [
           "Would Anyone Care"
          ],
          [
           "Broken"
          ],
          [
           "Love Endures All Things"
          ],
          [
           "Letter From Last Summer"
          ],
          [
           "Are you happy?"
          ],
          [
           "Burning Bridges - Sistek Remix"
          ],
          [
           "Strangers"
          ],
          [
           "Ocean"
          ],
          [
           "I Wish I Never Met You"
          ],
          [
           "Weeds"
          ],
          [
           "Far Too Good"
          ],
          [
           "Already Gone (feat. Emily Warren)"
          ],
          [
           "Whole - demo"
          ],
          [
           "Mirage"
          ],
          [
           "the stars"
          ],
          [
           "Never Stop"
          ],
          [
           "Shelter"
          ],
          [
           "Last Dance"
          ],
          [
           "Place We Were Made"
          ],
          [
           "Oceans Between Us"
          ],
          [
           "Wonderfully Made"
          ],
          [
           "fragile tears"
          ],
          [
           "Last One Standing"
          ],
          [
           "Perfect"
          ],
          [
           "Let It Go"
          ],
          [
           "Ocean - Stripped Acoustic"
          ],
          [
           "Beauty In The Breakdown (Acoustic)"
          ],
          [
           "letting you in"
          ],
          [
           "She Walks in Beauty"
          ],
          [
           "Monsters of the North"
          ],
          [
           "Headlights"
          ],
          [
           "This Promise"
          ],
          [
           "Say You Won't Let Go"
          ],
          [
           "Dancing In The Minefields"
          ],
          [
           "Would You Be So Kind"
          ],
          [
           "Tired"
          ],
          [
           "demons"
          ],
          [
           "Someone To Stay"
          ],
          [
           "Out Of Love with You"
          ],
          [
           "In the Unknown"
          ],
          [
           "Younger - Acoustic"
          ],
          [
           "Watching You"
          ],
          [
           "Always You"
          ],
          [
           "Air So Sweet"
          ],
          [
           "I Will Follow You into the Dark"
          ],
          [
           "This Could Be"
          ],
          [
           "tear myself apart"
          ],
          [
           "Cool Girl"
          ],
          [
           "Old Wounds"
          ],
          [
           "I Wish I Was the Moon"
          ],
          [
           "let go (demo)"
          ],
          [
           "UFO"
          ],
          [
           "Two Punks In Love"
          ],
          [
           "Let Me Down Slowly"
          ],
          [
           "In My Veins - Feat. Erin Mccarley"
          ],
          [
           "Are You Okay"
          ],
          [
           "Wasted Love"
          ],
          [
           "This Is Love"
          ],
          [
           "you were good to me"
          ],
          [
           "we'll be fine"
          ],
          [
           "Nervous - Acoustic"
          ],
          [
           "Take a Chance on Me"
          ],
          [
           "can you hear me?"
          ],
          [
           "Upset With Me"
          ],
          [
           "For You"
          ],
          [
           "Kiss Me Slowly"
          ],
          [
           "Cheap Wine"
          ],
          [
           "forever fifteen"
          ],
          [
           "Only Girl"
          ],
          [
           "Feeling Whitney"
          ],
          [
           "Runneth Over"
          ],
          [
           "Paper Hearts (feat. Bailey Jehl)"
          ],
          [
           "I Can't Make You Love Me"
          ],
          [
           "Call Your Girlfriend"
          ],
          [
           "Maple Whisky"
          ],
          [
           "Tell The World"
          ],
          [
           "Vertigo"
          ],
          [
           "My Town"
          ],
          [
           "Next To Me"
          ],
          [
           "What We Had"
          ],
          [
           "If the Sun Is Shining"
          ],
          [
           "Close Your Eyes"
          ],
          [
           "All Dressed In White"
          ],
          [
           "Summer Storms"
          ],
          [
           "Part of Me"
          ],
          [
           "Simple Song"
          ],
          [
           "Excited Eyes"
          ],
          [
           "Closing Time"
          ],
          [
           "A Drop In The Ocean"
          ],
          [
           "Human Becoming"
          ],
          [
           "October - Live"
          ],
          [
           "June, After Dark"
          ],
          [
           "With or Without You"
          ],
          [
           "How to Save a Life"
          ],
          [
           "Macaroni Song"
          ],
          [
           "The Daylight"
          ],
          [
           "If By Chance"
          ],
          [
           "Peaches"
          ],
          [
           "Waste My Time"
          ],
          [
           "deep the water"
          ],
          [
           "Come On Get Higher"
          ],
          [
           "You In My Life"
          ]
         ],
         "hovertemplate": "pc1=%{x}<br>pc2=%{y}<br>pc3=%{z}<br>trackName=%{customdata[0]}<extra></extra>",
         "legendgroup": "",
         "marker": {
          "color": "#636efa",
          "symbol": "circle"
         },
         "mode": "markers",
         "name": "",
         "scene": "scene",
         "showlegend": false,
         "type": "scatter3d",
         "x": [
          0.8825564238673628,
          0.4611052463203644,
          -0.9007700716507125,
          -2.701514834329672,
          0.4785424135254074,
          0.33302670942770346,
          -0.3380655967544109,
          0.026651836779261678,
          -0.6246944922048404,
          -1.5878912056441596,
          0.2411031454201059,
          -0.6776463640699499,
          1.749235228979727,
          1.8571635574731589,
          2.8296004481175747,
          0.9851482279066535,
          1.9128453568272226,
          -2.146585352093663,
          0.07049339641034669,
          1.0793529437737681,
          -0.2857802826147956,
          -2.084690830440187,
          0.10861909232852364,
          1.951878714168808,
          0.09803521314322063,
          1.2638045422338975,
          -0.23017975539105212,
          -3.0032645793221526,
          2.157482885288363,
          2.293223043664797,
          0.16875232639286178,
          1.0066667019580486,
          -2.523362940947862,
          0.9732522442377117,
          -0.9691899067643052,
          2.0194244324414807,
          3.192096363068632,
          -3.2003548044368477,
          0.0442468228886913,
          2.5163369710258405,
          -1.2908248088894552,
          3.0509943413937677,
          0.5171053863153265,
          0.1321464906747509,
          -1.4094655742993327,
          -0.2556017255549056,
          -1.9408550712100832,
          2.2583111253163217,
          0.9442389405002287,
          -2.9543224581194307,
          2.8754711103507398,
          -1.0653535699623526,
          0.5154459191755453,
          -0.5192464911217272,
          -0.2743072538113846,
          -0.32083802597841904,
          -0.06300622357822,
          1.1473870049811745,
          1.6038147797249265,
          1.852704281057839,
          -2.6356690945968078,
          -0.027489926026731958,
          -0.26802941658801493,
          -1.6689291536746305,
          1.1510703498011288,
          1.6019144457151908,
          -3.1971001881034886,
          0.1743850650314059,
          0.7147345188020185,
          0.8003932796426834,
          1.5666884911893197,
          -0.864104888673226,
          1.215695298051132,
          -2.9254715126594832,
          1.122762501725602,
          -0.33486081020076147,
          -0.13897244930989497,
          0.6670110503413555,
          -0.18331113505964453,
          0.8416958674623589,
          1.3166658806096854,
          -1.5886691009901026,
          -1.087777261526514,
          4.652515024610862,
          -2.686998469602548,
          0.08480595510570862,
          -2.6001348435191987,
          -2.54946543570783,
          -0.49581034252322803,
          2.276639136908612,
          -0.5158560891927595,
          -3.196097439697652,
          1.7079141144507348,
          -1.4968709499678523,
          -1.1463560697395923,
          1.3213265298531292,
          -1.9068779809234255,
          -2.1532915310915404,
          0.9926416151928787,
          1.27922839094927,
          1.9927894437561986,
          -1.2534591716542944,
          1.8397723719637968,
          1.3464121062888426,
          2.221658532477578,
          -2.0332817378958326,
          1.546107035489863,
          -2.4937994273959845,
          -1.6578032309780353,
          0.031956423718336,
          -1.50763359394317,
          -0.6627085128188849,
          -1.514292165190143,
          -0.2584854400021693,
          1.4159428941774002,
          -2.4886830878988113,
          -2.4217172328457006,
          4.0475850198561405,
          -0.05727923931305896,
          2.6854962461100125,
          1.3466445288480213,
          -2.7407265813214288,
          0.91522997249018,
          0.40279863151176176,
          1.936991151757078,
          0.33594737753548265,
          -2.485637345572763,
          1.6949937718177048,
          1.7388912670523244,
          1.1298727767208225,
          -3.0876732746891724,
          1.7742921611286835,
          -1.2854339697662176,
          4.482071913198323,
          2.066746076375497,
          0.01593458422647575,
          1.055082670170008,
          -1.355596639407945,
          0.9863099433955752,
          -2.3115782673393697,
          -1.6223028511140463,
          2.0135675658439456,
          1.5118370318429408,
          -0.3914984748993741,
          0.9437146566982242,
          2.848781859055563,
          -3.354318806084068,
          1.0978630750808585,
          -0.14566076623666985,
          0.6288474587150812,
          1.2118519374635341,
          -3.003250992944995,
          0.22580241174005516,
          0.5763876416592413,
          2.0466315106671606,
          -1.3284129747456448,
          -0.10279543742880068,
          -0.25134733569023354,
          -2.573483479289553,
          0.19617911618814807,
          1.2203943501632422,
          -1.2582872792686752,
          1.380166223105261,
          -0.34511488939425483,
          1.4102607169220094,
          0.7314971977331298,
          -2.419617875181712,
          2.1031998563832794,
          0.029757621583044437,
          -1.5236989869339852,
          1.934316260027481,
          1.8324371431472688,
          -1.5861376880391618,
          2.0977600468290993,
          1.654807427041945,
          1.1661085685387864,
          1.3028013135106247,
          -0.39630879851354434,
          1.4543043053384859,
          1.0954349486022674,
          0.5375253235063495,
          2.0522006722270154,
          -2.088116351919182,
          -2.654230826691746,
          -2.5440862881229758,
          -2.3827592399274957,
          -0.17469273116952447,
          -1.8275169861491953,
          1.2269916050051537,
          0.15165246547207545,
          2.22594181140996,
          0.6592491797659765,
          0.2929030290774711,
          -3.693507810250295,
          0.9168584148033391,
          -1.0247378567146612,
          1.5687250297628328,
          -0.37828194357653794,
          0.7234689458721087,
          2.6760080647331095,
          -1.0509153996930676,
          -0.1305040299350588,
          2.0822582608665603,
          -0.3035008259926635,
          -3.863750864946058,
          0.05613294861746248,
          0.21279126658888536,
          -2.8551021326019765,
          -0.9151698405522365,
          -2.990686993054849,
          0.7417153433573146,
          -1.1685102902135716,
          -1.8087352256905864,
          -1.691806018315248,
          -0.766078066525972,
          1.5655542222159604,
          -0.25781145905969266,
          -1.8472840025977981,
          -0.5970544456837995,
          -1.2479473474224498,
          0.28537379665793744,
          1.9543939626769726,
          3.221119873125455,
          -0.9571124794524832,
          3.198977643758137,
          1.6976562806113193,
          0.5906521815900571,
          0.2805252809744537,
          0.3647223686779752,
          0.6157506171074338,
          2.0086161672819767,
          -2.4522785260046143,
          -2.7194413014589793,
          -0.6779149426722404,
          -1.6694092061837116,
          -0.7386751839753539,
          -0.11606899816443955,
          2.1240539657888426,
          -0.20171499499596554,
          1.2249999717247537,
          0.4388820267739861,
          -2.6901961464040602,
          0.9391609313697996,
          -0.06390740847908051,
          1.6444180816454657,
          -0.4332498301548627,
          -0.7085567865072745,
          -1.6133739457170633,
          0.8631210531789042,
          2.9285605862604642,
          1.884247527414879,
          2.2075354851543554,
          -0.7907569094632724,
          -2.7078274812906105,
          -1.3950160972538277,
          0.2616160104020481,
          -0.712824149194006,
          -1.6242213713113451,
          -2.0972164574430283,
          -2.44249095019666,
          0.4667565015892317,
          -0.39451581689191134,
          -1.0583148559649456,
          -2.946613878388885,
          -0.09805415585379598,
          1.6314429512553275,
          -0.019750196534469053,
          -0.1310024292519019,
          0.30074712688380895,
          -1.138483201916951,
          0.699653982660833,
          -1.2067281544311603,
          -1.3327710780216837,
          -1.108137380882174,
          1.304482839190237,
          -3.7259242545216904,
          -0.3417995822341042,
          0.6748100896335255,
          4.075206352985378,
          -2.546899194049992,
          2.4965875052203903,
          -1.1161696172085536,
          1.7165613246406846,
          0.2102109796744476,
          -0.18727880588137416,
          1.1161264274366955,
          -1.347938299500599,
          0.7945276467536957,
          -1.0303168911907543,
          -0.702796844128873,
          1.1290670226593358,
          1.1285683918900353,
          -3.736699996219761,
          -0.03656609303330256,
          -1.0502381844182898,
          -1.680049241292656,
          0.4387696316494675,
          -0.433961219201026,
          -0.03435663240556765,
          0.3212933557435941,
          0.010972837264509918,
          -1.3094783691600345,
          0.5282127889233793,
          0.8665626982526363,
          0.2552261012887242,
          0.05227246965393398,
          -1.9324754365711976,
          0.4181131920642474,
          -0.7350071284061954,
          1.9679459900263385,
          1.4268056339416482,
          1.780246910534822,
          0.8614764959224473,
          -3.774264466090632,
          0.23628832906413716,
          -1.711589145302768,
          -3.347742110240882,
          0.10743162184029173,
          3.0911956212945366,
          3.2916112505081703,
          -0.8221654650646346,
          -0.3023942411512259,
          1.8623388584249163,
          2.2364975521099204,
          0.49264767195153103,
          -2.241879349983409,
          2.1780233727426466,
          -0.14102844404015033,
          2.4442069070215013,
          0.521268410462931,
          0.34551790039915414,
          -0.17945713163972607,
          0.3814267847589209,
          3.258462748063805,
          -2.947453691821554,
          -2.813994788826169,
          -0.9085704873646959,
          -1.6633951453930411,
          -4.6112235759637725,
          -1.442128855661078,
          2.341126884932342,
          0.11775921132977636,
          0.9824312880629492,
          -0.5081004910104332,
          -1.1958176800141278,
          0.6135505804478818,
          1.6120327203027576,
          0.07106575091104882,
          -1.2413912839559451,
          -1.7310214525514298,
          0.3841917369619558,
          -0.11528674501679839,
          1.479377459039209,
          -1.561300645092355,
          -2.0392740764239066,
          -1.5242867646431568,
          -2.171190802213609,
          -0.3488672720187504,
          -0.20286484693172957,
          1.4576377995211818,
          1.538134288357219,
          1.2857108566703375,
          2.513976710009406,
          1.0337778879093913,
          -0.5292405680166855,
          -0.3992384041669561,
          1.5092272064697252,
          -2.3012917375528583,
          0.366020282307241,
          3.7012038499222575,
          -0.6528961160655283,
          1.420079409838508,
          -1.2427703094554072,
          0.39304014727227704,
          -0.8295570734580046,
          2.0783347964998056,
          0.3775853088476612,
          3.6306877430763698,
          -1.0922549307471427,
          -2.027787225062806,
          -0.7990441742143506,
          0.01459915268083907,
          -2.1781095111289854,
          -0.057781642211872174,
          -0.09397711607646199,
          -0.14447205199644134,
          1.2846298690747935,
          0.6661389014421208,
          0.05989124433929397,
          2.137897944326983,
          -0.3296688099042339,
          -1.2971158285498632,
          1.5640801677253464,
          -0.3281352886426231,
          0.7102891143133436,
          2.561586859078708,
          -3.4357086465366287,
          -0.5240659372582235,
          1.0882922468112637,
          -0.2274539779978144,
          -0.5093761708402561,
          1.3194151715708724,
          1.8466194897260886,
          -1.954225265693113,
          0.15526109180971573,
          -1.2759081828189582,
          1.9759757349373752,
          0.13246010230283098,
          -2.1471916993484244,
          -0.8008549110547498,
          0.35491482492078996,
          -0.06741661995446878,
          1.3576523132750107,
          -1.9302558697750642,
          -2.255341713126011,
          -1.0726530739022242,
          -1.9146198764732498,
          2.8092958606312353,
          1.1090138383500399,
          0.6691506359506201,
          -1.5381967973816963,
          1.5967701591395567,
          1.02331089884942,
          1.8996214926148312,
          3.926633632377518,
          -2.029996270915112,
          -0.25170111259799394,
          1.1104363123480792,
          -0.3850767905700728,
          -0.8774712079418694,
          1.4223516346133753,
          -1.5587437414428704,
          2.3567940383093964,
          1.5960051872092904,
          2.049344168927728,
          0.9728215838532785,
          -1.2601589865282867,
          0.9050050311918947,
          -2.576803423212039,
          -2.264136165493122,
          1.6529783666024818,
          -1.3888365692638465,
          3.2537605842161743,
          2.085414367104776,
          0.12566840265663848,
          -0.043228615342116423,
          2.4721101854432006,
          2.114470886632183,
          1.6100366503303392,
          -3.677286860705078,
          -1.979590100148274,
          0.3573395897766498,
          -2.658586330730561,
          -1.150631742123122,
          -0.4550569911095578,
          -0.37170183070550883,
          -0.32306581414546975,
          0.8486846848229402,
          -0.2692492049148698,
          -0.3762387325657026,
          -3.0930643653930336,
          -2.235798924021883,
          0.09986753938318405,
          1.4150372090191436,
          2.5174980886799094,
          -2.0572342967612807,
          0.893380317308403,
          -2.2937878720452507,
          1.6690856515221915,
          -2.032263050000778,
          0.8451989539264821,
          -2.0462649146991008,
          1.0992712119673933,
          -1.3159187592548818,
          -2.2619516474733787,
          1.1509654418143132
         ],
         "y": [
          -0.2567136342427878,
          -0.9024951642524204,
          -0.8969779599639269,
          -0.17854458447980412,
          -0.8299694771130369,
          2.17763143344979,
          -0.8943653617097724,
          -0.8997048018567309,
          0.21738783637351894,
          -0.0299049299978592,
          0.2768231011189165,
          0.7350906118832934,
          -0.5873491574646673,
          0.4363371456824772,
          1.0292476754848554,
          -0.24739941213751146,
          0.1280336600879712,
          0.6737510383412735,
          -0.47970544719245367,
          -0.6191414033691188,
          0.2483475053917454,
          -0.2132882395669672,
          -2.3266908728741176,
          -0.9589076852944969,
          0.5288159902928669,
          0.18967817382201996,
          -0.9377304595820772,
          -0.42231815464461897,
          0.9509993853977148,
          -1.1591207193166533,
          -0.8613668351302554,
          -0.8712479711157699,
          -2.2741702512716144,
          -0.9326312376107626,
          -1.513003644252839,
          -0.620305941200306,
          0.9147786836869584,
          -1.6260715623975173,
          3.944099987538238,
          0.5835550345772574,
          0.3674073637565447,
          1.3075040165093035,
          1.9201654162828048,
          -0.31789425993992876,
          0.6663382523156034,
          0.679902113856285,
          -1.4080916876365124,
          0.37907079104170444,
          2.109721131214856,
          -1.3488555884567808,
          0.39130995742028946,
          -1.2242942593492219,
          0.14372871854345678,
          -1.7976703215603462,
          -1.0779426166111352,
          -0.21180930695245317,
          0.02872228396335024,
          0.4799240736482637,
          0.3323640915226848,
          1.3259089727745703,
          -0.2528312348059213,
          0.5951808510706489,
          0.517287869058557,
          2.158373666386571,
          -0.3770092417070135,
          -1.7873092392450134,
          1.2737579244494939,
          1.4539957211747196,
          0.25023115691264125,
          1.0582698297869686,
          -1.1465892887207811,
          0.5913057606144272,
          -0.09131075221888012,
          0.7745104576321951,
          -0.06202033914783084,
          -1.4043136806954357,
          1.3926018439445262,
          -0.21105737243730646,
          1.5070809679313437,
          0.04807131826649133,
          2.2598155339718744,
          -0.5852445512161614,
          -0.7276154951711364,
          1.1371371917845212,
          0.0049929210575645035,
          1.2585879649110894,
          1.6051400633255282,
          0.45056219427242933,
          2.434512952884712,
          0.27818993429804445,
          -0.38499449687022297,
          1.2588710371147576,
          4.0509839463387385,
          1.3431717490762367,
          -2.2586853250069905,
          2.1928787833702432,
          0.7693039773263953,
          -2.021483827823027,
          -0.057630403128823955,
          -0.1766800094693313,
          0.8098947346662163,
          1.4685615714045304,
          1.448549190004102,
          -0.5699540789726132,
          -1.7935616102999783,
          -1.4011891691625673,
          -0.6278760399692936,
          -0.06302218129169888,
          1.069886025284857,
          1.9267267446618968,
          -1.2551019665043497,
          0.9648567185894332,
          2.1498981467575944,
          0.4687281759472715,
          0.41128051982879027,
          2.203449126596476,
          -0.27181188673749346,
          -0.39331576670414636,
          -1.3852859122985783,
          1.1919735493792976,
          1.7171863954123898,
          1.2485469837375476,
          -1.3139212241995173,
          -0.5827591002284143,
          -1.8422517239629872,
          -1.4966164519004037,
          1.0008018566476267,
          1.5675229657943324,
          2.802128477673632,
          -1.1537425114607216,
          0.7322393452416469,
          0.4923450659177206,
          1.261320672352334,
          -2.478422399923839,
          0.626143118636865,
          1.2165937749962255,
          -0.19672600232266357,
          1.4606716400450712,
          0.22925294395257767,
          -2.9788833137478394,
          0.900293463691085,
          0.26895392399407814,
          -3.329537385806985,
          -0.7227394384295929,
          -0.6809407893144528,
          0.8889327330933882,
          -2.78563573606792,
          -0.0786893427764338,
          -1.9218466984656566,
          1.227235345295154,
          2.4062865114370826,
          -0.36063510909417884,
          0.03252564999194606,
          -1.5295975375670186,
          1.3424704934150578,
          0.7476388626424884,
          -0.49625310611893486,
          0.48950986203882163,
          -0.7441554006598302,
          0.13204248225749926,
          -0.13950840000600442,
          -0.8448350003302214,
          -1.2737223656333134,
          -0.7913385435231343,
          0.8219394968597479,
          -2.25701376335328,
          -0.09111279413958201,
          -0.8530172522429884,
          -1.1176479411912321,
          -0.588957868970812,
          -2.1762550678082277,
          1.247015313192964,
          1.9304563662688603,
          0.12463515739723378,
          -0.769316177987548,
          0.4331223647755454,
          0.3255279000979135,
          -0.9156555312449566,
          1.127540229786368,
          1.1556429783475015,
          0.8237399061741523,
          -2.597809865408681,
          -0.032932439398886126,
          -0.20131426097391006,
          0.42833795900819027,
          -1.3659481192925234,
          1.2105706307095396,
          -0.22965800723037513,
          0.5432561603736452,
          -2.2500037080235953,
          -1.4108613730817687,
          -0.6578008000089494,
          0.2287356309855446,
          1.8660753324266404,
          0.024743621842806436,
          -2.047169011454559,
          -0.7615535425735721,
          -0.1894695278862416,
          -1.3338150191078832,
          0.40006825357777126,
          1.7406836186048722,
          0.41707642897330943,
          0.2328543503726699,
          -0.1346935872772282,
          -1.4284939306067073,
          0.9290639166385041,
          0.6499930917320126,
          1.573368121628175,
          -3.115638746891082,
          -0.9821762637266975,
          1.015664470001612,
          -0.5085273137198144,
          0.1247100158686022,
          0.3124241203915225,
          1.1111602810777803,
          1.591889737400085,
          -0.5129922879816006,
          0.7511084171867505,
          -1.1626312604900884,
          0.6499185191097197,
          0.5143709505398455,
          0.20454428879459113,
          -0.46732095311045235,
          0.748528713449096,
          2.305563298875976,
          -1.1960137230380272,
          -3.815874575394055,
          2.095160230128253,
          -0.6361311835403561,
          -0.3705457577677082,
          0.33305983176071574,
          -0.6394949387602651,
          0.7056876482498179,
          2.586129646500103,
          0.562910243925531,
          -0.5793736765974883,
          -0.06285595945373912,
          1.4469280617990705,
          -0.7796437617539772,
          1.6820854482102008,
          -0.8479387306145421,
          1.1922314722235268,
          -0.5158202165670626,
          1.0652293765534107,
          2.122087202319286,
          1.2396042543023111,
          -0.684321858904361,
          -1.2640204908800843,
          1.0125807445431365,
          0.8746385877196082,
          -0.276840218562748,
          -1.1777241190529706,
          -4.889396889674279,
          0.3205635074798357,
          -0.4661605154553488,
          0.3846270053889775,
          -0.7081823803123681,
          -0.03661963179642405,
          2.380911492975418,
          0.27965474625017256,
          -0.5276746848439036,
          -0.43686827261005096,
          0.8612937755842095,
          -1.7950504925052289,
          -0.2197050164025534,
          1.1499705621329719,
          -0.3729197384212659,
          0.3437939388162642,
          -0.4598743807527576,
          1.722076433891652,
          0.14459599622587996,
          -0.9636412312193876,
          -0.6011592274151687,
          1.4603934374036314,
          -1.4174638738923973,
          -5.637666047826541,
          -1.1582963672614128,
          -1.2561321221442334,
          -2.089738762839796,
          -0.037018132424955656,
          -0.5112377257872558,
          0.7081858266912971,
          -0.391022183155449,
          0.19093089926386259,
          0.5018179911062219,
          -0.8159074986905909,
          -0.2926393776496604,
          0.5767680315822191,
          -2.19133048091539,
          -1.5136105744191894,
          0.8612805607915046,
          -0.9956548268941727,
          0.1625579017232622,
          1.2898476985588438,
          1.9561520714261078,
          -0.1129351067564853,
          -0.8246883116766992,
          -0.583182846685488,
          0.18669680219873316,
          0.6912324602601808,
          -0.08908877123422378,
          1.1433505894327252,
          0.5738601183652875,
          0.4409249317113969,
          -1.1323861749781676,
          -1.160195704886786,
          0.9677204826634568,
          0.12237840377964634,
          -0.24574019227591185,
          1.3176379474460291,
          -0.41008153665388697,
          -2.5914886493601053,
          1.2081074327503794,
          0.008430296000765756,
          -0.6984452910572156,
          -0.6675612184034092,
          -0.4066602411446191,
          0.05645597989507363,
          -0.746173527663067,
          -0.002115826467328363,
          -0.25392089171622684,
          0.09012877290072126,
          2.201275930841814,
          -0.5132499933256256,
          -1.1031758766445436,
          -1.0662647147861748,
          0.20815943475964754,
          0.7534119592547346,
          -0.11853366187810702,
          -0.8131691388617465,
          -1.2410712200042,
          -0.2547704216206481,
          3.6816266525620827,
          -0.8277254058255804,
          -1.611600394671696,
          -0.8849792092789347,
          0.7795963284364341,
          -0.4557424112743242,
          -1.4576841932798263,
          3.0997657202703137,
          -1.2133590982324292,
          -2.0181587637113965,
          -0.4907232649991824,
          -0.7467814110282565,
          -0.6588197414045311,
          1.7814206220645465,
          0.9100969964853521,
          0.3221869712375194,
          1.1594106898151633,
          -1.4859665927584291,
          0.4180625241863196,
          -2.9627897791621454,
          -0.8720669842728672,
          1.7852020323436801,
          -0.5257994100554312,
          0.6611567914790737,
          2.346646253439484,
          -1.004720992739617,
          -0.652477231686369,
          0.3872957572432848,
          0.5071265904162772,
          -1.1077937626921759,
          0.12733082335325482,
          -1.0342988218945994,
          0.08472880761859615,
          0.5834857805065358,
          -1.0502835816218923,
          1.560357207987935,
          -1.7630875645522721,
          -3.0212871956252445,
          -0.35610980403452597,
          1.4178288769222838,
          0.19551031359968576,
          1.8341566606417266,
          1.0296465973041458,
          0.4838373677257694,
          0.11734116651933428,
          -0.2701945567945247,
          -1.1183453801573358,
          -0.9145515921701679,
          4.775555077404032,
          0.3172205274034071,
          -1.9521203617856284,
          -0.1392327504736255,
          -1.9217016825066904,
          1.811293652218985,
          -0.6046022210965423,
          -1.2714343975277573,
          -0.9615953551882518,
          2.405610561243715,
          -0.12625395831632152,
          2.755532114195901,
          1.2435748258240704,
          0.9265879721897847,
          3.040198608065812,
          -1.0622856000835246,
          -3.342207929154935,
          1.8304508544075127,
          0.6944631765886663,
          -1.9798472106081024,
          -0.1424736986166293,
          -0.28894189332305087,
          -0.21852954874819497,
          0.16012007944762965,
          -1.648640260493367,
          2.138295437494328,
          0.6169217664694815,
          0.12346636556471272,
          -1.3561072754951637,
          -0.6524930084496641,
          -2.044842051489136,
          1.3162473567928408,
          0.06865877055424736,
          1.6311524363854282,
          -1.169784793661727,
          -0.01540473754904356,
          -0.17106019797733688,
          -1.8394858906748977,
          -1.2778238602100584,
          0.20668896732325576,
          -0.13921800381263177,
          -1.6301372389590336,
          1.0381931089875784,
          0.6533087043149172,
          -0.9607545224928197,
          0.504008664024171,
          -0.5740670666940658,
          -1.7256598899800297,
          2.0913868186635383,
          0.9967407009623964,
          -0.20278643890918838,
          0.43290902648590723,
          -0.6331371256291728,
          0.2687885323873124,
          0.12151291798292706,
          -0.2889508504109401,
          -0.2509300689305729,
          0.6085722005911861,
          -0.547395417307193,
          1.8249684164976736,
          -0.37559284079504374,
          0.5585026928004734,
          -0.23858044524468597,
          -3.049845856544595,
          -0.5102781118853457,
          -0.5747456735347097,
          0.8334587024693983,
          -1.1301739331128329,
          0.013612884634756666,
          -0.7270754760633368,
          -0.06865552276986273,
          -0.046184501832871816,
          1.1488611456883335,
          0.7238338000838747,
          -1.0958591333755934,
          0.05340323367418547,
          0.12399371298108385,
          -0.4767155441254082,
          -0.12879096384597352,
          -0.9877558562484543,
          -0.42438301137821066,
          1.4135041993551223,
          0.19885777353429449,
          -0.008969894925925006,
          0.3009833715279306,
          0.7452128999047,
          0.831345834482604,
          1.1440068864415789,
          -0.05075072624098195,
          0.32670980802162347,
          1.5718600176036166,
          3.247090756361294,
          0.1380412484371702,
          1.2887649128445358,
          -0.387633828778546,
          -1.2942184477271854
         ],
         "z": [
          -1.20909930070419,
          -0.1326952196090511,
          -0.8883120454560192,
          2.942639413721063,
          -1.750575145698585,
          -1.6909367318719393,
          -1.2700224224139225,
          1.7688820818140982,
          0.44419892316881154,
          -0.20586065526701536,
          -0.7368079731233638,
          0.6847942439975658,
          -1.2532173173825774,
          -0.26717761425946074,
          2.9527986157723465,
          0.9753212627078339,
          -0.16211148394192423,
          -0.8504123587213821,
          -0.5198513353592128,
          -0.10197734302030313,
          -0.926214292395837,
          0.2904926567768036,
          -0.5925706625382092,
          0.6489548141684375,
          -1.458271409338132,
          1.0528435410951125,
          1.3425003201910413,
          1.8431802098230252,
          0.771403156813031,
          0.8474482598907637,
          -1.309380527823376,
          -0.20910922834733686,
          -0.7007935439249879,
          0.02966524949503751,
          -0.36980926226756394,
          -0.6253189966549175,
          -1.0327314048766034,
          -0.4097680277446043,
          0.016294437172774758,
          -0.8958198493786931,
          0.5936195365895705,
          3.1173191016616113,
          -1.2756660414289047,
          -1.4383956777677822,
          0.24124053149955899,
          1.0160580307795422,
          -0.06701541727408888,
          1.2404333900446411,
          1.757548950550478,
          1.8841408740579886,
          -1.1975713678090827,
          0.12955844859118956,
          -0.20958506242193287,
          -0.22899278747793134,
          -0.0628497223919451,
          -0.3490309006936722,
          -0.06569804982199895,
          0.6182576003830339,
          -0.7741657068727473,
          0.907299939339983,
          -1.593824310975568,
          0.2056961668603925,
          -0.34535957184869265,
          0.5006615418786814,
          0.07198257996040851,
          -1.2679700229320918,
          1.1882343646934281,
          -1.2861913188883483,
          -0.9938535069015448,
          -1.4308650231883764,
          -0.6360016746562659,
          0.021115324239910804,
          0.6381905270642927,
          0.45010849255677515,
          -0.060482507860427845,
          1.585328195278822,
          -0.6005235308395,
          -0.7444784563756353,
          -0.6908361697126822,
          -1.0793123977367638,
          -0.8794764368116312,
          -0.035708782040199304,
          -1.1766745250618735,
          1.73351014495678,
          0.8213504511332237,
          0.1953351019763094,
          -1.8024005145945927,
          -0.807460746638403,
          2.1864591553925714,
          -1.1716487587997029,
          -1.4979958326416327,
          0.776074041301047,
          3.0852423953426573,
          -0.20385741476709604,
          -0.009837367840779205,
          0.10453383759157271,
          0.2638665062466738,
          0.5317565287763113,
          -1.6569422095746158,
          0.9117992974752036,
          -0.01616786856657842,
          -0.30874447818141204,
          -0.2046824588595559,
          -2.1690259492015924,
          -0.5277604382788029,
          -0.3679222802054516,
          0.05355249660737965,
          0.7604097843015609,
          1.5210660205866433,
          0.012108950994360783,
          0.07050174856711054,
          0.049731416193820814,
          0.3607456311178777,
          -1.121857196545827,
          -0.7440409210455577,
          -0.3369062560578059,
          -0.035929343431403526,
          5.463701143638064,
          -0.494587026520937,
          0.9501137788310465,
          1.7326108332872363,
          -0.42562184760475835,
          -0.5076385712816233,
          1.2295319043404844,
          -1.600736940031741,
          -0.910198124528722,
          1.0751138300086218,
          0.9200081230511901,
          -0.0731270383970478,
          -0.01700087639464472,
          -1.1790080391239728,
          -1.2072308904905293,
          -0.44565841923409993,
          5.117373401799148,
          -0.3127218711824337,
          1.7914562800775917,
          -0.3204378524021051,
          -0.2871450531842744,
          -0.9134353586592021,
          1.8143332827522245,
          0.03423782073818179,
          1.1609891393499332,
          0.6885329756332303,
          -0.424522372633677,
          1.4254210323453544,
          2.367472367088213,
          0.6942702173019502,
          1.5852924698978046,
          -0.4662090229062153,
          1.5367240983912671,
          0.37283050046310606,
          -0.13639746898607683,
          -0.11923852762560012,
          -1.7927522433893495,
          1.6735545011919355,
          0.9598695046243797,
          -0.9277681299689767,
          0.41476790165146343,
          0.9460073059343261,
          -0.7674510086185875,
          -0.23541992940410278,
          0.4441744012820879,
          -0.20868784081385833,
          0.15392190427492525,
          -0.1287711866015472,
          -0.6017893279314988,
          -0.355606407510839,
          3.9654327732090766,
          -0.5178938670600401,
          0.15816688770106815,
          -1.0138440018721153,
          0.3355068986078625,
          -0.2568608513386796,
          -1.2426955358364526,
          -0.3310576090643208,
          -0.3411031394189169,
          -2.2817717806139184,
          0.635522201620232,
          -1.3778940315351262,
          -0.5745785757418842,
          1.498481068027583,
          1.1445450214810906,
          -0.3543398656847828,
          0.8459714917974288,
          0.16279198390149197,
          -0.04054870109775281,
          -1.2557995787443499,
          -0.7424739980121924,
          0.19034963255122378,
          2.3441569963678717,
          -1.2304915282371944,
          -0.6518459465275479,
          -0.5385925943472641,
          -0.7343111304228112,
          1.1434352022494976,
          -0.062345067440826865,
          -0.03209958858296363,
          -0.7133652135242894,
          2.2889203982108723,
          1.5549006763926714,
          -0.1318263548865088,
          -0.22489028766985475,
          -1.9689531696984375,
          0.12491093197128274,
          1.0074274102746064,
          -0.05589643948028302,
          -0.947366373053172,
          -0.5569199236793274,
          -1.1010545068193969,
          -0.7139636581205943,
          2.463587168367068,
          -0.629328384101063,
          -0.11206000160445996,
          -0.2915224933250355,
          -0.37239935524556633,
          -0.39503024632196887,
          -1.5732616517574212,
          1.17878515507691,
          -0.8349695139872461,
          -0.8036489280840854,
          0.15390301870270862,
          0.02566046521625281,
          1.9643181629312942,
          0.12384416872472011,
          1.4484973011769902,
          -1.3964481641039204,
          1.3545187646642356,
          0.537062741430371,
          -0.35722884239891717,
          1.3876100186706521,
          -0.6862320177257051,
          2.7079944941588217,
          -2.447455014743127,
          0.9272866644091514,
          -0.27932796364602336,
          -0.10843538214638962,
          0.19170057329674506,
          -2.585353276115833,
          -0.887758091369921,
          -1.0565548736115722,
          0.29230772336321803,
          1.654560551481814,
          -0.4419286508447358,
          -0.004450190723133517,
          0.1157637653419264,
          0.3415040590483773,
          0.4878977181745739,
          0.8261311025855199,
          -0.6956669714850666,
          -1.0813649573217314,
          -1.2185801638232276,
          -0.392453864476868,
          6.449344682483668,
          -1.1123842918474063,
          0.3912040528822067,
          -0.801388080745173,
          0.5379237164105293,
          -0.819734297195386,
          1.273563813602886,
          -0.5389037892352421,
          -3.255941231291658,
          -0.7898300511514607,
          0.178703184232361,
          -0.1031684693535294,
          -0.1291297916286812,
          -0.471333399354481,
          -0.8379510314253426,
          2.599484937747551,
          -0.6378700185344433,
          -0.6986691694158124,
          -0.39539234750775737,
          1.0454331567891146,
          0.010729586635373151,
          0.9839423430285263,
          -0.012934306426716545,
          1.1597709626015995,
          0.8312533082506173,
          -0.7412053482609278,
          4.056894941468627,
          -0.05504003435955499,
          -1.6281653529057036,
          0.5538237466013396,
          -0.6067099848929183,
          -1.4563250348129635,
          1.8717815896980587,
          0.5018728588080937,
          -0.005842953993549362,
          -1.6902124493749804,
          -0.6313419129462486,
          -0.8620663052326397,
          -1.1206636497542506,
          -0.012834743561350751,
          -1.9011866277729264,
          0.19986085707035883,
          -0.4664500050297821,
          1.7136437087378273,
          -0.4641748063662346,
          -0.5426136780485481,
          -0.3766003303668701,
          0.3300633488285605,
          -1.7846375909025378,
          1.265857185721663,
          -1.2119153114908405,
          -0.5744338887765924,
          -0.45884484414433935,
          -0.1710168134612492,
          0.6210170649645511,
          -0.7693412469026967,
          0.14731446495561476,
          -0.6894323584873654,
          -0.022924408950064906,
          -1.2737252816558777,
          -0.2613081775300848,
          0.6931004073931191,
          -0.06617108136537722,
          -0.1967302038007213,
          0.4300165524486977,
          -0.9971048473740817,
          -0.9622134810364207,
          0.4887352099366277,
          -0.8390564786029546,
          0.13002693712949936,
          1.003103336953986,
          -0.2468198775532128,
          -0.7752562372389827,
          0.4367308607090372,
          0.1622162465157166,
          -1.0862496034523441,
          -0.9300202737521489,
          -0.049375796424459974,
          -1.5667856370208793,
          1.9281188377558285,
          1.0332121309265545,
          -0.7585829444503979,
          0.7143637804552971,
          0.8552482879601705,
          -0.5176104821451721,
          -0.3490507114916376,
          0.237113169818793,
          0.4368246029002068,
          0.33979193833388677,
          -0.6440465488957297,
          -0.61509606898781,
          0.14252567456553725,
          -0.24853954762948877,
          -0.5541029779742285,
          1.964932970956536,
          0.47034172621297643,
          -0.395525163286187,
          -0.5583933197902946,
          -0.8592004634435356,
          -0.5465607504425953,
          0.3702183834119091,
          -0.425893730236146,
          -0.1278586264985456,
          1.32713502340332,
          -0.046912592566001665,
          -1.6976594035487662,
          -0.4357413424479895,
          -0.018265960844054255,
          0.31695468400330273,
          1.6165865095496001,
          0.8144545492607064,
          1.6410816111596913,
          0.04524514311859533,
          -1.2167186202202178,
          -0.8410552417532761,
          0.9425263764861426,
          -0.8577551916008577,
          -1.688940775164664,
          2.052754124269849,
          0.4784051017009904,
          -0.20984194673867415,
          -1.3245426191011622,
          1.476157119810529,
          -1.6044498535636897,
          -0.2568922444100044,
          1.333702992179636,
          -0.45722934843842766,
          -0.22281151739460223,
          0.6926159880693687,
          -0.08688707795641132,
          0.9458808992243789,
          -1.6689442408935624,
          -0.5475983673732014,
          0.8044591650146492,
          -0.37275832176715423,
          -0.38718783825551883,
          0.23769999805936995,
          1.6204388477606162,
          -0.7560907563525626,
          1.0144815594471823,
          2.2768424779955225,
          -0.7528480863164986,
          0.49722545410251523,
          -1.7496415177639786,
          1.3076098288827538,
          -0.39958746472905243,
          0.2287725990666644,
          0.2428244918057861,
          -1.2842911440981237,
          -1.9323103851992196,
          -1.3332174205025824,
          0.411722559736986,
          -0.6430430073127791,
          -0.9162233902421018,
          0.78579015157051,
          -0.13343850734502882,
          1.8296509120709525,
          0.878101502004664,
          -1.5136340545196258,
          -0.3561356595900299,
          0.44966456130127225,
          0.25888246588107255,
          -0.37949308748146754,
          -0.35346561747261274,
          0.8568394853476785,
          2.02721061813073,
          -0.7642712178876526,
          -0.7146996096321022,
          -0.6343354211712736,
          0.005105511889412983,
          0.8104506225107226,
          0.24632148474734525,
          1.6573931611561243,
          -0.13165263801967697,
          2.6339023644370982,
          0.32893296174048564,
          -0.13150167031450263,
          -0.5904026228169023,
          -0.009846303820671401,
          -0.6505676673198224,
          -0.810159942034637,
          -1.2310306680164753,
          -1.58980782356544,
          -0.8285708967782591,
          0.36566067983007977,
          -1.0419122063271673,
          -0.14075048848353652,
          1.0822393231138043,
          -0.8112775431821619,
          -0.33229131808151485,
          0.5267022766296034,
          -0.7354419556738185,
          -0.7122497412026463,
          -0.6620357473616652,
          -0.6055340365981232,
          -1.0517565234157769,
          1.0301793089689062,
          0.6254718538455162,
          0.6287234892200678,
          1.338126203745193,
          -0.6414118424519837,
          0.7335636831202088,
          -0.9600676792673403,
          0.34697544085389814,
          1.1672044134225148,
          -0.6111281839833289,
          -1.0940537158633674,
          -0.5528411383146866,
          0.6174661453470247,
          -0.5515570595793864,
          -0.4848928976659109,
          -0.039969884612083985,
          -0.6252929639585237,
          -0.42655026589743783,
          -1.1874050397851013,
          -0.2651941766823704,
          -0.4007293929727653,
          1.2213135333812055,
          -1.0394274129899943,
          0.8326441773303076,
          0.11587941388909549,
          -0.5735280873583797,
          -0.16279419057035543,
          -1.1476959211868345
         ]
        }
       ],
       "layout": {
        "legend": {
         "tracegroupgap": 0
        },
        "margin": {
         "t": 60
        },
        "scene": {
         "domain": {
          "x": [
           0,
           1
          ],
          "y": [
           0,
           1
          ]
         },
         "xaxis": {
          "title": {
           "text": "pc1"
          }
         },
         "yaxis": {
          "title": {
           "text": "pc2"
          }
         },
         "zaxis": {
          "title": {
           "text": "pc3"
          }
         }
        },
        "template": {
         "data": {
          "bar": [
           {
            "error_x": {
             "color": "#2a3f5f"
            },
            "error_y": {
             "color": "#2a3f5f"
            },
            "marker": {
             "line": {
              "color": "#E5ECF6",
              "width": 0.5
             },
             "pattern": {
              "fillmode": "overlay",
              "size": 10,
              "solidity": 0.2
             }
            },
            "type": "bar"
           }
          ],
          "barpolar": [
           {
            "marker": {
             "line": {
              "color": "#E5ECF6",
              "width": 0.5
             },
             "pattern": {
              "fillmode": "overlay",
              "size": 10,
              "solidity": 0.2
             }
            },
            "type": "barpolar"
           }
          ],
          "carpet": [
           {
            "aaxis": {
             "endlinecolor": "#2a3f5f",
             "gridcolor": "white",
             "linecolor": "white",
             "minorgridcolor": "white",
             "startlinecolor": "#2a3f5f"
            },
            "baxis": {
             "endlinecolor": "#2a3f5f",
             "gridcolor": "white",
             "linecolor": "white",
             "minorgridcolor": "white",
             "startlinecolor": "#2a3f5f"
            },
            "type": "carpet"
           }
          ],
          "choropleth": [
           {
            "colorbar": {
             "outlinewidth": 0,
             "ticks": ""
            },
            "type": "choropleth"
           }
          ],
          "contour": [
           {
            "colorbar": {
             "outlinewidth": 0,
             "ticks": ""
            },
            "colorscale": [
             [
              0,
              "#0d0887"
             ],
             [
              0.1111111111111111,
              "#46039f"
             ],
             [
              0.2222222222222222,
              "#7201a8"
             ],
             [
              0.3333333333333333,
              "#9c179e"
             ],
             [
              0.4444444444444444,
              "#bd3786"
             ],
             [
              0.5555555555555556,
              "#d8576b"
             ],
             [
              0.6666666666666666,
              "#ed7953"
             ],
             [
              0.7777777777777778,
              "#fb9f3a"
             ],
             [
              0.8888888888888888,
              "#fdca26"
             ],
             [
              1,
              "#f0f921"
             ]
            ],
            "type": "contour"
           }
          ],
          "contourcarpet": [
           {
            "colorbar": {
             "outlinewidth": 0,
             "ticks": ""
            },
            "type": "contourcarpet"
           }
          ],
          "heatmap": [
           {
            "colorbar": {
             "outlinewidth": 0,
             "ticks": ""
            },
            "colorscale": [
             [
              0,
              "#0d0887"
             ],
             [
              0.1111111111111111,
              "#46039f"
             ],
             [
              0.2222222222222222,
              "#7201a8"
             ],
             [
              0.3333333333333333,
              "#9c179e"
             ],
             [
              0.4444444444444444,
              "#bd3786"
             ],
             [
              0.5555555555555556,
              "#d8576b"
             ],
             [
              0.6666666666666666,
              "#ed7953"
             ],
             [
              0.7777777777777778,
              "#fb9f3a"
             ],
             [
              0.8888888888888888,
              "#fdca26"
             ],
             [
              1,
              "#f0f921"
             ]
            ],
            "type": "heatmap"
           }
          ],
          "heatmapgl": [
           {
            "colorbar": {
             "outlinewidth": 0,
             "ticks": ""
            },
            "colorscale": [
             [
              0,
              "#0d0887"
             ],
             [
              0.1111111111111111,
              "#46039f"
             ],
             [
              0.2222222222222222,
              "#7201a8"
             ],
             [
              0.3333333333333333,
              "#9c179e"
             ],
             [
              0.4444444444444444,
              "#bd3786"
             ],
             [
              0.5555555555555556,
              "#d8576b"
             ],
             [
              0.6666666666666666,
              "#ed7953"
             ],
             [
              0.7777777777777778,
              "#fb9f3a"
             ],
             [
              0.8888888888888888,
              "#fdca26"
             ],
             [
              1,
              "#f0f921"
             ]
            ],
            "type": "heatmapgl"
           }
          ],
          "histogram": [
           {
            "marker": {
             "pattern": {
              "fillmode": "overlay",
              "size": 10,
              "solidity": 0.2
             }
            },
            "type": "histogram"
           }
          ],
          "histogram2d": [
           {
            "colorbar": {
             "outlinewidth": 0,
             "ticks": ""
            },
            "colorscale": [
             [
              0,
              "#0d0887"
             ],
             [
              0.1111111111111111,
              "#46039f"
             ],
             [
              0.2222222222222222,
              "#7201a8"
             ],
             [
              0.3333333333333333,
              "#9c179e"
             ],
             [
              0.4444444444444444,
              "#bd3786"
             ],
             [
              0.5555555555555556,
              "#d8576b"
             ],
             [
              0.6666666666666666,
              "#ed7953"
             ],
             [
              0.7777777777777778,
              "#fb9f3a"
             ],
             [
              0.8888888888888888,
              "#fdca26"
             ],
             [
              1,
              "#f0f921"
             ]
            ],
            "type": "histogram2d"
           }
          ],
          "histogram2dcontour": [
           {
            "colorbar": {
             "outlinewidth": 0,
             "ticks": ""
            },
            "colorscale": [
             [
              0,
              "#0d0887"
             ],
             [
              0.1111111111111111,
              "#46039f"
             ],
             [
              0.2222222222222222,
              "#7201a8"
             ],
             [
              0.3333333333333333,
              "#9c179e"
             ],
             [
              0.4444444444444444,
              "#bd3786"
             ],
             [
              0.5555555555555556,
              "#d8576b"
             ],
             [
              0.6666666666666666,
              "#ed7953"
             ],
             [
              0.7777777777777778,
              "#fb9f3a"
             ],
             [
              0.8888888888888888,
              "#fdca26"
             ],
             [
              1,
              "#f0f921"
             ]
            ],
            "type": "histogram2dcontour"
           }
          ],
          "mesh3d": [
           {
            "colorbar": {
             "outlinewidth": 0,
             "ticks": ""
            },
            "type": "mesh3d"
           }
          ],
          "parcoords": [
           {
            "line": {
             "colorbar": {
              "outlinewidth": 0,
              "ticks": ""
             }
            },
            "type": "parcoords"
           }
          ],
          "pie": [
           {
            "automargin": true,
            "type": "pie"
           }
          ],
          "scatter": [
           {
            "fillpattern": {
             "fillmode": "overlay",
             "size": 10,
             "solidity": 0.2
            },
            "type": "scatter"
           }
          ],
          "scatter3d": [
           {
            "line": {
             "colorbar": {
              "outlinewidth": 0,
              "ticks": ""
             }
            },
            "marker": {
             "colorbar": {
              "outlinewidth": 0,
              "ticks": ""
             }
            },
            "type": "scatter3d"
           }
          ],
          "scattercarpet": [
           {
            "marker": {
             "colorbar": {
              "outlinewidth": 0,
              "ticks": ""
             }
            },
            "type": "scattercarpet"
           }
          ],
          "scattergeo": [
           {
            "marker": {
             "colorbar": {
              "outlinewidth": 0,
              "ticks": ""
             }
            },
            "type": "scattergeo"
           }
          ],
          "scattergl": [
           {
            "marker": {
             "colorbar": {
              "outlinewidth": 0,
              "ticks": ""
             }
            },
            "type": "scattergl"
           }
          ],
          "scattermapbox": [
           {
            "marker": {
             "colorbar": {
              "outlinewidth": 0,
              "ticks": ""
             }
            },
            "type": "scattermapbox"
           }
          ],
          "scatterpolar": [
           {
            "marker": {
             "colorbar": {
              "outlinewidth": 0,
              "ticks": ""
             }
            },
            "type": "scatterpolar"
           }
          ],
          "scatterpolargl": [
           {
            "marker": {
             "colorbar": {
              "outlinewidth": 0,
              "ticks": ""
             }
            },
            "type": "scatterpolargl"
           }
          ],
          "scatterternary": [
           {
            "marker": {
             "colorbar": {
              "outlinewidth": 0,
              "ticks": ""
             }
            },
            "type": "scatterternary"
           }
          ],
          "surface": [
           {
            "colorbar": {
             "outlinewidth": 0,
             "ticks": ""
            },
            "colorscale": [
             [
              0,
              "#0d0887"
             ],
             [
              0.1111111111111111,
              "#46039f"
             ],
             [
              0.2222222222222222,
              "#7201a8"
             ],
             [
              0.3333333333333333,
              "#9c179e"
             ],
             [
              0.4444444444444444,
              "#bd3786"
             ],
             [
              0.5555555555555556,
              "#d8576b"
             ],
             [
              0.6666666666666666,
              "#ed7953"
             ],
             [
              0.7777777777777778,
              "#fb9f3a"
             ],
             [
              0.8888888888888888,
              "#fdca26"
             ],
             [
              1,
              "#f0f921"
             ]
            ],
            "type": "surface"
           }
          ],
          "table": [
           {
            "cells": {
             "fill": {
              "color": "#EBF0F8"
             },
             "line": {
              "color": "white"
             }
            },
            "header": {
             "fill": {
              "color": "#C8D4E3"
             },
             "line": {
              "color": "white"
             }
            },
            "type": "table"
           }
          ]
         },
         "layout": {
          "annotationdefaults": {
           "arrowcolor": "#2a3f5f",
           "arrowhead": 0,
           "arrowwidth": 1
          },
          "autotypenumbers": "strict",
          "coloraxis": {
           "colorbar": {
            "outlinewidth": 0,
            "ticks": ""
           }
          },
          "colorscale": {
           "diverging": [
            [
             0,
             "#8e0152"
            ],
            [
             0.1,
             "#c51b7d"
            ],
            [
             0.2,
             "#de77ae"
            ],
            [
             0.3,
             "#f1b6da"
            ],
            [
             0.4,
             "#fde0ef"
            ],
            [
             0.5,
             "#f7f7f7"
            ],
            [
             0.6,
             "#e6f5d0"
            ],
            [
             0.7,
             "#b8e186"
            ],
            [
             0.8,
             "#7fbc41"
            ],
            [
             0.9,
             "#4d9221"
            ],
            [
             1,
             "#276419"
            ]
           ],
           "sequential": [
            [
             0,
             "#0d0887"
            ],
            [
             0.1111111111111111,
             "#46039f"
            ],
            [
             0.2222222222222222,
             "#7201a8"
            ],
            [
             0.3333333333333333,
             "#9c179e"
            ],
            [
             0.4444444444444444,
             "#bd3786"
            ],
            [
             0.5555555555555556,
             "#d8576b"
            ],
            [
             0.6666666666666666,
             "#ed7953"
            ],
            [
             0.7777777777777778,
             "#fb9f3a"
            ],
            [
             0.8888888888888888,
             "#fdca26"
            ],
            [
             1,
             "#f0f921"
            ]
           ],
           "sequentialminus": [
            [
             0,
             "#0d0887"
            ],
            [
             0.1111111111111111,
             "#46039f"
            ],
            [
             0.2222222222222222,
             "#7201a8"
            ],
            [
             0.3333333333333333,
             "#9c179e"
            ],
            [
             0.4444444444444444,
             "#bd3786"
            ],
            [
             0.5555555555555556,
             "#d8576b"
            ],
            [
             0.6666666666666666,
             "#ed7953"
            ],
            [
             0.7777777777777778,
             "#fb9f3a"
            ],
            [
             0.8888888888888888,
             "#fdca26"
            ],
            [
             1,
             "#f0f921"
            ]
           ]
          },
          "colorway": [
           "#636efa",
           "#EF553B",
           "#00cc96",
           "#ab63fa",
           "#FFA15A",
           "#19d3f3",
           "#FF6692",
           "#B6E880",
           "#FF97FF",
           "#FECB52"
          ],
          "font": {
           "color": "#2a3f5f"
          },
          "geo": {
           "bgcolor": "white",
           "lakecolor": "white",
           "landcolor": "#E5ECF6",
           "showlakes": true,
           "showland": true,
           "subunitcolor": "white"
          },
          "hoverlabel": {
           "align": "left"
          },
          "hovermode": "closest",
          "mapbox": {
           "style": "light"
          },
          "paper_bgcolor": "white",
          "plot_bgcolor": "#E5ECF6",
          "polar": {
           "angularaxis": {
            "gridcolor": "white",
            "linecolor": "white",
            "ticks": ""
           },
           "bgcolor": "#E5ECF6",
           "radialaxis": {
            "gridcolor": "white",
            "linecolor": "white",
            "ticks": ""
           }
          },
          "scene": {
           "xaxis": {
            "backgroundcolor": "#E5ECF6",
            "gridcolor": "white",
            "gridwidth": 2,
            "linecolor": "white",
            "showbackground": true,
            "ticks": "",
            "zerolinecolor": "white"
           },
           "yaxis": {
            "backgroundcolor": "#E5ECF6",
            "gridcolor": "white",
            "gridwidth": 2,
            "linecolor": "white",
            "showbackground": true,
            "ticks": "",
            "zerolinecolor": "white"
           },
           "zaxis": {
            "backgroundcolor": "#E5ECF6",
            "gridcolor": "white",
            "gridwidth": 2,
            "linecolor": "white",
            "showbackground": true,
            "ticks": "",
            "zerolinecolor": "white"
           }
          },
          "shapedefaults": {
           "line": {
            "color": "#2a3f5f"
           }
          },
          "ternary": {
           "aaxis": {
            "gridcolor": "white",
            "linecolor": "white",
            "ticks": ""
           },
           "baxis": {
            "gridcolor": "white",
            "linecolor": "white",
            "ticks": ""
           },
           "bgcolor": "#E5ECF6",
           "caxis": {
            "gridcolor": "white",
            "linecolor": "white",
            "ticks": ""
           }
          },
          "title": {
           "x": 0.05
          },
          "xaxis": {
           "automargin": true,
           "gridcolor": "white",
           "linecolor": "white",
           "ticks": "",
           "title": {
            "standoff": 15
           },
           "zerolinecolor": "white",
           "zerolinewidth": 2
          },
          "yaxis": {
           "automargin": true,
           "gridcolor": "white",
           "linecolor": "white",
           "ticks": "",
           "title": {
            "standoff": 15
           },
           "zerolinecolor": "white",
           "zerolinewidth": 2
          }
         }
        }
       }
      }
     },
     "metadata": {},
     "output_type": "display_data"
    }
   ],
   "source": [
    "pcs = u * s\n",
    "tst = centered_df.reset_index()[['trackName']]\n",
    "tst['pc1'] = pcs[:,0]\n",
    "tst['pc2'] = pcs[:,1]\n",
    "tst['pc3'] = pcs[:,2]\n",
    "px.scatter_3d(data_frame=tst, x='pc1', y='pc2', z='pc3', hover_data='trackName')\n",
    "# pd.Index(cleaned_df).to_list()\n",
    "# type(centered_df.reset_index()['id'])"
   ]
  },
  {
   "cell_type": "code",
   "execution_count": 282,
   "metadata": {},
   "outputs": [
    {
     "data": {
      "text/html": [
       "<div>\n",
       "<style scoped>\n",
       "    .dataframe tbody tr th:only-of-type {\n",
       "        vertical-align: middle;\n",
       "    }\n",
       "\n",
       "    .dataframe tbody tr th {\n",
       "        vertical-align: top;\n",
       "    }\n",
       "\n",
       "    .dataframe thead th {\n",
       "        text-align: right;\n",
       "    }\n",
       "</style>\n",
       "<table border=\"1\" class=\"dataframe\">\n",
       "  <thead>\n",
       "    <tr style=\"text-align: right;\">\n",
       "      <th></th>\n",
       "      <th>0</th>\n",
       "      <th>1</th>\n",
       "      <th>2</th>\n",
       "      <th>3</th>\n",
       "      <th>4</th>\n",
       "      <th>5</th>\n",
       "      <th>6</th>\n",
       "      <th>7</th>\n",
       "      <th>8</th>\n",
       "      <th>9</th>\n",
       "      <th>10</th>\n",
       "      <th>11</th>\n",
       "      <th>12</th>\n",
       "      <th>13</th>\n",
       "      <th>trackName</th>\n",
       "    </tr>\n",
       "  </thead>\n",
       "  <tbody>\n",
       "    <tr>\n",
       "      <th>0</th>\n",
       "      <td>0.882556</td>\n",
       "      <td>-0.256714</td>\n",
       "      <td>-1.209099</td>\n",
       "      <td>-0.076689</td>\n",
       "      <td>0.220817</td>\n",
       "      <td>-0.082461</td>\n",
       "      <td>0.361826</td>\n",
       "      <td>-0.443285</td>\n",
       "      <td>-0.063337</td>\n",
       "      <td>0.419308</td>\n",
       "      <td>-0.432925</td>\n",
       "      <td>1.095671</td>\n",
       "      <td>-0.813266</td>\n",
       "      <td>-0.166518</td>\n",
       "      <td>I Wish</td>\n",
       "    </tr>\n",
       "    <tr>\n",
       "      <th>1</th>\n",
       "      <td>0.461105</td>\n",
       "      <td>-0.902495</td>\n",
       "      <td>-0.132695</td>\n",
       "      <td>-0.471636</td>\n",
       "      <td>0.171530</td>\n",
       "      <td>0.709211</td>\n",
       "      <td>0.131362</td>\n",
       "      <td>-0.024040</td>\n",
       "      <td>0.437223</td>\n",
       "      <td>0.326097</td>\n",
       "      <td>0.337168</td>\n",
       "      <td>-0.611556</td>\n",
       "      <td>0.392517</td>\n",
       "      <td>-0.419933</td>\n",
       "      <td>friendship?</td>\n",
       "    </tr>\n",
       "    <tr>\n",
       "      <th>2</th>\n",
       "      <td>-0.900770</td>\n",
       "      <td>-0.896978</td>\n",
       "      <td>-0.888312</td>\n",
       "      <td>-0.309478</td>\n",
       "      <td>-1.382272</td>\n",
       "      <td>-1.472220</td>\n",
       "      <td>0.416125</td>\n",
       "      <td>0.417800</td>\n",
       "      <td>-2.343238</td>\n",
       "      <td>-0.792665</td>\n",
       "      <td>-0.621565</td>\n",
       "      <td>1.032822</td>\n",
       "      <td>0.437313</td>\n",
       "      <td>-0.587609</td>\n",
       "      <td>Sorry That I Do That</td>\n",
       "    </tr>\n",
       "    <tr>\n",
       "      <th>3</th>\n",
       "      <td>-2.701515</td>\n",
       "      <td>-0.178545</td>\n",
       "      <td>2.942639</td>\n",
       "      <td>0.811751</td>\n",
       "      <td>1.039950</td>\n",
       "      <td>-2.842454</td>\n",
       "      <td>0.604677</td>\n",
       "      <td>0.070731</td>\n",
       "      <td>1.078842</td>\n",
       "      <td>1.918193</td>\n",
       "      <td>-0.695688</td>\n",
       "      <td>-1.666992</td>\n",
       "      <td>1.428069</td>\n",
       "      <td>0.128843</td>\n",
       "      <td>One Day</td>\n",
       "    </tr>\n",
       "    <tr>\n",
       "      <th>4</th>\n",
       "      <td>0.478542</td>\n",
       "      <td>-0.829969</td>\n",
       "      <td>-1.750575</td>\n",
       "      <td>-0.020651</td>\n",
       "      <td>0.454270</td>\n",
       "      <td>0.311757</td>\n",
       "      <td>0.054733</td>\n",
       "      <td>-0.856634</td>\n",
       "      <td>0.214940</td>\n",
       "      <td>-0.539627</td>\n",
       "      <td>-0.901735</td>\n",
       "      <td>1.054224</td>\n",
       "      <td>0.119129</td>\n",
       "      <td>0.319593</td>\n",
       "      <td>Complicated</td>\n",
       "    </tr>\n",
       "  </tbody>\n",
       "</table>\n",
       "</div>"
      ],
      "text/plain": [
       "          0         1         2         3         4         5         6  \\\n",
       "0  0.882556 -0.256714 -1.209099 -0.076689  0.220817 -0.082461  0.361826   \n",
       "1  0.461105 -0.902495 -0.132695 -0.471636  0.171530  0.709211  0.131362   \n",
       "2 -0.900770 -0.896978 -0.888312 -0.309478 -1.382272 -1.472220  0.416125   \n",
       "3 -2.701515 -0.178545  2.942639  0.811751  1.039950 -2.842454  0.604677   \n",
       "4  0.478542 -0.829969 -1.750575 -0.020651  0.454270  0.311757  0.054733   \n",
       "\n",
       "          7         8         9        10        11        12        13  \\\n",
       "0 -0.443285 -0.063337  0.419308 -0.432925  1.095671 -0.813266 -0.166518   \n",
       "1 -0.024040  0.437223  0.326097  0.337168 -0.611556  0.392517 -0.419933   \n",
       "2  0.417800 -2.343238 -0.792665 -0.621565  1.032822  0.437313 -0.587609   \n",
       "3  0.070731  1.078842  1.918193 -0.695688 -1.666992  1.428069  0.128843   \n",
       "4 -0.856634  0.214940 -0.539627 -0.901735  1.054224  0.119129  0.319593   \n",
       "\n",
       "              trackName  \n",
       "0                I Wish  \n",
       "1           friendship?  \n",
       "2  Sorry That I Do That  \n",
       "3               One Day  \n",
       "4           Complicated  "
      ]
     },
     "execution_count": 282,
     "metadata": {},
     "output_type": "execute_result"
    }
   ],
   "source": [
    "# print(pcs)\n",
    "all_pcs = pd.DataFrame(pcs)\n",
    "all_pcs['trackName'] = centered_df.reset_index()[['trackName']]\n",
    "all_pcs.head(5)"
   ]
  },
  {
   "cell_type": "markdown",
   "metadata": {},
   "source": [
    "### Part 3: Analyzing/clustering the Data\n",
    "#### PCA/plot/etc, figuring out what matters most in a song, what makes a song similar to another?"
   ]
  },
  {
   "cell_type": "code",
   "execution_count": 164,
   "metadata": {},
   "outputs": [
    {
     "data": {
      "text/html": [
       "<div>\n",
       "<style scoped>\n",
       "    .dataframe tbody tr th:only-of-type {\n",
       "        vertical-align: middle;\n",
       "    }\n",
       "\n",
       "    .dataframe tbody tr th {\n",
       "        vertical-align: top;\n",
       "    }\n",
       "\n",
       "    .dataframe thead th {\n",
       "        text-align: right;\n",
       "    }\n",
       "</style>\n",
       "<table border=\"1\" class=\"dataframe\">\n",
       "  <thead>\n",
       "    <tr style=\"text-align: right;\">\n",
       "      <th></th>\n",
       "      <th></th>\n",
       "      <th></th>\n",
       "      <th>count</th>\n",
       "      <th>danceability</th>\n",
       "      <th>energy</th>\n",
       "      <th>key</th>\n",
       "      <th>loudness</th>\n",
       "      <th>mode</th>\n",
       "      <th>speechiness</th>\n",
       "      <th>acousticness</th>\n",
       "      <th>instrumentalness</th>\n",
       "      <th>liveness</th>\n",
       "      <th>valence</th>\n",
       "      <th>tempo</th>\n",
       "      <th>duration_ms</th>\n",
       "      <th>time_signature</th>\n",
       "    </tr>\n",
       "    <tr>\n",
       "      <th>trackName</th>\n",
       "      <th>artistName</th>\n",
       "      <th>id</th>\n",
       "      <th></th>\n",
       "      <th></th>\n",
       "      <th></th>\n",
       "      <th></th>\n",
       "      <th></th>\n",
       "      <th></th>\n",
       "      <th></th>\n",
       "      <th></th>\n",
       "      <th></th>\n",
       "      <th></th>\n",
       "      <th></th>\n",
       "      <th></th>\n",
       "      <th></th>\n",
       "      <th></th>\n",
       "    </tr>\n",
       "  </thead>\n",
       "  <tbody>\n",
       "    <tr>\n",
       "      <th>I Wish</th>\n",
       "      <th>Declan J Donovan</th>\n",
       "      <th>7sXnAth7OEXjGhrW7Qsl3Y</th>\n",
       "      <td>-0.336546</td>\n",
       "      <td>0.561070</td>\n",
       "      <td>-0.801780</td>\n",
       "      <td>0.569724</td>\n",
       "      <td>0.142126</td>\n",
       "      <td>0.357718</td>\n",
       "      <td>-0.408420</td>\n",
       "      <td>0.857754</td>\n",
       "      <td>-0.206128</td>\n",
       "      <td>0.081054</td>\n",
       "      <td>-1.451574</td>\n",
       "      <td>-0.213323</td>\n",
       "      <td>-0.435917</td>\n",
       "      <td>0.338529</td>\n",
       "    </tr>\n",
       "    <tr>\n",
       "      <th>friendship?</th>\n",
       "      <th>Jordy Searcy</th>\n",
       "      <th>0Io5aNyPCvK31w1hffcTbC</th>\n",
       "      <td>-0.444422</td>\n",
       "      <td>0.143097</td>\n",
       "      <td>-0.884559</td>\n",
       "      <td>-0.282177</td>\n",
       "      <td>-0.478695</td>\n",
       "      <td>0.357718</td>\n",
       "      <td>0.236858</td>\n",
       "      <td>0.374627</td>\n",
       "      <td>-0.206128</td>\n",
       "      <td>-0.459821</td>\n",
       "      <td>0.905533</td>\n",
       "      <td>-0.329165</td>\n",
       "      <td>0.050218</td>\n",
       "      <td>0.338529</td>\n",
       "    </tr>\n",
       "    <tr>\n",
       "      <th>Sorry That I Do That</th>\n",
       "      <th>Anna Clendening</th>\n",
       "      <th>2WxCovJaXPloCHw0yJ0Z0z</th>\n",
       "      <td>2.252479</td>\n",
       "      <td>1.249952</td>\n",
       "      <td>-0.008082</td>\n",
       "      <td>1.137657</td>\n",
       "      <td>0.285652</td>\n",
       "      <td>0.357718</td>\n",
       "      <td>-0.158327</td>\n",
       "      <td>-1.246604</td>\n",
       "      <td>-0.206119</td>\n",
       "      <td>1.487328</td>\n",
       "      <td>-0.284518</td>\n",
       "      <td>-0.689797</td>\n",
       "      <td>-1.546062</td>\n",
       "      <td>0.338529</td>\n",
       "    </tr>\n",
       "    <tr>\n",
       "      <th>One Day</th>\n",
       "      <th>Lovejoy</th>\n",
       "      <th>58U47mHjyLwUwJZ7voUt15</th>\n",
       "      <td>-0.821988</td>\n",
       "      <td>-1.652640</td>\n",
       "      <td>1.579315</td>\n",
       "      <td>1.421624</td>\n",
       "      <td>0.335224</td>\n",
       "      <td>-2.795499</td>\n",
       "      <td>-0.312965</td>\n",
       "      <td>-1.858229</td>\n",
       "      <td>-0.206128</td>\n",
       "      <td>-1.063437</td>\n",
       "      <td>2.808466</td>\n",
       "      <td>2.231218</td>\n",
       "      <td>-1.669702</td>\n",
       "      <td>0.338529</td>\n",
       "    </tr>\n",
       "    <tr>\n",
       "      <th>Complicated</th>\n",
       "      <th>Olivia O'Brien</th>\n",
       "      <th>226PUvIuxGdceSijXXZRRz</th>\n",
       "      <td>-0.660174</td>\n",
       "      <td>0.808758</td>\n",
       "      <td>-0.246678</td>\n",
       "      <td>0.569724</td>\n",
       "      <td>-0.567717</td>\n",
       "      <td>0.357718</td>\n",
       "      <td>0.368586</td>\n",
       "      <td>0.368142</td>\n",
       "      <td>-0.202324</td>\n",
       "      <td>-0.243471</td>\n",
       "      <td>-1.538959</td>\n",
       "      <td>-1.479893</td>\n",
       "      <td>-0.656589</td>\n",
       "      <td>0.338529</td>\n",
       "    </tr>\n",
       "  </tbody>\n",
       "</table>\n",
       "</div>"
      ],
      "text/plain": [
       "                                                                 count  \\\n",
       "trackName            artistName       id                                 \n",
       "I Wish               Declan J Donovan 7sXnAth7OEXjGhrW7Qsl3Y -0.336546   \n",
       "friendship?          Jordy Searcy     0Io5aNyPCvK31w1hffcTbC -0.444422   \n",
       "Sorry That I Do That Anna Clendening  2WxCovJaXPloCHw0yJ0Z0z  2.252479   \n",
       "One Day              Lovejoy          58U47mHjyLwUwJZ7voUt15 -0.821988   \n",
       "Complicated          Olivia O'Brien   226PUvIuxGdceSijXXZRRz -0.660174   \n",
       "\n",
       "                                                              danceability  \\\n",
       "trackName            artistName       id                                     \n",
       "I Wish               Declan J Donovan 7sXnAth7OEXjGhrW7Qsl3Y      0.561070   \n",
       "friendship?          Jordy Searcy     0Io5aNyPCvK31w1hffcTbC      0.143097   \n",
       "Sorry That I Do That Anna Clendening  2WxCovJaXPloCHw0yJ0Z0z      1.249952   \n",
       "One Day              Lovejoy          58U47mHjyLwUwJZ7voUt15     -1.652640   \n",
       "Complicated          Olivia O'Brien   226PUvIuxGdceSijXXZRRz      0.808758   \n",
       "\n",
       "                                                                energy  \\\n",
       "trackName            artistName       id                                 \n",
       "I Wish               Declan J Donovan 7sXnAth7OEXjGhrW7Qsl3Y -0.801780   \n",
       "friendship?          Jordy Searcy     0Io5aNyPCvK31w1hffcTbC -0.884559   \n",
       "Sorry That I Do That Anna Clendening  2WxCovJaXPloCHw0yJ0Z0z -0.008082   \n",
       "One Day              Lovejoy          58U47mHjyLwUwJZ7voUt15  1.579315   \n",
       "Complicated          Olivia O'Brien   226PUvIuxGdceSijXXZRRz -0.246678   \n",
       "\n",
       "                                                                   key  \\\n",
       "trackName            artistName       id                                 \n",
       "I Wish               Declan J Donovan 7sXnAth7OEXjGhrW7Qsl3Y  0.569724   \n",
       "friendship?          Jordy Searcy     0Io5aNyPCvK31w1hffcTbC -0.282177   \n",
       "Sorry That I Do That Anna Clendening  2WxCovJaXPloCHw0yJ0Z0z  1.137657   \n",
       "One Day              Lovejoy          58U47mHjyLwUwJZ7voUt15  1.421624   \n",
       "Complicated          Olivia O'Brien   226PUvIuxGdceSijXXZRRz  0.569724   \n",
       "\n",
       "                                                              loudness  \\\n",
       "trackName            artistName       id                                 \n",
       "I Wish               Declan J Donovan 7sXnAth7OEXjGhrW7Qsl3Y  0.142126   \n",
       "friendship?          Jordy Searcy     0Io5aNyPCvK31w1hffcTbC -0.478695   \n",
       "Sorry That I Do That Anna Clendening  2WxCovJaXPloCHw0yJ0Z0z  0.285652   \n",
       "One Day              Lovejoy          58U47mHjyLwUwJZ7voUt15  0.335224   \n",
       "Complicated          Olivia O'Brien   226PUvIuxGdceSijXXZRRz -0.567717   \n",
       "\n",
       "                                                                  mode  \\\n",
       "trackName            artistName       id                                 \n",
       "I Wish               Declan J Donovan 7sXnAth7OEXjGhrW7Qsl3Y  0.357718   \n",
       "friendship?          Jordy Searcy     0Io5aNyPCvK31w1hffcTbC  0.357718   \n",
       "Sorry That I Do That Anna Clendening  2WxCovJaXPloCHw0yJ0Z0z  0.357718   \n",
       "One Day              Lovejoy          58U47mHjyLwUwJZ7voUt15 -2.795499   \n",
       "Complicated          Olivia O'Brien   226PUvIuxGdceSijXXZRRz  0.357718   \n",
       "\n",
       "                                                              speechiness  \\\n",
       "trackName            artistName       id                                    \n",
       "I Wish               Declan J Donovan 7sXnAth7OEXjGhrW7Qsl3Y    -0.408420   \n",
       "friendship?          Jordy Searcy     0Io5aNyPCvK31w1hffcTbC     0.236858   \n",
       "Sorry That I Do That Anna Clendening  2WxCovJaXPloCHw0yJ0Z0z    -0.158327   \n",
       "One Day              Lovejoy          58U47mHjyLwUwJZ7voUt15    -0.312965   \n",
       "Complicated          Olivia O'Brien   226PUvIuxGdceSijXXZRRz     0.368586   \n",
       "\n",
       "                                                              acousticness  \\\n",
       "trackName            artistName       id                                     \n",
       "I Wish               Declan J Donovan 7sXnAth7OEXjGhrW7Qsl3Y      0.857754   \n",
       "friendship?          Jordy Searcy     0Io5aNyPCvK31w1hffcTbC      0.374627   \n",
       "Sorry That I Do That Anna Clendening  2WxCovJaXPloCHw0yJ0Z0z     -1.246604   \n",
       "One Day              Lovejoy          58U47mHjyLwUwJZ7voUt15     -1.858229   \n",
       "Complicated          Olivia O'Brien   226PUvIuxGdceSijXXZRRz      0.368142   \n",
       "\n",
       "                                                              instrumentalness  \\\n",
       "trackName            artistName       id                                         \n",
       "I Wish               Declan J Donovan 7sXnAth7OEXjGhrW7Qsl3Y         -0.206128   \n",
       "friendship?          Jordy Searcy     0Io5aNyPCvK31w1hffcTbC         -0.206128   \n",
       "Sorry That I Do That Anna Clendening  2WxCovJaXPloCHw0yJ0Z0z         -0.206119   \n",
       "One Day              Lovejoy          58U47mHjyLwUwJZ7voUt15         -0.206128   \n",
       "Complicated          Olivia O'Brien   226PUvIuxGdceSijXXZRRz         -0.202324   \n",
       "\n",
       "                                                              liveness  \\\n",
       "trackName            artistName       id                                 \n",
       "I Wish               Declan J Donovan 7sXnAth7OEXjGhrW7Qsl3Y  0.081054   \n",
       "friendship?          Jordy Searcy     0Io5aNyPCvK31w1hffcTbC -0.459821   \n",
       "Sorry That I Do That Anna Clendening  2WxCovJaXPloCHw0yJ0Z0z  1.487328   \n",
       "One Day              Lovejoy          58U47mHjyLwUwJZ7voUt15 -1.063437   \n",
       "Complicated          Olivia O'Brien   226PUvIuxGdceSijXXZRRz -0.243471   \n",
       "\n",
       "                                                               valence  \\\n",
       "trackName            artistName       id                                 \n",
       "I Wish               Declan J Donovan 7sXnAth7OEXjGhrW7Qsl3Y -1.451574   \n",
       "friendship?          Jordy Searcy     0Io5aNyPCvK31w1hffcTbC  0.905533   \n",
       "Sorry That I Do That Anna Clendening  2WxCovJaXPloCHw0yJ0Z0z -0.284518   \n",
       "One Day              Lovejoy          58U47mHjyLwUwJZ7voUt15  2.808466   \n",
       "Complicated          Olivia O'Brien   226PUvIuxGdceSijXXZRRz -1.538959   \n",
       "\n",
       "                                                                 tempo  \\\n",
       "trackName            artistName       id                                 \n",
       "I Wish               Declan J Donovan 7sXnAth7OEXjGhrW7Qsl3Y -0.213323   \n",
       "friendship?          Jordy Searcy     0Io5aNyPCvK31w1hffcTbC -0.329165   \n",
       "Sorry That I Do That Anna Clendening  2WxCovJaXPloCHw0yJ0Z0z -0.689797   \n",
       "One Day              Lovejoy          58U47mHjyLwUwJZ7voUt15  2.231218   \n",
       "Complicated          Olivia O'Brien   226PUvIuxGdceSijXXZRRz -1.479893   \n",
       "\n",
       "                                                              duration_ms  \\\n",
       "trackName            artistName       id                                    \n",
       "I Wish               Declan J Donovan 7sXnAth7OEXjGhrW7Qsl3Y    -0.435917   \n",
       "friendship?          Jordy Searcy     0Io5aNyPCvK31w1hffcTbC     0.050218   \n",
       "Sorry That I Do That Anna Clendening  2WxCovJaXPloCHw0yJ0Z0z    -1.546062   \n",
       "One Day              Lovejoy          58U47mHjyLwUwJZ7voUt15    -1.669702   \n",
       "Complicated          Olivia O'Brien   226PUvIuxGdceSijXXZRRz    -0.656589   \n",
       "\n",
       "                                                              time_signature  \n",
       "trackName            artistName       id                                      \n",
       "I Wish               Declan J Donovan 7sXnAth7OEXjGhrW7Qsl3Y        0.338529  \n",
       "friendship?          Jordy Searcy     0Io5aNyPCvK31w1hffcTbC        0.338529  \n",
       "Sorry That I Do That Anna Clendening  2WxCovJaXPloCHw0yJ0Z0z        0.338529  \n",
       "One Day              Lovejoy          58U47mHjyLwUwJZ7voUt15        0.338529  \n",
       "Complicated          Olivia O'Brien   226PUvIuxGdceSijXXZRRz        0.338529  "
      ]
     },
     "execution_count": 164,
     "metadata": {},
     "output_type": "execute_result"
    }
   ],
   "source": [
    "cluster_df = songs_df.set_index(['trackName', 'artistName', 'id']).dropna()\n",
    "cluster_df = (cluster_df - np.mean(cluster_df, axis=0)) / np.std(cluster_df, axis=0)\n",
    "cluster_df.head(5)"
   ]
  },
  {
   "cell_type": "code",
   "execution_count": 178,
   "metadata": {},
   "outputs": [],
   "source": [
    "# !pip install scikit-learn"
   ]
  },
  {
   "cell_type": "code",
   "execution_count": 194,
   "metadata": {},
   "outputs": [],
   "source": [
    "# import scikit-learn as sklearn\n",
    "from sklearn.cluster import MeanShift\n",
    "from sklearn.cluster import KMeans"
   ]
  },
  {
   "cell_type": "code",
   "execution_count": 190,
   "metadata": {},
   "outputs": [
    {
     "data": {
      "text/plain": [
       "array([ 0,  0,  0,  3,  0,  0,  0,  0,  0,  0,  0,  0,  0,  0,  6,  0,  0,\n",
       "        0,  0,  0,  0,  0,  0,  0,  0,  0,  0,  0,  0,  0,  0,  0,  2,  0,\n",
       "        0,  0,  0,  0,  0,  0,  0,  5,  0,  0,  0,  0,  2,  0,  0,  0,  0,\n",
       "        0,  0,  0,  0,  0,  0,  0,  0,  0,  0,  0,  0,  0,  0,  0,  0,  0,\n",
       "        0,  0,  0,  0,  0,  0,  0,  0,  0,  0,  0,  0,  0,  0,  0,  1,  0,\n",
       "        0,  0,  0,  8,  0,  0,  0,  0,  0,  0,  0,  0,  0,  0,  0,  0,  0,\n",
       "        0,  0,  0,  0,  0,  0,  0,  0,  0,  0,  0,  0,  0,  0,  0,  4,  0,\n",
       "        0,  0,  0,  0,  0,  0,  0,  0,  0,  0,  0, 13,  0,  0,  4,  0,  0,\n",
       "        0,  0,  0,  2,  0,  0,  7,  0,  0,  6,  0,  0,  0,  0,  0,  0,  0,\n",
       "        0,  0,  0,  0,  0,  3,  0,  0,  0,  0,  0,  0,  0,  0,  4,  0,  0,\n",
       "        0,  0,  0,  0,  0,  0,  0,  0,  0,  0,  0,  0,  0,  0,  0,  0,  0,\n",
       "        0,  0,  0,  0,  0,  0,  0,  0,  0,  0,  0,  0,  5,  0,  0,  0,  0,\n",
       "        0,  0,  0,  0,  0,  0,  0,  0,  0,  0,  0,  0,  0,  0,  0,  0,  0,\n",
       "        0,  1,  0,  0,  0,  0,  0,  0,  0,  0,  0,  0,  0,  0,  0,  0,  0,\n",
       "        0,  0,  0,  0,  0,  0,  0,  0,  0,  0,  0,  0,  0,  0, 14,  0,  0,\n",
       "        0,  0,  3,  0,  0,  0,  0,  0,  2,  0,  0,  0,  0,  0,  0,  0,  0,\n",
       "        0,  0,  0, 10,  0,  0, 11,  0,  0,  0,  0,  0,  0,  0,  0,  0,  0,\n",
       "        0,  0,  0, 12,  0,  0,  0,  0,  0,  0,  0,  0,  0,  0,  0,  0,  0,\n",
       "        0,  0,  0,  0,  0,  0,  0,  0,  0,  0,  0,  0,  0,  0,  0,  0,  0,\n",
       "        0,  0,  0,  0,  0,  0,  0,  0,  0,  0,  0,  3,  0,  0,  0,  3,  0,\n",
       "        1,  0,  0,  0,  0,  0,  0,  0,  0,  0,  0,  2,  0,  0,  0,  0,  0,\n",
       "        0,  0,  0,  0,  0,  0,  9,  0,  0,  0,  0,  0,  0,  0,  0,  0,  0,\n",
       "        0,  0,  0,  1,  0,  0,  0,  0,  0,  0,  0,  0,  0,  0,  0,  0,  0,\n",
       "        0,  0,  0,  0,  0,  0,  0,  0,  0,  0,  0,  0,  0,  0,  0,  0,  0,\n",
       "        0,  0,  0,  0,  0,  0,  0,  0,  0,  0,  0,  0,  0,  0,  0,  0,  0,\n",
       "        0,  0,  0,  0,  0,  0,  0,  0,  0,  0,  0,  0,  0,  0,  0,  0,  0,\n",
       "        1,  0,  0,  0,  0,  0,  0,  0,  0,  0,  0,  0,  0,  0,  0,  0,  0,\n",
       "        0,  0,  0,  0,  0,  0,  0,  0,  0,  0,  0,  0,  0,  0,  0,  0,  0],\n",
       "      dtype=int64)"
      ]
     },
     "execution_count": 190,
     "metadata": {},
     "output_type": "execute_result"
    }
   ],
   "source": [
    "cluster = MeanShift().fit(cluster_df)\n",
    "cluster.labels_"
   ]
  },
  {
   "cell_type": "code",
   "execution_count": 193,
   "metadata": {},
   "outputs": [
    {
     "data": {
      "text/html": [
       "<div>\n",
       "<style scoped>\n",
       "    .dataframe tbody tr th:only-of-type {\n",
       "        vertical-align: middle;\n",
       "    }\n",
       "\n",
       "    .dataframe tbody tr th {\n",
       "        vertical-align: top;\n",
       "    }\n",
       "\n",
       "    .dataframe thead th {\n",
       "        text-align: right;\n",
       "    }\n",
       "</style>\n",
       "<table border=\"1\" class=\"dataframe\">\n",
       "  <thead>\n",
       "    <tr style=\"text-align: right;\">\n",
       "      <th></th>\n",
       "      <th>trackName</th>\n",
       "      <th>artistName</th>\n",
       "      <th>id</th>\n",
       "      <th>count</th>\n",
       "      <th>danceability</th>\n",
       "      <th>energy</th>\n",
       "      <th>key</th>\n",
       "      <th>loudness</th>\n",
       "      <th>mode</th>\n",
       "      <th>speechiness</th>\n",
       "      <th>acousticness</th>\n",
       "      <th>instrumentalness</th>\n",
       "      <th>liveness</th>\n",
       "      <th>valence</th>\n",
       "      <th>tempo</th>\n",
       "      <th>duration_ms</th>\n",
       "      <th>time_signature</th>\n",
       "      <th>color</th>\n",
       "    </tr>\n",
       "  </thead>\n",
       "  <tbody>\n",
       "    <tr>\n",
       "      <th>252</th>\n",
       "      <td>I Have A Hole In My Tooth (And My Dentist is S...</td>\n",
       "      <td>dodie</td>\n",
       "      <td>025UUQA6NowbZynZU3Hv0u</td>\n",
       "      <td>-0.875926</td>\n",
       "      <td>1.304134</td>\n",
       "      <td>0.454503</td>\n",
       "      <td>-0.850111</td>\n",
       "      <td>-0.960661</td>\n",
       "      <td>0.357718</td>\n",
       "      <td>0.471678</td>\n",
       "      <td>-0.724567</td>\n",
       "      <td>7.553941</td>\n",
       "      <td>-0.775691</td>\n",
       "      <td>3.601834</td>\n",
       "      <td>1.430862</td>\n",
       "      <td>-4.039308</td>\n",
       "      <td>0.338529</td>\n",
       "      <td>14</td>\n",
       "    </tr>\n",
       "    <tr>\n",
       "      <th>130</th>\n",
       "      <td>Lovely</td>\n",
       "      <td>Lúc</td>\n",
       "      <td>4WjgUrjHyRebF9o0TvHVFc</td>\n",
       "      <td>-0.768050</td>\n",
       "      <td>-0.290357</td>\n",
       "      <td>1.871474</td>\n",
       "      <td>0.853691</td>\n",
       "      <td>0.972656</td>\n",
       "      <td>0.357718</td>\n",
       "      <td>7.919102</td>\n",
       "      <td>-0.341957</td>\n",
       "      <td>-0.206111</td>\n",
       "      <td>2.936872</td>\n",
       "      <td>-0.192534</td>\n",
       "      <td>0.379883</td>\n",
       "      <td>3.657331</td>\n",
       "      <td>0.338529</td>\n",
       "      <td>13</td>\n",
       "    </tr>\n",
       "    <tr>\n",
       "      <th>292</th>\n",
       "      <td>Pierre</td>\n",
       "      <td>Ryn Weaver</td>\n",
       "      <td>31c1V9xUONZYk78NE4Id8D</td>\n",
       "      <td>-0.714112</td>\n",
       "      <td>0.421746</td>\n",
       "      <td>2.051639</td>\n",
       "      <td>1.137657</td>\n",
       "      <td>1.447615</td>\n",
       "      <td>0.357718</td>\n",
       "      <td>-0.072418</td>\n",
       "      <td>-0.945055</td>\n",
       "      <td>-0.206102</td>\n",
       "      <td>6.192937</td>\n",
       "      <td>1.169989</td>\n",
       "      <td>-0.619592</td>\n",
       "      <td>-0.344493</td>\n",
       "      <td>0.338529</td>\n",
       "      <td>12</td>\n",
       "    </tr>\n",
       "    <tr>\n",
       "      <th>278</th>\n",
       "      <td>Forever &amp; Always</td>\n",
       "      <td>Zeph</td>\n",
       "      <td>3aI4n3KHtrQ2MDeGmXhgWt</td>\n",
       "      <td>-0.552298</td>\n",
       "      <td>-0.429681</td>\n",
       "      <td>-1.473746</td>\n",
       "      <td>0.853691</td>\n",
       "      <td>-3.561257</td>\n",
       "      <td>-2.795499</td>\n",
       "      <td>-0.150691</td>\n",
       "      <td>1.324668</td>\n",
       "      <td>8.252078</td>\n",
       "      <td>-0.373281</td>\n",
       "      <td>-0.008564</td>\n",
       "      <td>1.261424</td>\n",
       "      <td>0.721608</td>\n",
       "      <td>0.338529</td>\n",
       "      <td>11</td>\n",
       "    </tr>\n",
       "    <tr>\n",
       "      <th>275</th>\n",
       "      <td>Stay</td>\n",
       "      <td>Kallista Rowan</td>\n",
       "      <td>13yLE339ZIunJQwKJctpMM</td>\n",
       "      <td>-0.444422</td>\n",
       "      <td>2.859924</td>\n",
       "      <td>-0.090860</td>\n",
       "      <td>0.853691</td>\n",
       "      <td>0.668215</td>\n",
       "      <td>0.357718</td>\n",
       "      <td>10.133665</td>\n",
       "      <td>-0.653233</td>\n",
       "      <td>-0.206128</td>\n",
       "      <td>-0.670762</td>\n",
       "      <td>2.503767</td>\n",
       "      <td>0.274679</td>\n",
       "      <td>-1.682438</td>\n",
       "      <td>0.338529</td>\n",
       "      <td>10</td>\n",
       "    </tr>\n",
       "    <tr>\n",
       "      <th>...</th>\n",
       "      <td>...</td>\n",
       "      <td>...</td>\n",
       "      <td>...</td>\n",
       "      <td>...</td>\n",
       "      <td>...</td>\n",
       "      <td>...</td>\n",
       "      <td>...</td>\n",
       "      <td>...</td>\n",
       "      <td>...</td>\n",
       "      <td>...</td>\n",
       "      <td>...</td>\n",
       "      <td>...</td>\n",
       "      <td>...</td>\n",
       "      <td>...</td>\n",
       "      <td>...</td>\n",
       "      <td>...</td>\n",
       "      <td>...</td>\n",
       "      <td>...</td>\n",
       "    </tr>\n",
       "    <tr>\n",
       "      <th>163</th>\n",
       "      <td>Rich Boy</td>\n",
       "      <td>Sara Kays</td>\n",
       "      <td>6fAF2lOiZ86UNlY1Nth9tW</td>\n",
       "      <td>0.688276</td>\n",
       "      <td>-0.406461</td>\n",
       "      <td>0.264600</td>\n",
       "      <td>0.569724</td>\n",
       "      <td>0.299148</td>\n",
       "      <td>0.357718</td>\n",
       "      <td>0.465950</td>\n",
       "      <td>0.416779</td>\n",
       "      <td>-0.206128</td>\n",
       "      <td>-0.618838</td>\n",
       "      <td>0.980271</td>\n",
       "      <td>-0.382179</td>\n",
       "      <td>-0.923029</td>\n",
       "      <td>0.338529</td>\n",
       "      <td>0</td>\n",
       "    </tr>\n",
       "    <tr>\n",
       "      <th>162</th>\n",
       "      <td>When Someone Loves You</td>\n",
       "      <td>Tim Be Told</td>\n",
       "      <td>2Bl6jI3cxKKrSm5F2xNVHV</td>\n",
       "      <td>-0.552298</td>\n",
       "      <td>-0.669629</td>\n",
       "      <td>-1.603757</td>\n",
       "      <td>1.421624</td>\n",
       "      <td>-0.761594</td>\n",
       "      <td>0.357718</td>\n",
       "      <td>0.091765</td>\n",
       "      <td>1.162545</td>\n",
       "      <td>-0.206128</td>\n",
       "      <td>-0.200201</td>\n",
       "      <td>0.451359</td>\n",
       "      <td>0.322443</td>\n",
       "      <td>-1.361466</td>\n",
       "      <td>0.338529</td>\n",
       "      <td>0</td>\n",
       "    </tr>\n",
       "    <tr>\n",
       "      <th>161</th>\n",
       "      <td>You and I</td>\n",
       "      <td>Jess Ray</td>\n",
       "      <td>3rINQgcxDjNmTnUb3nDugO</td>\n",
       "      <td>-0.390484</td>\n",
       "      <td>0.785538</td>\n",
       "      <td>0.464242</td>\n",
       "      <td>-0.566144</td>\n",
       "      <td>0.198706</td>\n",
       "      <td>0.357718</td>\n",
       "      <td>-0.389329</td>\n",
       "      <td>-0.218743</td>\n",
       "      <td>-0.206128</td>\n",
       "      <td>-0.373281</td>\n",
       "      <td>2.279554</td>\n",
       "      <td>-0.313312</td>\n",
       "      <td>0.358976</td>\n",
       "      <td>0.338529</td>\n",
       "      <td>0</td>\n",
       "    </tr>\n",
       "    <tr>\n",
       "      <th>160</th>\n",
       "      <td>Broken</td>\n",
       "      <td>Jonah Kagen</td>\n",
       "      <td>44siIYlT1dMRQysOVjEvdF</td>\n",
       "      <td>3.493053</td>\n",
       "      <td>-0.398720</td>\n",
       "      <td>-0.280764</td>\n",
       "      <td>-1.134078</td>\n",
       "      <td>-0.539427</td>\n",
       "      <td>0.357718</td>\n",
       "      <td>0.108947</td>\n",
       "      <td>-0.257653</td>\n",
       "      <td>-0.206109</td>\n",
       "      <td>-0.427368</td>\n",
       "      <td>-0.416746</td>\n",
       "      <td>-1.186961</td>\n",
       "      <td>-0.511291</td>\n",
       "      <td>0.338529</td>\n",
       "      <td>0</td>\n",
       "    </tr>\n",
       "    <tr>\n",
       "      <th>475</th>\n",
       "      <td>You In My Life</td>\n",
       "      <td>Ed Patrick</td>\n",
       "      <td>0xVQa1rlcbYtemV7TezzZJ</td>\n",
       "      <td>-0.929864</td>\n",
       "      <td>0.057954</td>\n",
       "      <td>-0.962468</td>\n",
       "      <td>1.705591</td>\n",
       "      <td>-1.741359</td>\n",
       "      <td>0.357718</td>\n",
       "      <td>-0.078145</td>\n",
       "      <td>1.042574</td>\n",
       "      <td>-0.002057</td>\n",
       "      <td>-0.405733</td>\n",
       "      <td>-0.060306</td>\n",
       "      <td>0.479151</td>\n",
       "      <td>-0.014258</td>\n",
       "      <td>2.608105</td>\n",
       "      <td>0</td>\n",
       "    </tr>\n",
       "  </tbody>\n",
       "</table>\n",
       "<p>476 rows × 18 columns</p>\n",
       "</div>"
      ],
      "text/plain": [
       "                                             trackName      artistName  \\\n",
       "252  I Have A Hole In My Tooth (And My Dentist is S...           dodie   \n",
       "130                                             Lovely             Lúc   \n",
       "292                                             Pierre      Ryn Weaver   \n",
       "278                                   Forever & Always            Zeph   \n",
       "275                                               Stay  Kallista Rowan   \n",
       "..                                                 ...             ...   \n",
       "163                                           Rich Boy       Sara Kays   \n",
       "162                             When Someone Loves You     Tim Be Told   \n",
       "161                                          You and I        Jess Ray   \n",
       "160                                             Broken     Jonah Kagen   \n",
       "475                                     You In My Life      Ed Patrick   \n",
       "\n",
       "                         id     count  danceability    energy       key  \\\n",
       "252  025UUQA6NowbZynZU3Hv0u -0.875926      1.304134  0.454503 -0.850111   \n",
       "130  4WjgUrjHyRebF9o0TvHVFc -0.768050     -0.290357  1.871474  0.853691   \n",
       "292  31c1V9xUONZYk78NE4Id8D -0.714112      0.421746  2.051639  1.137657   \n",
       "278  3aI4n3KHtrQ2MDeGmXhgWt -0.552298     -0.429681 -1.473746  0.853691   \n",
       "275  13yLE339ZIunJQwKJctpMM -0.444422      2.859924 -0.090860  0.853691   \n",
       "..                      ...       ...           ...       ...       ...   \n",
       "163  6fAF2lOiZ86UNlY1Nth9tW  0.688276     -0.406461  0.264600  0.569724   \n",
       "162  2Bl6jI3cxKKrSm5F2xNVHV -0.552298     -0.669629 -1.603757  1.421624   \n",
       "161  3rINQgcxDjNmTnUb3nDugO -0.390484      0.785538  0.464242 -0.566144   \n",
       "160  44siIYlT1dMRQysOVjEvdF  3.493053     -0.398720 -0.280764 -1.134078   \n",
       "475  0xVQa1rlcbYtemV7TezzZJ -0.929864      0.057954 -0.962468  1.705591   \n",
       "\n",
       "     loudness      mode  speechiness  acousticness  instrumentalness  \\\n",
       "252 -0.960661  0.357718     0.471678     -0.724567          7.553941   \n",
       "130  0.972656  0.357718     7.919102     -0.341957         -0.206111   \n",
       "292  1.447615  0.357718    -0.072418     -0.945055         -0.206102   \n",
       "278 -3.561257 -2.795499    -0.150691      1.324668          8.252078   \n",
       "275  0.668215  0.357718    10.133665     -0.653233         -0.206128   \n",
       "..        ...       ...          ...           ...               ...   \n",
       "163  0.299148  0.357718     0.465950      0.416779         -0.206128   \n",
       "162 -0.761594  0.357718     0.091765      1.162545         -0.206128   \n",
       "161  0.198706  0.357718    -0.389329     -0.218743         -0.206128   \n",
       "160 -0.539427  0.357718     0.108947     -0.257653         -0.206109   \n",
       "475 -1.741359  0.357718    -0.078145      1.042574         -0.002057   \n",
       "\n",
       "     liveness   valence     tempo  duration_ms  time_signature  color  \n",
       "252 -0.775691  3.601834  1.430862    -4.039308        0.338529     14  \n",
       "130  2.936872 -0.192534  0.379883     3.657331        0.338529     13  \n",
       "292  6.192937  1.169989 -0.619592    -0.344493        0.338529     12  \n",
       "278 -0.373281 -0.008564  1.261424     0.721608        0.338529     11  \n",
       "275 -0.670762  2.503767  0.274679    -1.682438        0.338529     10  \n",
       "..        ...       ...       ...          ...             ...    ...  \n",
       "163 -0.618838  0.980271 -0.382179    -0.923029        0.338529      0  \n",
       "162 -0.200201  0.451359  0.322443    -1.361466        0.338529      0  \n",
       "161 -0.373281  2.279554 -0.313312     0.358976        0.338529      0  \n",
       "160 -0.427368 -0.416746 -1.186961    -0.511291        0.338529      0  \n",
       "475 -0.405733 -0.060306  0.479151    -0.014258        2.608105      0  \n",
       "\n",
       "[476 rows x 18 columns]"
      ]
     },
     "execution_count": 193,
     "metadata": {},
     "output_type": "execute_result"
    }
   ],
   "source": [
    "cluster_w_labels = cluster_df.reset_index()\n",
    "cluster_w_labels['color'] = cluster.labels_\n",
    "# px.scatter(cluster_w_labels, x='count', y='energy', color='color', hover_data='trackName')\n",
    "# cluster_w_labels.sort_values('color', ascending=False)"
   ]
  },
  {
   "cell_type": "code",
   "execution_count": 241,
   "metadata": {},
   "outputs": [
    {
     "name": "stderr",
     "output_type": "stream",
     "text": [
      "C:\\Users\\Jessi\\AppData\\Local\\Packages\\PythonSoftwareFoundation.Python.3.10_qbz5n2kfra8p0\\LocalCache\\local-packages\\Python310\\site-packages\\sklearn\\cluster\\_kmeans.py:1416: FutureWarning:\n",
      "\n",
      "The default value of `n_init` will change from 10 to 'auto' in 1.4. Set the value of `n_init` explicitly to suppress the warning\n",
      "\n"
     ]
    },
    {
     "data": {
      "application/vnd.plotly.v1+json": {
       "config": {
        "plotlyServerURL": "https://plot.ly"
       },
       "data": [
        {
         "customdata": [
          [
           "I Wish"
          ],
          [
           "friendship?"
          ],
          [
           "Sorry That I Do That"
          ],
          [
           "One Day"
          ],
          [
           "Complicated"
          ],
          [
           "Astronaut Kids"
          ],
          [
           "We Could Be Anything (Black & White)"
          ],
          [
           "Only Everything - Acoustic"
          ],
          [
           "Singing in the Rain"
          ],
          [
           "About the Rain"
          ],
          [
           "if i were a friend"
          ],
          [
           "Tsunami"
          ],
          [
           "Everyone’s Got Something"
          ],
          [
           "Different Eyes"
          ],
          [
           "Dirt"
          ],
          [
           "Have We Met Before (with Eric Nam)"
          ],
          [
           "Miles Apart"
          ],
          [
           "Jericho"
          ],
          [
           "Hailey"
          ],
          [
           "Pancakes for Dinner"
          ],
          [
           "Chosen Last"
          ],
          [
           "Half Gone"
          ],
          [
           "I Met Sarah in the Bathroom"
          ],
          [
           "Last Time"
          ],
          [
           "The Corner Dwellers"
          ],
          [
           "Either You Love Me Or You Don't - Live Acoustic"
          ],
          [
           "Marigold"
          ],
          [
           "Older"
          ],
          [
           "America"
          ],
          [
           "Out of Love"
          ],
          [
           "Dancing With Your Ghost"
          ],
          [
           "Back to Friends"
          ],
          [
           "fools (can't help falling in love)"
          ],
          [
           "i luv him."
          ],
          [
           "Things You Can't Change"
          ],
          [
           "Blue"
          ],
          [
           "Seasons Change"
          ],
          [
           "Keep Me Up"
          ],
          [
           "CLEAR"
          ],
          [
           "Love Like This - Acoustic"
          ],
          [
           "All This Love"
          ],
          [
           "Yellow Lights"
          ],
          [
           "From Afar"
          ],
          [
           "River of Grace"
          ],
          [
           "Helium"
          ],
          [
           "Medicine"
          ],
          [
           "My Person"
          ],
          [
           "Disarray"
          ],
          [
           "Terrible Things - EP Version"
          ],
          [
           "blind"
          ],
          [
           "Wilderness"
          ],
          [
           "One Day"
          ],
          [
           "You Said You'd Grow Old With Me"
          ],
          [
           "Better Together"
          ],
          [
           "Dwelling Place"
          ],
          [
           "Always Be Loving You"
          ],
          [
           "Hold On"
          ],
          [
           "Give It All"
          ],
          [
           "Tragedy Is Not the End"
          ],
          [
           "I Don't Mind"
          ],
          [
           "Good Without"
          ],
          [
           "Murakami"
          ],
          [
           "The Village"
          ],
          [
           "Beautiful Disaster"
          ],
          [
           "stuck in my head"
          ],
          [
           "Tears Come From The Heart"
          ],
          [
           "Echo (with KSHMR)"
          ],
          [
           "2 Am"
          ],
          [
           "This is Love - Interlude"
          ],
          [
           "Sing of the Moon"
          ],
          [
           "Somewhere in Ann Arbor"
          ],
          [
           "Tears"
          ],
          [
           "Beautiful"
          ],
          [
           "I Feel Good About This"
          ],
          [
           "Bulletproof Weeks"
          ],
          [
           "Wasted Time"
          ],
          [
           "Photographs & Memories."
          ],
          [
           "Home"
          ],
          [
           "Heaven's Not Too Far"
          ],
          [
           "Song for a Girl"
          ],
          [
           "Pollen And Salt"
          ],
          [
           "Wherever We Are"
          ],
          [
           "Lie About You"
          ],
          [
           "By Your Side"
          ],
          [
           "Slow Dance (feat. Ava Max) - Sam Feldt Remix"
          ],
          [
           "Sweet Love"
          ],
          [
           "Nineteen"
          ],
          [
           "Love Like That"
          ],
          [
           "Mess Is Mine"
          ],
          [
           "Ivory Fields"
          ],
          [
           "Afterglow"
          ],
          [
           "Brand New"
          ],
          [
           "All I Want"
          ],
          [
           "Poetry"
          ],
          [
           "Here for the First Time"
          ],
          [
           "Machine"
          ],
          [
           "Forever And Always"
          ],
          [
           "In the Eye"
          ],
          [
           "Summer's Gone"
          ],
          [
           "Fear of Fear"
          ],
          [
           "Beautiful World"
          ],
          [
           "Gunslinger"
          ],
          [
           "Countdowns"
          ],
          [
           "Things That I Miss"
          ],
          [
           "Please Never Fall in Love Again"
          ],
          [
           "What If I Love You"
          ],
          [
           "The Way That I Love You (Single Version)"
          ],
          [
           "Wild Child"
          ],
          [
           "Mr Loverman (feat. chloe moriondo)"
          ],
          [
           "Wildflower"
          ],
          [
           "Hey Lady"
          ],
          [
           "Breakups"
          ],
          [
           "Till I Found You"
          ],
          [
           "23"
          ],
          [
           "Iris"
          ],
          [
           "Falling to Pieces"
          ],
          [
           "Hotel Ceiling"
          ],
          [
           "channel 67"
          ],
          [
           "Ho Hey"
          ],
          [
           "Means To A Mend"
          ],
          [
           "Silhouettes & Sand"
          ],
          [
           "I Lived"
          ],
          [
           "just like you - demo"
          ],
          [
           "i don't want to watch the world end with someone else"
          ],
          [
           "Four Tequilas Down"
          ],
          [
           "Love Worth Saving"
          ],
          [
           "Hard To Say Goodbye (feat. Chloe Angelides)"
          ],
          [
           "Gravity"
          ],
          [
           "All of Your Colours"
          ],
          [
           "Palo Alto"
          ],
          [
           "Lovely"
          ],
          [
           "Anything to Make You Stay - Acoustic"
          ],
          [
           "Gone"
          ],
          [
           "YOU"
          ],
          [
           "Fix You"
          ],
          [
           "Close To You"
          ],
          [
           "Lost My Mind (Acoustic)"
          ],
          [
           "stay"
          ],
          [
           "Flicker"
          ],
          [
           "Sad Forever"
          ],
          [
           "Swim"
          ],
          [
           "Five Foot Three"
          ],
          [
           "Sometimes"
          ],
          [
           "I Really Love Ya"
          ],
          [
           "Please Keep Loving Me - Acoustic"
          ],
          [
           "Mother Tongue"
          ],
          [
           "Bitch"
          ],
          [
           "Tuesdays"
          ],
          [
           "Hibiscus"
          ],
          [
           "Alone With My Thoughts"
          ],
          [
           "Old Eden"
          ],
          [
           "Saturday Sun"
          ],
          [
           "A Final Word"
          ],
          [
           "Malibu Nights"
          ],
          [
           "Favourite Ex"
          ],
          [
           "Quiet"
          ],
          [
           "Shaky Hands - Piano Version"
          ],
          [
           "already there"
          ],
          [
           "Cheating on U"
          ],
          [
           "House of Cards"
          ],
          [
           "Broken"
          ],
          [
           "You and I"
          ],
          [
           "When Someone Loves You"
          ],
          [
           "Rich Boy"
          ],
          [
           "Tiger Striped Sky"
          ],
          [
           "Never the 1"
          ],
          [
           "Moments in the Mountains"
          ],
          [
           "Fletcher Bay"
          ],
          [
           "Black & Blue"
          ],
          [
           "Winona Ryder"
          ],
          [
           "Without a Thought for My Heart"
          ],
          [
           "House"
          ],
          [
           "Something Beautiful"
          ],
          [
           "Wherever I May Go"
          ],
          [
           "The Best - Acoustic"
          ],
          [
           "Prom Queen"
          ],
          [
           "Best of Me (Acoustic)"
          ],
          [
           "Covered Up"
          ],
          [
           "With Love and Compassion"
          ],
          [
           "Out Of Love"
          ],
          [
           "30,000 Feet"
          ],
          [
           "Boats & Birds"
          ],
          [
           "Rock And Roll"
          ],
          [
           "1999"
          ],
          [
           "Corners"
          ],
          [
           "Naïve"
          ],
          [
           "She"
          ],
          [
           "Red Delicious"
          ],
          [
           "Fast Car"
          ],
          [
           "Slip"
          ],
          [
           "Strawberries"
          ],
          [
           "Reason To Stay"
          ],
          [
           "Use Somebody (Bonus Track)"
          ],
          [
           "Restless"
          ],
          [
           "No Right To Love You - Acoustic"
          ],
          [
           "I Put You First (& You Did Too)"
          ],
          [
           "Getting over You"
          ],
          [
           "Fly Away With Me"
          ],
          [
           "justacow (demo3)"
          ],
          [
           "IDK You Yet"
          ],
          [
           "Why We Try (feat. Chelsea Lankes)"
          ],
          [
           "Please Go Slowly"
          ],
          [
           "The Moon Song"
          ],
          [
           "Nothing Ever Changes"
          ],
          [
           "Love Drunk"
          ],
          [
           "Drown"
          ],
          [
           "Someday Soon - Single Version"
          ],
          [
           "Good Times"
          ],
          [
           "After Many Miles"
          ],
          [
           "RN"
          ],
          [
           "Dear No One (feat. Spencer Kane & Brooke)"
          ],
          [
           "broken - live from london, studio two"
          ],
          [
           "hopeless"
          ],
          [
           "You & Me"
          ],
          [
           "I Was Wrong"
          ],
          [
           "A Day Will Come"
          ],
          [
           "I’m So Happy"
          ],
          [
           "i wanna love somebody"
          ],
          [
           "i hope you love somebody - demo"
          ],
          [
           "Wait"
          ],
          [
           "Hand to Hold"
          ],
          [
           "Venice (Acoustic)"
          ],
          [
           "Hey It's Delilah"
          ],
          [
           "Dancing Shoes"
          ],
          [
           "New Start"
          ],
          [
           "all i need (the distance song)"
          ],
          [
           "Shelter"
          ],
          [
           "Nobody Opened The Door"
          ],
          [
           "Bloom - Bonus Track"
          ],
          [
           "Paper Planes"
          ],
          [
           "the author"
          ],
          [
           "Me Without You"
          ],
          [
           "Sticks & Stones"
          ],
          [
           "Ship in a Bottle"
          ],
          [
           "Silhouettes"
          ],
          [
           "I Give You The Best"
          ],
          [
           "Half Light"
          ],
          [
           "This Beautiful Life"
          ],
          [
           "This City Remix (feat. Anne-Marie)"
          ],
          [
           "We Will Dance"
          ],
          [
           "You"
          ],
          [
           "Make You Mine"
          ],
          [
           "Loved At All"
          ],
          [
           "The Rhine"
          ],
          [
           "Silhouette"
          ],
          [
           "The One"
          ],
          [
           "Who Cares (feat. Ben Bannister)"
          ],
          [
           "I Wish It Was Me"
          ],
          [
           "All of Me"
          ],
          [
           "Let You Break My Heart Again"
          ],
          [
           "Grow As We Go"
          ],
          [
           "To Have You Around"
          ],
          [
           "I Have A Hole In My Tooth (And My Dentist is Shut)"
          ],
          [
           "Teach Me to Dance"
          ],
          [
           "Expectations"
          ],
          [
           "Photograph"
          ],
          [
           "Better"
          ],
          [
           "Moon"
          ],
          [
           "Mr. Brightside"
          ],
          [
           "Something Just Like This"
          ],
          [
           "love addiction"
          ],
          [
           "Maybe I Do"
          ],
          [
           "The Mountain"
          ],
          [
           "Just You and I"
          ],
          [
           "Bedroom Ceiling"
          ],
          [
           "Twenty Two"
          ],
          [
           "In The Silence - Demo"
          ],
          [
           "Darkest Hour"
          ],
          [
           "Confidant"
          ],
          [
           "Forever Love"
          ],
          [
           "Need You Now - Acoustic"
          ],
          [
           "Slow Motion"
          ],
          [
           "Right Here (Acoustic)"
          ],
          [
           "Good Good Day"
          ],
          [
           "i (I'll always be there)"
          ],
          [
           "Stay"
          ],
          [
           "Never Stop (Wedding Version)"
          ],
          [
           "Is It Just Me?"
          ],
          [
           "Forever & Always"
          ],
          [
           "I Don't Even Care (Pick Me Up)"
          ],
          [
           "Superhero"
          ],
          [
           "7UP"
          ],
          [
           "Always Remember Me (feat. Sara Bareilles)"
          ],
          [
           "Waking Up"
          ],
          [
           "Light Year (feat. Lennon Stella)"
          ],
          [
           "Blue"
          ],
          [
           "Love & War in Your Twenties"
          ],
          [
           "Lift"
          ],
          [
           "Joshua Tree"
          ],
          [
           "If You're the Coffee"
          ],
          [
           "Paris, or Wherever We Are"
          ],
          [
           "Please Notice"
          ],
          [
           "Pierre"
          ],
          [
           "Lover"
          ],
          [
           "Walk Outside"
          ],
          [
           "Rhythm Of Love"
          ],
          [
           "Cringe - Stripped"
          ],
          [
           "Be Happy"
          ],
          [
           "Airplane"
          ],
          [
           "October"
          ],
          [
           "Not Yet"
          ],
          [
           "Pull the Cord"
          ],
          [
           "Last Time"
          ],
          [
           "My Love"
          ],
          [
           "can I call you back?"
          ],
          [
           "i don't wanna know - acoustic"
          ],
          [
           "Worth My While"
          ],
          [
           "Dust"
          ],
          [
           "Be Alright"
          ],
          [
           "Blvd"
          ],
          [
           "A Song for the Drunk and Broken Hearted"
          ],
          [
           "Black Coffee - Unplugged"
          ],
          [
           "Seasons (feat. Madilyn Paige)"
          ],
          [
           "Be Okay"
          ],
          [
           "Hey Siri"
          ],
          [
           "Undrunk"
          ],
          [
           "Adhd"
          ],
          [
           "This Town"
          ],
          [
           "Goodnight Baby"
          ],
          [
           "Burden"
          ],
          [
           "Shine (feat. Stoneman Douglas Drama) - Town Hall Version"
          ],
          [
           "Play Pretend"
          ],
          [
           "When The Darkness Comes"
          ],
          [
           "Spotless Mind"
          ],
          [
           "Subway Song"
          ],
          [
           "There's Something In The Water"
          ],
          [
           "Insanity"
          ],
          [
           "I Will Sing"
          ],
          [
           "That's Us"
          ],
          [
           "House With No Mirrors"
          ],
          [
           "Young Blood - Acoustic"
          ],
          [
           "Wanted Man"
          ],
          [
           "Jaiden"
          ],
          [
           "Suffocate"
          ],
          [
           "Summer Feelings (feat. Charlie Puth) - From 'SCOOB!' The Album"
          ],
          [
           "Boomerang"
          ],
          [
           "Work Off My Hurt"
          ],
          [
           "Lucky People"
          ],
          [
           "Tonight Belongs to You"
          ],
          [
           "Hey Ya!"
          ],
          [
           "323"
          ],
          [
           "Bittersweet Endings"
          ],
          [
           "Hey There Delilah"
          ],
          [
           "forget about us"
          ],
          [
           "freshman year"
          ],
          [
           "Not Today"
          ],
          [
           "Köln"
          ],
          [
           "Hold on to You (Acoustic)"
          ],
          [
           "Sad Song (feat. Elena Coats)"
          ],
          [
           "Sugar Coat"
          ],
          [
           "The Last Song On Earth"
          ],
          [
           "The Girl You Call Best Friend"
          ],
          [
           "Love Like This"
          ],
          [
           "As We Ran"
          ],
          [
           "Kids Again"
          ],
          [
           "Wherever You Go"
          ],
          [
           "Hypoxia"
          ],
          [
           "City of Angels"
          ],
          [
           "Sweetest Thing"
          ],
          [
           "Silence - Acoustic"
          ],
          [
           "Be Still"
          ],
          [
           "To Be Alone With You"
          ],
          [
           "Since Saturday"
          ],
          [
           "Behind the Light"
          ],
          [
           "Better"
          ],
          [
           "stones around the sun"
          ],
          [
           "I Will Wait - Candlelight Version"
          ],
          [
           "I Will Always Be Yours"
          ],
          [
           "This Is On You - Acoustic"
          ],
          [
           "drift/(:("
          ],
          [
           "Summer"
          ],
          [
           "I Won't Give Up"
          ],
          [
           "Best Part of Me"
          ],
          [
           "Next to You"
          ],
          [
           "Would Anyone Care"
          ],
          [
           "Broken"
          ],
          [
           "Love Endures All Things"
          ],
          [
           "Letter From Last Summer"
          ],
          [
           "Are you happy?"
          ],
          [
           "Burning Bridges - Sistek Remix"
          ],
          [
           "Strangers"
          ],
          [
           "Ocean"
          ],
          [
           "I Wish I Never Met You"
          ],
          [
           "Weeds"
          ],
          [
           "Far Too Good"
          ],
          [
           "Already Gone (feat. Emily Warren)"
          ],
          [
           "Whole - demo"
          ],
          [
           "Mirage"
          ],
          [
           "the stars"
          ],
          [
           "Never Stop"
          ],
          [
           "Shelter"
          ],
          [
           "Last Dance"
          ],
          [
           "Place We Were Made"
          ],
          [
           "Oceans Between Us"
          ],
          [
           "Wonderfully Made"
          ],
          [
           "fragile tears"
          ],
          [
           "Last One Standing"
          ],
          [
           "Perfect"
          ],
          [
           "Let It Go"
          ],
          [
           "Ocean - Stripped Acoustic"
          ],
          [
           "Beauty In The Breakdown (Acoustic)"
          ],
          [
           "letting you in"
          ],
          [
           "She Walks in Beauty"
          ],
          [
           "Monsters of the North"
          ],
          [
           "Headlights"
          ],
          [
           "This Promise"
          ],
          [
           "Say You Won't Let Go"
          ],
          [
           "Dancing In The Minefields"
          ],
          [
           "Would You Be So Kind"
          ],
          [
           "Tired"
          ],
          [
           "demons"
          ],
          [
           "Someone To Stay"
          ],
          [
           "Out Of Love with You"
          ],
          [
           "In the Unknown"
          ],
          [
           "Younger - Acoustic"
          ],
          [
           "Watching You"
          ],
          [
           "Always You"
          ],
          [
           "Air So Sweet"
          ],
          [
           "I Will Follow You into the Dark"
          ],
          [
           "This Could Be"
          ],
          [
           "tear myself apart"
          ],
          [
           "Cool Girl"
          ],
          [
           "Old Wounds"
          ],
          [
           "I Wish I Was the Moon"
          ],
          [
           "let go (demo)"
          ],
          [
           "UFO"
          ],
          [
           "Two Punks In Love"
          ],
          [
           "Let Me Down Slowly"
          ],
          [
           "In My Veins - Feat. Erin Mccarley"
          ],
          [
           "Are You Okay"
          ],
          [
           "Wasted Love"
          ],
          [
           "This Is Love"
          ],
          [
           "you were good to me"
          ],
          [
           "we'll be fine"
          ],
          [
           "Nervous - Acoustic"
          ],
          [
           "Take a Chance on Me"
          ],
          [
           "can you hear me?"
          ],
          [
           "Upset With Me"
          ],
          [
           "For You"
          ],
          [
           "Kiss Me Slowly"
          ],
          [
           "Cheap Wine"
          ],
          [
           "forever fifteen"
          ],
          [
           "Only Girl"
          ],
          [
           "Feeling Whitney"
          ],
          [
           "Runneth Over"
          ],
          [
           "Paper Hearts (feat. Bailey Jehl)"
          ],
          [
           "I Can't Make You Love Me"
          ],
          [
           "Call Your Girlfriend"
          ],
          [
           "Maple Whisky"
          ],
          [
           "Tell The World"
          ],
          [
           "Vertigo"
          ],
          [
           "My Town"
          ],
          [
           "Next To Me"
          ],
          [
           "What We Had"
          ],
          [
           "If the Sun Is Shining"
          ],
          [
           "Close Your Eyes"
          ],
          [
           "All Dressed In White"
          ],
          [
           "Summer Storms"
          ],
          [
           "Part of Me"
          ],
          [
           "Simple Song"
          ],
          [
           "Excited Eyes"
          ],
          [
           "Closing Time"
          ],
          [
           "A Drop In The Ocean"
          ],
          [
           "Human Becoming"
          ],
          [
           "October - Live"
          ],
          [
           "June, After Dark"
          ],
          [
           "With or Without You"
          ],
          [
           "How to Save a Life"
          ],
          [
           "Macaroni Song"
          ],
          [
           "The Daylight"
          ],
          [
           "If By Chance"
          ],
          [
           "Peaches"
          ],
          [
           "Waste My Time"
          ],
          [
           "deep the water"
          ],
          [
           "Come On Get Higher"
          ],
          [
           "You In My Life"
          ]
         ],
         "hovertemplate": "count=%{x}<br>energy=%{y}<br>trackName=%{customdata[0]}<br>color=%{marker.color}<extra></extra>",
         "legendgroup": "",
         "marker": {
          "color": [
           28,
           34,
           33,
           7,
           4,
           27,
           13,
           34,
           32,
           24,
           27,
           26,
           46,
           46,
           29,
           1,
           46,
           17,
           32,
           11,
           11,
           24,
           32,
           18,
           3,
           8,
           1,
           30,
           8,
           8,
           13,
           11,
           2,
           18,
           34,
           5,
           46,
           17,
           20,
           35,
           26,
           10,
           25,
           13,
           1,
           1,
           2,
           8,
           31,
           30,
           46,
           32,
           23,
           34,
           34,
           13,
           32,
           18,
           46,
           8,
           40,
           18,
           27,
           6,
           5,
           44,
           6,
           23,
           44,
           41,
           5,
           24,
           8,
           6,
           23,
           14,
           27,
           5,
           27,
           5,
           25,
           34,
           3,
           19,
           30,
           27,
           16,
           17,
           38,
           44,
           33,
           6,
           31,
           6,
           34,
           23,
           24,
           30,
           27,
           18,
           46,
           6,
           8,
           44,
           11,
           17,
           5,
           30,
           26,
           23,
           34,
           26,
           6,
           27,
           41,
           6,
           17,
           21,
           32,
           8,
           31,
           6,
           5,
           18,
           0,
           4,
           6,
           23,
           25,
           28,
           2,
           41,
           40,
           21,
           23,
           31,
           8,
           6,
           23,
           2,
           6,
           31,
           39,
           33,
           18,
           29,
           30,
           18,
           37,
           41,
           20,
           17,
           27,
           4,
           31,
           6,
           13,
           1,
           7,
           13,
           11,
           34,
           28,
           13,
           23,
           32,
           17,
           21,
           11,
           17,
           37,
           46,
           6,
           28,
           5,
           23,
           27,
           9,
           35,
           8,
           18,
           14,
           17,
           30,
           40,
           40,
           33,
           17,
           23,
           14,
           36,
           11,
           27,
           16,
           18,
           9,
           28,
           4,
           18,
           10,
           6,
           23,
           36,
           11,
           17,
           23,
           13,
           16,
           4,
           40,
           31,
           40,
           6,
           17,
           26,
           23,
           13,
           6,
           33,
           24,
           23,
           8,
           19,
           6,
           8,
           28,
           14,
           26,
           32,
           18,
           46,
           40,
           16,
           26,
           9,
           34,
           1,
           25,
           13,
           23,
           32,
           26,
           28,
           23,
           31,
           1,
           34,
           9,
           35,
           35,
           46,
           28,
           12,
           17,
           16,
           27,
           34,
           22,
           6,
           40,
           33,
           32,
           24,
           2,
           32,
           46,
           13,
           9,
           4,
           24,
           13,
           9,
           34,
           6,
           11,
           43,
           34,
           11,
           15,
           17,
           44,
           24,
           5,
           27,
           1,
           9,
           34,
           25,
           9,
           9,
           25,
           11,
           45,
           23,
           24,
           1,
           32,
           34,
           27,
           1,
           27,
           6,
           13,
           5,
           28,
           13,
           6,
           27,
           1,
           35,
           28,
           28,
           23,
           30,
           5,
           34,
           17,
           27,
           0,
           46,
           27,
           1,
           8,
           5,
           5,
           17,
           11,
           24,
           46,
           32,
           4,
           18,
           20,
           46,
           7,
           40,
           24,
           17,
           22,
           6,
           19,
           4,
           32,
           34,
           34,
           23,
           31,
           23,
           24,
           34,
           25,
           2,
           18,
           16,
           17,
           1,
           6,
           33,
           34,
           28,
           23,
           9,
           46,
           42,
           32,
           24,
           28,
           16,
           4,
           0,
           9,
           8,
           24,
           33,
           26,
           35,
           23,
           19,
           40,
           17,
           20,
           23,
           30,
           25,
           34,
           6,
           28,
           37,
           9,
           8,
           32,
           26,
           31,
           27,
           20,
           3,
           30,
           26,
           23,
           37,
           13,
           44,
           3,
           9,
           5,
           6,
           35,
           32,
           30,
           9,
           37,
           23,
           8,
           6,
           17,
           24,
           30,
           0,
           5,
           13,
           40,
           32,
           8,
           41,
           0,
           6,
           18,
           37,
           23,
           24,
           5,
           24,
           5,
           35,
           35,
           28,
           16,
           35,
           17,
           6,
           9,
           24,
           19,
           0,
           9,
           32,
           35,
           28,
           8,
           30,
           30,
           8,
           16,
           9,
           4,
           26,
           31,
           28,
           13,
           34,
           17,
           6,
           25,
           41,
           46,
           6,
           27,
           6,
           46,
           30,
           35,
           6,
           46,
           16,
           17,
           36
          ],
          "coloraxis": "coloraxis",
          "symbol": "circle"
         },
         "mode": "markers",
         "name": "",
         "orientation": "v",
         "showlegend": false,
         "type": "scatter",
         "x": [
          -0.336546028955816,
          -0.4444220624797004,
          2.2524787756174107,
          -0.821988179813296,
          -0.6601741295274692,
          -0.9298642133371804,
          -0.012917928384162681,
          -0.606236112765527,
          0.8500903398069127,
          -0.17473197866998932,
          -0.606236112765527,
          -0.12079396190804711,
          0.8500903398069127,
          1.0658424068546817,
          0.9579663733307971,
          0.3107101721874906,
          1.443408524188277,
          -0.12079396190804711,
          0.6343382727591439,
          3.385177127618197,
          2.6300448929510063,
          -0.6601741295274692,
          -0.606236112765527,
          2.144602742093526,
          0.14889612190166396,
          -0.7680501630513537,
          -0.3904840457177582,
          -0.7141121462894114,
          -0.9298642133371804,
          -0.821988179813296,
          1.389470507426335,
          2.5761068761890638,
          -0.9298642133371804,
          1.8209746415218728,
          -0.7141121462894114,
          -0.28260801219387377,
          3.277301094094313,
          -0.606236112765527,
          0.7961523230449705,
          -0.821988179813296,
          -0.6601741295274692,
          3.385177127618197,
          0.9040283565688549,
          -0.7141121462894114,
          -0.7680501630513537,
          1.2276564571405082,
          -0.7141121462894114,
          -0.5522980960035848,
          0.2028341386636062,
          -0.821988179813296,
          2.198540758855468,
          -0.4444220624797004,
          -0.5522980960035848,
          -0.4983600792416426,
          -0.821988179813296,
          -0.012917928384162681,
          -0.22866999543193153,
          1.8209746415218728,
          1.2815944739024505,
          -0.9298642133371804,
          -0.821988179813296,
          1.4973465409502194,
          -0.6601741295274692,
          -0.606236112765527,
          0.41858620571137506,
          1.3355324906643926,
          -0.9298642133371804,
          -0.3904840457177582,
          -0.7141121462894114,
          -0.5522980960035848,
          -0.7680501630513537,
          0.6882762895210861,
          -0.12079396190804711,
          -0.7141121462894114,
          -0.06685594514610489,
          -0.821988179813296,
          -0.6601741295274692,
          -0.4444220624797004,
          0.3107101721874906,
          -0.8759261965752382,
          0.14889612190166396,
          -0.6601741295274692,
          -0.5522980960035848,
          2.144602742093526,
          -0.9298642133371804,
          -0.5522980960035848,
          -0.4444220624797004,
          -0.7141121462894114,
          0.9040283565688549,
          0.14889612190166396,
          0.41858620571137506,
          0.14889612190166396,
          2.4682308426651796,
          0.3107101721874906,
          -0.9298642133371804,
          -0.821988179813296,
          1.8209746415218728,
          0.09495810513972175,
          -0.4983600792416426,
          0.6343382727591439,
          1.443408524188277,
          -0.9298642133371804,
          -0.4444220624797004,
          0.36464818894943285,
          2.4682308426651796,
          -0.22866999543193153,
          -0.17473197866998932,
          -0.4444220624797004,
          -0.5522980960035848,
          -0.3904840457177582,
          -0.17473197866998932,
          -0.821988179813296,
          -0.22866999543193153,
          -0.9298642133371804,
          -0.4983600792416426,
          -0.821988179813296,
          -0.336546028955816,
          -0.9298642133371804,
          0.09495810513972175,
          -0.9298642133371804,
          1.173718440378566,
          0.41858620571137506,
          0.6882762895210861,
          1.173718440378566,
          -0.7141121462894114,
          -0.28260801219387377,
          -0.7680501630513537,
          0.14889612190166396,
          0.7422143062830283,
          -0.821988179813296,
          -0.7680501630513537,
          -0.012917928384162681,
          1.173718440378566,
          -0.7680501630513537,
          -0.6601741295274692,
          0.9040283565688549,
          -0.28260801219387377,
          -0.8759261965752382,
          -0.606236112765527,
          -0.821988179813296,
          -0.9298642133371804,
          1.659160591236046,
          2.5221688594271217,
          -0.06685594514610489,
          0.14889612190166396,
          2.036726708569642,
          -0.5522980960035848,
          3.4930531611420816,
          -0.12079396190804711,
          0.14889612190166396,
          1.1197804236166238,
          0.09495810513972175,
          -0.8759261965752382,
          0.14889612190166396,
          1.659160591236046,
          -0.9298642133371804,
          -0.606236112765527,
          0.41858620571137506,
          -0.606236112765527,
          -0.22866999543193153,
          3.4930531611420816,
          -0.3904840457177582,
          -0.5522980960035848,
          0.6882762895210861,
          -0.606236112765527,
          0.5264622392352595,
          -0.821988179813296,
          -0.7141121462894114,
          3.600929194665966,
          -0.7141121462894114,
          -0.821988179813296,
          2.090664725331584,
          -0.821988179813296,
          -0.06685594514610489,
          -0.06685594514610489,
          0.3107101721874906,
          -0.7141121462894114,
          -0.606236112765527,
          -0.22866999543193153,
          -0.821988179813296,
          0.8500903398069127,
          0.09495810513972175,
          -0.7141121462894114,
          -0.336546028955816,
          -0.7141121462894114,
          -0.7680501630513537,
          2.090664725331584,
          -0.9298642133371804,
          0.09495810513972175,
          -0.9298642133371804,
          -0.6601741295274692,
          2.4682308426651796,
          0.14889612190166396,
          -0.9298642133371804,
          0.14889612190166396,
          -0.4444220624797004,
          -0.6601741295274692,
          0.09495810513972175,
          0.9040283565688549,
          2.2524787756174107,
          -0.8759261965752382,
          -0.9298642133371804,
          -0.606236112765527,
          3.061549027046544,
          -0.7680501630513537,
          -0.7141121462894114,
          -0.22866999543193153,
          -0.8759261965752382,
          -0.9298642133371804,
          -0.8759261965752382,
          0.7961523230449705,
          0.5804002559972017,
          -0.6601741295274692,
          1.389470507426335,
          -0.5522980960035848,
          -0.4983600792416426,
          0.09495810513972175,
          1.2815944739024505,
          0.7422143062830283,
          -0.4444220624797004,
          -0.7141121462894114,
          0.41858620571137506,
          3.439115144380139,
          -0.821988179813296,
          0.41858620571137506,
          -0.7141121462894114,
          -0.5522980960035848,
          -0.3904840457177582,
          -0.06685594514610489,
          1.443408524188277,
          1.4973465409502194,
          0.41858620571137506,
          -0.821988179813296,
          0.7961523230449705,
          -0.7141121462894114,
          -0.9298642133371804,
          -0.5522980960035848,
          -0.28260801219387377,
          -0.3904840457177582,
          -0.606236112765527,
          -0.4444220624797004,
          -0.9298642133371804,
          0.7961523230449705,
          -0.4444220624797004,
          1.2276564571405082,
          0.04102008837777953,
          -0.22866999543193153,
          0.6882762895210861,
          0.41858620571137506,
          -0.3904840457177582,
          1.4973465409502194,
          -0.8759261965752382,
          -0.8759261965752382,
          -0.06685594514610489,
          -0.8759261965752382,
          -0.7680501630513537,
          -0.6601741295274692,
          -0.17473197866998932,
          0.2028341386636062,
          -0.3904840457177582,
          -0.8759261965752382,
          -0.8759261965752382,
          -0.5522980960035848,
          -0.7680501630513537,
          0.7961523230449705,
          1.4973465409502194,
          -0.3904840457177582,
          0.36464818894943285,
          -0.336546028955816,
          0.14889612190166396,
          -0.22866999543193153,
          1.389470507426335,
          -0.8759261965752382,
          -0.336546028955816,
          2.414292825903237,
          -0.4444220624797004,
          -0.22866999543193153,
          3.7627432449517926,
          -0.5522980960035848,
          -0.7141121462894114,
          1.9288506750457572,
          -0.3904840457177582,
          -0.7680501630513537,
          -0.4983600792416426,
          0.7422143062830283,
          -0.8759261965752382,
          -0.012917928384162681,
          0.2028341386636062,
          1.1197804236166238,
          -0.7141121462894114,
          -0.12079396190804711,
          1.6052225744741038,
          -0.7141121462894114,
          0.2567721554255484,
          -0.28260801219387377,
          -0.28260801219387377,
          -0.12079396190804711,
          0.3107101721874906,
          -0.7141121462894114,
          0.6882762895210861,
          -0.4983600792416426,
          -0.3904840457177582,
          0.2028341386636062,
          -0.22866999543193153,
          -0.606236112765527,
          0.2028341386636062,
          0.7422143062830283,
          -0.7141121462894114,
          0.36464818894943285,
          1.3355324906643926,
          -0.8759261965752382,
          -0.4983600792416426,
          -0.9298642133371804,
          -0.7141121462894114,
          -0.7141121462894114,
          -0.821988179813296,
          -0.7141121462894114,
          0.47252422247331727,
          -0.4983600792416426,
          1.9288506750457572,
          -0.8759261965752382,
          0.7961523230449705,
          -0.9298642133371804,
          -0.17473197866998932,
          -0.8759261965752382,
          -0.821988179813296,
          3.5469911779040237,
          -0.7680501630513537,
          1.8749126582838151,
          0.41858620571137506,
          -0.7680501630513537,
          -0.22866999543193153,
          -0.4983600792416426,
          1.5512845577121617,
          -0.8759261965752382,
          -0.3904840457177582,
          1.659160591236046,
          -0.821988179813296,
          -0.9298642133371804,
          -0.9298642133371804,
          3.331239110856255,
          -0.606236112765527,
          0.5804002559972017,
          -0.606236112765527,
          -0.6601741295274692,
          0.14889612190166396,
          1.8749126582838151,
          -0.7141121462894114,
          -0.28260801219387377,
          -0.7680501630513537,
          -0.7680501630513537,
          0.8500903398069127,
          1.0119043900927394,
          -0.28260801219387377,
          -0.336546028955816,
          -0.4983600792416426,
          -0.821988179813296,
          0.41858620571137506,
          -0.336546028955816,
          -0.336546028955816,
          0.36464818894943285,
          -0.6601741295274692,
          1.2276564571405082,
          -0.012917928384162681,
          -0.22866999543193153,
          0.47252422247331727,
          -0.8759261965752382,
          -0.06685594514610489,
          -0.7141121462894114,
          -0.7141121462894114,
          0.04102008837777953,
          0.2567721554255484,
          -0.336546028955816,
          1.2276564571405082,
          -0.821988179813296,
          -0.8759261965752382,
          -0.9298642133371804,
          2.845796959998775,
          1.5512845577121617,
          -0.9298642133371804,
          -0.6601741295274692,
          -0.8759261965752382,
          -0.6601741295274692,
          -0.6601741295274692,
          -0.4983600792416426,
          -0.821988179813296,
          -0.6601741295274692,
          -0.821988179813296,
          -0.8759261965752382,
          -0.336546028955816,
          -0.606236112765527,
          -0.4444220624797004,
          1.659160591236046,
          0.2028341386636062,
          -0.8759261965752382,
          -0.606236112765527,
          -0.28260801219387377,
          0.2567721554255484,
          -0.12079396190804711,
          -0.7680501630513537,
          -0.6601741295274692,
          -0.7141121462894114,
          -0.821988179813296,
          -0.821988179813296,
          -0.7680501630513537,
          -0.8759261965752382,
          -0.8759261965752382,
          0.41858620571137506,
          0.7961523230449705,
          -0.9298642133371804,
          -0.9298642133371804,
          -0.821988179813296,
          0.04102008837777953,
          -0.5522980960035848,
          0.09495810513972175,
          1.1197804236166238,
          -0.7680501630513537,
          -0.336546028955816,
          0.2028341386636062,
          1.0658424068546817,
          -0.7680501630513537,
          -0.06685594514610489,
          0.04102008837777953,
          -0.9298642133371804,
          -0.17473197866998932,
          -0.606236112765527,
          1.389470507426335,
          -0.5522980960035848,
          -0.821988179813296,
          -0.8759261965752382,
          -0.17473197866998932,
          -0.821988179813296,
          0.3107101721874906,
          0.36464818894943285,
          0.36464818894943285,
          -0.8759261965752382,
          0.6343382727591439,
          -0.22866999543193153,
          -0.336546028955816,
          0.41858620571137506,
          -0.8759261965752382,
          0.6882762895210861,
          1.7670366247599307,
          -0.8759261965752382,
          0.7961523230449705,
          0.5264622392352595,
          -0.606236112765527,
          1.0119043900927394,
          -0.4983600792416426,
          -0.8759261965752382,
          -0.8759261965752382,
          -0.12079396190804711,
          -0.9298642133371804,
          -0.8759261965752382,
          -0.8759261965752382,
          -0.3904840457177582,
          0.3107101721874906,
          -0.6601741295274692,
          0.04102008837777953,
          -0.4983600792416426,
          -0.8759261965752382,
          0.8500903398069127,
          -0.12079396190804711,
          -0.3904840457177582,
          1.2815944739024505,
          -0.5522980960035848,
          -0.9298642133371804,
          -0.06685594514610489,
          1.3355324906643926,
          -0.6601741295274692,
          -0.7680501630513537,
          -0.8759261965752382,
          1.173718440378566,
          -0.7680501630513537,
          0.3107101721874906,
          -0.9298642133371804
         ],
         "xaxis": "x",
         "y": [
          -0.8017804840908814,
          -0.8845588598895063,
          -0.00808193966877183,
          1.579315149175447,
          -0.24667843461774974,
          0.094173701023647,
          0.04061122256571319,
          -0.334326126639823,
          1.671832157420969,
          1.4575822435892336,
          0.31816224730227904,
          0.7271848100719555,
          -0.6216157838232859,
          -0.7725645867501904,
          -0.334326126639823,
          -0.6557009973874256,
          -0.7530873218563962,
          1.5111447220471674,
          0.14773617948158083,
          -0.6800475785046682,
          0.6833609640609187,
          0.7564007074126466,
          0.011395325225022016,
          -1.3033200551060793,
          0.094173701023647,
          -0.7871725354205359,
          0.0016566927781252285,
          1.345587970449918,
          -1.4688768067033293,
          -1.0647235601571017,
          -0.37814997265085976,
          -0.4219738186618965,
          0.9657813050209328,
          -1.1182860386150355,
          -0.15416142637222768,
          -1.2741041577653884,
          -1.0160303979226164,
          1.589053781622344,
          0.473980366452632,
          -1.2400189442012488,
          0.5762360071450511,
          -0.9527292870177857,
          0.030872590118816132,
          -0.04703646945636006,
          0.6054519044857423,
          0.639537118049882,
          0.9463040401271388,
          -1.0988087737212415,
          -0.16876937504257328,
          1.253070962204396,
          -0.9575986032412342,
          -0.30024091307568357,
          -0.285632964405338,
          -0.4609283484494847,
          -0.40736586999155094,
          -0.14442279392533064,
          0.1818213930457205,
          -0.8602122787722637,
          -0.592399886482595,
          -0.6557009973874256,
          0.829440450764374,
          0.13799754703468375,
          -0.2077239048301615,
          1.2579402784278446,
          -0.46579766467293326,
          -1.327666636223322,
          2.275627369128586,
          0.13799754703468375,
          -0.14929211014877916,
          -0.39275792132120535,
          -1.2302803117543517,
          0.43502583666504374,
          -0.5777919378122495,
          2.1198092499782333,
          -0.9186440734536461,
          0.5616280584747055,
          0.15747481192847787,
          0.4398951528884923,
          0.045480538789161716,
          -0.3586727077570656,
          -0.4463203997791391,
          1.0923835268305946,
          0.06982711990640436,
          -1.6967608059607204,
          2.16363309598927,
          -0.37814997265085976,
          1.6474855763037264,
          1.30663344066233,
          1.5452299356113073,
          -1.4153143282453955,
          -0.39762723754465384,
          2.572655658758946,
          0.026003273895367603,
          0.3522474608664188,
          0.2451225039505514,
          -1.020899714146065,
          1.5111447220471674,
          0.5421507935809113,
          -0.6557009973874256,
          -0.6264851000467344,
          -1.2010644144136604,
          1.423497030025094,
          -0.6605703136108741,
          -1.1182860386150355,
          -1.572106310640438,
          1.2676789108747417,
          -0.7433486894094992,
          1.2482016459809475,
          1.4040197651312998,
          0.18669070926916906,
          -0.3148488617460289,
          0.7125768614016099,
          1.4478436111423367,
          0.6687530153905731,
          -0.7725645867501904,
          1.8519968576885646,
          1.5841844653988955,
          -1.4347915931391897,
          0.2938156661850367,
          -1.1523712521791751,
          -0.7482180056329477,
          2.1685024122127183,
          -0.7433486894094992,
          -0.22720116972395563,
          -1.529743259496436,
          -0.8699509112191608,
          1.744871900772697,
          -0.6362237324936315,
          -0.32458749419292593,
          -1.2741041577653884,
          1.8714741225823586,
          -1.3325359524467706,
          0.6784916478374702,
          -1.8749777797389362,
          -1.2351496279778003,
          -0.4024965537681024,
          -1.0695928763805502,
          0.829440450764374,
          -0.7287407407391535,
          0.050349855012610245,
          1.1946391675230137,
          -1.2108030468605575,
          -1.3081893713295278,
          -0.056775101903257116,
          -1.1280246710619326,
          -0.7774339029736388,
          1.1556846377354255,
          -0.9186440734536461,
          -0.0032126234453233003,
          0.42041788799469815,
          -0.6605703136108741,
          2.231803523117549,
          -0.6800475785046682,
          -0.19311595615981592,
          -1.113416722391587,
          0.7515313911891981,
          -0.5242294593543156,
          0.40580993932435255,
          1.3212413893326755,
          -0.4706669808963818,
          -0.2807636481818894,
          0.46424173400573493,
          -1.6037568660928536,
          0.2645997688443455,
          -0.4317124511087936,
          -0.6849168947281168,
          1.7205253196554542,
          -0.5631839891419038,
          -0.2564170670646468,
          0.5518894260278084,
          -1.3666211660109102,
          -0.6751782622812197,
          1.764349165666491,
          -0.8504736463253666,
          -1.529256327874091,
          -1.0793315088274473,
          -1.1523712521791751,
          0.13312823081123523,
          -0.6897862109515653,
          -0.6751782622812197,
          0.2256452390567573,
          -1.0598542439336531,
          1.5549685680582044,
          1.5062754058237189,
          1.496536773376822,
          0.3814633582071099,
          -0.32458749419292593,
          1.0729062619368004,
          -0.7482180056329477,
          -0.202854588606713,
          -1.5385080286986432,
          -0.2515477508411983,
          -0.08599099924394829,
          2.8550759997189608,
          -0.6605703136108741,
          -0.2807636481818894,
          -0.9575986032412342,
          0.4545031015588379,
          0.3279008797491761,
          -0.4755362971198303,
          0.483718998899529,
          0.08443506857674994,
          -1.3033200551060793,
          0.5178042124636687,
          2.2464114717878947,
          -0.34406475908672,
          0.0016566927781252285,
          2.3437977962568652,
          -0.4609283484494847,
          1.5744458329519984,
          0.03574190634226466,
          0.16721344437537494,
          0.8391790832112711,
          1.3894118164609544,
          0.5275428449105658,
          -0.9332520221239916,
          0.2256452390567573,
          1.345587970449918,
          -0.027559204562565946,
          0.8489177156581682,
          -0.45118971600258767,
          -1.3617518497874617,
          -1.420183644468844,
          0.08443506857674994,
          -0.9916838168053739,
          -1.3958370633516015,
          -0.8407350138784696,
          0.0600884874595073,
          0.050349855012610245,
          -0.26615569951154383,
          -0.6897862109515653,
          0.8099631858705799,
          1.3796731840140573,
          1.5647072005051013,
          1.345587970449918,
          0.29868498240848523,
          -0.06651373435015417,
          -1.3860984309047044,
          -0.4219738186618965,
          -0.3586727077570656,
          0.13312823081123523,
          2.368144377374108,
          -0.8699509112191608,
          -0.19311595615981592,
          0.04061122256571319,
          0.8830029292223078,
          0.21590660660986022,
          0.6638836991671246,
          -0.6897862109515653,
          -1.2838427902122855,
          -1.3081893713295278,
          -1.1961950981902119,
          0.4545031015588379,
          1.1215994241712857,
          0.20129865793951462,
          -0.12981484525498505,
          -0.13955347770188212,
          0.5372814773574629,
          2.4606613856196304,
          1.1167301079478373,
          -1.4299222769157411,
          0.1087816496939926,
          0.5518894260278084,
          1.4137583975781969,
          0.21590660660986022,
          -0.5875305702591465,
          -0.2564170670646468,
          0.5031962637933232,
          -0.04703646945636006,
          1.180031218852668,
          -0.42684313488534503,
          0.994997202361624,
          0.22077592283330874,
          0.9170881427864476,
          -0.7823032191970873,
          -0.09086031546739681,
          0.16234412815192642,
          -0.4365817673322421,
          -1.4737461229267779,
          0.994997202361624,
          -1.3666211660109102,
          0.31329293107883055,
          -1.288712106435734,
          -0.11033758036119093,
          0.43502583666504374,
          -0.4463203997791391,
          0.5811053233684996,
          -0.14442279392533064,
          -0.05190578567980859,
          -0.5339680918012126,
          -0.49501356201362445,
          -0.6557009973874256,
          2.0516388228499536,
          0.3230315635257276,
          1.1118607917243888,
          0.6638836991671246,
          -0.631354416270183,
          0.5421507935809113,
          -0.6557009973874256,
          0.055219171236058774,
          -0.09572963169084535,
          1.30663344066233,
          -0.8553429625488151,
          -0.50962151068397,
          -0.4219738186618965,
          -0.6118771513763889,
          1.6864401060913146,
          -0.49988287823707295,
          0.639537118049882,
          -0.8991668085598519,
          -0.9965531330288223,
          -1.833101660217279,
          -0.6070078351529403,
          2.5044852316306665,
          -0.16876937504257328,
          0.8440483994347197,
          2.1587637797658212,
          -0.022689888339117417,
          -1.7415585152164468,
          -1.3958370633516015,
          0.6590143829436761,
          0.42041788799469815,
          -0.6021385189294921,
          -1.0647235601571017,
          -0.8017804840908814,
          0.9316960914567931,
          -1.113416722391587,
          0.31816224730227904,
          -1.4493995418095353,
          0.011395325225022016,
          -0.8504736463253666,
          -0.4219738186618965,
          0.2256452390567573,
          -1.6904306948702372,
          1.3650652353437123,
          1.7692184818899395,
          0.5324121611340144,
          1.1946391675230137,
          1.8033036954540793,
          1.4721901922595793,
          -1.113416722391587,
          -0.6118771513763889,
          -0.5583146729184553,
          0.12338959836433817,
          0.030872590118816132,
          -0.09086031546739681,
          -0.40736586999155094,
          -0.1736386912660218,
          0.5859746395919482,
          0.04061122256571319,
          -0.27589433195844093,
          -0.49501356201362445,
          -1.2935814226591824,
          0.7953552372002344,
          0.6297984856029849,
          1.024213099702315,
          1.598792414069241,
          -0.16876937504257328,
          0.026003273895367603,
          -1.3812291146812559,
          -0.7530873218563962,
          -0.4901442457901759,
          -1.6344335583005791,
          0.176952076822272,
          0.094173701023647,
          -0.017820572115668887,
          -1.5706455157734034,
          1.7789571143368366,
          -0.9722065519115799,
          -1.943391672678388,
          0.6346678018264335,
          -0.49988287823707295,
          0.8391790832112711,
          0.06495780368295583,
          -0.06651373435015417,
          -1.6057045925822326,
          -0.7628259543032933,
          -1.4883540715971233,
          0.8391790832112711,
          0.7515313911891981,
          1.0047358348085211,
          0.391201990654007,
          0.4301565204415952,
          -0.39275792132120535,
          -0.39762723754465384,
          1.27254822709819,
          -1.0598542439336531,
          -0.7530873218563962,
          -0.14442279392533064,
          -0.19798527238326444,
          0.2792077175146911,
          1.0826448943836975,
          -0.26615569951154383,
          0.050349855012610245,
          -0.03242852078601447,
          -1.6363812847899586,
          0.9901278861381755,
          0.20616797416296317,
          -0.4609283484494847,
          -0.061644418126705645,
          -0.06651373435015417,
          -1.3471439011171162,
          -1.215672363084006,
          1.0193437834788666,
          -0.8991668085598519,
          1.4381049786954396,
          -0.6557009973874256,
          0.4447644691119408,
          1.024213099702315,
          0.0600884874595073,
          -1.1475019359557266,
          0.3279008797491761,
          -0.908905441006749,
          1.671832157420969,
          1.0144744672554182,
          0.2938156661850367,
          0.9170881427864476,
          -1.6393028745240277,
          -0.9722065519115799,
          -0.3586727077570656,
          0.4788496826760805,
          -0.9770758681350283,
          -0.8796895436660578,
          -0.4414510835556906,
          -1.8194675747916231,
          1.4186277138016454,
          0.0600884874595073,
          -1.123155354838484,
          0.06982711990640436,
          0.44963378533538934,
          -0.8309963814315726,
          0.3376395121960732,
          -1.562367678193541,
          -1.3812291146812559,
          -1.3568825335640131,
          -0.9332520221239916,
          0.829440450764374,
          -0.8942974923364034,
          1.1556846377354255,
          1.9250366010402924,
          -1.2400189442012488,
          0.9803892536912784,
          -1.6363812847899586,
          -1.836023249951348,
          0.5908439558153966,
          0.29868498240848523,
          -1.2108030468605575,
          -1.5881750541778181,
          -0.7190021082922565,
          2.183110360883064,
          1.077775578160249,
          -0.12007621280808799,
          1.9055593361464984,
          0.7174461776250585,
          0.5129348962402203,
          0.5031962637933232,
          0.566497374698154,
          -0.845604330101918,
          0.055219171236058774,
          -0.017820572115668887,
          1.8179116441244247,
          1.837388909018219,
          -0.061644418126705645,
          -0.6118771513763889,
          -1.1523712521791751,
          1.4186277138016454,
          -0.5875305702591465,
          1.6426162600802778,
          -1.0598542439336531,
          0.8050938696471314,
          -0.6167464675998374,
          2.2366728393409976,
          -0.46579766467293326,
          0.6151905369326394,
          1.058298313266455,
          -0.9624679194646828
         ],
         "yaxis": "y"
        }
       ],
       "layout": {
        "coloraxis": {
         "colorbar": {
          "title": {
           "text": "color"
          }
         },
         "colorscale": [
          [
           0,
           "#0d0887"
          ],
          [
           0.1111111111111111,
           "#46039f"
          ],
          [
           0.2222222222222222,
           "#7201a8"
          ],
          [
           0.3333333333333333,
           "#9c179e"
          ],
          [
           0.4444444444444444,
           "#bd3786"
          ],
          [
           0.5555555555555556,
           "#d8576b"
          ],
          [
           0.6666666666666666,
           "#ed7953"
          ],
          [
           0.7777777777777778,
           "#fb9f3a"
          ],
          [
           0.8888888888888888,
           "#fdca26"
          ],
          [
           1,
           "#f0f921"
          ]
         ]
        },
        "legend": {
         "tracegroupgap": 0
        },
        "margin": {
         "t": 60
        },
        "template": {
         "data": {
          "bar": [
           {
            "error_x": {
             "color": "#2a3f5f"
            },
            "error_y": {
             "color": "#2a3f5f"
            },
            "marker": {
             "line": {
              "color": "#E5ECF6",
              "width": 0.5
             },
             "pattern": {
              "fillmode": "overlay",
              "size": 10,
              "solidity": 0.2
             }
            },
            "type": "bar"
           }
          ],
          "barpolar": [
           {
            "marker": {
             "line": {
              "color": "#E5ECF6",
              "width": 0.5
             },
             "pattern": {
              "fillmode": "overlay",
              "size": 10,
              "solidity": 0.2
             }
            },
            "type": "barpolar"
           }
          ],
          "carpet": [
           {
            "aaxis": {
             "endlinecolor": "#2a3f5f",
             "gridcolor": "white",
             "linecolor": "white",
             "minorgridcolor": "white",
             "startlinecolor": "#2a3f5f"
            },
            "baxis": {
             "endlinecolor": "#2a3f5f",
             "gridcolor": "white",
             "linecolor": "white",
             "minorgridcolor": "white",
             "startlinecolor": "#2a3f5f"
            },
            "type": "carpet"
           }
          ],
          "choropleth": [
           {
            "colorbar": {
             "outlinewidth": 0,
             "ticks": ""
            },
            "type": "choropleth"
           }
          ],
          "contour": [
           {
            "colorbar": {
             "outlinewidth": 0,
             "ticks": ""
            },
            "colorscale": [
             [
              0,
              "#0d0887"
             ],
             [
              0.1111111111111111,
              "#46039f"
             ],
             [
              0.2222222222222222,
              "#7201a8"
             ],
             [
              0.3333333333333333,
              "#9c179e"
             ],
             [
              0.4444444444444444,
              "#bd3786"
             ],
             [
              0.5555555555555556,
              "#d8576b"
             ],
             [
              0.6666666666666666,
              "#ed7953"
             ],
             [
              0.7777777777777778,
              "#fb9f3a"
             ],
             [
              0.8888888888888888,
              "#fdca26"
             ],
             [
              1,
              "#f0f921"
             ]
            ],
            "type": "contour"
           }
          ],
          "contourcarpet": [
           {
            "colorbar": {
             "outlinewidth": 0,
             "ticks": ""
            },
            "type": "contourcarpet"
           }
          ],
          "heatmap": [
           {
            "colorbar": {
             "outlinewidth": 0,
             "ticks": ""
            },
            "colorscale": [
             [
              0,
              "#0d0887"
             ],
             [
              0.1111111111111111,
              "#46039f"
             ],
             [
              0.2222222222222222,
              "#7201a8"
             ],
             [
              0.3333333333333333,
              "#9c179e"
             ],
             [
              0.4444444444444444,
              "#bd3786"
             ],
             [
              0.5555555555555556,
              "#d8576b"
             ],
             [
              0.6666666666666666,
              "#ed7953"
             ],
             [
              0.7777777777777778,
              "#fb9f3a"
             ],
             [
              0.8888888888888888,
              "#fdca26"
             ],
             [
              1,
              "#f0f921"
             ]
            ],
            "type": "heatmap"
           }
          ],
          "heatmapgl": [
           {
            "colorbar": {
             "outlinewidth": 0,
             "ticks": ""
            },
            "colorscale": [
             [
              0,
              "#0d0887"
             ],
             [
              0.1111111111111111,
              "#46039f"
             ],
             [
              0.2222222222222222,
              "#7201a8"
             ],
             [
              0.3333333333333333,
              "#9c179e"
             ],
             [
              0.4444444444444444,
              "#bd3786"
             ],
             [
              0.5555555555555556,
              "#d8576b"
             ],
             [
              0.6666666666666666,
              "#ed7953"
             ],
             [
              0.7777777777777778,
              "#fb9f3a"
             ],
             [
              0.8888888888888888,
              "#fdca26"
             ],
             [
              1,
              "#f0f921"
             ]
            ],
            "type": "heatmapgl"
           }
          ],
          "histogram": [
           {
            "marker": {
             "pattern": {
              "fillmode": "overlay",
              "size": 10,
              "solidity": 0.2
             }
            },
            "type": "histogram"
           }
          ],
          "histogram2d": [
           {
            "colorbar": {
             "outlinewidth": 0,
             "ticks": ""
            },
            "colorscale": [
             [
              0,
              "#0d0887"
             ],
             [
              0.1111111111111111,
              "#46039f"
             ],
             [
              0.2222222222222222,
              "#7201a8"
             ],
             [
              0.3333333333333333,
              "#9c179e"
             ],
             [
              0.4444444444444444,
              "#bd3786"
             ],
             [
              0.5555555555555556,
              "#d8576b"
             ],
             [
              0.6666666666666666,
              "#ed7953"
             ],
             [
              0.7777777777777778,
              "#fb9f3a"
             ],
             [
              0.8888888888888888,
              "#fdca26"
             ],
             [
              1,
              "#f0f921"
             ]
            ],
            "type": "histogram2d"
           }
          ],
          "histogram2dcontour": [
           {
            "colorbar": {
             "outlinewidth": 0,
             "ticks": ""
            },
            "colorscale": [
             [
              0,
              "#0d0887"
             ],
             [
              0.1111111111111111,
              "#46039f"
             ],
             [
              0.2222222222222222,
              "#7201a8"
             ],
             [
              0.3333333333333333,
              "#9c179e"
             ],
             [
              0.4444444444444444,
              "#bd3786"
             ],
             [
              0.5555555555555556,
              "#d8576b"
             ],
             [
              0.6666666666666666,
              "#ed7953"
             ],
             [
              0.7777777777777778,
              "#fb9f3a"
             ],
             [
              0.8888888888888888,
              "#fdca26"
             ],
             [
              1,
              "#f0f921"
             ]
            ],
            "type": "histogram2dcontour"
           }
          ],
          "mesh3d": [
           {
            "colorbar": {
             "outlinewidth": 0,
             "ticks": ""
            },
            "type": "mesh3d"
           }
          ],
          "parcoords": [
           {
            "line": {
             "colorbar": {
              "outlinewidth": 0,
              "ticks": ""
             }
            },
            "type": "parcoords"
           }
          ],
          "pie": [
           {
            "automargin": true,
            "type": "pie"
           }
          ],
          "scatter": [
           {
            "fillpattern": {
             "fillmode": "overlay",
             "size": 10,
             "solidity": 0.2
            },
            "type": "scatter"
           }
          ],
          "scatter3d": [
           {
            "line": {
             "colorbar": {
              "outlinewidth": 0,
              "ticks": ""
             }
            },
            "marker": {
             "colorbar": {
              "outlinewidth": 0,
              "ticks": ""
             }
            },
            "type": "scatter3d"
           }
          ],
          "scattercarpet": [
           {
            "marker": {
             "colorbar": {
              "outlinewidth": 0,
              "ticks": ""
             }
            },
            "type": "scattercarpet"
           }
          ],
          "scattergeo": [
           {
            "marker": {
             "colorbar": {
              "outlinewidth": 0,
              "ticks": ""
             }
            },
            "type": "scattergeo"
           }
          ],
          "scattergl": [
           {
            "marker": {
             "colorbar": {
              "outlinewidth": 0,
              "ticks": ""
             }
            },
            "type": "scattergl"
           }
          ],
          "scattermapbox": [
           {
            "marker": {
             "colorbar": {
              "outlinewidth": 0,
              "ticks": ""
             }
            },
            "type": "scattermapbox"
           }
          ],
          "scatterpolar": [
           {
            "marker": {
             "colorbar": {
              "outlinewidth": 0,
              "ticks": ""
             }
            },
            "type": "scatterpolar"
           }
          ],
          "scatterpolargl": [
           {
            "marker": {
             "colorbar": {
              "outlinewidth": 0,
              "ticks": ""
             }
            },
            "type": "scatterpolargl"
           }
          ],
          "scatterternary": [
           {
            "marker": {
             "colorbar": {
              "outlinewidth": 0,
              "ticks": ""
             }
            },
            "type": "scatterternary"
           }
          ],
          "surface": [
           {
            "colorbar": {
             "outlinewidth": 0,
             "ticks": ""
            },
            "colorscale": [
             [
              0,
              "#0d0887"
             ],
             [
              0.1111111111111111,
              "#46039f"
             ],
             [
              0.2222222222222222,
              "#7201a8"
             ],
             [
              0.3333333333333333,
              "#9c179e"
             ],
             [
              0.4444444444444444,
              "#bd3786"
             ],
             [
              0.5555555555555556,
              "#d8576b"
             ],
             [
              0.6666666666666666,
              "#ed7953"
             ],
             [
              0.7777777777777778,
              "#fb9f3a"
             ],
             [
              0.8888888888888888,
              "#fdca26"
             ],
             [
              1,
              "#f0f921"
             ]
            ],
            "type": "surface"
           }
          ],
          "table": [
           {
            "cells": {
             "fill": {
              "color": "#EBF0F8"
             },
             "line": {
              "color": "white"
             }
            },
            "header": {
             "fill": {
              "color": "#C8D4E3"
             },
             "line": {
              "color": "white"
             }
            },
            "type": "table"
           }
          ]
         },
         "layout": {
          "annotationdefaults": {
           "arrowcolor": "#2a3f5f",
           "arrowhead": 0,
           "arrowwidth": 1
          },
          "autotypenumbers": "strict",
          "coloraxis": {
           "colorbar": {
            "outlinewidth": 0,
            "ticks": ""
           }
          },
          "colorscale": {
           "diverging": [
            [
             0,
             "#8e0152"
            ],
            [
             0.1,
             "#c51b7d"
            ],
            [
             0.2,
             "#de77ae"
            ],
            [
             0.3,
             "#f1b6da"
            ],
            [
             0.4,
             "#fde0ef"
            ],
            [
             0.5,
             "#f7f7f7"
            ],
            [
             0.6,
             "#e6f5d0"
            ],
            [
             0.7,
             "#b8e186"
            ],
            [
             0.8,
             "#7fbc41"
            ],
            [
             0.9,
             "#4d9221"
            ],
            [
             1,
             "#276419"
            ]
           ],
           "sequential": [
            [
             0,
             "#0d0887"
            ],
            [
             0.1111111111111111,
             "#46039f"
            ],
            [
             0.2222222222222222,
             "#7201a8"
            ],
            [
             0.3333333333333333,
             "#9c179e"
            ],
            [
             0.4444444444444444,
             "#bd3786"
            ],
            [
             0.5555555555555556,
             "#d8576b"
            ],
            [
             0.6666666666666666,
             "#ed7953"
            ],
            [
             0.7777777777777778,
             "#fb9f3a"
            ],
            [
             0.8888888888888888,
             "#fdca26"
            ],
            [
             1,
             "#f0f921"
            ]
           ],
           "sequentialminus": [
            [
             0,
             "#0d0887"
            ],
            [
             0.1111111111111111,
             "#46039f"
            ],
            [
             0.2222222222222222,
             "#7201a8"
            ],
            [
             0.3333333333333333,
             "#9c179e"
            ],
            [
             0.4444444444444444,
             "#bd3786"
            ],
            [
             0.5555555555555556,
             "#d8576b"
            ],
            [
             0.6666666666666666,
             "#ed7953"
            ],
            [
             0.7777777777777778,
             "#fb9f3a"
            ],
            [
             0.8888888888888888,
             "#fdca26"
            ],
            [
             1,
             "#f0f921"
            ]
           ]
          },
          "colorway": [
           "#636efa",
           "#EF553B",
           "#00cc96",
           "#ab63fa",
           "#FFA15A",
           "#19d3f3",
           "#FF6692",
           "#B6E880",
           "#FF97FF",
           "#FECB52"
          ],
          "font": {
           "color": "#2a3f5f"
          },
          "geo": {
           "bgcolor": "white",
           "lakecolor": "white",
           "landcolor": "#E5ECF6",
           "showlakes": true,
           "showland": true,
           "subunitcolor": "white"
          },
          "hoverlabel": {
           "align": "left"
          },
          "hovermode": "closest",
          "mapbox": {
           "style": "light"
          },
          "paper_bgcolor": "white",
          "plot_bgcolor": "#E5ECF6",
          "polar": {
           "angularaxis": {
            "gridcolor": "white",
            "linecolor": "white",
            "ticks": ""
           },
           "bgcolor": "#E5ECF6",
           "radialaxis": {
            "gridcolor": "white",
            "linecolor": "white",
            "ticks": ""
           }
          },
          "scene": {
           "xaxis": {
            "backgroundcolor": "#E5ECF6",
            "gridcolor": "white",
            "gridwidth": 2,
            "linecolor": "white",
            "showbackground": true,
            "ticks": "",
            "zerolinecolor": "white"
           },
           "yaxis": {
            "backgroundcolor": "#E5ECF6",
            "gridcolor": "white",
            "gridwidth": 2,
            "linecolor": "white",
            "showbackground": true,
            "ticks": "",
            "zerolinecolor": "white"
           },
           "zaxis": {
            "backgroundcolor": "#E5ECF6",
            "gridcolor": "white",
            "gridwidth": 2,
            "linecolor": "white",
            "showbackground": true,
            "ticks": "",
            "zerolinecolor": "white"
           }
          },
          "shapedefaults": {
           "line": {
            "color": "#2a3f5f"
           }
          },
          "ternary": {
           "aaxis": {
            "gridcolor": "white",
            "linecolor": "white",
            "ticks": ""
           },
           "baxis": {
            "gridcolor": "white",
            "linecolor": "white",
            "ticks": ""
           },
           "bgcolor": "#E5ECF6",
           "caxis": {
            "gridcolor": "white",
            "linecolor": "white",
            "ticks": ""
           }
          },
          "title": {
           "x": 0.05
          },
          "xaxis": {
           "automargin": true,
           "gridcolor": "white",
           "linecolor": "white",
           "ticks": "",
           "title": {
            "standoff": 15
           },
           "zerolinecolor": "white",
           "zerolinewidth": 2
          },
          "yaxis": {
           "automargin": true,
           "gridcolor": "white",
           "linecolor": "white",
           "ticks": "",
           "title": {
            "standoff": 15
           },
           "zerolinecolor": "white",
           "zerolinewidth": 2
          }
         }
        },
        "xaxis": {
         "anchor": "y",
         "domain": [
          0,
          1
         ],
         "title": {
          "text": "count"
         }
        },
        "yaxis": {
         "anchor": "x",
         "domain": [
          0,
          1
         ],
         "title": {
          "text": "energy"
         }
        }
       }
      }
     },
     "metadata": {},
     "output_type": "display_data"
    }
   ],
   "source": [
    "cluster = KMeans(n_clusters=cluster_df.shape[0] // 10).fit_predict(cluster_df)\n",
    "cluster_w_labels = cluster_df.reset_index()\n",
    "cluster_w_labels['color'] = cluster\n",
    "px.scatter(cluster_w_labels, x='count', y='energy', color='color', hover_data='trackName')"
   ]
  },
  {
   "cell_type": "code",
   "execution_count": 266,
   "metadata": {},
   "outputs": [
    {
     "data": {
      "application/vnd.plotly.v1+json": {
       "config": {
        "plotlyServerURL": "https://plot.ly"
       },
       "data": [
        {
         "customdata": [
          [
           "I Wish"
          ],
          [
           "friendship?"
          ],
          [
           "Sorry That I Do That"
          ],
          [
           "One Day"
          ],
          [
           "Complicated"
          ],
          [
           "Astronaut Kids"
          ],
          [
           "We Could Be Anything (Black & White)"
          ],
          [
           "Only Everything - Acoustic"
          ],
          [
           "Singing in the Rain"
          ],
          [
           "About the Rain"
          ],
          [
           "if i were a friend"
          ],
          [
           "Tsunami"
          ],
          [
           "Everyone’s Got Something"
          ],
          [
           "Different Eyes"
          ],
          [
           "Dirt"
          ],
          [
           "Have We Met Before (with Eric Nam)"
          ],
          [
           "Miles Apart"
          ],
          [
           "Jericho"
          ],
          [
           "Hailey"
          ],
          [
           "Pancakes for Dinner"
          ],
          [
           "Chosen Last"
          ],
          [
           "Half Gone"
          ],
          [
           "I Met Sarah in the Bathroom"
          ],
          [
           "Last Time"
          ],
          [
           "The Corner Dwellers"
          ],
          [
           "Either You Love Me Or You Don't - Live Acoustic"
          ],
          [
           "Marigold"
          ],
          [
           "Older"
          ],
          [
           "America"
          ],
          [
           "Out of Love"
          ],
          [
           "Dancing With Your Ghost"
          ],
          [
           "Back to Friends"
          ],
          [
           "fools (can't help falling in love)"
          ],
          [
           "i luv him."
          ],
          [
           "Things You Can't Change"
          ],
          [
           "Blue"
          ],
          [
           "Seasons Change"
          ],
          [
           "Keep Me Up"
          ],
          [
           "CLEAR"
          ],
          [
           "Love Like This - Acoustic"
          ],
          [
           "All This Love"
          ],
          [
           "Yellow Lights"
          ],
          [
           "From Afar"
          ],
          [
           "River of Grace"
          ],
          [
           "Helium"
          ],
          [
           "Medicine"
          ],
          [
           "My Person"
          ],
          [
           "Disarray"
          ],
          [
           "Terrible Things - EP Version"
          ],
          [
           "blind"
          ],
          [
           "Wilderness"
          ],
          [
           "One Day"
          ],
          [
           "You Said You'd Grow Old With Me"
          ],
          [
           "Better Together"
          ],
          [
           "Dwelling Place"
          ],
          [
           "Always Be Loving You"
          ],
          [
           "Hold On"
          ],
          [
           "Give It All"
          ],
          [
           "Tragedy Is Not the End"
          ],
          [
           "I Don't Mind"
          ],
          [
           "Good Without"
          ],
          [
           "Murakami"
          ],
          [
           "The Village"
          ],
          [
           "Beautiful Disaster"
          ],
          [
           "stuck in my head"
          ],
          [
           "Tears Come From The Heart"
          ],
          [
           "Echo (with KSHMR)"
          ],
          [
           "2 Am"
          ],
          [
           "This is Love - Interlude"
          ],
          [
           "Sing of the Moon"
          ],
          [
           "Somewhere in Ann Arbor"
          ],
          [
           "Tears"
          ],
          [
           "Beautiful"
          ],
          [
           "I Feel Good About This"
          ],
          [
           "Bulletproof Weeks"
          ],
          [
           "Wasted Time"
          ],
          [
           "Photographs & Memories."
          ],
          [
           "Home"
          ],
          [
           "Heaven's Not Too Far"
          ],
          [
           "Song for a Girl"
          ],
          [
           "Pollen And Salt"
          ],
          [
           "Wherever We Are"
          ],
          [
           "Lie About You"
          ],
          [
           "By Your Side"
          ],
          [
           "Slow Dance (feat. Ava Max) - Sam Feldt Remix"
          ],
          [
           "Sweet Love"
          ],
          [
           "Nineteen"
          ],
          [
           "Love Like That"
          ],
          [
           "Mess Is Mine"
          ],
          [
           "Ivory Fields"
          ],
          [
           "Afterglow"
          ],
          [
           "Brand New"
          ],
          [
           "All I Want"
          ],
          [
           "Poetry"
          ],
          [
           "Here for the First Time"
          ],
          [
           "Machine"
          ],
          [
           "Forever And Always"
          ],
          [
           "In the Eye"
          ],
          [
           "Summer's Gone"
          ],
          [
           "Fear of Fear"
          ],
          [
           "Beautiful World"
          ],
          [
           "Gunslinger"
          ],
          [
           "Countdowns"
          ],
          [
           "Things That I Miss"
          ],
          [
           "Please Never Fall in Love Again"
          ],
          [
           "What If I Love You"
          ],
          [
           "The Way That I Love You (Single Version)"
          ],
          [
           "Wild Child"
          ],
          [
           "Mr Loverman (feat. chloe moriondo)"
          ],
          [
           "Wildflower"
          ],
          [
           "Hey Lady"
          ],
          [
           "Breakups"
          ],
          [
           "Till I Found You"
          ],
          [
           "23"
          ],
          [
           "Iris"
          ],
          [
           "Falling to Pieces"
          ],
          [
           "Hotel Ceiling"
          ],
          [
           "channel 67"
          ],
          [
           "Ho Hey"
          ],
          [
           "Means To A Mend"
          ],
          [
           "Silhouettes & Sand"
          ],
          [
           "I Lived"
          ],
          [
           "just like you - demo"
          ],
          [
           "i don't want to watch the world end with someone else"
          ],
          [
           "Four Tequilas Down"
          ],
          [
           "Love Worth Saving"
          ],
          [
           "Hard To Say Goodbye (feat. Chloe Angelides)"
          ],
          [
           "Gravity"
          ],
          [
           "All of Your Colours"
          ],
          [
           "Palo Alto"
          ],
          [
           "Lovely"
          ],
          [
           "Anything to Make You Stay - Acoustic"
          ],
          [
           "Gone"
          ],
          [
           "YOU"
          ],
          [
           "Fix You"
          ],
          [
           "Close To You"
          ],
          [
           "Lost My Mind (Acoustic)"
          ],
          [
           "stay"
          ],
          [
           "Flicker"
          ],
          [
           "Sad Forever"
          ],
          [
           "Swim"
          ],
          [
           "Five Foot Three"
          ],
          [
           "Sometimes"
          ],
          [
           "I Really Love Ya"
          ],
          [
           "Please Keep Loving Me - Acoustic"
          ],
          [
           "Mother Tongue"
          ],
          [
           "Bitch"
          ],
          [
           "Tuesdays"
          ],
          [
           "Hibiscus"
          ],
          [
           "Alone With My Thoughts"
          ],
          [
           "Old Eden"
          ],
          [
           "Saturday Sun"
          ],
          [
           "A Final Word"
          ],
          [
           "Malibu Nights"
          ],
          [
           "Favourite Ex"
          ],
          [
           "Quiet"
          ],
          [
           "Shaky Hands - Piano Version"
          ],
          [
           "already there"
          ],
          [
           "Cheating on U"
          ],
          [
           "House of Cards"
          ],
          [
           "Broken"
          ],
          [
           "You and I"
          ],
          [
           "When Someone Loves You"
          ],
          [
           "Rich Boy"
          ],
          [
           "Tiger Striped Sky"
          ],
          [
           "Never the 1"
          ],
          [
           "Moments in the Mountains"
          ],
          [
           "Fletcher Bay"
          ],
          [
           "Black & Blue"
          ],
          [
           "Winona Ryder"
          ],
          [
           "Without a Thought for My Heart"
          ],
          [
           "House"
          ],
          [
           "Something Beautiful"
          ],
          [
           "Wherever I May Go"
          ],
          [
           "The Best - Acoustic"
          ],
          [
           "Prom Queen"
          ],
          [
           "Best of Me (Acoustic)"
          ],
          [
           "Covered Up"
          ],
          [
           "With Love and Compassion"
          ],
          [
           "Out Of Love"
          ],
          [
           "30,000 Feet"
          ],
          [
           "Boats & Birds"
          ],
          [
           "Rock And Roll"
          ],
          [
           "1999"
          ],
          [
           "Corners"
          ],
          [
           "Naïve"
          ],
          [
           "She"
          ],
          [
           "Red Delicious"
          ],
          [
           "Fast Car"
          ],
          [
           "Slip"
          ],
          [
           "Strawberries"
          ],
          [
           "Reason To Stay"
          ],
          [
           "Use Somebody (Bonus Track)"
          ],
          [
           "Restless"
          ],
          [
           "No Right To Love You - Acoustic"
          ],
          [
           "I Put You First (& You Did Too)"
          ],
          [
           "Getting over You"
          ],
          [
           "Fly Away With Me"
          ],
          [
           "justacow (demo3)"
          ],
          [
           "IDK You Yet"
          ],
          [
           "Why We Try (feat. Chelsea Lankes)"
          ],
          [
           "Please Go Slowly"
          ],
          [
           "The Moon Song"
          ],
          [
           "Nothing Ever Changes"
          ],
          [
           "Love Drunk"
          ],
          [
           "Drown"
          ],
          [
           "Someday Soon - Single Version"
          ],
          [
           "Good Times"
          ],
          [
           "After Many Miles"
          ],
          [
           "RN"
          ],
          [
           "Dear No One (feat. Spencer Kane & Brooke)"
          ],
          [
           "broken - live from london, studio two"
          ],
          [
           "hopeless"
          ],
          [
           "You & Me"
          ],
          [
           "I Was Wrong"
          ],
          [
           "A Day Will Come"
          ],
          [
           "I’m So Happy"
          ],
          [
           "i wanna love somebody"
          ],
          [
           "i hope you love somebody - demo"
          ],
          [
           "Wait"
          ],
          [
           "Hand to Hold"
          ],
          [
           "Venice (Acoustic)"
          ],
          [
           "Hey It's Delilah"
          ],
          [
           "Dancing Shoes"
          ],
          [
           "New Start"
          ],
          [
           "all i need (the distance song)"
          ],
          [
           "Shelter"
          ],
          [
           "Nobody Opened The Door"
          ],
          [
           "Bloom - Bonus Track"
          ],
          [
           "Paper Planes"
          ],
          [
           "the author"
          ],
          [
           "Me Without You"
          ],
          [
           "Sticks & Stones"
          ],
          [
           "Ship in a Bottle"
          ],
          [
           "Silhouettes"
          ],
          [
           "I Give You The Best"
          ],
          [
           "Half Light"
          ],
          [
           "This Beautiful Life"
          ],
          [
           "This City Remix (feat. Anne-Marie)"
          ],
          [
           "We Will Dance"
          ],
          [
           "You"
          ],
          [
           "Make You Mine"
          ],
          [
           "Loved At All"
          ],
          [
           "The Rhine"
          ],
          [
           "Silhouette"
          ],
          [
           "The One"
          ],
          [
           "Who Cares (feat. Ben Bannister)"
          ],
          [
           "I Wish It Was Me"
          ],
          [
           "All of Me"
          ],
          [
           "Let You Break My Heart Again"
          ],
          [
           "Grow As We Go"
          ],
          [
           "To Have You Around"
          ],
          [
           "I Have A Hole In My Tooth (And My Dentist is Shut)"
          ],
          [
           "Teach Me to Dance"
          ],
          [
           "Expectations"
          ],
          [
           "Photograph"
          ],
          [
           "Better"
          ],
          [
           "Moon"
          ],
          [
           "Mr. Brightside"
          ],
          [
           "Something Just Like This"
          ],
          [
           "love addiction"
          ],
          [
           "Maybe I Do"
          ],
          [
           "The Mountain"
          ],
          [
           "Just You and I"
          ],
          [
           "Bedroom Ceiling"
          ],
          [
           "Twenty Two"
          ],
          [
           "In The Silence - Demo"
          ],
          [
           "Darkest Hour"
          ],
          [
           "Confidant"
          ],
          [
           "Forever Love"
          ],
          [
           "Need You Now - Acoustic"
          ],
          [
           "Slow Motion"
          ],
          [
           "Right Here (Acoustic)"
          ],
          [
           "Good Good Day"
          ],
          [
           "i (I'll always be there)"
          ],
          [
           "Stay"
          ],
          [
           "Never Stop (Wedding Version)"
          ],
          [
           "Is It Just Me?"
          ],
          [
           "Forever & Always"
          ],
          [
           "I Don't Even Care (Pick Me Up)"
          ],
          [
           "Superhero"
          ],
          [
           "7UP"
          ],
          [
           "Always Remember Me (feat. Sara Bareilles)"
          ],
          [
           "Waking Up"
          ],
          [
           "Light Year (feat. Lennon Stella)"
          ],
          [
           "Blue"
          ],
          [
           "Love & War in Your Twenties"
          ],
          [
           "Lift"
          ],
          [
           "Joshua Tree"
          ],
          [
           "If You're the Coffee"
          ],
          [
           "Paris, or Wherever We Are"
          ],
          [
           "Please Notice"
          ],
          [
           "Pierre"
          ],
          [
           "Lover"
          ],
          [
           "Walk Outside"
          ],
          [
           "Rhythm Of Love"
          ],
          [
           "Cringe - Stripped"
          ],
          [
           "Be Happy"
          ],
          [
           "Airplane"
          ],
          [
           "October"
          ],
          [
           "Not Yet"
          ],
          [
           "Pull the Cord"
          ],
          [
           "Last Time"
          ],
          [
           "My Love"
          ],
          [
           "can I call you back?"
          ],
          [
           "i don't wanna know - acoustic"
          ],
          [
           "Worth My While"
          ],
          [
           "Dust"
          ],
          [
           "Be Alright"
          ],
          [
           "Blvd"
          ],
          [
           "A Song for the Drunk and Broken Hearted"
          ],
          [
           "Black Coffee - Unplugged"
          ],
          [
           "Seasons (feat. Madilyn Paige)"
          ],
          [
           "Be Okay"
          ],
          [
           "Hey Siri"
          ],
          [
           "Undrunk"
          ],
          [
           "Adhd"
          ],
          [
           "This Town"
          ],
          [
           "Goodnight Baby"
          ],
          [
           "Burden"
          ],
          [
           "Shine (feat. Stoneman Douglas Drama) - Town Hall Version"
          ],
          [
           "Play Pretend"
          ],
          [
           "When The Darkness Comes"
          ],
          [
           "Spotless Mind"
          ],
          [
           "Subway Song"
          ],
          [
           "There's Something In The Water"
          ],
          [
           "Insanity"
          ],
          [
           "I Will Sing"
          ],
          [
           "That's Us"
          ],
          [
           "House With No Mirrors"
          ],
          [
           "Young Blood - Acoustic"
          ],
          [
           "Wanted Man"
          ],
          [
           "Jaiden"
          ],
          [
           "Suffocate"
          ],
          [
           "Summer Feelings (feat. Charlie Puth) - From 'SCOOB!' The Album"
          ],
          [
           "Boomerang"
          ],
          [
           "Work Off My Hurt"
          ],
          [
           "Lucky People"
          ],
          [
           "Tonight Belongs to You"
          ],
          [
           "Hey Ya!"
          ],
          [
           "323"
          ],
          [
           "Bittersweet Endings"
          ],
          [
           "Hey There Delilah"
          ],
          [
           "forget about us"
          ],
          [
           "freshman year"
          ],
          [
           "Not Today"
          ],
          [
           "Köln"
          ],
          [
           "Hold on to You (Acoustic)"
          ],
          [
           "Sad Song (feat. Elena Coats)"
          ],
          [
           "Sugar Coat"
          ],
          [
           "The Last Song On Earth"
          ],
          [
           "The Girl You Call Best Friend"
          ],
          [
           "Love Like This"
          ],
          [
           "As We Ran"
          ],
          [
           "Kids Again"
          ],
          [
           "Wherever You Go"
          ],
          [
           "Hypoxia"
          ],
          [
           "City of Angels"
          ],
          [
           "Sweetest Thing"
          ],
          [
           "Silence - Acoustic"
          ],
          [
           "Be Still"
          ],
          [
           "To Be Alone With You"
          ],
          [
           "Since Saturday"
          ],
          [
           "Behind the Light"
          ],
          [
           "Better"
          ],
          [
           "stones around the sun"
          ],
          [
           "I Will Wait - Candlelight Version"
          ],
          [
           "I Will Always Be Yours"
          ],
          [
           "This Is On You - Acoustic"
          ],
          [
           "drift/(:("
          ],
          [
           "Summer"
          ],
          [
           "I Won't Give Up"
          ],
          [
           "Best Part of Me"
          ],
          [
           "Next to You"
          ],
          [
           "Would Anyone Care"
          ],
          [
           "Broken"
          ],
          [
           "Love Endures All Things"
          ],
          [
           "Letter From Last Summer"
          ],
          [
           "Are you happy?"
          ],
          [
           "Burning Bridges - Sistek Remix"
          ],
          [
           "Strangers"
          ],
          [
           "Ocean"
          ],
          [
           "I Wish I Never Met You"
          ],
          [
           "Weeds"
          ],
          [
           "Far Too Good"
          ],
          [
           "Already Gone (feat. Emily Warren)"
          ],
          [
           "Whole - demo"
          ],
          [
           "Mirage"
          ],
          [
           "the stars"
          ],
          [
           "Never Stop"
          ],
          [
           "Shelter"
          ],
          [
           "Last Dance"
          ],
          [
           "Place We Were Made"
          ],
          [
           "Oceans Between Us"
          ],
          [
           "Wonderfully Made"
          ],
          [
           "fragile tears"
          ],
          [
           "Last One Standing"
          ],
          [
           "Perfect"
          ],
          [
           "Let It Go"
          ],
          [
           "Ocean - Stripped Acoustic"
          ],
          [
           "Beauty In The Breakdown (Acoustic)"
          ],
          [
           "letting you in"
          ],
          [
           "She Walks in Beauty"
          ],
          [
           "Monsters of the North"
          ],
          [
           "Headlights"
          ],
          [
           "This Promise"
          ],
          [
           "Say You Won't Let Go"
          ],
          [
           "Dancing In The Minefields"
          ],
          [
           "Would You Be So Kind"
          ],
          [
           "Tired"
          ],
          [
           "demons"
          ],
          [
           "Someone To Stay"
          ],
          [
           "Out Of Love with You"
          ],
          [
           "In the Unknown"
          ],
          [
           "Younger - Acoustic"
          ],
          [
           "Watching You"
          ],
          [
           "Always You"
          ],
          [
           "Air So Sweet"
          ],
          [
           "I Will Follow You into the Dark"
          ],
          [
           "This Could Be"
          ],
          [
           "tear myself apart"
          ],
          [
           "Cool Girl"
          ],
          [
           "Old Wounds"
          ],
          [
           "I Wish I Was the Moon"
          ],
          [
           "let go (demo)"
          ],
          [
           "UFO"
          ],
          [
           "Two Punks In Love"
          ],
          [
           "Let Me Down Slowly"
          ],
          [
           "In My Veins - Feat. Erin Mccarley"
          ],
          [
           "Are You Okay"
          ],
          [
           "Wasted Love"
          ],
          [
           "This Is Love"
          ],
          [
           "you were good to me"
          ],
          [
           "we'll be fine"
          ],
          [
           "Nervous - Acoustic"
          ],
          [
           "Take a Chance on Me"
          ],
          [
           "can you hear me?"
          ],
          [
           "Upset With Me"
          ],
          [
           "For You"
          ],
          [
           "Kiss Me Slowly"
          ],
          [
           "Cheap Wine"
          ],
          [
           "forever fifteen"
          ],
          [
           "Only Girl"
          ],
          [
           "Feeling Whitney"
          ],
          [
           "Runneth Over"
          ],
          [
           "Paper Hearts (feat. Bailey Jehl)"
          ],
          [
           "I Can't Make You Love Me"
          ],
          [
           "Call Your Girlfriend"
          ],
          [
           "Maple Whisky"
          ],
          [
           "Tell The World"
          ],
          [
           "Vertigo"
          ],
          [
           "My Town"
          ],
          [
           "Next To Me"
          ],
          [
           "What We Had"
          ],
          [
           "If the Sun Is Shining"
          ],
          [
           "Close Your Eyes"
          ],
          [
           "All Dressed In White"
          ],
          [
           "Summer Storms"
          ],
          [
           "Part of Me"
          ],
          [
           "Simple Song"
          ],
          [
           "Excited Eyes"
          ],
          [
           "Closing Time"
          ],
          [
           "A Drop In The Ocean"
          ],
          [
           "Human Becoming"
          ],
          [
           "October - Live"
          ],
          [
           "June, After Dark"
          ],
          [
           "With or Without You"
          ],
          [
           "How to Save a Life"
          ],
          [
           "Macaroni Song"
          ],
          [
           "The Daylight"
          ],
          [
           "If By Chance"
          ],
          [
           "Peaches"
          ],
          [
           "Waste My Time"
          ],
          [
           "deep the water"
          ],
          [
           "Come On Get Higher"
          ],
          [
           "You In My Life"
          ]
         ],
         "hovertemplate": "pc1=%{x}<br>pc2=%{y}<br>pc3=%{z}<br>trackName=%{customdata[0]}<br>color=%{marker.color}<extra></extra>",
         "legendgroup": "",
         "marker": {
          "color": [
           3,
           21,
           0,
           27,
           39,
           33,
           0,
           4,
           31,
           16,
           17,
           29,
           19,
           18,
           34,
           20,
           18,
           16,
           0,
           3,
           30,
           25,
           35,
           36,
           39,
           20,
           4,
           37,
           1,
           36,
           0,
           3,
           41,
           36,
           23,
           19,
           10,
           41,
           11,
           10,
           29,
           34,
           33,
           39,
           29,
           29,
           41,
           1,
           43,
           37,
           10,
           23,
           17,
           23,
           21,
           30,
           31,
           18,
           18,
           22,
           46,
           31,
           31,
           32,
           18,
           19,
           2,
           33,
           17,
           33,
           3,
           31,
           20,
           2,
           18,
           4,
           33,
           17,
           33,
           17,
           7,
           6,
           30,
           40,
           25,
           15,
           44,
           16,
           14,
           10,
           30,
           2,
           43,
           5,
           23,
           7,
           16,
           41,
           39,
           20,
           18,
           5,
           7,
           28,
           19,
           41,
           36,
           25,
           29,
           15,
           23,
           15,
           32,
           30,
           18,
           44,
           6,
           9,
           21,
           1,
           22,
           44,
           3,
           20,
           19,
           35,
           2,
           22,
           7,
           36,
           46,
           28,
           5,
           9,
           10,
           14,
           3,
           5,
           17,
           12,
           16,
           1,
           24,
           0,
           20,
           34,
           12,
           20,
           35,
           14,
           7,
           6,
           31,
           35,
           22,
           29,
           0,
           31,
           37,
           17,
           18,
           23,
           36,
           21,
           18,
           35,
           6,
           38,
           21,
           6,
           8,
           22,
           5,
           28,
           3,
           18,
           28,
           4,
           28,
           7,
           14,
           24,
           16,
           25,
           25,
           41,
           33,
           16,
           18,
           26,
           19,
           3,
           17,
           44,
           20,
           23,
           36,
           30,
           26,
           1,
           5,
           31,
           28,
           31,
           42,
           15,
           17,
           44,
           45,
           6,
           14,
           30,
           16,
           16,
           5,
           7,
           39,
           29,
           0,
           16,
           31,
           18,
           40,
           29,
           43,
           19,
           24,
           15,
           21,
           20,
           10,
           27,
           46,
           32,
           16,
           30,
           31,
           28,
           0,
           7,
           21,
           2,
           3,
           15,
           7,
           15,
           4,
           41,
           17,
           10,
           28,
           19,
           13,
           46,
           25,
           17,
           4,
           16,
           32,
           16,
           39,
           30,
           29,
           41,
           31,
           7,
           0,
           14,
           0,
           5,
           17,
           4,
           23,
           29,
           36,
           12,
           4,
           35,
           9,
           6,
           19,
           29,
           3,
           39,
           14,
           36,
           16,
           39,
           23,
           23,
           17,
           36,
           46,
           15,
           5,
           25,
           21,
           0,
           31,
           31,
           39,
           29,
           17,
           17,
           21,
           21,
           29,
           17,
           31,
           7,
           18,
           8,
           7,
           42,
           21,
           6,
           42,
           17,
           19,
           40,
           30,
           31,
           43,
           36,
           21,
           41,
           18,
           33,
           10,
           21,
           35,
           4,
           11,
           19,
           41,
           37,
           5,
           6,
           42,
           32,
           36,
           35,
           3,
           21,
           23,
           33,
           22,
           31,
           5,
           23,
           17,
           45,
           36,
           5,
           6,
           29,
           32,
           0,
           0,
           18,
           18,
           20,
           1,
           20,
           31,
           30,
           3,
           2,
           35,
           8,
           4,
           22,
           16,
           33,
           29,
           28,
           17,
           40,
           23,
           6,
           11,
           31,
           41,
           39,
           35,
           15,
           3,
           21,
           21,
           43,
           30,
           32,
           22,
           33,
           11,
           19,
           12,
           5,
           18,
           21,
           30,
           28,
           28,
           25,
           35,
           5,
           1,
           31,
           37,
           4,
           35,
           15,
           18,
           32,
           6,
           30,
           25,
           24,
           3,
           17,
           16,
           36,
           22,
           18,
           40,
           16,
           4,
           36,
           15,
           5,
           18,
           16,
           19,
           28,
           28,
           3,
           25,
           17,
           6,
           2,
           3,
           16,
           40,
           8,
           0,
           0,
           10,
           19,
           20,
           42,
           25,
           20,
           44,
           29,
           0,
           31,
           4,
           3,
           30,
           0,
           42,
           44,
           17,
           18,
           10,
           16,
           17,
           44,
           18,
           25,
           33,
           32,
           18,
           5,
           6,
           3
          ],
          "coloraxis": "coloraxis",
          "symbol": "circle"
         },
         "mode": "markers",
         "name": "",
         "scene": "scene",
         "showlegend": false,
         "type": "scatter3d",
         "x": [
          0.8825564238673628,
          0.4611052463203644,
          -0.9007700716507125,
          -2.701514834329672,
          0.4785424135254074,
          0.33302670942770346,
          -0.3380655967544109,
          0.026651836779261678,
          -0.6246944922048404,
          -1.5878912056441596,
          0.2411031454201059,
          -0.6776463640699499,
          1.749235228979727,
          1.8571635574731589,
          2.8296004481175747,
          0.9851482279066535,
          1.9128453568272226,
          -2.146585352093663,
          0.07049339641034669,
          1.0793529437737681,
          -0.2857802826147956,
          -2.084690830440187,
          0.10861909232852364,
          1.951878714168808,
          0.09803521314322063,
          1.2638045422338975,
          -0.23017975539105212,
          -3.0032645793221526,
          2.157482885288363,
          2.293223043664797,
          0.16875232639286178,
          1.0066667019580486,
          -2.523362940947862,
          0.9732522442377117,
          -0.9691899067643052,
          2.0194244324414807,
          3.192096363068632,
          -3.2003548044368477,
          0.0442468228886913,
          2.5163369710258405,
          -1.2908248088894552,
          3.0509943413937677,
          0.5171053863153265,
          0.1321464906747509,
          -1.4094655742993327,
          -0.2556017255549056,
          -1.9408550712100832,
          2.2583111253163217,
          0.9442389405002287,
          -2.9543224581194307,
          2.8754711103507398,
          -1.0653535699623526,
          0.5154459191755453,
          -0.5192464911217272,
          -0.2743072538113846,
          -0.32083802597841904,
          -0.06300622357822,
          1.1473870049811745,
          1.6038147797249265,
          1.852704281057839,
          -2.6356690945968078,
          -0.027489926026731958,
          -0.26802941658801493,
          -1.6689291536746305,
          1.1510703498011288,
          1.6019144457151908,
          -3.1971001881034886,
          0.1743850650314059,
          0.7147345188020185,
          0.8003932796426834,
          1.5666884911893197,
          -0.864104888673226,
          1.215695298051132,
          -2.9254715126594832,
          1.122762501725602,
          -0.33486081020076147,
          -0.13897244930989497,
          0.6670110503413555,
          -0.18331113505964453,
          0.8416958674623589,
          1.3166658806096854,
          -1.5886691009901026,
          -1.087777261526514,
          4.652515024610862,
          -2.686998469602548,
          0.08480595510570862,
          -2.6001348435191987,
          -2.54946543570783,
          -0.49581034252322803,
          2.276639136908612,
          -0.5158560891927595,
          -3.196097439697652,
          1.7079141144507348,
          -1.4968709499678523,
          -1.1463560697395923,
          1.3213265298531292,
          -1.9068779809234255,
          -2.1532915310915404,
          0.9926416151928787,
          1.27922839094927,
          1.9927894437561986,
          -1.2534591716542944,
          1.8397723719637968,
          1.3464121062888426,
          2.221658532477578,
          -2.0332817378958326,
          1.546107035489863,
          -2.4937994273959845,
          -1.6578032309780353,
          0.031956423718336,
          -1.50763359394317,
          -0.6627085128188849,
          -1.514292165190143,
          -0.2584854400021693,
          1.4159428941774002,
          -2.4886830878988113,
          -2.4217172328457006,
          4.0475850198561405,
          -0.05727923931305896,
          2.6854962461100125,
          1.3466445288480213,
          -2.7407265813214288,
          0.91522997249018,
          0.40279863151176176,
          1.936991151757078,
          0.33594737753548265,
          -2.485637345572763,
          1.6949937718177048,
          1.7388912670523244,
          1.1298727767208225,
          -3.0876732746891724,
          1.7742921611286835,
          -1.2854339697662176,
          4.482071913198323,
          2.066746076375497,
          0.01593458422647575,
          1.055082670170008,
          -1.355596639407945,
          0.9863099433955752,
          -2.3115782673393697,
          -1.6223028511140463,
          2.0135675658439456,
          1.5118370318429408,
          -0.3914984748993741,
          0.9437146566982242,
          2.848781859055563,
          -3.354318806084068,
          1.0978630750808585,
          -0.14566076623666985,
          0.6288474587150812,
          1.2118519374635341,
          -3.003250992944995,
          0.22580241174005516,
          0.5763876416592413,
          2.0466315106671606,
          -1.3284129747456448,
          -0.10279543742880068,
          -0.25134733569023354,
          -2.573483479289553,
          0.19617911618814807,
          1.2203943501632422,
          -1.2582872792686752,
          1.380166223105261,
          -0.34511488939425483,
          1.4102607169220094,
          0.7314971977331298,
          -2.419617875181712,
          2.1031998563832794,
          0.029757621583044437,
          -1.5236989869339852,
          1.934316260027481,
          1.8324371431472688,
          -1.5861376880391618,
          2.0977600468290993,
          1.654807427041945,
          1.1661085685387864,
          1.3028013135106247,
          -0.39630879851354434,
          1.4543043053384859,
          1.0954349486022674,
          0.5375253235063495,
          2.0522006722270154,
          -2.088116351919182,
          -2.654230826691746,
          -2.5440862881229758,
          -2.3827592399274957,
          -0.17469273116952447,
          -1.8275169861491953,
          1.2269916050051537,
          0.15165246547207545,
          2.22594181140996,
          0.6592491797659765,
          0.2929030290774711,
          -3.693507810250295,
          0.9168584148033391,
          -1.0247378567146612,
          1.5687250297628328,
          -0.37828194357653794,
          0.7234689458721087,
          2.6760080647331095,
          -1.0509153996930676,
          -0.1305040299350588,
          2.0822582608665603,
          -0.3035008259926635,
          -3.863750864946058,
          0.05613294861746248,
          0.21279126658888536,
          -2.8551021326019765,
          -0.9151698405522365,
          -2.990686993054849,
          0.7417153433573146,
          -1.1685102902135716,
          -1.8087352256905864,
          -1.691806018315248,
          -0.766078066525972,
          1.5655542222159604,
          -0.25781145905969266,
          -1.8472840025977981,
          -0.5970544456837995,
          -1.2479473474224498,
          0.28537379665793744,
          1.9543939626769726,
          3.221119873125455,
          -0.9571124794524832,
          3.198977643758137,
          1.6976562806113193,
          0.5906521815900571,
          0.2805252809744537,
          0.3647223686779752,
          0.6157506171074338,
          2.0086161672819767,
          -2.4522785260046143,
          -2.7194413014589793,
          -0.6779149426722404,
          -1.6694092061837116,
          -0.7386751839753539,
          -0.11606899816443955,
          2.1240539657888426,
          -0.20171499499596554,
          1.2249999717247537,
          0.4388820267739861,
          -2.6901961464040602,
          0.9391609313697996,
          -0.06390740847908051,
          1.6444180816454657,
          -0.4332498301548627,
          -0.7085567865072745,
          -1.6133739457170633,
          0.8631210531789042,
          2.9285605862604642,
          1.884247527414879,
          2.2075354851543554,
          -0.7907569094632724,
          -2.7078274812906105,
          -1.3950160972538277,
          0.2616160104020481,
          -0.712824149194006,
          -1.6242213713113451,
          -2.0972164574430283,
          -2.44249095019666,
          0.4667565015892317,
          -0.39451581689191134,
          -1.0583148559649456,
          -2.946613878388885,
          -0.09805415585379598,
          1.6314429512553275,
          -0.019750196534469053,
          -0.1310024292519019,
          0.30074712688380895,
          -1.138483201916951,
          0.699653982660833,
          -1.2067281544311603,
          -1.3327710780216837,
          -1.108137380882174,
          1.304482839190237,
          -3.7259242545216904,
          -0.3417995822341042,
          0.6748100896335255,
          4.075206352985378,
          -2.546899194049992,
          2.4965875052203903,
          -1.1161696172085536,
          1.7165613246406846,
          0.2102109796744476,
          -0.18727880588137416,
          1.1161264274366955,
          -1.347938299500599,
          0.7945276467536957,
          -1.0303168911907543,
          -0.702796844128873,
          1.1290670226593358,
          1.1285683918900353,
          -3.736699996219761,
          -0.03656609303330256,
          -1.0502381844182898,
          -1.680049241292656,
          0.4387696316494675,
          -0.433961219201026,
          -0.03435663240556765,
          0.3212933557435941,
          0.010972837264509918,
          -1.3094783691600345,
          0.5282127889233793,
          0.8665626982526363,
          0.2552261012887242,
          0.05227246965393398,
          -1.9324754365711976,
          0.4181131920642474,
          -0.7350071284061954,
          1.9679459900263385,
          1.4268056339416482,
          1.780246910534822,
          0.8614764959224473,
          -3.774264466090632,
          0.23628832906413716,
          -1.711589145302768,
          -3.347742110240882,
          0.10743162184029173,
          3.0911956212945366,
          3.2916112505081703,
          -0.8221654650646346,
          -0.3023942411512259,
          1.8623388584249163,
          2.2364975521099204,
          0.49264767195153103,
          -2.241879349983409,
          2.1780233727426466,
          -0.14102844404015033,
          2.4442069070215013,
          0.521268410462931,
          0.34551790039915414,
          -0.17945713163972607,
          0.3814267847589209,
          3.258462748063805,
          -2.947453691821554,
          -2.813994788826169,
          -0.9085704873646959,
          -1.6633951453930411,
          -4.6112235759637725,
          -1.442128855661078,
          2.341126884932342,
          0.11775921132977636,
          0.9824312880629492,
          -0.5081004910104332,
          -1.1958176800141278,
          0.6135505804478818,
          1.6120327203027576,
          0.07106575091104882,
          -1.2413912839559451,
          -1.7310214525514298,
          0.3841917369619558,
          -0.11528674501679839,
          1.479377459039209,
          -1.561300645092355,
          -2.0392740764239066,
          -1.5242867646431568,
          -2.171190802213609,
          -0.3488672720187504,
          -0.20286484693172957,
          1.4576377995211818,
          1.538134288357219,
          1.2857108566703375,
          2.513976710009406,
          1.0337778879093913,
          -0.5292405680166855,
          -0.3992384041669561,
          1.5092272064697252,
          -2.3012917375528583,
          0.366020282307241,
          3.7012038499222575,
          -0.6528961160655283,
          1.420079409838508,
          -1.2427703094554072,
          0.39304014727227704,
          -0.8295570734580046,
          2.0783347964998056,
          0.3775853088476612,
          3.6306877430763698,
          -1.0922549307471427,
          -2.027787225062806,
          -0.7990441742143506,
          0.01459915268083907,
          -2.1781095111289854,
          -0.057781642211872174,
          -0.09397711607646199,
          -0.14447205199644134,
          1.2846298690747935,
          0.6661389014421208,
          0.05989124433929397,
          2.137897944326983,
          -0.3296688099042339,
          -1.2971158285498632,
          1.5640801677253464,
          -0.3281352886426231,
          0.7102891143133436,
          2.561586859078708,
          -3.4357086465366287,
          -0.5240659372582235,
          1.0882922468112637,
          -0.2274539779978144,
          -0.5093761708402561,
          1.3194151715708724,
          1.8466194897260886,
          -1.954225265693113,
          0.15526109180971573,
          -1.2759081828189582,
          1.9759757349373752,
          0.13246010230283098,
          -2.1471916993484244,
          -0.8008549110547498,
          0.35491482492078996,
          -0.06741661995446878,
          1.3576523132750107,
          -1.9302558697750642,
          -2.255341713126011,
          -1.0726530739022242,
          -1.9146198764732498,
          2.8092958606312353,
          1.1090138383500399,
          0.6691506359506201,
          -1.5381967973816963,
          1.5967701591395567,
          1.02331089884942,
          1.8996214926148312,
          3.926633632377518,
          -2.029996270915112,
          -0.25170111259799394,
          1.1104363123480792,
          -0.3850767905700728,
          -0.8774712079418694,
          1.4223516346133753,
          -1.5587437414428704,
          2.3567940383093964,
          1.5960051872092904,
          2.049344168927728,
          0.9728215838532785,
          -1.2601589865282867,
          0.9050050311918947,
          -2.576803423212039,
          -2.264136165493122,
          1.6529783666024818,
          -1.3888365692638465,
          3.2537605842161743,
          2.085414367104776,
          0.12566840265663848,
          -0.043228615342116423,
          2.4721101854432006,
          2.114470886632183,
          1.6100366503303392,
          -3.677286860705078,
          -1.979590100148274,
          0.3573395897766498,
          -2.658586330730561,
          -1.150631742123122,
          -0.4550569911095578,
          -0.37170183070550883,
          -0.32306581414546975,
          0.8486846848229402,
          -0.2692492049148698,
          -0.3762387325657026,
          -3.0930643653930336,
          -2.235798924021883,
          0.09986753938318405,
          1.4150372090191436,
          2.5174980886799094,
          -2.0572342967612807,
          0.893380317308403,
          -2.2937878720452507,
          1.6690856515221915,
          -2.032263050000778,
          0.8451989539264821,
          -2.0462649146991008,
          1.0992712119673933,
          -1.3159187592548818,
          -2.2619516474733787,
          1.1509654418143132
         ],
         "y": [
          -0.2567136342427878,
          -0.9024951642524204,
          -0.8969779599639269,
          -0.17854458447980412,
          -0.8299694771130369,
          2.17763143344979,
          -0.8943653617097724,
          -0.8997048018567309,
          0.21738783637351894,
          -0.0299049299978592,
          0.2768231011189165,
          0.7350906118832934,
          -0.5873491574646673,
          0.4363371456824772,
          1.0292476754848554,
          -0.24739941213751146,
          0.1280336600879712,
          0.6737510383412735,
          -0.47970544719245367,
          -0.6191414033691188,
          0.2483475053917454,
          -0.2132882395669672,
          -2.3266908728741176,
          -0.9589076852944969,
          0.5288159902928669,
          0.18967817382201996,
          -0.9377304595820772,
          -0.42231815464461897,
          0.9509993853977148,
          -1.1591207193166533,
          -0.8613668351302554,
          -0.8712479711157699,
          -2.2741702512716144,
          -0.9326312376107626,
          -1.513003644252839,
          -0.620305941200306,
          0.9147786836869584,
          -1.6260715623975173,
          3.944099987538238,
          0.5835550345772574,
          0.3674073637565447,
          1.3075040165093035,
          1.9201654162828048,
          -0.31789425993992876,
          0.6663382523156034,
          0.679902113856285,
          -1.4080916876365124,
          0.37907079104170444,
          2.109721131214856,
          -1.3488555884567808,
          0.39130995742028946,
          -1.2242942593492219,
          0.14372871854345678,
          -1.7976703215603462,
          -1.0779426166111352,
          -0.21180930695245317,
          0.02872228396335024,
          0.4799240736482637,
          0.3323640915226848,
          1.3259089727745703,
          -0.2528312348059213,
          0.5951808510706489,
          0.517287869058557,
          2.158373666386571,
          -0.3770092417070135,
          -1.7873092392450134,
          1.2737579244494939,
          1.4539957211747196,
          0.25023115691264125,
          1.0582698297869686,
          -1.1465892887207811,
          0.5913057606144272,
          -0.09131075221888012,
          0.7745104576321951,
          -0.06202033914783084,
          -1.4043136806954357,
          1.3926018439445262,
          -0.21105737243730646,
          1.5070809679313437,
          0.04807131826649133,
          2.2598155339718744,
          -0.5852445512161614,
          -0.7276154951711364,
          1.1371371917845212,
          0.0049929210575645035,
          1.2585879649110894,
          1.6051400633255282,
          0.45056219427242933,
          2.434512952884712,
          0.27818993429804445,
          -0.38499449687022297,
          1.2588710371147576,
          4.0509839463387385,
          1.3431717490762367,
          -2.2586853250069905,
          2.1928787833702432,
          0.7693039773263953,
          -2.021483827823027,
          -0.057630403128823955,
          -0.1766800094693313,
          0.8098947346662163,
          1.4685615714045304,
          1.448549190004102,
          -0.5699540789726132,
          -1.7935616102999783,
          -1.4011891691625673,
          -0.6278760399692936,
          -0.06302218129169888,
          1.069886025284857,
          1.9267267446618968,
          -1.2551019665043497,
          0.9648567185894332,
          2.1498981467575944,
          0.4687281759472715,
          0.41128051982879027,
          2.203449126596476,
          -0.27181188673749346,
          -0.39331576670414636,
          -1.3852859122985783,
          1.1919735493792976,
          1.7171863954123898,
          1.2485469837375476,
          -1.3139212241995173,
          -0.5827591002284143,
          -1.8422517239629872,
          -1.4966164519004037,
          1.0008018566476267,
          1.5675229657943324,
          2.802128477673632,
          -1.1537425114607216,
          0.7322393452416469,
          0.4923450659177206,
          1.261320672352334,
          -2.478422399923839,
          0.626143118636865,
          1.2165937749962255,
          -0.19672600232266357,
          1.4606716400450712,
          0.22925294395257767,
          -2.9788833137478394,
          0.900293463691085,
          0.26895392399407814,
          -3.329537385806985,
          -0.7227394384295929,
          -0.6809407893144528,
          0.8889327330933882,
          -2.78563573606792,
          -0.0786893427764338,
          -1.9218466984656566,
          1.227235345295154,
          2.4062865114370826,
          -0.36063510909417884,
          0.03252564999194606,
          -1.5295975375670186,
          1.3424704934150578,
          0.7476388626424884,
          -0.49625310611893486,
          0.48950986203882163,
          -0.7441554006598302,
          0.13204248225749926,
          -0.13950840000600442,
          -0.8448350003302214,
          -1.2737223656333134,
          -0.7913385435231343,
          0.8219394968597479,
          -2.25701376335328,
          -0.09111279413958201,
          -0.8530172522429884,
          -1.1176479411912321,
          -0.588957868970812,
          -2.1762550678082277,
          1.247015313192964,
          1.9304563662688603,
          0.12463515739723378,
          -0.769316177987548,
          0.4331223647755454,
          0.3255279000979135,
          -0.9156555312449566,
          1.127540229786368,
          1.1556429783475015,
          0.8237399061741523,
          -2.597809865408681,
          -0.032932439398886126,
          -0.20131426097391006,
          0.42833795900819027,
          -1.3659481192925234,
          1.2105706307095396,
          -0.22965800723037513,
          0.5432561603736452,
          -2.2500037080235953,
          -1.4108613730817687,
          -0.6578008000089494,
          0.2287356309855446,
          1.8660753324266404,
          0.024743621842806436,
          -2.047169011454559,
          -0.7615535425735721,
          -0.1894695278862416,
          -1.3338150191078832,
          0.40006825357777126,
          1.7406836186048722,
          0.41707642897330943,
          0.2328543503726699,
          -0.1346935872772282,
          -1.4284939306067073,
          0.9290639166385041,
          0.6499930917320126,
          1.573368121628175,
          -3.115638746891082,
          -0.9821762637266975,
          1.015664470001612,
          -0.5085273137198144,
          0.1247100158686022,
          0.3124241203915225,
          1.1111602810777803,
          1.591889737400085,
          -0.5129922879816006,
          0.7511084171867505,
          -1.1626312604900884,
          0.6499185191097197,
          0.5143709505398455,
          0.20454428879459113,
          -0.46732095311045235,
          0.748528713449096,
          2.305563298875976,
          -1.1960137230380272,
          -3.815874575394055,
          2.095160230128253,
          -0.6361311835403561,
          -0.3705457577677082,
          0.33305983176071574,
          -0.6394949387602651,
          0.7056876482498179,
          2.586129646500103,
          0.562910243925531,
          -0.5793736765974883,
          -0.06285595945373912,
          1.4469280617990705,
          -0.7796437617539772,
          1.6820854482102008,
          -0.8479387306145421,
          1.1922314722235268,
          -0.5158202165670626,
          1.0652293765534107,
          2.122087202319286,
          1.2396042543023111,
          -0.684321858904361,
          -1.2640204908800843,
          1.0125807445431365,
          0.8746385877196082,
          -0.276840218562748,
          -1.1777241190529706,
          -4.889396889674279,
          0.3205635074798357,
          -0.4661605154553488,
          0.3846270053889775,
          -0.7081823803123681,
          -0.03661963179642405,
          2.380911492975418,
          0.27965474625017256,
          -0.5276746848439036,
          -0.43686827261005096,
          0.8612937755842095,
          -1.7950504925052289,
          -0.2197050164025534,
          1.1499705621329719,
          -0.3729197384212659,
          0.3437939388162642,
          -0.4598743807527576,
          1.722076433891652,
          0.14459599622587996,
          -0.9636412312193876,
          -0.6011592274151687,
          1.4603934374036314,
          -1.4174638738923973,
          -5.637666047826541,
          -1.1582963672614128,
          -1.2561321221442334,
          -2.089738762839796,
          -0.037018132424955656,
          -0.5112377257872558,
          0.7081858266912971,
          -0.391022183155449,
          0.19093089926386259,
          0.5018179911062219,
          -0.8159074986905909,
          -0.2926393776496604,
          0.5767680315822191,
          -2.19133048091539,
          -1.5136105744191894,
          0.8612805607915046,
          -0.9956548268941727,
          0.1625579017232622,
          1.2898476985588438,
          1.9561520714261078,
          -0.1129351067564853,
          -0.8246883116766992,
          -0.583182846685488,
          0.18669680219873316,
          0.6912324602601808,
          -0.08908877123422378,
          1.1433505894327252,
          0.5738601183652875,
          0.4409249317113969,
          -1.1323861749781676,
          -1.160195704886786,
          0.9677204826634568,
          0.12237840377964634,
          -0.24574019227591185,
          1.3176379474460291,
          -0.41008153665388697,
          -2.5914886493601053,
          1.2081074327503794,
          0.008430296000765756,
          -0.6984452910572156,
          -0.6675612184034092,
          -0.4066602411446191,
          0.05645597989507363,
          -0.746173527663067,
          -0.002115826467328363,
          -0.25392089171622684,
          0.09012877290072126,
          2.201275930841814,
          -0.5132499933256256,
          -1.1031758766445436,
          -1.0662647147861748,
          0.20815943475964754,
          0.7534119592547346,
          -0.11853366187810702,
          -0.8131691388617465,
          -1.2410712200042,
          -0.2547704216206481,
          3.6816266525620827,
          -0.8277254058255804,
          -1.611600394671696,
          -0.8849792092789347,
          0.7795963284364341,
          -0.4557424112743242,
          -1.4576841932798263,
          3.0997657202703137,
          -1.2133590982324292,
          -2.0181587637113965,
          -0.4907232649991824,
          -0.7467814110282565,
          -0.6588197414045311,
          1.7814206220645465,
          0.9100969964853521,
          0.3221869712375194,
          1.1594106898151633,
          -1.4859665927584291,
          0.4180625241863196,
          -2.9627897791621454,
          -0.8720669842728672,
          1.7852020323436801,
          -0.5257994100554312,
          0.6611567914790737,
          2.346646253439484,
          -1.004720992739617,
          -0.652477231686369,
          0.3872957572432848,
          0.5071265904162772,
          -1.1077937626921759,
          0.12733082335325482,
          -1.0342988218945994,
          0.08472880761859615,
          0.5834857805065358,
          -1.0502835816218923,
          1.560357207987935,
          -1.7630875645522721,
          -3.0212871956252445,
          -0.35610980403452597,
          1.4178288769222838,
          0.19551031359968576,
          1.8341566606417266,
          1.0296465973041458,
          0.4838373677257694,
          0.11734116651933428,
          -0.2701945567945247,
          -1.1183453801573358,
          -0.9145515921701679,
          4.775555077404032,
          0.3172205274034071,
          -1.9521203617856284,
          -0.1392327504736255,
          -1.9217016825066904,
          1.811293652218985,
          -0.6046022210965423,
          -1.2714343975277573,
          -0.9615953551882518,
          2.405610561243715,
          -0.12625395831632152,
          2.755532114195901,
          1.2435748258240704,
          0.9265879721897847,
          3.040198608065812,
          -1.0622856000835246,
          -3.342207929154935,
          1.8304508544075127,
          0.6944631765886663,
          -1.9798472106081024,
          -0.1424736986166293,
          -0.28894189332305087,
          -0.21852954874819497,
          0.16012007944762965,
          -1.648640260493367,
          2.138295437494328,
          0.6169217664694815,
          0.12346636556471272,
          -1.3561072754951637,
          -0.6524930084496641,
          -2.044842051489136,
          1.3162473567928408,
          0.06865877055424736,
          1.6311524363854282,
          -1.169784793661727,
          -0.01540473754904356,
          -0.17106019797733688,
          -1.8394858906748977,
          -1.2778238602100584,
          0.20668896732325576,
          -0.13921800381263177,
          -1.6301372389590336,
          1.0381931089875784,
          0.6533087043149172,
          -0.9607545224928197,
          0.504008664024171,
          -0.5740670666940658,
          -1.7256598899800297,
          2.0913868186635383,
          0.9967407009623964,
          -0.20278643890918838,
          0.43290902648590723,
          -0.6331371256291728,
          0.2687885323873124,
          0.12151291798292706,
          -0.2889508504109401,
          -0.2509300689305729,
          0.6085722005911861,
          -0.547395417307193,
          1.8249684164976736,
          -0.37559284079504374,
          0.5585026928004734,
          -0.23858044524468597,
          -3.049845856544595,
          -0.5102781118853457,
          -0.5747456735347097,
          0.8334587024693983,
          -1.1301739331128329,
          0.013612884634756666,
          -0.7270754760633368,
          -0.06865552276986273,
          -0.046184501832871816,
          1.1488611456883335,
          0.7238338000838747,
          -1.0958591333755934,
          0.05340323367418547,
          0.12399371298108385,
          -0.4767155441254082,
          -0.12879096384597352,
          -0.9877558562484543,
          -0.42438301137821066,
          1.4135041993551223,
          0.19885777353429449,
          -0.008969894925925006,
          0.3009833715279306,
          0.7452128999047,
          0.831345834482604,
          1.1440068864415789,
          -0.05075072624098195,
          0.32670980802162347,
          1.5718600176036166,
          3.247090756361294,
          0.1380412484371702,
          1.2887649128445358,
          -0.387633828778546,
          -1.2942184477271854
         ],
         "z": [
          -1.20909930070419,
          -0.1326952196090511,
          -0.8883120454560192,
          2.942639413721063,
          -1.750575145698585,
          -1.6909367318719393,
          -1.2700224224139225,
          1.7688820818140982,
          0.44419892316881154,
          -0.20586065526701536,
          -0.7368079731233638,
          0.6847942439975658,
          -1.2532173173825774,
          -0.26717761425946074,
          2.9527986157723465,
          0.9753212627078339,
          -0.16211148394192423,
          -0.8504123587213821,
          -0.5198513353592128,
          -0.10197734302030313,
          -0.926214292395837,
          0.2904926567768036,
          -0.5925706625382092,
          0.6489548141684375,
          -1.458271409338132,
          1.0528435410951125,
          1.3425003201910413,
          1.8431802098230252,
          0.771403156813031,
          0.8474482598907637,
          -1.309380527823376,
          -0.20910922834733686,
          -0.7007935439249879,
          0.02966524949503751,
          -0.36980926226756394,
          -0.6253189966549175,
          -1.0327314048766034,
          -0.4097680277446043,
          0.016294437172774758,
          -0.8958198493786931,
          0.5936195365895705,
          3.1173191016616113,
          -1.2756660414289047,
          -1.4383956777677822,
          0.24124053149955899,
          1.0160580307795422,
          -0.06701541727408888,
          1.2404333900446411,
          1.757548950550478,
          1.8841408740579886,
          -1.1975713678090827,
          0.12955844859118956,
          -0.20958506242193287,
          -0.22899278747793134,
          -0.0628497223919451,
          -0.3490309006936722,
          -0.06569804982199895,
          0.6182576003830339,
          -0.7741657068727473,
          0.907299939339983,
          -1.593824310975568,
          0.2056961668603925,
          -0.34535957184869265,
          0.5006615418786814,
          0.07198257996040851,
          -1.2679700229320918,
          1.1882343646934281,
          -1.2861913188883483,
          -0.9938535069015448,
          -1.4308650231883764,
          -0.6360016746562659,
          0.021115324239910804,
          0.6381905270642927,
          0.45010849255677515,
          -0.060482507860427845,
          1.585328195278822,
          -0.6005235308395,
          -0.7444784563756353,
          -0.6908361697126822,
          -1.0793123977367638,
          -0.8794764368116312,
          -0.035708782040199304,
          -1.1766745250618735,
          1.73351014495678,
          0.8213504511332237,
          0.1953351019763094,
          -1.8024005145945927,
          -0.807460746638403,
          2.1864591553925714,
          -1.1716487587997029,
          -1.4979958326416327,
          0.776074041301047,
          3.0852423953426573,
          -0.20385741476709604,
          -0.009837367840779205,
          0.10453383759157271,
          0.2638665062466738,
          0.5317565287763113,
          -1.6569422095746158,
          0.9117992974752036,
          -0.01616786856657842,
          -0.30874447818141204,
          -0.2046824588595559,
          -2.1690259492015924,
          -0.5277604382788029,
          -0.3679222802054516,
          0.05355249660737965,
          0.7604097843015609,
          1.5210660205866433,
          0.012108950994360783,
          0.07050174856711054,
          0.049731416193820814,
          0.3607456311178777,
          -1.121857196545827,
          -0.7440409210455577,
          -0.3369062560578059,
          -0.035929343431403526,
          5.463701143638064,
          -0.494587026520937,
          0.9501137788310465,
          1.7326108332872363,
          -0.42562184760475835,
          -0.5076385712816233,
          1.2295319043404844,
          -1.600736940031741,
          -0.910198124528722,
          1.0751138300086218,
          0.9200081230511901,
          -0.0731270383970478,
          -0.01700087639464472,
          -1.1790080391239728,
          -1.2072308904905293,
          -0.44565841923409993,
          5.117373401799148,
          -0.3127218711824337,
          1.7914562800775917,
          -0.3204378524021051,
          -0.2871450531842744,
          -0.9134353586592021,
          1.8143332827522245,
          0.03423782073818179,
          1.1609891393499332,
          0.6885329756332303,
          -0.424522372633677,
          1.4254210323453544,
          2.367472367088213,
          0.6942702173019502,
          1.5852924698978046,
          -0.4662090229062153,
          1.5367240983912671,
          0.37283050046310606,
          -0.13639746898607683,
          -0.11923852762560012,
          -1.7927522433893495,
          1.6735545011919355,
          0.9598695046243797,
          -0.9277681299689767,
          0.41476790165146343,
          0.9460073059343261,
          -0.7674510086185875,
          -0.23541992940410278,
          0.4441744012820879,
          -0.20868784081385833,
          0.15392190427492525,
          -0.1287711866015472,
          -0.6017893279314988,
          -0.355606407510839,
          3.9654327732090766,
          -0.5178938670600401,
          0.15816688770106815,
          -1.0138440018721153,
          0.3355068986078625,
          -0.2568608513386796,
          -1.2426955358364526,
          -0.3310576090643208,
          -0.3411031394189169,
          -2.2817717806139184,
          0.635522201620232,
          -1.3778940315351262,
          -0.5745785757418842,
          1.498481068027583,
          1.1445450214810906,
          -0.3543398656847828,
          0.8459714917974288,
          0.16279198390149197,
          -0.04054870109775281,
          -1.2557995787443499,
          -0.7424739980121924,
          0.19034963255122378,
          2.3441569963678717,
          -1.2304915282371944,
          -0.6518459465275479,
          -0.5385925943472641,
          -0.7343111304228112,
          1.1434352022494976,
          -0.062345067440826865,
          -0.03209958858296363,
          -0.7133652135242894,
          2.2889203982108723,
          1.5549006763926714,
          -0.1318263548865088,
          -0.22489028766985475,
          -1.9689531696984375,
          0.12491093197128274,
          1.0074274102746064,
          -0.05589643948028302,
          -0.947366373053172,
          -0.5569199236793274,
          -1.1010545068193969,
          -0.7139636581205943,
          2.463587168367068,
          -0.629328384101063,
          -0.11206000160445996,
          -0.2915224933250355,
          -0.37239935524556633,
          -0.39503024632196887,
          -1.5732616517574212,
          1.17878515507691,
          -0.8349695139872461,
          -0.8036489280840854,
          0.15390301870270862,
          0.02566046521625281,
          1.9643181629312942,
          0.12384416872472011,
          1.4484973011769902,
          -1.3964481641039204,
          1.3545187646642356,
          0.537062741430371,
          -0.35722884239891717,
          1.3876100186706521,
          -0.6862320177257051,
          2.7079944941588217,
          -2.447455014743127,
          0.9272866644091514,
          -0.27932796364602336,
          -0.10843538214638962,
          0.19170057329674506,
          -2.585353276115833,
          -0.887758091369921,
          -1.0565548736115722,
          0.29230772336321803,
          1.654560551481814,
          -0.4419286508447358,
          -0.004450190723133517,
          0.1157637653419264,
          0.3415040590483773,
          0.4878977181745739,
          0.8261311025855199,
          -0.6956669714850666,
          -1.0813649573217314,
          -1.2185801638232276,
          -0.392453864476868,
          6.449344682483668,
          -1.1123842918474063,
          0.3912040528822067,
          -0.801388080745173,
          0.5379237164105293,
          -0.819734297195386,
          1.273563813602886,
          -0.5389037892352421,
          -3.255941231291658,
          -0.7898300511514607,
          0.178703184232361,
          -0.1031684693535294,
          -0.1291297916286812,
          -0.471333399354481,
          -0.8379510314253426,
          2.599484937747551,
          -0.6378700185344433,
          -0.6986691694158124,
          -0.39539234750775737,
          1.0454331567891146,
          0.010729586635373151,
          0.9839423430285263,
          -0.012934306426716545,
          1.1597709626015995,
          0.8312533082506173,
          -0.7412053482609278,
          4.056894941468627,
          -0.05504003435955499,
          -1.6281653529057036,
          0.5538237466013396,
          -0.6067099848929183,
          -1.4563250348129635,
          1.8717815896980587,
          0.5018728588080937,
          -0.005842953993549362,
          -1.6902124493749804,
          -0.6313419129462486,
          -0.8620663052326397,
          -1.1206636497542506,
          -0.012834743561350751,
          -1.9011866277729264,
          0.19986085707035883,
          -0.4664500050297821,
          1.7136437087378273,
          -0.4641748063662346,
          -0.5426136780485481,
          -0.3766003303668701,
          0.3300633488285605,
          -1.7846375909025378,
          1.265857185721663,
          -1.2119153114908405,
          -0.5744338887765924,
          -0.45884484414433935,
          -0.1710168134612492,
          0.6210170649645511,
          -0.7693412469026967,
          0.14731446495561476,
          -0.6894323584873654,
          -0.022924408950064906,
          -1.2737252816558777,
          -0.2613081775300848,
          0.6931004073931191,
          -0.06617108136537722,
          -0.1967302038007213,
          0.4300165524486977,
          -0.9971048473740817,
          -0.9622134810364207,
          0.4887352099366277,
          -0.8390564786029546,
          0.13002693712949936,
          1.003103336953986,
          -0.2468198775532128,
          -0.7752562372389827,
          0.4367308607090372,
          0.1622162465157166,
          -1.0862496034523441,
          -0.9300202737521489,
          -0.049375796424459974,
          -1.5667856370208793,
          1.9281188377558285,
          1.0332121309265545,
          -0.7585829444503979,
          0.7143637804552971,
          0.8552482879601705,
          -0.5176104821451721,
          -0.3490507114916376,
          0.237113169818793,
          0.4368246029002068,
          0.33979193833388677,
          -0.6440465488957297,
          -0.61509606898781,
          0.14252567456553725,
          -0.24853954762948877,
          -0.5541029779742285,
          1.964932970956536,
          0.47034172621297643,
          -0.395525163286187,
          -0.5583933197902946,
          -0.8592004634435356,
          -0.5465607504425953,
          0.3702183834119091,
          -0.425893730236146,
          -0.1278586264985456,
          1.32713502340332,
          -0.046912592566001665,
          -1.6976594035487662,
          -0.4357413424479895,
          -0.018265960844054255,
          0.31695468400330273,
          1.6165865095496001,
          0.8144545492607064,
          1.6410816111596913,
          0.04524514311859533,
          -1.2167186202202178,
          -0.8410552417532761,
          0.9425263764861426,
          -0.8577551916008577,
          -1.688940775164664,
          2.052754124269849,
          0.4784051017009904,
          -0.20984194673867415,
          -1.3245426191011622,
          1.476157119810529,
          -1.6044498535636897,
          -0.2568922444100044,
          1.333702992179636,
          -0.45722934843842766,
          -0.22281151739460223,
          0.6926159880693687,
          -0.08688707795641132,
          0.9458808992243789,
          -1.6689442408935624,
          -0.5475983673732014,
          0.8044591650146492,
          -0.37275832176715423,
          -0.38718783825551883,
          0.23769999805936995,
          1.6204388477606162,
          -0.7560907563525626,
          1.0144815594471823,
          2.2768424779955225,
          -0.7528480863164986,
          0.49722545410251523,
          -1.7496415177639786,
          1.3076098288827538,
          -0.39958746472905243,
          0.2287725990666644,
          0.2428244918057861,
          -1.2842911440981237,
          -1.9323103851992196,
          -1.3332174205025824,
          0.411722559736986,
          -0.6430430073127791,
          -0.9162233902421018,
          0.78579015157051,
          -0.13343850734502882,
          1.8296509120709525,
          0.878101502004664,
          -1.5136340545196258,
          -0.3561356595900299,
          0.44966456130127225,
          0.25888246588107255,
          -0.37949308748146754,
          -0.35346561747261274,
          0.8568394853476785,
          2.02721061813073,
          -0.7642712178876526,
          -0.7146996096321022,
          -0.6343354211712736,
          0.005105511889412983,
          0.8104506225107226,
          0.24632148474734525,
          1.6573931611561243,
          -0.13165263801967697,
          2.6339023644370982,
          0.32893296174048564,
          -0.13150167031450263,
          -0.5904026228169023,
          -0.009846303820671401,
          -0.6505676673198224,
          -0.810159942034637,
          -1.2310306680164753,
          -1.58980782356544,
          -0.8285708967782591,
          0.36566067983007977,
          -1.0419122063271673,
          -0.14075048848353652,
          1.0822393231138043,
          -0.8112775431821619,
          -0.33229131808151485,
          0.5267022766296034,
          -0.7354419556738185,
          -0.7122497412026463,
          -0.6620357473616652,
          -0.6055340365981232,
          -1.0517565234157769,
          1.0301793089689062,
          0.6254718538455162,
          0.6287234892200678,
          1.338126203745193,
          -0.6414118424519837,
          0.7335636831202088,
          -0.9600676792673403,
          0.34697544085389814,
          1.1672044134225148,
          -0.6111281839833289,
          -1.0940537158633674,
          -0.5528411383146866,
          0.6174661453470247,
          -0.5515570595793864,
          -0.4848928976659109,
          -0.039969884612083985,
          -0.6252929639585237,
          -0.42655026589743783,
          -1.1874050397851013,
          -0.2651941766823704,
          -0.4007293929727653,
          1.2213135333812055,
          -1.0394274129899943,
          0.8326441773303076,
          0.11587941388909549,
          -0.5735280873583797,
          -0.16279419057035543,
          -1.1476959211868345
         ]
        }
       ],
       "layout": {
        "coloraxis": {
         "colorbar": {
          "title": {
           "text": "color"
          }
         },
         "colorscale": [
          [
           0,
           "#0d0887"
          ],
          [
           0.1111111111111111,
           "#46039f"
          ],
          [
           0.2222222222222222,
           "#7201a8"
          ],
          [
           0.3333333333333333,
           "#9c179e"
          ],
          [
           0.4444444444444444,
           "#bd3786"
          ],
          [
           0.5555555555555556,
           "#d8576b"
          ],
          [
           0.6666666666666666,
           "#ed7953"
          ],
          [
           0.7777777777777778,
           "#fb9f3a"
          ],
          [
           0.8888888888888888,
           "#fdca26"
          ],
          [
           1,
           "#f0f921"
          ]
         ]
        },
        "legend": {
         "tracegroupgap": 0
        },
        "margin": {
         "t": 60
        },
        "scene": {
         "domain": {
          "x": [
           0,
           1
          ],
          "y": [
           0,
           1
          ]
         },
         "xaxis": {
          "title": {
           "text": "pc1"
          }
         },
         "yaxis": {
          "title": {
           "text": "pc2"
          }
         },
         "zaxis": {
          "title": {
           "text": "pc3"
          }
         }
        },
        "template": {
         "data": {
          "bar": [
           {
            "error_x": {
             "color": "#2a3f5f"
            },
            "error_y": {
             "color": "#2a3f5f"
            },
            "marker": {
             "line": {
              "color": "#E5ECF6",
              "width": 0.5
             },
             "pattern": {
              "fillmode": "overlay",
              "size": 10,
              "solidity": 0.2
             }
            },
            "type": "bar"
           }
          ],
          "barpolar": [
           {
            "marker": {
             "line": {
              "color": "#E5ECF6",
              "width": 0.5
             },
             "pattern": {
              "fillmode": "overlay",
              "size": 10,
              "solidity": 0.2
             }
            },
            "type": "barpolar"
           }
          ],
          "carpet": [
           {
            "aaxis": {
             "endlinecolor": "#2a3f5f",
             "gridcolor": "white",
             "linecolor": "white",
             "minorgridcolor": "white",
             "startlinecolor": "#2a3f5f"
            },
            "baxis": {
             "endlinecolor": "#2a3f5f",
             "gridcolor": "white",
             "linecolor": "white",
             "minorgridcolor": "white",
             "startlinecolor": "#2a3f5f"
            },
            "type": "carpet"
           }
          ],
          "choropleth": [
           {
            "colorbar": {
             "outlinewidth": 0,
             "ticks": ""
            },
            "type": "choropleth"
           }
          ],
          "contour": [
           {
            "colorbar": {
             "outlinewidth": 0,
             "ticks": ""
            },
            "colorscale": [
             [
              0,
              "#0d0887"
             ],
             [
              0.1111111111111111,
              "#46039f"
             ],
             [
              0.2222222222222222,
              "#7201a8"
             ],
             [
              0.3333333333333333,
              "#9c179e"
             ],
             [
              0.4444444444444444,
              "#bd3786"
             ],
             [
              0.5555555555555556,
              "#d8576b"
             ],
             [
              0.6666666666666666,
              "#ed7953"
             ],
             [
              0.7777777777777778,
              "#fb9f3a"
             ],
             [
              0.8888888888888888,
              "#fdca26"
             ],
             [
              1,
              "#f0f921"
             ]
            ],
            "type": "contour"
           }
          ],
          "contourcarpet": [
           {
            "colorbar": {
             "outlinewidth": 0,
             "ticks": ""
            },
            "type": "contourcarpet"
           }
          ],
          "heatmap": [
           {
            "colorbar": {
             "outlinewidth": 0,
             "ticks": ""
            },
            "colorscale": [
             [
              0,
              "#0d0887"
             ],
             [
              0.1111111111111111,
              "#46039f"
             ],
             [
              0.2222222222222222,
              "#7201a8"
             ],
             [
              0.3333333333333333,
              "#9c179e"
             ],
             [
              0.4444444444444444,
              "#bd3786"
             ],
             [
              0.5555555555555556,
              "#d8576b"
             ],
             [
              0.6666666666666666,
              "#ed7953"
             ],
             [
              0.7777777777777778,
              "#fb9f3a"
             ],
             [
              0.8888888888888888,
              "#fdca26"
             ],
             [
              1,
              "#f0f921"
             ]
            ],
            "type": "heatmap"
           }
          ],
          "heatmapgl": [
           {
            "colorbar": {
             "outlinewidth": 0,
             "ticks": ""
            },
            "colorscale": [
             [
              0,
              "#0d0887"
             ],
             [
              0.1111111111111111,
              "#46039f"
             ],
             [
              0.2222222222222222,
              "#7201a8"
             ],
             [
              0.3333333333333333,
              "#9c179e"
             ],
             [
              0.4444444444444444,
              "#bd3786"
             ],
             [
              0.5555555555555556,
              "#d8576b"
             ],
             [
              0.6666666666666666,
              "#ed7953"
             ],
             [
              0.7777777777777778,
              "#fb9f3a"
             ],
             [
              0.8888888888888888,
              "#fdca26"
             ],
             [
              1,
              "#f0f921"
             ]
            ],
            "type": "heatmapgl"
           }
          ],
          "histogram": [
           {
            "marker": {
             "pattern": {
              "fillmode": "overlay",
              "size": 10,
              "solidity": 0.2
             }
            },
            "type": "histogram"
           }
          ],
          "histogram2d": [
           {
            "colorbar": {
             "outlinewidth": 0,
             "ticks": ""
            },
            "colorscale": [
             [
              0,
              "#0d0887"
             ],
             [
              0.1111111111111111,
              "#46039f"
             ],
             [
              0.2222222222222222,
              "#7201a8"
             ],
             [
              0.3333333333333333,
              "#9c179e"
             ],
             [
              0.4444444444444444,
              "#bd3786"
             ],
             [
              0.5555555555555556,
              "#d8576b"
             ],
             [
              0.6666666666666666,
              "#ed7953"
             ],
             [
              0.7777777777777778,
              "#fb9f3a"
             ],
             [
              0.8888888888888888,
              "#fdca26"
             ],
             [
              1,
              "#f0f921"
             ]
            ],
            "type": "histogram2d"
           }
          ],
          "histogram2dcontour": [
           {
            "colorbar": {
             "outlinewidth": 0,
             "ticks": ""
            },
            "colorscale": [
             [
              0,
              "#0d0887"
             ],
             [
              0.1111111111111111,
              "#46039f"
             ],
             [
              0.2222222222222222,
              "#7201a8"
             ],
             [
              0.3333333333333333,
              "#9c179e"
             ],
             [
              0.4444444444444444,
              "#bd3786"
             ],
             [
              0.5555555555555556,
              "#d8576b"
             ],
             [
              0.6666666666666666,
              "#ed7953"
             ],
             [
              0.7777777777777778,
              "#fb9f3a"
             ],
             [
              0.8888888888888888,
              "#fdca26"
             ],
             [
              1,
              "#f0f921"
             ]
            ],
            "type": "histogram2dcontour"
           }
          ],
          "mesh3d": [
           {
            "colorbar": {
             "outlinewidth": 0,
             "ticks": ""
            },
            "type": "mesh3d"
           }
          ],
          "parcoords": [
           {
            "line": {
             "colorbar": {
              "outlinewidth": 0,
              "ticks": ""
             }
            },
            "type": "parcoords"
           }
          ],
          "pie": [
           {
            "automargin": true,
            "type": "pie"
           }
          ],
          "scatter": [
           {
            "fillpattern": {
             "fillmode": "overlay",
             "size": 10,
             "solidity": 0.2
            },
            "type": "scatter"
           }
          ],
          "scatter3d": [
           {
            "line": {
             "colorbar": {
              "outlinewidth": 0,
              "ticks": ""
             }
            },
            "marker": {
             "colorbar": {
              "outlinewidth": 0,
              "ticks": ""
             }
            },
            "type": "scatter3d"
           }
          ],
          "scattercarpet": [
           {
            "marker": {
             "colorbar": {
              "outlinewidth": 0,
              "ticks": ""
             }
            },
            "type": "scattercarpet"
           }
          ],
          "scattergeo": [
           {
            "marker": {
             "colorbar": {
              "outlinewidth": 0,
              "ticks": ""
             }
            },
            "type": "scattergeo"
           }
          ],
          "scattergl": [
           {
            "marker": {
             "colorbar": {
              "outlinewidth": 0,
              "ticks": ""
             }
            },
            "type": "scattergl"
           }
          ],
          "scattermapbox": [
           {
            "marker": {
             "colorbar": {
              "outlinewidth": 0,
              "ticks": ""
             }
            },
            "type": "scattermapbox"
           }
          ],
          "scatterpolar": [
           {
            "marker": {
             "colorbar": {
              "outlinewidth": 0,
              "ticks": ""
             }
            },
            "type": "scatterpolar"
           }
          ],
          "scatterpolargl": [
           {
            "marker": {
             "colorbar": {
              "outlinewidth": 0,
              "ticks": ""
             }
            },
            "type": "scatterpolargl"
           }
          ],
          "scatterternary": [
           {
            "marker": {
             "colorbar": {
              "outlinewidth": 0,
              "ticks": ""
             }
            },
            "type": "scatterternary"
           }
          ],
          "surface": [
           {
            "colorbar": {
             "outlinewidth": 0,
             "ticks": ""
            },
            "colorscale": [
             [
              0,
              "#0d0887"
             ],
             [
              0.1111111111111111,
              "#46039f"
             ],
             [
              0.2222222222222222,
              "#7201a8"
             ],
             [
              0.3333333333333333,
              "#9c179e"
             ],
             [
              0.4444444444444444,
              "#bd3786"
             ],
             [
              0.5555555555555556,
              "#d8576b"
             ],
             [
              0.6666666666666666,
              "#ed7953"
             ],
             [
              0.7777777777777778,
              "#fb9f3a"
             ],
             [
              0.8888888888888888,
              "#fdca26"
             ],
             [
              1,
              "#f0f921"
             ]
            ],
            "type": "surface"
           }
          ],
          "table": [
           {
            "cells": {
             "fill": {
              "color": "#EBF0F8"
             },
             "line": {
              "color": "white"
             }
            },
            "header": {
             "fill": {
              "color": "#C8D4E3"
             },
             "line": {
              "color": "white"
             }
            },
            "type": "table"
           }
          ]
         },
         "layout": {
          "annotationdefaults": {
           "arrowcolor": "#2a3f5f",
           "arrowhead": 0,
           "arrowwidth": 1
          },
          "autotypenumbers": "strict",
          "coloraxis": {
           "colorbar": {
            "outlinewidth": 0,
            "ticks": ""
           }
          },
          "colorscale": {
           "diverging": [
            [
             0,
             "#8e0152"
            ],
            [
             0.1,
             "#c51b7d"
            ],
            [
             0.2,
             "#de77ae"
            ],
            [
             0.3,
             "#f1b6da"
            ],
            [
             0.4,
             "#fde0ef"
            ],
            [
             0.5,
             "#f7f7f7"
            ],
            [
             0.6,
             "#e6f5d0"
            ],
            [
             0.7,
             "#b8e186"
            ],
            [
             0.8,
             "#7fbc41"
            ],
            [
             0.9,
             "#4d9221"
            ],
            [
             1,
             "#276419"
            ]
           ],
           "sequential": [
            [
             0,
             "#0d0887"
            ],
            [
             0.1111111111111111,
             "#46039f"
            ],
            [
             0.2222222222222222,
             "#7201a8"
            ],
            [
             0.3333333333333333,
             "#9c179e"
            ],
            [
             0.4444444444444444,
             "#bd3786"
            ],
            [
             0.5555555555555556,
             "#d8576b"
            ],
            [
             0.6666666666666666,
             "#ed7953"
            ],
            [
             0.7777777777777778,
             "#fb9f3a"
            ],
            [
             0.8888888888888888,
             "#fdca26"
            ],
            [
             1,
             "#f0f921"
            ]
           ],
           "sequentialminus": [
            [
             0,
             "#0d0887"
            ],
            [
             0.1111111111111111,
             "#46039f"
            ],
            [
             0.2222222222222222,
             "#7201a8"
            ],
            [
             0.3333333333333333,
             "#9c179e"
            ],
            [
             0.4444444444444444,
             "#bd3786"
            ],
            [
             0.5555555555555556,
             "#d8576b"
            ],
            [
             0.6666666666666666,
             "#ed7953"
            ],
            [
             0.7777777777777778,
             "#fb9f3a"
            ],
            [
             0.8888888888888888,
             "#fdca26"
            ],
            [
             1,
             "#f0f921"
            ]
           ]
          },
          "colorway": [
           "#636efa",
           "#EF553B",
           "#00cc96",
           "#ab63fa",
           "#FFA15A",
           "#19d3f3",
           "#FF6692",
           "#B6E880",
           "#FF97FF",
           "#FECB52"
          ],
          "font": {
           "color": "#2a3f5f"
          },
          "geo": {
           "bgcolor": "white",
           "lakecolor": "white",
           "landcolor": "#E5ECF6",
           "showlakes": true,
           "showland": true,
           "subunitcolor": "white"
          },
          "hoverlabel": {
           "align": "left"
          },
          "hovermode": "closest",
          "mapbox": {
           "style": "light"
          },
          "paper_bgcolor": "white",
          "plot_bgcolor": "#E5ECF6",
          "polar": {
           "angularaxis": {
            "gridcolor": "white",
            "linecolor": "white",
            "ticks": ""
           },
           "bgcolor": "#E5ECF6",
           "radialaxis": {
            "gridcolor": "white",
            "linecolor": "white",
            "ticks": ""
           }
          },
          "scene": {
           "xaxis": {
            "backgroundcolor": "#E5ECF6",
            "gridcolor": "white",
            "gridwidth": 2,
            "linecolor": "white",
            "showbackground": true,
            "ticks": "",
            "zerolinecolor": "white"
           },
           "yaxis": {
            "backgroundcolor": "#E5ECF6",
            "gridcolor": "white",
            "gridwidth": 2,
            "linecolor": "white",
            "showbackground": true,
            "ticks": "",
            "zerolinecolor": "white"
           },
           "zaxis": {
            "backgroundcolor": "#E5ECF6",
            "gridcolor": "white",
            "gridwidth": 2,
            "linecolor": "white",
            "showbackground": true,
            "ticks": "",
            "zerolinecolor": "white"
           }
          },
          "shapedefaults": {
           "line": {
            "color": "#2a3f5f"
           }
          },
          "ternary": {
           "aaxis": {
            "gridcolor": "white",
            "linecolor": "white",
            "ticks": ""
           },
           "baxis": {
            "gridcolor": "white",
            "linecolor": "white",
            "ticks": ""
           },
           "bgcolor": "#E5ECF6",
           "caxis": {
            "gridcolor": "white",
            "linecolor": "white",
            "ticks": ""
           }
          },
          "title": {
           "x": 0.05
          },
          "xaxis": {
           "automargin": true,
           "gridcolor": "white",
           "linecolor": "white",
           "ticks": "",
           "title": {
            "standoff": 15
           },
           "zerolinecolor": "white",
           "zerolinewidth": 2
          },
          "yaxis": {
           "automargin": true,
           "gridcolor": "white",
           "linecolor": "white",
           "ticks": "",
           "title": {
            "standoff": 15
           },
           "zerolinecolor": "white",
           "zerolinewidth": 2
          }
         }
        }
       }
      }
     },
     "metadata": {},
     "output_type": "display_data"
    }
   ],
   "source": [
    "cluster = KMeans(n_clusters=tst.shape[0] // 10, n_init='auto').fit_predict(tst.drop(columns=['trackName']))\n",
    "tst_plot = tst.reset_index()\n",
    "tst_plot['color'] = cluster\n",
    "px.scatter_3d(tst_plot, x='pc1', y='pc2', z='pc3', hover_data='trackName', color='color')"
   ]
  },
  {
   "cell_type": "code",
   "execution_count": 283,
   "metadata": {},
   "outputs": [
    {
     "data": {
      "application/vnd.plotly.v1+json": {
       "config": {
        "plotlyServerURL": "https://plot.ly"
       },
       "data": [
        {
         "customdata": [
          [
           "I Wish"
          ],
          [
           "friendship?"
          ],
          [
           "Sorry That I Do That"
          ],
          [
           "One Day"
          ],
          [
           "Complicated"
          ],
          [
           "Astronaut Kids"
          ],
          [
           "We Could Be Anything (Black & White)"
          ],
          [
           "Only Everything - Acoustic"
          ],
          [
           "Singing in the Rain"
          ],
          [
           "About the Rain"
          ],
          [
           "if i were a friend"
          ],
          [
           "Tsunami"
          ],
          [
           "Everyone’s Got Something"
          ],
          [
           "Different Eyes"
          ],
          [
           "Dirt"
          ],
          [
           "Have We Met Before (with Eric Nam)"
          ],
          [
           "Miles Apart"
          ],
          [
           "Jericho"
          ],
          [
           "Hailey"
          ],
          [
           "Pancakes for Dinner"
          ],
          [
           "Chosen Last"
          ],
          [
           "Half Gone"
          ],
          [
           "I Met Sarah in the Bathroom"
          ],
          [
           "Last Time"
          ],
          [
           "The Corner Dwellers"
          ],
          [
           "Either You Love Me Or You Don't - Live Acoustic"
          ],
          [
           "Marigold"
          ],
          [
           "Older"
          ],
          [
           "America"
          ],
          [
           "Out of Love"
          ],
          [
           "Dancing With Your Ghost"
          ],
          [
           "Back to Friends"
          ],
          [
           "fools (can't help falling in love)"
          ],
          [
           "i luv him."
          ],
          [
           "Things You Can't Change"
          ],
          [
           "Blue"
          ],
          [
           "Seasons Change"
          ],
          [
           "Keep Me Up"
          ],
          [
           "CLEAR"
          ],
          [
           "Love Like This - Acoustic"
          ],
          [
           "All This Love"
          ],
          [
           "Yellow Lights"
          ],
          [
           "From Afar"
          ],
          [
           "River of Grace"
          ],
          [
           "Helium"
          ],
          [
           "Medicine"
          ],
          [
           "My Person"
          ],
          [
           "Disarray"
          ],
          [
           "Terrible Things - EP Version"
          ],
          [
           "blind"
          ],
          [
           "Wilderness"
          ],
          [
           "One Day"
          ],
          [
           "You Said You'd Grow Old With Me"
          ],
          [
           "Better Together"
          ],
          [
           "Dwelling Place"
          ],
          [
           "Always Be Loving You"
          ],
          [
           "Hold On"
          ],
          [
           "Give It All"
          ],
          [
           "Tragedy Is Not the End"
          ],
          [
           "I Don't Mind"
          ],
          [
           "Good Without"
          ],
          [
           "Murakami"
          ],
          [
           "The Village"
          ],
          [
           "Beautiful Disaster"
          ],
          [
           "stuck in my head"
          ],
          [
           "Tears Come From The Heart"
          ],
          [
           "Echo (with KSHMR)"
          ],
          [
           "2 Am"
          ],
          [
           "This is Love - Interlude"
          ],
          [
           "Sing of the Moon"
          ],
          [
           "Somewhere in Ann Arbor"
          ],
          [
           "Tears"
          ],
          [
           "Beautiful"
          ],
          [
           "I Feel Good About This"
          ],
          [
           "Bulletproof Weeks"
          ],
          [
           "Wasted Time"
          ],
          [
           "Photographs & Memories."
          ],
          [
           "Home"
          ],
          [
           "Heaven's Not Too Far"
          ],
          [
           "Song for a Girl"
          ],
          [
           "Pollen And Salt"
          ],
          [
           "Wherever We Are"
          ],
          [
           "Lie About You"
          ],
          [
           "By Your Side"
          ],
          [
           "Slow Dance (feat. Ava Max) - Sam Feldt Remix"
          ],
          [
           "Sweet Love"
          ],
          [
           "Nineteen"
          ],
          [
           "Love Like That"
          ],
          [
           "Mess Is Mine"
          ],
          [
           "Ivory Fields"
          ],
          [
           "Afterglow"
          ],
          [
           "Brand New"
          ],
          [
           "All I Want"
          ],
          [
           "Poetry"
          ],
          [
           "Here for the First Time"
          ],
          [
           "Machine"
          ],
          [
           "Forever And Always"
          ],
          [
           "In the Eye"
          ],
          [
           "Summer's Gone"
          ],
          [
           "Fear of Fear"
          ],
          [
           "Beautiful World"
          ],
          [
           "Gunslinger"
          ],
          [
           "Countdowns"
          ],
          [
           "Things That I Miss"
          ],
          [
           "Please Never Fall in Love Again"
          ],
          [
           "What If I Love You"
          ],
          [
           "The Way That I Love You (Single Version)"
          ],
          [
           "Wild Child"
          ],
          [
           "Mr Loverman (feat. chloe moriondo)"
          ],
          [
           "Wildflower"
          ],
          [
           "Hey Lady"
          ],
          [
           "Breakups"
          ],
          [
           "Till I Found You"
          ],
          [
           "23"
          ],
          [
           "Iris"
          ],
          [
           "Falling to Pieces"
          ],
          [
           "Hotel Ceiling"
          ],
          [
           "channel 67"
          ],
          [
           "Ho Hey"
          ],
          [
           "Means To A Mend"
          ],
          [
           "Silhouettes & Sand"
          ],
          [
           "I Lived"
          ],
          [
           "just like you - demo"
          ],
          [
           "i don't want to watch the world end with someone else"
          ],
          [
           "Four Tequilas Down"
          ],
          [
           "Love Worth Saving"
          ],
          [
           "Hard To Say Goodbye (feat. Chloe Angelides)"
          ],
          [
           "Gravity"
          ],
          [
           "All of Your Colours"
          ],
          [
           "Palo Alto"
          ],
          [
           "Lovely"
          ],
          [
           "Anything to Make You Stay - Acoustic"
          ],
          [
           "Gone"
          ],
          [
           "YOU"
          ],
          [
           "Fix You"
          ],
          [
           "Close To You"
          ],
          [
           "Lost My Mind (Acoustic)"
          ],
          [
           "stay"
          ],
          [
           "Flicker"
          ],
          [
           "Sad Forever"
          ],
          [
           "Swim"
          ],
          [
           "Five Foot Three"
          ],
          [
           "Sometimes"
          ],
          [
           "I Really Love Ya"
          ],
          [
           "Please Keep Loving Me - Acoustic"
          ],
          [
           "Mother Tongue"
          ],
          [
           "Bitch"
          ],
          [
           "Tuesdays"
          ],
          [
           "Hibiscus"
          ],
          [
           "Alone With My Thoughts"
          ],
          [
           "Old Eden"
          ],
          [
           "Saturday Sun"
          ],
          [
           "A Final Word"
          ],
          [
           "Malibu Nights"
          ],
          [
           "Favourite Ex"
          ],
          [
           "Quiet"
          ],
          [
           "Shaky Hands - Piano Version"
          ],
          [
           "already there"
          ],
          [
           "Cheating on U"
          ],
          [
           "House of Cards"
          ],
          [
           "Broken"
          ],
          [
           "You and I"
          ],
          [
           "When Someone Loves You"
          ],
          [
           "Rich Boy"
          ],
          [
           "Tiger Striped Sky"
          ],
          [
           "Never the 1"
          ],
          [
           "Moments in the Mountains"
          ],
          [
           "Fletcher Bay"
          ],
          [
           "Black & Blue"
          ],
          [
           "Winona Ryder"
          ],
          [
           "Without a Thought for My Heart"
          ],
          [
           "House"
          ],
          [
           "Something Beautiful"
          ],
          [
           "Wherever I May Go"
          ],
          [
           "The Best - Acoustic"
          ],
          [
           "Prom Queen"
          ],
          [
           "Best of Me (Acoustic)"
          ],
          [
           "Covered Up"
          ],
          [
           "With Love and Compassion"
          ],
          [
           "Out Of Love"
          ],
          [
           "30,000 Feet"
          ],
          [
           "Boats & Birds"
          ],
          [
           "Rock And Roll"
          ],
          [
           "1999"
          ],
          [
           "Corners"
          ],
          [
           "Naïve"
          ],
          [
           "She"
          ],
          [
           "Red Delicious"
          ],
          [
           "Fast Car"
          ],
          [
           "Slip"
          ],
          [
           "Strawberries"
          ],
          [
           "Reason To Stay"
          ],
          [
           "Use Somebody (Bonus Track)"
          ],
          [
           "Restless"
          ],
          [
           "No Right To Love You - Acoustic"
          ],
          [
           "I Put You First (& You Did Too)"
          ],
          [
           "Getting over You"
          ],
          [
           "Fly Away With Me"
          ],
          [
           "justacow (demo3)"
          ],
          [
           "IDK You Yet"
          ],
          [
           "Why We Try (feat. Chelsea Lankes)"
          ],
          [
           "Please Go Slowly"
          ],
          [
           "The Moon Song"
          ],
          [
           "Nothing Ever Changes"
          ],
          [
           "Love Drunk"
          ],
          [
           "Drown"
          ],
          [
           "Someday Soon - Single Version"
          ],
          [
           "Good Times"
          ],
          [
           "After Many Miles"
          ],
          [
           "RN"
          ],
          [
           "Dear No One (feat. Spencer Kane & Brooke)"
          ],
          [
           "broken - live from london, studio two"
          ],
          [
           "hopeless"
          ],
          [
           "You & Me"
          ],
          [
           "I Was Wrong"
          ],
          [
           "A Day Will Come"
          ],
          [
           "I’m So Happy"
          ],
          [
           "i wanna love somebody"
          ],
          [
           "i hope you love somebody - demo"
          ],
          [
           "Wait"
          ],
          [
           "Hand to Hold"
          ],
          [
           "Venice (Acoustic)"
          ],
          [
           "Hey It's Delilah"
          ],
          [
           "Dancing Shoes"
          ],
          [
           "New Start"
          ],
          [
           "all i need (the distance song)"
          ],
          [
           "Shelter"
          ],
          [
           "Nobody Opened The Door"
          ],
          [
           "Bloom - Bonus Track"
          ],
          [
           "Paper Planes"
          ],
          [
           "the author"
          ],
          [
           "Me Without You"
          ],
          [
           "Sticks & Stones"
          ],
          [
           "Ship in a Bottle"
          ],
          [
           "Silhouettes"
          ],
          [
           "I Give You The Best"
          ],
          [
           "Half Light"
          ],
          [
           "This Beautiful Life"
          ],
          [
           "This City Remix (feat. Anne-Marie)"
          ],
          [
           "We Will Dance"
          ],
          [
           "You"
          ],
          [
           "Make You Mine"
          ],
          [
           "Loved At All"
          ],
          [
           "The Rhine"
          ],
          [
           "Silhouette"
          ],
          [
           "The One"
          ],
          [
           "Who Cares (feat. Ben Bannister)"
          ],
          [
           "I Wish It Was Me"
          ],
          [
           "All of Me"
          ],
          [
           "Let You Break My Heart Again"
          ],
          [
           "Grow As We Go"
          ],
          [
           "To Have You Around"
          ],
          [
           "I Have A Hole In My Tooth (And My Dentist is Shut)"
          ],
          [
           "Teach Me to Dance"
          ],
          [
           "Expectations"
          ],
          [
           "Photograph"
          ],
          [
           "Better"
          ],
          [
           "Moon"
          ],
          [
           "Mr. Brightside"
          ],
          [
           "Something Just Like This"
          ],
          [
           "love addiction"
          ],
          [
           "Maybe I Do"
          ],
          [
           "The Mountain"
          ],
          [
           "Just You and I"
          ],
          [
           "Bedroom Ceiling"
          ],
          [
           "Twenty Two"
          ],
          [
           "In The Silence - Demo"
          ],
          [
           "Darkest Hour"
          ],
          [
           "Confidant"
          ],
          [
           "Forever Love"
          ],
          [
           "Need You Now - Acoustic"
          ],
          [
           "Slow Motion"
          ],
          [
           "Right Here (Acoustic)"
          ],
          [
           "Good Good Day"
          ],
          [
           "i (I'll always be there)"
          ],
          [
           "Stay"
          ],
          [
           "Never Stop (Wedding Version)"
          ],
          [
           "Is It Just Me?"
          ],
          [
           "Forever & Always"
          ],
          [
           "I Don't Even Care (Pick Me Up)"
          ],
          [
           "Superhero"
          ],
          [
           "7UP"
          ],
          [
           "Always Remember Me (feat. Sara Bareilles)"
          ],
          [
           "Waking Up"
          ],
          [
           "Light Year (feat. Lennon Stella)"
          ],
          [
           "Blue"
          ],
          [
           "Love & War in Your Twenties"
          ],
          [
           "Lift"
          ],
          [
           "Joshua Tree"
          ],
          [
           "If You're the Coffee"
          ],
          [
           "Paris, or Wherever We Are"
          ],
          [
           "Please Notice"
          ],
          [
           "Pierre"
          ],
          [
           "Lover"
          ],
          [
           "Walk Outside"
          ],
          [
           "Rhythm Of Love"
          ],
          [
           "Cringe - Stripped"
          ],
          [
           "Be Happy"
          ],
          [
           "Airplane"
          ],
          [
           "October"
          ],
          [
           "Not Yet"
          ],
          [
           "Pull the Cord"
          ],
          [
           "Last Time"
          ],
          [
           "My Love"
          ],
          [
           "can I call you back?"
          ],
          [
           "i don't wanna know - acoustic"
          ],
          [
           "Worth My While"
          ],
          [
           "Dust"
          ],
          [
           "Be Alright"
          ],
          [
           "Blvd"
          ],
          [
           "A Song for the Drunk and Broken Hearted"
          ],
          [
           "Black Coffee - Unplugged"
          ],
          [
           "Seasons (feat. Madilyn Paige)"
          ],
          [
           "Be Okay"
          ],
          [
           "Hey Siri"
          ],
          [
           "Undrunk"
          ],
          [
           "Adhd"
          ],
          [
           "This Town"
          ],
          [
           "Goodnight Baby"
          ],
          [
           "Burden"
          ],
          [
           "Shine (feat. Stoneman Douglas Drama) - Town Hall Version"
          ],
          [
           "Play Pretend"
          ],
          [
           "When The Darkness Comes"
          ],
          [
           "Spotless Mind"
          ],
          [
           "Subway Song"
          ],
          [
           "There's Something In The Water"
          ],
          [
           "Insanity"
          ],
          [
           "I Will Sing"
          ],
          [
           "That's Us"
          ],
          [
           "House With No Mirrors"
          ],
          [
           "Young Blood - Acoustic"
          ],
          [
           "Wanted Man"
          ],
          [
           "Jaiden"
          ],
          [
           "Suffocate"
          ],
          [
           "Summer Feelings (feat. Charlie Puth) - From 'SCOOB!' The Album"
          ],
          [
           "Boomerang"
          ],
          [
           "Work Off My Hurt"
          ],
          [
           "Lucky People"
          ],
          [
           "Tonight Belongs to You"
          ],
          [
           "Hey Ya!"
          ],
          [
           "323"
          ],
          [
           "Bittersweet Endings"
          ],
          [
           "Hey There Delilah"
          ],
          [
           "forget about us"
          ],
          [
           "freshman year"
          ],
          [
           "Not Today"
          ],
          [
           "Köln"
          ],
          [
           "Hold on to You (Acoustic)"
          ],
          [
           "Sad Song (feat. Elena Coats)"
          ],
          [
           "Sugar Coat"
          ],
          [
           "The Last Song On Earth"
          ],
          [
           "The Girl You Call Best Friend"
          ],
          [
           "Love Like This"
          ],
          [
           "As We Ran"
          ],
          [
           "Kids Again"
          ],
          [
           "Wherever You Go"
          ],
          [
           "Hypoxia"
          ],
          [
           "City of Angels"
          ],
          [
           "Sweetest Thing"
          ],
          [
           "Silence - Acoustic"
          ],
          [
           "Be Still"
          ],
          [
           "To Be Alone With You"
          ],
          [
           "Since Saturday"
          ],
          [
           "Behind the Light"
          ],
          [
           "Better"
          ],
          [
           "stones around the sun"
          ],
          [
           "I Will Wait - Candlelight Version"
          ],
          [
           "I Will Always Be Yours"
          ],
          [
           "This Is On You - Acoustic"
          ],
          [
           "drift/(:("
          ],
          [
           "Summer"
          ],
          [
           "I Won't Give Up"
          ],
          [
           "Best Part of Me"
          ],
          [
           "Next to You"
          ],
          [
           "Would Anyone Care"
          ],
          [
           "Broken"
          ],
          [
           "Love Endures All Things"
          ],
          [
           "Letter From Last Summer"
          ],
          [
           "Are you happy?"
          ],
          [
           "Burning Bridges - Sistek Remix"
          ],
          [
           "Strangers"
          ],
          [
           "Ocean"
          ],
          [
           "I Wish I Never Met You"
          ],
          [
           "Weeds"
          ],
          [
           "Far Too Good"
          ],
          [
           "Already Gone (feat. Emily Warren)"
          ],
          [
           "Whole - demo"
          ],
          [
           "Mirage"
          ],
          [
           "the stars"
          ],
          [
           "Never Stop"
          ],
          [
           "Shelter"
          ],
          [
           "Last Dance"
          ],
          [
           "Place We Were Made"
          ],
          [
           "Oceans Between Us"
          ],
          [
           "Wonderfully Made"
          ],
          [
           "fragile tears"
          ],
          [
           "Last One Standing"
          ],
          [
           "Perfect"
          ],
          [
           "Let It Go"
          ],
          [
           "Ocean - Stripped Acoustic"
          ],
          [
           "Beauty In The Breakdown (Acoustic)"
          ],
          [
           "letting you in"
          ],
          [
           "She Walks in Beauty"
          ],
          [
           "Monsters of the North"
          ],
          [
           "Headlights"
          ],
          [
           "This Promise"
          ],
          [
           "Say You Won't Let Go"
          ],
          [
           "Dancing In The Minefields"
          ],
          [
           "Would You Be So Kind"
          ],
          [
           "Tired"
          ],
          [
           "demons"
          ],
          [
           "Someone To Stay"
          ],
          [
           "Out Of Love with You"
          ],
          [
           "In the Unknown"
          ],
          [
           "Younger - Acoustic"
          ],
          [
           "Watching You"
          ],
          [
           "Always You"
          ],
          [
           "Air So Sweet"
          ],
          [
           "I Will Follow You into the Dark"
          ],
          [
           "This Could Be"
          ],
          [
           "tear myself apart"
          ],
          [
           "Cool Girl"
          ],
          [
           "Old Wounds"
          ],
          [
           "I Wish I Was the Moon"
          ],
          [
           "let go (demo)"
          ],
          [
           "UFO"
          ],
          [
           "Two Punks In Love"
          ],
          [
           "Let Me Down Slowly"
          ],
          [
           "In My Veins - Feat. Erin Mccarley"
          ],
          [
           "Are You Okay"
          ],
          [
           "Wasted Love"
          ],
          [
           "This Is Love"
          ],
          [
           "you were good to me"
          ],
          [
           "we'll be fine"
          ],
          [
           "Nervous - Acoustic"
          ],
          [
           "Take a Chance on Me"
          ],
          [
           "can you hear me?"
          ],
          [
           "Upset With Me"
          ],
          [
           "For You"
          ],
          [
           "Kiss Me Slowly"
          ],
          [
           "Cheap Wine"
          ],
          [
           "forever fifteen"
          ],
          [
           "Only Girl"
          ],
          [
           "Feeling Whitney"
          ],
          [
           "Runneth Over"
          ],
          [
           "Paper Hearts (feat. Bailey Jehl)"
          ],
          [
           "I Can't Make You Love Me"
          ],
          [
           "Call Your Girlfriend"
          ],
          [
           "Maple Whisky"
          ],
          [
           "Tell The World"
          ],
          [
           "Vertigo"
          ],
          [
           "My Town"
          ],
          [
           "Next To Me"
          ],
          [
           "What We Had"
          ],
          [
           "If the Sun Is Shining"
          ],
          [
           "Close Your Eyes"
          ],
          [
           "All Dressed In White"
          ],
          [
           "Summer Storms"
          ],
          [
           "Part of Me"
          ],
          [
           "Simple Song"
          ],
          [
           "Excited Eyes"
          ],
          [
           "Closing Time"
          ],
          [
           "A Drop In The Ocean"
          ],
          [
           "Human Becoming"
          ],
          [
           "October - Live"
          ],
          [
           "June, After Dark"
          ],
          [
           "With or Without You"
          ],
          [
           "How to Save a Life"
          ],
          [
           "Macaroni Song"
          ],
          [
           "The Daylight"
          ],
          [
           "If By Chance"
          ],
          [
           "Peaches"
          ],
          [
           "Waste My Time"
          ],
          [
           "deep the water"
          ],
          [
           "Come On Get Higher"
          ],
          [
           "You In My Life"
          ]
         ],
         "hovertemplate": "0=%{x}<br>1=%{y}<br>2=%{z}<br>trackName=%{customdata[0]}<br>color=%{marker.color}<extra></extra>",
         "legendgroup": "",
         "marker": {
          "color": [
           0,
           10,
           27,
           36,
           40,
           8,
           40,
           22,
           21,
           15,
           43,
           22,
           44,
           6,
           5,
           30,
           6,
           34,
           41,
           27,
           27,
           33,
           41,
           6,
           45,
           22,
           30,
           9,
           22,
           2,
           0,
           6,
           4,
           6,
           10,
           42,
           6,
           38,
           39,
           44,
           34,
           20,
           21,
           8,
           1,
           30,
           4,
           2,
           25,
           33,
           6,
           15,
           21,
           10,
           10,
           0,
           21,
           6,
           6,
           43,
           7,
           30,
           21,
           1,
           41,
           12,
           37,
           21,
           35,
           24,
           41,
           34,
           22,
           1,
           18,
           3,
           39,
           41,
           0,
           21,
           31,
           33,
           17,
           2,
           33,
           39,
           46,
           15,
           20,
           35,
           40,
           1,
           23,
           1,
           10,
           18,
           34,
           33,
           8,
           30,
           6,
           39,
           31,
           35,
           27,
           38,
           41,
           33,
           33,
           21,
           33,
           34,
           1,
           8,
           24,
           28,
           38,
           19,
           41,
           2,
           25,
           28,
           41,
           30,
           26,
           10,
           1,
           18,
           31,
           42,
           4,
           24,
           7,
           19,
           18,
           25,
           43,
           1,
           18,
           4,
           28,
           25,
           29,
           35,
           30,
           5,
           33,
           30,
           45,
           24,
           23,
           38,
           0,
           40,
           25,
           1,
           0,
           21,
           37,
           8,
           6,
           10,
           11,
           8,
           18,
           41,
           38,
           19,
           27,
           38,
           13,
           6,
           1,
           44,
           41,
           18,
           44,
           45,
           39,
           43,
           30,
           3,
           15,
           33,
           7,
           16,
           12,
           38,
           18,
           3,
           44,
           6,
           0,
           28,
           30,
           16,
           42,
           37,
           30,
           20,
           1,
           18,
           44,
           27,
           38,
           21,
           8,
           28,
           40,
           7,
           25,
           7,
           37,
           15,
           34,
           18,
           40,
           1,
           40,
           34,
           18,
           22,
           29,
           1,
           23,
           11,
           3,
           31,
           41,
           30,
           6,
           36,
           46,
           31,
           17,
           10,
           0,
           44,
           8,
           21,
           10,
           33,
           0,
           21,
           31,
           1,
           10,
           45,
           8,
           44,
           6,
           42,
           14,
           28,
           9,
           21,
           10,
           17,
           1,
           7,
           35,
           41,
           21,
           37,
           0,
           6,
           8,
           25,
           11,
           34,
           43,
           45,
           10,
           1,
           27,
           32,
           10,
           45,
           19,
           15,
           12,
           34,
           44,
           8,
           30,
           13,
           33,
           21,
           16,
           16,
           21,
           41,
           46,
           21,
           34,
           30,
           0,
           10,
           0,
           18,
           40,
           33,
           8,
           21,
           0,
           0,
           1,
           8,
           0,
           39,
           42,
           42,
           18,
           33,
           41,
           37,
           38,
           0,
           44,
           6,
           0,
           0,
           23,
           2,
           41,
           38,
           6,
           21,
           12,
           41,
           40,
           30,
           23,
           12,
           17,
           36,
           34,
           15,
           9,
           1,
           27,
           10,
           41,
           10,
           10,
           21,
           25,
           18,
           34,
           10,
           21,
           4,
           6,
           28,
           38,
           1,
           1,
           40,
           10,
           11,
           18,
           24,
           11,
           5,
           21,
           34,
           42,
           28,
           40,
           26,
           17,
           22,
           34,
           35,
           22,
           44,
           18,
           2,
           7,
           15,
           39,
           21,
           33,
           35,
           10,
           1,
           11,
           13,
           16,
           23,
           21,
           1,
           25,
           0,
           23,
           35,
           38,
           34,
           18,
           13,
           8,
           35,
           13,
           17,
           41,
           39,
           11,
           41,
           9,
           16,
           13,
           21,
           22,
           1,
           38,
           15,
           33,
           2,
           41,
           0,
           7,
           42,
           22,
           24,
           2,
           28,
           30,
           13,
           39,
           34,
           22,
           34,
           42,
           11,
           44,
           11,
           9,
           39,
           38,
           1,
           45,
           34,
           29,
           42,
           45,
           41,
           44,
           42,
           2,
           9,
           9,
           43,
           28,
           17,
           40,
           22,
           25,
           11,
           8,
           10,
           38,
           1,
           31,
           24,
           6,
           15,
           21,
           1,
           11,
           33,
           39,
           28,
           6,
           28,
           38,
           11
          ],
          "coloraxis": "coloraxis",
          "symbol": "circle"
         },
         "mode": "markers",
         "name": "",
         "scene": "scene",
         "showlegend": false,
         "type": "scatter3d",
         "x": [
          0.8825564238673628,
          0.4611052463203644,
          -0.9007700716507125,
          -2.701514834329672,
          0.4785424135254074,
          0.33302670942770346,
          -0.3380655967544109,
          0.026651836779261678,
          -0.6246944922048404,
          -1.5878912056441596,
          0.2411031454201059,
          -0.6776463640699499,
          1.749235228979727,
          1.8571635574731589,
          2.8296004481175747,
          0.9851482279066535,
          1.9128453568272226,
          -2.146585352093663,
          0.07049339641034669,
          1.0793529437737681,
          -0.2857802826147956,
          -2.084690830440187,
          0.10861909232852364,
          1.951878714168808,
          0.09803521314322063,
          1.2638045422338975,
          -0.23017975539105212,
          -3.0032645793221526,
          2.157482885288363,
          2.293223043664797,
          0.16875232639286178,
          1.0066667019580486,
          -2.523362940947862,
          0.9732522442377117,
          -0.9691899067643052,
          2.0194244324414807,
          3.192096363068632,
          -3.2003548044368477,
          0.0442468228886913,
          2.5163369710258405,
          -1.2908248088894552,
          3.0509943413937677,
          0.5171053863153265,
          0.1321464906747509,
          -1.4094655742993327,
          -0.2556017255549056,
          -1.9408550712100832,
          2.2583111253163217,
          0.9442389405002287,
          -2.9543224581194307,
          2.8754711103507398,
          -1.0653535699623526,
          0.5154459191755453,
          -0.5192464911217272,
          -0.2743072538113846,
          -0.32083802597841904,
          -0.06300622357822,
          1.1473870049811745,
          1.6038147797249265,
          1.852704281057839,
          -2.6356690945968078,
          -0.027489926026731958,
          -0.26802941658801493,
          -1.6689291536746305,
          1.1510703498011288,
          1.6019144457151908,
          -3.1971001881034886,
          0.1743850650314059,
          0.7147345188020185,
          0.8003932796426834,
          1.5666884911893197,
          -0.864104888673226,
          1.215695298051132,
          -2.9254715126594832,
          1.122762501725602,
          -0.33486081020076147,
          -0.13897244930989497,
          0.6670110503413555,
          -0.18331113505964453,
          0.8416958674623589,
          1.3166658806096854,
          -1.5886691009901026,
          -1.087777261526514,
          4.652515024610862,
          -2.686998469602548,
          0.08480595510570862,
          -2.6001348435191987,
          -2.54946543570783,
          -0.49581034252322803,
          2.276639136908612,
          -0.5158560891927595,
          -3.196097439697652,
          1.7079141144507348,
          -1.4968709499678523,
          -1.1463560697395923,
          1.3213265298531292,
          -1.9068779809234255,
          -2.1532915310915404,
          0.9926416151928787,
          1.27922839094927,
          1.9927894437561986,
          -1.2534591716542944,
          1.8397723719637968,
          1.3464121062888426,
          2.221658532477578,
          -2.0332817378958326,
          1.546107035489863,
          -2.4937994273959845,
          -1.6578032309780353,
          0.031956423718336,
          -1.50763359394317,
          -0.6627085128188849,
          -1.514292165190143,
          -0.2584854400021693,
          1.4159428941774002,
          -2.4886830878988113,
          -2.4217172328457006,
          4.0475850198561405,
          -0.05727923931305896,
          2.6854962461100125,
          1.3466445288480213,
          -2.7407265813214288,
          0.91522997249018,
          0.40279863151176176,
          1.936991151757078,
          0.33594737753548265,
          -2.485637345572763,
          1.6949937718177048,
          1.7388912670523244,
          1.1298727767208225,
          -3.0876732746891724,
          1.7742921611286835,
          -1.2854339697662176,
          4.482071913198323,
          2.066746076375497,
          0.01593458422647575,
          1.055082670170008,
          -1.355596639407945,
          0.9863099433955752,
          -2.3115782673393697,
          -1.6223028511140463,
          2.0135675658439456,
          1.5118370318429408,
          -0.3914984748993741,
          0.9437146566982242,
          2.848781859055563,
          -3.354318806084068,
          1.0978630750808585,
          -0.14566076623666985,
          0.6288474587150812,
          1.2118519374635341,
          -3.003250992944995,
          0.22580241174005516,
          0.5763876416592413,
          2.0466315106671606,
          -1.3284129747456448,
          -0.10279543742880068,
          -0.25134733569023354,
          -2.573483479289553,
          0.19617911618814807,
          1.2203943501632422,
          -1.2582872792686752,
          1.380166223105261,
          -0.34511488939425483,
          1.4102607169220094,
          0.7314971977331298,
          -2.419617875181712,
          2.1031998563832794,
          0.029757621583044437,
          -1.5236989869339852,
          1.934316260027481,
          1.8324371431472688,
          -1.5861376880391618,
          2.0977600468290993,
          1.654807427041945,
          1.1661085685387864,
          1.3028013135106247,
          -0.39630879851354434,
          1.4543043053384859,
          1.0954349486022674,
          0.5375253235063495,
          2.0522006722270154,
          -2.088116351919182,
          -2.654230826691746,
          -2.5440862881229758,
          -2.3827592399274957,
          -0.17469273116952447,
          -1.8275169861491953,
          1.2269916050051537,
          0.15165246547207545,
          2.22594181140996,
          0.6592491797659765,
          0.2929030290774711,
          -3.693507810250295,
          0.9168584148033391,
          -1.0247378567146612,
          1.5687250297628328,
          -0.37828194357653794,
          0.7234689458721087,
          2.6760080647331095,
          -1.0509153996930676,
          -0.1305040299350588,
          2.0822582608665603,
          -0.3035008259926635,
          -3.863750864946058,
          0.05613294861746248,
          0.21279126658888536,
          -2.8551021326019765,
          -0.9151698405522365,
          -2.990686993054849,
          0.7417153433573146,
          -1.1685102902135716,
          -1.8087352256905864,
          -1.691806018315248,
          -0.766078066525972,
          1.5655542222159604,
          -0.25781145905969266,
          -1.8472840025977981,
          -0.5970544456837995,
          -1.2479473474224498,
          0.28537379665793744,
          1.9543939626769726,
          3.221119873125455,
          -0.9571124794524832,
          3.198977643758137,
          1.6976562806113193,
          0.5906521815900571,
          0.2805252809744537,
          0.3647223686779752,
          0.6157506171074338,
          2.0086161672819767,
          -2.4522785260046143,
          -2.7194413014589793,
          -0.6779149426722404,
          -1.6694092061837116,
          -0.7386751839753539,
          -0.11606899816443955,
          2.1240539657888426,
          -0.20171499499596554,
          1.2249999717247537,
          0.4388820267739861,
          -2.6901961464040602,
          0.9391609313697996,
          -0.06390740847908051,
          1.6444180816454657,
          -0.4332498301548627,
          -0.7085567865072745,
          -1.6133739457170633,
          0.8631210531789042,
          2.9285605862604642,
          1.884247527414879,
          2.2075354851543554,
          -0.7907569094632724,
          -2.7078274812906105,
          -1.3950160972538277,
          0.2616160104020481,
          -0.712824149194006,
          -1.6242213713113451,
          -2.0972164574430283,
          -2.44249095019666,
          0.4667565015892317,
          -0.39451581689191134,
          -1.0583148559649456,
          -2.946613878388885,
          -0.09805415585379598,
          1.6314429512553275,
          -0.019750196534469053,
          -0.1310024292519019,
          0.30074712688380895,
          -1.138483201916951,
          0.699653982660833,
          -1.2067281544311603,
          -1.3327710780216837,
          -1.108137380882174,
          1.304482839190237,
          -3.7259242545216904,
          -0.3417995822341042,
          0.6748100896335255,
          4.075206352985378,
          -2.546899194049992,
          2.4965875052203903,
          -1.1161696172085536,
          1.7165613246406846,
          0.2102109796744476,
          -0.18727880588137416,
          1.1161264274366955,
          -1.347938299500599,
          0.7945276467536957,
          -1.0303168911907543,
          -0.702796844128873,
          1.1290670226593358,
          1.1285683918900353,
          -3.736699996219761,
          -0.03656609303330256,
          -1.0502381844182898,
          -1.680049241292656,
          0.4387696316494675,
          -0.433961219201026,
          -0.03435663240556765,
          0.3212933557435941,
          0.010972837264509918,
          -1.3094783691600345,
          0.5282127889233793,
          0.8665626982526363,
          0.2552261012887242,
          0.05227246965393398,
          -1.9324754365711976,
          0.4181131920642474,
          -0.7350071284061954,
          1.9679459900263385,
          1.4268056339416482,
          1.780246910534822,
          0.8614764959224473,
          -3.774264466090632,
          0.23628832906413716,
          -1.711589145302768,
          -3.347742110240882,
          0.10743162184029173,
          3.0911956212945366,
          3.2916112505081703,
          -0.8221654650646346,
          -0.3023942411512259,
          1.8623388584249163,
          2.2364975521099204,
          0.49264767195153103,
          -2.241879349983409,
          2.1780233727426466,
          -0.14102844404015033,
          2.4442069070215013,
          0.521268410462931,
          0.34551790039915414,
          -0.17945713163972607,
          0.3814267847589209,
          3.258462748063805,
          -2.947453691821554,
          -2.813994788826169,
          -0.9085704873646959,
          -1.6633951453930411,
          -4.6112235759637725,
          -1.442128855661078,
          2.341126884932342,
          0.11775921132977636,
          0.9824312880629492,
          -0.5081004910104332,
          -1.1958176800141278,
          0.6135505804478818,
          1.6120327203027576,
          0.07106575091104882,
          -1.2413912839559451,
          -1.7310214525514298,
          0.3841917369619558,
          -0.11528674501679839,
          1.479377459039209,
          -1.561300645092355,
          -2.0392740764239066,
          -1.5242867646431568,
          -2.171190802213609,
          -0.3488672720187504,
          -0.20286484693172957,
          1.4576377995211818,
          1.538134288357219,
          1.2857108566703375,
          2.513976710009406,
          1.0337778879093913,
          -0.5292405680166855,
          -0.3992384041669561,
          1.5092272064697252,
          -2.3012917375528583,
          0.366020282307241,
          3.7012038499222575,
          -0.6528961160655283,
          1.420079409838508,
          -1.2427703094554072,
          0.39304014727227704,
          -0.8295570734580046,
          2.0783347964998056,
          0.3775853088476612,
          3.6306877430763698,
          -1.0922549307471427,
          -2.027787225062806,
          -0.7990441742143506,
          0.01459915268083907,
          -2.1781095111289854,
          -0.057781642211872174,
          -0.09397711607646199,
          -0.14447205199644134,
          1.2846298690747935,
          0.6661389014421208,
          0.05989124433929397,
          2.137897944326983,
          -0.3296688099042339,
          -1.2971158285498632,
          1.5640801677253464,
          -0.3281352886426231,
          0.7102891143133436,
          2.561586859078708,
          -3.4357086465366287,
          -0.5240659372582235,
          1.0882922468112637,
          -0.2274539779978144,
          -0.5093761708402561,
          1.3194151715708724,
          1.8466194897260886,
          -1.954225265693113,
          0.15526109180971573,
          -1.2759081828189582,
          1.9759757349373752,
          0.13246010230283098,
          -2.1471916993484244,
          -0.8008549110547498,
          0.35491482492078996,
          -0.06741661995446878,
          1.3576523132750107,
          -1.9302558697750642,
          -2.255341713126011,
          -1.0726530739022242,
          -1.9146198764732498,
          2.8092958606312353,
          1.1090138383500399,
          0.6691506359506201,
          -1.5381967973816963,
          1.5967701591395567,
          1.02331089884942,
          1.8996214926148312,
          3.926633632377518,
          -2.029996270915112,
          -0.25170111259799394,
          1.1104363123480792,
          -0.3850767905700728,
          -0.8774712079418694,
          1.4223516346133753,
          -1.5587437414428704,
          2.3567940383093964,
          1.5960051872092904,
          2.049344168927728,
          0.9728215838532785,
          -1.2601589865282867,
          0.9050050311918947,
          -2.576803423212039,
          -2.264136165493122,
          1.6529783666024818,
          -1.3888365692638465,
          3.2537605842161743,
          2.085414367104776,
          0.12566840265663848,
          -0.043228615342116423,
          2.4721101854432006,
          2.114470886632183,
          1.6100366503303392,
          -3.677286860705078,
          -1.979590100148274,
          0.3573395897766498,
          -2.658586330730561,
          -1.150631742123122,
          -0.4550569911095578,
          -0.37170183070550883,
          -0.32306581414546975,
          0.8486846848229402,
          -0.2692492049148698,
          -0.3762387325657026,
          -3.0930643653930336,
          -2.235798924021883,
          0.09986753938318405,
          1.4150372090191436,
          2.5174980886799094,
          -2.0572342967612807,
          0.893380317308403,
          -2.2937878720452507,
          1.6690856515221915,
          -2.032263050000778,
          0.8451989539264821,
          -2.0462649146991008,
          1.0992712119673933,
          -1.3159187592548818,
          -2.2619516474733787,
          1.1509654418143132
         ],
         "y": [
          -0.2567136342427878,
          -0.9024951642524204,
          -0.8969779599639269,
          -0.17854458447980412,
          -0.8299694771130369,
          2.17763143344979,
          -0.8943653617097724,
          -0.8997048018567309,
          0.21738783637351894,
          -0.0299049299978592,
          0.2768231011189165,
          0.7350906118832934,
          -0.5873491574646673,
          0.4363371456824772,
          1.0292476754848554,
          -0.24739941213751146,
          0.1280336600879712,
          0.6737510383412735,
          -0.47970544719245367,
          -0.6191414033691188,
          0.2483475053917454,
          -0.2132882395669672,
          -2.3266908728741176,
          -0.9589076852944969,
          0.5288159902928669,
          0.18967817382201996,
          -0.9377304595820772,
          -0.42231815464461897,
          0.9509993853977148,
          -1.1591207193166533,
          -0.8613668351302554,
          -0.8712479711157699,
          -2.2741702512716144,
          -0.9326312376107626,
          -1.513003644252839,
          -0.620305941200306,
          0.9147786836869584,
          -1.6260715623975173,
          3.944099987538238,
          0.5835550345772574,
          0.3674073637565447,
          1.3075040165093035,
          1.9201654162828048,
          -0.31789425993992876,
          0.6663382523156034,
          0.679902113856285,
          -1.4080916876365124,
          0.37907079104170444,
          2.109721131214856,
          -1.3488555884567808,
          0.39130995742028946,
          -1.2242942593492219,
          0.14372871854345678,
          -1.7976703215603462,
          -1.0779426166111352,
          -0.21180930695245317,
          0.02872228396335024,
          0.4799240736482637,
          0.3323640915226848,
          1.3259089727745703,
          -0.2528312348059213,
          0.5951808510706489,
          0.517287869058557,
          2.158373666386571,
          -0.3770092417070135,
          -1.7873092392450134,
          1.2737579244494939,
          1.4539957211747196,
          0.25023115691264125,
          1.0582698297869686,
          -1.1465892887207811,
          0.5913057606144272,
          -0.09131075221888012,
          0.7745104576321951,
          -0.06202033914783084,
          -1.4043136806954357,
          1.3926018439445262,
          -0.21105737243730646,
          1.5070809679313437,
          0.04807131826649133,
          2.2598155339718744,
          -0.5852445512161614,
          -0.7276154951711364,
          1.1371371917845212,
          0.0049929210575645035,
          1.2585879649110894,
          1.6051400633255282,
          0.45056219427242933,
          2.434512952884712,
          0.27818993429804445,
          -0.38499449687022297,
          1.2588710371147576,
          4.0509839463387385,
          1.3431717490762367,
          -2.2586853250069905,
          2.1928787833702432,
          0.7693039773263953,
          -2.021483827823027,
          -0.057630403128823955,
          -0.1766800094693313,
          0.8098947346662163,
          1.4685615714045304,
          1.448549190004102,
          -0.5699540789726132,
          -1.7935616102999783,
          -1.4011891691625673,
          -0.6278760399692936,
          -0.06302218129169888,
          1.069886025284857,
          1.9267267446618968,
          -1.2551019665043497,
          0.9648567185894332,
          2.1498981467575944,
          0.4687281759472715,
          0.41128051982879027,
          2.203449126596476,
          -0.27181188673749346,
          -0.39331576670414636,
          -1.3852859122985783,
          1.1919735493792976,
          1.7171863954123898,
          1.2485469837375476,
          -1.3139212241995173,
          -0.5827591002284143,
          -1.8422517239629872,
          -1.4966164519004037,
          1.0008018566476267,
          1.5675229657943324,
          2.802128477673632,
          -1.1537425114607216,
          0.7322393452416469,
          0.4923450659177206,
          1.261320672352334,
          -2.478422399923839,
          0.626143118636865,
          1.2165937749962255,
          -0.19672600232266357,
          1.4606716400450712,
          0.22925294395257767,
          -2.9788833137478394,
          0.900293463691085,
          0.26895392399407814,
          -3.329537385806985,
          -0.7227394384295929,
          -0.6809407893144528,
          0.8889327330933882,
          -2.78563573606792,
          -0.0786893427764338,
          -1.9218466984656566,
          1.227235345295154,
          2.4062865114370826,
          -0.36063510909417884,
          0.03252564999194606,
          -1.5295975375670186,
          1.3424704934150578,
          0.7476388626424884,
          -0.49625310611893486,
          0.48950986203882163,
          -0.7441554006598302,
          0.13204248225749926,
          -0.13950840000600442,
          -0.8448350003302214,
          -1.2737223656333134,
          -0.7913385435231343,
          0.8219394968597479,
          -2.25701376335328,
          -0.09111279413958201,
          -0.8530172522429884,
          -1.1176479411912321,
          -0.588957868970812,
          -2.1762550678082277,
          1.247015313192964,
          1.9304563662688603,
          0.12463515739723378,
          -0.769316177987548,
          0.4331223647755454,
          0.3255279000979135,
          -0.9156555312449566,
          1.127540229786368,
          1.1556429783475015,
          0.8237399061741523,
          -2.597809865408681,
          -0.032932439398886126,
          -0.20131426097391006,
          0.42833795900819027,
          -1.3659481192925234,
          1.2105706307095396,
          -0.22965800723037513,
          0.5432561603736452,
          -2.2500037080235953,
          -1.4108613730817687,
          -0.6578008000089494,
          0.2287356309855446,
          1.8660753324266404,
          0.024743621842806436,
          -2.047169011454559,
          -0.7615535425735721,
          -0.1894695278862416,
          -1.3338150191078832,
          0.40006825357777126,
          1.7406836186048722,
          0.41707642897330943,
          0.2328543503726699,
          -0.1346935872772282,
          -1.4284939306067073,
          0.9290639166385041,
          0.6499930917320126,
          1.573368121628175,
          -3.115638746891082,
          -0.9821762637266975,
          1.015664470001612,
          -0.5085273137198144,
          0.1247100158686022,
          0.3124241203915225,
          1.1111602810777803,
          1.591889737400085,
          -0.5129922879816006,
          0.7511084171867505,
          -1.1626312604900884,
          0.6499185191097197,
          0.5143709505398455,
          0.20454428879459113,
          -0.46732095311045235,
          0.748528713449096,
          2.305563298875976,
          -1.1960137230380272,
          -3.815874575394055,
          2.095160230128253,
          -0.6361311835403561,
          -0.3705457577677082,
          0.33305983176071574,
          -0.6394949387602651,
          0.7056876482498179,
          2.586129646500103,
          0.562910243925531,
          -0.5793736765974883,
          -0.06285595945373912,
          1.4469280617990705,
          -0.7796437617539772,
          1.6820854482102008,
          -0.8479387306145421,
          1.1922314722235268,
          -0.5158202165670626,
          1.0652293765534107,
          2.122087202319286,
          1.2396042543023111,
          -0.684321858904361,
          -1.2640204908800843,
          1.0125807445431365,
          0.8746385877196082,
          -0.276840218562748,
          -1.1777241190529706,
          -4.889396889674279,
          0.3205635074798357,
          -0.4661605154553488,
          0.3846270053889775,
          -0.7081823803123681,
          -0.03661963179642405,
          2.380911492975418,
          0.27965474625017256,
          -0.5276746848439036,
          -0.43686827261005096,
          0.8612937755842095,
          -1.7950504925052289,
          -0.2197050164025534,
          1.1499705621329719,
          -0.3729197384212659,
          0.3437939388162642,
          -0.4598743807527576,
          1.722076433891652,
          0.14459599622587996,
          -0.9636412312193876,
          -0.6011592274151687,
          1.4603934374036314,
          -1.4174638738923973,
          -5.637666047826541,
          -1.1582963672614128,
          -1.2561321221442334,
          -2.089738762839796,
          -0.037018132424955656,
          -0.5112377257872558,
          0.7081858266912971,
          -0.391022183155449,
          0.19093089926386259,
          0.5018179911062219,
          -0.8159074986905909,
          -0.2926393776496604,
          0.5767680315822191,
          -2.19133048091539,
          -1.5136105744191894,
          0.8612805607915046,
          -0.9956548268941727,
          0.1625579017232622,
          1.2898476985588438,
          1.9561520714261078,
          -0.1129351067564853,
          -0.8246883116766992,
          -0.583182846685488,
          0.18669680219873316,
          0.6912324602601808,
          -0.08908877123422378,
          1.1433505894327252,
          0.5738601183652875,
          0.4409249317113969,
          -1.1323861749781676,
          -1.160195704886786,
          0.9677204826634568,
          0.12237840377964634,
          -0.24574019227591185,
          1.3176379474460291,
          -0.41008153665388697,
          -2.5914886493601053,
          1.2081074327503794,
          0.008430296000765756,
          -0.6984452910572156,
          -0.6675612184034092,
          -0.4066602411446191,
          0.05645597989507363,
          -0.746173527663067,
          -0.002115826467328363,
          -0.25392089171622684,
          0.09012877290072126,
          2.201275930841814,
          -0.5132499933256256,
          -1.1031758766445436,
          -1.0662647147861748,
          0.20815943475964754,
          0.7534119592547346,
          -0.11853366187810702,
          -0.8131691388617465,
          -1.2410712200042,
          -0.2547704216206481,
          3.6816266525620827,
          -0.8277254058255804,
          -1.611600394671696,
          -0.8849792092789347,
          0.7795963284364341,
          -0.4557424112743242,
          -1.4576841932798263,
          3.0997657202703137,
          -1.2133590982324292,
          -2.0181587637113965,
          -0.4907232649991824,
          -0.7467814110282565,
          -0.6588197414045311,
          1.7814206220645465,
          0.9100969964853521,
          0.3221869712375194,
          1.1594106898151633,
          -1.4859665927584291,
          0.4180625241863196,
          -2.9627897791621454,
          -0.8720669842728672,
          1.7852020323436801,
          -0.5257994100554312,
          0.6611567914790737,
          2.346646253439484,
          -1.004720992739617,
          -0.652477231686369,
          0.3872957572432848,
          0.5071265904162772,
          -1.1077937626921759,
          0.12733082335325482,
          -1.0342988218945994,
          0.08472880761859615,
          0.5834857805065358,
          -1.0502835816218923,
          1.560357207987935,
          -1.7630875645522721,
          -3.0212871956252445,
          -0.35610980403452597,
          1.4178288769222838,
          0.19551031359968576,
          1.8341566606417266,
          1.0296465973041458,
          0.4838373677257694,
          0.11734116651933428,
          -0.2701945567945247,
          -1.1183453801573358,
          -0.9145515921701679,
          4.775555077404032,
          0.3172205274034071,
          -1.9521203617856284,
          -0.1392327504736255,
          -1.9217016825066904,
          1.811293652218985,
          -0.6046022210965423,
          -1.2714343975277573,
          -0.9615953551882518,
          2.405610561243715,
          -0.12625395831632152,
          2.755532114195901,
          1.2435748258240704,
          0.9265879721897847,
          3.040198608065812,
          -1.0622856000835246,
          -3.342207929154935,
          1.8304508544075127,
          0.6944631765886663,
          -1.9798472106081024,
          -0.1424736986166293,
          -0.28894189332305087,
          -0.21852954874819497,
          0.16012007944762965,
          -1.648640260493367,
          2.138295437494328,
          0.6169217664694815,
          0.12346636556471272,
          -1.3561072754951637,
          -0.6524930084496641,
          -2.044842051489136,
          1.3162473567928408,
          0.06865877055424736,
          1.6311524363854282,
          -1.169784793661727,
          -0.01540473754904356,
          -0.17106019797733688,
          -1.8394858906748977,
          -1.2778238602100584,
          0.20668896732325576,
          -0.13921800381263177,
          -1.6301372389590336,
          1.0381931089875784,
          0.6533087043149172,
          -0.9607545224928197,
          0.504008664024171,
          -0.5740670666940658,
          -1.7256598899800297,
          2.0913868186635383,
          0.9967407009623964,
          -0.20278643890918838,
          0.43290902648590723,
          -0.6331371256291728,
          0.2687885323873124,
          0.12151291798292706,
          -0.2889508504109401,
          -0.2509300689305729,
          0.6085722005911861,
          -0.547395417307193,
          1.8249684164976736,
          -0.37559284079504374,
          0.5585026928004734,
          -0.23858044524468597,
          -3.049845856544595,
          -0.5102781118853457,
          -0.5747456735347097,
          0.8334587024693983,
          -1.1301739331128329,
          0.013612884634756666,
          -0.7270754760633368,
          -0.06865552276986273,
          -0.046184501832871816,
          1.1488611456883335,
          0.7238338000838747,
          -1.0958591333755934,
          0.05340323367418547,
          0.12399371298108385,
          -0.4767155441254082,
          -0.12879096384597352,
          -0.9877558562484543,
          -0.42438301137821066,
          1.4135041993551223,
          0.19885777353429449,
          -0.008969894925925006,
          0.3009833715279306,
          0.7452128999047,
          0.831345834482604,
          1.1440068864415789,
          -0.05075072624098195,
          0.32670980802162347,
          1.5718600176036166,
          3.247090756361294,
          0.1380412484371702,
          1.2887649128445358,
          -0.387633828778546,
          -1.2942184477271854
         ],
         "z": [
          -1.20909930070419,
          -0.1326952196090511,
          -0.8883120454560192,
          2.942639413721063,
          -1.750575145698585,
          -1.6909367318719393,
          -1.2700224224139225,
          1.7688820818140982,
          0.44419892316881154,
          -0.20586065526701536,
          -0.7368079731233638,
          0.6847942439975658,
          -1.2532173173825774,
          -0.26717761425946074,
          2.9527986157723465,
          0.9753212627078339,
          -0.16211148394192423,
          -0.8504123587213821,
          -0.5198513353592128,
          -0.10197734302030313,
          -0.926214292395837,
          0.2904926567768036,
          -0.5925706625382092,
          0.6489548141684375,
          -1.458271409338132,
          1.0528435410951125,
          1.3425003201910413,
          1.8431802098230252,
          0.771403156813031,
          0.8474482598907637,
          -1.309380527823376,
          -0.20910922834733686,
          -0.7007935439249879,
          0.02966524949503751,
          -0.36980926226756394,
          -0.6253189966549175,
          -1.0327314048766034,
          -0.4097680277446043,
          0.016294437172774758,
          -0.8958198493786931,
          0.5936195365895705,
          3.1173191016616113,
          -1.2756660414289047,
          -1.4383956777677822,
          0.24124053149955899,
          1.0160580307795422,
          -0.06701541727408888,
          1.2404333900446411,
          1.757548950550478,
          1.8841408740579886,
          -1.1975713678090827,
          0.12955844859118956,
          -0.20958506242193287,
          -0.22899278747793134,
          -0.0628497223919451,
          -0.3490309006936722,
          -0.06569804982199895,
          0.6182576003830339,
          -0.7741657068727473,
          0.907299939339983,
          -1.593824310975568,
          0.2056961668603925,
          -0.34535957184869265,
          0.5006615418786814,
          0.07198257996040851,
          -1.2679700229320918,
          1.1882343646934281,
          -1.2861913188883483,
          -0.9938535069015448,
          -1.4308650231883764,
          -0.6360016746562659,
          0.021115324239910804,
          0.6381905270642927,
          0.45010849255677515,
          -0.060482507860427845,
          1.585328195278822,
          -0.6005235308395,
          -0.7444784563756353,
          -0.6908361697126822,
          -1.0793123977367638,
          -0.8794764368116312,
          -0.035708782040199304,
          -1.1766745250618735,
          1.73351014495678,
          0.8213504511332237,
          0.1953351019763094,
          -1.8024005145945927,
          -0.807460746638403,
          2.1864591553925714,
          -1.1716487587997029,
          -1.4979958326416327,
          0.776074041301047,
          3.0852423953426573,
          -0.20385741476709604,
          -0.009837367840779205,
          0.10453383759157271,
          0.2638665062466738,
          0.5317565287763113,
          -1.6569422095746158,
          0.9117992974752036,
          -0.01616786856657842,
          -0.30874447818141204,
          -0.2046824588595559,
          -2.1690259492015924,
          -0.5277604382788029,
          -0.3679222802054516,
          0.05355249660737965,
          0.7604097843015609,
          1.5210660205866433,
          0.012108950994360783,
          0.07050174856711054,
          0.049731416193820814,
          0.3607456311178777,
          -1.121857196545827,
          -0.7440409210455577,
          -0.3369062560578059,
          -0.035929343431403526,
          5.463701143638064,
          -0.494587026520937,
          0.9501137788310465,
          1.7326108332872363,
          -0.42562184760475835,
          -0.5076385712816233,
          1.2295319043404844,
          -1.600736940031741,
          -0.910198124528722,
          1.0751138300086218,
          0.9200081230511901,
          -0.0731270383970478,
          -0.01700087639464472,
          -1.1790080391239728,
          -1.2072308904905293,
          -0.44565841923409993,
          5.117373401799148,
          -0.3127218711824337,
          1.7914562800775917,
          -0.3204378524021051,
          -0.2871450531842744,
          -0.9134353586592021,
          1.8143332827522245,
          0.03423782073818179,
          1.1609891393499332,
          0.6885329756332303,
          -0.424522372633677,
          1.4254210323453544,
          2.367472367088213,
          0.6942702173019502,
          1.5852924698978046,
          -0.4662090229062153,
          1.5367240983912671,
          0.37283050046310606,
          -0.13639746898607683,
          -0.11923852762560012,
          -1.7927522433893495,
          1.6735545011919355,
          0.9598695046243797,
          -0.9277681299689767,
          0.41476790165146343,
          0.9460073059343261,
          -0.7674510086185875,
          -0.23541992940410278,
          0.4441744012820879,
          -0.20868784081385833,
          0.15392190427492525,
          -0.1287711866015472,
          -0.6017893279314988,
          -0.355606407510839,
          3.9654327732090766,
          -0.5178938670600401,
          0.15816688770106815,
          -1.0138440018721153,
          0.3355068986078625,
          -0.2568608513386796,
          -1.2426955358364526,
          -0.3310576090643208,
          -0.3411031394189169,
          -2.2817717806139184,
          0.635522201620232,
          -1.3778940315351262,
          -0.5745785757418842,
          1.498481068027583,
          1.1445450214810906,
          -0.3543398656847828,
          0.8459714917974288,
          0.16279198390149197,
          -0.04054870109775281,
          -1.2557995787443499,
          -0.7424739980121924,
          0.19034963255122378,
          2.3441569963678717,
          -1.2304915282371944,
          -0.6518459465275479,
          -0.5385925943472641,
          -0.7343111304228112,
          1.1434352022494976,
          -0.062345067440826865,
          -0.03209958858296363,
          -0.7133652135242894,
          2.2889203982108723,
          1.5549006763926714,
          -0.1318263548865088,
          -0.22489028766985475,
          -1.9689531696984375,
          0.12491093197128274,
          1.0074274102746064,
          -0.05589643948028302,
          -0.947366373053172,
          -0.5569199236793274,
          -1.1010545068193969,
          -0.7139636581205943,
          2.463587168367068,
          -0.629328384101063,
          -0.11206000160445996,
          -0.2915224933250355,
          -0.37239935524556633,
          -0.39503024632196887,
          -1.5732616517574212,
          1.17878515507691,
          -0.8349695139872461,
          -0.8036489280840854,
          0.15390301870270862,
          0.02566046521625281,
          1.9643181629312942,
          0.12384416872472011,
          1.4484973011769902,
          -1.3964481641039204,
          1.3545187646642356,
          0.537062741430371,
          -0.35722884239891717,
          1.3876100186706521,
          -0.6862320177257051,
          2.7079944941588217,
          -2.447455014743127,
          0.9272866644091514,
          -0.27932796364602336,
          -0.10843538214638962,
          0.19170057329674506,
          -2.585353276115833,
          -0.887758091369921,
          -1.0565548736115722,
          0.29230772336321803,
          1.654560551481814,
          -0.4419286508447358,
          -0.004450190723133517,
          0.1157637653419264,
          0.3415040590483773,
          0.4878977181745739,
          0.8261311025855199,
          -0.6956669714850666,
          -1.0813649573217314,
          -1.2185801638232276,
          -0.392453864476868,
          6.449344682483668,
          -1.1123842918474063,
          0.3912040528822067,
          -0.801388080745173,
          0.5379237164105293,
          -0.819734297195386,
          1.273563813602886,
          -0.5389037892352421,
          -3.255941231291658,
          -0.7898300511514607,
          0.178703184232361,
          -0.1031684693535294,
          -0.1291297916286812,
          -0.471333399354481,
          -0.8379510314253426,
          2.599484937747551,
          -0.6378700185344433,
          -0.6986691694158124,
          -0.39539234750775737,
          1.0454331567891146,
          0.010729586635373151,
          0.9839423430285263,
          -0.012934306426716545,
          1.1597709626015995,
          0.8312533082506173,
          -0.7412053482609278,
          4.056894941468627,
          -0.05504003435955499,
          -1.6281653529057036,
          0.5538237466013396,
          -0.6067099848929183,
          -1.4563250348129635,
          1.8717815896980587,
          0.5018728588080937,
          -0.005842953993549362,
          -1.6902124493749804,
          -0.6313419129462486,
          -0.8620663052326397,
          -1.1206636497542506,
          -0.012834743561350751,
          -1.9011866277729264,
          0.19986085707035883,
          -0.4664500050297821,
          1.7136437087378273,
          -0.4641748063662346,
          -0.5426136780485481,
          -0.3766003303668701,
          0.3300633488285605,
          -1.7846375909025378,
          1.265857185721663,
          -1.2119153114908405,
          -0.5744338887765924,
          -0.45884484414433935,
          -0.1710168134612492,
          0.6210170649645511,
          -0.7693412469026967,
          0.14731446495561476,
          -0.6894323584873654,
          -0.022924408950064906,
          -1.2737252816558777,
          -0.2613081775300848,
          0.6931004073931191,
          -0.06617108136537722,
          -0.1967302038007213,
          0.4300165524486977,
          -0.9971048473740817,
          -0.9622134810364207,
          0.4887352099366277,
          -0.8390564786029546,
          0.13002693712949936,
          1.003103336953986,
          -0.2468198775532128,
          -0.7752562372389827,
          0.4367308607090372,
          0.1622162465157166,
          -1.0862496034523441,
          -0.9300202737521489,
          -0.049375796424459974,
          -1.5667856370208793,
          1.9281188377558285,
          1.0332121309265545,
          -0.7585829444503979,
          0.7143637804552971,
          0.8552482879601705,
          -0.5176104821451721,
          -0.3490507114916376,
          0.237113169818793,
          0.4368246029002068,
          0.33979193833388677,
          -0.6440465488957297,
          -0.61509606898781,
          0.14252567456553725,
          -0.24853954762948877,
          -0.5541029779742285,
          1.964932970956536,
          0.47034172621297643,
          -0.395525163286187,
          -0.5583933197902946,
          -0.8592004634435356,
          -0.5465607504425953,
          0.3702183834119091,
          -0.425893730236146,
          -0.1278586264985456,
          1.32713502340332,
          -0.046912592566001665,
          -1.6976594035487662,
          -0.4357413424479895,
          -0.018265960844054255,
          0.31695468400330273,
          1.6165865095496001,
          0.8144545492607064,
          1.6410816111596913,
          0.04524514311859533,
          -1.2167186202202178,
          -0.8410552417532761,
          0.9425263764861426,
          -0.8577551916008577,
          -1.688940775164664,
          2.052754124269849,
          0.4784051017009904,
          -0.20984194673867415,
          -1.3245426191011622,
          1.476157119810529,
          -1.6044498535636897,
          -0.2568922444100044,
          1.333702992179636,
          -0.45722934843842766,
          -0.22281151739460223,
          0.6926159880693687,
          -0.08688707795641132,
          0.9458808992243789,
          -1.6689442408935624,
          -0.5475983673732014,
          0.8044591650146492,
          -0.37275832176715423,
          -0.38718783825551883,
          0.23769999805936995,
          1.6204388477606162,
          -0.7560907563525626,
          1.0144815594471823,
          2.2768424779955225,
          -0.7528480863164986,
          0.49722545410251523,
          -1.7496415177639786,
          1.3076098288827538,
          -0.39958746472905243,
          0.2287725990666644,
          0.2428244918057861,
          -1.2842911440981237,
          -1.9323103851992196,
          -1.3332174205025824,
          0.411722559736986,
          -0.6430430073127791,
          -0.9162233902421018,
          0.78579015157051,
          -0.13343850734502882,
          1.8296509120709525,
          0.878101502004664,
          -1.5136340545196258,
          -0.3561356595900299,
          0.44966456130127225,
          0.25888246588107255,
          -0.37949308748146754,
          -0.35346561747261274,
          0.8568394853476785,
          2.02721061813073,
          -0.7642712178876526,
          -0.7146996096321022,
          -0.6343354211712736,
          0.005105511889412983,
          0.8104506225107226,
          0.24632148474734525,
          1.6573931611561243,
          -0.13165263801967697,
          2.6339023644370982,
          0.32893296174048564,
          -0.13150167031450263,
          -0.5904026228169023,
          -0.009846303820671401,
          -0.6505676673198224,
          -0.810159942034637,
          -1.2310306680164753,
          -1.58980782356544,
          -0.8285708967782591,
          0.36566067983007977,
          -1.0419122063271673,
          -0.14075048848353652,
          1.0822393231138043,
          -0.8112775431821619,
          -0.33229131808151485,
          0.5267022766296034,
          -0.7354419556738185,
          -0.7122497412026463,
          -0.6620357473616652,
          -0.6055340365981232,
          -1.0517565234157769,
          1.0301793089689062,
          0.6254718538455162,
          0.6287234892200678,
          1.338126203745193,
          -0.6414118424519837,
          0.7335636831202088,
          -0.9600676792673403,
          0.34697544085389814,
          1.1672044134225148,
          -0.6111281839833289,
          -1.0940537158633674,
          -0.5528411383146866,
          0.6174661453470247,
          -0.5515570595793864,
          -0.4848928976659109,
          -0.039969884612083985,
          -0.6252929639585237,
          -0.42655026589743783,
          -1.1874050397851013,
          -0.2651941766823704,
          -0.4007293929727653,
          1.2213135333812055,
          -1.0394274129899943,
          0.8326441773303076,
          0.11587941388909549,
          -0.5735280873583797,
          -0.16279419057035543,
          -1.1476959211868345
         ]
        }
       ],
       "layout": {
        "coloraxis": {
         "colorbar": {
          "title": {
           "text": "color"
          }
         },
         "colorscale": [
          [
           0,
           "#0d0887"
          ],
          [
           0.1111111111111111,
           "#46039f"
          ],
          [
           0.2222222222222222,
           "#7201a8"
          ],
          [
           0.3333333333333333,
           "#9c179e"
          ],
          [
           0.4444444444444444,
           "#bd3786"
          ],
          [
           0.5555555555555556,
           "#d8576b"
          ],
          [
           0.6666666666666666,
           "#ed7953"
          ],
          [
           0.7777777777777778,
           "#fb9f3a"
          ],
          [
           0.8888888888888888,
           "#fdca26"
          ],
          [
           1,
           "#f0f921"
          ]
         ]
        },
        "legend": {
         "tracegroupgap": 0
        },
        "margin": {
         "t": 60
        },
        "scene": {
         "domain": {
          "x": [
           0,
           1
          ],
          "y": [
           0,
           1
          ]
         },
         "xaxis": {
          "title": {
           "text": "0"
          }
         },
         "yaxis": {
          "title": {
           "text": "1"
          }
         },
         "zaxis": {
          "title": {
           "text": "2"
          }
         }
        },
        "template": {
         "data": {
          "bar": [
           {
            "error_x": {
             "color": "#2a3f5f"
            },
            "error_y": {
             "color": "#2a3f5f"
            },
            "marker": {
             "line": {
              "color": "#E5ECF6",
              "width": 0.5
             },
             "pattern": {
              "fillmode": "overlay",
              "size": 10,
              "solidity": 0.2
             }
            },
            "type": "bar"
           }
          ],
          "barpolar": [
           {
            "marker": {
             "line": {
              "color": "#E5ECF6",
              "width": 0.5
             },
             "pattern": {
              "fillmode": "overlay",
              "size": 10,
              "solidity": 0.2
             }
            },
            "type": "barpolar"
           }
          ],
          "carpet": [
           {
            "aaxis": {
             "endlinecolor": "#2a3f5f",
             "gridcolor": "white",
             "linecolor": "white",
             "minorgridcolor": "white",
             "startlinecolor": "#2a3f5f"
            },
            "baxis": {
             "endlinecolor": "#2a3f5f",
             "gridcolor": "white",
             "linecolor": "white",
             "minorgridcolor": "white",
             "startlinecolor": "#2a3f5f"
            },
            "type": "carpet"
           }
          ],
          "choropleth": [
           {
            "colorbar": {
             "outlinewidth": 0,
             "ticks": ""
            },
            "type": "choropleth"
           }
          ],
          "contour": [
           {
            "colorbar": {
             "outlinewidth": 0,
             "ticks": ""
            },
            "colorscale": [
             [
              0,
              "#0d0887"
             ],
             [
              0.1111111111111111,
              "#46039f"
             ],
             [
              0.2222222222222222,
              "#7201a8"
             ],
             [
              0.3333333333333333,
              "#9c179e"
             ],
             [
              0.4444444444444444,
              "#bd3786"
             ],
             [
              0.5555555555555556,
              "#d8576b"
             ],
             [
              0.6666666666666666,
              "#ed7953"
             ],
             [
              0.7777777777777778,
              "#fb9f3a"
             ],
             [
              0.8888888888888888,
              "#fdca26"
             ],
             [
              1,
              "#f0f921"
             ]
            ],
            "type": "contour"
           }
          ],
          "contourcarpet": [
           {
            "colorbar": {
             "outlinewidth": 0,
             "ticks": ""
            },
            "type": "contourcarpet"
           }
          ],
          "heatmap": [
           {
            "colorbar": {
             "outlinewidth": 0,
             "ticks": ""
            },
            "colorscale": [
             [
              0,
              "#0d0887"
             ],
             [
              0.1111111111111111,
              "#46039f"
             ],
             [
              0.2222222222222222,
              "#7201a8"
             ],
             [
              0.3333333333333333,
              "#9c179e"
             ],
             [
              0.4444444444444444,
              "#bd3786"
             ],
             [
              0.5555555555555556,
              "#d8576b"
             ],
             [
              0.6666666666666666,
              "#ed7953"
             ],
             [
              0.7777777777777778,
              "#fb9f3a"
             ],
             [
              0.8888888888888888,
              "#fdca26"
             ],
             [
              1,
              "#f0f921"
             ]
            ],
            "type": "heatmap"
           }
          ],
          "heatmapgl": [
           {
            "colorbar": {
             "outlinewidth": 0,
             "ticks": ""
            },
            "colorscale": [
             [
              0,
              "#0d0887"
             ],
             [
              0.1111111111111111,
              "#46039f"
             ],
             [
              0.2222222222222222,
              "#7201a8"
             ],
             [
              0.3333333333333333,
              "#9c179e"
             ],
             [
              0.4444444444444444,
              "#bd3786"
             ],
             [
              0.5555555555555556,
              "#d8576b"
             ],
             [
              0.6666666666666666,
              "#ed7953"
             ],
             [
              0.7777777777777778,
              "#fb9f3a"
             ],
             [
              0.8888888888888888,
              "#fdca26"
             ],
             [
              1,
              "#f0f921"
             ]
            ],
            "type": "heatmapgl"
           }
          ],
          "histogram": [
           {
            "marker": {
             "pattern": {
              "fillmode": "overlay",
              "size": 10,
              "solidity": 0.2
             }
            },
            "type": "histogram"
           }
          ],
          "histogram2d": [
           {
            "colorbar": {
             "outlinewidth": 0,
             "ticks": ""
            },
            "colorscale": [
             [
              0,
              "#0d0887"
             ],
             [
              0.1111111111111111,
              "#46039f"
             ],
             [
              0.2222222222222222,
              "#7201a8"
             ],
             [
              0.3333333333333333,
              "#9c179e"
             ],
             [
              0.4444444444444444,
              "#bd3786"
             ],
             [
              0.5555555555555556,
              "#d8576b"
             ],
             [
              0.6666666666666666,
              "#ed7953"
             ],
             [
              0.7777777777777778,
              "#fb9f3a"
             ],
             [
              0.8888888888888888,
              "#fdca26"
             ],
             [
              1,
              "#f0f921"
             ]
            ],
            "type": "histogram2d"
           }
          ],
          "histogram2dcontour": [
           {
            "colorbar": {
             "outlinewidth": 0,
             "ticks": ""
            },
            "colorscale": [
             [
              0,
              "#0d0887"
             ],
             [
              0.1111111111111111,
              "#46039f"
             ],
             [
              0.2222222222222222,
              "#7201a8"
             ],
             [
              0.3333333333333333,
              "#9c179e"
             ],
             [
              0.4444444444444444,
              "#bd3786"
             ],
             [
              0.5555555555555556,
              "#d8576b"
             ],
             [
              0.6666666666666666,
              "#ed7953"
             ],
             [
              0.7777777777777778,
              "#fb9f3a"
             ],
             [
              0.8888888888888888,
              "#fdca26"
             ],
             [
              1,
              "#f0f921"
             ]
            ],
            "type": "histogram2dcontour"
           }
          ],
          "mesh3d": [
           {
            "colorbar": {
             "outlinewidth": 0,
             "ticks": ""
            },
            "type": "mesh3d"
           }
          ],
          "parcoords": [
           {
            "line": {
             "colorbar": {
              "outlinewidth": 0,
              "ticks": ""
             }
            },
            "type": "parcoords"
           }
          ],
          "pie": [
           {
            "automargin": true,
            "type": "pie"
           }
          ],
          "scatter": [
           {
            "fillpattern": {
             "fillmode": "overlay",
             "size": 10,
             "solidity": 0.2
            },
            "type": "scatter"
           }
          ],
          "scatter3d": [
           {
            "line": {
             "colorbar": {
              "outlinewidth": 0,
              "ticks": ""
             }
            },
            "marker": {
             "colorbar": {
              "outlinewidth": 0,
              "ticks": ""
             }
            },
            "type": "scatter3d"
           }
          ],
          "scattercarpet": [
           {
            "marker": {
             "colorbar": {
              "outlinewidth": 0,
              "ticks": ""
             }
            },
            "type": "scattercarpet"
           }
          ],
          "scattergeo": [
           {
            "marker": {
             "colorbar": {
              "outlinewidth": 0,
              "ticks": ""
             }
            },
            "type": "scattergeo"
           }
          ],
          "scattergl": [
           {
            "marker": {
             "colorbar": {
              "outlinewidth": 0,
              "ticks": ""
             }
            },
            "type": "scattergl"
           }
          ],
          "scattermapbox": [
           {
            "marker": {
             "colorbar": {
              "outlinewidth": 0,
              "ticks": ""
             }
            },
            "type": "scattermapbox"
           }
          ],
          "scatterpolar": [
           {
            "marker": {
             "colorbar": {
              "outlinewidth": 0,
              "ticks": ""
             }
            },
            "type": "scatterpolar"
           }
          ],
          "scatterpolargl": [
           {
            "marker": {
             "colorbar": {
              "outlinewidth": 0,
              "ticks": ""
             }
            },
            "type": "scatterpolargl"
           }
          ],
          "scatterternary": [
           {
            "marker": {
             "colorbar": {
              "outlinewidth": 0,
              "ticks": ""
             }
            },
            "type": "scatterternary"
           }
          ],
          "surface": [
           {
            "colorbar": {
             "outlinewidth": 0,
             "ticks": ""
            },
            "colorscale": [
             [
              0,
              "#0d0887"
             ],
             [
              0.1111111111111111,
              "#46039f"
             ],
             [
              0.2222222222222222,
              "#7201a8"
             ],
             [
              0.3333333333333333,
              "#9c179e"
             ],
             [
              0.4444444444444444,
              "#bd3786"
             ],
             [
              0.5555555555555556,
              "#d8576b"
             ],
             [
              0.6666666666666666,
              "#ed7953"
             ],
             [
              0.7777777777777778,
              "#fb9f3a"
             ],
             [
              0.8888888888888888,
              "#fdca26"
             ],
             [
              1,
              "#f0f921"
             ]
            ],
            "type": "surface"
           }
          ],
          "table": [
           {
            "cells": {
             "fill": {
              "color": "#EBF0F8"
             },
             "line": {
              "color": "white"
             }
            },
            "header": {
             "fill": {
              "color": "#C8D4E3"
             },
             "line": {
              "color": "white"
             }
            },
            "type": "table"
           }
          ]
         },
         "layout": {
          "annotationdefaults": {
           "arrowcolor": "#2a3f5f",
           "arrowhead": 0,
           "arrowwidth": 1
          },
          "autotypenumbers": "strict",
          "coloraxis": {
           "colorbar": {
            "outlinewidth": 0,
            "ticks": ""
           }
          },
          "colorscale": {
           "diverging": [
            [
             0,
             "#8e0152"
            ],
            [
             0.1,
             "#c51b7d"
            ],
            [
             0.2,
             "#de77ae"
            ],
            [
             0.3,
             "#f1b6da"
            ],
            [
             0.4,
             "#fde0ef"
            ],
            [
             0.5,
             "#f7f7f7"
            ],
            [
             0.6,
             "#e6f5d0"
            ],
            [
             0.7,
             "#b8e186"
            ],
            [
             0.8,
             "#7fbc41"
            ],
            [
             0.9,
             "#4d9221"
            ],
            [
             1,
             "#276419"
            ]
           ],
           "sequential": [
            [
             0,
             "#0d0887"
            ],
            [
             0.1111111111111111,
             "#46039f"
            ],
            [
             0.2222222222222222,
             "#7201a8"
            ],
            [
             0.3333333333333333,
             "#9c179e"
            ],
            [
             0.4444444444444444,
             "#bd3786"
            ],
            [
             0.5555555555555556,
             "#d8576b"
            ],
            [
             0.6666666666666666,
             "#ed7953"
            ],
            [
             0.7777777777777778,
             "#fb9f3a"
            ],
            [
             0.8888888888888888,
             "#fdca26"
            ],
            [
             1,
             "#f0f921"
            ]
           ],
           "sequentialminus": [
            [
             0,
             "#0d0887"
            ],
            [
             0.1111111111111111,
             "#46039f"
            ],
            [
             0.2222222222222222,
             "#7201a8"
            ],
            [
             0.3333333333333333,
             "#9c179e"
            ],
            [
             0.4444444444444444,
             "#bd3786"
            ],
            [
             0.5555555555555556,
             "#d8576b"
            ],
            [
             0.6666666666666666,
             "#ed7953"
            ],
            [
             0.7777777777777778,
             "#fb9f3a"
            ],
            [
             0.8888888888888888,
             "#fdca26"
            ],
            [
             1,
             "#f0f921"
            ]
           ]
          },
          "colorway": [
           "#636efa",
           "#EF553B",
           "#00cc96",
           "#ab63fa",
           "#FFA15A",
           "#19d3f3",
           "#FF6692",
           "#B6E880",
           "#FF97FF",
           "#FECB52"
          ],
          "font": {
           "color": "#2a3f5f"
          },
          "geo": {
           "bgcolor": "white",
           "lakecolor": "white",
           "landcolor": "#E5ECF6",
           "showlakes": true,
           "showland": true,
           "subunitcolor": "white"
          },
          "hoverlabel": {
           "align": "left"
          },
          "hovermode": "closest",
          "mapbox": {
           "style": "light"
          },
          "paper_bgcolor": "white",
          "plot_bgcolor": "#E5ECF6",
          "polar": {
           "angularaxis": {
            "gridcolor": "white",
            "linecolor": "white",
            "ticks": ""
           },
           "bgcolor": "#E5ECF6",
           "radialaxis": {
            "gridcolor": "white",
            "linecolor": "white",
            "ticks": ""
           }
          },
          "scene": {
           "xaxis": {
            "backgroundcolor": "#E5ECF6",
            "gridcolor": "white",
            "gridwidth": 2,
            "linecolor": "white",
            "showbackground": true,
            "ticks": "",
            "zerolinecolor": "white"
           },
           "yaxis": {
            "backgroundcolor": "#E5ECF6",
            "gridcolor": "white",
            "gridwidth": 2,
            "linecolor": "white",
            "showbackground": true,
            "ticks": "",
            "zerolinecolor": "white"
           },
           "zaxis": {
            "backgroundcolor": "#E5ECF6",
            "gridcolor": "white",
            "gridwidth": 2,
            "linecolor": "white",
            "showbackground": true,
            "ticks": "",
            "zerolinecolor": "white"
           }
          },
          "shapedefaults": {
           "line": {
            "color": "#2a3f5f"
           }
          },
          "ternary": {
           "aaxis": {
            "gridcolor": "white",
            "linecolor": "white",
            "ticks": ""
           },
           "baxis": {
            "gridcolor": "white",
            "linecolor": "white",
            "ticks": ""
           },
           "bgcolor": "#E5ECF6",
           "caxis": {
            "gridcolor": "white",
            "linecolor": "white",
            "ticks": ""
           }
          },
          "title": {
           "x": 0.05
          },
          "xaxis": {
           "automargin": true,
           "gridcolor": "white",
           "linecolor": "white",
           "ticks": "",
           "title": {
            "standoff": 15
           },
           "zerolinecolor": "white",
           "zerolinewidth": 2
          },
          "yaxis": {
           "automargin": true,
           "gridcolor": "white",
           "linecolor": "white",
           "ticks": "",
           "title": {
            "standoff": 15
           },
           "zerolinecolor": "white",
           "zerolinewidth": 2
          }
         }
        }
       }
      }
     },
     "metadata": {},
     "output_type": "display_data"
    }
   ],
   "source": [
    "all_pc_cluster = KMeans(n_clusters=all_pcs.shape[0] // 10, n_init='auto').fit_predict(all_pcs.drop(columns=['trackName'])) #all_pcs\n",
    "all_pc_plot = all_pcs\n",
    "all_pc_plot['color'] = all_pc_cluster\n",
    "px.scatter_3d(all_pc_plot, x=0, y=1, z=2, hover_data='trackName', color='color')"
   ]
  },
  {
   "cell_type": "code",
   "execution_count": 308,
   "metadata": {},
   "outputs": [],
   "source": [
    "def get_playlist(song):\n",
    "    # label = cluster_w_labels[cluster_w_labels['trackName'] == song].color.iloc[0] #.loc[0, 'color']\n",
    "    # playlist = cluster_w_labels[cluster_w_labels['color'] == label]\n",
    "    # return playlist['trackName']\n",
    "\n",
    "    # # this is using the 3 PCs instead of raw elements, current least favorite bc it's less relevant\n",
    "    # label = tst_plot[tst_plot['trackName'] == song].iloc[0, -1]#.loc['color', 0]\n",
    "    # playlist = tst_plot[tst_plot['color'] == label]\n",
    "    # return playlist['trackName']\n",
    "\n",
    "    # this uses all the PCs instead of raw or 3 PCs\n",
    "    label = all_pc_plot[all_pc_plot['trackName'] == song].iloc[0, -1]#.loc['color', 0]\n",
    "    playlist = all_pc_plot[all_pc_plot['color'] == label]\n",
    "    return playlist['trackName']\n",
    "    "
   ]
  },
  {
   "cell_type": "code",
   "execution_count": 310,
   "metadata": {},
   "outputs": [
    {
     "data": {
      "text/plain": [
       "18                                       Hailey\n",
       "22                  I Met Sarah in the Bathroom\n",
       "64                             stuck in my head\n",
       "70                       Somewhere in Ann Arbor\n",
       "77                                         Home\n",
       "106    The Way That I Love You (Single Version)\n",
       "118                                      Ho Hey\n",
       "122                        just like you - demo\n",
       "165                                 Never the 1\n",
       "174                         The Best - Acoustic\n",
       "228                         Bloom - Bonus Track\n",
       "261                                  Maybe I Do\n",
       "291                               Please Notice\n",
       "314                                    Hey Siri\n",
       "324                                 Subway Song\n",
       "329                       House With No Mirrors\n",
       "342                           Hey There Delilah\n",
       "404                                  Headlights\n",
       "407                   Dancing In The Minefields\n",
       "418             I Will Follow You into the Dark\n",
       "445            Paper Hearts (feat. Bailey Jehl)\n",
       "Name: trackName, dtype: object"
      ]
     },
     "execution_count": 310,
     "metadata": {},
     "output_type": "execute_result"
    }
   ],
   "source": [
    "get_playlist('By Your Side')\n",
    "# get_playlist('I Lived')\n",
    "# get_playlist('Hey It\\'s Delilah')\n",
    "get_playlist('Hey There Delilah')"
   ]
  },
  {
   "cell_type": "code",
   "execution_count": 245,
   "metadata": {},
   "outputs": [],
   "source": []
  },
  {
   "cell_type": "markdown",
   "metadata": {},
   "source": [
    "### Part 3: Loading in a playlist and comparing it to other songs in the playlist\n",
    "#### Read in, PCA, plot with colors"
   ]
  },
  {
   "cell_type": "code",
   "execution_count": null,
   "metadata": {},
   "outputs": [],
   "source": []
  },
  {
   "cell_type": "markdown",
   "metadata": {},
   "source": [
    "### Part 4: Selecting additional relevant songs for playlist\n",
    "#### Find most similar ones to playlist songs"
   ]
  },
  {
   "cell_type": "code",
   "execution_count": null,
   "metadata": {},
   "outputs": [],
   "source": []
  }
 ],
 "metadata": {
  "kernelspec": {
   "display_name": "Python 3",
   "language": "python",
   "name": "python3"
  },
  "language_info": {
   "codemirror_mode": {
    "name": "ipython",
    "version": 3
   },
   "file_extension": ".py",
   "mimetype": "text/x-python",
   "name": "python",
   "nbconvert_exporter": "python",
   "pygments_lexer": "ipython3",
   "version": "3.10.11"
  },
  "orig_nbformat": 4
 },
 "nbformat": 4,
 "nbformat_minor": 2
}
