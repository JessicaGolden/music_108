{
 "cells": [
  {
   "cell_type": "code",
   "execution_count": 118,
   "metadata": {},
   "outputs": [],
   "source": [
    "#!pip install -U python-dotenv\n",
    "#!pip install spotipy"
   ]
  },
  {
   "cell_type": "code",
   "execution_count": 1,
   "metadata": {},
   "outputs": [],
   "source": [
    "import pandas as pd\n",
    "import os\n",
    "import plotly.express as px\n",
    "import spotipy\n",
    "from spotipy import oauth2\n",
    "from dotenv import load_dotenv\n",
    "import os\n",
    "from spotipy.oauth2 import SpotifyClientCredentials"
   ]
  },
  {
   "cell_type": "code",
   "execution_count": 3,
   "metadata": {},
   "outputs": [],
   "source": [
    "path = os.getcwd()\n",
    "load_dotenv(dotenv_path=path + f\"\\env_vars.env\")\n",
    "os.environ['SPOTIPY_CLIENT_ID'] = os.environ.get('SPOTIPY_CLIENT_ID')\n",
    "os.environ['SPOTIPY_CLIENT_SECRET'] = os.environ.get('SPOTIPY_CLIENT_SECRET')"
   ]
  },
  {
   "cell_type": "markdown",
   "metadata": {},
   "source": [
    "### Part 1: Loading in the Data\n",
    "#### We will load in my personal data blah blah, you can replace the string with your file path to analyze your music"
   ]
  },
  {
   "cell_type": "code",
   "execution_count": 4,
   "metadata": {},
   "outputs": [
    {
     "name": "stdout",
     "output_type": "stream",
     "text": [
      "(33284, 4)\n"
     ]
    },
    {
     "data": {
      "text/html": [
       "<div>\n",
       "<style scoped>\n",
       "    .dataframe tbody tr th:only-of-type {\n",
       "        vertical-align: middle;\n",
       "    }\n",
       "\n",
       "    .dataframe tbody tr th {\n",
       "        vertical-align: top;\n",
       "    }\n",
       "\n",
       "    .dataframe thead th {\n",
       "        text-align: right;\n",
       "    }\n",
       "</style>\n",
       "<table border=\"1\" class=\"dataframe\">\n",
       "  <thead>\n",
       "    <tr style=\"text-align: right;\">\n",
       "      <th></th>\n",
       "      <th>endTime</th>\n",
       "      <th>artistName</th>\n",
       "      <th>trackName</th>\n",
       "      <th>msPlayed</th>\n",
       "    </tr>\n",
       "  </thead>\n",
       "  <tbody>\n",
       "    <tr>\n",
       "      <th>0</th>\n",
       "      <td>2020-12-26 00:02</td>\n",
       "      <td>Michael Schulte</td>\n",
       "      <td>The Love You Left Behind</td>\n",
       "      <td>194546</td>\n",
       "    </tr>\n",
       "    <tr>\n",
       "      <th>1</th>\n",
       "      <td>2020-12-26 00:05</td>\n",
       "      <td>Lewis Capaldi</td>\n",
       "      <td>Lost On You</td>\n",
       "      <td>197178</td>\n",
       "    </tr>\n",
       "    <tr>\n",
       "      <th>2</th>\n",
       "      <td>2020-12-26 00:08</td>\n",
       "      <td>Arlissa</td>\n",
       "      <td>Praying for Love</td>\n",
       "      <td>182535</td>\n",
       "    </tr>\n",
       "    <tr>\n",
       "      <th>3</th>\n",
       "      <td>2020-12-26 00:12</td>\n",
       "      <td>JP Saxe</td>\n",
       "      <td>A Little Bit Yours</td>\n",
       "      <td>225680</td>\n",
       "    </tr>\n",
       "    <tr>\n",
       "      <th>4</th>\n",
       "      <td>2020-12-26 00:16</td>\n",
       "      <td>My Brothers And I</td>\n",
       "      <td>Just Getting to Know You</td>\n",
       "      <td>252840</td>\n",
       "    </tr>\n",
       "  </tbody>\n",
       "</table>\n",
       "</div>"
      ],
      "text/plain": [
       "            endTime         artistName                 trackName  msPlayed\n",
       "0  2020-12-26 00:02    Michael Schulte  The Love You Left Behind    194546\n",
       "1  2020-12-26 00:05      Lewis Capaldi               Lost On You    197178\n",
       "2  2020-12-26 00:08            Arlissa          Praying for Love    182535\n",
       "3  2020-12-26 00:12            JP Saxe        A Little Bit Yours    225680\n",
       "4  2020-12-26 00:16  My Brothers And I  Just Getting to Know You    252840"
      ]
     },
     "execution_count": 4,
     "metadata": {},
     "output_type": "execute_result"
    }
   ],
   "source": [
    "num_histories = 4\n",
    "listening = pd.DataFrame()\n",
    "for i in range(num_histories):\n",
    "    temp_df = pd.read_json(path + f\"\\MyData\\StreamingHistory{i}.json\")\n",
    "    listening = pd.concat([listening, temp_df])\n",
    "print(listening.shape)\n",
    "listening.head(5)"
   ]
  },
  {
   "cell_type": "code",
   "execution_count": 5,
   "metadata": {},
   "outputs": [
    {
     "data": {
      "text/html": [
       "<div>\n",
       "<style scoped>\n",
       "    .dataframe tbody tr th:only-of-type {\n",
       "        vertical-align: middle;\n",
       "    }\n",
       "\n",
       "    .dataframe tbody tr th {\n",
       "        vertical-align: top;\n",
       "    }\n",
       "\n",
       "    .dataframe thead th {\n",
       "        text-align: right;\n",
       "    }\n",
       "</style>\n",
       "<table border=\"1\" class=\"dataframe\">\n",
       "  <thead>\n",
       "    <tr style=\"text-align: right;\">\n",
       "      <th></th>\n",
       "      <th>playlists</th>\n",
       "    </tr>\n",
       "  </thead>\n",
       "  <tbody>\n",
       "    <tr>\n",
       "      <th>0</th>\n",
       "      <td>{'name': 'My Playlist #23', 'lastModifiedDate'...</td>\n",
       "    </tr>\n",
       "    <tr>\n",
       "      <th>1</th>\n",
       "      <td>{'name': 'My Playlist #22', 'lastModifiedDate'...</td>\n",
       "    </tr>\n",
       "    <tr>\n",
       "      <th>2</th>\n",
       "      <td>{'name': 'Stealing Spotify Daily Mixes', 'last...</td>\n",
       "    </tr>\n",
       "    <tr>\n",
       "      <th>3</th>\n",
       "      <td>{'name': 'Jess Chill Reccomended by Spotify', ...</td>\n",
       "    </tr>\n",
       "    <tr>\n",
       "      <th>4</th>\n",
       "      <td>{'name': 'Jess &lt;3 Vibes?', 'lastModifiedDate':...</td>\n",
       "    </tr>\n",
       "  </tbody>\n",
       "</table>\n",
       "</div>"
      ],
      "text/plain": [
       "                                           playlists\n",
       "0  {'name': 'My Playlist #23', 'lastModifiedDate'...\n",
       "1  {'name': 'My Playlist #22', 'lastModifiedDate'...\n",
       "2  {'name': 'Stealing Spotify Daily Mixes', 'last...\n",
       "3  {'name': 'Jess Chill Reccomended by Spotify', ...\n",
       "4  {'name': 'Jess <3 Vibes?', 'lastModifiedDate':..."
      ]
     },
     "execution_count": 5,
     "metadata": {},
     "output_type": "execute_result"
    }
   ],
   "source": [
    "playlists = pd.read_json(path + f\"\\MyData\\Playlist1.json\")\n",
    "playlists.head(5)"
   ]
  },
  {
   "cell_type": "markdown",
   "metadata": {},
   "source": [
    "### Part 2: EDA"
   ]
  },
  {
   "cell_type": "markdown",
   "metadata": {},
   "source": []
  },
  {
   "cell_type": "code",
   "execution_count": 6,
   "metadata": {},
   "outputs": [
    {
     "data": {
      "text/plain": [
       "{'name': 'Jess Chill Reccomended by Spotify',\n",
       " 'lastModifiedDate': '2021-12-04',\n",
       " 'items': [{'track': {'trackName': 'House',\n",
       "    'artistName': 'Joshua Moss',\n",
       "    'albumName': 'House',\n",
       "    'trackUri': 'spotify:track:3BdtiKSZveePCDhfncBOFd'},\n",
       "   'episode': None,\n",
       "   'localTrack': None},\n",
       "  {'track': {'trackName': 'Apple Pie',\n",
       "    'artistName': 'Lizzy McAlpine',\n",
       "    'albumName': 'Give Me A Minute',\n",
       "    'trackUri': 'spotify:track:5FKNq0lLJnP3iZzBTD0PZj'},\n",
       "   'episode': None,\n",
       "   'localTrack': None},\n",
       "  {'track': {'trackName': 'Free',\n",
       "    'artistName': 'Elina',\n",
       "    'albumName': 'Free',\n",
       "    'trackUri': 'spotify:track:3hOWsTM9OpI6c72iQHP4EB'},\n",
       "   'episode': None,\n",
       "   'localTrack': None},\n",
       "  {'track': {'trackName': 'Pancakes for Dinner',\n",
       "    'artistName': 'Lizzy McAlpine',\n",
       "    'albumName': 'Give Me A Minute',\n",
       "    'trackUri': 'spotify:track:4HffeEF97c6UxNePgbuECW'},\n",
       "   'episode': None,\n",
       "   'localTrack': None}],\n",
       " 'description': None,\n",
       " 'numberOfFollowers': 0}"
      ]
     },
     "execution_count": 6,
     "metadata": {},
     "output_type": "execute_result"
    }
   ],
   "source": [
    "playlists['playlists'][3]"
   ]
  },
  {
   "cell_type": "code",
   "execution_count": 8,
   "metadata": {},
   "outputs": [
    {
     "data": {
      "text/html": [
       "<div>\n",
       "<style scoped>\n",
       "    .dataframe tbody tr th:only-of-type {\n",
       "        vertical-align: middle;\n",
       "    }\n",
       "\n",
       "    .dataframe tbody tr th {\n",
       "        vertical-align: top;\n",
       "    }\n",
       "\n",
       "    .dataframe thead th {\n",
       "        text-align: right;\n",
       "    }\n",
       "</style>\n",
       "<table border=\"1\" class=\"dataframe\">\n",
       "  <thead>\n",
       "    <tr style=\"text-align: right;\">\n",
       "      <th></th>\n",
       "      <th>trackName</th>\n",
       "      <th>artistName</th>\n",
       "      <th>count</th>\n",
       "    </tr>\n",
       "  </thead>\n",
       "  <tbody>\n",
       "    <tr>\n",
       "      <th>4589</th>\n",
       "      <td>Trying to Kill the Moon</td>\n",
       "      <td>Motherfolk</td>\n",
       "      <td>5</td>\n",
       "    </tr>\n",
       "    <tr>\n",
       "      <th>1538</th>\n",
       "      <td>God Knows</td>\n",
       "      <td>Cody Johns</td>\n",
       "      <td>3</td>\n",
       "    </tr>\n",
       "    <tr>\n",
       "      <th>315</th>\n",
       "      <td>Avalanche</td>\n",
       "      <td>Handsome and Gretyl</td>\n",
       "      <td>1</td>\n",
       "    </tr>\n",
       "    <tr>\n",
       "      <th>297</th>\n",
       "      <td>Asthma Attack</td>\n",
       "      <td>NOAHFINNCE</td>\n",
       "      <td>2</td>\n",
       "    </tr>\n",
       "    <tr>\n",
       "      <th>4944</th>\n",
       "      <td>Willow</td>\n",
       "      <td>Jasmine Thompson</td>\n",
       "      <td>4</td>\n",
       "    </tr>\n",
       "    <tr>\n",
       "      <th>...</th>\n",
       "      <td>...</td>\n",
       "      <td>...</td>\n",
       "      <td>...</td>\n",
       "    </tr>\n",
       "    <tr>\n",
       "      <th>3670</th>\n",
       "      <td>Save My Heart</td>\n",
       "      <td>Jason Reeves</td>\n",
       "      <td>13</td>\n",
       "    </tr>\n",
       "    <tr>\n",
       "      <th>3361</th>\n",
       "      <td>Perfect / Can’t Help Falling in Love</td>\n",
       "      <td>Joey Stamper</td>\n",
       "      <td>1</td>\n",
       "    </tr>\n",
       "    <tr>\n",
       "      <th>2101</th>\n",
       "      <td>I Would Die 4 U</td>\n",
       "      <td>Noah Guthrie</td>\n",
       "      <td>12</td>\n",
       "    </tr>\n",
       "    <tr>\n",
       "      <th>248</th>\n",
       "      <td>Animal (10th Anniversary Edition) - Acoustic</td>\n",
       "      <td>Neon Trees</td>\n",
       "      <td>1</td>\n",
       "    </tr>\n",
       "    <tr>\n",
       "      <th>1101</th>\n",
       "      <td>Easy Rider</td>\n",
       "      <td>Eddie Berman</td>\n",
       "      <td>5</td>\n",
       "    </tr>\n",
       "  </tbody>\n",
       "</table>\n",
       "<p>100 rows × 3 columns</p>\n",
       "</div>"
      ],
      "text/plain": [
       "                                         trackName           artistName  count\n",
       "4589                       Trying to Kill the Moon           Motherfolk      5\n",
       "1538                                     God Knows           Cody Johns      3\n",
       "315                                      Avalanche  Handsome and Gretyl      1\n",
       "297                                  Asthma Attack           NOAHFINNCE      2\n",
       "4944                                        Willow     Jasmine Thompson      4\n",
       "...                                            ...                  ...    ...\n",
       "3670                                 Save My Heart         Jason Reeves     13\n",
       "3361          Perfect / Can’t Help Falling in Love         Joey Stamper      1\n",
       "2101                               I Would Die 4 U         Noah Guthrie     12\n",
       "248   Animal (10th Anniversary Edition) - Acoustic           Neon Trees      1\n",
       "1101                                    Easy Rider         Eddie Berman      5\n",
       "\n",
       "[100 rows x 3 columns]"
      ]
     },
     "execution_count": 8,
     "metadata": {},
     "output_type": "execute_result"
    }
   ],
   "source": [
    "counts = listening.query('msPlayed >= 3000').groupby(by=['trackName', 'artistName']).size().reset_index()\n",
    "counts = counts.rename(columns={0: 'count'}).sample(n=100, random_state=42)#.query('count >= 5').sort_values('count', ascending=False) # either listened to >5 times or top x songs or random x songs\n",
    "counts#.to_csv('grouped.csv')"
   ]
  },
  {
   "cell_type": "code",
   "execution_count": 11,
   "metadata": {},
   "outputs": [
    {
     "data": {
      "text/plain": [
       "4589    (a, spotify:track:5UNC7SQ2z5pnspx4UwyF0O)\n",
       "1538    (a, spotify:track:6FVfcowRmpcW4BJWjKdF5F)\n",
       "315     (a, spotify:track:0Kyxsaxjph9rfEru2uXIGu)\n",
       "297     (a, spotify:track:32V5fBS9jewKqQKj2UYdiI)\n",
       "4944    (a, spotify:track:0DR1MJq6bTWF8pQa0JmgKS)\n",
       "                          ...                    \n",
       "3670    (a, spotify:track:315Tq9xJDQHgxWwSxFbi5e)\n",
       "3361    (a, spotify:track:0G82D1vFi3D7Zv1KQWA1Kz)\n",
       "2101    (a, spotify:track:1OXpBGZIPlJfoj7lpn3Vhx)\n",
       "248     (a, spotify:track:0ZXSZYdrNLu2hciAxcp3ml)\n",
       "1101    (a, spotify:track:16bjzffqGoXKFQ5DYJlsxU)\n",
       "Length: 100, dtype: object"
      ]
     },
     "execution_count": 11,
     "metadata": {},
     "output_type": "execute_result"
    }
   ],
   "source": [
    "# sp = spotipy.Spotify(auth='TOKEN')\n",
    "a = SpotifyClientCredentials()\n",
    "sp = spotipy.Spotify(client_credentials_manager=a)\n",
    "a = sp.search(q='artist:' + 'Plain White T\\'s' + ' track:' + 'Hey There Delilah', type='track')\n",
    "a['tracks']['items'][0]['uri']\n",
    "def find_id(song):\n",
    "    # print(song)\n",
    "    try:\n",
    "        song_dict = sp.search(q='artist:' + song[1] + ' track:' + song[0], type='track')\n",
    "        song_uri = song_dict['tracks']['items'][0]['uri']\n",
    "    except:\n",
    "        song_uri = 'DNE'\n",
    "    return song_uri\n",
    "counts_with_id = counts[['trackName', 'artistName']].apply(find_id, axis=1)\n",
    "counts_with_id"
   ]
  },
  {
   "cell_type": "code",
   "execution_count": 10,
   "metadata": {},
   "outputs": [],
   "source": [
    "counts['trackid'] = counts_with_id\n",
    "counts.to_csv('tracks_with_id.csv')\n"
   ]
  },
  {
   "cell_type": "markdown",
   "metadata": {},
   "source": [
    "### Part 3: Analyzing the Data\n",
    "#### PCA/plot/etc, figuring out what matters most in a song, what makes a song similar to another?"
   ]
  },
  {
   "cell_type": "code",
   "execution_count": null,
   "metadata": {},
   "outputs": [],
   "source": []
  },
  {
   "cell_type": "markdown",
   "metadata": {},
   "source": [
    "### Part 3: Loading in a playlist and comparing it to other songs in the playlist\n",
    "#### Read in, PCA, plot with colors"
   ]
  },
  {
   "cell_type": "code",
   "execution_count": null,
   "metadata": {},
   "outputs": [],
   "source": []
  },
  {
   "cell_type": "markdown",
   "metadata": {},
   "source": [
    "### Part 4: Selecting additional relevant songs for playlist\n",
    "#### Find most similar ones to playlist songs"
   ]
  },
  {
   "cell_type": "code",
   "execution_count": null,
   "metadata": {},
   "outputs": [],
   "source": []
  }
 ],
 "metadata": {
  "kernelspec": {
   "display_name": "Python 3",
   "language": "python",
   "name": "python3"
  },
  "language_info": {
   "codemirror_mode": {
    "name": "ipython",
    "version": 3
   },
   "file_extension": ".py",
   "mimetype": "text/x-python",
   "name": "python",
   "nbconvert_exporter": "python",
   "pygments_lexer": "ipython3",
   "version": "3.10.11"
  },
  "orig_nbformat": 4
 },
 "nbformat": 4,
 "nbformat_minor": 2
}
